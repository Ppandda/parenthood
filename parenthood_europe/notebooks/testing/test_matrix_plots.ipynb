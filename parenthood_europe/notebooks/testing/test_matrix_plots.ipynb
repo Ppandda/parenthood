{
 "cells": [
  {
   "cell_type": "markdown",
   "metadata": {},
   "source": [
    "# Imports and Setups"
   ]
  },
  {
   "cell_type": "code",
   "execution_count": 23,
   "metadata": {},
   "outputs": [],
   "source": [
    "import plotly.express as px\n",
    "import plotly.io as pio\n",
    "\n",
    "#pio.renderers.default = \"iframe_connected\"\n",
    "pio.renderers.default = \"vscode\"\n"
   ]
  },
  {
   "cell_type": "code",
   "execution_count": 24,
   "metadata": {},
   "outputs": [],
   "source": [
    "from pathlib import Path\n",
    "import sys\n",
    "\n",
    "# Go two levels up: from notebooks/ -> parenthood_europe/ -> CodingProjects/\n",
    "project_root = Path().resolve().parents[1]\n",
    "sys.path.insert(0, str(project_root))\n",
    "sys.path.append (str(project_root)+\"/libs\")\n"
   ]
  },
  {
   "cell_type": "code",
   "execution_count": 25,
   "metadata": {},
   "outputs": [
    {
     "data": {
      "text/plain": [
       "[PosixPath('/Users/Paula_1/CodingProjects/parenthood/parenthood_europe/notebooks'),\n",
       " PosixPath('/Users/Paula_1/CodingProjects/parenthood/parenthood_europe'),\n",
       " PosixPath('/Users/Paula_1/CodingProjects/parenthood'),\n",
       " PosixPath('/Users/Paula_1/CodingProjects'),\n",
       " PosixPath('/Users/Paula_1'),\n",
       " PosixPath('/Users'),\n",
       " PosixPath('/')]"
      ]
     },
     "execution_count": 25,
     "metadata": {},
     "output_type": "execute_result"
    }
   ],
   "source": [
    "list(Path().resolve().parents)\n"
   ]
  },
  {
   "cell_type": "code",
   "execution_count": 26,
   "metadata": {},
   "outputs": [
    {
     "data": {
      "text/plain": [
       "'/Users/Paula_1/CodingProjects/parenthood/parenthood_europe/libs'"
      ]
     },
     "execution_count": 26,
     "metadata": {},
     "output_type": "execute_result"
    }
   ],
   "source": [
    "(str(project_root)+\"/libs\")\n"
   ]
  },
  {
   "cell_type": "code",
   "execution_count": 27,
   "metadata": {},
   "outputs": [],
   "source": [
    "from scripts.parse_survey_data import load_survey_data, load_survey_data_and_meta\n",
    "from libs.questions.numeric import NumericQuestion\n",
    "from libs.questions.single_choice import SingleChoiceQuestion\n",
    "from libs.questions.multiple_choice import MultipleChoiceQuestion\n",
    "from libs.questions.matrix import MatrixQuestion"
   ]
  },
  {
   "cell_type": "code",
   "execution_count": 28,
   "metadata": {},
   "outputs": [
    {
     "name": "stdout",
     "output_type": "stream",
     "text": [
      "Current working directory: /Users/Paula_1/CodingProjects/parenthood/parenthood_europe/notebooks/testing\n"
     ]
    }
   ],
   "source": [
    "from pathlib import Path\n",
    "print(\"Current working directory:\", Path().resolve())\n"
   ]
  },
  {
   "cell_type": "markdown",
   "metadata": {},
   "source": [
    "# Data"
   ]
  },
  {
   "cell_type": "code",
   "execution_count": 21,
   "metadata": {},
   "outputs": [],
   "source": [
    "df, meta = load_survey_data_and_meta(file_path=\"../../data/data_classified_by_question_type/parenthood_test_QMatrix.xlsx\")"
   ]
  },
  {
   "cell_type": "markdown",
   "metadata": {},
   "source": [
    "### want to check PL2"
   ]
  },
  {
   "cell_type": "code",
   "execution_count": 9,
   "metadata": {},
   "outputs": [
    {
     "data": {
      "text/html": [
       "<div>\n",
       "<style scoped>\n",
       "    .dataframe tbody tr th:only-of-type {\n",
       "        vertical-align: middle;\n",
       "    }\n",
       "\n",
       "    .dataframe tbody tr th {\n",
       "        vertical-align: top;\n",
       "    }\n",
       "\n",
       "    .dataframe thead th {\n",
       "        text-align: right;\n",
       "    }\n",
       "</style>\n",
       "<table border=\"1\" class=\"dataframe\">\n",
       "  <thead>\n",
       "    <tr style=\"text-align: right;\">\n",
       "      <th></th>\n",
       "      <th>ResponseId</th>\n",
       "      <th>DE13c</th>\n",
       "      <th>DE13c_1_TEXT</th>\n",
       "      <th>DE13c_2_TEXT</th>\n",
       "      <th>DE13c_3_TEXT</th>\n",
       "      <th>DE13c_4_TEXT</th>\n",
       "      <th>DE13c_5_TEXT</th>\n",
       "      <th>DE13c_6_TEXT</th>\n",
       "      <th>DE13c_7_TEXT</th>\n",
       "      <th>DE14_1</th>\n",
       "      <th>...</th>\n",
       "      <th>LA2</th>\n",
       "      <th>LA3</th>\n",
       "      <th>LA4a</th>\n",
       "      <th>LA4b</th>\n",
       "      <th>C1</th>\n",
       "      <th>C1_3_TEXT</th>\n",
       "      <th>C1_4_TEXT</th>\n",
       "      <th>C1_5_TEXT</th>\n",
       "      <th>C2</th>\n",
       "      <th>gender</th>\n",
       "    </tr>\n",
       "  </thead>\n",
       "  <tbody>\n",
       "    <tr>\n",
       "      <th>0</th>\n",
       "      <td>R_2jpMi7QsRScengv</td>\n",
       "      <td>NaN</td>\n",
       "      <td>NaN</td>\n",
       "      <td>NaN</td>\n",
       "      <td>NaN</td>\n",
       "      <td>NaN</td>\n",
       "      <td>NaN</td>\n",
       "      <td>NaN</td>\n",
       "      <td>NaN</td>\n",
       "      <td>1</td>\n",
       "      <td>...</td>\n",
       "      <td>NaN</td>\n",
       "      <td>NaN</td>\n",
       "      <td>NaN</td>\n",
       "      <td>NaN</td>\n",
       "      <td>NaN</td>\n",
       "      <td>NaN</td>\n",
       "      <td>NaN</td>\n",
       "      <td>NaN</td>\n",
       "      <td>NaN</td>\n",
       "      <td>Woman</td>\n",
       "    </tr>\n",
       "    <tr>\n",
       "      <th>1</th>\n",
       "      <td>R_4ScOupmxBzBk7dL</td>\n",
       "      <td>NaN</td>\n",
       "      <td>NaN</td>\n",
       "      <td>NaN</td>\n",
       "      <td>NaN</td>\n",
       "      <td>NaN</td>\n",
       "      <td>NaN</td>\n",
       "      <td>NaN</td>\n",
       "      <td>NaN</td>\n",
       "      <td>2</td>\n",
       "      <td>...</td>\n",
       "      <td>NaN</td>\n",
       "      <td>NaN</td>\n",
       "      <td>NaN</td>\n",
       "      <td>NaN</td>\n",
       "      <td>1</td>\n",
       "      <td>NaN</td>\n",
       "      <td>NaN</td>\n",
       "      <td>NaN</td>\n",
       "      <td>NaN</td>\n",
       "      <td>Man</td>\n",
       "    </tr>\n",
       "    <tr>\n",
       "      <th>2</th>\n",
       "      <td>R_77h3lBm8zYTS5a1</td>\n",
       "      <td>NaN</td>\n",
       "      <td>NaN</td>\n",
       "      <td>NaN</td>\n",
       "      <td>NaN</td>\n",
       "      <td>NaN</td>\n",
       "      <td>NaN</td>\n",
       "      <td>NaN</td>\n",
       "      <td>NaN</td>\n",
       "      <td>1</td>\n",
       "      <td>...</td>\n",
       "      <td>3</td>\n",
       "      <td>3</td>\n",
       "      <td>The path demands significant sacrifices, espec...</td>\n",
       "      <td>NaN</td>\n",
       "      <td>1</td>\n",
       "      <td>NaN</td>\n",
       "      <td>NaN</td>\n",
       "      <td>NaN</td>\n",
       "      <td>The questions about # of papers expected or pr...</td>\n",
       "      <td>Woman</td>\n",
       "    </tr>\n",
       "    <tr>\n",
       "      <th>3</th>\n",
       "      <td>R_2V4kjf4gOQNH6EL</td>\n",
       "      <td>1,2,3,4</td>\n",
       "      <td>15</td>\n",
       "      <td>224</td>\n",
       "      <td>9</td>\n",
       "      <td>8</td>\n",
       "      <td>NaN</td>\n",
       "      <td>NaN</td>\n",
       "      <td>NaN</td>\n",
       "      <td>1</td>\n",
       "      <td>...</td>\n",
       "      <td>4</td>\n",
       "      <td>4</td>\n",
       "      <td>NaN</td>\n",
       "      <td>NaN</td>\n",
       "      <td>1</td>\n",
       "      <td>NaN</td>\n",
       "      <td>NaN</td>\n",
       "      <td>NaN</td>\n",
       "      <td>NaN</td>\n",
       "      <td>Woman</td>\n",
       "    </tr>\n",
       "    <tr>\n",
       "      <th>4</th>\n",
       "      <td>R_2tWf358NIjM0gSd</td>\n",
       "      <td>NaN</td>\n",
       "      <td>NaN</td>\n",
       "      <td>NaN</td>\n",
       "      <td>NaN</td>\n",
       "      <td>NaN</td>\n",
       "      <td>NaN</td>\n",
       "      <td>NaN</td>\n",
       "      <td>NaN</td>\n",
       "      <td>NaN</td>\n",
       "      <td>...</td>\n",
       "      <td>NaN</td>\n",
       "      <td>NaN</td>\n",
       "      <td>NaN</td>\n",
       "      <td>NaN</td>\n",
       "      <td>NaN</td>\n",
       "      <td>NaN</td>\n",
       "      <td>NaN</td>\n",
       "      <td>NaN</td>\n",
       "      <td>NaN</td>\n",
       "      <td>NaN</td>\n",
       "    </tr>\n",
       "  </tbody>\n",
       "</table>\n",
       "<p>5 rows × 252 columns</p>\n",
       "</div>"
      ],
      "text/plain": [
       "          ResponseId    DE13c DE13c_1_TEXT DE13c_2_TEXT DE13c_3_TEXT  \\\n",
       "0  R_2jpMi7QsRScengv      NaN          NaN          NaN          NaN   \n",
       "1  R_4ScOupmxBzBk7dL      NaN          NaN          NaN          NaN   \n",
       "2  R_77h3lBm8zYTS5a1      NaN          NaN          NaN          NaN   \n",
       "3  R_2V4kjf4gOQNH6EL  1,2,3,4           15          224            9   \n",
       "4  R_2tWf358NIjM0gSd      NaN          NaN          NaN          NaN   \n",
       "\n",
       "  DE13c_4_TEXT DE13c_5_TEXT DE13c_6_TEXT DE13c_7_TEXT DE14_1  ...  LA2  LA3  \\\n",
       "0          NaN          NaN          NaN          NaN      1  ...  NaN  NaN   \n",
       "1          NaN          NaN          NaN          NaN      2  ...  NaN  NaN   \n",
       "2          NaN          NaN          NaN          NaN      1  ...    3    3   \n",
       "3            8          NaN          NaN          NaN      1  ...    4    4   \n",
       "4          NaN          NaN          NaN          NaN    NaN  ...  NaN  NaN   \n",
       "\n",
       "                                                LA4a LA4b   C1 C1_3_TEXT  \\\n",
       "0                                                NaN  NaN  NaN       NaN   \n",
       "1                                                NaN  NaN    1       NaN   \n",
       "2  The path demands significant sacrifices, espec...  NaN    1       NaN   \n",
       "3                                                NaN  NaN    1       NaN   \n",
       "4                                                NaN  NaN  NaN       NaN   \n",
       "\n",
       "  C1_4_TEXT C1_5_TEXT                                                 C2  \\\n",
       "0       NaN       NaN                                                NaN   \n",
       "1       NaN       NaN                                                NaN   \n",
       "2       NaN       NaN  The questions about # of papers expected or pr...   \n",
       "3       NaN       NaN                                                NaN   \n",
       "4       NaN       NaN                                                NaN   \n",
       "\n",
       "  gender  \n",
       "0  Woman  \n",
       "1    Man  \n",
       "2  Woman  \n",
       "3  Woman  \n",
       "4    NaN  \n",
       "\n",
       "[5 rows x 252 columns]"
      ]
     },
     "metadata": {},
     "output_type": "display_data"
    },
    {
     "data": {
      "text/plain": [
       "{'ResponseId': 'Response ID',\n",
       " 'DE13c': 'We acknowledge your privacy considerations. Would you be willing to share\\nat least the following metrics regarding your academic advancement? This\\nallows us to gain insights into your academic standing and accomplishments\\nwithout directly connecting them to your personal information. You may use\\nthe statistics shown in any of your academic profiles, e.g., Google Scholar, Research Gate, Web of Science, Scopus, ORCID, or OpenAlex.\\n\\nThank you. - Selected Choice',\n",
       " 'DE13c_1_TEXT': 'We acknowledge your privacy considerations. Would you be willing to share\\nat least the following metrics regarding your academic advancement? This\\nallows us to gain insights into your academic standing and accomplishments\\nwithout directly connecting them to your personal information. You may use\\nthe statistics shown in any of your academic profiles, e.g., Google Scholar, Research Gate, Web of Science, Scopus, ORCID, or OpenAlex.\\n\\nThank you. - Total number of publications - Text',\n",
       " 'DE13c_2_TEXT': 'We acknowledge your privacy considerations. Would you be willing to share\\nat least the following metrics regarding your academic advancement? This\\nallows us to gain insights into your academic standing and accomplishments\\nwithout directly connecting them to your personal information. You may use\\nthe statistics shown in any of your academic profiles, e.g., Google Scholar, Research Gate, Web of Science, Scopus, ORCID, or OpenAlex.\\n\\nThank you. - Total number of citations - Text',\n",
       " 'DE13c_3_TEXT': 'We acknowledge your privacy considerations. Would you be willing to share\\nat least the following metrics regarding your academic advancement? This\\nallows us to gain insights into your academic standing and accomplishments\\nwithout directly connecting them to your personal information. You may use\\nthe statistics shown in any of your academic profiles, e.g., Google Scholar, Research Gate, Web of Science, Scopus, ORCID, or OpenAlex.\\n\\nThank you. - h-index - Text',\n",
       " 'DE13c_4_TEXT': 'We acknowledge your privacy considerations. Would you be willing to share\\nat least the following metrics regarding your academic advancement? This\\nallows us to gain insights into your academic standing and accomplishments\\nwithout directly connecting them to your personal information. You may use\\nthe statistics shown in any of your academic profiles, e.g., Google Scholar, Research Gate, Web of Science, Scopus, ORCID, or OpenAlex.\\n\\nThank you. - i10-index - Text',\n",
       " 'DE13c_5_TEXT': 'We acknowledge your privacy considerations. Would you be willing to share\\nat least the following metrics regarding your academic advancement? This\\nallows us to gain insights into your academic standing and accomplishments\\nwithout directly connecting them to your personal information. You may use\\nthe statistics shown in any of your academic profiles, e.g., Google Scholar, Research Gate, Web of Science, Scopus, ORCID, or OpenAlex.\\n\\nThank you. - Total number of unique collaborators (co-authors) - Text',\n",
       " 'DE13c_6_TEXT': 'We acknowledge your privacy considerations. Would you be willing to share\\nat least the following metrics regarding your academic advancement? This\\nallows us to gain insights into your academic standing and accomplishments\\nwithout directly connecting them to your personal information. You may use\\nthe statistics shown in any of your academic profiles, e.g., Google Scholar, Research Gate, Web of Science, Scopus, ORCID, or OpenAlex.\\n\\nThank you. - Research Interest Score (Research Gate) - Text',\n",
       " 'DE13c_7_TEXT': 'We acknowledge your privacy considerations. Would you be willing to share\\nat least the following metrics regarding your academic advancement? This\\nallows us to gain insights into your academic standing and accomplishments\\nwithout directly connecting them to your personal information. You may use\\nthe statistics shown in any of your academic profiles, e.g., Google Scholar, Research Gate, Web of Science, Scopus, ORCID, or OpenAlex.\\n\\nThank you. - Total number of awarded grants - Text',\n",
       " 'DE14_1': 'What is the gender identity of your parents? - Parent 1',\n",
       " 'DE14_2': 'What is the gender identity of your parents? - Parent 2',\n",
       " 'DE15_1': 'What is the highest level of education of your parents? - Parent 1',\n",
       " 'DE15_2': 'What is the highest level of education of your parents? - Parent 2',\n",
       " 'DE16_1': 'What best describes the employment status of your parents during all or most of the first 18 years of your life? - Parent 1',\n",
       " 'DE16_2': 'What best describes the employment status of your parents during all or most of the first 18 years of your life? - Parent 2',\n",
       " 'DE23_1_1': 'When and where was/were your child/ren born? - Year (YYYY) - First child',\n",
       " 'DE23_2_1': 'When and where was/were your child/ren born? - Year (YYYY) - Second child',\n",
       " 'DE23_3_1': 'When and where was/were your child/ren born? - Year (YYYY) - Third child',\n",
       " 'DE23_4_1': 'When and where was/were your child/ren born? - Year (YYYY) - Fourth child',\n",
       " 'DE23_5_1': 'When and where was/were your child/ren born? - Year (YYYY) - Fifth child',\n",
       " 'DE23_6_1': 'When and where was/were your child/ren born? - Year (YYYY) - Sixth child',\n",
       " 'DE23_7_1': 'When and where was/were your child/ren born? - Year (YYYY) - Seventh child',\n",
       " 'DE23_8_1': 'When and where was/were your child/ren born? - Year (YYYY) - Eight child',\n",
       " 'DE23_9_1': 'When and where was/were your child/ren born? - Year (YYYY) - Ninth child',\n",
       " 'DE23_10_1': 'When and where was/were your child/ren born? - Year (YYYY) - Tenth child (If you have more than 10 kids, please consider the youngest)',\n",
       " 'DE23_1_2': 'When and where was/were your child/ren born? - Country - First child',\n",
       " 'DE23_2_2': 'When and where was/were your child/ren born? - Country - Second child',\n",
       " 'DE23_3_2': 'When and where was/were your child/ren born? - Country - Third child',\n",
       " 'DE23_4_2': 'When and where was/were your child/ren born? - Country - Fourth child',\n",
       " 'DE23_5_2': 'When and where was/were your child/ren born? - Country - Fifth child',\n",
       " 'DE23_6_2': 'When and where was/were your child/ren born? - Country - Sixth child',\n",
       " 'DE23_7_2': 'When and where was/were your child/ren born? - Country - Seventh child',\n",
       " 'DE23_8_2': 'When and where was/were your child/ren born? - Country - Eight child',\n",
       " 'DE23_9_2': 'When and where was/were your child/ren born? - Country - Ninth child',\n",
       " 'DE23_10_2': 'When and where was/were your child/ren born? - Country - Tenth child (If you have more than 10 kids, please consider the youngest)',\n",
       " 'PL1_1': 'Does your current institution offer paid parental leave to academics of your same legal gender? \\nPlease, consider your current institution, or If you have left academia, the one you were associated with then. - PhD. students',\n",
       " 'PL1_2': 'Does your current institution offer paid parental leave to academics of your same legal gender? \\nPlease, consider your current institution, or If you have left academia, the one you were associated with then. - Postdocs',\n",
       " 'PL1_3': 'Does your current institution offer paid parental leave to academics of your same legal gender? \\nPlease, consider your current institution, or If you have left academia, the one you were associated with then. - Faculty (untenured)',\n",
       " 'PL1_4': 'Does your current institution offer paid parental leave to academics of your same legal gender? \\nPlease, consider your current institution, or If you have left academia, the one you were associated with then. - Faculty (tenure-track)',\n",
       " 'PL1_5': 'Does your current institution offer paid parental leave to academics of your same legal gender? \\nPlease, consider your current institution, or If you have left academia, the one you were associated with then. - Faculty (tenured)',\n",
       " 'PL2_1_1': \"How long is the total paid parental leave for academics of your same legal gender? For your convenience, you can answer in a time unit of your choosing (weeks, months, quarters, semesters). Please fill out at most one field for each academic, and use numeric digits. If you don't know, please skip the question. - PhD. students - weeks\",\n",
       " 'PL2_1_2': \"How long is the total paid parental leave for academics of your same legal gender? For your convenience, you can answer in a time unit of your choosing (weeks, months, quarters, semesters). Please fill out at most one field for each academic, and use numeric digits. If you don't know, please skip the question. - PhD. students - months\",\n",
       " 'PL2_1_3': \"How long is the total paid parental leave for academics of your same legal gender? For your convenience, you can answer in a time unit of your choosing (weeks, months, quarters, semesters). Please fill out at most one field for each academic, and use numeric digits. If you don't know, please skip the question. - PhD. students - quarters\",\n",
       " 'PL2_1_4': \"How long is the total paid parental leave for academics of your same legal gender? For your convenience, you can answer in a time unit of your choosing (weeks, months, quarters, semesters). Please fill out at most one field for each academic, and use numeric digits. If you don't know, please skip the question. - PhD. students - semesters\",\n",
       " 'PL2_2_1': \"How long is the total paid parental leave for academics of your same legal gender? For your convenience, you can answer in a time unit of your choosing (weeks, months, quarters, semesters). Please fill out at most one field for each academic, and use numeric digits. If you don't know, please skip the question. - Postdocs - weeks\",\n",
       " 'PL2_2_2': \"How long is the total paid parental leave for academics of your same legal gender? For your convenience, you can answer in a time unit of your choosing (weeks, months, quarters, semesters). Please fill out at most one field for each academic, and use numeric digits. If you don't know, please skip the question. - Postdocs - months\",\n",
       " 'PL2_2_3': \"How long is the total paid parental leave for academics of your same legal gender? For your convenience, you can answer in a time unit of your choosing (weeks, months, quarters, semesters). Please fill out at most one field for each academic, and use numeric digits. If you don't know, please skip the question. - Postdocs - quarters\",\n",
       " 'PL2_2_4': \"How long is the total paid parental leave for academics of your same legal gender? For your convenience, you can answer in a time unit of your choosing (weeks, months, quarters, semesters). Please fill out at most one field for each academic, and use numeric digits. If you don't know, please skip the question. - Postdocs - semesters\",\n",
       " 'PL2_3_1': \"How long is the total paid parental leave for academics of your same legal gender? For your convenience, you can answer in a time unit of your choosing (weeks, months, quarters, semesters). Please fill out at most one field for each academic, and use numeric digits. If you don't know, please skip the question. - Faculty (untenured) - weeks\",\n",
       " 'PL2_3_2': \"How long is the total paid parental leave for academics of your same legal gender? For your convenience, you can answer in a time unit of your choosing (weeks, months, quarters, semesters). Please fill out at most one field for each academic, and use numeric digits. If you don't know, please skip the question. - Faculty (untenured) - months\",\n",
       " 'PL2_3_3': \"How long is the total paid parental leave for academics of your same legal gender? For your convenience, you can answer in a time unit of your choosing (weeks, months, quarters, semesters). Please fill out at most one field for each academic, and use numeric digits. If you don't know, please skip the question. - Faculty (untenured) - quarters\",\n",
       " 'PL2_3_4': \"How long is the total paid parental leave for academics of your same legal gender? For your convenience, you can answer in a time unit of your choosing (weeks, months, quarters, semesters). Please fill out at most one field for each academic, and use numeric digits. If you don't know, please skip the question. - Faculty (untenured) - semesters\",\n",
       " 'PL2_4_1': \"How long is the total paid parental leave for academics of your same legal gender? For your convenience, you can answer in a time unit of your choosing (weeks, months, quarters, semesters). Please fill out at most one field for each academic, and use numeric digits. If you don't know, please skip the question. - Faculty (tenure-track) - weeks\",\n",
       " 'PL2_4_2': \"How long is the total paid parental leave for academics of your same legal gender? For your convenience, you can answer in a time unit of your choosing (weeks, months, quarters, semesters). Please fill out at most one field for each academic, and use numeric digits. If you don't know, please skip the question. - Faculty (tenure-track) - months\",\n",
       " 'PL2_4_3': \"How long is the total paid parental leave for academics of your same legal gender? For your convenience, you can answer in a time unit of your choosing (weeks, months, quarters, semesters). Please fill out at most one field for each academic, and use numeric digits. If you don't know, please skip the question. - Faculty (tenure-track) - quarters\",\n",
       " 'PL2_4_4': \"How long is the total paid parental leave for academics of your same legal gender? For your convenience, you can answer in a time unit of your choosing (weeks, months, quarters, semesters). Please fill out at most one field for each academic, and use numeric digits. If you don't know, please skip the question. - Faculty (tenure-track) - semesters\",\n",
       " 'PL2_5_1': \"How long is the total paid parental leave for academics of your same legal gender? For your convenience, you can answer in a time unit of your choosing (weeks, months, quarters, semesters). Please fill out at most one field for each academic, and use numeric digits. If you don't know, please skip the question. - Faculty (tenured) - weeks\",\n",
       " 'PL2_5_2': \"How long is the total paid parental leave for academics of your same legal gender? For your convenience, you can answer in a time unit of your choosing (weeks, months, quarters, semesters). Please fill out at most one field for each academic, and use numeric digits. If you don't know, please skip the question. - Faculty (tenured) - months\",\n",
       " 'PL2_5_3': \"How long is the total paid parental leave for academics of your same legal gender? For your convenience, you can answer in a time unit of your choosing (weeks, months, quarters, semesters). Please fill out at most one field for each academic, and use numeric digits. If you don't know, please skip the question. - Faculty (tenured) - quarters\",\n",
       " 'PL2_5_4': \"How long is the total paid parental leave for academics of your same legal gender? For your convenience, you can answer in a time unit of your choosing (weeks, months, quarters, semesters). Please fill out at most one field for each academic, and use numeric digits. If you don't know, please skip the question. - Faculty (tenured) - semesters\",\n",
       " 'PL4_1_1_1': 'How long do you think paid parental leave should be, in months? Please answer in numeric digits f... - maternal\\n\\n(mother) - PhD. students - Answer 1',\n",
       " 'PL4_2_1_1': 'How long do you think paid parental leave should be, in months? Please answer in numeric digits f... - maternal\\n\\n(mother) - Postdocs - Answer 1',\n",
       " 'PL4_3_1_1': 'How long do you think paid parental leave should be, in months? Please answer in numeric digits f... - maternal\\n\\n(mother) - Professors - Answer 1',\n",
       " 'PL4_1_2_1': 'How long do you think paid parental leave should be, in months? Please answer in numeric digits f... - paternal\\n\\n(father) - PhD. students - Answer 1',\n",
       " 'PL4_2_2_1': 'How long do you think paid parental leave should be, in months? Please answer in numeric digits f... - paternal\\n\\n(father) - Postdocs - Answer 1',\n",
       " 'PL4_3_2_1': 'How long do you think paid parental leave should be, in months? Please answer in numeric digits f... - paternal\\n\\n(father) - Professors - Answer 1',\n",
       " 'Unnamed: 66': np.float64(nan),\n",
       " 'PL6_1': 'For the children for which you were eligible to take parental leave: did you take the leave? If yes, did you do any work\\xad related activities during that time? - Your 1st child',\n",
       " 'PL6_2': 'For the children for which you were eligible to take parental leave: did you take the leave? If yes, did you do any work\\xad related activities during that time? - Your 2nd child',\n",
       " 'PL6_3': 'For the children for which you were eligible to take parental leave: did you take the leave? If yes, did you do any work\\xad related activities during that time? - Your 3rd child',\n",
       " 'PL6_4': 'For the children for which you were eligible to take parental leave: did you take the leave? If yes, did you do any work\\xad related activities during that time? - Your 4th child',\n",
       " 'PL6_5': 'For the children for which you were eligible to take parental leave: did you take the leave? If yes, did you do any work\\xad related activities during that time? - Your 5th child',\n",
       " 'PL6_6': 'For the children for which you were eligible to take parental leave: did you take the leave? If yes, did you do any work\\xad related activities during that time? - Your 6th child',\n",
       " 'PL6_7': 'For the children for which you were eligible to take parental leave: did you take the leave? If yes, did you do any work\\xad related activities during that time? - Your 7th child',\n",
       " 'PL6_8': 'For the children for which you were eligible to take parental leave: did you take the leave? If yes, did you do any work\\xad related activities during that time? - Your 8th child',\n",
       " 'PL6_9': 'For the children for which you were eligible to take parental leave: did you take the leave? If yes, did you do any work\\xad related activities during that time? - Your 9th child',\n",
       " 'PL6_10': 'For the children for which you were eligible to take parental leave: did you take the leave? If yes, did you do any work\\xad related activities during that time? - Your 10th child (if you have more than 10 kids, please consider the youngest)',\n",
       " 'PL7_1_1': 'For each child for whom you took parental leave, please specify the duration of the leave. For your convenience, you can answer in a time unit of your choosing (weeks, months, quarters, semesters). Please fill out at most one field for each child, and use numeric digits. - Your 1st child  - weeks',\n",
       " 'PL7_1_2': 'For each child for whom you took parental leave, please specify the duration of the leave. For your convenience, you can answer in a time unit of your choosing (weeks, months, quarters, semesters). Please fill out at most one field for each child, and use numeric digits. - Your 1st child  - months',\n",
       " 'PL7_1_3': 'For each child for whom you took parental leave, please specify the duration of the leave. For your convenience, you can answer in a time unit of your choosing (weeks, months, quarters, semesters). Please fill out at most one field for each child, and use numeric digits. - Your 1st child  - quarters',\n",
       " 'PL7_1_4': 'For each child for whom you took parental leave, please specify the duration of the leave. For your convenience, you can answer in a time unit of your choosing (weeks, months, quarters, semesters). Please fill out at most one field for each child, and use numeric digits. - Your 1st child  - semesters',\n",
       " 'PL7_2_1': 'For each child for whom you took parental leave, please specify the duration of the leave. For your convenience, you can answer in a time unit of your choosing (weeks, months, quarters, semesters). Please fill out at most one field for each child, and use numeric digits. - Your 2nd child  - weeks',\n",
       " 'PL7_2_2': 'For each child for whom you took parental leave, please specify the duration of the leave. For your convenience, you can answer in a time unit of your choosing (weeks, months, quarters, semesters). Please fill out at most one field for each child, and use numeric digits. - Your 2nd child  - months',\n",
       " 'PL7_2_3': 'For each child for whom you took parental leave, please specify the duration of the leave. For your convenience, you can answer in a time unit of your choosing (weeks, months, quarters, semesters). Please fill out at most one field for each child, and use numeric digits. - Your 2nd child  - quarters',\n",
       " 'PL7_2_4': 'For each child for whom you took parental leave, please specify the duration of the leave. For your convenience, you can answer in a time unit of your choosing (weeks, months, quarters, semesters). Please fill out at most one field for each child, and use numeric digits. - Your 2nd child  - semesters',\n",
       " 'PL7_3_1': 'For each child for whom you took parental leave, please specify the duration of the leave. For your convenience, you can answer in a time unit of your choosing (weeks, months, quarters, semesters). Please fill out at most one field for each child, and use numeric digits. - Your 3rd child  - weeks',\n",
       " 'PL7_3_2': 'For each child for whom you took parental leave, please specify the duration of the leave. For your convenience, you can answer in a time unit of your choosing (weeks, months, quarters, semesters). Please fill out at most one field for each child, and use numeric digits. - Your 3rd child  - months',\n",
       " 'PL7_3_3': 'For each child for whom you took parental leave, please specify the duration of the leave. For your convenience, you can answer in a time unit of your choosing (weeks, months, quarters, semesters). Please fill out at most one field for each child, and use numeric digits. - Your 3rd child  - quarters',\n",
       " 'PL7_3_4': 'For each child for whom you took parental leave, please specify the duration of the leave. For your convenience, you can answer in a time unit of your choosing (weeks, months, quarters, semesters). Please fill out at most one field for each child, and use numeric digits. - Your 3rd child  - semesters',\n",
       " 'PL7_4_1': 'For each child for whom you took parental leave, please specify the duration of the leave. For your convenience, you can answer in a time unit of your choosing (weeks, months, quarters, semesters). Please fill out at most one field for each child, and use numeric digits. - Your 4th child - weeks',\n",
       " 'PL7_4_2': 'For each child for whom you took parental leave, please specify the duration of the leave. For your convenience, you can answer in a time unit of your choosing (weeks, months, quarters, semesters). Please fill out at most one field for each child, and use numeric digits. - Your 4th child - months',\n",
       " 'PL7_4_3': 'For each child for whom you took parental leave, please specify the duration of the leave. For your convenience, you can answer in a time unit of your choosing (weeks, months, quarters, semesters). Please fill out at most one field for each child, and use numeric digits. - Your 4th child - quarters',\n",
       " 'PL7_4_4': 'For each child for whom you took parental leave, please specify the duration of the leave. For your convenience, you can answer in a time unit of your choosing (weeks, months, quarters, semesters). Please fill out at most one field for each child, and use numeric digits. - Your 4th child - semesters',\n",
       " 'PL7_5_1': 'For each child for whom you took parental leave, please specify the duration of the leave. For your convenience, you can answer in a time unit of your choosing (weeks, months, quarters, semesters). Please fill out at most one field for each child, and use numeric digits. - Your 5th child - weeks',\n",
       " 'PL7_5_2': 'For each child for whom you took parental leave, please specify the duration of the leave. For your convenience, you can answer in a time unit of your choosing (weeks, months, quarters, semesters). Please fill out at most one field for each child, and use numeric digits. - Your 5th child - months',\n",
       " 'PL7_5_3': 'For each child for whom you took parental leave, please specify the duration of the leave. For your convenience, you can answer in a time unit of your choosing (weeks, months, quarters, semesters). Please fill out at most one field for each child, and use numeric digits. - Your 5th child - quarters',\n",
       " 'PL7_5_4': 'For each child for whom you took parental leave, please specify the duration of the leave. For your convenience, you can answer in a time unit of your choosing (weeks, months, quarters, semesters). Please fill out at most one field for each child, and use numeric digits. - Your 5th child - semesters',\n",
       " 'PL7_6_1': 'For each child for whom you took parental leave, please specify the duration of the leave. For your convenience, you can answer in a time unit of your choosing (weeks, months, quarters, semesters). Please fill out at most one field for each child, and use numeric digits. - Your 6th child - weeks',\n",
       " 'PL7_6_2': 'For each child for whom you took parental leave, please specify the duration of the leave. For your convenience, you can answer in a time unit of your choosing (weeks, months, quarters, semesters). Please fill out at most one field for each child, and use numeric digits. - Your 6th child - months',\n",
       " 'PL7_6_3': 'For each child for whom you took parental leave, please specify the duration of the leave. For your convenience, you can answer in a time unit of your choosing (weeks, months, quarters, semesters). Please fill out at most one field for each child, and use numeric digits. - Your 6th child - quarters',\n",
       " 'PL7_6_4': 'For each child for whom you took parental leave, please specify the duration of the leave. For your convenience, you can answer in a time unit of your choosing (weeks, months, quarters, semesters). Please fill out at most one field for each child, and use numeric digits. - Your 6th child - semesters',\n",
       " 'PL7_7_1': 'For each child for whom you took parental leave, please specify the duration of the leave. For your convenience, you can answer in a time unit of your choosing (weeks, months, quarters, semesters). Please fill out at most one field for each child, and use numeric digits. - Your 7th child - weeks',\n",
       " 'PL7_7_2': 'For each child for whom you took parental leave, please specify the duration of the leave. For your convenience, you can answer in a time unit of your choosing (weeks, months, quarters, semesters). Please fill out at most one field for each child, and use numeric digits. - Your 7th child - months',\n",
       " 'PL7_7_3': 'For each child for whom you took parental leave, please specify the duration of the leave. For your convenience, you can answer in a time unit of your choosing (weeks, months, quarters, semesters). Please fill out at most one field for each child, and use numeric digits. - Your 7th child - quarters',\n",
       " 'PL7_7_4': 'For each child for whom you took parental leave, please specify the duration of the leave. For your convenience, you can answer in a time unit of your choosing (weeks, months, quarters, semesters). Please fill out at most one field for each child, and use numeric digits. - Your 7th child - semesters',\n",
       " 'PL7_8_1': 'For each child for whom you took parental leave, please specify the duration of the leave. For your convenience, you can answer in a time unit of your choosing (weeks, months, quarters, semesters). Please fill out at most one field for each child, and use numeric digits. - Your 8th child - weeks',\n",
       " 'PL7_8_2': 'For each child for whom you took parental leave, please specify the duration of the leave. For your convenience, you can answer in a time unit of your choosing (weeks, months, quarters, semesters). Please fill out at most one field for each child, and use numeric digits. - Your 8th child - months',\n",
       " 'PL7_8_3': 'For each child for whom you took parental leave, please specify the duration of the leave. For your convenience, you can answer in a time unit of your choosing (weeks, months, quarters, semesters). Please fill out at most one field for each child, and use numeric digits. - Your 8th child - quarters',\n",
       " 'PL7_8_4': 'For each child for whom you took parental leave, please specify the duration of the leave. For your convenience, you can answer in a time unit of your choosing (weeks, months, quarters, semesters). Please fill out at most one field for each child, and use numeric digits. - Your 8th child - semesters',\n",
       " 'PL7_9_1': 'For each child for whom you took parental leave, please specify the duration of the leave. For your convenience, you can answer in a time unit of your choosing (weeks, months, quarters, semesters). Please fill out at most one field for each child, and use numeric digits. - Your 9th child - weeks',\n",
       " 'PL7_9_2': 'For each child for whom you took parental leave, please specify the duration of the leave. For your convenience, you can answer in a time unit of your choosing (weeks, months, quarters, semesters). Please fill out at most one field for each child, and use numeric digits. - Your 9th child - months',\n",
       " 'PL7_9_3': 'For each child for whom you took parental leave, please specify the duration of the leave. For your convenience, you can answer in a time unit of your choosing (weeks, months, quarters, semesters). Please fill out at most one field for each child, and use numeric digits. - Your 9th child - quarters',\n",
       " 'PL7_9_4': 'For each child for whom you took parental leave, please specify the duration of the leave. For your convenience, you can answer in a time unit of your choosing (weeks, months, quarters, semesters). Please fill out at most one field for each child, and use numeric digits. - Your 9th child - semesters',\n",
       " 'PL7_10_1': 'For each child for whom you took parental leave, please specify the duration of the leave. For your convenience, you can answer in a time unit of your choosing (weeks, months, quarters, semesters). Please fill out at most one field for each child, and use numeric digits. - Your 10th child (if you have more than 10 kids, please consider the youngest) - weeks',\n",
       " 'PL7_10_2': 'For each child for whom you took parental leave, please specify the duration of the leave. For your convenience, you can answer in a time unit of your choosing (weeks, months, quarters, semesters). Please fill out at most one field for each child, and use numeric digits. - Your 10th child (if you have more than 10 kids, please consider the youngest) - months',\n",
       " 'PL7_10_3': 'For each child for whom you took parental leave, please specify the duration of the leave. For your convenience, you can answer in a time unit of your choosing (weeks, months, quarters, semesters). Please fill out at most one field for each child, and use numeric digits. - Your 10th child (if you have more than 10 kids, please consider the youngest) - quarters',\n",
       " 'PL7_10_4': 'For each child for whom you took parental leave, please specify the duration of the leave. For your convenience, you can answer in a time unit of your choosing (weeks, months, quarters, semesters). Please fill out at most one field for each child, and use numeric digits. - Your 10th child (if you have more than 10 kids, please consider the youngest) - semesters',\n",
       " 'PL9_1': 'For each child for whom you took parental leave: did your tenure-clock stop when they were born or adopted? - Your 1st child',\n",
       " 'PL9_2': 'For each child for whom you took parental leave: did your tenure-clock stop when they were born or adopted? - Your 2nd child',\n",
       " 'PL9_3': 'For each child for whom you took parental leave: did your tenure-clock stop when they were born or adopted? - Your 3rd child',\n",
       " 'PL9_4': 'For each child for whom you took parental leave: did your tenure-clock stop when they were born or adopted? - Your 4th child',\n",
       " 'PL9_5': 'For each child for whom you took parental leave: did your tenure-clock stop when they were born or adopted? - Your 5th child',\n",
       " 'PL9_6': 'For each child for whom you took parental leave: did your tenure-clock stop when they were born or adopted? - Your 6th child',\n",
       " 'PL9_7': 'For each child for whom you took parental leave: did your tenure-clock stop when they were born or adopted? - Your 7th child',\n",
       " 'PL9_8': 'For each child for whom you took parental leave: did your tenure-clock stop when they were born or adopted? - Your 8th child',\n",
       " 'PL9_9': 'For each child for whom you took parental leave: did your tenure-clock stop when they were born or adopted? - Your 9th child',\n",
       " 'PL9_10': 'For each child for whom you took parental leave: did your tenure-clock stop when they were born or adopted? - Your 10th child (if you have more than 10 kids, please consider the youngest)',\n",
       " 'PL10': 'Overall, is the \"parental leave\" support offered by your current institution better than the minimum required by law in the country?\\nPlease, consider your current institution, or If you have left academia, the one you were associated with then.',\n",
       " 'CS1_1_1': 'For each of your children, did your employer provide subsidies, facilities, or other direct benef... - Childcare provided - Your 1st child',\n",
       " 'CS1_2_1': 'For each of your children, did your employer provide subsidies, facilities, or other direct benef... - Childcare provided - Your 2nd child',\n",
       " 'CS1_3_1': 'For each of your children, did your employer provide subsidies, facilities, or other direct benef... - Childcare provided - Your 3rd child',\n",
       " 'CS1_4_1': 'For each of your children, did your employer provide subsidies, facilities, or other direct benef... - Childcare provided - Your 4th child',\n",
       " 'CS1_5_1': 'For each of your children, did your employer provide subsidies, facilities, or other direct benef... - Childcare provided - Your 5th child',\n",
       " 'CS1_6_1': 'For each of your children, did your employer provide subsidies, facilities, or other direct benef... - Childcare provided - Your 6th child',\n",
       " 'CS1_7_1': 'For each of your children, did your employer provide subsidies, facilities, or other direct benef... - Childcare provided - Your 7th child',\n",
       " 'CS1_8_1': 'For each of your children, did your employer provide subsidies, facilities, or other direct benef... - Childcare provided - Your 8th child',\n",
       " 'CS1_9_1': 'For each of your children, did your employer provide subsidies, facilities, or other direct benef... - Childcare provided - Your 9th child',\n",
       " 'CS1_10_1': 'For each of your children, did your employer provide subsidies, facilities, or other direct benef... - Childcare provided - Your 10th child (or youngest child if more than 10)',\n",
       " 'CS1_1_2': 'For each of your children, did your employer provide subsidies, facilities, or other direct benef... - Did you use it? - Your 1st child',\n",
       " 'CS1_2_2': 'For each of your children, did your employer provide subsidies, facilities, or other direct benef... - Did you use it? - Your 2nd child',\n",
       " 'CS1_3_2': 'For each of your children, did your employer provide subsidies, facilities, or other direct benef... - Did you use it? - Your 3rd child',\n",
       " 'CS1_4_2': 'For each of your children, did your employer provide subsidies, facilities, or other direct benef... - Did you use it? - Your 4th child',\n",
       " 'CS1_5_2': 'For each of your children, did your employer provide subsidies, facilities, or other direct benef... - Did you use it? - Your 5th child',\n",
       " 'CS1_6_2': 'For each of your children, did your employer provide subsidies, facilities, or other direct benef... - Did you use it? - Your 6th child',\n",
       " 'CS1_7_2': 'For each of your children, did your employer provide subsidies, facilities, or other direct benef... - Did you use it? - Your 7th child',\n",
       " 'CS1_8_2': 'For each of your children, did your employer provide subsidies, facilities, or other direct benef... - Did you use it? - Your 8th child',\n",
       " 'CS1_9_2': 'For each of your children, did your employer provide subsidies, facilities, or other direct benef... - Did you use it? - Your 9th child',\n",
       " 'CS1_10_2': 'For each of your children, did your employer provide subsidies, facilities, or other direct benef... - Did you use it? - Your 10th child (or youngest child if more than 10)',\n",
       " 'CS2': 'Overall, is the \"childcare\" support offered by your current institution better than the minimum required by law in the country?\\nPlease, consider your current institution, or If you have left academia, the one you were associated with then.',\n",
       " 'CS3_1': 'Please rate the general parental policies (including childcare support and parental leave) of the European countries you know based on a scale from \"very good\" to \"very bad.\" If known, select the applicable option for each country; otherwise, leave it blank or choose \"Don\\'t know.\" - Albania',\n",
       " 'CS3_2': 'Please rate the general parental policies (including childcare support and parental leave) of the European countries you know based on a scale from \"very good\" to \"very bad.\" If known, select the applicable option for each country; otherwise, leave it blank or choose \"Don\\'t know.\" - Andorra',\n",
       " 'CS3_3': 'Please rate the general parental policies (including childcare support and parental leave) of the European countries you know based on a scale from \"very good\" to \"very bad.\" If known, select the applicable option for each country; otherwise, leave it blank or choose \"Don\\'t know.\" - Armenia',\n",
       " 'CS3_4': 'Please rate the general parental policies (including childcare support and parental leave) of the European countries you know based on a scale from \"very good\" to \"very bad.\" If known, select the applicable option for each country; otherwise, leave it blank or choose \"Don\\'t know.\" - Austria',\n",
       " 'CS3_5': 'Please rate the general parental policies (including childcare support and parental leave) of the European countries you know based on a scale from \"very good\" to \"very bad.\" If known, select the applicable option for each country; otherwise, leave it blank or choose \"Don\\'t know.\" - Azerbaijan',\n",
       " 'CS3_6': 'Please rate the general parental policies (including childcare support and parental leave) of the European countries you know based on a scale from \"very good\" to \"very bad.\" If known, select the applicable option for each country; otherwise, leave it blank or choose \"Don\\'t know.\" - Belarus',\n",
       " 'CS3_7': 'Please rate the general parental policies (including childcare support and parental leave) of the European countries you know based on a scale from \"very good\" to \"very bad.\" If known, select the applicable option for each country; otherwise, leave it blank or choose \"Don\\'t know.\" - Belgium',\n",
       " 'CS3_8': 'Please rate the general parental policies (including childcare support and parental leave) of the European countries you know based on a scale from \"very good\" to \"very bad.\" If known, select the applicable option for each country; otherwise, leave it blank or choose \"Don\\'t know.\" - Bosnia and Herzegovina',\n",
       " 'CS3_9': 'Please rate the general parental policies (including childcare support and parental leave) of the European countries you know based on a scale from \"very good\" to \"very bad.\" If known, select the applicable option for each country; otherwise, leave it blank or choose \"Don\\'t know.\" - Bulgaria',\n",
       " 'CS3_10': 'Please rate the general parental policies (including childcare support and parental leave) of the European countries you know based on a scale from \"very good\" to \"very bad.\" If known, select the applicable option for each country; otherwise, leave it blank or choose \"Don\\'t know.\" - Croatia',\n",
       " 'CS3_11': 'Please rate the general parental policies (including childcare support and parental leave) of the European countries you know based on a scale from \"very good\" to \"very bad.\" If known, select the applicable option for each country; otherwise, leave it blank or choose \"Don\\'t know.\" - Cyprus',\n",
       " 'CS3_12': 'Please rate the general parental policies (including childcare support and parental leave) of the European countries you know based on a scale from \"very good\" to \"very bad.\" If known, select the applicable option for each country; otherwise, leave it blank or choose \"Don\\'t know.\" - Czech Republic',\n",
       " 'CS3_13': 'Please rate the general parental policies (including childcare support and parental leave) of the European countries you know based on a scale from \"very good\" to \"very bad.\" If known, select the applicable option for each country; otherwise, leave it blank or choose \"Don\\'t know.\" - Denmark',\n",
       " 'CS3_14': 'Please rate the general parental policies (including childcare support and parental leave) of the European countries you know based on a scale from \"very good\" to \"very bad.\" If known, select the applicable option for each country; otherwise, leave it blank or choose \"Don\\'t know.\" - Estonia',\n",
       " 'CS3_15': 'Please rate the general parental policies (including childcare support and parental leave) of the European countries you know based on a scale from \"very good\" to \"very bad.\" If known, select the applicable option for each country; otherwise, leave it blank or choose \"Don\\'t know.\" - Finland',\n",
       " 'CS3_16': 'Please rate the general parental policies (including childcare support and parental leave) of the European countries you know based on a scale from \"very good\" to \"very bad.\" If known, select the applicable option for each country; otherwise, leave it blank or choose \"Don\\'t know.\" - France',\n",
       " 'CS3_17': 'Please rate the general parental policies (including childcare support and parental leave) of the European countries you know based on a scale from \"very good\" to \"very bad.\" If known, select the applicable option for each country; otherwise, leave it blank or choose \"Don\\'t know.\" - Georgia',\n",
       " 'CS3_18': 'Please rate the general parental policies (including childcare support and parental leave) of the European countries you know based on a scale from \"very good\" to \"very bad.\" If known, select the applicable option for each country; otherwise, leave it blank or choose \"Don\\'t know.\" - Germany',\n",
       " 'CS3_19': 'Please rate the general parental policies (including childcare support and parental leave) of the European countries you know based on a scale from \"very good\" to \"very bad.\" If known, select the applicable option for each country; otherwise, leave it blank or choose \"Don\\'t know.\" - Greece',\n",
       " 'CS3_20': 'Please rate the general parental policies (including childcare support and parental leave) of the European countries you know based on a scale from \"very good\" to \"very bad.\" If known, select the applicable option for each country; otherwise, leave it blank or choose \"Don\\'t know.\" - Hungary',\n",
       " 'CS3_21': 'Please rate the general parental policies (including childcare support and parental leave) of the European countries you know based on a scale from \"very good\" to \"very bad.\" If known, select the applicable option for each country; otherwise, leave it blank or choose \"Don\\'t know.\" - Iceland',\n",
       " 'CS3_22': 'Please rate the general parental policies (including childcare support and parental leave) of the European countries you know based on a scale from \"very good\" to \"very bad.\" If known, select the applicable option for each country; otherwise, leave it blank or choose \"Don\\'t know.\" - Ireland',\n",
       " 'CS3_23': 'Please rate the general parental policies (including childcare support and parental leave) of the European countries you know based on a scale from \"very good\" to \"very bad.\" If known, select the applicable option for each country; otherwise, leave it blank or choose \"Don\\'t know.\" - Italy',\n",
       " 'CS3_24': 'Please rate the general parental policies (including childcare support and parental leave) of the European countries you know based on a scale from \"very good\" to \"very bad.\" If known, select the applicable option for each country; otherwise, leave it blank or choose \"Don\\'t know.\" - Kazakhstan',\n",
       " 'CS3_25': 'Please rate the general parental policies (including childcare support and parental leave) of the European countries you know based on a scale from \"very good\" to \"very bad.\" If known, select the applicable option for each country; otherwise, leave it blank or choose \"Don\\'t know.\" - Kosovo',\n",
       " 'CS3_26': 'Please rate the general parental policies (including childcare support and parental leave) of the European countries you know based on a scale from \"very good\" to \"very bad.\" If known, select the applicable option for each country; otherwise, leave it blank or choose \"Don\\'t know.\" - Latvia',\n",
       " 'CS3_27': 'Please rate the general parental policies (including childcare support and parental leave) of the European countries you know based on a scale from \"very good\" to \"very bad.\" If known, select the applicable option for each country; otherwise, leave it blank or choose \"Don\\'t know.\" - Liechtenstein',\n",
       " 'CS3_28': 'Please rate the general parental policies (including childcare support and parental leave) of the European countries you know based on a scale from \"very good\" to \"very bad.\" If known, select the applicable option for each country; otherwise, leave it blank or choose \"Don\\'t know.\" - Lithuania',\n",
       " 'CS3_29': 'Please rate the general parental policies (including childcare support and parental leave) of the European countries you know based on a scale from \"very good\" to \"very bad.\" If known, select the applicable option for each country; otherwise, leave it blank or choose \"Don\\'t know.\" - Luxembourg',\n",
       " 'CS3_30': 'Please rate the general parental policies (including childcare support and parental leave) of the European countries you know based on a scale from \"very good\" to \"very bad.\" If known, select the applicable option for each country; otherwise, leave it blank or choose \"Don\\'t know.\" - Malta',\n",
       " 'CS3_31': 'Please rate the general parental policies (including childcare support and parental leave) of the European countries you know based on a scale from \"very good\" to \"very bad.\" If known, select the applicable option for each country; otherwise, leave it blank or choose \"Don\\'t know.\" - Moldova',\n",
       " 'CS3_32': 'Please rate the general parental policies (including childcare support and parental leave) of the European countries you know based on a scale from \"very good\" to \"very bad.\" If known, select the applicable option for each country; otherwise, leave it blank or choose \"Don\\'t know.\" - Monaco',\n",
       " 'CS3_33': 'Please rate the general parental policies (including childcare support and parental leave) of the European countries you know based on a scale from \"very good\" to \"very bad.\" If known, select the applicable option for each country; otherwise, leave it blank or choose \"Don\\'t know.\" - Montenegro',\n",
       " 'CS3_34': 'Please rate the general parental policies (including childcare support and parental leave) of the European countries you know based on a scale from \"very good\" to \"very bad.\" If known, select the applicable option for each country; otherwise, leave it blank or choose \"Don\\'t know.\" - Netherlands',\n",
       " 'CS3_35': 'Please rate the general parental policies (including childcare support and parental leave) of the European countries you know based on a scale from \"very good\" to \"very bad.\" If known, select the applicable option for each country; otherwise, leave it blank or choose \"Don\\'t know.\" - North Macedonia (formerly Macedonia)',\n",
       " 'CS3_36': 'Please rate the general parental policies (including childcare support and parental leave) of the European countries you know based on a scale from \"very good\" to \"very bad.\" If known, select the applicable option for each country; otherwise, leave it blank or choose \"Don\\'t know.\" - Norway',\n",
       " 'CS3_37': 'Please rate the general parental policies (including childcare support and parental leave) of the European countries you know based on a scale from \"very good\" to \"very bad.\" If known, select the applicable option for each country; otherwise, leave it blank or choose \"Don\\'t know.\" - Poland',\n",
       " 'CS3_38': 'Please rate the general parental policies (including childcare support and parental leave) of the European countries you know based on a scale from \"very good\" to \"very bad.\" If known, select the applicable option for each country; otherwise, leave it blank or choose \"Don\\'t know.\" - Portugal',\n",
       " 'CS3_39': 'Please rate the general parental policies (including childcare support and parental leave) of the European countries you know based on a scale from \"very good\" to \"very bad.\" If known, select the applicable option for each country; otherwise, leave it blank or choose \"Don\\'t know.\" - Romania',\n",
       " 'CS3_40': 'Please rate the general parental policies (including childcare support and parental leave) of the European countries you know based on a scale from \"very good\" to \"very bad.\" If known, select the applicable option for each country; otherwise, leave it blank or choose \"Don\\'t know.\" - Russia',\n",
       " 'CS3_41': 'Please rate the general parental policies (including childcare support and parental leave) of the European countries you know based on a scale from \"very good\" to \"very bad.\" If known, select the applicable option for each country; otherwise, leave it blank or choose \"Don\\'t know.\" - San Marino',\n",
       " 'CS3_42': 'Please rate the general parental policies (including childcare support and parental leave) of the European countries you know based on a scale from \"very good\" to \"very bad.\" If known, select the applicable option for each country; otherwise, leave it blank or choose \"Don\\'t know.\" - Serbia',\n",
       " 'CS3_43': 'Please rate the general parental policies (including childcare support and parental leave) of the European countries you know based on a scale from \"very good\" to \"very bad.\" If known, select the applicable option for each country; otherwise, leave it blank or choose \"Don\\'t know.\" - Slovakia',\n",
       " 'CS3_44': 'Please rate the general parental policies (including childcare support and parental leave) of the European countries you know based on a scale from \"very good\" to \"very bad.\" If known, select the applicable option for each country; otherwise, leave it blank or choose \"Don\\'t know.\" - Slovenia',\n",
       " 'CS3_45': 'Please rate the general parental policies (including childcare support and parental leave) of the European countries you know based on a scale from \"very good\" to \"very bad.\" If known, select the applicable option for each country; otherwise, leave it blank or choose \"Don\\'t know.\" - Spain',\n",
       " 'CS3_46': 'Please rate the general parental policies (including childcare support and parental leave) of the European countries you know based on a scale from \"very good\" to \"very bad.\" If known, select the applicable option for each country; otherwise, leave it blank or choose \"Don\\'t know.\" - Sweden',\n",
       " 'CS3_47': 'Please rate the general parental policies (including childcare support and parental leave) of the European countries you know based on a scale from \"very good\" to \"very bad.\" If known, select the applicable option for each country; otherwise, leave it blank or choose \"Don\\'t know.\" - Switzerland',\n",
       " 'CS3_48': 'Please rate the general parental policies (including childcare support and parental leave) of the European countries you know based on a scale from \"very good\" to \"very bad.\" If known, select the applicable option for each country; otherwise, leave it blank or choose \"Don\\'t know.\" - Turkey',\n",
       " 'CS3_49': 'Please rate the general parental policies (including childcare support and parental leave) of the European countries you know based on a scale from \"very good\" to \"very bad.\" If known, select the applicable option for each country; otherwise, leave it blank or choose \"Don\\'t know.\" - Ukraine',\n",
       " 'CS3_50': 'Please rate the general parental policies (including childcare support and parental leave) of the European countries you know based on a scale from \"very good\" to \"very bad.\" If known, select the applicable option for each country; otherwise, leave it blank or choose \"Don\\'t know.\" - United Kingdom',\n",
       " 'CS3_51': 'Please rate the general parental policies (including childcare support and parental leave) of the European countries you know based on a scale from \"very good\" to \"very bad.\" If known, select the applicable option for each country; otherwise, leave it blank or choose \"Don\\'t know.\" - Vatican City (Holy See)',\n",
       " 'CC1_1': 'The support network for academic parents plays an important role in balancing personal and professional responsibilities. Here, we define \"support\" to include things like help with childcare, advice, sympathy, companionship, and we exclude financial assistance and the like. A support network typically includes family, friends, colleagues, and community resources. How much support, if any, have you received from: - Your parents',\n",
       " 'CC1_2': 'The support network for academic parents plays an important role in balancing personal and professional responsibilities. Here, we define \"support\" to include things like help with childcare, advice, sympathy, companionship, and we exclude financial assistance and the like. A support network typically includes family, friends, colleagues, and community resources. How much support, if any, have you received from: - Your partner',\n",
       " 'CC1_3': 'The support network for academic parents plays an important role in balancing personal and professional responsibilities. Here, we define \"support\" to include things like help with childcare, advice, sympathy, companionship, and we exclude financial assistance and the like. A support network typically includes family, friends, colleagues, and community resources. How much support, if any, have you received from: - The rest of your family',\n",
       " 'CC1_4': 'The support network for academic parents plays an important role in balancing personal and professional responsibilities. Here, we define \"support\" to include things like help with childcare, advice, sympathy, companionship, and we exclude financial assistance and the like. A support network typically includes family, friends, colleagues, and community resources. How much support, if any, have you received from: - Your house neighbors',\n",
       " 'CC1_5': 'The support network for academic parents plays an important role in balancing personal and professional responsibilities. Here, we define \"support\" to include things like help with childcare, advice, sympathy, companionship, and we exclude financial assistance and the like. A support network typically includes family, friends, colleagues, and community resources. How much support, if any, have you received from: - Your friends outside academia',\n",
       " 'CC1_6': 'The support network for academic parents plays an important role in balancing personal and professional responsibilities. Here, we define \"support\" to include things like help with childcare, advice, sympathy, companionship, and we exclude financial assistance and the like. A support network typically includes family, friends, colleagues, and community resources. How much support, if any, have you received from: - Colleagues at your current institution (or last institution, if you left academia)',\n",
       " 'CC1_7': 'The support network for academic parents plays an important role in balancing personal and professional responsibilities. Here, we define \"support\" to include things like help with childcare, advice, sympathy, companionship, and we exclude financial assistance and the like. A support network typically includes family, friends, colleagues, and community resources. How much support, if any, have you received from: - Colleagues at other institutions',\n",
       " 'CC2_1': 'How much encouragement or approval for simultaneously pursuing parenting and academia, if any, have you received from: - Your parents',\n",
       " 'CC2_2': 'How much encouragement or approval for simultaneously pursuing parenting and academia, if any, have you received from: - Your partner',\n",
       " 'CC2_3': 'How much encouragement or approval for simultaneously pursuing parenting and academia, if any, have you received from: - The rest of your family',\n",
       " 'CC2_4': 'How much encouragement or approval for simultaneously pursuing parenting and academia, if any, have you received from: - Your house neighbors',\n",
       " 'CC2_5': 'How much encouragement or approval for simultaneously pursuing parenting and academia, if any, have you received from: - Your friends outside academia',\n",
       " 'CC2_6': 'How much encouragement or approval for simultaneously pursuing parenting and academia, if any, have you received from: - Colleagues at your current institution (or last institution, if you left academia)',\n",
       " 'CC2_7': 'How much encouragement or approval for simultaneously pursuing parenting and academia, if any, have you received from: - Colleagues at other institutions',\n",
       " 'GB4_1': 'Overall, how understanding were your more senior colleagues when, because of your parental duties ... - ... you had to leave work earlier, take a day off, or reschedule a meeting',\n",
       " 'GB4_2': \"Overall, how understanding were your more senior colleagues when, because of your parental duties ... - ... you couldn't make it to a departmental function outside working hours\",\n",
       " 'GB5_1': 'Overall, how understanding were your same rank colleagues when, because of your parental duties ... - ... you had to leave work earlier, take a day off, or reschedule a meeting',\n",
       " 'GB5_2': \"Overall, how understanding were your same rank colleagues when, because of your parental duties ... - ... you couldn't make it to a departmental function outside working hours\",\n",
       " 'IN1_1': 'What is your best guess about the percentage of tenured faculty in your field, who are men, women or non-binary? Note that the sum of percentages must be 100. - men?',\n",
       " 'IN1_2': 'What is your best guess about the percentage of tenured faculty in your field, who are men, women or non-binary? Note that the sum of percentages must be 100. - women?',\n",
       " 'IN1_3': 'What is your best guess about the percentage of tenured faculty in your field, who are men, women or non-binary? Note that the sum of percentages must be 100. - non-binary?',\n",
       " 'IN2_1': 'Of tenured men, women and non-binary faculty in your field, what percentage do you estimate have children? Note that these percentages are independent from each other. - of tenured <b>men</b> have children.',\n",
       " 'IN2_2': 'Of tenured men, women and non-binary faculty in your field, what percentage do you estimate have children? Note that these percentages are independent from each other. - of tenured <b>women</b> have children.',\n",
       " 'IN2_3': 'Of tenured men, women and non-binary faculty in your field, what percentage do you estimate have children? Note that these percentages are independent from each other. - of tenured <b>non-binary</b> have children.',\n",
       " 'IN3_1': 'In a department similar to yours, faculty may be granted tenure. Please provide your best estimate  of the duration, in years, it takes for men, women and non-binary faculty to attain tenure from the day they assumed the role of Assistant Professors. - years from assistant to tenure for <b>men</b>.',\n",
       " 'IN3_2': 'In a department similar to yours, faculty may be granted tenure. Please provide your best estimate  of the duration, in years, it takes for men, women and non-binary faculty to attain tenure from the day they assumed the role of Assistant Professors. - years from assistant to tenure for <b>women</b>.',\n",
       " 'IN3_3': 'In a department similar to yours, faculty may be granted tenure. Please provide your best estimate  of the duration, in years, it takes for men, women and non-binary faculty to attain tenure from the day they assumed the role of Assistant Professors. - years from assistant to tenure for <b>non-binary</b>.',\n",
       " 'AP1_1_1': 'Approximately what number of scholarly works (i.e., peer-\\xadreviewed papers, books and book chapters, pre-prints) do you aim to co-author and get published in the next 2 years? Please give your best guess about the minimum and maximum number. - minimum - # scholarly works',\n",
       " 'AP1_2_1': 'Approximately what number of scholarly works (i.e., peer-\\xadreviewed papers, books and book chapters, pre-prints) do you aim to co-author and get published in the next 2 years? Please give your best guess about the minimum and maximum number. - maximum - # scholarly works',\n",
       " 'AP2': 'How do you think your productivity would be affected if the number of remote-working days per month were doubled?',\n",
       " 'AP3': 'Did you feel that your collaborators (e.g., colleagues, supervisors, team members, co-authors) helped you maintain your productivity during the early years of parenthood for each of your children, or did you feel that you had little or no such help?',\n",
       " 'B2': 'You have finished Part 2 of the survey; Part 3 on the next pages is optional and takes ~5 minutes. It focuses on your own experience in academia.\\n\\n\\n\\nIf you choose to continue, your insights will be invaluable for our study, helping us uncover satisfaction patterns in academia. If you prefer not to answer these questions, you may close this window now to finish the survey.\\n\\n\\n\\nThank you again for your participation!',\n",
       " 'GB1a': 'Among colleagues in your field, do you feel liked?',\n",
       " 'GB1b': 'Among colleagues in your field, do you feel respected?',\n",
       " 'GB1c': 'Among colleagues in your field, do you feel valued?',\n",
       " 'GB2a': 'Among colleagues in your department, do you feel excluded from informal social interactions?',\n",
       " 'GB2b': 'Do you feel excluded from formal or official decision-making processes within your department among your colleagues?',\n",
       " 'GB3_1': 'Within your academic department, how often do you feel that: - You need to work harder than your colleagues for the same amount of recognition',\n",
       " 'GB3_2': 'Within your academic department, how often do you feel that: - Your women colleagues provide mentorship and share opportunities that contribute to your career advancement.',\n",
       " 'GB3_3': 'Within your academic department, how often do you feel that: - Your men colleagues provide mentorship and share opportunities that contribute to your career advancement.',\n",
       " 'GB3_4': 'Within your academic department, how often do you feel that: - Your non-binary colleagues provide mentorship and share opportunities that contribute to your career advancement.',\n",
       " 'LA1': 'How would you estimate the percentage of women postdocs leaving academia compared to men postdocs at your current institution?',\n",
       " 'LA2': 'How would you estimate the percentage of women professors leaving academia compared to men professors at your current institution?',\n",
       " 'LA3': 'Have you considered leaving academia?',\n",
       " 'LA4a': 'Please briefly elaborate on your reasons for considering leaving academia, avoiding any personal identifiers.',\n",
       " 'LA4b': 'Please briefly elaborate on your reasons for leaving academia, avoiding any personal identifiers.\\nAdditionally, how do you feel about your decision to leave? Do you have any plans or considerations regarding a return to academia in the future?',\n",
       " 'C1': 'How did you hear about this survey? - Selected Choice',\n",
       " 'C1_3_TEXT': 'How did you hear about this survey? - Social media (please specify): - Text',\n",
       " 'C1_4_TEXT': 'How did you hear about this survey? - Mailing list (please specify): - Text',\n",
       " 'C1_5_TEXT': 'How did you hear about this survey? - Other (please specify): - Text',\n",
       " 'C2': 'Do you have any other comments related to this study, or feedback to improve academia? \\nIf not, just press Next.',\n",
       " 'gender': 'gender'}"
      ]
     },
     "metadata": {},
     "output_type": "display_data"
    }
   ],
   "source": [
    "display(df.head(5))\n",
    "display(meta)"
   ]
  },
  {
   "cell_type": "markdown",
   "metadata": {},
   "source": [
    "Let us remove the useless first two rows in df_raw"
   ]
  },
  {
   "cell_type": "code",
   "execution_count": 10,
   "metadata": {},
   "outputs": [
    {
     "name": "stdout",
     "output_type": "stream",
     "text": [
      "Does any of the specified columns contain the value 99? True\n"
     ]
    }
   ],
   "source": [
    "columns_to_check = [\"PL2_1_4\", \"PL2_2_4\", \"PL2_3_4\", \"PL2_4_4\", \"PL2_5_4\"]\n",
    "contains_99 = df[columns_to_check].isin([99]).any().any()\n",
    "print(\"Does any of the specified columns contain the value 99?\", contains_99)"
   ]
  },
  {
   "cell_type": "code",
   "execution_count": 11,
   "metadata": {},
   "outputs": [
    {
     "data": {
      "text/html": [
       "<div>\n",
       "<style scoped>\n",
       "    .dataframe tbody tr th:only-of-type {\n",
       "        vertical-align: middle;\n",
       "    }\n",
       "\n",
       "    .dataframe tbody tr th {\n",
       "        vertical-align: top;\n",
       "    }\n",
       "\n",
       "    .dataframe thead th {\n",
       "        text-align: right;\n",
       "    }\n",
       "</style>\n",
       "<table border=\"1\" class=\"dataframe\">\n",
       "  <thead>\n",
       "    <tr style=\"text-align: right;\">\n",
       "      <th></th>\n",
       "      <th>PL2_1_4</th>\n",
       "      <th>PL2_2_4</th>\n",
       "      <th>PL2_3_4</th>\n",
       "      <th>PL2_4_4</th>\n",
       "      <th>PL2_5_4</th>\n",
       "    </tr>\n",
       "  </thead>\n",
       "  <tbody>\n",
       "    <tr>\n",
       "      <th>2530</th>\n",
       "      <td>99</td>\n",
       "      <td>99</td>\n",
       "      <td>99</td>\n",
       "      <td>99</td>\n",
       "      <td>99</td>\n",
       "    </tr>\n",
       "  </tbody>\n",
       "</table>\n",
       "</div>"
      ],
      "text/plain": [
       "     PL2_1_4 PL2_2_4 PL2_3_4 PL2_4_4 PL2_5_4\n",
       "2530      99      99      99      99      99"
      ]
     },
     "metadata": {},
     "output_type": "display_data"
    }
   ],
   "source": [
    "rows_with_99 = df[df[columns_to_check].isin([99]).any(axis=1)]\n",
    "rows_with_99_filtered = rows_with_99[columns_to_check]\n",
    "display(rows_with_99_filtered)"
   ]
  },
  {
   "cell_type": "markdown",
   "metadata": {},
   "source": [
    "This value doesn't make sense, so we replace it with 0"
   ]
  },
  {
   "cell_type": "code",
   "execution_count": 12,
   "metadata": {},
   "outputs": [
    {
     "name": "stderr",
     "output_type": "stream",
     "text": [
      "/var/folders/4n/x6xrnlyj6nngzc77qzc7h4f40000gn/T/ipykernel_63937/349288388.py:1: FutureWarning:\n",
      "\n",
      "Downcasting behavior in `replace` is deprecated and will be removed in a future version. To retain the old behavior, explicitly call `result.infer_objects(copy=False)`. To opt-in to the future behavior, set `pd.set_option('future.no_silent_downcasting', True)`\n",
      "\n"
     ]
    }
   ],
   "source": [
    "df[columns_to_check] = df[columns_to_check].replace(99, 0)"
   ]
  },
  {
   "cell_type": "code",
   "execution_count": 13,
   "metadata": {},
   "outputs": [
    {
     "data": {
      "application/vnd.plotly.v1+json": {
       "config": {
        "plotlyServerURL": "https://plot.ly"
       },
       "data": [
        {
         "customdata": {
          "bdata": "lBM=",
          "dtype": "i2",
          "shape": "1, 1"
         },
         "hovertemplate": "Bin_Label=%{x}<br>Percentage=%{y}<br>text=%{text}<br>Count=%{customdata[0]}<extra></extra>",
         "legendgroup": "Woman",
         "marker": {
          "color": "#D7D9B1",
          "line": {
           "width": 1
          },
          "pattern": {
           "shape": ""
          }
         },
         "name": "Woman",
         "orientation": "v",
         "showlegend": true,
         "text": [
          "50.4%"
         ],
         "textposition": "auto",
         "type": "bar",
         "width": {
          "bdata": "MzMzMzMz4z8zMzMzMzPjPzMzMzMzM+M/",
          "dtype": "f8"
         },
         "x": [
          "Woman"
         ],
         "xaxis": "x",
         "y": {
          "bdata": "f679JGI3SUA=",
          "dtype": "f8"
         },
         "yaxis": "y"
        },
        {
         "customdata": {
          "bdata": "PBM=",
          "dtype": "i2",
          "shape": "1, 1"
         },
         "hovertemplate": "Bin_Label=%{x}<br>Percentage=%{y}<br>text=%{text}<br>Count=%{customdata[0]}<extra></extra>",
         "legendgroup": "Man",
         "marker": {
          "color": "#3A6992",
          "line": {
           "width": 1
          },
          "pattern": {
           "shape": ""
          }
         },
         "name": "Man",
         "orientation": "v",
         "showlegend": true,
         "text": [
          "49.5%"
         ],
         "textposition": "auto",
         "type": "bar",
         "width": {
          "bdata": "MzMzMzMz4z8zMzMzMzPjPzMzMzMzM+M/",
          "dtype": "f8"
         },
         "x": [
          "Man"
         ],
         "xaxis": "x",
         "y": {
          "bdata": "whksaArGSEA=",
          "dtype": "f8"
         },
         "yaxis": "y"
        },
        {
         "customdata": {
          "bdata": "Ag==",
          "dtype": "i1",
          "shape": "1, 1"
         },
         "hovertemplate": "Bin_Label=%{x}<br>Percentage=%{y}<br>text=%{text}<br>Count=%{customdata[0]}<extra></extra>",
         "legendgroup": "Non-binary person",
         "marker": {
          "color": "#BB4430",
          "line": {
           "width": 1
          },
          "pattern": {
           "shape": ""
          }
         },
         "name": "Non-binary person",
         "orientation": "v",
         "showlegend": true,
         "text": [
          "0.0%"
         ],
         "textposition": "auto",
         "type": "bar",
         "width": {
          "bdata": "MzMzMzMz4z8zMzMzMzPjPzMzMzMzM+M/",
          "dtype": "f8"
         },
         "x": [
          "Non-binary person"
         ],
         "xaxis": "x",
         "y": {
          "bdata": "vfO9sZablD8=",
          "dtype": "f8"
         },
         "yaxis": "y"
        }
       ],
       "layout": {
        "barmode": "relative",
        "height": 400,
        "legend": {
         "title": {
          "text": "Bin_Label"
         },
         "tracegroupgap": 0
        },
        "margin": {
         "r": 200
        },
        "template": {
         "data": {
          "bar": [
           {
            "error_x": {
             "color": "#2a3f5f"
            },
            "error_y": {
             "color": "#2a3f5f"
            },
            "marker": {
             "line": {
              "color": "#E5ECF6",
              "width": 0.5
             },
             "pattern": {
              "fillmode": "overlay",
              "size": 10,
              "solidity": 0.2
             }
            },
            "type": "bar"
           }
          ],
          "barpolar": [
           {
            "marker": {
             "line": {
              "color": "#E5ECF6",
              "width": 0.5
             },
             "pattern": {
              "fillmode": "overlay",
              "size": 10,
              "solidity": 0.2
             }
            },
            "type": "barpolar"
           }
          ],
          "carpet": [
           {
            "aaxis": {
             "endlinecolor": "#2a3f5f",
             "gridcolor": "white",
             "linecolor": "white",
             "minorgridcolor": "white",
             "startlinecolor": "#2a3f5f"
            },
            "baxis": {
             "endlinecolor": "#2a3f5f",
             "gridcolor": "white",
             "linecolor": "white",
             "minorgridcolor": "white",
             "startlinecolor": "#2a3f5f"
            },
            "type": "carpet"
           }
          ],
          "choropleth": [
           {
            "colorbar": {
             "outlinewidth": 0,
             "ticks": ""
            },
            "type": "choropleth"
           }
          ],
          "contour": [
           {
            "colorbar": {
             "outlinewidth": 0,
             "ticks": ""
            },
            "colorscale": [
             [
              0,
              "#0d0887"
             ],
             [
              0.1111111111111111,
              "#46039f"
             ],
             [
              0.2222222222222222,
              "#7201a8"
             ],
             [
              0.3333333333333333,
              "#9c179e"
             ],
             [
              0.4444444444444444,
              "#bd3786"
             ],
             [
              0.5555555555555556,
              "#d8576b"
             ],
             [
              0.6666666666666666,
              "#ed7953"
             ],
             [
              0.7777777777777778,
              "#fb9f3a"
             ],
             [
              0.8888888888888888,
              "#fdca26"
             ],
             [
              1,
              "#f0f921"
             ]
            ],
            "type": "contour"
           }
          ],
          "contourcarpet": [
           {
            "colorbar": {
             "outlinewidth": 0,
             "ticks": ""
            },
            "type": "contourcarpet"
           }
          ],
          "heatmap": [
           {
            "colorbar": {
             "outlinewidth": 0,
             "ticks": ""
            },
            "colorscale": [
             [
              0,
              "#0d0887"
             ],
             [
              0.1111111111111111,
              "#46039f"
             ],
             [
              0.2222222222222222,
              "#7201a8"
             ],
             [
              0.3333333333333333,
              "#9c179e"
             ],
             [
              0.4444444444444444,
              "#bd3786"
             ],
             [
              0.5555555555555556,
              "#d8576b"
             ],
             [
              0.6666666666666666,
              "#ed7953"
             ],
             [
              0.7777777777777778,
              "#fb9f3a"
             ],
             [
              0.8888888888888888,
              "#fdca26"
             ],
             [
              1,
              "#f0f921"
             ]
            ],
            "type": "heatmap"
           }
          ],
          "histogram": [
           {
            "marker": {
             "pattern": {
              "fillmode": "overlay",
              "size": 10,
              "solidity": 0.2
             }
            },
            "type": "histogram"
           }
          ],
          "histogram2d": [
           {
            "colorbar": {
             "outlinewidth": 0,
             "ticks": ""
            },
            "colorscale": [
             [
              0,
              "#0d0887"
             ],
             [
              0.1111111111111111,
              "#46039f"
             ],
             [
              0.2222222222222222,
              "#7201a8"
             ],
             [
              0.3333333333333333,
              "#9c179e"
             ],
             [
              0.4444444444444444,
              "#bd3786"
             ],
             [
              0.5555555555555556,
              "#d8576b"
             ],
             [
              0.6666666666666666,
              "#ed7953"
             ],
             [
              0.7777777777777778,
              "#fb9f3a"
             ],
             [
              0.8888888888888888,
              "#fdca26"
             ],
             [
              1,
              "#f0f921"
             ]
            ],
            "type": "histogram2d"
           }
          ],
          "histogram2dcontour": [
           {
            "colorbar": {
             "outlinewidth": 0,
             "ticks": ""
            },
            "colorscale": [
             [
              0,
              "#0d0887"
             ],
             [
              0.1111111111111111,
              "#46039f"
             ],
             [
              0.2222222222222222,
              "#7201a8"
             ],
             [
              0.3333333333333333,
              "#9c179e"
             ],
             [
              0.4444444444444444,
              "#bd3786"
             ],
             [
              0.5555555555555556,
              "#d8576b"
             ],
             [
              0.6666666666666666,
              "#ed7953"
             ],
             [
              0.7777777777777778,
              "#fb9f3a"
             ],
             [
              0.8888888888888888,
              "#fdca26"
             ],
             [
              1,
              "#f0f921"
             ]
            ],
            "type": "histogram2dcontour"
           }
          ],
          "mesh3d": [
           {
            "colorbar": {
             "outlinewidth": 0,
             "ticks": ""
            },
            "type": "mesh3d"
           }
          ],
          "parcoords": [
           {
            "line": {
             "colorbar": {
              "outlinewidth": 0,
              "ticks": ""
             }
            },
            "type": "parcoords"
           }
          ],
          "pie": [
           {
            "automargin": true,
            "type": "pie"
           }
          ],
          "scatter": [
           {
            "fillpattern": {
             "fillmode": "overlay",
             "size": 10,
             "solidity": 0.2
            },
            "type": "scatter"
           }
          ],
          "scatter3d": [
           {
            "line": {
             "colorbar": {
              "outlinewidth": 0,
              "ticks": ""
             }
            },
            "marker": {
             "colorbar": {
              "outlinewidth": 0,
              "ticks": ""
             }
            },
            "type": "scatter3d"
           }
          ],
          "scattercarpet": [
           {
            "marker": {
             "colorbar": {
              "outlinewidth": 0,
              "ticks": ""
             }
            },
            "type": "scattercarpet"
           }
          ],
          "scattergeo": [
           {
            "marker": {
             "colorbar": {
              "outlinewidth": 0,
              "ticks": ""
             }
            },
            "type": "scattergeo"
           }
          ],
          "scattergl": [
           {
            "marker": {
             "colorbar": {
              "outlinewidth": 0,
              "ticks": ""
             }
            },
            "type": "scattergl"
           }
          ],
          "scattermap": [
           {
            "marker": {
             "colorbar": {
              "outlinewidth": 0,
              "ticks": ""
             }
            },
            "type": "scattermap"
           }
          ],
          "scattermapbox": [
           {
            "marker": {
             "colorbar": {
              "outlinewidth": 0,
              "ticks": ""
             }
            },
            "type": "scattermapbox"
           }
          ],
          "scatterpolar": [
           {
            "marker": {
             "colorbar": {
              "outlinewidth": 0,
              "ticks": ""
             }
            },
            "type": "scatterpolar"
           }
          ],
          "scatterpolargl": [
           {
            "marker": {
             "colorbar": {
              "outlinewidth": 0,
              "ticks": ""
             }
            },
            "type": "scatterpolargl"
           }
          ],
          "scatterternary": [
           {
            "marker": {
             "colorbar": {
              "outlinewidth": 0,
              "ticks": ""
             }
            },
            "type": "scatterternary"
           }
          ],
          "surface": [
           {
            "colorbar": {
             "outlinewidth": 0,
             "ticks": ""
            },
            "colorscale": [
             [
              0,
              "#0d0887"
             ],
             [
              0.1111111111111111,
              "#46039f"
             ],
             [
              0.2222222222222222,
              "#7201a8"
             ],
             [
              0.3333333333333333,
              "#9c179e"
             ],
             [
              0.4444444444444444,
              "#bd3786"
             ],
             [
              0.5555555555555556,
              "#d8576b"
             ],
             [
              0.6666666666666666,
              "#ed7953"
             ],
             [
              0.7777777777777778,
              "#fb9f3a"
             ],
             [
              0.8888888888888888,
              "#fdca26"
             ],
             [
              1,
              "#f0f921"
             ]
            ],
            "type": "surface"
           }
          ],
          "table": [
           {
            "cells": {
             "fill": {
              "color": "#EBF0F8"
             },
             "line": {
              "color": "white"
             }
            },
            "header": {
             "fill": {
              "color": "#C8D4E3"
             },
             "line": {
              "color": "white"
             }
            },
            "type": "table"
           }
          ]
         },
         "layout": {
          "annotationdefaults": {
           "arrowcolor": "#2a3f5f",
           "arrowhead": 0,
           "arrowwidth": 1
          },
          "autotypenumbers": "strict",
          "coloraxis": {
           "colorbar": {
            "outlinewidth": 0,
            "ticks": ""
           }
          },
          "colorscale": {
           "diverging": [
            [
             0,
             "#8e0152"
            ],
            [
             0.1,
             "#c51b7d"
            ],
            [
             0.2,
             "#de77ae"
            ],
            [
             0.3,
             "#f1b6da"
            ],
            [
             0.4,
             "#fde0ef"
            ],
            [
             0.5,
             "#f7f7f7"
            ],
            [
             0.6,
             "#e6f5d0"
            ],
            [
             0.7,
             "#b8e186"
            ],
            [
             0.8,
             "#7fbc41"
            ],
            [
             0.9,
             "#4d9221"
            ],
            [
             1,
             "#276419"
            ]
           ],
           "sequential": [
            [
             0,
             "#0d0887"
            ],
            [
             0.1111111111111111,
             "#46039f"
            ],
            [
             0.2222222222222222,
             "#7201a8"
            ],
            [
             0.3333333333333333,
             "#9c179e"
            ],
            [
             0.4444444444444444,
             "#bd3786"
            ],
            [
             0.5555555555555556,
             "#d8576b"
            ],
            [
             0.6666666666666666,
             "#ed7953"
            ],
            [
             0.7777777777777778,
             "#fb9f3a"
            ],
            [
             0.8888888888888888,
             "#fdca26"
            ],
            [
             1,
             "#f0f921"
            ]
           ],
           "sequentialminus": [
            [
             0,
             "#0d0887"
            ],
            [
             0.1111111111111111,
             "#46039f"
            ],
            [
             0.2222222222222222,
             "#7201a8"
            ],
            [
             0.3333333333333333,
             "#9c179e"
            ],
            [
             0.4444444444444444,
             "#bd3786"
            ],
            [
             0.5555555555555556,
             "#d8576b"
            ],
            [
             0.6666666666666666,
             "#ed7953"
            ],
            [
             0.7777777777777778,
             "#fb9f3a"
            ],
            [
             0.8888888888888888,
             "#fdca26"
            ],
            [
             1,
             "#f0f921"
            ]
           ]
          },
          "colorway": [
           "#636efa",
           "#EF553B",
           "#00cc96",
           "#ab63fa",
           "#FFA15A",
           "#19d3f3",
           "#FF6692",
           "#B6E880",
           "#FF97FF",
           "#FECB52"
          ],
          "font": {
           "color": "#2a3f5f"
          },
          "geo": {
           "bgcolor": "white",
           "lakecolor": "white",
           "landcolor": "#E5ECF6",
           "showlakes": true,
           "showland": true,
           "subunitcolor": "white"
          },
          "hoverlabel": {
           "align": "left"
          },
          "hovermode": "closest",
          "mapbox": {
           "style": "light"
          },
          "paper_bgcolor": "white",
          "plot_bgcolor": "#E5ECF6",
          "polar": {
           "angularaxis": {
            "gridcolor": "white",
            "linecolor": "white",
            "ticks": ""
           },
           "bgcolor": "#E5ECF6",
           "radialaxis": {
            "gridcolor": "white",
            "linecolor": "white",
            "ticks": ""
           }
          },
          "scene": {
           "xaxis": {
            "backgroundcolor": "#E5ECF6",
            "gridcolor": "white",
            "gridwidth": 2,
            "linecolor": "white",
            "showbackground": true,
            "ticks": "",
            "zerolinecolor": "white"
           },
           "yaxis": {
            "backgroundcolor": "#E5ECF6",
            "gridcolor": "white",
            "gridwidth": 2,
            "linecolor": "white",
            "showbackground": true,
            "ticks": "",
            "zerolinecolor": "white"
           },
           "zaxis": {
            "backgroundcolor": "#E5ECF6",
            "gridcolor": "white",
            "gridwidth": 2,
            "linecolor": "white",
            "showbackground": true,
            "ticks": "",
            "zerolinecolor": "white"
           }
          },
          "shapedefaults": {
           "line": {
            "color": "#2a3f5f"
           }
          },
          "ternary": {
           "aaxis": {
            "gridcolor": "white",
            "linecolor": "white",
            "ticks": ""
           },
           "baxis": {
            "gridcolor": "white",
            "linecolor": "white",
            "ticks": ""
           },
           "bgcolor": "#E5ECF6",
           "caxis": {
            "gridcolor": "white",
            "linecolor": "white",
            "ticks": ""
           }
          },
          "title": {
           "x": 0.05
          },
          "xaxis": {
           "automargin": true,
           "gridcolor": "white",
           "linecolor": "white",
           "ticks": "",
           "title": {
            "standoff": 15
           },
           "zerolinecolor": "white",
           "zerolinewidth": 2
          },
          "yaxis": {
           "automargin": true,
           "gridcolor": "white",
           "linecolor": "white",
           "ticks": "",
           "title": {
            "standoff": 15
           },
           "zerolinecolor": "white",
           "zerolinewidth": 2
          }
         }
        },
        "title": {
         "text": "What is the gender identity of your parents?"
        },
        "width": 1000,
        "xaxis": {
         "anchor": "y",
         "categoryarray": [
          "Woman",
          "Man",
          "Non-binary person"
         ],
         "categoryorder": "array",
         "domain": [
          0,
          1
         ],
         "tickfont": {
          "size": 12
         },
         "tickmode": "array",
         "ticktext": [
          "Woman",
          "Man",
          "Non-binary<br>person"
         ],
         "tickvals": [
          "Woman",
          "Man",
          "Non-binary person"
         ],
         "title": {
          "text": ""
         }
        },
        "yaxis": {
         "anchor": "x",
         "domain": [
          0,
          1
         ],
         "title": {
          "text": "Percentage (%)"
         }
        }
       }
      }
     },
     "metadata": {},
     "output_type": "display_data"
    },
    {
     "data": {
      "application/vnd.plotly.v1+json": {
       "config": {
        "plotlyServerURL": "https://plot.ly"
       },
       "data": [
        {
         "alignmentgroup": "True",
         "customdata": {
          "bdata": "7gIqAkUBZwBUAooCPAOfBA==",
          "dtype": "i2",
          "shape": "8, 1"
         },
         "hovertemplate": "Group=Woman<br>Bin_Label=%{x}<br>Percentage=%{y}<br>text=%{text}<br>Count=%{customdata[0]}<extra></extra>",
         "legendgroup": "Woman",
         "marker": {
          "color": "#D7D9B1",
          "line": {
           "width": 1
          },
          "pattern": {
           "shape": ""
          }
         },
         "name": "Woman",
         "offsetgroup": "Woman",
         "orientation": "v",
         "showlegend": true,
         "text": [
          "7.6%",
          "5.6%",
          "3.3%",
          "1.0%",
          "6.0%",
          "6.6%",
          "8.4%",
          "12.0%"
         ],
         "textposition": "auto",
         "type": "bar",
         "x": [
          "College: 1-3 years",
          "College: 4 or more years",
          "Doctoral degree",
          "Elementary: 0-4 years",
          "Elementary: 5-8 years",
          "High School: 1-3 years",
          "High School: 4 or more years",
          "Master's or professional degree"
         ],
         "xaxis": "x",
         "y": {
          "bdata": "hQWN8hBeHkA9GZ6NcW4WQA1JiyeGUQpA2pdEv42u8D8o3vWQyiEYQA1JiyeGURpAL97O10jDIEDqv76ZJfMnQA==",
          "dtype": "f8"
         },
         "yaxis": "y"
        },
        {
         "alignmentgroup": "True",
         "customdata": {
          "bdata": "KwIQAngCUwAjAv0ByQIpBQ==",
          "dtype": "i2",
          "shape": "8, 1"
         },
         "hovertemplate": "Group=Man<br>Bin_Label=%{x}<br>Percentage=%{y}<br>text=%{text}<br>Count=%{customdata[0]}<extra></extra>",
         "legendgroup": "Man",
         "marker": {
          "color": "#3A6992",
          "line": {
           "width": 1
          },
          "pattern": {
           "shape": ""
          }
         },
         "name": "Man",
         "offsetgroup": "Man",
         "orientation": "v",
         "showlegend": true,
         "text": [
          "5.6%",
          "5.3%",
          "6.4%",
          "0.8%",
          "5.5%",
          "5.2%",
          "7.2%",
          "13.4%"
         ],
         "textposition": "auto",
         "type": "bar",
         "x": [
          "College: 1-3 years",
          "College: 4 or more years",
          "Doctoral degree",
          "Elementary: 0-4 years",
          "Elementary: 5-8 years",
          "High School: 1-3 years",
          "High School: 4 or more years",
          "Master's or professional degree"
         ],
         "xaxis": "x",
         "y": {
          "bdata": "aDzjGc94FkD1hphO8WAVQBbQrkrylhlAWzVT06Pi6j8WI7q34iUWQNTqduX/mxRAbfCOrIveHEBIOmFoXL4qQA==",
          "dtype": "f8"
         },
         "yaxis": "y"
        },
        {
         "alignmentgroup": "True",
         "customdata": {
          "bdata": "AQE=",
          "dtype": "i1",
          "shape": "2, 1"
         },
         "hovertemplate": "Group=Non-binary person<br>Bin_Label=%{x}<br>Percentage=%{y}<br>text=%{text}<br>Count=%{customdata[0]}<extra></extra>",
         "legendgroup": "Non-binary person",
         "marker": {
          "color": "#BB4430",
          "line": {
           "width": 1
          },
          "pattern": {
           "shape": ""
          }
         },
         "name": "Non-binary person",
         "offsetgroup": "Non-binary person",
         "orientation": "v",
         "showlegend": true,
         "text": [
          "0.0%",
          "0.0%"
         ],
         "textposition": "auto",
         "type": "bar",
         "x": [
          "High School: 4 or more years",
          "Master's or professional degree"
         ],
         "xaxis": "x",
         "y": {
          "bdata": "U1RGihi7hD9TVEaKGLuEPw==",
          "dtype": "f8"
         },
         "yaxis": "y"
        }
       ],
       "layout": {
        "barmode": "group",
        "height": 400,
        "legend": {
         "title": {
          "text": "Group"
         },
         "tracegroupgap": 0
        },
        "margin": {
         "r": 200
        },
        "template": {
         "data": {
          "bar": [
           {
            "error_x": {
             "color": "#2a3f5f"
            },
            "error_y": {
             "color": "#2a3f5f"
            },
            "marker": {
             "line": {
              "color": "#E5ECF6",
              "width": 0.5
             },
             "pattern": {
              "fillmode": "overlay",
              "size": 10,
              "solidity": 0.2
             }
            },
            "type": "bar"
           }
          ],
          "barpolar": [
           {
            "marker": {
             "line": {
              "color": "#E5ECF6",
              "width": 0.5
             },
             "pattern": {
              "fillmode": "overlay",
              "size": 10,
              "solidity": 0.2
             }
            },
            "type": "barpolar"
           }
          ],
          "carpet": [
           {
            "aaxis": {
             "endlinecolor": "#2a3f5f",
             "gridcolor": "white",
             "linecolor": "white",
             "minorgridcolor": "white",
             "startlinecolor": "#2a3f5f"
            },
            "baxis": {
             "endlinecolor": "#2a3f5f",
             "gridcolor": "white",
             "linecolor": "white",
             "minorgridcolor": "white",
             "startlinecolor": "#2a3f5f"
            },
            "type": "carpet"
           }
          ],
          "choropleth": [
           {
            "colorbar": {
             "outlinewidth": 0,
             "ticks": ""
            },
            "type": "choropleth"
           }
          ],
          "contour": [
           {
            "colorbar": {
             "outlinewidth": 0,
             "ticks": ""
            },
            "colorscale": [
             [
              0,
              "#0d0887"
             ],
             [
              0.1111111111111111,
              "#46039f"
             ],
             [
              0.2222222222222222,
              "#7201a8"
             ],
             [
              0.3333333333333333,
              "#9c179e"
             ],
             [
              0.4444444444444444,
              "#bd3786"
             ],
             [
              0.5555555555555556,
              "#d8576b"
             ],
             [
              0.6666666666666666,
              "#ed7953"
             ],
             [
              0.7777777777777778,
              "#fb9f3a"
             ],
             [
              0.8888888888888888,
              "#fdca26"
             ],
             [
              1,
              "#f0f921"
             ]
            ],
            "type": "contour"
           }
          ],
          "contourcarpet": [
           {
            "colorbar": {
             "outlinewidth": 0,
             "ticks": ""
            },
            "type": "contourcarpet"
           }
          ],
          "heatmap": [
           {
            "colorbar": {
             "outlinewidth": 0,
             "ticks": ""
            },
            "colorscale": [
             [
              0,
              "#0d0887"
             ],
             [
              0.1111111111111111,
              "#46039f"
             ],
             [
              0.2222222222222222,
              "#7201a8"
             ],
             [
              0.3333333333333333,
              "#9c179e"
             ],
             [
              0.4444444444444444,
              "#bd3786"
             ],
             [
              0.5555555555555556,
              "#d8576b"
             ],
             [
              0.6666666666666666,
              "#ed7953"
             ],
             [
              0.7777777777777778,
              "#fb9f3a"
             ],
             [
              0.8888888888888888,
              "#fdca26"
             ],
             [
              1,
              "#f0f921"
             ]
            ],
            "type": "heatmap"
           }
          ],
          "histogram": [
           {
            "marker": {
             "pattern": {
              "fillmode": "overlay",
              "size": 10,
              "solidity": 0.2
             }
            },
            "type": "histogram"
           }
          ],
          "histogram2d": [
           {
            "colorbar": {
             "outlinewidth": 0,
             "ticks": ""
            },
            "colorscale": [
             [
              0,
              "#0d0887"
             ],
             [
              0.1111111111111111,
              "#46039f"
             ],
             [
              0.2222222222222222,
              "#7201a8"
             ],
             [
              0.3333333333333333,
              "#9c179e"
             ],
             [
              0.4444444444444444,
              "#bd3786"
             ],
             [
              0.5555555555555556,
              "#d8576b"
             ],
             [
              0.6666666666666666,
              "#ed7953"
             ],
             [
              0.7777777777777778,
              "#fb9f3a"
             ],
             [
              0.8888888888888888,
              "#fdca26"
             ],
             [
              1,
              "#f0f921"
             ]
            ],
            "type": "histogram2d"
           }
          ],
          "histogram2dcontour": [
           {
            "colorbar": {
             "outlinewidth": 0,
             "ticks": ""
            },
            "colorscale": [
             [
              0,
              "#0d0887"
             ],
             [
              0.1111111111111111,
              "#46039f"
             ],
             [
              0.2222222222222222,
              "#7201a8"
             ],
             [
              0.3333333333333333,
              "#9c179e"
             ],
             [
              0.4444444444444444,
              "#bd3786"
             ],
             [
              0.5555555555555556,
              "#d8576b"
             ],
             [
              0.6666666666666666,
              "#ed7953"
             ],
             [
              0.7777777777777778,
              "#fb9f3a"
             ],
             [
              0.8888888888888888,
              "#fdca26"
             ],
             [
              1,
              "#f0f921"
             ]
            ],
            "type": "histogram2dcontour"
           }
          ],
          "mesh3d": [
           {
            "colorbar": {
             "outlinewidth": 0,
             "ticks": ""
            },
            "type": "mesh3d"
           }
          ],
          "parcoords": [
           {
            "line": {
             "colorbar": {
              "outlinewidth": 0,
              "ticks": ""
             }
            },
            "type": "parcoords"
           }
          ],
          "pie": [
           {
            "automargin": true,
            "type": "pie"
           }
          ],
          "scatter": [
           {
            "fillpattern": {
             "fillmode": "overlay",
             "size": 10,
             "solidity": 0.2
            },
            "type": "scatter"
           }
          ],
          "scatter3d": [
           {
            "line": {
             "colorbar": {
              "outlinewidth": 0,
              "ticks": ""
             }
            },
            "marker": {
             "colorbar": {
              "outlinewidth": 0,
              "ticks": ""
             }
            },
            "type": "scatter3d"
           }
          ],
          "scattercarpet": [
           {
            "marker": {
             "colorbar": {
              "outlinewidth": 0,
              "ticks": ""
             }
            },
            "type": "scattercarpet"
           }
          ],
          "scattergeo": [
           {
            "marker": {
             "colorbar": {
              "outlinewidth": 0,
              "ticks": ""
             }
            },
            "type": "scattergeo"
           }
          ],
          "scattergl": [
           {
            "marker": {
             "colorbar": {
              "outlinewidth": 0,
              "ticks": ""
             }
            },
            "type": "scattergl"
           }
          ],
          "scattermap": [
           {
            "marker": {
             "colorbar": {
              "outlinewidth": 0,
              "ticks": ""
             }
            },
            "type": "scattermap"
           }
          ],
          "scattermapbox": [
           {
            "marker": {
             "colorbar": {
              "outlinewidth": 0,
              "ticks": ""
             }
            },
            "type": "scattermapbox"
           }
          ],
          "scatterpolar": [
           {
            "marker": {
             "colorbar": {
              "outlinewidth": 0,
              "ticks": ""
             }
            },
            "type": "scatterpolar"
           }
          ],
          "scatterpolargl": [
           {
            "marker": {
             "colorbar": {
              "outlinewidth": 0,
              "ticks": ""
             }
            },
            "type": "scatterpolargl"
           }
          ],
          "scatterternary": [
           {
            "marker": {
             "colorbar": {
              "outlinewidth": 0,
              "ticks": ""
             }
            },
            "type": "scatterternary"
           }
          ],
          "surface": [
           {
            "colorbar": {
             "outlinewidth": 0,
             "ticks": ""
            },
            "colorscale": [
             [
              0,
              "#0d0887"
             ],
             [
              0.1111111111111111,
              "#46039f"
             ],
             [
              0.2222222222222222,
              "#7201a8"
             ],
             [
              0.3333333333333333,
              "#9c179e"
             ],
             [
              0.4444444444444444,
              "#bd3786"
             ],
             [
              0.5555555555555556,
              "#d8576b"
             ],
             [
              0.6666666666666666,
              "#ed7953"
             ],
             [
              0.7777777777777778,
              "#fb9f3a"
             ],
             [
              0.8888888888888888,
              "#fdca26"
             ],
             [
              1,
              "#f0f921"
             ]
            ],
            "type": "surface"
           }
          ],
          "table": [
           {
            "cells": {
             "fill": {
              "color": "#EBF0F8"
             },
             "line": {
              "color": "white"
             }
            },
            "header": {
             "fill": {
              "color": "#C8D4E3"
             },
             "line": {
              "color": "white"
             }
            },
            "type": "table"
           }
          ]
         },
         "layout": {
          "annotationdefaults": {
           "arrowcolor": "#2a3f5f",
           "arrowhead": 0,
           "arrowwidth": 1
          },
          "autotypenumbers": "strict",
          "coloraxis": {
           "colorbar": {
            "outlinewidth": 0,
            "ticks": ""
           }
          },
          "colorscale": {
           "diverging": [
            [
             0,
             "#8e0152"
            ],
            [
             0.1,
             "#c51b7d"
            ],
            [
             0.2,
             "#de77ae"
            ],
            [
             0.3,
             "#f1b6da"
            ],
            [
             0.4,
             "#fde0ef"
            ],
            [
             0.5,
             "#f7f7f7"
            ],
            [
             0.6,
             "#e6f5d0"
            ],
            [
             0.7,
             "#b8e186"
            ],
            [
             0.8,
             "#7fbc41"
            ],
            [
             0.9,
             "#4d9221"
            ],
            [
             1,
             "#276419"
            ]
           ],
           "sequential": [
            [
             0,
             "#0d0887"
            ],
            [
             0.1111111111111111,
             "#46039f"
            ],
            [
             0.2222222222222222,
             "#7201a8"
            ],
            [
             0.3333333333333333,
             "#9c179e"
            ],
            [
             0.4444444444444444,
             "#bd3786"
            ],
            [
             0.5555555555555556,
             "#d8576b"
            ],
            [
             0.6666666666666666,
             "#ed7953"
            ],
            [
             0.7777777777777778,
             "#fb9f3a"
            ],
            [
             0.8888888888888888,
             "#fdca26"
            ],
            [
             1,
             "#f0f921"
            ]
           ],
           "sequentialminus": [
            [
             0,
             "#0d0887"
            ],
            [
             0.1111111111111111,
             "#46039f"
            ],
            [
             0.2222222222222222,
             "#7201a8"
            ],
            [
             0.3333333333333333,
             "#9c179e"
            ],
            [
             0.4444444444444444,
             "#bd3786"
            ],
            [
             0.5555555555555556,
             "#d8576b"
            ],
            [
             0.6666666666666666,
             "#ed7953"
            ],
            [
             0.7777777777777778,
             "#fb9f3a"
            ],
            [
             0.8888888888888888,
             "#fdca26"
            ],
            [
             1,
             "#f0f921"
            ]
           ]
          },
          "colorway": [
           "#636efa",
           "#EF553B",
           "#00cc96",
           "#ab63fa",
           "#FFA15A",
           "#19d3f3",
           "#FF6692",
           "#B6E880",
           "#FF97FF",
           "#FECB52"
          ],
          "font": {
           "color": "#2a3f5f"
          },
          "geo": {
           "bgcolor": "white",
           "lakecolor": "white",
           "landcolor": "#E5ECF6",
           "showlakes": true,
           "showland": true,
           "subunitcolor": "white"
          },
          "hoverlabel": {
           "align": "left"
          },
          "hovermode": "closest",
          "mapbox": {
           "style": "light"
          },
          "paper_bgcolor": "white",
          "plot_bgcolor": "#E5ECF6",
          "polar": {
           "angularaxis": {
            "gridcolor": "white",
            "linecolor": "white",
            "ticks": ""
           },
           "bgcolor": "#E5ECF6",
           "radialaxis": {
            "gridcolor": "white",
            "linecolor": "white",
            "ticks": ""
           }
          },
          "scene": {
           "xaxis": {
            "backgroundcolor": "#E5ECF6",
            "gridcolor": "white",
            "gridwidth": 2,
            "linecolor": "white",
            "showbackground": true,
            "ticks": "",
            "zerolinecolor": "white"
           },
           "yaxis": {
            "backgroundcolor": "#E5ECF6",
            "gridcolor": "white",
            "gridwidth": 2,
            "linecolor": "white",
            "showbackground": true,
            "ticks": "",
            "zerolinecolor": "white"
           },
           "zaxis": {
            "backgroundcolor": "#E5ECF6",
            "gridcolor": "white",
            "gridwidth": 2,
            "linecolor": "white",
            "showbackground": true,
            "ticks": "",
            "zerolinecolor": "white"
           }
          },
          "shapedefaults": {
           "line": {
            "color": "#2a3f5f"
           }
          },
          "ternary": {
           "aaxis": {
            "gridcolor": "white",
            "linecolor": "white",
            "ticks": ""
           },
           "baxis": {
            "gridcolor": "white",
            "linecolor": "white",
            "ticks": ""
           },
           "bgcolor": "#E5ECF6",
           "caxis": {
            "gridcolor": "white",
            "linecolor": "white",
            "ticks": ""
           }
          },
          "title": {
           "x": 0.05
          },
          "xaxis": {
           "automargin": true,
           "gridcolor": "white",
           "linecolor": "white",
           "ticks": "",
           "title": {
            "standoff": 15
           },
           "zerolinecolor": "white",
           "zerolinewidth": 2
          },
          "yaxis": {
           "automargin": true,
           "gridcolor": "white",
           "linecolor": "white",
           "ticks": "",
           "title": {
            "standoff": 15
           },
           "zerolinecolor": "white",
           "zerolinewidth": 2
          }
         }
        },
        "title": {
         "text": "What is the highest level of education of your parents?"
        },
        "width": 1000,
        "xaxis": {
         "anchor": "y",
         "categoryarray": [
          "Elementary: 0-4 years",
          "Elementary: 5-8 years",
          "High School: 1-3 years",
          "High School: 4 or more years",
          "College: 1-3 years",
          "College: 4 or more years",
          "Master's or professional degree",
          "Doctoral degree",
          "Dont know"
         ],
         "categoryorder": "array",
         "domain": [
          0,
          1
         ],
         "tickfont": {
          "size": 12
         },
         "tickmode": "array",
         "ticktext": [
          "Elementary:<br>0-4 years",
          "Elementary:<br>5-8 years",
          "High School:<br>1-3 years",
          "High School:<br>4 or more<br>years",
          "College: 1-3<br>years",
          "College: 4<br>or more<br>years",
          "Master's or<br>professional<br>degree",
          "Doctoral<br>degree",
          "Dont know"
         ],
         "tickvals": [
          "Elementary: 0-4 years",
          "Elementary: 5-8 years",
          "High School: 1-3 years",
          "High School: 4 or more years",
          "College: 1-3 years",
          "College: 4 or more years",
          "Master's or professional degree",
          "Doctoral degree",
          "Dont know"
         ],
         "title": {
          "text": ""
         }
        },
        "yaxis": {
         "anchor": "x",
         "domain": [
          0,
          1
         ],
         "title": {
          "text": "Percentage (%)"
         }
        }
       }
      }
     },
     "metadata": {},
     "output_type": "display_data"
    },
    {
     "data": {
      "application/vnd.plotly.v1+json": {
       "config": {
        "plotlyServerURL": "https://plot.ly"
       },
       "data": [
        {
         "alignmentgroup": "True",
         "customdata": {
          "bdata": "WwB8DBMAagAtBg==",
          "dtype": "i2",
          "shape": "5, 1"
         },
         "hovertemplate": "Group=Woman<br>Bin_Label=%{x}<br>Percentage=%{y}<br>text=%{text}<br>Count=%{customdata[0]}<extra></extra>",
         "legendgroup": "Woman",
         "marker": {
          "color": "#D7D9B1",
          "line": {
           "width": 1
          },
          "pattern": {
           "shape": ""
          }
         },
         "name": "Woman",
         "offsetgroup": "Woman",
         "orientation": "v",
         "showlegend": true,
         "text": [
          "0.9%",
          "32.3%",
          "0.2%",
          "1.1%",
          "16.0%"
         ],
         "textposition": "auto",
         "type": "bar",
         "x": [
          "Dont know or something else",
          "Employed",
          "Not employed: could not find a job",
          "Not employed: other reason (e.g., retired, illness, ...)",
          "Not employed: stay-at-home parent"
         ],
         "xaxis": "x",
         "y": {
          "bdata": "oSBXJVlv7T+q43o3ICdAQFqwDQNClcg/dUjQI7gk8T9xYN0xRfYvQA==",
          "dtype": "f8"
         },
         "yaxis": "y"
        },
        {
         "alignmentgroup": "True",
         "customdata": {
          "bdata": "VAC5ERoAigBxAA==",
          "dtype": "i2",
          "shape": "5, 1"
         },
         "hovertemplate": "Group=Man<br>Bin_Label=%{x}<br>Percentage=%{y}<br>text=%{text}<br>Count=%{customdata[0]}<extra></extra>",
         "legendgroup": "Man",
         "marker": {
          "color": "#3A6992",
          "line": {
           "width": 1
          },
          "pattern": {
           "shape": ""
          }
         },
         "name": "Man",
         "offsetgroup": "Man",
         "orientation": "v",
         "showlegend": true,
         "text": [
          "0.8%",
          "45.9%",
          "0.3%",
          "1.4%",
          "1.1%"
         ],
         "textposition": "auto",
         "type": "bar",
         "x": [
          "Dont know or something else",
          "Employed",
          "Not employed: could not find a job",
          "Not employed: other reason (e.g., retired, illness, ...)",
          "Not employed: stay-at-home parent"
         ],
         "xaxis": "x",
         "y": {
          "bdata": "+KcBwLQr6z+131+7K+5GQIHJMczp0dA/sDe4nZ1R9j/KBHtWikbyPw==",
          "dtype": "f8"
         },
         "yaxis": "y"
        },
        {
         "alignmentgroup": "True",
         "customdata": {
          "bdata": "Ag==",
          "dtype": "i1",
          "shape": "1, 1"
         },
         "hovertemplate": "Group=Non-binary person<br>Bin_Label=%{x}<br>Percentage=%{y}<br>text=%{text}<br>Count=%{customdata[0]}<extra></extra>",
         "legendgroup": "Non-binary person",
         "marker": {
          "color": "#BB4430",
          "line": {
           "width": 1
          },
          "pattern": {
           "shape": ""
          }
         },
         "name": "Non-binary person",
         "offsetgroup": "Non-binary person",
         "orientation": "v",
         "showlegend": true,
         "text": [
          "0.0%"
         ],
         "textposition": "auto",
         "type": "bar",
         "x": [
          "Employed"
         ],
         "xaxis": "x",
         "y": {
          "bdata": "7byf55WzlD8=",
          "dtype": "f8"
         },
         "yaxis": "y"
        }
       ],
       "layout": {
        "barmode": "group",
        "height": 400,
        "legend": {
         "title": {
          "text": "Group"
         },
         "tracegroupgap": 0
        },
        "margin": {
         "r": 200
        },
        "template": {
         "data": {
          "bar": [
           {
            "error_x": {
             "color": "#2a3f5f"
            },
            "error_y": {
             "color": "#2a3f5f"
            },
            "marker": {
             "line": {
              "color": "#E5ECF6",
              "width": 0.5
             },
             "pattern": {
              "fillmode": "overlay",
              "size": 10,
              "solidity": 0.2
             }
            },
            "type": "bar"
           }
          ],
          "barpolar": [
           {
            "marker": {
             "line": {
              "color": "#E5ECF6",
              "width": 0.5
             },
             "pattern": {
              "fillmode": "overlay",
              "size": 10,
              "solidity": 0.2
             }
            },
            "type": "barpolar"
           }
          ],
          "carpet": [
           {
            "aaxis": {
             "endlinecolor": "#2a3f5f",
             "gridcolor": "white",
             "linecolor": "white",
             "minorgridcolor": "white",
             "startlinecolor": "#2a3f5f"
            },
            "baxis": {
             "endlinecolor": "#2a3f5f",
             "gridcolor": "white",
             "linecolor": "white",
             "minorgridcolor": "white",
             "startlinecolor": "#2a3f5f"
            },
            "type": "carpet"
           }
          ],
          "choropleth": [
           {
            "colorbar": {
             "outlinewidth": 0,
             "ticks": ""
            },
            "type": "choropleth"
           }
          ],
          "contour": [
           {
            "colorbar": {
             "outlinewidth": 0,
             "ticks": ""
            },
            "colorscale": [
             [
              0,
              "#0d0887"
             ],
             [
              0.1111111111111111,
              "#46039f"
             ],
             [
              0.2222222222222222,
              "#7201a8"
             ],
             [
              0.3333333333333333,
              "#9c179e"
             ],
             [
              0.4444444444444444,
              "#bd3786"
             ],
             [
              0.5555555555555556,
              "#d8576b"
             ],
             [
              0.6666666666666666,
              "#ed7953"
             ],
             [
              0.7777777777777778,
              "#fb9f3a"
             ],
             [
              0.8888888888888888,
              "#fdca26"
             ],
             [
              1,
              "#f0f921"
             ]
            ],
            "type": "contour"
           }
          ],
          "contourcarpet": [
           {
            "colorbar": {
             "outlinewidth": 0,
             "ticks": ""
            },
            "type": "contourcarpet"
           }
          ],
          "heatmap": [
           {
            "colorbar": {
             "outlinewidth": 0,
             "ticks": ""
            },
            "colorscale": [
             [
              0,
              "#0d0887"
             ],
             [
              0.1111111111111111,
              "#46039f"
             ],
             [
              0.2222222222222222,
              "#7201a8"
             ],
             [
              0.3333333333333333,
              "#9c179e"
             ],
             [
              0.4444444444444444,
              "#bd3786"
             ],
             [
              0.5555555555555556,
              "#d8576b"
             ],
             [
              0.6666666666666666,
              "#ed7953"
             ],
             [
              0.7777777777777778,
              "#fb9f3a"
             ],
             [
              0.8888888888888888,
              "#fdca26"
             ],
             [
              1,
              "#f0f921"
             ]
            ],
            "type": "heatmap"
           }
          ],
          "histogram": [
           {
            "marker": {
             "pattern": {
              "fillmode": "overlay",
              "size": 10,
              "solidity": 0.2
             }
            },
            "type": "histogram"
           }
          ],
          "histogram2d": [
           {
            "colorbar": {
             "outlinewidth": 0,
             "ticks": ""
            },
            "colorscale": [
             [
              0,
              "#0d0887"
             ],
             [
              0.1111111111111111,
              "#46039f"
             ],
             [
              0.2222222222222222,
              "#7201a8"
             ],
             [
              0.3333333333333333,
              "#9c179e"
             ],
             [
              0.4444444444444444,
              "#bd3786"
             ],
             [
              0.5555555555555556,
              "#d8576b"
             ],
             [
              0.6666666666666666,
              "#ed7953"
             ],
             [
              0.7777777777777778,
              "#fb9f3a"
             ],
             [
              0.8888888888888888,
              "#fdca26"
             ],
             [
              1,
              "#f0f921"
             ]
            ],
            "type": "histogram2d"
           }
          ],
          "histogram2dcontour": [
           {
            "colorbar": {
             "outlinewidth": 0,
             "ticks": ""
            },
            "colorscale": [
             [
              0,
              "#0d0887"
             ],
             [
              0.1111111111111111,
              "#46039f"
             ],
             [
              0.2222222222222222,
              "#7201a8"
             ],
             [
              0.3333333333333333,
              "#9c179e"
             ],
             [
              0.4444444444444444,
              "#bd3786"
             ],
             [
              0.5555555555555556,
              "#d8576b"
             ],
             [
              0.6666666666666666,
              "#ed7953"
             ],
             [
              0.7777777777777778,
              "#fb9f3a"
             ],
             [
              0.8888888888888888,
              "#fdca26"
             ],
             [
              1,
              "#f0f921"
             ]
            ],
            "type": "histogram2dcontour"
           }
          ],
          "mesh3d": [
           {
            "colorbar": {
             "outlinewidth": 0,
             "ticks": ""
            },
            "type": "mesh3d"
           }
          ],
          "parcoords": [
           {
            "line": {
             "colorbar": {
              "outlinewidth": 0,
              "ticks": ""
             }
            },
            "type": "parcoords"
           }
          ],
          "pie": [
           {
            "automargin": true,
            "type": "pie"
           }
          ],
          "scatter": [
           {
            "fillpattern": {
             "fillmode": "overlay",
             "size": 10,
             "solidity": 0.2
            },
            "type": "scatter"
           }
          ],
          "scatter3d": [
           {
            "line": {
             "colorbar": {
              "outlinewidth": 0,
              "ticks": ""
             }
            },
            "marker": {
             "colorbar": {
              "outlinewidth": 0,
              "ticks": ""
             }
            },
            "type": "scatter3d"
           }
          ],
          "scattercarpet": [
           {
            "marker": {
             "colorbar": {
              "outlinewidth": 0,
              "ticks": ""
             }
            },
            "type": "scattercarpet"
           }
          ],
          "scattergeo": [
           {
            "marker": {
             "colorbar": {
              "outlinewidth": 0,
              "ticks": ""
             }
            },
            "type": "scattergeo"
           }
          ],
          "scattergl": [
           {
            "marker": {
             "colorbar": {
              "outlinewidth": 0,
              "ticks": ""
             }
            },
            "type": "scattergl"
           }
          ],
          "scattermap": [
           {
            "marker": {
             "colorbar": {
              "outlinewidth": 0,
              "ticks": ""
             }
            },
            "type": "scattermap"
           }
          ],
          "scattermapbox": [
           {
            "marker": {
             "colorbar": {
              "outlinewidth": 0,
              "ticks": ""
             }
            },
            "type": "scattermapbox"
           }
          ],
          "scatterpolar": [
           {
            "marker": {
             "colorbar": {
              "outlinewidth": 0,
              "ticks": ""
             }
            },
            "type": "scatterpolar"
           }
          ],
          "scatterpolargl": [
           {
            "marker": {
             "colorbar": {
              "outlinewidth": 0,
              "ticks": ""
             }
            },
            "type": "scatterpolargl"
           }
          ],
          "scatterternary": [
           {
            "marker": {
             "colorbar": {
              "outlinewidth": 0,
              "ticks": ""
             }
            },
            "type": "scatterternary"
           }
          ],
          "surface": [
           {
            "colorbar": {
             "outlinewidth": 0,
             "ticks": ""
            },
            "colorscale": [
             [
              0,
              "#0d0887"
             ],
             [
              0.1111111111111111,
              "#46039f"
             ],
             [
              0.2222222222222222,
              "#7201a8"
             ],
             [
              0.3333333333333333,
              "#9c179e"
             ],
             [
              0.4444444444444444,
              "#bd3786"
             ],
             [
              0.5555555555555556,
              "#d8576b"
             ],
             [
              0.6666666666666666,
              "#ed7953"
             ],
             [
              0.7777777777777778,
              "#fb9f3a"
             ],
             [
              0.8888888888888888,
              "#fdca26"
             ],
             [
              1,
              "#f0f921"
             ]
            ],
            "type": "surface"
           }
          ],
          "table": [
           {
            "cells": {
             "fill": {
              "color": "#EBF0F8"
             },
             "line": {
              "color": "white"
             }
            },
            "header": {
             "fill": {
              "color": "#C8D4E3"
             },
             "line": {
              "color": "white"
             }
            },
            "type": "table"
           }
          ]
         },
         "layout": {
          "annotationdefaults": {
           "arrowcolor": "#2a3f5f",
           "arrowhead": 0,
           "arrowwidth": 1
          },
          "autotypenumbers": "strict",
          "coloraxis": {
           "colorbar": {
            "outlinewidth": 0,
            "ticks": ""
           }
          },
          "colorscale": {
           "diverging": [
            [
             0,
             "#8e0152"
            ],
            [
             0.1,
             "#c51b7d"
            ],
            [
             0.2,
             "#de77ae"
            ],
            [
             0.3,
             "#f1b6da"
            ],
            [
             0.4,
             "#fde0ef"
            ],
            [
             0.5,
             "#f7f7f7"
            ],
            [
             0.6,
             "#e6f5d0"
            ],
            [
             0.7,
             "#b8e186"
            ],
            [
             0.8,
             "#7fbc41"
            ],
            [
             0.9,
             "#4d9221"
            ],
            [
             1,
             "#276419"
            ]
           ],
           "sequential": [
            [
             0,
             "#0d0887"
            ],
            [
             0.1111111111111111,
             "#46039f"
            ],
            [
             0.2222222222222222,
             "#7201a8"
            ],
            [
             0.3333333333333333,
             "#9c179e"
            ],
            [
             0.4444444444444444,
             "#bd3786"
            ],
            [
             0.5555555555555556,
             "#d8576b"
            ],
            [
             0.6666666666666666,
             "#ed7953"
            ],
            [
             0.7777777777777778,
             "#fb9f3a"
            ],
            [
             0.8888888888888888,
             "#fdca26"
            ],
            [
             1,
             "#f0f921"
            ]
           ],
           "sequentialminus": [
            [
             0,
             "#0d0887"
            ],
            [
             0.1111111111111111,
             "#46039f"
            ],
            [
             0.2222222222222222,
             "#7201a8"
            ],
            [
             0.3333333333333333,
             "#9c179e"
            ],
            [
             0.4444444444444444,
             "#bd3786"
            ],
            [
             0.5555555555555556,
             "#d8576b"
            ],
            [
             0.6666666666666666,
             "#ed7953"
            ],
            [
             0.7777777777777778,
             "#fb9f3a"
            ],
            [
             0.8888888888888888,
             "#fdca26"
            ],
            [
             1,
             "#f0f921"
            ]
           ]
          },
          "colorway": [
           "#636efa",
           "#EF553B",
           "#00cc96",
           "#ab63fa",
           "#FFA15A",
           "#19d3f3",
           "#FF6692",
           "#B6E880",
           "#FF97FF",
           "#FECB52"
          ],
          "font": {
           "color": "#2a3f5f"
          },
          "geo": {
           "bgcolor": "white",
           "lakecolor": "white",
           "landcolor": "#E5ECF6",
           "showlakes": true,
           "showland": true,
           "subunitcolor": "white"
          },
          "hoverlabel": {
           "align": "left"
          },
          "hovermode": "closest",
          "mapbox": {
           "style": "light"
          },
          "paper_bgcolor": "white",
          "plot_bgcolor": "#E5ECF6",
          "polar": {
           "angularaxis": {
            "gridcolor": "white",
            "linecolor": "white",
            "ticks": ""
           },
           "bgcolor": "#E5ECF6",
           "radialaxis": {
            "gridcolor": "white",
            "linecolor": "white",
            "ticks": ""
           }
          },
          "scene": {
           "xaxis": {
            "backgroundcolor": "#E5ECF6",
            "gridcolor": "white",
            "gridwidth": 2,
            "linecolor": "white",
            "showbackground": true,
            "ticks": "",
            "zerolinecolor": "white"
           },
           "yaxis": {
            "backgroundcolor": "#E5ECF6",
            "gridcolor": "white",
            "gridwidth": 2,
            "linecolor": "white",
            "showbackground": true,
            "ticks": "",
            "zerolinecolor": "white"
           },
           "zaxis": {
            "backgroundcolor": "#E5ECF6",
            "gridcolor": "white",
            "gridwidth": 2,
            "linecolor": "white",
            "showbackground": true,
            "ticks": "",
            "zerolinecolor": "white"
           }
          },
          "shapedefaults": {
           "line": {
            "color": "#2a3f5f"
           }
          },
          "ternary": {
           "aaxis": {
            "gridcolor": "white",
            "linecolor": "white",
            "ticks": ""
           },
           "baxis": {
            "gridcolor": "white",
            "linecolor": "white",
            "ticks": ""
           },
           "bgcolor": "#E5ECF6",
           "caxis": {
            "gridcolor": "white",
            "linecolor": "white",
            "ticks": ""
           }
          },
          "title": {
           "x": 0.05
          },
          "xaxis": {
           "automargin": true,
           "gridcolor": "white",
           "linecolor": "white",
           "ticks": "",
           "title": {
            "standoff": 15
           },
           "zerolinecolor": "white",
           "zerolinewidth": 2
          },
          "yaxis": {
           "automargin": true,
           "gridcolor": "white",
           "linecolor": "white",
           "ticks": "",
           "title": {
            "standoff": 15
           },
           "zerolinecolor": "white",
           "zerolinewidth": 2
          }
         }
        },
        "title": {
         "text": "What best describes the employment status of your parents<br>during all or most of the first 18 years of your life?"
        },
        "width": 1000,
        "xaxis": {
         "anchor": "y",
         "categoryarray": [
          "Employed",
          "Not employed: stay-at-home parent",
          "Not employed: could not find a job",
          "Not employed: other reason (e.g., retired, illness, ...)",
          "Dont know or something else"
         ],
         "categoryorder": "array",
         "domain": [
          0,
          1
         ],
         "tickfont": {
          "size": 12
         },
         "tickmode": "array",
         "ticktext": [
          "Employed",
          "Not<br>employed:<br>stay-at-home<br>parent",
          "Not<br>employed:<br>could not<br>find a job",
          "Not<br>employed:<br>other reason<br>(e.g.,<br>retired,<br>illness,<br>...)",
          "Dont know or<br>something<br>else"
         ],
         "tickvals": [
          "Employed",
          "Not employed: stay-at-home parent",
          "Not employed: could not find a job",
          "Not employed: other reason (e.g., retired, illness, ...)",
          "Dont know or something else"
         ],
         "title": {
          "text": ""
         }
        },
        "yaxis": {
         "anchor": "x",
         "domain": [
          0,
          1
         ],
         "title": {
          "text": "Percentage (%)"
         }
        }
       }
      }
     },
     "metadata": {},
     "output_type": "display_data"
    },
    {
     "data": {
      "application/vnd.plotly.v1+json": {
       "config": {
        "plotlyServerURL": "https://plot.ly"
       },
       "data": [
        {
         "alignmentgroup": "True",
         "customdata": {
          "bdata": "AwUHFRcE",
          "dtype": "i1",
          "shape": "6, 1"
         },
         "hovertemplate": "Group=Africa<br>Value=%{x}<br>Percentage=%{y}<br>text=%{text}<br>Count=%{customdata[0]}<extra></extra>",
         "legendgroup": "Africa",
         "marker": {
          "color": "#795663",
          "line": {
           "width": 1
          },
          "pattern": {
           "shape": ""
          }
         },
         "name": "Africa",
         "offsetgroup": "Africa",
         "orientation": "v",
         "showlegend": true,
         "text": [
          "2.6%",
          "1.2%",
          "0.8%",
          "1.2%",
          "0.8%",
          "0.4%"
         ],
         "textposition": "auto",
         "type": "bar",
         "x": [
          "1970–1979",
          "1980–1989",
          "1990–1999",
          "2000–2009",
          "2010–2019",
          "2020–2029"
         ],
         "xaxis": "x",
         "y": {
          "bdata": "NUiDNEiDBEC8DEYBh+bzP731kQC/8eg/1iIMq1K98j/WVzNHXrfpP9EWLov/0NY/",
          "dtype": "f8"
         },
         "yaxis": "y"
        },
        {
         "alignmentgroup": "True",
         "customdata": {
          "bdata": "AQMcJEZYDQ==",
          "dtype": "i1",
          "shape": "7, 1"
         },
         "hovertemplate": "Group=America<br>Value=%{x}<br>Percentage=%{y}<br>text=%{text}<br>Count=%{customdata[0]}<extra></extra>",
         "legendgroup": "America",
         "marker": {
          "color": "#B89685",
          "line": {
           "width": 1
          },
          "pattern": {
           "shape": ""
          }
         },
         "name": "America",
         "offsetgroup": "America",
         "orientation": "v",
         "showlegend": true,
         "text": [
          "4.2%",
          "2.6%",
          "7.0%",
          "4.0%",
          "3.9%",
          "3.1%",
          "1.2%"
         ],
         "textposition": "auto",
         "type": "bar",
         "x": [
          "1960–1969",
          "1970–1979",
          "1980–1989",
          "1990–1999",
          "2000–2009",
          "2010–2019",
          "2020–2029"
         ],
         "xaxis": "x",
         "y": {
          "bdata": "q6qqqqqqEEA1SIM0SIMEQNURYptW3BtAsIvLWx8JEEC75L7HiTsPQKEy44YimQhAinIVoc+J8j8=",
          "dtype": "f8"
         },
         "yaxis": "y"
        },
        {
         "alignmentgroup": "True",
         "customdata": {
          "bdata": "AQMQKjoa",
          "dtype": "i1",
          "shape": "6, 1"
         },
         "hovertemplate": "Group=Asia<br>Value=%{x}<br>Percentage=%{y}<br>text=%{text}<br>Count=%{customdata[0]}<extra></extra>",
         "legendgroup": "Asia",
         "marker": {
          "color": "#808F85",
          "line": {
           "width": 1
          },
          "pattern": {
           "shape": ""
          }
         },
         "name": "Asia",
         "offsetgroup": "Asia",
         "orientation": "v",
         "showlegend": true,
         "text": [
          "0.9%",
          "0.7%",
          "1.8%",
          "2.3%",
          "2.0%",
          "2.3%"
         ],
         "textposition": "auto",
         "type": "bar",
         "x": [
          "1970–1979",
          "1980–1989",
          "1990–1999",
          "2000–2009",
          "2010–2019",
          "2020–2029"
         ],
         "xaxis": "x",
         "y": {
          "bdata": "m7VZm7VZ6z9JD1TObuHnP4+GFNz+gfw/1iIMq1K9AkCNG4pkYjYAQIpyFaHPiQJA",
          "dtype": "f8"
         },
         "yaxis": "y"
        },
        {
         "alignmentgroup": "True",
         "customdata": {
          "bdata": "FwBtAG4BRQNyBncKNQQ=",
          "dtype": "i2",
          "shape": "7, 1"
         },
         "hovertemplate": "Group=Europe<br>Value=%{x}<br>Percentage=%{y}<br>text=%{text}<br>Count=%{customdata[0]}<extra></extra>",
         "legendgroup": "Europe",
         "marker": {
          "color": "#D7D9B1",
          "line": {
           "width": 1
          },
          "pattern": {
           "shape": ""
          }
         },
         "name": "Europe",
         "offsetgroup": "Europe",
         "orientation": "v",
         "showlegend": true,
         "text": [
          "95.8%",
          "93.2%",
          "91.0%",
          "93.2%",
          "92.0%",
          "93.6%",
          "96.0%"
         ],
         "textposition": "auto",
         "type": "bar",
         "x": [
          "1960–1969",
          "1970–1979",
          "1980–1989",
          "1990–1999",
          "2000–2009",
          "2010–2019",
          "2020–2029"
         ],
         "xaxis": "x",
         "y": {
          "bdata": "VVVVVVX1V0CmZEqmZEpXQJEeqJzdwlZA/MZjkUFNV0AOnbQPkgFXQM1qDZPGZldAfzkixVD/V0A=",
          "dtype": "f8"
         },
         "yaxis": "y"
        },
        {
         "alignmentgroup": "True",
         "customdata": {
          "bdata": "AQIKDgI=",
          "dtype": "i1",
          "shape": "5, 1"
         },
         "hovertemplate": "Group=Oceania<br>Value=%{x}<br>Percentage=%{y}<br>text=%{text}<br>Count=%{customdata[0]}<extra></extra>",
         "legendgroup": "Oceania",
         "marker": {
          "color": "#3A6992",
          "line": {
           "width": 1
          },
          "pattern": {
           "shape": ""
          }
         },
         "name": "Oceania",
         "offsetgroup": "Oceania",
         "orientation": "v",
         "showlegend": true,
         "text": [
          "0.9%",
          "0.2%",
          "0.6%",
          "0.5%",
          "0.2%"
         ],
         "textposition": "auto",
         "type": "bar",
         "x": [
          "1970–1979",
          "1990–1999",
          "2000–2009",
          "2010–2019",
          "2020–2029"
         ],
         "xaxis": "x",
         "y": {
          "bdata": "m7VZm7VZ6z+PhhTc/oHMP/0UbQTh2OE/5BHECIlO3z/RFi6L/9DGPw==",
          "dtype": "f8"
         },
         "yaxis": "y"
        }
       ],
       "layout": {
        "barmode": "group",
        "height": 400,
        "legend": {
         "title": {
          "text": "Group"
         },
         "tracegroupgap": 0
        },
        "margin": {
         "r": 200
        },
        "template": {
         "data": {
          "bar": [
           {
            "error_x": {
             "color": "#2a3f5f"
            },
            "error_y": {
             "color": "#2a3f5f"
            },
            "marker": {
             "line": {
              "color": "#E5ECF6",
              "width": 0.5
             },
             "pattern": {
              "fillmode": "overlay",
              "size": 10,
              "solidity": 0.2
             }
            },
            "type": "bar"
           }
          ],
          "barpolar": [
           {
            "marker": {
             "line": {
              "color": "#E5ECF6",
              "width": 0.5
             },
             "pattern": {
              "fillmode": "overlay",
              "size": 10,
              "solidity": 0.2
             }
            },
            "type": "barpolar"
           }
          ],
          "carpet": [
           {
            "aaxis": {
             "endlinecolor": "#2a3f5f",
             "gridcolor": "white",
             "linecolor": "white",
             "minorgridcolor": "white",
             "startlinecolor": "#2a3f5f"
            },
            "baxis": {
             "endlinecolor": "#2a3f5f",
             "gridcolor": "white",
             "linecolor": "white",
             "minorgridcolor": "white",
             "startlinecolor": "#2a3f5f"
            },
            "type": "carpet"
           }
          ],
          "choropleth": [
           {
            "colorbar": {
             "outlinewidth": 0,
             "ticks": ""
            },
            "type": "choropleth"
           }
          ],
          "contour": [
           {
            "colorbar": {
             "outlinewidth": 0,
             "ticks": ""
            },
            "colorscale": [
             [
              0,
              "#0d0887"
             ],
             [
              0.1111111111111111,
              "#46039f"
             ],
             [
              0.2222222222222222,
              "#7201a8"
             ],
             [
              0.3333333333333333,
              "#9c179e"
             ],
             [
              0.4444444444444444,
              "#bd3786"
             ],
             [
              0.5555555555555556,
              "#d8576b"
             ],
             [
              0.6666666666666666,
              "#ed7953"
             ],
             [
              0.7777777777777778,
              "#fb9f3a"
             ],
             [
              0.8888888888888888,
              "#fdca26"
             ],
             [
              1,
              "#f0f921"
             ]
            ],
            "type": "contour"
           }
          ],
          "contourcarpet": [
           {
            "colorbar": {
             "outlinewidth": 0,
             "ticks": ""
            },
            "type": "contourcarpet"
           }
          ],
          "heatmap": [
           {
            "colorbar": {
             "outlinewidth": 0,
             "ticks": ""
            },
            "colorscale": [
             [
              0,
              "#0d0887"
             ],
             [
              0.1111111111111111,
              "#46039f"
             ],
             [
              0.2222222222222222,
              "#7201a8"
             ],
             [
              0.3333333333333333,
              "#9c179e"
             ],
             [
              0.4444444444444444,
              "#bd3786"
             ],
             [
              0.5555555555555556,
              "#d8576b"
             ],
             [
              0.6666666666666666,
              "#ed7953"
             ],
             [
              0.7777777777777778,
              "#fb9f3a"
             ],
             [
              0.8888888888888888,
              "#fdca26"
             ],
             [
              1,
              "#f0f921"
             ]
            ],
            "type": "heatmap"
           }
          ],
          "histogram": [
           {
            "marker": {
             "pattern": {
              "fillmode": "overlay",
              "size": 10,
              "solidity": 0.2
             }
            },
            "type": "histogram"
           }
          ],
          "histogram2d": [
           {
            "colorbar": {
             "outlinewidth": 0,
             "ticks": ""
            },
            "colorscale": [
             [
              0,
              "#0d0887"
             ],
             [
              0.1111111111111111,
              "#46039f"
             ],
             [
              0.2222222222222222,
              "#7201a8"
             ],
             [
              0.3333333333333333,
              "#9c179e"
             ],
             [
              0.4444444444444444,
              "#bd3786"
             ],
             [
              0.5555555555555556,
              "#d8576b"
             ],
             [
              0.6666666666666666,
              "#ed7953"
             ],
             [
              0.7777777777777778,
              "#fb9f3a"
             ],
             [
              0.8888888888888888,
              "#fdca26"
             ],
             [
              1,
              "#f0f921"
             ]
            ],
            "type": "histogram2d"
           }
          ],
          "histogram2dcontour": [
           {
            "colorbar": {
             "outlinewidth": 0,
             "ticks": ""
            },
            "colorscale": [
             [
              0,
              "#0d0887"
             ],
             [
              0.1111111111111111,
              "#46039f"
             ],
             [
              0.2222222222222222,
              "#7201a8"
             ],
             [
              0.3333333333333333,
              "#9c179e"
             ],
             [
              0.4444444444444444,
              "#bd3786"
             ],
             [
              0.5555555555555556,
              "#d8576b"
             ],
             [
              0.6666666666666666,
              "#ed7953"
             ],
             [
              0.7777777777777778,
              "#fb9f3a"
             ],
             [
              0.8888888888888888,
              "#fdca26"
             ],
             [
              1,
              "#f0f921"
             ]
            ],
            "type": "histogram2dcontour"
           }
          ],
          "mesh3d": [
           {
            "colorbar": {
             "outlinewidth": 0,
             "ticks": ""
            },
            "type": "mesh3d"
           }
          ],
          "parcoords": [
           {
            "line": {
             "colorbar": {
              "outlinewidth": 0,
              "ticks": ""
             }
            },
            "type": "parcoords"
           }
          ],
          "pie": [
           {
            "automargin": true,
            "type": "pie"
           }
          ],
          "scatter": [
           {
            "fillpattern": {
             "fillmode": "overlay",
             "size": 10,
             "solidity": 0.2
            },
            "type": "scatter"
           }
          ],
          "scatter3d": [
           {
            "line": {
             "colorbar": {
              "outlinewidth": 0,
              "ticks": ""
             }
            },
            "marker": {
             "colorbar": {
              "outlinewidth": 0,
              "ticks": ""
             }
            },
            "type": "scatter3d"
           }
          ],
          "scattercarpet": [
           {
            "marker": {
             "colorbar": {
              "outlinewidth": 0,
              "ticks": ""
             }
            },
            "type": "scattercarpet"
           }
          ],
          "scattergeo": [
           {
            "marker": {
             "colorbar": {
              "outlinewidth": 0,
              "ticks": ""
             }
            },
            "type": "scattergeo"
           }
          ],
          "scattergl": [
           {
            "marker": {
             "colorbar": {
              "outlinewidth": 0,
              "ticks": ""
             }
            },
            "type": "scattergl"
           }
          ],
          "scattermap": [
           {
            "marker": {
             "colorbar": {
              "outlinewidth": 0,
              "ticks": ""
             }
            },
            "type": "scattermap"
           }
          ],
          "scattermapbox": [
           {
            "marker": {
             "colorbar": {
              "outlinewidth": 0,
              "ticks": ""
             }
            },
            "type": "scattermapbox"
           }
          ],
          "scatterpolar": [
           {
            "marker": {
             "colorbar": {
              "outlinewidth": 0,
              "ticks": ""
             }
            },
            "type": "scatterpolar"
           }
          ],
          "scatterpolargl": [
           {
            "marker": {
             "colorbar": {
              "outlinewidth": 0,
              "ticks": ""
             }
            },
            "type": "scatterpolargl"
           }
          ],
          "scatterternary": [
           {
            "marker": {
             "colorbar": {
              "outlinewidth": 0,
              "ticks": ""
             }
            },
            "type": "scatterternary"
           }
          ],
          "surface": [
           {
            "colorbar": {
             "outlinewidth": 0,
             "ticks": ""
            },
            "colorscale": [
             [
              0,
              "#0d0887"
             ],
             [
              0.1111111111111111,
              "#46039f"
             ],
             [
              0.2222222222222222,
              "#7201a8"
             ],
             [
              0.3333333333333333,
              "#9c179e"
             ],
             [
              0.4444444444444444,
              "#bd3786"
             ],
             [
              0.5555555555555556,
              "#d8576b"
             ],
             [
              0.6666666666666666,
              "#ed7953"
             ],
             [
              0.7777777777777778,
              "#fb9f3a"
             ],
             [
              0.8888888888888888,
              "#fdca26"
             ],
             [
              1,
              "#f0f921"
             ]
            ],
            "type": "surface"
           }
          ],
          "table": [
           {
            "cells": {
             "fill": {
              "color": "#EBF0F8"
             },
             "line": {
              "color": "white"
             }
            },
            "header": {
             "fill": {
              "color": "#C8D4E3"
             },
             "line": {
              "color": "white"
             }
            },
            "type": "table"
           }
          ]
         },
         "layout": {
          "annotationdefaults": {
           "arrowcolor": "#2a3f5f",
           "arrowhead": 0,
           "arrowwidth": 1
          },
          "autotypenumbers": "strict",
          "coloraxis": {
           "colorbar": {
            "outlinewidth": 0,
            "ticks": ""
           }
          },
          "colorscale": {
           "diverging": [
            [
             0,
             "#8e0152"
            ],
            [
             0.1,
             "#c51b7d"
            ],
            [
             0.2,
             "#de77ae"
            ],
            [
             0.3,
             "#f1b6da"
            ],
            [
             0.4,
             "#fde0ef"
            ],
            [
             0.5,
             "#f7f7f7"
            ],
            [
             0.6,
             "#e6f5d0"
            ],
            [
             0.7,
             "#b8e186"
            ],
            [
             0.8,
             "#7fbc41"
            ],
            [
             0.9,
             "#4d9221"
            ],
            [
             1,
             "#276419"
            ]
           ],
           "sequential": [
            [
             0,
             "#0d0887"
            ],
            [
             0.1111111111111111,
             "#46039f"
            ],
            [
             0.2222222222222222,
             "#7201a8"
            ],
            [
             0.3333333333333333,
             "#9c179e"
            ],
            [
             0.4444444444444444,
             "#bd3786"
            ],
            [
             0.5555555555555556,
             "#d8576b"
            ],
            [
             0.6666666666666666,
             "#ed7953"
            ],
            [
             0.7777777777777778,
             "#fb9f3a"
            ],
            [
             0.8888888888888888,
             "#fdca26"
            ],
            [
             1,
             "#f0f921"
            ]
           ],
           "sequentialminus": [
            [
             0,
             "#0d0887"
            ],
            [
             0.1111111111111111,
             "#46039f"
            ],
            [
             0.2222222222222222,
             "#7201a8"
            ],
            [
             0.3333333333333333,
             "#9c179e"
            ],
            [
             0.4444444444444444,
             "#bd3786"
            ],
            [
             0.5555555555555556,
             "#d8576b"
            ],
            [
             0.6666666666666666,
             "#ed7953"
            ],
            [
             0.7777777777777778,
             "#fb9f3a"
            ],
            [
             0.8888888888888888,
             "#fdca26"
            ],
            [
             1,
             "#f0f921"
            ]
           ]
          },
          "colorway": [
           "#636efa",
           "#EF553B",
           "#00cc96",
           "#ab63fa",
           "#FFA15A",
           "#19d3f3",
           "#FF6692",
           "#B6E880",
           "#FF97FF",
           "#FECB52"
          ],
          "font": {
           "color": "#2a3f5f"
          },
          "geo": {
           "bgcolor": "white",
           "lakecolor": "white",
           "landcolor": "#E5ECF6",
           "showlakes": true,
           "showland": true,
           "subunitcolor": "white"
          },
          "hoverlabel": {
           "align": "left"
          },
          "hovermode": "closest",
          "mapbox": {
           "style": "light"
          },
          "paper_bgcolor": "white",
          "plot_bgcolor": "#E5ECF6",
          "polar": {
           "angularaxis": {
            "gridcolor": "white",
            "linecolor": "white",
            "ticks": ""
           },
           "bgcolor": "#E5ECF6",
           "radialaxis": {
            "gridcolor": "white",
            "linecolor": "white",
            "ticks": ""
           }
          },
          "scene": {
           "xaxis": {
            "backgroundcolor": "#E5ECF6",
            "gridcolor": "white",
            "gridwidth": 2,
            "linecolor": "white",
            "showbackground": true,
            "ticks": "",
            "zerolinecolor": "white"
           },
           "yaxis": {
            "backgroundcolor": "#E5ECF6",
            "gridcolor": "white",
            "gridwidth": 2,
            "linecolor": "white",
            "showbackground": true,
            "ticks": "",
            "zerolinecolor": "white"
           },
           "zaxis": {
            "backgroundcolor": "#E5ECF6",
            "gridcolor": "white",
            "gridwidth": 2,
            "linecolor": "white",
            "showbackground": true,
            "ticks": "",
            "zerolinecolor": "white"
           }
          },
          "shapedefaults": {
           "line": {
            "color": "#2a3f5f"
           }
          },
          "ternary": {
           "aaxis": {
            "gridcolor": "white",
            "linecolor": "white",
            "ticks": ""
           },
           "baxis": {
            "gridcolor": "white",
            "linecolor": "white",
            "ticks": ""
           },
           "bgcolor": "#E5ECF6",
           "caxis": {
            "gridcolor": "white",
            "linecolor": "white",
            "ticks": ""
           }
          },
          "title": {
           "x": 0.05
          },
          "xaxis": {
           "automargin": true,
           "gridcolor": "white",
           "linecolor": "white",
           "ticks": "",
           "title": {
            "standoff": 15
           },
           "zerolinecolor": "white",
           "zerolinewidth": 2
          },
          "yaxis": {
           "automargin": true,
           "gridcolor": "white",
           "linecolor": "white",
           "ticks": "",
           "title": {
            "standoff": 15
           },
           "zerolinecolor": "white",
           "zerolinewidth": 2
          }
         }
        },
        "title": {
         "text": "When and where was/were your child/ren born?"
        },
        "width": 1000,
        "xaxis": {
         "anchor": "y",
         "categoryarray": [
          "1970–1979",
          "1980–1989",
          "1990–1999",
          "2000–2009",
          "2010–2019",
          "2020–2029",
          "1960–1969"
         ],
         "categoryorder": "array",
         "domain": [
          0,
          1
         ],
         "title": {
          "text": ""
         }
        },
        "yaxis": {
         "anchor": "x",
         "domain": [
          0,
          1
         ],
         "title": {
          "text": "Percentage (%)"
         }
        }
       }
      }
     },
     "metadata": {},
     "output_type": "display_data"
    },
    {
     "data": {
      "application/vnd.plotly.v1+json": {
       "config": {
        "plotlyServerURL": "https://plot.ly"
       },
       "data": [
        {
         "alignmentgroup": "True",
         "customdata": {
          "bdata": "kQLdB1AAFgA=",
          "dtype": "i2",
          "shape": "4, 1"
         },
         "hovertemplate": "Group=Woman<br>Bin_Label=%{x}<br>Percentage=%{y}<br>text=%{text}<br>Count=%{customdata[0]}<extra></extra>",
         "legendgroup": "Woman",
         "marker": {
          "color": "#D7D9B1",
          "line": {
           "width": 1
          },
          "pattern": {
           "shape": ""
          }
         },
         "name": "Woman",
         "offsetgroup": "Woman",
         "orientation": "v",
         "showlegend": true,
         "text": [
          "11.7%",
          "35.8%",
          "1.4%",
          "0.4%"
         ],
         "textposition": "auto",
         "type": "bar",
         "x": [
          "No",
          "Yes, full relief of duties",
          "Yes, teaching and service relief",
          "Yes, teaching relief only"
         ],
         "xaxis": "x",
         "y": {
          "bdata": "0VNE/XphJ0DnUm3IxOhBQC0nHeCaxvY/S97sXKoN2T8=",
          "dtype": "f8"
         },
         "yaxis": "y"
        },
        {
         "alignmentgroup": "True",
         "customdata": {
          "bdata": "GwKdCFAAFwA=",
          "dtype": "i2",
          "shape": "4, 1"
         },
         "hovertemplate": "Group=Man<br>Bin_Label=%{x}<br>Percentage=%{y}<br>text=%{text}<br>Count=%{customdata[0]}<extra></extra>",
         "legendgroup": "Man",
         "marker": {
          "color": "#3A6992",
          "line": {
           "width": 1
          },
          "pattern": {
           "shape": ""
          }
         },
         "name": "Man",
         "offsetgroup": "Man",
         "orientation": "v",
         "showlegend": true,
         "text": [
          "9.6%",
          "39.2%",
          "1.4%",
          "0.4%"
         ],
         "textposition": "auto",
         "type": "bar",
         "x": [
          "No",
          "Yes, full relief of duties",
          "Yes, teaching and service relief",
          "Yes, teaching relief only"
         ],
         "xaxis": "x",
         "y": {
          "bdata": "MVolb3YuI0A+HAlmEJ5DQC0nHeCaxvY/2rlUGzIx2j8=",
          "dtype": "f8"
         },
         "yaxis": "y"
        },
        {
         "alignmentgroup": "True",
         "customdata": {
          "bdata": "AQ==",
          "dtype": "i1",
          "shape": "1, 1"
         },
         "hovertemplate": "Group=Non-binary person<br>Bin_Label=%{x}<br>Percentage=%{y}<br>text=%{text}<br>Count=%{customdata[0]}<extra></extra>",
         "legendgroup": "Non-binary person",
         "marker": {
          "color": "#BB4430",
          "line": {
           "width": 1
          },
          "pattern": {
           "shape": ""
          }
         },
         "name": "Non-binary person",
         "offsetgroup": "Non-binary person",
         "orientation": "v",
         "showlegend": true,
         "text": [
          "0.0%"
         ],
         "textposition": "auto",
         "type": "bar",
         "x": [
          "No"
         ],
         "xaxis": "x",
         "y": {
          "bdata": "8bh95ns4kj8=",
          "dtype": "f8"
         },
         "yaxis": "y"
        }
       ],
       "layout": {
        "barmode": "group",
        "height": 400,
        "legend": {
         "title": {
          "text": "Group"
         },
         "tracegroupgap": 0
        },
        "margin": {
         "r": 200
        },
        "template": {
         "data": {
          "bar": [
           {
            "error_x": {
             "color": "#2a3f5f"
            },
            "error_y": {
             "color": "#2a3f5f"
            },
            "marker": {
             "line": {
              "color": "#E5ECF6",
              "width": 0.5
             },
             "pattern": {
              "fillmode": "overlay",
              "size": 10,
              "solidity": 0.2
             }
            },
            "type": "bar"
           }
          ],
          "barpolar": [
           {
            "marker": {
             "line": {
              "color": "#E5ECF6",
              "width": 0.5
             },
             "pattern": {
              "fillmode": "overlay",
              "size": 10,
              "solidity": 0.2
             }
            },
            "type": "barpolar"
           }
          ],
          "carpet": [
           {
            "aaxis": {
             "endlinecolor": "#2a3f5f",
             "gridcolor": "white",
             "linecolor": "white",
             "minorgridcolor": "white",
             "startlinecolor": "#2a3f5f"
            },
            "baxis": {
             "endlinecolor": "#2a3f5f",
             "gridcolor": "white",
             "linecolor": "white",
             "minorgridcolor": "white",
             "startlinecolor": "#2a3f5f"
            },
            "type": "carpet"
           }
          ],
          "choropleth": [
           {
            "colorbar": {
             "outlinewidth": 0,
             "ticks": ""
            },
            "type": "choropleth"
           }
          ],
          "contour": [
           {
            "colorbar": {
             "outlinewidth": 0,
             "ticks": ""
            },
            "colorscale": [
             [
              0,
              "#0d0887"
             ],
             [
              0.1111111111111111,
              "#46039f"
             ],
             [
              0.2222222222222222,
              "#7201a8"
             ],
             [
              0.3333333333333333,
              "#9c179e"
             ],
             [
              0.4444444444444444,
              "#bd3786"
             ],
             [
              0.5555555555555556,
              "#d8576b"
             ],
             [
              0.6666666666666666,
              "#ed7953"
             ],
             [
              0.7777777777777778,
              "#fb9f3a"
             ],
             [
              0.8888888888888888,
              "#fdca26"
             ],
             [
              1,
              "#f0f921"
             ]
            ],
            "type": "contour"
           }
          ],
          "contourcarpet": [
           {
            "colorbar": {
             "outlinewidth": 0,
             "ticks": ""
            },
            "type": "contourcarpet"
           }
          ],
          "heatmap": [
           {
            "colorbar": {
             "outlinewidth": 0,
             "ticks": ""
            },
            "colorscale": [
             [
              0,
              "#0d0887"
             ],
             [
              0.1111111111111111,
              "#46039f"
             ],
             [
              0.2222222222222222,
              "#7201a8"
             ],
             [
              0.3333333333333333,
              "#9c179e"
             ],
             [
              0.4444444444444444,
              "#bd3786"
             ],
             [
              0.5555555555555556,
              "#d8576b"
             ],
             [
              0.6666666666666666,
              "#ed7953"
             ],
             [
              0.7777777777777778,
              "#fb9f3a"
             ],
             [
              0.8888888888888888,
              "#fdca26"
             ],
             [
              1,
              "#f0f921"
             ]
            ],
            "type": "heatmap"
           }
          ],
          "histogram": [
           {
            "marker": {
             "pattern": {
              "fillmode": "overlay",
              "size": 10,
              "solidity": 0.2
             }
            },
            "type": "histogram"
           }
          ],
          "histogram2d": [
           {
            "colorbar": {
             "outlinewidth": 0,
             "ticks": ""
            },
            "colorscale": [
             [
              0,
              "#0d0887"
             ],
             [
              0.1111111111111111,
              "#46039f"
             ],
             [
              0.2222222222222222,
              "#7201a8"
             ],
             [
              0.3333333333333333,
              "#9c179e"
             ],
             [
              0.4444444444444444,
              "#bd3786"
             ],
             [
              0.5555555555555556,
              "#d8576b"
             ],
             [
              0.6666666666666666,
              "#ed7953"
             ],
             [
              0.7777777777777778,
              "#fb9f3a"
             ],
             [
              0.8888888888888888,
              "#fdca26"
             ],
             [
              1,
              "#f0f921"
             ]
            ],
            "type": "histogram2d"
           }
          ],
          "histogram2dcontour": [
           {
            "colorbar": {
             "outlinewidth": 0,
             "ticks": ""
            },
            "colorscale": [
             [
              0,
              "#0d0887"
             ],
             [
              0.1111111111111111,
              "#46039f"
             ],
             [
              0.2222222222222222,
              "#7201a8"
             ],
             [
              0.3333333333333333,
              "#9c179e"
             ],
             [
              0.4444444444444444,
              "#bd3786"
             ],
             [
              0.5555555555555556,
              "#d8576b"
             ],
             [
              0.6666666666666666,
              "#ed7953"
             ],
             [
              0.7777777777777778,
              "#fb9f3a"
             ],
             [
              0.8888888888888888,
              "#fdca26"
             ],
             [
              1,
              "#f0f921"
             ]
            ],
            "type": "histogram2dcontour"
           }
          ],
          "mesh3d": [
           {
            "colorbar": {
             "outlinewidth": 0,
             "ticks": ""
            },
            "type": "mesh3d"
           }
          ],
          "parcoords": [
           {
            "line": {
             "colorbar": {
              "outlinewidth": 0,
              "ticks": ""
             }
            },
            "type": "parcoords"
           }
          ],
          "pie": [
           {
            "automargin": true,
            "type": "pie"
           }
          ],
          "scatter": [
           {
            "fillpattern": {
             "fillmode": "overlay",
             "size": 10,
             "solidity": 0.2
            },
            "type": "scatter"
           }
          ],
          "scatter3d": [
           {
            "line": {
             "colorbar": {
              "outlinewidth": 0,
              "ticks": ""
             }
            },
            "marker": {
             "colorbar": {
              "outlinewidth": 0,
              "ticks": ""
             }
            },
            "type": "scatter3d"
           }
          ],
          "scattercarpet": [
           {
            "marker": {
             "colorbar": {
              "outlinewidth": 0,
              "ticks": ""
             }
            },
            "type": "scattercarpet"
           }
          ],
          "scattergeo": [
           {
            "marker": {
             "colorbar": {
              "outlinewidth": 0,
              "ticks": ""
             }
            },
            "type": "scattergeo"
           }
          ],
          "scattergl": [
           {
            "marker": {
             "colorbar": {
              "outlinewidth": 0,
              "ticks": ""
             }
            },
            "type": "scattergl"
           }
          ],
          "scattermap": [
           {
            "marker": {
             "colorbar": {
              "outlinewidth": 0,
              "ticks": ""
             }
            },
            "type": "scattermap"
           }
          ],
          "scattermapbox": [
           {
            "marker": {
             "colorbar": {
              "outlinewidth": 0,
              "ticks": ""
             }
            },
            "type": "scattermapbox"
           }
          ],
          "scatterpolar": [
           {
            "marker": {
             "colorbar": {
              "outlinewidth": 0,
              "ticks": ""
             }
            },
            "type": "scatterpolar"
           }
          ],
          "scatterpolargl": [
           {
            "marker": {
             "colorbar": {
              "outlinewidth": 0,
              "ticks": ""
             }
            },
            "type": "scatterpolargl"
           }
          ],
          "scatterternary": [
           {
            "marker": {
             "colorbar": {
              "outlinewidth": 0,
              "ticks": ""
             }
            },
            "type": "scatterternary"
           }
          ],
          "surface": [
           {
            "colorbar": {
             "outlinewidth": 0,
             "ticks": ""
            },
            "colorscale": [
             [
              0,
              "#0d0887"
             ],
             [
              0.1111111111111111,
              "#46039f"
             ],
             [
              0.2222222222222222,
              "#7201a8"
             ],
             [
              0.3333333333333333,
              "#9c179e"
             ],
             [
              0.4444444444444444,
              "#bd3786"
             ],
             [
              0.5555555555555556,
              "#d8576b"
             ],
             [
              0.6666666666666666,
              "#ed7953"
             ],
             [
              0.7777777777777778,
              "#fb9f3a"
             ],
             [
              0.8888888888888888,
              "#fdca26"
             ],
             [
              1,
              "#f0f921"
             ]
            ],
            "type": "surface"
           }
          ],
          "table": [
           {
            "cells": {
             "fill": {
              "color": "#EBF0F8"
             },
             "line": {
              "color": "white"
             }
            },
            "header": {
             "fill": {
              "color": "#C8D4E3"
             },
             "line": {
              "color": "white"
             }
            },
            "type": "table"
           }
          ]
         },
         "layout": {
          "annotationdefaults": {
           "arrowcolor": "#2a3f5f",
           "arrowhead": 0,
           "arrowwidth": 1
          },
          "autotypenumbers": "strict",
          "coloraxis": {
           "colorbar": {
            "outlinewidth": 0,
            "ticks": ""
           }
          },
          "colorscale": {
           "diverging": [
            [
             0,
             "#8e0152"
            ],
            [
             0.1,
             "#c51b7d"
            ],
            [
             0.2,
             "#de77ae"
            ],
            [
             0.3,
             "#f1b6da"
            ],
            [
             0.4,
             "#fde0ef"
            ],
            [
             0.5,
             "#f7f7f7"
            ],
            [
             0.6,
             "#e6f5d0"
            ],
            [
             0.7,
             "#b8e186"
            ],
            [
             0.8,
             "#7fbc41"
            ],
            [
             0.9,
             "#4d9221"
            ],
            [
             1,
             "#276419"
            ]
           ],
           "sequential": [
            [
             0,
             "#0d0887"
            ],
            [
             0.1111111111111111,
             "#46039f"
            ],
            [
             0.2222222222222222,
             "#7201a8"
            ],
            [
             0.3333333333333333,
             "#9c179e"
            ],
            [
             0.4444444444444444,
             "#bd3786"
            ],
            [
             0.5555555555555556,
             "#d8576b"
            ],
            [
             0.6666666666666666,
             "#ed7953"
            ],
            [
             0.7777777777777778,
             "#fb9f3a"
            ],
            [
             0.8888888888888888,
             "#fdca26"
            ],
            [
             1,
             "#f0f921"
            ]
           ],
           "sequentialminus": [
            [
             0,
             "#0d0887"
            ],
            [
             0.1111111111111111,
             "#46039f"
            ],
            [
             0.2222222222222222,
             "#7201a8"
            ],
            [
             0.3333333333333333,
             "#9c179e"
            ],
            [
             0.4444444444444444,
             "#bd3786"
            ],
            [
             0.5555555555555556,
             "#d8576b"
            ],
            [
             0.6666666666666666,
             "#ed7953"
            ],
            [
             0.7777777777777778,
             "#fb9f3a"
            ],
            [
             0.8888888888888888,
             "#fdca26"
            ],
            [
             1,
             "#f0f921"
            ]
           ]
          },
          "colorway": [
           "#636efa",
           "#EF553B",
           "#00cc96",
           "#ab63fa",
           "#FFA15A",
           "#19d3f3",
           "#FF6692",
           "#B6E880",
           "#FF97FF",
           "#FECB52"
          ],
          "font": {
           "color": "#2a3f5f"
          },
          "geo": {
           "bgcolor": "white",
           "lakecolor": "white",
           "landcolor": "#E5ECF6",
           "showlakes": true,
           "showland": true,
           "subunitcolor": "white"
          },
          "hoverlabel": {
           "align": "left"
          },
          "hovermode": "closest",
          "mapbox": {
           "style": "light"
          },
          "paper_bgcolor": "white",
          "plot_bgcolor": "#E5ECF6",
          "polar": {
           "angularaxis": {
            "gridcolor": "white",
            "linecolor": "white",
            "ticks": ""
           },
           "bgcolor": "#E5ECF6",
           "radialaxis": {
            "gridcolor": "white",
            "linecolor": "white",
            "ticks": ""
           }
          },
          "scene": {
           "xaxis": {
            "backgroundcolor": "#E5ECF6",
            "gridcolor": "white",
            "gridwidth": 2,
            "linecolor": "white",
            "showbackground": true,
            "ticks": "",
            "zerolinecolor": "white"
           },
           "yaxis": {
            "backgroundcolor": "#E5ECF6",
            "gridcolor": "white",
            "gridwidth": 2,
            "linecolor": "white",
            "showbackground": true,
            "ticks": "",
            "zerolinecolor": "white"
           },
           "zaxis": {
            "backgroundcolor": "#E5ECF6",
            "gridcolor": "white",
            "gridwidth": 2,
            "linecolor": "white",
            "showbackground": true,
            "ticks": "",
            "zerolinecolor": "white"
           }
          },
          "shapedefaults": {
           "line": {
            "color": "#2a3f5f"
           }
          },
          "ternary": {
           "aaxis": {
            "gridcolor": "white",
            "linecolor": "white",
            "ticks": ""
           },
           "baxis": {
            "gridcolor": "white",
            "linecolor": "white",
            "ticks": ""
           },
           "bgcolor": "#E5ECF6",
           "caxis": {
            "gridcolor": "white",
            "linecolor": "white",
            "ticks": ""
           }
          },
          "title": {
           "x": 0.05
          },
          "xaxis": {
           "automargin": true,
           "gridcolor": "white",
           "linecolor": "white",
           "ticks": "",
           "title": {
            "standoff": 15
           },
           "zerolinecolor": "white",
           "zerolinewidth": 2
          },
          "yaxis": {
           "automargin": true,
           "gridcolor": "white",
           "linecolor": "white",
           "ticks": "",
           "title": {
            "standoff": 15
           },
           "zerolinecolor": "white",
           "zerolinewidth": 2
          }
         }
        },
        "title": {
         "text": "Does your current institution offer paid parental leave to<br>academics of your same legal gender?"
        },
        "width": 1000,
        "xaxis": {
         "anchor": "y",
         "categoryarray": [
          "No",
          "Yes, teaching relief only",
          "Yes, teaching and service relief",
          "Yes, full relief of duties",
          "Don't know"
         ],
         "categoryorder": "array",
         "domain": [
          0,
          1
         ],
         "tickfont": {
          "size": 12
         },
         "tickmode": "array",
         "ticktext": [
          "No",
          "Yes,<br>teaching<br>relief only",
          "Yes,<br>teaching and<br>service<br>relief",
          "Yes, full<br>relief of<br>duties",
          "Don't know"
         ],
         "tickvals": [
          "No",
          "Yes, teaching relief only",
          "Yes, teaching and service relief",
          "Yes, full relief of duties",
          "Don't know"
         ],
         "title": {
          "text": ""
         }
        },
        "yaxis": {
         "anchor": "x",
         "domain": [
          0,
          1
         ],
         "title": {
          "text": "Percentage (%)"
         }
        }
       }
      }
     },
     "metadata": {},
     "output_type": "display_data"
    }
   ],
   "source": [
    "# MatrixChoice Question\n",
    "# true identification of the parent (their gender or identity) only exists because anchored with DE14. We assume in further questions they will keep the order to answer to the gender to parent 1 and gender of parent 2.\n",
    "\n",
    "#df, df_raw = load_survey_data(file_path=\"../data/parenthood_test_QMatrix.xlsx\")\n",
    "\n",
    "gender_lookup = {}\n",
    "\n",
    "multiple_choice_question_ids = [\"DE14\", \"DE15\", \"DE16\", \"DE23\", \"PL1\",]# \"PL2\"]#, \"PL4\", \"PL6\", \"PL7\", \"PL9\", \"CS1\", \"CS3\", \"CC1\", \"CC2\", \"GB4\", \"GB5\", ] #DE23?\n",
    "\n",
    "for qid in multiple_choice_question_ids:\n",
    "    q = MatrixQuestion(qid, df, meta, gender_lookup=gender_lookup)\n",
    "    fig = q.distribution(display=False)\n",
    "    if fig is not None:\n",
    "        fig.show()\n"
   ]
  },
  {
   "cell_type": "code",
   "execution_count": 14,
   "metadata": {},
   "outputs": [
    {
     "data": {
      "application/vnd.plotly.v1+json": {
       "config": {
        "plotlyServerURL": "https://plot.ly"
       },
       "data": [
        {
         "customdata": {
          "bdata": "lBM=",
          "dtype": "i2",
          "shape": "1, 1"
         },
         "hovertemplate": "Bin_Label=%{x}<br>Percentage=%{y}<br>text=%{text}<br>Count=%{customdata[0]}<extra></extra>",
         "legendgroup": "Woman",
         "marker": {
          "color": "#D7D9B1",
          "line": {
           "width": 1
          },
          "pattern": {
           "shape": ""
          }
         },
         "name": "Woman",
         "orientation": "v",
         "showlegend": true,
         "text": [
          "50.4%"
         ],
         "textposition": "auto",
         "type": "bar",
         "width": {
          "bdata": "MzMzMzMz4z8zMzMzMzPjPzMzMzMzM+M/",
          "dtype": "f8"
         },
         "x": [
          "Woman"
         ],
         "xaxis": "x",
         "y": {
          "bdata": "f679JGI3SUA=",
          "dtype": "f8"
         },
         "yaxis": "y"
        },
        {
         "customdata": {
          "bdata": "PBM=",
          "dtype": "i2",
          "shape": "1, 1"
         },
         "hovertemplate": "Bin_Label=%{x}<br>Percentage=%{y}<br>text=%{text}<br>Count=%{customdata[0]}<extra></extra>",
         "legendgroup": "Man",
         "marker": {
          "color": "#3A6992",
          "line": {
           "width": 1
          },
          "pattern": {
           "shape": ""
          }
         },
         "name": "Man",
         "orientation": "v",
         "showlegend": true,
         "text": [
          "49.5%"
         ],
         "textposition": "auto",
         "type": "bar",
         "width": {
          "bdata": "MzMzMzMz4z8zMzMzMzPjPzMzMzMzM+M/",
          "dtype": "f8"
         },
         "x": [
          "Man"
         ],
         "xaxis": "x",
         "y": {
          "bdata": "whksaArGSEA=",
          "dtype": "f8"
         },
         "yaxis": "y"
        },
        {
         "customdata": {
          "bdata": "Ag==",
          "dtype": "i1",
          "shape": "1, 1"
         },
         "hovertemplate": "Bin_Label=%{x}<br>Percentage=%{y}<br>text=%{text}<br>Count=%{customdata[0]}<extra></extra>",
         "legendgroup": "Non-binary person",
         "marker": {
          "color": "#BB4430",
          "line": {
           "width": 1
          },
          "pattern": {
           "shape": ""
          }
         },
         "name": "Non-binary person",
         "orientation": "v",
         "showlegend": true,
         "text": [
          "0.0%"
         ],
         "textposition": "auto",
         "type": "bar",
         "width": {
          "bdata": "MzMzMzMz4z8zMzMzMzPjPzMzMzMzM+M/",
          "dtype": "f8"
         },
         "x": [
          "Non-binary person"
         ],
         "xaxis": "x",
         "y": {
          "bdata": "vfO9sZablD8=",
          "dtype": "f8"
         },
         "yaxis": "y"
        }
       ],
       "layout": {
        "barmode": "relative",
        "height": 400,
        "legend": {
         "title": {
          "text": "Bin_Label"
         },
         "tracegroupgap": 0
        },
        "margin": {
         "r": 200
        },
        "template": {
         "data": {
          "bar": [
           {
            "error_x": {
             "color": "#2a3f5f"
            },
            "error_y": {
             "color": "#2a3f5f"
            },
            "marker": {
             "line": {
              "color": "#E5ECF6",
              "width": 0.5
             },
             "pattern": {
              "fillmode": "overlay",
              "size": 10,
              "solidity": 0.2
             }
            },
            "type": "bar"
           }
          ],
          "barpolar": [
           {
            "marker": {
             "line": {
              "color": "#E5ECF6",
              "width": 0.5
             },
             "pattern": {
              "fillmode": "overlay",
              "size": 10,
              "solidity": 0.2
             }
            },
            "type": "barpolar"
           }
          ],
          "carpet": [
           {
            "aaxis": {
             "endlinecolor": "#2a3f5f",
             "gridcolor": "white",
             "linecolor": "white",
             "minorgridcolor": "white",
             "startlinecolor": "#2a3f5f"
            },
            "baxis": {
             "endlinecolor": "#2a3f5f",
             "gridcolor": "white",
             "linecolor": "white",
             "minorgridcolor": "white",
             "startlinecolor": "#2a3f5f"
            },
            "type": "carpet"
           }
          ],
          "choropleth": [
           {
            "colorbar": {
             "outlinewidth": 0,
             "ticks": ""
            },
            "type": "choropleth"
           }
          ],
          "contour": [
           {
            "colorbar": {
             "outlinewidth": 0,
             "ticks": ""
            },
            "colorscale": [
             [
              0,
              "#0d0887"
             ],
             [
              0.1111111111111111,
              "#46039f"
             ],
             [
              0.2222222222222222,
              "#7201a8"
             ],
             [
              0.3333333333333333,
              "#9c179e"
             ],
             [
              0.4444444444444444,
              "#bd3786"
             ],
             [
              0.5555555555555556,
              "#d8576b"
             ],
             [
              0.6666666666666666,
              "#ed7953"
             ],
             [
              0.7777777777777778,
              "#fb9f3a"
             ],
             [
              0.8888888888888888,
              "#fdca26"
             ],
             [
              1,
              "#f0f921"
             ]
            ],
            "type": "contour"
           }
          ],
          "contourcarpet": [
           {
            "colorbar": {
             "outlinewidth": 0,
             "ticks": ""
            },
            "type": "contourcarpet"
           }
          ],
          "heatmap": [
           {
            "colorbar": {
             "outlinewidth": 0,
             "ticks": ""
            },
            "colorscale": [
             [
              0,
              "#0d0887"
             ],
             [
              0.1111111111111111,
              "#46039f"
             ],
             [
              0.2222222222222222,
              "#7201a8"
             ],
             [
              0.3333333333333333,
              "#9c179e"
             ],
             [
              0.4444444444444444,
              "#bd3786"
             ],
             [
              0.5555555555555556,
              "#d8576b"
             ],
             [
              0.6666666666666666,
              "#ed7953"
             ],
             [
              0.7777777777777778,
              "#fb9f3a"
             ],
             [
              0.8888888888888888,
              "#fdca26"
             ],
             [
              1,
              "#f0f921"
             ]
            ],
            "type": "heatmap"
           }
          ],
          "histogram": [
           {
            "marker": {
             "pattern": {
              "fillmode": "overlay",
              "size": 10,
              "solidity": 0.2
             }
            },
            "type": "histogram"
           }
          ],
          "histogram2d": [
           {
            "colorbar": {
             "outlinewidth": 0,
             "ticks": ""
            },
            "colorscale": [
             [
              0,
              "#0d0887"
             ],
             [
              0.1111111111111111,
              "#46039f"
             ],
             [
              0.2222222222222222,
              "#7201a8"
             ],
             [
              0.3333333333333333,
              "#9c179e"
             ],
             [
              0.4444444444444444,
              "#bd3786"
             ],
             [
              0.5555555555555556,
              "#d8576b"
             ],
             [
              0.6666666666666666,
              "#ed7953"
             ],
             [
              0.7777777777777778,
              "#fb9f3a"
             ],
             [
              0.8888888888888888,
              "#fdca26"
             ],
             [
              1,
              "#f0f921"
             ]
            ],
            "type": "histogram2d"
           }
          ],
          "histogram2dcontour": [
           {
            "colorbar": {
             "outlinewidth": 0,
             "ticks": ""
            },
            "colorscale": [
             [
              0,
              "#0d0887"
             ],
             [
              0.1111111111111111,
              "#46039f"
             ],
             [
              0.2222222222222222,
              "#7201a8"
             ],
             [
              0.3333333333333333,
              "#9c179e"
             ],
             [
              0.4444444444444444,
              "#bd3786"
             ],
             [
              0.5555555555555556,
              "#d8576b"
             ],
             [
              0.6666666666666666,
              "#ed7953"
             ],
             [
              0.7777777777777778,
              "#fb9f3a"
             ],
             [
              0.8888888888888888,
              "#fdca26"
             ],
             [
              1,
              "#f0f921"
             ]
            ],
            "type": "histogram2dcontour"
           }
          ],
          "mesh3d": [
           {
            "colorbar": {
             "outlinewidth": 0,
             "ticks": ""
            },
            "type": "mesh3d"
           }
          ],
          "parcoords": [
           {
            "line": {
             "colorbar": {
              "outlinewidth": 0,
              "ticks": ""
             }
            },
            "type": "parcoords"
           }
          ],
          "pie": [
           {
            "automargin": true,
            "type": "pie"
           }
          ],
          "scatter": [
           {
            "fillpattern": {
             "fillmode": "overlay",
             "size": 10,
             "solidity": 0.2
            },
            "type": "scatter"
           }
          ],
          "scatter3d": [
           {
            "line": {
             "colorbar": {
              "outlinewidth": 0,
              "ticks": ""
             }
            },
            "marker": {
             "colorbar": {
              "outlinewidth": 0,
              "ticks": ""
             }
            },
            "type": "scatter3d"
           }
          ],
          "scattercarpet": [
           {
            "marker": {
             "colorbar": {
              "outlinewidth": 0,
              "ticks": ""
             }
            },
            "type": "scattercarpet"
           }
          ],
          "scattergeo": [
           {
            "marker": {
             "colorbar": {
              "outlinewidth": 0,
              "ticks": ""
             }
            },
            "type": "scattergeo"
           }
          ],
          "scattergl": [
           {
            "marker": {
             "colorbar": {
              "outlinewidth": 0,
              "ticks": ""
             }
            },
            "type": "scattergl"
           }
          ],
          "scattermap": [
           {
            "marker": {
             "colorbar": {
              "outlinewidth": 0,
              "ticks": ""
             }
            },
            "type": "scattermap"
           }
          ],
          "scattermapbox": [
           {
            "marker": {
             "colorbar": {
              "outlinewidth": 0,
              "ticks": ""
             }
            },
            "type": "scattermapbox"
           }
          ],
          "scatterpolar": [
           {
            "marker": {
             "colorbar": {
              "outlinewidth": 0,
              "ticks": ""
             }
            },
            "type": "scatterpolar"
           }
          ],
          "scatterpolargl": [
           {
            "marker": {
             "colorbar": {
              "outlinewidth": 0,
              "ticks": ""
             }
            },
            "type": "scatterpolargl"
           }
          ],
          "scatterternary": [
           {
            "marker": {
             "colorbar": {
              "outlinewidth": 0,
              "ticks": ""
             }
            },
            "type": "scatterternary"
           }
          ],
          "surface": [
           {
            "colorbar": {
             "outlinewidth": 0,
             "ticks": ""
            },
            "colorscale": [
             [
              0,
              "#0d0887"
             ],
             [
              0.1111111111111111,
              "#46039f"
             ],
             [
              0.2222222222222222,
              "#7201a8"
             ],
             [
              0.3333333333333333,
              "#9c179e"
             ],
             [
              0.4444444444444444,
              "#bd3786"
             ],
             [
              0.5555555555555556,
              "#d8576b"
             ],
             [
              0.6666666666666666,
              "#ed7953"
             ],
             [
              0.7777777777777778,
              "#fb9f3a"
             ],
             [
              0.8888888888888888,
              "#fdca26"
             ],
             [
              1,
              "#f0f921"
             ]
            ],
            "type": "surface"
           }
          ],
          "table": [
           {
            "cells": {
             "fill": {
              "color": "#EBF0F8"
             },
             "line": {
              "color": "white"
             }
            },
            "header": {
             "fill": {
              "color": "#C8D4E3"
             },
             "line": {
              "color": "white"
             }
            },
            "type": "table"
           }
          ]
         },
         "layout": {
          "annotationdefaults": {
           "arrowcolor": "#2a3f5f",
           "arrowhead": 0,
           "arrowwidth": 1
          },
          "autotypenumbers": "strict",
          "coloraxis": {
           "colorbar": {
            "outlinewidth": 0,
            "ticks": ""
           }
          },
          "colorscale": {
           "diverging": [
            [
             0,
             "#8e0152"
            ],
            [
             0.1,
             "#c51b7d"
            ],
            [
             0.2,
             "#de77ae"
            ],
            [
             0.3,
             "#f1b6da"
            ],
            [
             0.4,
             "#fde0ef"
            ],
            [
             0.5,
             "#f7f7f7"
            ],
            [
             0.6,
             "#e6f5d0"
            ],
            [
             0.7,
             "#b8e186"
            ],
            [
             0.8,
             "#7fbc41"
            ],
            [
             0.9,
             "#4d9221"
            ],
            [
             1,
             "#276419"
            ]
           ],
           "sequential": [
            [
             0,
             "#0d0887"
            ],
            [
             0.1111111111111111,
             "#46039f"
            ],
            [
             0.2222222222222222,
             "#7201a8"
            ],
            [
             0.3333333333333333,
             "#9c179e"
            ],
            [
             0.4444444444444444,
             "#bd3786"
            ],
            [
             0.5555555555555556,
             "#d8576b"
            ],
            [
             0.6666666666666666,
             "#ed7953"
            ],
            [
             0.7777777777777778,
             "#fb9f3a"
            ],
            [
             0.8888888888888888,
             "#fdca26"
            ],
            [
             1,
             "#f0f921"
            ]
           ],
           "sequentialminus": [
            [
             0,
             "#0d0887"
            ],
            [
             0.1111111111111111,
             "#46039f"
            ],
            [
             0.2222222222222222,
             "#7201a8"
            ],
            [
             0.3333333333333333,
             "#9c179e"
            ],
            [
             0.4444444444444444,
             "#bd3786"
            ],
            [
             0.5555555555555556,
             "#d8576b"
            ],
            [
             0.6666666666666666,
             "#ed7953"
            ],
            [
             0.7777777777777778,
             "#fb9f3a"
            ],
            [
             0.8888888888888888,
             "#fdca26"
            ],
            [
             1,
             "#f0f921"
            ]
           ]
          },
          "colorway": [
           "#636efa",
           "#EF553B",
           "#00cc96",
           "#ab63fa",
           "#FFA15A",
           "#19d3f3",
           "#FF6692",
           "#B6E880",
           "#FF97FF",
           "#FECB52"
          ],
          "font": {
           "color": "#2a3f5f"
          },
          "geo": {
           "bgcolor": "white",
           "lakecolor": "white",
           "landcolor": "#E5ECF6",
           "showlakes": true,
           "showland": true,
           "subunitcolor": "white"
          },
          "hoverlabel": {
           "align": "left"
          },
          "hovermode": "closest",
          "mapbox": {
           "style": "light"
          },
          "paper_bgcolor": "white",
          "plot_bgcolor": "#E5ECF6",
          "polar": {
           "angularaxis": {
            "gridcolor": "white",
            "linecolor": "white",
            "ticks": ""
           },
           "bgcolor": "#E5ECF6",
           "radialaxis": {
            "gridcolor": "white",
            "linecolor": "white",
            "ticks": ""
           }
          },
          "scene": {
           "xaxis": {
            "backgroundcolor": "#E5ECF6",
            "gridcolor": "white",
            "gridwidth": 2,
            "linecolor": "white",
            "showbackground": true,
            "ticks": "",
            "zerolinecolor": "white"
           },
           "yaxis": {
            "backgroundcolor": "#E5ECF6",
            "gridcolor": "white",
            "gridwidth": 2,
            "linecolor": "white",
            "showbackground": true,
            "ticks": "",
            "zerolinecolor": "white"
           },
           "zaxis": {
            "backgroundcolor": "#E5ECF6",
            "gridcolor": "white",
            "gridwidth": 2,
            "linecolor": "white",
            "showbackground": true,
            "ticks": "",
            "zerolinecolor": "white"
           }
          },
          "shapedefaults": {
           "line": {
            "color": "#2a3f5f"
           }
          },
          "ternary": {
           "aaxis": {
            "gridcolor": "white",
            "linecolor": "white",
            "ticks": ""
           },
           "baxis": {
            "gridcolor": "white",
            "linecolor": "white",
            "ticks": ""
           },
           "bgcolor": "#E5ECF6",
           "caxis": {
            "gridcolor": "white",
            "linecolor": "white",
            "ticks": ""
           }
          },
          "title": {
           "x": 0.05
          },
          "xaxis": {
           "automargin": true,
           "gridcolor": "white",
           "linecolor": "white",
           "ticks": "",
           "title": {
            "standoff": 15
           },
           "zerolinecolor": "white",
           "zerolinewidth": 2
          },
          "yaxis": {
           "automargin": true,
           "gridcolor": "white",
           "linecolor": "white",
           "ticks": "",
           "title": {
            "standoff": 15
           },
           "zerolinecolor": "white",
           "zerolinewidth": 2
          }
         }
        },
        "title": {
         "text": "What is the gender identity of your parents?"
        },
        "width": 1000,
        "xaxis": {
         "anchor": "y",
         "categoryarray": [
          "Woman",
          "Man",
          "Non-binary person"
         ],
         "categoryorder": "array",
         "domain": [
          0,
          1
         ],
         "tickfont": {
          "size": 12
         },
         "tickmode": "array",
         "ticktext": [
          "Woman",
          "Man",
          "Non-binary<br>person"
         ],
         "tickvals": [
          "Woman",
          "Man",
          "Non-binary person"
         ],
         "title": {
          "text": ""
         }
        },
        "yaxis": {
         "anchor": "x",
         "domain": [
          0,
          1
         ],
         "title": {
          "text": "Percentage (%)"
         }
        }
       }
      }
     },
     "metadata": {},
     "output_type": "display_data"
    },
    {
     "data": {
      "application/vnd.plotly.v1+json": {
       "config": {
        "plotlyServerURL": "https://plot.ly"
       },
       "data": [
        {
         "alignmentgroup": "True",
         "customdata": {
          "bdata": "7gIqAkUBZwBUAooCPAOfBA==",
          "dtype": "i2",
          "shape": "8, 1"
         },
         "hovertemplate": "Group=Woman<br>Bin_Label=%{x}<br>Percentage=%{y}<br>text=%{text}<br>Count=%{customdata[0]}<extra></extra>",
         "legendgroup": "Woman",
         "marker": {
          "color": "#D7D9B1",
          "line": {
           "width": 1
          },
          "pattern": {
           "shape": ""
          }
         },
         "name": "Woman",
         "offsetgroup": "Woman",
         "orientation": "v",
         "showlegend": true,
         "text": [
          "7.6%",
          "5.6%",
          "3.3%",
          "1.0%",
          "6.0%",
          "6.6%",
          "8.4%",
          "12.0%"
         ],
         "textposition": "auto",
         "type": "bar",
         "x": [
          "College: 1-3 years",
          "College: 4 or more years",
          "Doctoral degree",
          "Elementary: 0-4 years",
          "Elementary: 5-8 years",
          "High School: 1-3 years",
          "High School: 4 or more years",
          "Master's or professional degree"
         ],
         "xaxis": "x",
         "y": {
          "bdata": "hQWN8hBeHkA9GZ6NcW4WQA1JiyeGUQpA2pdEv42u8D8o3vWQyiEYQA1JiyeGURpAL97O10jDIEDqv76ZJfMnQA==",
          "dtype": "f8"
         },
         "yaxis": "y"
        },
        {
         "alignmentgroup": "True",
         "customdata": {
          "bdata": "KwIQAngCUwAjAv0ByQIpBQ==",
          "dtype": "i2",
          "shape": "8, 1"
         },
         "hovertemplate": "Group=Man<br>Bin_Label=%{x}<br>Percentage=%{y}<br>text=%{text}<br>Count=%{customdata[0]}<extra></extra>",
         "legendgroup": "Man",
         "marker": {
          "color": "#3A6992",
          "line": {
           "width": 1
          },
          "pattern": {
           "shape": ""
          }
         },
         "name": "Man",
         "offsetgroup": "Man",
         "orientation": "v",
         "showlegend": true,
         "text": [
          "5.6%",
          "5.3%",
          "6.4%",
          "0.8%",
          "5.5%",
          "5.2%",
          "7.2%",
          "13.4%"
         ],
         "textposition": "auto",
         "type": "bar",
         "x": [
          "College: 1-3 years",
          "College: 4 or more years",
          "Doctoral degree",
          "Elementary: 0-4 years",
          "Elementary: 5-8 years",
          "High School: 1-3 years",
          "High School: 4 or more years",
          "Master's or professional degree"
         ],
         "xaxis": "x",
         "y": {
          "bdata": "aDzjGc94FkD1hphO8WAVQBbQrkrylhlAWzVT06Pi6j8WI7q34iUWQNTqduX/mxRAbfCOrIveHEBIOmFoXL4qQA==",
          "dtype": "f8"
         },
         "yaxis": "y"
        },
        {
         "alignmentgroup": "True",
         "customdata": {
          "bdata": "AQE=",
          "dtype": "i1",
          "shape": "2, 1"
         },
         "hovertemplate": "Group=Non-binary person<br>Bin_Label=%{x}<br>Percentage=%{y}<br>text=%{text}<br>Count=%{customdata[0]}<extra></extra>",
         "legendgroup": "Non-binary person",
         "marker": {
          "color": "#BB4430",
          "line": {
           "width": 1
          },
          "pattern": {
           "shape": ""
          }
         },
         "name": "Non-binary person",
         "offsetgroup": "Non-binary person",
         "orientation": "v",
         "showlegend": true,
         "text": [
          "0.0%",
          "0.0%"
         ],
         "textposition": "auto",
         "type": "bar",
         "x": [
          "High School: 4 or more years",
          "Master's or professional degree"
         ],
         "xaxis": "x",
         "y": {
          "bdata": "U1RGihi7hD9TVEaKGLuEPw==",
          "dtype": "f8"
         },
         "yaxis": "y"
        }
       ],
       "layout": {
        "barmode": "group",
        "height": 400,
        "legend": {
         "title": {
          "text": "Group"
         },
         "tracegroupgap": 0
        },
        "margin": {
         "r": 200
        },
        "template": {
         "data": {
          "bar": [
           {
            "error_x": {
             "color": "#2a3f5f"
            },
            "error_y": {
             "color": "#2a3f5f"
            },
            "marker": {
             "line": {
              "color": "#E5ECF6",
              "width": 0.5
             },
             "pattern": {
              "fillmode": "overlay",
              "size": 10,
              "solidity": 0.2
             }
            },
            "type": "bar"
           }
          ],
          "barpolar": [
           {
            "marker": {
             "line": {
              "color": "#E5ECF6",
              "width": 0.5
             },
             "pattern": {
              "fillmode": "overlay",
              "size": 10,
              "solidity": 0.2
             }
            },
            "type": "barpolar"
           }
          ],
          "carpet": [
           {
            "aaxis": {
             "endlinecolor": "#2a3f5f",
             "gridcolor": "white",
             "linecolor": "white",
             "minorgridcolor": "white",
             "startlinecolor": "#2a3f5f"
            },
            "baxis": {
             "endlinecolor": "#2a3f5f",
             "gridcolor": "white",
             "linecolor": "white",
             "minorgridcolor": "white",
             "startlinecolor": "#2a3f5f"
            },
            "type": "carpet"
           }
          ],
          "choropleth": [
           {
            "colorbar": {
             "outlinewidth": 0,
             "ticks": ""
            },
            "type": "choropleth"
           }
          ],
          "contour": [
           {
            "colorbar": {
             "outlinewidth": 0,
             "ticks": ""
            },
            "colorscale": [
             [
              0,
              "#0d0887"
             ],
             [
              0.1111111111111111,
              "#46039f"
             ],
             [
              0.2222222222222222,
              "#7201a8"
             ],
             [
              0.3333333333333333,
              "#9c179e"
             ],
             [
              0.4444444444444444,
              "#bd3786"
             ],
             [
              0.5555555555555556,
              "#d8576b"
             ],
             [
              0.6666666666666666,
              "#ed7953"
             ],
             [
              0.7777777777777778,
              "#fb9f3a"
             ],
             [
              0.8888888888888888,
              "#fdca26"
             ],
             [
              1,
              "#f0f921"
             ]
            ],
            "type": "contour"
           }
          ],
          "contourcarpet": [
           {
            "colorbar": {
             "outlinewidth": 0,
             "ticks": ""
            },
            "type": "contourcarpet"
           }
          ],
          "heatmap": [
           {
            "colorbar": {
             "outlinewidth": 0,
             "ticks": ""
            },
            "colorscale": [
             [
              0,
              "#0d0887"
             ],
             [
              0.1111111111111111,
              "#46039f"
             ],
             [
              0.2222222222222222,
              "#7201a8"
             ],
             [
              0.3333333333333333,
              "#9c179e"
             ],
             [
              0.4444444444444444,
              "#bd3786"
             ],
             [
              0.5555555555555556,
              "#d8576b"
             ],
             [
              0.6666666666666666,
              "#ed7953"
             ],
             [
              0.7777777777777778,
              "#fb9f3a"
             ],
             [
              0.8888888888888888,
              "#fdca26"
             ],
             [
              1,
              "#f0f921"
             ]
            ],
            "type": "heatmap"
           }
          ],
          "histogram": [
           {
            "marker": {
             "pattern": {
              "fillmode": "overlay",
              "size": 10,
              "solidity": 0.2
             }
            },
            "type": "histogram"
           }
          ],
          "histogram2d": [
           {
            "colorbar": {
             "outlinewidth": 0,
             "ticks": ""
            },
            "colorscale": [
             [
              0,
              "#0d0887"
             ],
             [
              0.1111111111111111,
              "#46039f"
             ],
             [
              0.2222222222222222,
              "#7201a8"
             ],
             [
              0.3333333333333333,
              "#9c179e"
             ],
             [
              0.4444444444444444,
              "#bd3786"
             ],
             [
              0.5555555555555556,
              "#d8576b"
             ],
             [
              0.6666666666666666,
              "#ed7953"
             ],
             [
              0.7777777777777778,
              "#fb9f3a"
             ],
             [
              0.8888888888888888,
              "#fdca26"
             ],
             [
              1,
              "#f0f921"
             ]
            ],
            "type": "histogram2d"
           }
          ],
          "histogram2dcontour": [
           {
            "colorbar": {
             "outlinewidth": 0,
             "ticks": ""
            },
            "colorscale": [
             [
              0,
              "#0d0887"
             ],
             [
              0.1111111111111111,
              "#46039f"
             ],
             [
              0.2222222222222222,
              "#7201a8"
             ],
             [
              0.3333333333333333,
              "#9c179e"
             ],
             [
              0.4444444444444444,
              "#bd3786"
             ],
             [
              0.5555555555555556,
              "#d8576b"
             ],
             [
              0.6666666666666666,
              "#ed7953"
             ],
             [
              0.7777777777777778,
              "#fb9f3a"
             ],
             [
              0.8888888888888888,
              "#fdca26"
             ],
             [
              1,
              "#f0f921"
             ]
            ],
            "type": "histogram2dcontour"
           }
          ],
          "mesh3d": [
           {
            "colorbar": {
             "outlinewidth": 0,
             "ticks": ""
            },
            "type": "mesh3d"
           }
          ],
          "parcoords": [
           {
            "line": {
             "colorbar": {
              "outlinewidth": 0,
              "ticks": ""
             }
            },
            "type": "parcoords"
           }
          ],
          "pie": [
           {
            "automargin": true,
            "type": "pie"
           }
          ],
          "scatter": [
           {
            "fillpattern": {
             "fillmode": "overlay",
             "size": 10,
             "solidity": 0.2
            },
            "type": "scatter"
           }
          ],
          "scatter3d": [
           {
            "line": {
             "colorbar": {
              "outlinewidth": 0,
              "ticks": ""
             }
            },
            "marker": {
             "colorbar": {
              "outlinewidth": 0,
              "ticks": ""
             }
            },
            "type": "scatter3d"
           }
          ],
          "scattercarpet": [
           {
            "marker": {
             "colorbar": {
              "outlinewidth": 0,
              "ticks": ""
             }
            },
            "type": "scattercarpet"
           }
          ],
          "scattergeo": [
           {
            "marker": {
             "colorbar": {
              "outlinewidth": 0,
              "ticks": ""
             }
            },
            "type": "scattergeo"
           }
          ],
          "scattergl": [
           {
            "marker": {
             "colorbar": {
              "outlinewidth": 0,
              "ticks": ""
             }
            },
            "type": "scattergl"
           }
          ],
          "scattermap": [
           {
            "marker": {
             "colorbar": {
              "outlinewidth": 0,
              "ticks": ""
             }
            },
            "type": "scattermap"
           }
          ],
          "scattermapbox": [
           {
            "marker": {
             "colorbar": {
              "outlinewidth": 0,
              "ticks": ""
             }
            },
            "type": "scattermapbox"
           }
          ],
          "scatterpolar": [
           {
            "marker": {
             "colorbar": {
              "outlinewidth": 0,
              "ticks": ""
             }
            },
            "type": "scatterpolar"
           }
          ],
          "scatterpolargl": [
           {
            "marker": {
             "colorbar": {
              "outlinewidth": 0,
              "ticks": ""
             }
            },
            "type": "scatterpolargl"
           }
          ],
          "scatterternary": [
           {
            "marker": {
             "colorbar": {
              "outlinewidth": 0,
              "ticks": ""
             }
            },
            "type": "scatterternary"
           }
          ],
          "surface": [
           {
            "colorbar": {
             "outlinewidth": 0,
             "ticks": ""
            },
            "colorscale": [
             [
              0,
              "#0d0887"
             ],
             [
              0.1111111111111111,
              "#46039f"
             ],
             [
              0.2222222222222222,
              "#7201a8"
             ],
             [
              0.3333333333333333,
              "#9c179e"
             ],
             [
              0.4444444444444444,
              "#bd3786"
             ],
             [
              0.5555555555555556,
              "#d8576b"
             ],
             [
              0.6666666666666666,
              "#ed7953"
             ],
             [
              0.7777777777777778,
              "#fb9f3a"
             ],
             [
              0.8888888888888888,
              "#fdca26"
             ],
             [
              1,
              "#f0f921"
             ]
            ],
            "type": "surface"
           }
          ],
          "table": [
           {
            "cells": {
             "fill": {
              "color": "#EBF0F8"
             },
             "line": {
              "color": "white"
             }
            },
            "header": {
             "fill": {
              "color": "#C8D4E3"
             },
             "line": {
              "color": "white"
             }
            },
            "type": "table"
           }
          ]
         },
         "layout": {
          "annotationdefaults": {
           "arrowcolor": "#2a3f5f",
           "arrowhead": 0,
           "arrowwidth": 1
          },
          "autotypenumbers": "strict",
          "coloraxis": {
           "colorbar": {
            "outlinewidth": 0,
            "ticks": ""
           }
          },
          "colorscale": {
           "diverging": [
            [
             0,
             "#8e0152"
            ],
            [
             0.1,
             "#c51b7d"
            ],
            [
             0.2,
             "#de77ae"
            ],
            [
             0.3,
             "#f1b6da"
            ],
            [
             0.4,
             "#fde0ef"
            ],
            [
             0.5,
             "#f7f7f7"
            ],
            [
             0.6,
             "#e6f5d0"
            ],
            [
             0.7,
             "#b8e186"
            ],
            [
             0.8,
             "#7fbc41"
            ],
            [
             0.9,
             "#4d9221"
            ],
            [
             1,
             "#276419"
            ]
           ],
           "sequential": [
            [
             0,
             "#0d0887"
            ],
            [
             0.1111111111111111,
             "#46039f"
            ],
            [
             0.2222222222222222,
             "#7201a8"
            ],
            [
             0.3333333333333333,
             "#9c179e"
            ],
            [
             0.4444444444444444,
             "#bd3786"
            ],
            [
             0.5555555555555556,
             "#d8576b"
            ],
            [
             0.6666666666666666,
             "#ed7953"
            ],
            [
             0.7777777777777778,
             "#fb9f3a"
            ],
            [
             0.8888888888888888,
             "#fdca26"
            ],
            [
             1,
             "#f0f921"
            ]
           ],
           "sequentialminus": [
            [
             0,
             "#0d0887"
            ],
            [
             0.1111111111111111,
             "#46039f"
            ],
            [
             0.2222222222222222,
             "#7201a8"
            ],
            [
             0.3333333333333333,
             "#9c179e"
            ],
            [
             0.4444444444444444,
             "#bd3786"
            ],
            [
             0.5555555555555556,
             "#d8576b"
            ],
            [
             0.6666666666666666,
             "#ed7953"
            ],
            [
             0.7777777777777778,
             "#fb9f3a"
            ],
            [
             0.8888888888888888,
             "#fdca26"
            ],
            [
             1,
             "#f0f921"
            ]
           ]
          },
          "colorway": [
           "#636efa",
           "#EF553B",
           "#00cc96",
           "#ab63fa",
           "#FFA15A",
           "#19d3f3",
           "#FF6692",
           "#B6E880",
           "#FF97FF",
           "#FECB52"
          ],
          "font": {
           "color": "#2a3f5f"
          },
          "geo": {
           "bgcolor": "white",
           "lakecolor": "white",
           "landcolor": "#E5ECF6",
           "showlakes": true,
           "showland": true,
           "subunitcolor": "white"
          },
          "hoverlabel": {
           "align": "left"
          },
          "hovermode": "closest",
          "mapbox": {
           "style": "light"
          },
          "paper_bgcolor": "white",
          "plot_bgcolor": "#E5ECF6",
          "polar": {
           "angularaxis": {
            "gridcolor": "white",
            "linecolor": "white",
            "ticks": ""
           },
           "bgcolor": "#E5ECF6",
           "radialaxis": {
            "gridcolor": "white",
            "linecolor": "white",
            "ticks": ""
           }
          },
          "scene": {
           "xaxis": {
            "backgroundcolor": "#E5ECF6",
            "gridcolor": "white",
            "gridwidth": 2,
            "linecolor": "white",
            "showbackground": true,
            "ticks": "",
            "zerolinecolor": "white"
           },
           "yaxis": {
            "backgroundcolor": "#E5ECF6",
            "gridcolor": "white",
            "gridwidth": 2,
            "linecolor": "white",
            "showbackground": true,
            "ticks": "",
            "zerolinecolor": "white"
           },
           "zaxis": {
            "backgroundcolor": "#E5ECF6",
            "gridcolor": "white",
            "gridwidth": 2,
            "linecolor": "white",
            "showbackground": true,
            "ticks": "",
            "zerolinecolor": "white"
           }
          },
          "shapedefaults": {
           "line": {
            "color": "#2a3f5f"
           }
          },
          "ternary": {
           "aaxis": {
            "gridcolor": "white",
            "linecolor": "white",
            "ticks": ""
           },
           "baxis": {
            "gridcolor": "white",
            "linecolor": "white",
            "ticks": ""
           },
           "bgcolor": "#E5ECF6",
           "caxis": {
            "gridcolor": "white",
            "linecolor": "white",
            "ticks": ""
           }
          },
          "title": {
           "x": 0.05
          },
          "xaxis": {
           "automargin": true,
           "gridcolor": "white",
           "linecolor": "white",
           "ticks": "",
           "title": {
            "standoff": 15
           },
           "zerolinecolor": "white",
           "zerolinewidth": 2
          },
          "yaxis": {
           "automargin": true,
           "gridcolor": "white",
           "linecolor": "white",
           "ticks": "",
           "title": {
            "standoff": 15
           },
           "zerolinecolor": "white",
           "zerolinewidth": 2
          }
         }
        },
        "title": {
         "text": "What is the highest level of education of your parents?"
        },
        "width": 1000,
        "xaxis": {
         "anchor": "y",
         "categoryarray": [
          "Elementary: 0-4 years",
          "Elementary: 5-8 years",
          "High School: 1-3 years",
          "High School: 4 or more years",
          "College: 1-3 years",
          "College: 4 or more years",
          "Master's or professional degree",
          "Doctoral degree",
          "Dont know"
         ],
         "categoryorder": "array",
         "domain": [
          0,
          1
         ],
         "tickfont": {
          "size": 12
         },
         "tickmode": "array",
         "ticktext": [
          "Elementary:<br>0-4 years",
          "Elementary:<br>5-8 years",
          "High School:<br>1-3 years",
          "High School:<br>4 or more<br>years",
          "College: 1-3<br>years",
          "College: 4<br>or more<br>years",
          "Master's or<br>professional<br>degree",
          "Doctoral<br>degree",
          "Dont know"
         ],
         "tickvals": [
          "Elementary: 0-4 years",
          "Elementary: 5-8 years",
          "High School: 1-3 years",
          "High School: 4 or more years",
          "College: 1-3 years",
          "College: 4 or more years",
          "Master's or professional degree",
          "Doctoral degree",
          "Dont know"
         ],
         "title": {
          "text": ""
         }
        },
        "yaxis": {
         "anchor": "x",
         "domain": [
          0,
          1
         ],
         "title": {
          "text": "Percentage (%)"
         }
        }
       }
      }
     },
     "metadata": {},
     "output_type": "display_data"
    },
    {
     "data": {
      "application/vnd.plotly.v1+json": {
       "config": {
        "plotlyServerURL": "https://plot.ly"
       },
       "data": [
        {
         "alignmentgroup": "True",
         "customdata": {
          "bdata": "WwB8DBMAagAtBg==",
          "dtype": "i2",
          "shape": "5, 1"
         },
         "hovertemplate": "Group=Woman<br>Bin_Label=%{x}<br>Percentage=%{y}<br>text=%{text}<br>Count=%{customdata[0]}<extra></extra>",
         "legendgroup": "Woman",
         "marker": {
          "color": "#D7D9B1",
          "line": {
           "width": 1
          },
          "pattern": {
           "shape": ""
          }
         },
         "name": "Woman",
         "offsetgroup": "Woman",
         "orientation": "v",
         "showlegend": true,
         "text": [
          "0.9%",
          "32.3%",
          "0.2%",
          "1.1%",
          "16.0%"
         ],
         "textposition": "auto",
         "type": "bar",
         "x": [
          "Dont know or something else",
          "Employed",
          "Not employed: could not find a job",
          "Not employed: other reason (e.g., retired, illness, ...)",
          "Not employed: stay-at-home parent"
         ],
         "xaxis": "x",
         "y": {
          "bdata": "oSBXJVlv7T+q43o3ICdAQFqwDQNClcg/dUjQI7gk8T9xYN0xRfYvQA==",
          "dtype": "f8"
         },
         "yaxis": "y"
        },
        {
         "alignmentgroup": "True",
         "customdata": {
          "bdata": "VAC5ERoAigBxAA==",
          "dtype": "i2",
          "shape": "5, 1"
         },
         "hovertemplate": "Group=Man<br>Bin_Label=%{x}<br>Percentage=%{y}<br>text=%{text}<br>Count=%{customdata[0]}<extra></extra>",
         "legendgroup": "Man",
         "marker": {
          "color": "#3A6992",
          "line": {
           "width": 1
          },
          "pattern": {
           "shape": ""
          }
         },
         "name": "Man",
         "offsetgroup": "Man",
         "orientation": "v",
         "showlegend": true,
         "text": [
          "0.8%",
          "45.9%",
          "0.3%",
          "1.4%",
          "1.1%"
         ],
         "textposition": "auto",
         "type": "bar",
         "x": [
          "Dont know or something else",
          "Employed",
          "Not employed: could not find a job",
          "Not employed: other reason (e.g., retired, illness, ...)",
          "Not employed: stay-at-home parent"
         ],
         "xaxis": "x",
         "y": {
          "bdata": "+KcBwLQr6z+131+7K+5GQIHJMczp0dA/sDe4nZ1R9j/KBHtWikbyPw==",
          "dtype": "f8"
         },
         "yaxis": "y"
        },
        {
         "alignmentgroup": "True",
         "customdata": {
          "bdata": "Ag==",
          "dtype": "i1",
          "shape": "1, 1"
         },
         "hovertemplate": "Group=Non-binary person<br>Bin_Label=%{x}<br>Percentage=%{y}<br>text=%{text}<br>Count=%{customdata[0]}<extra></extra>",
         "legendgroup": "Non-binary person",
         "marker": {
          "color": "#BB4430",
          "line": {
           "width": 1
          },
          "pattern": {
           "shape": ""
          }
         },
         "name": "Non-binary person",
         "offsetgroup": "Non-binary person",
         "orientation": "v",
         "showlegend": true,
         "text": [
          "0.0%"
         ],
         "textposition": "auto",
         "type": "bar",
         "x": [
          "Employed"
         ],
         "xaxis": "x",
         "y": {
          "bdata": "7byf55WzlD8=",
          "dtype": "f8"
         },
         "yaxis": "y"
        }
       ],
       "layout": {
        "barmode": "group",
        "height": 400,
        "legend": {
         "title": {
          "text": "Group"
         },
         "tracegroupgap": 0
        },
        "margin": {
         "r": 200
        },
        "template": {
         "data": {
          "bar": [
           {
            "error_x": {
             "color": "#2a3f5f"
            },
            "error_y": {
             "color": "#2a3f5f"
            },
            "marker": {
             "line": {
              "color": "#E5ECF6",
              "width": 0.5
             },
             "pattern": {
              "fillmode": "overlay",
              "size": 10,
              "solidity": 0.2
             }
            },
            "type": "bar"
           }
          ],
          "barpolar": [
           {
            "marker": {
             "line": {
              "color": "#E5ECF6",
              "width": 0.5
             },
             "pattern": {
              "fillmode": "overlay",
              "size": 10,
              "solidity": 0.2
             }
            },
            "type": "barpolar"
           }
          ],
          "carpet": [
           {
            "aaxis": {
             "endlinecolor": "#2a3f5f",
             "gridcolor": "white",
             "linecolor": "white",
             "minorgridcolor": "white",
             "startlinecolor": "#2a3f5f"
            },
            "baxis": {
             "endlinecolor": "#2a3f5f",
             "gridcolor": "white",
             "linecolor": "white",
             "minorgridcolor": "white",
             "startlinecolor": "#2a3f5f"
            },
            "type": "carpet"
           }
          ],
          "choropleth": [
           {
            "colorbar": {
             "outlinewidth": 0,
             "ticks": ""
            },
            "type": "choropleth"
           }
          ],
          "contour": [
           {
            "colorbar": {
             "outlinewidth": 0,
             "ticks": ""
            },
            "colorscale": [
             [
              0,
              "#0d0887"
             ],
             [
              0.1111111111111111,
              "#46039f"
             ],
             [
              0.2222222222222222,
              "#7201a8"
             ],
             [
              0.3333333333333333,
              "#9c179e"
             ],
             [
              0.4444444444444444,
              "#bd3786"
             ],
             [
              0.5555555555555556,
              "#d8576b"
             ],
             [
              0.6666666666666666,
              "#ed7953"
             ],
             [
              0.7777777777777778,
              "#fb9f3a"
             ],
             [
              0.8888888888888888,
              "#fdca26"
             ],
             [
              1,
              "#f0f921"
             ]
            ],
            "type": "contour"
           }
          ],
          "contourcarpet": [
           {
            "colorbar": {
             "outlinewidth": 0,
             "ticks": ""
            },
            "type": "contourcarpet"
           }
          ],
          "heatmap": [
           {
            "colorbar": {
             "outlinewidth": 0,
             "ticks": ""
            },
            "colorscale": [
             [
              0,
              "#0d0887"
             ],
             [
              0.1111111111111111,
              "#46039f"
             ],
             [
              0.2222222222222222,
              "#7201a8"
             ],
             [
              0.3333333333333333,
              "#9c179e"
             ],
             [
              0.4444444444444444,
              "#bd3786"
             ],
             [
              0.5555555555555556,
              "#d8576b"
             ],
             [
              0.6666666666666666,
              "#ed7953"
             ],
             [
              0.7777777777777778,
              "#fb9f3a"
             ],
             [
              0.8888888888888888,
              "#fdca26"
             ],
             [
              1,
              "#f0f921"
             ]
            ],
            "type": "heatmap"
           }
          ],
          "histogram": [
           {
            "marker": {
             "pattern": {
              "fillmode": "overlay",
              "size": 10,
              "solidity": 0.2
             }
            },
            "type": "histogram"
           }
          ],
          "histogram2d": [
           {
            "colorbar": {
             "outlinewidth": 0,
             "ticks": ""
            },
            "colorscale": [
             [
              0,
              "#0d0887"
             ],
             [
              0.1111111111111111,
              "#46039f"
             ],
             [
              0.2222222222222222,
              "#7201a8"
             ],
             [
              0.3333333333333333,
              "#9c179e"
             ],
             [
              0.4444444444444444,
              "#bd3786"
             ],
             [
              0.5555555555555556,
              "#d8576b"
             ],
             [
              0.6666666666666666,
              "#ed7953"
             ],
             [
              0.7777777777777778,
              "#fb9f3a"
             ],
             [
              0.8888888888888888,
              "#fdca26"
             ],
             [
              1,
              "#f0f921"
             ]
            ],
            "type": "histogram2d"
           }
          ],
          "histogram2dcontour": [
           {
            "colorbar": {
             "outlinewidth": 0,
             "ticks": ""
            },
            "colorscale": [
             [
              0,
              "#0d0887"
             ],
             [
              0.1111111111111111,
              "#46039f"
             ],
             [
              0.2222222222222222,
              "#7201a8"
             ],
             [
              0.3333333333333333,
              "#9c179e"
             ],
             [
              0.4444444444444444,
              "#bd3786"
             ],
             [
              0.5555555555555556,
              "#d8576b"
             ],
             [
              0.6666666666666666,
              "#ed7953"
             ],
             [
              0.7777777777777778,
              "#fb9f3a"
             ],
             [
              0.8888888888888888,
              "#fdca26"
             ],
             [
              1,
              "#f0f921"
             ]
            ],
            "type": "histogram2dcontour"
           }
          ],
          "mesh3d": [
           {
            "colorbar": {
             "outlinewidth": 0,
             "ticks": ""
            },
            "type": "mesh3d"
           }
          ],
          "parcoords": [
           {
            "line": {
             "colorbar": {
              "outlinewidth": 0,
              "ticks": ""
             }
            },
            "type": "parcoords"
           }
          ],
          "pie": [
           {
            "automargin": true,
            "type": "pie"
           }
          ],
          "scatter": [
           {
            "fillpattern": {
             "fillmode": "overlay",
             "size": 10,
             "solidity": 0.2
            },
            "type": "scatter"
           }
          ],
          "scatter3d": [
           {
            "line": {
             "colorbar": {
              "outlinewidth": 0,
              "ticks": ""
             }
            },
            "marker": {
             "colorbar": {
              "outlinewidth": 0,
              "ticks": ""
             }
            },
            "type": "scatter3d"
           }
          ],
          "scattercarpet": [
           {
            "marker": {
             "colorbar": {
              "outlinewidth": 0,
              "ticks": ""
             }
            },
            "type": "scattercarpet"
           }
          ],
          "scattergeo": [
           {
            "marker": {
             "colorbar": {
              "outlinewidth": 0,
              "ticks": ""
             }
            },
            "type": "scattergeo"
           }
          ],
          "scattergl": [
           {
            "marker": {
             "colorbar": {
              "outlinewidth": 0,
              "ticks": ""
             }
            },
            "type": "scattergl"
           }
          ],
          "scattermap": [
           {
            "marker": {
             "colorbar": {
              "outlinewidth": 0,
              "ticks": ""
             }
            },
            "type": "scattermap"
           }
          ],
          "scattermapbox": [
           {
            "marker": {
             "colorbar": {
              "outlinewidth": 0,
              "ticks": ""
             }
            },
            "type": "scattermapbox"
           }
          ],
          "scatterpolar": [
           {
            "marker": {
             "colorbar": {
              "outlinewidth": 0,
              "ticks": ""
             }
            },
            "type": "scatterpolar"
           }
          ],
          "scatterpolargl": [
           {
            "marker": {
             "colorbar": {
              "outlinewidth": 0,
              "ticks": ""
             }
            },
            "type": "scatterpolargl"
           }
          ],
          "scatterternary": [
           {
            "marker": {
             "colorbar": {
              "outlinewidth": 0,
              "ticks": ""
             }
            },
            "type": "scatterternary"
           }
          ],
          "surface": [
           {
            "colorbar": {
             "outlinewidth": 0,
             "ticks": ""
            },
            "colorscale": [
             [
              0,
              "#0d0887"
             ],
             [
              0.1111111111111111,
              "#46039f"
             ],
             [
              0.2222222222222222,
              "#7201a8"
             ],
             [
              0.3333333333333333,
              "#9c179e"
             ],
             [
              0.4444444444444444,
              "#bd3786"
             ],
             [
              0.5555555555555556,
              "#d8576b"
             ],
             [
              0.6666666666666666,
              "#ed7953"
             ],
             [
              0.7777777777777778,
              "#fb9f3a"
             ],
             [
              0.8888888888888888,
              "#fdca26"
             ],
             [
              1,
              "#f0f921"
             ]
            ],
            "type": "surface"
           }
          ],
          "table": [
           {
            "cells": {
             "fill": {
              "color": "#EBF0F8"
             },
             "line": {
              "color": "white"
             }
            },
            "header": {
             "fill": {
              "color": "#C8D4E3"
             },
             "line": {
              "color": "white"
             }
            },
            "type": "table"
           }
          ]
         },
         "layout": {
          "annotationdefaults": {
           "arrowcolor": "#2a3f5f",
           "arrowhead": 0,
           "arrowwidth": 1
          },
          "autotypenumbers": "strict",
          "coloraxis": {
           "colorbar": {
            "outlinewidth": 0,
            "ticks": ""
           }
          },
          "colorscale": {
           "diverging": [
            [
             0,
             "#8e0152"
            ],
            [
             0.1,
             "#c51b7d"
            ],
            [
             0.2,
             "#de77ae"
            ],
            [
             0.3,
             "#f1b6da"
            ],
            [
             0.4,
             "#fde0ef"
            ],
            [
             0.5,
             "#f7f7f7"
            ],
            [
             0.6,
             "#e6f5d0"
            ],
            [
             0.7,
             "#b8e186"
            ],
            [
             0.8,
             "#7fbc41"
            ],
            [
             0.9,
             "#4d9221"
            ],
            [
             1,
             "#276419"
            ]
           ],
           "sequential": [
            [
             0,
             "#0d0887"
            ],
            [
             0.1111111111111111,
             "#46039f"
            ],
            [
             0.2222222222222222,
             "#7201a8"
            ],
            [
             0.3333333333333333,
             "#9c179e"
            ],
            [
             0.4444444444444444,
             "#bd3786"
            ],
            [
             0.5555555555555556,
             "#d8576b"
            ],
            [
             0.6666666666666666,
             "#ed7953"
            ],
            [
             0.7777777777777778,
             "#fb9f3a"
            ],
            [
             0.8888888888888888,
             "#fdca26"
            ],
            [
             1,
             "#f0f921"
            ]
           ],
           "sequentialminus": [
            [
             0,
             "#0d0887"
            ],
            [
             0.1111111111111111,
             "#46039f"
            ],
            [
             0.2222222222222222,
             "#7201a8"
            ],
            [
             0.3333333333333333,
             "#9c179e"
            ],
            [
             0.4444444444444444,
             "#bd3786"
            ],
            [
             0.5555555555555556,
             "#d8576b"
            ],
            [
             0.6666666666666666,
             "#ed7953"
            ],
            [
             0.7777777777777778,
             "#fb9f3a"
            ],
            [
             0.8888888888888888,
             "#fdca26"
            ],
            [
             1,
             "#f0f921"
            ]
           ]
          },
          "colorway": [
           "#636efa",
           "#EF553B",
           "#00cc96",
           "#ab63fa",
           "#FFA15A",
           "#19d3f3",
           "#FF6692",
           "#B6E880",
           "#FF97FF",
           "#FECB52"
          ],
          "font": {
           "color": "#2a3f5f"
          },
          "geo": {
           "bgcolor": "white",
           "lakecolor": "white",
           "landcolor": "#E5ECF6",
           "showlakes": true,
           "showland": true,
           "subunitcolor": "white"
          },
          "hoverlabel": {
           "align": "left"
          },
          "hovermode": "closest",
          "mapbox": {
           "style": "light"
          },
          "paper_bgcolor": "white",
          "plot_bgcolor": "#E5ECF6",
          "polar": {
           "angularaxis": {
            "gridcolor": "white",
            "linecolor": "white",
            "ticks": ""
           },
           "bgcolor": "#E5ECF6",
           "radialaxis": {
            "gridcolor": "white",
            "linecolor": "white",
            "ticks": ""
           }
          },
          "scene": {
           "xaxis": {
            "backgroundcolor": "#E5ECF6",
            "gridcolor": "white",
            "gridwidth": 2,
            "linecolor": "white",
            "showbackground": true,
            "ticks": "",
            "zerolinecolor": "white"
           },
           "yaxis": {
            "backgroundcolor": "#E5ECF6",
            "gridcolor": "white",
            "gridwidth": 2,
            "linecolor": "white",
            "showbackground": true,
            "ticks": "",
            "zerolinecolor": "white"
           },
           "zaxis": {
            "backgroundcolor": "#E5ECF6",
            "gridcolor": "white",
            "gridwidth": 2,
            "linecolor": "white",
            "showbackground": true,
            "ticks": "",
            "zerolinecolor": "white"
           }
          },
          "shapedefaults": {
           "line": {
            "color": "#2a3f5f"
           }
          },
          "ternary": {
           "aaxis": {
            "gridcolor": "white",
            "linecolor": "white",
            "ticks": ""
           },
           "baxis": {
            "gridcolor": "white",
            "linecolor": "white",
            "ticks": ""
           },
           "bgcolor": "#E5ECF6",
           "caxis": {
            "gridcolor": "white",
            "linecolor": "white",
            "ticks": ""
           }
          },
          "title": {
           "x": 0.05
          },
          "xaxis": {
           "automargin": true,
           "gridcolor": "white",
           "linecolor": "white",
           "ticks": "",
           "title": {
            "standoff": 15
           },
           "zerolinecolor": "white",
           "zerolinewidth": 2
          },
          "yaxis": {
           "automargin": true,
           "gridcolor": "white",
           "linecolor": "white",
           "ticks": "",
           "title": {
            "standoff": 15
           },
           "zerolinecolor": "white",
           "zerolinewidth": 2
          }
         }
        },
        "title": {
         "text": "What best describes the employment status of your parents<br>during all or most of the first 18 years of your life?"
        },
        "width": 1000,
        "xaxis": {
         "anchor": "y",
         "categoryarray": [
          "Employed",
          "Not employed: stay-at-home parent",
          "Not employed: could not find a job",
          "Not employed: other reason (e.g., retired, illness, ...)",
          "Dont know or something else"
         ],
         "categoryorder": "array",
         "domain": [
          0,
          1
         ],
         "tickfont": {
          "size": 12
         },
         "tickmode": "array",
         "ticktext": [
          "Employed",
          "Not<br>employed:<br>stay-at-home<br>parent",
          "Not<br>employed:<br>could not<br>find a job",
          "Not<br>employed:<br>other reason<br>(e.g.,<br>retired,<br>illness,<br>...)",
          "Dont know or<br>something<br>else"
         ],
         "tickvals": [
          "Employed",
          "Not employed: stay-at-home parent",
          "Not employed: could not find a job",
          "Not employed: other reason (e.g., retired, illness, ...)",
          "Dont know or something else"
         ],
         "title": {
          "text": ""
         }
        },
        "yaxis": {
         "anchor": "x",
         "domain": [
          0,
          1
         ],
         "title": {
          "text": "Percentage (%)"
         }
        }
       }
      }
     },
     "metadata": {},
     "output_type": "display_data"
    },
    {
     "data": {
      "application/vnd.plotly.v1+json": {
       "config": {
        "plotlyServerURL": "https://plot.ly"
       },
       "data": [
        {
         "alignmentgroup": "True",
         "customdata": {
          "bdata": "AwUHFRcE",
          "dtype": "i1",
          "shape": "6, 1"
         },
         "hovertemplate": "Group=Africa<br>Value=%{x}<br>Percentage=%{y}<br>text=%{text}<br>Count=%{customdata[0]}<extra></extra>",
         "legendgroup": "Africa",
         "marker": {
          "color": "#795663",
          "line": {
           "width": 1
          },
          "pattern": {
           "shape": ""
          }
         },
         "name": "Africa",
         "offsetgroup": "Africa",
         "orientation": "v",
         "showlegend": true,
         "text": [
          "2.6%",
          "1.2%",
          "0.8%",
          "1.2%",
          "0.8%",
          "0.4%"
         ],
         "textposition": "auto",
         "type": "bar",
         "x": [
          "1970–1979",
          "1980–1989",
          "1990–1999",
          "2000–2009",
          "2010–2019",
          "2020–2029"
         ],
         "xaxis": "x",
         "y": {
          "bdata": "NUiDNEiDBEC8DEYBh+bzP731kQC/8eg/1iIMq1K98j/WVzNHXrfpP9EWLov/0NY/",
          "dtype": "f8"
         },
         "yaxis": "y"
        },
        {
         "alignmentgroup": "True",
         "customdata": {
          "bdata": "AQMcJEZYDQ==",
          "dtype": "i1",
          "shape": "7, 1"
         },
         "hovertemplate": "Group=America<br>Value=%{x}<br>Percentage=%{y}<br>text=%{text}<br>Count=%{customdata[0]}<extra></extra>",
         "legendgroup": "America",
         "marker": {
          "color": "#B89685",
          "line": {
           "width": 1
          },
          "pattern": {
           "shape": ""
          }
         },
         "name": "America",
         "offsetgroup": "America",
         "orientation": "v",
         "showlegend": true,
         "text": [
          "4.2%",
          "2.6%",
          "7.0%",
          "4.0%",
          "3.9%",
          "3.1%",
          "1.2%"
         ],
         "textposition": "auto",
         "type": "bar",
         "x": [
          "1960–1969",
          "1970–1979",
          "1980–1989",
          "1990–1999",
          "2000–2009",
          "2010–2019",
          "2020–2029"
         ],
         "xaxis": "x",
         "y": {
          "bdata": "q6qqqqqqEEA1SIM0SIMEQNURYptW3BtAsIvLWx8JEEC75L7HiTsPQKEy44YimQhAinIVoc+J8j8=",
          "dtype": "f8"
         },
         "yaxis": "y"
        },
        {
         "alignmentgroup": "True",
         "customdata": {
          "bdata": "AQMQKjoa",
          "dtype": "i1",
          "shape": "6, 1"
         },
         "hovertemplate": "Group=Asia<br>Value=%{x}<br>Percentage=%{y}<br>text=%{text}<br>Count=%{customdata[0]}<extra></extra>",
         "legendgroup": "Asia",
         "marker": {
          "color": "#808F85",
          "line": {
           "width": 1
          },
          "pattern": {
           "shape": ""
          }
         },
         "name": "Asia",
         "offsetgroup": "Asia",
         "orientation": "v",
         "showlegend": true,
         "text": [
          "0.9%",
          "0.7%",
          "1.8%",
          "2.3%",
          "2.0%",
          "2.3%"
         ],
         "textposition": "auto",
         "type": "bar",
         "x": [
          "1970–1979",
          "1980–1989",
          "1990–1999",
          "2000–2009",
          "2010–2019",
          "2020–2029"
         ],
         "xaxis": "x",
         "y": {
          "bdata": "m7VZm7VZ6z9JD1TObuHnP4+GFNz+gfw/1iIMq1K9AkCNG4pkYjYAQIpyFaHPiQJA",
          "dtype": "f8"
         },
         "yaxis": "y"
        },
        {
         "alignmentgroup": "True",
         "customdata": {
          "bdata": "FwBtAG4BRQNyBncKNQQ=",
          "dtype": "i2",
          "shape": "7, 1"
         },
         "hovertemplate": "Group=Europe<br>Value=%{x}<br>Percentage=%{y}<br>text=%{text}<br>Count=%{customdata[0]}<extra></extra>",
         "legendgroup": "Europe",
         "marker": {
          "color": "#D7D9B1",
          "line": {
           "width": 1
          },
          "pattern": {
           "shape": ""
          }
         },
         "name": "Europe",
         "offsetgroup": "Europe",
         "orientation": "v",
         "showlegend": true,
         "text": [
          "95.8%",
          "93.2%",
          "91.0%",
          "93.2%",
          "92.0%",
          "93.6%",
          "96.0%"
         ],
         "textposition": "auto",
         "type": "bar",
         "x": [
          "1960–1969",
          "1970–1979",
          "1980–1989",
          "1990–1999",
          "2000–2009",
          "2010–2019",
          "2020–2029"
         ],
         "xaxis": "x",
         "y": {
          "bdata": "VVVVVVX1V0CmZEqmZEpXQJEeqJzdwlZA/MZjkUFNV0AOnbQPkgFXQM1qDZPGZldAfzkixVD/V0A=",
          "dtype": "f8"
         },
         "yaxis": "y"
        },
        {
         "alignmentgroup": "True",
         "customdata": {
          "bdata": "AQIKDgI=",
          "dtype": "i1",
          "shape": "5, 1"
         },
         "hovertemplate": "Group=Oceania<br>Value=%{x}<br>Percentage=%{y}<br>text=%{text}<br>Count=%{customdata[0]}<extra></extra>",
         "legendgroup": "Oceania",
         "marker": {
          "color": "#3A6992",
          "line": {
           "width": 1
          },
          "pattern": {
           "shape": ""
          }
         },
         "name": "Oceania",
         "offsetgroup": "Oceania",
         "orientation": "v",
         "showlegend": true,
         "text": [
          "0.9%",
          "0.2%",
          "0.6%",
          "0.5%",
          "0.2%"
         ],
         "textposition": "auto",
         "type": "bar",
         "x": [
          "1970–1979",
          "1990–1999",
          "2000–2009",
          "2010–2019",
          "2020–2029"
         ],
         "xaxis": "x",
         "y": {
          "bdata": "m7VZm7VZ6z+PhhTc/oHMP/0UbQTh2OE/5BHECIlO3z/RFi6L/9DGPw==",
          "dtype": "f8"
         },
         "yaxis": "y"
        }
       ],
       "layout": {
        "barmode": "group",
        "height": 400,
        "legend": {
         "title": {
          "text": "Group"
         },
         "tracegroupgap": 0
        },
        "margin": {
         "r": 200
        },
        "template": {
         "data": {
          "bar": [
           {
            "error_x": {
             "color": "#2a3f5f"
            },
            "error_y": {
             "color": "#2a3f5f"
            },
            "marker": {
             "line": {
              "color": "#E5ECF6",
              "width": 0.5
             },
             "pattern": {
              "fillmode": "overlay",
              "size": 10,
              "solidity": 0.2
             }
            },
            "type": "bar"
           }
          ],
          "barpolar": [
           {
            "marker": {
             "line": {
              "color": "#E5ECF6",
              "width": 0.5
             },
             "pattern": {
              "fillmode": "overlay",
              "size": 10,
              "solidity": 0.2
             }
            },
            "type": "barpolar"
           }
          ],
          "carpet": [
           {
            "aaxis": {
             "endlinecolor": "#2a3f5f",
             "gridcolor": "white",
             "linecolor": "white",
             "minorgridcolor": "white",
             "startlinecolor": "#2a3f5f"
            },
            "baxis": {
             "endlinecolor": "#2a3f5f",
             "gridcolor": "white",
             "linecolor": "white",
             "minorgridcolor": "white",
             "startlinecolor": "#2a3f5f"
            },
            "type": "carpet"
           }
          ],
          "choropleth": [
           {
            "colorbar": {
             "outlinewidth": 0,
             "ticks": ""
            },
            "type": "choropleth"
           }
          ],
          "contour": [
           {
            "colorbar": {
             "outlinewidth": 0,
             "ticks": ""
            },
            "colorscale": [
             [
              0,
              "#0d0887"
             ],
             [
              0.1111111111111111,
              "#46039f"
             ],
             [
              0.2222222222222222,
              "#7201a8"
             ],
             [
              0.3333333333333333,
              "#9c179e"
             ],
             [
              0.4444444444444444,
              "#bd3786"
             ],
             [
              0.5555555555555556,
              "#d8576b"
             ],
             [
              0.6666666666666666,
              "#ed7953"
             ],
             [
              0.7777777777777778,
              "#fb9f3a"
             ],
             [
              0.8888888888888888,
              "#fdca26"
             ],
             [
              1,
              "#f0f921"
             ]
            ],
            "type": "contour"
           }
          ],
          "contourcarpet": [
           {
            "colorbar": {
             "outlinewidth": 0,
             "ticks": ""
            },
            "type": "contourcarpet"
           }
          ],
          "heatmap": [
           {
            "colorbar": {
             "outlinewidth": 0,
             "ticks": ""
            },
            "colorscale": [
             [
              0,
              "#0d0887"
             ],
             [
              0.1111111111111111,
              "#46039f"
             ],
             [
              0.2222222222222222,
              "#7201a8"
             ],
             [
              0.3333333333333333,
              "#9c179e"
             ],
             [
              0.4444444444444444,
              "#bd3786"
             ],
             [
              0.5555555555555556,
              "#d8576b"
             ],
             [
              0.6666666666666666,
              "#ed7953"
             ],
             [
              0.7777777777777778,
              "#fb9f3a"
             ],
             [
              0.8888888888888888,
              "#fdca26"
             ],
             [
              1,
              "#f0f921"
             ]
            ],
            "type": "heatmap"
           }
          ],
          "histogram": [
           {
            "marker": {
             "pattern": {
              "fillmode": "overlay",
              "size": 10,
              "solidity": 0.2
             }
            },
            "type": "histogram"
           }
          ],
          "histogram2d": [
           {
            "colorbar": {
             "outlinewidth": 0,
             "ticks": ""
            },
            "colorscale": [
             [
              0,
              "#0d0887"
             ],
             [
              0.1111111111111111,
              "#46039f"
             ],
             [
              0.2222222222222222,
              "#7201a8"
             ],
             [
              0.3333333333333333,
              "#9c179e"
             ],
             [
              0.4444444444444444,
              "#bd3786"
             ],
             [
              0.5555555555555556,
              "#d8576b"
             ],
             [
              0.6666666666666666,
              "#ed7953"
             ],
             [
              0.7777777777777778,
              "#fb9f3a"
             ],
             [
              0.8888888888888888,
              "#fdca26"
             ],
             [
              1,
              "#f0f921"
             ]
            ],
            "type": "histogram2d"
           }
          ],
          "histogram2dcontour": [
           {
            "colorbar": {
             "outlinewidth": 0,
             "ticks": ""
            },
            "colorscale": [
             [
              0,
              "#0d0887"
             ],
             [
              0.1111111111111111,
              "#46039f"
             ],
             [
              0.2222222222222222,
              "#7201a8"
             ],
             [
              0.3333333333333333,
              "#9c179e"
             ],
             [
              0.4444444444444444,
              "#bd3786"
             ],
             [
              0.5555555555555556,
              "#d8576b"
             ],
             [
              0.6666666666666666,
              "#ed7953"
             ],
             [
              0.7777777777777778,
              "#fb9f3a"
             ],
             [
              0.8888888888888888,
              "#fdca26"
             ],
             [
              1,
              "#f0f921"
             ]
            ],
            "type": "histogram2dcontour"
           }
          ],
          "mesh3d": [
           {
            "colorbar": {
             "outlinewidth": 0,
             "ticks": ""
            },
            "type": "mesh3d"
           }
          ],
          "parcoords": [
           {
            "line": {
             "colorbar": {
              "outlinewidth": 0,
              "ticks": ""
             }
            },
            "type": "parcoords"
           }
          ],
          "pie": [
           {
            "automargin": true,
            "type": "pie"
           }
          ],
          "scatter": [
           {
            "fillpattern": {
             "fillmode": "overlay",
             "size": 10,
             "solidity": 0.2
            },
            "type": "scatter"
           }
          ],
          "scatter3d": [
           {
            "line": {
             "colorbar": {
              "outlinewidth": 0,
              "ticks": ""
             }
            },
            "marker": {
             "colorbar": {
              "outlinewidth": 0,
              "ticks": ""
             }
            },
            "type": "scatter3d"
           }
          ],
          "scattercarpet": [
           {
            "marker": {
             "colorbar": {
              "outlinewidth": 0,
              "ticks": ""
             }
            },
            "type": "scattercarpet"
           }
          ],
          "scattergeo": [
           {
            "marker": {
             "colorbar": {
              "outlinewidth": 0,
              "ticks": ""
             }
            },
            "type": "scattergeo"
           }
          ],
          "scattergl": [
           {
            "marker": {
             "colorbar": {
              "outlinewidth": 0,
              "ticks": ""
             }
            },
            "type": "scattergl"
           }
          ],
          "scattermap": [
           {
            "marker": {
             "colorbar": {
              "outlinewidth": 0,
              "ticks": ""
             }
            },
            "type": "scattermap"
           }
          ],
          "scattermapbox": [
           {
            "marker": {
             "colorbar": {
              "outlinewidth": 0,
              "ticks": ""
             }
            },
            "type": "scattermapbox"
           }
          ],
          "scatterpolar": [
           {
            "marker": {
             "colorbar": {
              "outlinewidth": 0,
              "ticks": ""
             }
            },
            "type": "scatterpolar"
           }
          ],
          "scatterpolargl": [
           {
            "marker": {
             "colorbar": {
              "outlinewidth": 0,
              "ticks": ""
             }
            },
            "type": "scatterpolargl"
           }
          ],
          "scatterternary": [
           {
            "marker": {
             "colorbar": {
              "outlinewidth": 0,
              "ticks": ""
             }
            },
            "type": "scatterternary"
           }
          ],
          "surface": [
           {
            "colorbar": {
             "outlinewidth": 0,
             "ticks": ""
            },
            "colorscale": [
             [
              0,
              "#0d0887"
             ],
             [
              0.1111111111111111,
              "#46039f"
             ],
             [
              0.2222222222222222,
              "#7201a8"
             ],
             [
              0.3333333333333333,
              "#9c179e"
             ],
             [
              0.4444444444444444,
              "#bd3786"
             ],
             [
              0.5555555555555556,
              "#d8576b"
             ],
             [
              0.6666666666666666,
              "#ed7953"
             ],
             [
              0.7777777777777778,
              "#fb9f3a"
             ],
             [
              0.8888888888888888,
              "#fdca26"
             ],
             [
              1,
              "#f0f921"
             ]
            ],
            "type": "surface"
           }
          ],
          "table": [
           {
            "cells": {
             "fill": {
              "color": "#EBF0F8"
             },
             "line": {
              "color": "white"
             }
            },
            "header": {
             "fill": {
              "color": "#C8D4E3"
             },
             "line": {
              "color": "white"
             }
            },
            "type": "table"
           }
          ]
         },
         "layout": {
          "annotationdefaults": {
           "arrowcolor": "#2a3f5f",
           "arrowhead": 0,
           "arrowwidth": 1
          },
          "autotypenumbers": "strict",
          "coloraxis": {
           "colorbar": {
            "outlinewidth": 0,
            "ticks": ""
           }
          },
          "colorscale": {
           "diverging": [
            [
             0,
             "#8e0152"
            ],
            [
             0.1,
             "#c51b7d"
            ],
            [
             0.2,
             "#de77ae"
            ],
            [
             0.3,
             "#f1b6da"
            ],
            [
             0.4,
             "#fde0ef"
            ],
            [
             0.5,
             "#f7f7f7"
            ],
            [
             0.6,
             "#e6f5d0"
            ],
            [
             0.7,
             "#b8e186"
            ],
            [
             0.8,
             "#7fbc41"
            ],
            [
             0.9,
             "#4d9221"
            ],
            [
             1,
             "#276419"
            ]
           ],
           "sequential": [
            [
             0,
             "#0d0887"
            ],
            [
             0.1111111111111111,
             "#46039f"
            ],
            [
             0.2222222222222222,
             "#7201a8"
            ],
            [
             0.3333333333333333,
             "#9c179e"
            ],
            [
             0.4444444444444444,
             "#bd3786"
            ],
            [
             0.5555555555555556,
             "#d8576b"
            ],
            [
             0.6666666666666666,
             "#ed7953"
            ],
            [
             0.7777777777777778,
             "#fb9f3a"
            ],
            [
             0.8888888888888888,
             "#fdca26"
            ],
            [
             1,
             "#f0f921"
            ]
           ],
           "sequentialminus": [
            [
             0,
             "#0d0887"
            ],
            [
             0.1111111111111111,
             "#46039f"
            ],
            [
             0.2222222222222222,
             "#7201a8"
            ],
            [
             0.3333333333333333,
             "#9c179e"
            ],
            [
             0.4444444444444444,
             "#bd3786"
            ],
            [
             0.5555555555555556,
             "#d8576b"
            ],
            [
             0.6666666666666666,
             "#ed7953"
            ],
            [
             0.7777777777777778,
             "#fb9f3a"
            ],
            [
             0.8888888888888888,
             "#fdca26"
            ],
            [
             1,
             "#f0f921"
            ]
           ]
          },
          "colorway": [
           "#636efa",
           "#EF553B",
           "#00cc96",
           "#ab63fa",
           "#FFA15A",
           "#19d3f3",
           "#FF6692",
           "#B6E880",
           "#FF97FF",
           "#FECB52"
          ],
          "font": {
           "color": "#2a3f5f"
          },
          "geo": {
           "bgcolor": "white",
           "lakecolor": "white",
           "landcolor": "#E5ECF6",
           "showlakes": true,
           "showland": true,
           "subunitcolor": "white"
          },
          "hoverlabel": {
           "align": "left"
          },
          "hovermode": "closest",
          "mapbox": {
           "style": "light"
          },
          "paper_bgcolor": "white",
          "plot_bgcolor": "#E5ECF6",
          "polar": {
           "angularaxis": {
            "gridcolor": "white",
            "linecolor": "white",
            "ticks": ""
           },
           "bgcolor": "#E5ECF6",
           "radialaxis": {
            "gridcolor": "white",
            "linecolor": "white",
            "ticks": ""
           }
          },
          "scene": {
           "xaxis": {
            "backgroundcolor": "#E5ECF6",
            "gridcolor": "white",
            "gridwidth": 2,
            "linecolor": "white",
            "showbackground": true,
            "ticks": "",
            "zerolinecolor": "white"
           },
           "yaxis": {
            "backgroundcolor": "#E5ECF6",
            "gridcolor": "white",
            "gridwidth": 2,
            "linecolor": "white",
            "showbackground": true,
            "ticks": "",
            "zerolinecolor": "white"
           },
           "zaxis": {
            "backgroundcolor": "#E5ECF6",
            "gridcolor": "white",
            "gridwidth": 2,
            "linecolor": "white",
            "showbackground": true,
            "ticks": "",
            "zerolinecolor": "white"
           }
          },
          "shapedefaults": {
           "line": {
            "color": "#2a3f5f"
           }
          },
          "ternary": {
           "aaxis": {
            "gridcolor": "white",
            "linecolor": "white",
            "ticks": ""
           },
           "baxis": {
            "gridcolor": "white",
            "linecolor": "white",
            "ticks": ""
           },
           "bgcolor": "#E5ECF6",
           "caxis": {
            "gridcolor": "white",
            "linecolor": "white",
            "ticks": ""
           }
          },
          "title": {
           "x": 0.05
          },
          "xaxis": {
           "automargin": true,
           "gridcolor": "white",
           "linecolor": "white",
           "ticks": "",
           "title": {
            "standoff": 15
           },
           "zerolinecolor": "white",
           "zerolinewidth": 2
          },
          "yaxis": {
           "automargin": true,
           "gridcolor": "white",
           "linecolor": "white",
           "ticks": "",
           "title": {
            "standoff": 15
           },
           "zerolinecolor": "white",
           "zerolinewidth": 2
          }
         }
        },
        "title": {
         "text": "When and where was/were your child/ren born?"
        },
        "width": 1000,
        "xaxis": {
         "anchor": "y",
         "categoryarray": [
          "1970–1979",
          "1980–1989",
          "1990–1999",
          "2000–2009",
          "2010–2019",
          "2020–2029",
          "1960–1969"
         ],
         "categoryorder": "array",
         "domain": [
          0,
          1
         ],
         "title": {
          "text": ""
         }
        },
        "yaxis": {
         "anchor": "x",
         "domain": [
          0,
          1
         ],
         "title": {
          "text": "Percentage (%)"
         }
        }
       }
      }
     },
     "metadata": {},
     "output_type": "display_data"
    },
    {
     "name": "stdout",
     "output_type": "stream",
     "text": [
      "Group: Faculty (tenure-track), Count sum: 3135\n",
      "Group: Faculty (tenured), Count sum: 3329\n",
      "Group: Faculty (untenured), Count sum: 2998\n",
      "Group: PhD students, Count sum: 2745\n",
      "Group: Postdocs, Count sum: 2931\n"
     ]
    },
    {
     "data": {
      "application/vnd.plotly.v1+json": {
       "config": {
        "plotlyServerURL": "https://plot.ly"
       },
       "data": [
        {
         "alignmentgroup": "True",
         "customdata": {
          "bdata": "xgKVB0cAFwA=",
          "dtype": "i2",
          "shape": "4, 1"
         },
         "hovertemplate": "Group=PhD students<br>Bin_Label=%{x}<br>Percentage=%{y}<br>text=%{text}<br>Count=%{customdata[0]}<extra></extra>",
         "legendgroup": "PhD students",
         "marker": {
          "color": "#D7D9B1",
          "line": {
           "width": 1
          },
          "pattern": {
           "shape": ""
          }
         },
         "name": "PhD students",
         "offsetgroup": "PhD students",
         "orientation": "v",
         "showlegend": true,
         "text": [
          "25.9%",
          "70.7%",
          "2.6%",
          "0.8%"
         ],
         "textposition": "auto",
         "type": "bar",
         "x": [
          "No",
          "Yes, full relief of duties",
          "Yes, teaching and service relief",
          "Yes, teaching relief only"
         ],
         "xaxis": "x",
         "y": {
          "bdata": "lW0xXn7dOUDP9Dfodq1RQKpX9OQxsQRAOocGivjP6j8=",
          "dtype": "f8"
         },
         "yaxis": "y"
        },
        {
         "alignmentgroup": "True",
         "customdata": {
          "bdata": "8gEOCVoAGQA=",
          "dtype": "i2",
          "shape": "4, 1"
         },
         "hovertemplate": "Group=Postdocs<br>Bin_Label=%{x}<br>Percentage=%{y}<br>text=%{text}<br>Count=%{customdata[0]}<extra></extra>",
         "legendgroup": "Postdocs",
         "marker": {
          "color": "#3A6992",
          "line": {
           "width": 1
          },
          "pattern": {
           "shape": ""
          }
         },
         "name": "Postdocs",
         "offsetgroup": "Postdocs",
         "orientation": "v",
         "showlegend": true,
         "text": [
          "17.0%",
          "79.1%",
          "3.1%",
          "0.9%"
         ],
         "textposition": "auto",
         "type": "bar",
         "x": [
          "No",
          "Yes, full relief of duties",
          "Yes, teaching and service relief",
          "Yes, teaching relief only"
         ],
         "xaxis": "x",
         "y": {
          "bdata": "/2FqSqT9MEA1r64Qe8VTQMvaLYGjkAhAN7qkVmBL6z8=",
          "dtype": "f8"
         },
         "yaxis": "y"
        },
        {
         "alignmentgroup": "True",
         "customdata": {
          "bdata": "hwGcCWQALwA=",
          "dtype": "i2",
          "shape": "4, 1"
         },
         "hovertemplate": "Group=Faculty (untenured)<br>Bin_Label=%{x}<br>Percentage=%{y}<br>text=%{text}<br>Count=%{customdata[0]}<extra></extra>",
         "legendgroup": "Faculty (untenured)",
         "marker": {
          "color": "#BB4430",
          "line": {
           "width": 1
          },
          "pattern": {
           "shape": ""
          }
         },
         "name": "Faculty (untenured)",
         "offsetgroup": "Faculty (untenured)",
         "orientation": "v",
         "showlegend": true,
         "text": [
          "13.0%",
          "82.1%",
          "3.3%",
          "1.6%"
         ],
         "textposition": "auto",
         "type": "bar",
         "x": [
          "No",
          "Yes, full relief of duties",
          "Yes, teaching and service relief",
          "Yes, teaching relief only"
         ],
         "xaxis": "x",
         "y": {
          "bdata": "KHxLsoQVKkCFaJRBgINUQJEXQoc4rwpAec4F+lgV+T8=",
          "dtype": "f8"
         },
         "yaxis": "y"
        },
        {
         "alignmentgroup": "True",
         "customdata": {
          "bdata": "OQFxCmkALAA=",
          "dtype": "i2",
          "shape": "4, 1"
         },
         "hovertemplate": "Group=Faculty (tenure-track)<br>Bin_Label=%{x}<br>Percentage=%{y}<br>text=%{text}<br>Count=%{customdata[0]}<extra></extra>",
         "legendgroup": "Faculty (tenure-track)",
         "marker": {
          "color": "#795663",
          "line": {
           "width": 1
          },
          "pattern": {
           "shape": ""
          }
         },
         "name": "Faculty (tenure-track)",
         "offsetgroup": "Faculty (tenure-track)",
         "orientation": "v",
         "showlegend": true,
         "text": [
          "10.0%",
          "85.3%",
          "3.3%",
          "1.4%"
         ],
         "textposition": "auto",
         "type": "bar",
         "x": [
          "No",
          "Yes, full relief of duties",
          "Yes, teaching and service relief",
          "Yes, teaching relief only"
         ],
         "xaxis": "x",
         "y": {
          "bdata": "IEuYidX3I0AN5TWU11BVQCp+SYRUywpATGcxncV09j8=",
          "dtype": "f8"
         },
         "yaxis": "y"
        },
        {
         "alignmentgroup": "True",
         "customdata": {
          "bdata": "NQExC3IAKQA=",
          "dtype": "i2",
          "shape": "4, 1"
         },
         "hovertemplate": "Group=Faculty (tenured)<br>Bin_Label=%{x}<br>Percentage=%{y}<br>text=%{text}<br>Count=%{customdata[0]}<extra></extra>",
         "legendgroup": "Faculty (tenured)",
         "marker": {
          "color": "#B89685",
          "line": {
           "width": 1
          },
          "pattern": {
           "shape": ""
          }
         },
         "name": "Faculty (tenured)",
         "offsetgroup": "Faculty (tenured)",
         "orientation": "v",
         "showlegend": true,
         "text": [
          "9.3%",
          "86.1%",
          "3.4%",
          "1.2%"
         ],
         "textposition": "auto",
         "type": "bar",
         "x": [
          "No",
          "Yes, full relief of duties",
          "Yes, teaching and service relief",
          "Yes, teaching relief only"
         ],
         "xaxis": "x",
         "y": {
          "bdata": "wEV1C2uQIkBabmXZ9YNVQCJEivpGZQtAQbPlVaO08z8=",
          "dtype": "f8"
         },
         "yaxis": "y"
        }
       ],
       "layout": {
        "barmode": "group",
        "height": 400,
        "legend": {
         "title": {
          "text": "Group"
         },
         "tracegroupgap": 0
        },
        "margin": {
         "r": 200
        },
        "template": {
         "data": {
          "bar": [
           {
            "error_x": {
             "color": "#2a3f5f"
            },
            "error_y": {
             "color": "#2a3f5f"
            },
            "marker": {
             "line": {
              "color": "#E5ECF6",
              "width": 0.5
             },
             "pattern": {
              "fillmode": "overlay",
              "size": 10,
              "solidity": 0.2
             }
            },
            "type": "bar"
           }
          ],
          "barpolar": [
           {
            "marker": {
             "line": {
              "color": "#E5ECF6",
              "width": 0.5
             },
             "pattern": {
              "fillmode": "overlay",
              "size": 10,
              "solidity": 0.2
             }
            },
            "type": "barpolar"
           }
          ],
          "carpet": [
           {
            "aaxis": {
             "endlinecolor": "#2a3f5f",
             "gridcolor": "white",
             "linecolor": "white",
             "minorgridcolor": "white",
             "startlinecolor": "#2a3f5f"
            },
            "baxis": {
             "endlinecolor": "#2a3f5f",
             "gridcolor": "white",
             "linecolor": "white",
             "minorgridcolor": "white",
             "startlinecolor": "#2a3f5f"
            },
            "type": "carpet"
           }
          ],
          "choropleth": [
           {
            "colorbar": {
             "outlinewidth": 0,
             "ticks": ""
            },
            "type": "choropleth"
           }
          ],
          "contour": [
           {
            "colorbar": {
             "outlinewidth": 0,
             "ticks": ""
            },
            "colorscale": [
             [
              0,
              "#0d0887"
             ],
             [
              0.1111111111111111,
              "#46039f"
             ],
             [
              0.2222222222222222,
              "#7201a8"
             ],
             [
              0.3333333333333333,
              "#9c179e"
             ],
             [
              0.4444444444444444,
              "#bd3786"
             ],
             [
              0.5555555555555556,
              "#d8576b"
             ],
             [
              0.6666666666666666,
              "#ed7953"
             ],
             [
              0.7777777777777778,
              "#fb9f3a"
             ],
             [
              0.8888888888888888,
              "#fdca26"
             ],
             [
              1,
              "#f0f921"
             ]
            ],
            "type": "contour"
           }
          ],
          "contourcarpet": [
           {
            "colorbar": {
             "outlinewidth": 0,
             "ticks": ""
            },
            "type": "contourcarpet"
           }
          ],
          "heatmap": [
           {
            "colorbar": {
             "outlinewidth": 0,
             "ticks": ""
            },
            "colorscale": [
             [
              0,
              "#0d0887"
             ],
             [
              0.1111111111111111,
              "#46039f"
             ],
             [
              0.2222222222222222,
              "#7201a8"
             ],
             [
              0.3333333333333333,
              "#9c179e"
             ],
             [
              0.4444444444444444,
              "#bd3786"
             ],
             [
              0.5555555555555556,
              "#d8576b"
             ],
             [
              0.6666666666666666,
              "#ed7953"
             ],
             [
              0.7777777777777778,
              "#fb9f3a"
             ],
             [
              0.8888888888888888,
              "#fdca26"
             ],
             [
              1,
              "#f0f921"
             ]
            ],
            "type": "heatmap"
           }
          ],
          "histogram": [
           {
            "marker": {
             "pattern": {
              "fillmode": "overlay",
              "size": 10,
              "solidity": 0.2
             }
            },
            "type": "histogram"
           }
          ],
          "histogram2d": [
           {
            "colorbar": {
             "outlinewidth": 0,
             "ticks": ""
            },
            "colorscale": [
             [
              0,
              "#0d0887"
             ],
             [
              0.1111111111111111,
              "#46039f"
             ],
             [
              0.2222222222222222,
              "#7201a8"
             ],
             [
              0.3333333333333333,
              "#9c179e"
             ],
             [
              0.4444444444444444,
              "#bd3786"
             ],
             [
              0.5555555555555556,
              "#d8576b"
             ],
             [
              0.6666666666666666,
              "#ed7953"
             ],
             [
              0.7777777777777778,
              "#fb9f3a"
             ],
             [
              0.8888888888888888,
              "#fdca26"
             ],
             [
              1,
              "#f0f921"
             ]
            ],
            "type": "histogram2d"
           }
          ],
          "histogram2dcontour": [
           {
            "colorbar": {
             "outlinewidth": 0,
             "ticks": ""
            },
            "colorscale": [
             [
              0,
              "#0d0887"
             ],
             [
              0.1111111111111111,
              "#46039f"
             ],
             [
              0.2222222222222222,
              "#7201a8"
             ],
             [
              0.3333333333333333,
              "#9c179e"
             ],
             [
              0.4444444444444444,
              "#bd3786"
             ],
             [
              0.5555555555555556,
              "#d8576b"
             ],
             [
              0.6666666666666666,
              "#ed7953"
             ],
             [
              0.7777777777777778,
              "#fb9f3a"
             ],
             [
              0.8888888888888888,
              "#fdca26"
             ],
             [
              1,
              "#f0f921"
             ]
            ],
            "type": "histogram2dcontour"
           }
          ],
          "mesh3d": [
           {
            "colorbar": {
             "outlinewidth": 0,
             "ticks": ""
            },
            "type": "mesh3d"
           }
          ],
          "parcoords": [
           {
            "line": {
             "colorbar": {
              "outlinewidth": 0,
              "ticks": ""
             }
            },
            "type": "parcoords"
           }
          ],
          "pie": [
           {
            "automargin": true,
            "type": "pie"
           }
          ],
          "scatter": [
           {
            "fillpattern": {
             "fillmode": "overlay",
             "size": 10,
             "solidity": 0.2
            },
            "type": "scatter"
           }
          ],
          "scatter3d": [
           {
            "line": {
             "colorbar": {
              "outlinewidth": 0,
              "ticks": ""
             }
            },
            "marker": {
             "colorbar": {
              "outlinewidth": 0,
              "ticks": ""
             }
            },
            "type": "scatter3d"
           }
          ],
          "scattercarpet": [
           {
            "marker": {
             "colorbar": {
              "outlinewidth": 0,
              "ticks": ""
             }
            },
            "type": "scattercarpet"
           }
          ],
          "scattergeo": [
           {
            "marker": {
             "colorbar": {
              "outlinewidth": 0,
              "ticks": ""
             }
            },
            "type": "scattergeo"
           }
          ],
          "scattergl": [
           {
            "marker": {
             "colorbar": {
              "outlinewidth": 0,
              "ticks": ""
             }
            },
            "type": "scattergl"
           }
          ],
          "scattermap": [
           {
            "marker": {
             "colorbar": {
              "outlinewidth": 0,
              "ticks": ""
             }
            },
            "type": "scattermap"
           }
          ],
          "scattermapbox": [
           {
            "marker": {
             "colorbar": {
              "outlinewidth": 0,
              "ticks": ""
             }
            },
            "type": "scattermapbox"
           }
          ],
          "scatterpolar": [
           {
            "marker": {
             "colorbar": {
              "outlinewidth": 0,
              "ticks": ""
             }
            },
            "type": "scatterpolar"
           }
          ],
          "scatterpolargl": [
           {
            "marker": {
             "colorbar": {
              "outlinewidth": 0,
              "ticks": ""
             }
            },
            "type": "scatterpolargl"
           }
          ],
          "scatterternary": [
           {
            "marker": {
             "colorbar": {
              "outlinewidth": 0,
              "ticks": ""
             }
            },
            "type": "scatterternary"
           }
          ],
          "surface": [
           {
            "colorbar": {
             "outlinewidth": 0,
             "ticks": ""
            },
            "colorscale": [
             [
              0,
              "#0d0887"
             ],
             [
              0.1111111111111111,
              "#46039f"
             ],
             [
              0.2222222222222222,
              "#7201a8"
             ],
             [
              0.3333333333333333,
              "#9c179e"
             ],
             [
              0.4444444444444444,
              "#bd3786"
             ],
             [
              0.5555555555555556,
              "#d8576b"
             ],
             [
              0.6666666666666666,
              "#ed7953"
             ],
             [
              0.7777777777777778,
              "#fb9f3a"
             ],
             [
              0.8888888888888888,
              "#fdca26"
             ],
             [
              1,
              "#f0f921"
             ]
            ],
            "type": "surface"
           }
          ],
          "table": [
           {
            "cells": {
             "fill": {
              "color": "#EBF0F8"
             },
             "line": {
              "color": "white"
             }
            },
            "header": {
             "fill": {
              "color": "#C8D4E3"
             },
             "line": {
              "color": "white"
             }
            },
            "type": "table"
           }
          ]
         },
         "layout": {
          "annotationdefaults": {
           "arrowcolor": "#2a3f5f",
           "arrowhead": 0,
           "arrowwidth": 1
          },
          "autotypenumbers": "strict",
          "coloraxis": {
           "colorbar": {
            "outlinewidth": 0,
            "ticks": ""
           }
          },
          "colorscale": {
           "diverging": [
            [
             0,
             "#8e0152"
            ],
            [
             0.1,
             "#c51b7d"
            ],
            [
             0.2,
             "#de77ae"
            ],
            [
             0.3,
             "#f1b6da"
            ],
            [
             0.4,
             "#fde0ef"
            ],
            [
             0.5,
             "#f7f7f7"
            ],
            [
             0.6,
             "#e6f5d0"
            ],
            [
             0.7,
             "#b8e186"
            ],
            [
             0.8,
             "#7fbc41"
            ],
            [
             0.9,
             "#4d9221"
            ],
            [
             1,
             "#276419"
            ]
           ],
           "sequential": [
            [
             0,
             "#0d0887"
            ],
            [
             0.1111111111111111,
             "#46039f"
            ],
            [
             0.2222222222222222,
             "#7201a8"
            ],
            [
             0.3333333333333333,
             "#9c179e"
            ],
            [
             0.4444444444444444,
             "#bd3786"
            ],
            [
             0.5555555555555556,
             "#d8576b"
            ],
            [
             0.6666666666666666,
             "#ed7953"
            ],
            [
             0.7777777777777778,
             "#fb9f3a"
            ],
            [
             0.8888888888888888,
             "#fdca26"
            ],
            [
             1,
             "#f0f921"
            ]
           ],
           "sequentialminus": [
            [
             0,
             "#0d0887"
            ],
            [
             0.1111111111111111,
             "#46039f"
            ],
            [
             0.2222222222222222,
             "#7201a8"
            ],
            [
             0.3333333333333333,
             "#9c179e"
            ],
            [
             0.4444444444444444,
             "#bd3786"
            ],
            [
             0.5555555555555556,
             "#d8576b"
            ],
            [
             0.6666666666666666,
             "#ed7953"
            ],
            [
             0.7777777777777778,
             "#fb9f3a"
            ],
            [
             0.8888888888888888,
             "#fdca26"
            ],
            [
             1,
             "#f0f921"
            ]
           ]
          },
          "colorway": [
           "#636efa",
           "#EF553B",
           "#00cc96",
           "#ab63fa",
           "#FFA15A",
           "#19d3f3",
           "#FF6692",
           "#B6E880",
           "#FF97FF",
           "#FECB52"
          ],
          "font": {
           "color": "#2a3f5f"
          },
          "geo": {
           "bgcolor": "white",
           "lakecolor": "white",
           "landcolor": "#E5ECF6",
           "showlakes": true,
           "showland": true,
           "subunitcolor": "white"
          },
          "hoverlabel": {
           "align": "left"
          },
          "hovermode": "closest",
          "mapbox": {
           "style": "light"
          },
          "paper_bgcolor": "white",
          "plot_bgcolor": "#E5ECF6",
          "polar": {
           "angularaxis": {
            "gridcolor": "white",
            "linecolor": "white",
            "ticks": ""
           },
           "bgcolor": "#E5ECF6",
           "radialaxis": {
            "gridcolor": "white",
            "linecolor": "white",
            "ticks": ""
           }
          },
          "scene": {
           "xaxis": {
            "backgroundcolor": "#E5ECF6",
            "gridcolor": "white",
            "gridwidth": 2,
            "linecolor": "white",
            "showbackground": true,
            "ticks": "",
            "zerolinecolor": "white"
           },
           "yaxis": {
            "backgroundcolor": "#E5ECF6",
            "gridcolor": "white",
            "gridwidth": 2,
            "linecolor": "white",
            "showbackground": true,
            "ticks": "",
            "zerolinecolor": "white"
           },
           "zaxis": {
            "backgroundcolor": "#E5ECF6",
            "gridcolor": "white",
            "gridwidth": 2,
            "linecolor": "white",
            "showbackground": true,
            "ticks": "",
            "zerolinecolor": "white"
           }
          },
          "shapedefaults": {
           "line": {
            "color": "#2a3f5f"
           }
          },
          "ternary": {
           "aaxis": {
            "gridcolor": "white",
            "linecolor": "white",
            "ticks": ""
           },
           "baxis": {
            "gridcolor": "white",
            "linecolor": "white",
            "ticks": ""
           },
           "bgcolor": "#E5ECF6",
           "caxis": {
            "gridcolor": "white",
            "linecolor": "white",
            "ticks": ""
           }
          },
          "title": {
           "x": 0.05
          },
          "xaxis": {
           "automargin": true,
           "gridcolor": "white",
           "linecolor": "white",
           "ticks": "",
           "title": {
            "standoff": 15
           },
           "zerolinecolor": "white",
           "zerolinewidth": 2
          },
          "yaxis": {
           "automargin": true,
           "gridcolor": "white",
           "linecolor": "white",
           "ticks": "",
           "title": {
            "standoff": 15
           },
           "zerolinecolor": "white",
           "zerolinewidth": 2
          }
         }
        },
        "title": {
         "text": "Does your current institution offer paid parental leave to<br>academics of your same legal gender?"
        },
        "width": 1000,
        "xaxis": {
         "anchor": "y",
         "categoryarray": [
          "No",
          "Yes, teaching relief only",
          "Yes, teaching and service relief",
          "Yes, full relief of duties",
          "Don't know"
         ],
         "categoryorder": "array",
         "domain": [
          0,
          1
         ],
         "tickfont": {
          "size": 12
         },
         "tickmode": "array",
         "ticktext": [
          "No",
          "Yes,<br>teaching<br>relief only",
          "Yes,<br>teaching and<br>service<br>relief",
          "Yes, full<br>relief of<br>duties",
          "Don't know"
         ],
         "tickvals": [
          "No",
          "Yes, teaching relief only",
          "Yes, teaching and service relief",
          "Yes, full relief of duties",
          "Don't know"
         ],
         "title": {
          "text": ""
         }
        },
        "yaxis": {
         "anchor": "x",
         "domain": [
          0,
          1
         ],
         "title": {
          "text": "Percentage (%)"
         }
        }
       }
      }
     },
     "metadata": {},
     "output_type": "display_data"
    },
    {
     "name": "stdout",
     "output_type": "stream",
     "text": [
      "Group: Faculty (tenure-track), Count sum: 909\n",
      "Group: Faculty (untenured), Count sum: 187\n",
      "Group: PhD students, Count sum: 3077\n",
      "Group: Postdocs, Count sum: 5434\n"
     ]
    },
    {
     "name": "stderr",
     "output_type": "stream",
     "text": [
      "/Users/Paula_1/CodingProjects/parenthood/parenthood_europe/libs/questions/matrix.py:314: FutureWarning:\n",
      "\n",
      "The default of observed=False is deprecated and will be changed to True in a future version of pandas. Pass observed=False to retain current behavior or observed=True to adopt the future default and silence this warning.\n",
      "\n",
      "/Users/Paula_1/CodingProjects/parenthood/parenthood_europe/libs/questions/matrix.py:322: FutureWarning:\n",
      "\n",
      "The default of observed=False is deprecated and will be changed to True in a future version of pandas. Pass observed=False to retain current behavior or observed=True to adopt the future default and silence this warning.\n",
      "\n"
     ]
    },
    {
     "data": {
      "application/vnd.plotly.v1+json": {
       "config": {
        "plotlyServerURL": "https://plot.ly"
       },
       "data": [
        {
         "alignmentgroup": "True",
         "customdata": {
          "bdata": "XgDeAUwBPgEKBKUA+wCVAQ==",
          "dtype": "i2",
          "shape": "8, 1"
         },
         "hovertemplate": "Group=PhD students<br>Bin_Label=%{x}<br>Percentage=%{y}<br>text=%{text}<br>Count=%{customdata[0]}<extra></extra>",
         "legendgroup": "PhD students",
         "marker": {
          "color": "#D7D9B1",
          "line": {
           "width": 1
          },
          "pattern": {
           "shape": ""
          }
         },
         "name": "PhD students",
         "offsetgroup": "PhD students",
         "orientation": "v",
         "showlegend": true,
         "text": [
          "3.1%",
          "15.5%",
          "10.8%",
          "10.3%",
          "33.6%",
          "5.4%",
          "8.2%",
          "13.2%"
         ],
         "textposition": "auto",
         "type": "bar",
         "x": [
          "0–1",
          "2–3",
          "4–6",
          "7–12",
          "13–18",
          "19–24",
          "25–36",
          "37+"
         ],
         "xaxis": "x",
         "y": {
          "bdata": "fdNqzHtwCEANRr6duBEvQDDAMoZXlCVAOnRPQWOrJEBmcYkcVc1AQMSQpA4QcxVAkD80HIlQIEAfg/gRCFMqQA==",
          "dtype": "f8"
         },
         "yaxis": "y"
        },
        {
         "alignmentgroup": "True",
         "customdata": {
          "bdata": "uQCRAoYGTggOApIAaAAUAA==",
          "dtype": "i2",
          "shape": "8, 1"
         },
         "hovertemplate": "Group=Postdocs<br>Bin_Label=%{x}<br>Percentage=%{y}<br>text=%{text}<br>Count=%{customdata[0]}<extra></extra>",
         "legendgroup": "Postdocs",
         "marker": {
          "color": "#3A6992",
          "line": {
           "width": 1
          },
          "pattern": {
           "shape": ""
          }
         },
         "name": "Postdocs",
         "offsetgroup": "Postdocs",
         "orientation": "v",
         "showlegend": true,
         "text": [
          "3.4%",
          "12.1%",
          "30.7%",
          "39.1%",
          "9.7%",
          "2.7%",
          "1.9%",
          "0.4%"
         ],
         "textposition": "auto",
         "type": "bar",
         "x": [
          "0–1",
          "2–3",
          "4–6",
          "7–12",
          "13–18",
          "19–24",
          "25–36",
          "37+"
         ],
         "xaxis": "x",
         "y": {
          "bdata": "9W3lYWU8C0C3iBllWy4oQP5CTTyAuz5AigdwV+CPQ0BN5N3xDVwjQKNA+iCKfgVAC0fmBDyf/j9XSicrLo7XPw==",
          "dtype": "f8"
         },
         "yaxis": "y"
        },
        {
         "alignmentgroup": "True",
         "customdata": {
          "bdata": "SihBBAQAAAA=",
          "dtype": "i1",
          "shape": "8, 1"
         },
         "hovertemplate": "Group=Faculty (untenured)<br>Bin_Label=%{x}<br>Percentage=%{y}<br>text=%{text}<br>Count=%{customdata[0]}<extra></extra>",
         "legendgroup": "Faculty (untenured)",
         "marker": {
          "color": "#BB4430",
          "line": {
           "width": 1
          },
          "pattern": {
           "shape": ""
          }
         },
         "name": "Faculty (untenured)",
         "offsetgroup": "Faculty (untenured)",
         "orientation": "v",
         "showlegend": true,
         "text": [
          "39.6%",
          "21.4%",
          "34.8%",
          "2.1%",
          "2.1%",
          "0.0%",
          "0.0%",
          "0.0%"
         ],
         "textposition": "auto",
         "type": "bar",
         "x": [
          "0–1",
          "2–3",
          "4–6",
          "7–12",
          "13–18",
          "19–24",
          "25–36",
          "37+"
         ],
         "xaxis": "x",
         "y": {
          "bdata": "yfexmj3JQ0BkNXuS72M1QGEbBKcyYUFAHZFiqL8cAUAdkWKovxwBQAAAAAAAAAAAAAAAAAAAAAAAAAAAAAAAAA==",
          "dtype": "f8"
         },
         "yaxis": "y"
        },
        {
         "alignmentgroup": "True",
         "customdata": {
          "bdata": "lwAqAsEACwAAAAAAAAAAAA==",
          "dtype": "i2",
          "shape": "8, 1"
         },
         "hovertemplate": "Group=Faculty (tenure-track)<br>Bin_Label=%{x}<br>Percentage=%{y}<br>text=%{text}<br>Count=%{customdata[0]}<extra></extra>",
         "legendgroup": "Faculty (tenure-track)",
         "marker": {
          "color": "#795663",
          "line": {
           "width": 1
          },
          "pattern": {
           "shape": ""
          }
         },
         "name": "Faculty (tenure-track)",
         "offsetgroup": "Faculty (tenure-track)",
         "orientation": "v",
         "showlegend": true,
         "text": [
          "16.6%",
          "60.9%",
          "21.2%",
          "1.2%",
          "0.0%",
          "0.0%",
          "0.0%",
          "0.0%"
         ],
         "textposition": "auto",
         "type": "bar",
         "x": [
          "0–1",
          "2–3",
          "4–6",
          "7–12",
          "13–18",
          "19–24",
          "25–36",
          "37+"
         ],
         "xaxis": "x",
         "y": {
          "bdata": "PrSA05WcMEBAR8+gGXlOQOmPRW1sOzVAedWy2adc8z8AAAAAAAAAAAAAAAAAAAAAAAAAAAAAAAAAAAAAAAAAAA==",
          "dtype": "f8"
         },
         "yaxis": "y"
        }
       ],
       "layout": {
        "barmode": "group",
        "height": 400,
        "legend": {
         "title": {
          "text": "Group"
         },
         "tracegroupgap": 0
        },
        "margin": {
         "r": 200
        },
        "template": {
         "data": {
          "bar": [
           {
            "error_x": {
             "color": "#2a3f5f"
            },
            "error_y": {
             "color": "#2a3f5f"
            },
            "marker": {
             "line": {
              "color": "#E5ECF6",
              "width": 0.5
             },
             "pattern": {
              "fillmode": "overlay",
              "size": 10,
              "solidity": 0.2
             }
            },
            "type": "bar"
           }
          ],
          "barpolar": [
           {
            "marker": {
             "line": {
              "color": "#E5ECF6",
              "width": 0.5
             },
             "pattern": {
              "fillmode": "overlay",
              "size": 10,
              "solidity": 0.2
             }
            },
            "type": "barpolar"
           }
          ],
          "carpet": [
           {
            "aaxis": {
             "endlinecolor": "#2a3f5f",
             "gridcolor": "white",
             "linecolor": "white",
             "minorgridcolor": "white",
             "startlinecolor": "#2a3f5f"
            },
            "baxis": {
             "endlinecolor": "#2a3f5f",
             "gridcolor": "white",
             "linecolor": "white",
             "minorgridcolor": "white",
             "startlinecolor": "#2a3f5f"
            },
            "type": "carpet"
           }
          ],
          "choropleth": [
           {
            "colorbar": {
             "outlinewidth": 0,
             "ticks": ""
            },
            "type": "choropleth"
           }
          ],
          "contour": [
           {
            "colorbar": {
             "outlinewidth": 0,
             "ticks": ""
            },
            "colorscale": [
             [
              0,
              "#0d0887"
             ],
             [
              0.1111111111111111,
              "#46039f"
             ],
             [
              0.2222222222222222,
              "#7201a8"
             ],
             [
              0.3333333333333333,
              "#9c179e"
             ],
             [
              0.4444444444444444,
              "#bd3786"
             ],
             [
              0.5555555555555556,
              "#d8576b"
             ],
             [
              0.6666666666666666,
              "#ed7953"
             ],
             [
              0.7777777777777778,
              "#fb9f3a"
             ],
             [
              0.8888888888888888,
              "#fdca26"
             ],
             [
              1,
              "#f0f921"
             ]
            ],
            "type": "contour"
           }
          ],
          "contourcarpet": [
           {
            "colorbar": {
             "outlinewidth": 0,
             "ticks": ""
            },
            "type": "contourcarpet"
           }
          ],
          "heatmap": [
           {
            "colorbar": {
             "outlinewidth": 0,
             "ticks": ""
            },
            "colorscale": [
             [
              0,
              "#0d0887"
             ],
             [
              0.1111111111111111,
              "#46039f"
             ],
             [
              0.2222222222222222,
              "#7201a8"
             ],
             [
              0.3333333333333333,
              "#9c179e"
             ],
             [
              0.4444444444444444,
              "#bd3786"
             ],
             [
              0.5555555555555556,
              "#d8576b"
             ],
             [
              0.6666666666666666,
              "#ed7953"
             ],
             [
              0.7777777777777778,
              "#fb9f3a"
             ],
             [
              0.8888888888888888,
              "#fdca26"
             ],
             [
              1,
              "#f0f921"
             ]
            ],
            "type": "heatmap"
           }
          ],
          "histogram": [
           {
            "marker": {
             "pattern": {
              "fillmode": "overlay",
              "size": 10,
              "solidity": 0.2
             }
            },
            "type": "histogram"
           }
          ],
          "histogram2d": [
           {
            "colorbar": {
             "outlinewidth": 0,
             "ticks": ""
            },
            "colorscale": [
             [
              0,
              "#0d0887"
             ],
             [
              0.1111111111111111,
              "#46039f"
             ],
             [
              0.2222222222222222,
              "#7201a8"
             ],
             [
              0.3333333333333333,
              "#9c179e"
             ],
             [
              0.4444444444444444,
              "#bd3786"
             ],
             [
              0.5555555555555556,
              "#d8576b"
             ],
             [
              0.6666666666666666,
              "#ed7953"
             ],
             [
              0.7777777777777778,
              "#fb9f3a"
             ],
             [
              0.8888888888888888,
              "#fdca26"
             ],
             [
              1,
              "#f0f921"
             ]
            ],
            "type": "histogram2d"
           }
          ],
          "histogram2dcontour": [
           {
            "colorbar": {
             "outlinewidth": 0,
             "ticks": ""
            },
            "colorscale": [
             [
              0,
              "#0d0887"
             ],
             [
              0.1111111111111111,
              "#46039f"
             ],
             [
              0.2222222222222222,
              "#7201a8"
             ],
             [
              0.3333333333333333,
              "#9c179e"
             ],
             [
              0.4444444444444444,
              "#bd3786"
             ],
             [
              0.5555555555555556,
              "#d8576b"
             ],
             [
              0.6666666666666666,
              "#ed7953"
             ],
             [
              0.7777777777777778,
              "#fb9f3a"
             ],
             [
              0.8888888888888888,
              "#fdca26"
             ],
             [
              1,
              "#f0f921"
             ]
            ],
            "type": "histogram2dcontour"
           }
          ],
          "mesh3d": [
           {
            "colorbar": {
             "outlinewidth": 0,
             "ticks": ""
            },
            "type": "mesh3d"
           }
          ],
          "parcoords": [
           {
            "line": {
             "colorbar": {
              "outlinewidth": 0,
              "ticks": ""
             }
            },
            "type": "parcoords"
           }
          ],
          "pie": [
           {
            "automargin": true,
            "type": "pie"
           }
          ],
          "scatter": [
           {
            "fillpattern": {
             "fillmode": "overlay",
             "size": 10,
             "solidity": 0.2
            },
            "type": "scatter"
           }
          ],
          "scatter3d": [
           {
            "line": {
             "colorbar": {
              "outlinewidth": 0,
              "ticks": ""
             }
            },
            "marker": {
             "colorbar": {
              "outlinewidth": 0,
              "ticks": ""
             }
            },
            "type": "scatter3d"
           }
          ],
          "scattercarpet": [
           {
            "marker": {
             "colorbar": {
              "outlinewidth": 0,
              "ticks": ""
             }
            },
            "type": "scattercarpet"
           }
          ],
          "scattergeo": [
           {
            "marker": {
             "colorbar": {
              "outlinewidth": 0,
              "ticks": ""
             }
            },
            "type": "scattergeo"
           }
          ],
          "scattergl": [
           {
            "marker": {
             "colorbar": {
              "outlinewidth": 0,
              "ticks": ""
             }
            },
            "type": "scattergl"
           }
          ],
          "scattermap": [
           {
            "marker": {
             "colorbar": {
              "outlinewidth": 0,
              "ticks": ""
             }
            },
            "type": "scattermap"
           }
          ],
          "scattermapbox": [
           {
            "marker": {
             "colorbar": {
              "outlinewidth": 0,
              "ticks": ""
             }
            },
            "type": "scattermapbox"
           }
          ],
          "scatterpolar": [
           {
            "marker": {
             "colorbar": {
              "outlinewidth": 0,
              "ticks": ""
             }
            },
            "type": "scatterpolar"
           }
          ],
          "scatterpolargl": [
           {
            "marker": {
             "colorbar": {
              "outlinewidth": 0,
              "ticks": ""
             }
            },
            "type": "scatterpolargl"
           }
          ],
          "scatterternary": [
           {
            "marker": {
             "colorbar": {
              "outlinewidth": 0,
              "ticks": ""
             }
            },
            "type": "scatterternary"
           }
          ],
          "surface": [
           {
            "colorbar": {
             "outlinewidth": 0,
             "ticks": ""
            },
            "colorscale": [
             [
              0,
              "#0d0887"
             ],
             [
              0.1111111111111111,
              "#46039f"
             ],
             [
              0.2222222222222222,
              "#7201a8"
             ],
             [
              0.3333333333333333,
              "#9c179e"
             ],
             [
              0.4444444444444444,
              "#bd3786"
             ],
             [
              0.5555555555555556,
              "#d8576b"
             ],
             [
              0.6666666666666666,
              "#ed7953"
             ],
             [
              0.7777777777777778,
              "#fb9f3a"
             ],
             [
              0.8888888888888888,
              "#fdca26"
             ],
             [
              1,
              "#f0f921"
             ]
            ],
            "type": "surface"
           }
          ],
          "table": [
           {
            "cells": {
             "fill": {
              "color": "#EBF0F8"
             },
             "line": {
              "color": "white"
             }
            },
            "header": {
             "fill": {
              "color": "#C8D4E3"
             },
             "line": {
              "color": "white"
             }
            },
            "type": "table"
           }
          ]
         },
         "layout": {
          "annotationdefaults": {
           "arrowcolor": "#2a3f5f",
           "arrowhead": 0,
           "arrowwidth": 1
          },
          "autotypenumbers": "strict",
          "coloraxis": {
           "colorbar": {
            "outlinewidth": 0,
            "ticks": ""
           }
          },
          "colorscale": {
           "diverging": [
            [
             0,
             "#8e0152"
            ],
            [
             0.1,
             "#c51b7d"
            ],
            [
             0.2,
             "#de77ae"
            ],
            [
             0.3,
             "#f1b6da"
            ],
            [
             0.4,
             "#fde0ef"
            ],
            [
             0.5,
             "#f7f7f7"
            ],
            [
             0.6,
             "#e6f5d0"
            ],
            [
             0.7,
             "#b8e186"
            ],
            [
             0.8,
             "#7fbc41"
            ],
            [
             0.9,
             "#4d9221"
            ],
            [
             1,
             "#276419"
            ]
           ],
           "sequential": [
            [
             0,
             "#0d0887"
            ],
            [
             0.1111111111111111,
             "#46039f"
            ],
            [
             0.2222222222222222,
             "#7201a8"
            ],
            [
             0.3333333333333333,
             "#9c179e"
            ],
            [
             0.4444444444444444,
             "#bd3786"
            ],
            [
             0.5555555555555556,
             "#d8576b"
            ],
            [
             0.6666666666666666,
             "#ed7953"
            ],
            [
             0.7777777777777778,
             "#fb9f3a"
            ],
            [
             0.8888888888888888,
             "#fdca26"
            ],
            [
             1,
             "#f0f921"
            ]
           ],
           "sequentialminus": [
            [
             0,
             "#0d0887"
            ],
            [
             0.1111111111111111,
             "#46039f"
            ],
            [
             0.2222222222222222,
             "#7201a8"
            ],
            [
             0.3333333333333333,
             "#9c179e"
            ],
            [
             0.4444444444444444,
             "#bd3786"
            ],
            [
             0.5555555555555556,
             "#d8576b"
            ],
            [
             0.6666666666666666,
             "#ed7953"
            ],
            [
             0.7777777777777778,
             "#fb9f3a"
            ],
            [
             0.8888888888888888,
             "#fdca26"
            ],
            [
             1,
             "#f0f921"
            ]
           ]
          },
          "colorway": [
           "#636efa",
           "#EF553B",
           "#00cc96",
           "#ab63fa",
           "#FFA15A",
           "#19d3f3",
           "#FF6692",
           "#B6E880",
           "#FF97FF",
           "#FECB52"
          ],
          "font": {
           "color": "#2a3f5f"
          },
          "geo": {
           "bgcolor": "white",
           "lakecolor": "white",
           "landcolor": "#E5ECF6",
           "showlakes": true,
           "showland": true,
           "subunitcolor": "white"
          },
          "hoverlabel": {
           "align": "left"
          },
          "hovermode": "closest",
          "mapbox": {
           "style": "light"
          },
          "paper_bgcolor": "white",
          "plot_bgcolor": "#E5ECF6",
          "polar": {
           "angularaxis": {
            "gridcolor": "white",
            "linecolor": "white",
            "ticks": ""
           },
           "bgcolor": "#E5ECF6",
           "radialaxis": {
            "gridcolor": "white",
            "linecolor": "white",
            "ticks": ""
           }
          },
          "scene": {
           "xaxis": {
            "backgroundcolor": "#E5ECF6",
            "gridcolor": "white",
            "gridwidth": 2,
            "linecolor": "white",
            "showbackground": true,
            "ticks": "",
            "zerolinecolor": "white"
           },
           "yaxis": {
            "backgroundcolor": "#E5ECF6",
            "gridcolor": "white",
            "gridwidth": 2,
            "linecolor": "white",
            "showbackground": true,
            "ticks": "",
            "zerolinecolor": "white"
           },
           "zaxis": {
            "backgroundcolor": "#E5ECF6",
            "gridcolor": "white",
            "gridwidth": 2,
            "linecolor": "white",
            "showbackground": true,
            "ticks": "",
            "zerolinecolor": "white"
           }
          },
          "shapedefaults": {
           "line": {
            "color": "#2a3f5f"
           }
          },
          "ternary": {
           "aaxis": {
            "gridcolor": "white",
            "linecolor": "white",
            "ticks": ""
           },
           "baxis": {
            "gridcolor": "white",
            "linecolor": "white",
            "ticks": ""
           },
           "bgcolor": "#E5ECF6",
           "caxis": {
            "gridcolor": "white",
            "linecolor": "white",
            "ticks": ""
           }
          },
          "title": {
           "x": 0.05
          },
          "xaxis": {
           "automargin": true,
           "gridcolor": "white",
           "linecolor": "white",
           "ticks": "",
           "title": {
            "standoff": 15
           },
           "zerolinecolor": "white",
           "zerolinewidth": 2
          },
          "yaxis": {
           "automargin": true,
           "gridcolor": "white",
           "linecolor": "white",
           "ticks": "",
           "title": {
            "standoff": 15
           },
           "zerolinecolor": "white",
           "zerolinewidth": 2
          }
         }
        },
        "title": {
         "text": "How long is the total paid parental leave for academics of<br>your same legal gender?"
        },
        "width": 1000,
        "xaxis": {
         "anchor": "y",
         "categoryarray": [
          0,
          52
         ],
         "categoryorder": "array",
         "domain": [
          0,
          1
         ],
         "title": {
          "text": "Months"
         }
        },
        "yaxis": {
         "anchor": "x",
         "domain": [
          0,
          1
         ],
         "title": {
          "text": "Percentage (%)"
         }
        }
       }
      }
     },
     "metadata": {},
     "output_type": "display_data"
    }
   ],
   "source": [
    "gender_questions = {\"DE14\", \"DE15\", \"DE16\", \"DE23\"}\n",
    "matrix_question_ids = [\"DE14\", \"DE15\", \"DE16\", \"DE23\", \"PL1\", \"PL2\"]#, \"PL4\", \"PL6\", \"PL7\", \"PL9\", \"CS1\", \"CS3\", \"CC1\", \"CC2\", \"GB4\", \"GB5\", ] #DE23?\n",
    "gender_lookup = {}\n",
    "\n",
    "\n",
    "for qid in matrix_question_ids:\n",
    "    anchor_type = \"parent_gender\" if qid in gender_questions else \"none\"\n",
    "    q = MatrixQuestion(qid, df, meta, gender_lookup=gender_lookup, anchor_type=anchor_type)\n",
    "    fig = q.distribution(display=False)\n",
    "    if fig is not None:\n",
    "        fig.show()\n"
   ]
  },
  {
   "cell_type": "code",
   "execution_count": 15,
   "metadata": {},
   "outputs": [
    {
     "name": "stdout",
     "output_type": "stream",
     "text": [
      "Group: Faculty (tenure-track), Count sum: 909\n",
      "Group: Faculty (untenured), Count sum: 187\n",
      "Group: PhD students, Count sum: 3077\n",
      "Group: Postdocs, Count sum: 5434\n"
     ]
    },
    {
     "name": "stderr",
     "output_type": "stream",
     "text": [
      "/Users/Paula_1/CodingProjects/parenthood/parenthood_europe/libs/questions/matrix.py:314: FutureWarning:\n",
      "\n",
      "The default of observed=False is deprecated and will be changed to True in a future version of pandas. Pass observed=False to retain current behavior or observed=True to adopt the future default and silence this warning.\n",
      "\n",
      "/Users/Paula_1/CodingProjects/parenthood/parenthood_europe/libs/questions/matrix.py:322: FutureWarning:\n",
      "\n",
      "The default of observed=False is deprecated and will be changed to True in a future version of pandas. Pass observed=False to retain current behavior or observed=True to adopt the future default and silence this warning.\n",
      "\n"
     ]
    },
    {
     "data": {
      "application/vnd.plotly.v1+json": {
       "config": {
        "plotlyServerURL": "https://plot.ly"
       },
       "data": [
        {
         "alignmentgroup": "True",
         "customdata": {
          "bdata": "XgDeAUwBPgEKBKUA+wCVAQ==",
          "dtype": "i2",
          "shape": "8, 1"
         },
         "hovertemplate": "Group=PhD students<br>Bin_Label=%{x}<br>Percentage=%{y}<br>text=%{text}<br>Count=%{customdata[0]}<extra></extra>",
         "legendgroup": "PhD students",
         "marker": {
          "color": "#D7D9B1",
          "line": {
           "width": 1
          },
          "pattern": {
           "shape": ""
          }
         },
         "name": "PhD students",
         "offsetgroup": "PhD students",
         "orientation": "v",
         "showlegend": true,
         "text": [
          "3.1%",
          "15.5%",
          "10.8%",
          "10.3%",
          "33.6%",
          "5.4%",
          "8.2%",
          "13.2%"
         ],
         "textposition": "auto",
         "type": "bar",
         "x": [
          "0–1",
          "2–3",
          "4–6",
          "7–12",
          "13–18",
          "19–24",
          "25–36",
          "37+"
         ],
         "xaxis": "x",
         "y": {
          "bdata": "fdNqzHtwCEANRr6duBEvQDDAMoZXlCVAOnRPQWOrJEBmcYkcVc1AQMSQpA4QcxVAkD80HIlQIEAfg/gRCFMqQA==",
          "dtype": "f8"
         },
         "yaxis": "y"
        },
        {
         "alignmentgroup": "True",
         "customdata": {
          "bdata": "uQCRAoYGTggOApIAaAAUAA==",
          "dtype": "i2",
          "shape": "8, 1"
         },
         "hovertemplate": "Group=Postdocs<br>Bin_Label=%{x}<br>Percentage=%{y}<br>text=%{text}<br>Count=%{customdata[0]}<extra></extra>",
         "legendgroup": "Postdocs",
         "marker": {
          "color": "#3A6992",
          "line": {
           "width": 1
          },
          "pattern": {
           "shape": ""
          }
         },
         "name": "Postdocs",
         "offsetgroup": "Postdocs",
         "orientation": "v",
         "showlegend": true,
         "text": [
          "3.4%",
          "12.1%",
          "30.7%",
          "39.1%",
          "9.7%",
          "2.7%",
          "1.9%",
          "0.4%"
         ],
         "textposition": "auto",
         "type": "bar",
         "x": [
          "0–1",
          "2–3",
          "4–6",
          "7–12",
          "13–18",
          "19–24",
          "25–36",
          "37+"
         ],
         "xaxis": "x",
         "y": {
          "bdata": "9W3lYWU8C0C3iBllWy4oQP5CTTyAuz5AigdwV+CPQ0BN5N3xDVwjQKNA+iCKfgVAC0fmBDyf/j9XSicrLo7XPw==",
          "dtype": "f8"
         },
         "yaxis": "y"
        },
        {
         "alignmentgroup": "True",
         "customdata": {
          "bdata": "SihBBAQAAAA=",
          "dtype": "i1",
          "shape": "8, 1"
         },
         "hovertemplate": "Group=Faculty (untenured)<br>Bin_Label=%{x}<br>Percentage=%{y}<br>text=%{text}<br>Count=%{customdata[0]}<extra></extra>",
         "legendgroup": "Faculty (untenured)",
         "marker": {
          "color": "#BB4430",
          "line": {
           "width": 1
          },
          "pattern": {
           "shape": ""
          }
         },
         "name": "Faculty (untenured)",
         "offsetgroup": "Faculty (untenured)",
         "orientation": "v",
         "showlegend": true,
         "text": [
          "39.6%",
          "21.4%",
          "34.8%",
          "2.1%",
          "2.1%",
          "0.0%",
          "0.0%",
          "0.0%"
         ],
         "textposition": "auto",
         "type": "bar",
         "x": [
          "0–1",
          "2–3",
          "4–6",
          "7–12",
          "13–18",
          "19–24",
          "25–36",
          "37+"
         ],
         "xaxis": "x",
         "y": {
          "bdata": "yfexmj3JQ0BkNXuS72M1QGEbBKcyYUFAHZFiqL8cAUAdkWKovxwBQAAAAAAAAAAAAAAAAAAAAAAAAAAAAAAAAA==",
          "dtype": "f8"
         },
         "yaxis": "y"
        },
        {
         "alignmentgroup": "True",
         "customdata": {
          "bdata": "lwAqAsEACwAAAAAAAAAAAA==",
          "dtype": "i2",
          "shape": "8, 1"
         },
         "hovertemplate": "Group=Faculty (tenure-track)<br>Bin_Label=%{x}<br>Percentage=%{y}<br>text=%{text}<br>Count=%{customdata[0]}<extra></extra>",
         "legendgroup": "Faculty (tenure-track)",
         "marker": {
          "color": "#795663",
          "line": {
           "width": 1
          },
          "pattern": {
           "shape": ""
          }
         },
         "name": "Faculty (tenure-track)",
         "offsetgroup": "Faculty (tenure-track)",
         "orientation": "v",
         "showlegend": true,
         "text": [
          "16.6%",
          "60.9%",
          "21.2%",
          "1.2%",
          "0.0%",
          "0.0%",
          "0.0%",
          "0.0%"
         ],
         "textposition": "auto",
         "type": "bar",
         "x": [
          "0–1",
          "2–3",
          "4–6",
          "7–12",
          "13–18",
          "19–24",
          "25–36",
          "37+"
         ],
         "xaxis": "x",
         "y": {
          "bdata": "PrSA05WcMEBAR8+gGXlOQOmPRW1sOzVAedWy2adc8z8AAAAAAAAAAAAAAAAAAAAAAAAAAAAAAAAAAAAAAAAAAA==",
          "dtype": "f8"
         },
         "yaxis": "y"
        }
       ],
       "layout": {
        "barmode": "group",
        "height": 400,
        "legend": {
         "title": {
          "text": "Group"
         },
         "tracegroupgap": 0
        },
        "margin": {
         "r": 200
        },
        "template": {
         "data": {
          "bar": [
           {
            "error_x": {
             "color": "#2a3f5f"
            },
            "error_y": {
             "color": "#2a3f5f"
            },
            "marker": {
             "line": {
              "color": "#E5ECF6",
              "width": 0.5
             },
             "pattern": {
              "fillmode": "overlay",
              "size": 10,
              "solidity": 0.2
             }
            },
            "type": "bar"
           }
          ],
          "barpolar": [
           {
            "marker": {
             "line": {
              "color": "#E5ECF6",
              "width": 0.5
             },
             "pattern": {
              "fillmode": "overlay",
              "size": 10,
              "solidity": 0.2
             }
            },
            "type": "barpolar"
           }
          ],
          "carpet": [
           {
            "aaxis": {
             "endlinecolor": "#2a3f5f",
             "gridcolor": "white",
             "linecolor": "white",
             "minorgridcolor": "white",
             "startlinecolor": "#2a3f5f"
            },
            "baxis": {
             "endlinecolor": "#2a3f5f",
             "gridcolor": "white",
             "linecolor": "white",
             "minorgridcolor": "white",
             "startlinecolor": "#2a3f5f"
            },
            "type": "carpet"
           }
          ],
          "choropleth": [
           {
            "colorbar": {
             "outlinewidth": 0,
             "ticks": ""
            },
            "type": "choropleth"
           }
          ],
          "contour": [
           {
            "colorbar": {
             "outlinewidth": 0,
             "ticks": ""
            },
            "colorscale": [
             [
              0,
              "#0d0887"
             ],
             [
              0.1111111111111111,
              "#46039f"
             ],
             [
              0.2222222222222222,
              "#7201a8"
             ],
             [
              0.3333333333333333,
              "#9c179e"
             ],
             [
              0.4444444444444444,
              "#bd3786"
             ],
             [
              0.5555555555555556,
              "#d8576b"
             ],
             [
              0.6666666666666666,
              "#ed7953"
             ],
             [
              0.7777777777777778,
              "#fb9f3a"
             ],
             [
              0.8888888888888888,
              "#fdca26"
             ],
             [
              1,
              "#f0f921"
             ]
            ],
            "type": "contour"
           }
          ],
          "contourcarpet": [
           {
            "colorbar": {
             "outlinewidth": 0,
             "ticks": ""
            },
            "type": "contourcarpet"
           }
          ],
          "heatmap": [
           {
            "colorbar": {
             "outlinewidth": 0,
             "ticks": ""
            },
            "colorscale": [
             [
              0,
              "#0d0887"
             ],
             [
              0.1111111111111111,
              "#46039f"
             ],
             [
              0.2222222222222222,
              "#7201a8"
             ],
             [
              0.3333333333333333,
              "#9c179e"
             ],
             [
              0.4444444444444444,
              "#bd3786"
             ],
             [
              0.5555555555555556,
              "#d8576b"
             ],
             [
              0.6666666666666666,
              "#ed7953"
             ],
             [
              0.7777777777777778,
              "#fb9f3a"
             ],
             [
              0.8888888888888888,
              "#fdca26"
             ],
             [
              1,
              "#f0f921"
             ]
            ],
            "type": "heatmap"
           }
          ],
          "histogram": [
           {
            "marker": {
             "pattern": {
              "fillmode": "overlay",
              "size": 10,
              "solidity": 0.2
             }
            },
            "type": "histogram"
           }
          ],
          "histogram2d": [
           {
            "colorbar": {
             "outlinewidth": 0,
             "ticks": ""
            },
            "colorscale": [
             [
              0,
              "#0d0887"
             ],
             [
              0.1111111111111111,
              "#46039f"
             ],
             [
              0.2222222222222222,
              "#7201a8"
             ],
             [
              0.3333333333333333,
              "#9c179e"
             ],
             [
              0.4444444444444444,
              "#bd3786"
             ],
             [
              0.5555555555555556,
              "#d8576b"
             ],
             [
              0.6666666666666666,
              "#ed7953"
             ],
             [
              0.7777777777777778,
              "#fb9f3a"
             ],
             [
              0.8888888888888888,
              "#fdca26"
             ],
             [
              1,
              "#f0f921"
             ]
            ],
            "type": "histogram2d"
           }
          ],
          "histogram2dcontour": [
           {
            "colorbar": {
             "outlinewidth": 0,
             "ticks": ""
            },
            "colorscale": [
             [
              0,
              "#0d0887"
             ],
             [
              0.1111111111111111,
              "#46039f"
             ],
             [
              0.2222222222222222,
              "#7201a8"
             ],
             [
              0.3333333333333333,
              "#9c179e"
             ],
             [
              0.4444444444444444,
              "#bd3786"
             ],
             [
              0.5555555555555556,
              "#d8576b"
             ],
             [
              0.6666666666666666,
              "#ed7953"
             ],
             [
              0.7777777777777778,
              "#fb9f3a"
             ],
             [
              0.8888888888888888,
              "#fdca26"
             ],
             [
              1,
              "#f0f921"
             ]
            ],
            "type": "histogram2dcontour"
           }
          ],
          "mesh3d": [
           {
            "colorbar": {
             "outlinewidth": 0,
             "ticks": ""
            },
            "type": "mesh3d"
           }
          ],
          "parcoords": [
           {
            "line": {
             "colorbar": {
              "outlinewidth": 0,
              "ticks": ""
             }
            },
            "type": "parcoords"
           }
          ],
          "pie": [
           {
            "automargin": true,
            "type": "pie"
           }
          ],
          "scatter": [
           {
            "fillpattern": {
             "fillmode": "overlay",
             "size": 10,
             "solidity": 0.2
            },
            "type": "scatter"
           }
          ],
          "scatter3d": [
           {
            "line": {
             "colorbar": {
              "outlinewidth": 0,
              "ticks": ""
             }
            },
            "marker": {
             "colorbar": {
              "outlinewidth": 0,
              "ticks": ""
             }
            },
            "type": "scatter3d"
           }
          ],
          "scattercarpet": [
           {
            "marker": {
             "colorbar": {
              "outlinewidth": 0,
              "ticks": ""
             }
            },
            "type": "scattercarpet"
           }
          ],
          "scattergeo": [
           {
            "marker": {
             "colorbar": {
              "outlinewidth": 0,
              "ticks": ""
             }
            },
            "type": "scattergeo"
           }
          ],
          "scattergl": [
           {
            "marker": {
             "colorbar": {
              "outlinewidth": 0,
              "ticks": ""
             }
            },
            "type": "scattergl"
           }
          ],
          "scattermap": [
           {
            "marker": {
             "colorbar": {
              "outlinewidth": 0,
              "ticks": ""
             }
            },
            "type": "scattermap"
           }
          ],
          "scattermapbox": [
           {
            "marker": {
             "colorbar": {
              "outlinewidth": 0,
              "ticks": ""
             }
            },
            "type": "scattermapbox"
           }
          ],
          "scatterpolar": [
           {
            "marker": {
             "colorbar": {
              "outlinewidth": 0,
              "ticks": ""
             }
            },
            "type": "scatterpolar"
           }
          ],
          "scatterpolargl": [
           {
            "marker": {
             "colorbar": {
              "outlinewidth": 0,
              "ticks": ""
             }
            },
            "type": "scatterpolargl"
           }
          ],
          "scatterternary": [
           {
            "marker": {
             "colorbar": {
              "outlinewidth": 0,
              "ticks": ""
             }
            },
            "type": "scatterternary"
           }
          ],
          "surface": [
           {
            "colorbar": {
             "outlinewidth": 0,
             "ticks": ""
            },
            "colorscale": [
             [
              0,
              "#0d0887"
             ],
             [
              0.1111111111111111,
              "#46039f"
             ],
             [
              0.2222222222222222,
              "#7201a8"
             ],
             [
              0.3333333333333333,
              "#9c179e"
             ],
             [
              0.4444444444444444,
              "#bd3786"
             ],
             [
              0.5555555555555556,
              "#d8576b"
             ],
             [
              0.6666666666666666,
              "#ed7953"
             ],
             [
              0.7777777777777778,
              "#fb9f3a"
             ],
             [
              0.8888888888888888,
              "#fdca26"
             ],
             [
              1,
              "#f0f921"
             ]
            ],
            "type": "surface"
           }
          ],
          "table": [
           {
            "cells": {
             "fill": {
              "color": "#EBF0F8"
             },
             "line": {
              "color": "white"
             }
            },
            "header": {
             "fill": {
              "color": "#C8D4E3"
             },
             "line": {
              "color": "white"
             }
            },
            "type": "table"
           }
          ]
         },
         "layout": {
          "annotationdefaults": {
           "arrowcolor": "#2a3f5f",
           "arrowhead": 0,
           "arrowwidth": 1
          },
          "autotypenumbers": "strict",
          "coloraxis": {
           "colorbar": {
            "outlinewidth": 0,
            "ticks": ""
           }
          },
          "colorscale": {
           "diverging": [
            [
             0,
             "#8e0152"
            ],
            [
             0.1,
             "#c51b7d"
            ],
            [
             0.2,
             "#de77ae"
            ],
            [
             0.3,
             "#f1b6da"
            ],
            [
             0.4,
             "#fde0ef"
            ],
            [
             0.5,
             "#f7f7f7"
            ],
            [
             0.6,
             "#e6f5d0"
            ],
            [
             0.7,
             "#b8e186"
            ],
            [
             0.8,
             "#7fbc41"
            ],
            [
             0.9,
             "#4d9221"
            ],
            [
             1,
             "#276419"
            ]
           ],
           "sequential": [
            [
             0,
             "#0d0887"
            ],
            [
             0.1111111111111111,
             "#46039f"
            ],
            [
             0.2222222222222222,
             "#7201a8"
            ],
            [
             0.3333333333333333,
             "#9c179e"
            ],
            [
             0.4444444444444444,
             "#bd3786"
            ],
            [
             0.5555555555555556,
             "#d8576b"
            ],
            [
             0.6666666666666666,
             "#ed7953"
            ],
            [
             0.7777777777777778,
             "#fb9f3a"
            ],
            [
             0.8888888888888888,
             "#fdca26"
            ],
            [
             1,
             "#f0f921"
            ]
           ],
           "sequentialminus": [
            [
             0,
             "#0d0887"
            ],
            [
             0.1111111111111111,
             "#46039f"
            ],
            [
             0.2222222222222222,
             "#7201a8"
            ],
            [
             0.3333333333333333,
             "#9c179e"
            ],
            [
             0.4444444444444444,
             "#bd3786"
            ],
            [
             0.5555555555555556,
             "#d8576b"
            ],
            [
             0.6666666666666666,
             "#ed7953"
            ],
            [
             0.7777777777777778,
             "#fb9f3a"
            ],
            [
             0.8888888888888888,
             "#fdca26"
            ],
            [
             1,
             "#f0f921"
            ]
           ]
          },
          "colorway": [
           "#636efa",
           "#EF553B",
           "#00cc96",
           "#ab63fa",
           "#FFA15A",
           "#19d3f3",
           "#FF6692",
           "#B6E880",
           "#FF97FF",
           "#FECB52"
          ],
          "font": {
           "color": "#2a3f5f"
          },
          "geo": {
           "bgcolor": "white",
           "lakecolor": "white",
           "landcolor": "#E5ECF6",
           "showlakes": true,
           "showland": true,
           "subunitcolor": "white"
          },
          "hoverlabel": {
           "align": "left"
          },
          "hovermode": "closest",
          "mapbox": {
           "style": "light"
          },
          "paper_bgcolor": "white",
          "plot_bgcolor": "#E5ECF6",
          "polar": {
           "angularaxis": {
            "gridcolor": "white",
            "linecolor": "white",
            "ticks": ""
           },
           "bgcolor": "#E5ECF6",
           "radialaxis": {
            "gridcolor": "white",
            "linecolor": "white",
            "ticks": ""
           }
          },
          "scene": {
           "xaxis": {
            "backgroundcolor": "#E5ECF6",
            "gridcolor": "white",
            "gridwidth": 2,
            "linecolor": "white",
            "showbackground": true,
            "ticks": "",
            "zerolinecolor": "white"
           },
           "yaxis": {
            "backgroundcolor": "#E5ECF6",
            "gridcolor": "white",
            "gridwidth": 2,
            "linecolor": "white",
            "showbackground": true,
            "ticks": "",
            "zerolinecolor": "white"
           },
           "zaxis": {
            "backgroundcolor": "#E5ECF6",
            "gridcolor": "white",
            "gridwidth": 2,
            "linecolor": "white",
            "showbackground": true,
            "ticks": "",
            "zerolinecolor": "white"
           }
          },
          "shapedefaults": {
           "line": {
            "color": "#2a3f5f"
           }
          },
          "ternary": {
           "aaxis": {
            "gridcolor": "white",
            "linecolor": "white",
            "ticks": ""
           },
           "baxis": {
            "gridcolor": "white",
            "linecolor": "white",
            "ticks": ""
           },
           "bgcolor": "#E5ECF6",
           "caxis": {
            "gridcolor": "white",
            "linecolor": "white",
            "ticks": ""
           }
          },
          "title": {
           "x": 0.05
          },
          "xaxis": {
           "automargin": true,
           "gridcolor": "white",
           "linecolor": "white",
           "ticks": "",
           "title": {
            "standoff": 15
           },
           "zerolinecolor": "white",
           "zerolinewidth": 2
          },
          "yaxis": {
           "automargin": true,
           "gridcolor": "white",
           "linecolor": "white",
           "ticks": "",
           "title": {
            "standoff": 15
           },
           "zerolinecolor": "white",
           "zerolinewidth": 2
          }
         }
        },
        "title": {
         "text": "How long is the total paid parental leave for academics of<br>your same legal gender?"
        },
        "width": 1000,
        "xaxis": {
         "anchor": "y",
         "categoryarray": [
          0,
          52
         ],
         "categoryorder": "array",
         "domain": [
          0,
          1
         ],
         "title": {
          "text": "Months"
         }
        },
        "yaxis": {
         "anchor": "x",
         "domain": [
          0,
          1
         ],
         "title": {
          "text": "Percentage (%)"
         }
        }
       }
      }
     },
     "metadata": {},
     "output_type": "display_data"
    }
   ],
   "source": [
    "matrix_question_ids_tmp = [\"PL2\"]  # Compare DE23 with PL2.  Basically, the groups should be the regions\n",
    "gender_lookup_tmp = {}\n",
    "\n",
    "\n",
    "for qid in matrix_question_ids_tmp:\n",
    "    q = MatrixQuestion(qid, df, meta, gender_lookup=gender_lookup_tmp, anchor_type=\"none\")\n",
    "    fig = q.distribution(display=False)\n",
    "    if fig is not None:\n",
    "        fig.show()"
   ]
  },
  {
   "cell_type": "markdown",
   "metadata": {},
   "source": [
    "# DE23"
   ]
  },
  {
   "cell_type": "code",
   "execution_count": 16,
   "metadata": {},
   "outputs": [
    {
     "data": {
      "application/vnd.plotly.v1+json": {
       "config": {
        "plotlyServerURL": "https://plot.ly"
       },
       "data": [
        {
         "alignmentgroup": "True",
         "customdata": {
          "bdata": "AwUHFRcE",
          "dtype": "i1",
          "shape": "6, 1"
         },
         "hovertemplate": "Group=Africa<br>Value=%{x}<br>Percentage=%{y}<br>text=%{text}<br>Count=%{customdata[0]}<extra></extra>",
         "legendgroup": "Africa",
         "marker": {
          "color": "#B89685",
          "line": {
           "width": 1
          },
          "pattern": {
           "shape": ""
          }
         },
         "name": "Africa",
         "offsetgroup": "Africa",
         "orientation": "v",
         "showlegend": true,
         "text": [
          "2.6%",
          "1.2%",
          "0.8%",
          "1.2%",
          "0.8%",
          "0.4%"
         ],
         "textposition": "auto",
         "type": "bar",
         "x": [
          "1970–1979",
          "1980–1989",
          "1990–1999",
          "2000–2009",
          "2010–2019",
          "2020–2029"
         ],
         "xaxis": "x",
         "y": {
          "bdata": "NUiDNEiDBEC8DEYBh+bzP731kQC/8eg/1iIMq1K98j/WVzNHXrfpP9EWLov/0NY/",
          "dtype": "f8"
         },
         "yaxis": "y"
        },
        {
         "alignmentgroup": "True",
         "customdata": {
          "bdata": "AQMcJEZYDQ==",
          "dtype": "i1",
          "shape": "7, 1"
         },
         "hovertemplate": "Group=America<br>Value=%{x}<br>Percentage=%{y}<br>text=%{text}<br>Count=%{customdata[0]}<extra></extra>",
         "legendgroup": "America",
         "marker": {
          "color": "#808F85",
          "line": {
           "width": 1
          },
          "pattern": {
           "shape": ""
          }
         },
         "name": "America",
         "offsetgroup": "America",
         "orientation": "v",
         "showlegend": true,
         "text": [
          "4.2%",
          "2.6%",
          "7.0%",
          "4.0%",
          "3.9%",
          "3.1%",
          "1.2%"
         ],
         "textposition": "auto",
         "type": "bar",
         "x": [
          "1960–1969",
          "1970–1979",
          "1980–1989",
          "1990–1999",
          "2000–2009",
          "2010–2019",
          "2020–2029"
         ],
         "xaxis": "x",
         "y": {
          "bdata": "q6qqqqqqEEA1SIM0SIMEQNURYptW3BtAsIvLWx8JEEC75L7HiTsPQKEy44YimQhAinIVoc+J8j8=",
          "dtype": "f8"
         },
         "yaxis": "y"
        },
        {
         "alignmentgroup": "True",
         "customdata": {
          "bdata": "AQMQKjoa",
          "dtype": "i1",
          "shape": "6, 1"
         },
         "hovertemplate": "Group=Asia<br>Value=%{x}<br>Percentage=%{y}<br>text=%{text}<br>Count=%{customdata[0]}<extra></extra>",
         "legendgroup": "Asia",
         "marker": {
          "color": "#D7D9B1",
          "line": {
           "width": 1
          },
          "pattern": {
           "shape": ""
          }
         },
         "name": "Asia",
         "offsetgroup": "Asia",
         "orientation": "v",
         "showlegend": true,
         "text": [
          "0.9%",
          "0.7%",
          "1.8%",
          "2.3%",
          "2.0%",
          "2.3%"
         ],
         "textposition": "auto",
         "type": "bar",
         "x": [
          "1970–1979",
          "1980–1989",
          "1990–1999",
          "2000–2009",
          "2010–2019",
          "2020–2029"
         ],
         "xaxis": "x",
         "y": {
          "bdata": "m7VZm7VZ6z9JD1TObuHnP4+GFNz+gfw/1iIMq1K9AkCNG4pkYjYAQIpyFaHPiQJA",
          "dtype": "f8"
         },
         "yaxis": "y"
        },
        {
         "alignmentgroup": "True",
         "customdata": {
          "bdata": "FwBtAG4BRQNyBncKNQQ=",
          "dtype": "i2",
          "shape": "7, 1"
         },
         "hovertemplate": "Group=Europe<br>Value=%{x}<br>Percentage=%{y}<br>text=%{text}<br>Count=%{customdata[0]}<extra></extra>",
         "legendgroup": "Europe",
         "marker": {
          "color": "#3A6992",
          "line": {
           "width": 1
          },
          "pattern": {
           "shape": ""
          }
         },
         "name": "Europe",
         "offsetgroup": "Europe",
         "orientation": "v",
         "showlegend": true,
         "text": [
          "95.8%",
          "93.2%",
          "91.0%",
          "93.2%",
          "92.0%",
          "93.6%",
          "96.0%"
         ],
         "textposition": "auto",
         "type": "bar",
         "x": [
          "1960–1969",
          "1970–1979",
          "1980–1989",
          "1990–1999",
          "2000–2009",
          "2010–2019",
          "2020–2029"
         ],
         "xaxis": "x",
         "y": {
          "bdata": "VVVVVVX1V0CmZEqmZEpXQJEeqJzdwlZA/MZjkUFNV0AOnbQPkgFXQM1qDZPGZldAfzkixVD/V0A=",
          "dtype": "f8"
         },
         "yaxis": "y"
        },
        {
         "alignmentgroup": "True",
         "customdata": {
          "bdata": "AQIKDgI=",
          "dtype": "i1",
          "shape": "5, 1"
         },
         "hovertemplate": "Group=Oceania<br>Value=%{x}<br>Percentage=%{y}<br>text=%{text}<br>Count=%{customdata[0]}<extra></extra>",
         "legendgroup": "Oceania",
         "marker": {
          "color": "#BB4430",
          "line": {
           "width": 1
          },
          "pattern": {
           "shape": ""
          }
         },
         "name": "Oceania",
         "offsetgroup": "Oceania",
         "orientation": "v",
         "showlegend": true,
         "text": [
          "0.9%",
          "0.2%",
          "0.6%",
          "0.5%",
          "0.2%"
         ],
         "textposition": "auto",
         "type": "bar",
         "x": [
          "1970–1979",
          "1990–1999",
          "2000–2009",
          "2010–2019",
          "2020–2029"
         ],
         "xaxis": "x",
         "y": {
          "bdata": "m7VZm7VZ6z+PhhTc/oHMP/0UbQTh2OE/5BHECIlO3z/RFi6L/9DGPw==",
          "dtype": "f8"
         },
         "yaxis": "y"
        }
       ],
       "layout": {
        "barmode": "group",
        "height": 400,
        "legend": {
         "title": {
          "text": "Group"
         },
         "tracegroupgap": 0
        },
        "margin": {
         "r": 200
        },
        "template": {
         "data": {
          "bar": [
           {
            "error_x": {
             "color": "#2a3f5f"
            },
            "error_y": {
             "color": "#2a3f5f"
            },
            "marker": {
             "line": {
              "color": "#E5ECF6",
              "width": 0.5
             },
             "pattern": {
              "fillmode": "overlay",
              "size": 10,
              "solidity": 0.2
             }
            },
            "type": "bar"
           }
          ],
          "barpolar": [
           {
            "marker": {
             "line": {
              "color": "#E5ECF6",
              "width": 0.5
             },
             "pattern": {
              "fillmode": "overlay",
              "size": 10,
              "solidity": 0.2
             }
            },
            "type": "barpolar"
           }
          ],
          "carpet": [
           {
            "aaxis": {
             "endlinecolor": "#2a3f5f",
             "gridcolor": "white",
             "linecolor": "white",
             "minorgridcolor": "white",
             "startlinecolor": "#2a3f5f"
            },
            "baxis": {
             "endlinecolor": "#2a3f5f",
             "gridcolor": "white",
             "linecolor": "white",
             "minorgridcolor": "white",
             "startlinecolor": "#2a3f5f"
            },
            "type": "carpet"
           }
          ],
          "choropleth": [
           {
            "colorbar": {
             "outlinewidth": 0,
             "ticks": ""
            },
            "type": "choropleth"
           }
          ],
          "contour": [
           {
            "colorbar": {
             "outlinewidth": 0,
             "ticks": ""
            },
            "colorscale": [
             [
              0,
              "#0d0887"
             ],
             [
              0.1111111111111111,
              "#46039f"
             ],
             [
              0.2222222222222222,
              "#7201a8"
             ],
             [
              0.3333333333333333,
              "#9c179e"
             ],
             [
              0.4444444444444444,
              "#bd3786"
             ],
             [
              0.5555555555555556,
              "#d8576b"
             ],
             [
              0.6666666666666666,
              "#ed7953"
             ],
             [
              0.7777777777777778,
              "#fb9f3a"
             ],
             [
              0.8888888888888888,
              "#fdca26"
             ],
             [
              1,
              "#f0f921"
             ]
            ],
            "type": "contour"
           }
          ],
          "contourcarpet": [
           {
            "colorbar": {
             "outlinewidth": 0,
             "ticks": ""
            },
            "type": "contourcarpet"
           }
          ],
          "heatmap": [
           {
            "colorbar": {
             "outlinewidth": 0,
             "ticks": ""
            },
            "colorscale": [
             [
              0,
              "#0d0887"
             ],
             [
              0.1111111111111111,
              "#46039f"
             ],
             [
              0.2222222222222222,
              "#7201a8"
             ],
             [
              0.3333333333333333,
              "#9c179e"
             ],
             [
              0.4444444444444444,
              "#bd3786"
             ],
             [
              0.5555555555555556,
              "#d8576b"
             ],
             [
              0.6666666666666666,
              "#ed7953"
             ],
             [
              0.7777777777777778,
              "#fb9f3a"
             ],
             [
              0.8888888888888888,
              "#fdca26"
             ],
             [
              1,
              "#f0f921"
             ]
            ],
            "type": "heatmap"
           }
          ],
          "histogram": [
           {
            "marker": {
             "pattern": {
              "fillmode": "overlay",
              "size": 10,
              "solidity": 0.2
             }
            },
            "type": "histogram"
           }
          ],
          "histogram2d": [
           {
            "colorbar": {
             "outlinewidth": 0,
             "ticks": ""
            },
            "colorscale": [
             [
              0,
              "#0d0887"
             ],
             [
              0.1111111111111111,
              "#46039f"
             ],
             [
              0.2222222222222222,
              "#7201a8"
             ],
             [
              0.3333333333333333,
              "#9c179e"
             ],
             [
              0.4444444444444444,
              "#bd3786"
             ],
             [
              0.5555555555555556,
              "#d8576b"
             ],
             [
              0.6666666666666666,
              "#ed7953"
             ],
             [
              0.7777777777777778,
              "#fb9f3a"
             ],
             [
              0.8888888888888888,
              "#fdca26"
             ],
             [
              1,
              "#f0f921"
             ]
            ],
            "type": "histogram2d"
           }
          ],
          "histogram2dcontour": [
           {
            "colorbar": {
             "outlinewidth": 0,
             "ticks": ""
            },
            "colorscale": [
             [
              0,
              "#0d0887"
             ],
             [
              0.1111111111111111,
              "#46039f"
             ],
             [
              0.2222222222222222,
              "#7201a8"
             ],
             [
              0.3333333333333333,
              "#9c179e"
             ],
             [
              0.4444444444444444,
              "#bd3786"
             ],
             [
              0.5555555555555556,
              "#d8576b"
             ],
             [
              0.6666666666666666,
              "#ed7953"
             ],
             [
              0.7777777777777778,
              "#fb9f3a"
             ],
             [
              0.8888888888888888,
              "#fdca26"
             ],
             [
              1,
              "#f0f921"
             ]
            ],
            "type": "histogram2dcontour"
           }
          ],
          "mesh3d": [
           {
            "colorbar": {
             "outlinewidth": 0,
             "ticks": ""
            },
            "type": "mesh3d"
           }
          ],
          "parcoords": [
           {
            "line": {
             "colorbar": {
              "outlinewidth": 0,
              "ticks": ""
             }
            },
            "type": "parcoords"
           }
          ],
          "pie": [
           {
            "automargin": true,
            "type": "pie"
           }
          ],
          "scatter": [
           {
            "fillpattern": {
             "fillmode": "overlay",
             "size": 10,
             "solidity": 0.2
            },
            "type": "scatter"
           }
          ],
          "scatter3d": [
           {
            "line": {
             "colorbar": {
              "outlinewidth": 0,
              "ticks": ""
             }
            },
            "marker": {
             "colorbar": {
              "outlinewidth": 0,
              "ticks": ""
             }
            },
            "type": "scatter3d"
           }
          ],
          "scattercarpet": [
           {
            "marker": {
             "colorbar": {
              "outlinewidth": 0,
              "ticks": ""
             }
            },
            "type": "scattercarpet"
           }
          ],
          "scattergeo": [
           {
            "marker": {
             "colorbar": {
              "outlinewidth": 0,
              "ticks": ""
             }
            },
            "type": "scattergeo"
           }
          ],
          "scattergl": [
           {
            "marker": {
             "colorbar": {
              "outlinewidth": 0,
              "ticks": ""
             }
            },
            "type": "scattergl"
           }
          ],
          "scattermap": [
           {
            "marker": {
             "colorbar": {
              "outlinewidth": 0,
              "ticks": ""
             }
            },
            "type": "scattermap"
           }
          ],
          "scattermapbox": [
           {
            "marker": {
             "colorbar": {
              "outlinewidth": 0,
              "ticks": ""
             }
            },
            "type": "scattermapbox"
           }
          ],
          "scatterpolar": [
           {
            "marker": {
             "colorbar": {
              "outlinewidth": 0,
              "ticks": ""
             }
            },
            "type": "scatterpolar"
           }
          ],
          "scatterpolargl": [
           {
            "marker": {
             "colorbar": {
              "outlinewidth": 0,
              "ticks": ""
             }
            },
            "type": "scatterpolargl"
           }
          ],
          "scatterternary": [
           {
            "marker": {
             "colorbar": {
              "outlinewidth": 0,
              "ticks": ""
             }
            },
            "type": "scatterternary"
           }
          ],
          "surface": [
           {
            "colorbar": {
             "outlinewidth": 0,
             "ticks": ""
            },
            "colorscale": [
             [
              0,
              "#0d0887"
             ],
             [
              0.1111111111111111,
              "#46039f"
             ],
             [
              0.2222222222222222,
              "#7201a8"
             ],
             [
              0.3333333333333333,
              "#9c179e"
             ],
             [
              0.4444444444444444,
              "#bd3786"
             ],
             [
              0.5555555555555556,
              "#d8576b"
             ],
             [
              0.6666666666666666,
              "#ed7953"
             ],
             [
              0.7777777777777778,
              "#fb9f3a"
             ],
             [
              0.8888888888888888,
              "#fdca26"
             ],
             [
              1,
              "#f0f921"
             ]
            ],
            "type": "surface"
           }
          ],
          "table": [
           {
            "cells": {
             "fill": {
              "color": "#EBF0F8"
             },
             "line": {
              "color": "white"
             }
            },
            "header": {
             "fill": {
              "color": "#C8D4E3"
             },
             "line": {
              "color": "white"
             }
            },
            "type": "table"
           }
          ]
         },
         "layout": {
          "annotationdefaults": {
           "arrowcolor": "#2a3f5f",
           "arrowhead": 0,
           "arrowwidth": 1
          },
          "autotypenumbers": "strict",
          "coloraxis": {
           "colorbar": {
            "outlinewidth": 0,
            "ticks": ""
           }
          },
          "colorscale": {
           "diverging": [
            [
             0,
             "#8e0152"
            ],
            [
             0.1,
             "#c51b7d"
            ],
            [
             0.2,
             "#de77ae"
            ],
            [
             0.3,
             "#f1b6da"
            ],
            [
             0.4,
             "#fde0ef"
            ],
            [
             0.5,
             "#f7f7f7"
            ],
            [
             0.6,
             "#e6f5d0"
            ],
            [
             0.7,
             "#b8e186"
            ],
            [
             0.8,
             "#7fbc41"
            ],
            [
             0.9,
             "#4d9221"
            ],
            [
             1,
             "#276419"
            ]
           ],
           "sequential": [
            [
             0,
             "#0d0887"
            ],
            [
             0.1111111111111111,
             "#46039f"
            ],
            [
             0.2222222222222222,
             "#7201a8"
            ],
            [
             0.3333333333333333,
             "#9c179e"
            ],
            [
             0.4444444444444444,
             "#bd3786"
            ],
            [
             0.5555555555555556,
             "#d8576b"
            ],
            [
             0.6666666666666666,
             "#ed7953"
            ],
            [
             0.7777777777777778,
             "#fb9f3a"
            ],
            [
             0.8888888888888888,
             "#fdca26"
            ],
            [
             1,
             "#f0f921"
            ]
           ],
           "sequentialminus": [
            [
             0,
             "#0d0887"
            ],
            [
             0.1111111111111111,
             "#46039f"
            ],
            [
             0.2222222222222222,
             "#7201a8"
            ],
            [
             0.3333333333333333,
             "#9c179e"
            ],
            [
             0.4444444444444444,
             "#bd3786"
            ],
            [
             0.5555555555555556,
             "#d8576b"
            ],
            [
             0.6666666666666666,
             "#ed7953"
            ],
            [
             0.7777777777777778,
             "#fb9f3a"
            ],
            [
             0.8888888888888888,
             "#fdca26"
            ],
            [
             1,
             "#f0f921"
            ]
           ]
          },
          "colorway": [
           "#636efa",
           "#EF553B",
           "#00cc96",
           "#ab63fa",
           "#FFA15A",
           "#19d3f3",
           "#FF6692",
           "#B6E880",
           "#FF97FF",
           "#FECB52"
          ],
          "font": {
           "color": "#2a3f5f"
          },
          "geo": {
           "bgcolor": "white",
           "lakecolor": "white",
           "landcolor": "#E5ECF6",
           "showlakes": true,
           "showland": true,
           "subunitcolor": "white"
          },
          "hoverlabel": {
           "align": "left"
          },
          "hovermode": "closest",
          "mapbox": {
           "style": "light"
          },
          "paper_bgcolor": "white",
          "plot_bgcolor": "#E5ECF6",
          "polar": {
           "angularaxis": {
            "gridcolor": "white",
            "linecolor": "white",
            "ticks": ""
           },
           "bgcolor": "#E5ECF6",
           "radialaxis": {
            "gridcolor": "white",
            "linecolor": "white",
            "ticks": ""
           }
          },
          "scene": {
           "xaxis": {
            "backgroundcolor": "#E5ECF6",
            "gridcolor": "white",
            "gridwidth": 2,
            "linecolor": "white",
            "showbackground": true,
            "ticks": "",
            "zerolinecolor": "white"
           },
           "yaxis": {
            "backgroundcolor": "#E5ECF6",
            "gridcolor": "white",
            "gridwidth": 2,
            "linecolor": "white",
            "showbackground": true,
            "ticks": "",
            "zerolinecolor": "white"
           },
           "zaxis": {
            "backgroundcolor": "#E5ECF6",
            "gridcolor": "white",
            "gridwidth": 2,
            "linecolor": "white",
            "showbackground": true,
            "ticks": "",
            "zerolinecolor": "white"
           }
          },
          "shapedefaults": {
           "line": {
            "color": "#2a3f5f"
           }
          },
          "ternary": {
           "aaxis": {
            "gridcolor": "white",
            "linecolor": "white",
            "ticks": ""
           },
           "baxis": {
            "gridcolor": "white",
            "linecolor": "white",
            "ticks": ""
           },
           "bgcolor": "#E5ECF6",
           "caxis": {
            "gridcolor": "white",
            "linecolor": "white",
            "ticks": ""
           }
          },
          "title": {
           "x": 0.05
          },
          "xaxis": {
           "automargin": true,
           "gridcolor": "white",
           "linecolor": "white",
           "ticks": "",
           "title": {
            "standoff": 15
           },
           "zerolinecolor": "white",
           "zerolinewidth": 2
          },
          "yaxis": {
           "automargin": true,
           "gridcolor": "white",
           "linecolor": "white",
           "ticks": "",
           "title": {
            "standoff": 15
           },
           "zerolinecolor": "white",
           "zerolinewidth": 2
          }
         }
        },
        "title": {
         "text": "When and where was/were your child/ren born?"
        },
        "width": 1000,
        "xaxis": {
         "anchor": "y",
         "categoryarray": [
          "1970–1979",
          "1980–1989",
          "1990–1999",
          "2000–2009",
          "2010–2019",
          "2020–2029",
          "1960–1969"
         ],
         "categoryorder": "array",
         "domain": [
          0,
          1
         ],
         "title": {
          "text": ""
         }
        },
        "yaxis": {
         "anchor": "x",
         "domain": [
          0,
          1
         ],
         "title": {
          "text": "Percentage (%)"
         }
        }
       }
      }
     },
     "metadata": {},
     "output_type": "display_data"
    }
   ],
   "source": [
    "#TODO: THIS WORKS.  Correct Serbia and Montenegro\n",
    "\n",
    "matrix_question_ids_tmp = [\"DE23\"]  # Compare DE23 with PL2.  Basically, the groups should be the regions\n",
    "gender_lookup_tmp = {}\n",
    "\n",
    "\n",
    "for qid in matrix_question_ids_tmp:\n",
    "    q = MatrixQuestion(qid, df, meta, gender_lookup=gender_lookup_tmp, anchor_type=\"none\")\n",
    "    fig = q.distribution(display=False)\n",
    "    if fig is not None:\n",
    "        fig.show()"
   ]
  },
  {
   "cell_type": "code",
   "execution_count": 17,
   "metadata": {},
   "outputs": [
    {
     "name": "stdout",
     "output_type": "stream",
     "text": [
      "Value at row 3, col 'DE14_1': 1\n",
      "Type of that value: <class 'int'>\n"
     ]
    }
   ],
   "source": [
    "value = df[\"DE14_1\"].iloc[3]  # 3 means the 4th row (0-based indexing)\n",
    "print(\"Value at row 3, col 'DE14_1':\", value)\n",
    "print(\"Type of that value:\", type(value))"
   ]
  },
  {
   "cell_type": "code",
   "execution_count": 30,
   "metadata": {},
   "outputs": [],
   "source": [
    "import pandas as pd \n",
    "\n",
    "class Respondent:\n",
    "    def __init__(self, respondent_id, df, meta):\n",
    "        self.id = respondent_id\n",
    "        self.row = df.loc[respondent_id]\n",
    "        self.metadata = meta\n",
    "\n",
    "    def get_parent_gender(self, parent_number):\n",
    "        col = f\"DE14_{parent_number}\"\n",
    "        try:\n",
    "            code = self.row[col]\n",
    "            if pd.isna(code):\n",
    "                return None\n",
    "            return self.metadata[\"DE14\"][\"value_map\"].get(int(code))\n",
    "        except (KeyError, ValueError, TypeError):\n",
    "            return None\n",
    "\n",
    "    def get_answer(self, question_id, parent_number):\n",
    "        col = f\"{question_id}_{parent_number}\"\n",
    "        try:\n",
    "            return self.row[col]\n",
    "        except KeyError:\n",
    "            return None\n"
   ]
  },
  {
   "cell_type": "code",
   "execution_count": 31,
   "metadata": {},
   "outputs": [
    {
     "name": "stdout",
     "output_type": "stream",
     "text": [
      "None\n",
      "7\n"
     ]
    }
   ],
   "source": [
    "respondent = Respondent(42, df, meta)\n",
    "\n",
    "print(respondent.get_parent_gender(\"1\"))  # → \"Woman\"\n",
    "print(respondent.get_answer(\"DE15\", \"1\"))  # → e.g., 2 (education level)\n"
   ]
  },
  {
   "cell_type": "code",
   "execution_count": null,
   "metadata": {},
   "outputs": [],
   "source": [
    "# Questions about Beliefs about gender (in)equality: (all numeric) IN1 (window in percent),  IN2(in percent), IN3 (in years)\n",
    "# Descriptive and injunctive social norms on academic productivity: AP1 (matrix styled: scholarly works in numbers), AP2 (singlechoice), AP3 (singlechoice)\n",
    "# Network Satisfaction GB1a (singlechoice), GB1b (singlechoice), GB1c (singlechoice), GB2a (singlechoice), GB2b (singlechoice), GB3 (matrix) \n",
    "# Leaving Academia: LA1, 2, 3 (singlechoice), LA4a, b (Text Input window)\n",
    "# Final Questions C1 singlechoice, C2 (text input window)"
   ]
  }
 ],
 "metadata": {
  "kernelspec": {
   "display_name": "parenthood",
   "language": "python",
   "name": "python3"
  },
  "language_info": {
   "codemirror_mode": {
    "name": "ipython",
    "version": 3
   },
   "file_extension": ".py",
   "mimetype": "text/x-python",
   "name": "python",
   "nbconvert_exporter": "python",
   "pygments_lexer": "ipython3",
   "version": "3.13.2"
  }
 },
 "nbformat": 4,
 "nbformat_minor": 2
}
