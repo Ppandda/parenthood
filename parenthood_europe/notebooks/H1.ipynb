{
 "cells": [
  {
   "cell_type": "markdown",
   "id": "a7bdda8b",
   "metadata": {},
   "source": [
    "In this notebook I will test the effect of parenthood (x) on the publication productivity (y) of\n",
    "researchers at different career stages in Europe?\n",
    "\n",
    "Stratification:\n",
    "\n",
    "with parenthood  \n",
    "without parenthood\n",
    "\n",
    "No. of Publications = Productivity"
   ]
  },
  {
   "cell_type": "code",
   "execution_count": 453,
   "id": "99aef8eb",
   "metadata": {},
   "outputs": [
    {
     "data": {
      "text/html": [
       "<div>\n",
       "<style scoped>\n",
       "    .dataframe tbody tr th:only-of-type {\n",
       "        vertical-align: middle;\n",
       "    }\n",
       "\n",
       "    .dataframe tbody tr th {\n",
       "        vertical-align: top;\n",
       "    }\n",
       "\n",
       "    .dataframe thead th {\n",
       "        text-align: right;\n",
       "    }\n",
       "</style>\n",
       "<table border=\"1\" class=\"dataframe\">\n",
       "  <thead>\n",
       "    <tr style=\"text-align: right;\">\n",
       "      <th></th>\n",
       "      <th>AcademicPosition</th>\n",
       "      <th>Response ID</th>\n",
       "      <th>NumPublications</th>\n",
       "      <th>NumChildren</th>\n",
       "      <th>ParentalLeave1</th>\n",
       "      <th>ParentalLeave2</th>\n",
       "      <th>ParentalLeave3</th>\n",
       "      <th>ParentalLeave4</th>\n",
       "      <th>ParentalLeave5</th>\n",
       "      <th>ParentalLeave6</th>\n",
       "      <th>ParentalLeave7</th>\n",
       "      <th>ParentalLeave8</th>\n",
       "      <th>ParentalLeave9</th>\n",
       "      <th>ParentalLeave10</th>\n",
       "      <th>ChildBornCountry1</th>\n",
       "      <th>GenderIdentity</th>\n",
       "    </tr>\n",
       "  </thead>\n",
       "  <tbody>\n",
       "    <tr>\n",
       "      <th>0</th>\n",
       "      <td>I am a postdoc</td>\n",
       "      <td>R_2V4kjf4gOQNH6EL</td>\n",
       "      <td>15.0</td>\n",
       "      <td>0</td>\n",
       "      <td>NaN</td>\n",
       "      <td>NaN</td>\n",
       "      <td>NaN</td>\n",
       "      <td>NaN</td>\n",
       "      <td>NaN</td>\n",
       "      <td>NaN</td>\n",
       "      <td>NaN</td>\n",
       "      <td>NaN</td>\n",
       "      <td>NaN</td>\n",
       "      <td>NaN</td>\n",
       "      <td>NaN</td>\n",
       "      <td>Woman</td>\n",
       "    </tr>\n",
       "    <tr>\n",
       "      <th>1</th>\n",
       "      <td>I am a postdoc</td>\n",
       "      <td>R_2Mm7mAXANKJetCY</td>\n",
       "      <td>19.0</td>\n",
       "      <td>2</td>\n",
       "      <td>No, I did not take the leave</td>\n",
       "      <td>Yes, and I spent up to 1/3 of that time on wor...</td>\n",
       "      <td>NaN</td>\n",
       "      <td>NaN</td>\n",
       "      <td>NaN</td>\n",
       "      <td>NaN</td>\n",
       "      <td>NaN</td>\n",
       "      <td>NaN</td>\n",
       "      <td>NaN</td>\n",
       "      <td>NaN</td>\n",
       "      <td>Germany</td>\n",
       "      <td>Woman</td>\n",
       "    </tr>\n",
       "    <tr>\n",
       "      <th>2</th>\n",
       "      <td>I am tenured (please, indicate the year you re...</td>\n",
       "      <td>R_51QYRBe22NQZDxL</td>\n",
       "      <td>1900.0</td>\n",
       "      <td>2</td>\n",
       "      <td>NaN</td>\n",
       "      <td>NaN</td>\n",
       "      <td>NaN</td>\n",
       "      <td>NaN</td>\n",
       "      <td>NaN</td>\n",
       "      <td>NaN</td>\n",
       "      <td>NaN</td>\n",
       "      <td>NaN</td>\n",
       "      <td>NaN</td>\n",
       "      <td>NaN</td>\n",
       "      <td>Germany</td>\n",
       "      <td>Woman</td>\n",
       "    </tr>\n",
       "    <tr>\n",
       "      <th>3</th>\n",
       "      <td>I am tenured (please, indicate the year you re...</td>\n",
       "      <td>R_8EWJNcxqDcHKUzb</td>\n",
       "      <td>0.0</td>\n",
       "      <td>2</td>\n",
       "      <td>No, I did not take the leave</td>\n",
       "      <td>No, I did not take the leave</td>\n",
       "      <td>NaN</td>\n",
       "      <td>NaN</td>\n",
       "      <td>NaN</td>\n",
       "      <td>NaN</td>\n",
       "      <td>NaN</td>\n",
       "      <td>NaN</td>\n",
       "      <td>NaN</td>\n",
       "      <td>NaN</td>\n",
       "      <td>Germany</td>\n",
       "      <td>Man</td>\n",
       "    </tr>\n",
       "    <tr>\n",
       "      <th>4</th>\n",
       "      <td>I am tenured (please, indicate the year you re...</td>\n",
       "      <td>R_2fqgAOx1KsWT4nt</td>\n",
       "      <td>300.0</td>\n",
       "      <td>2</td>\n",
       "      <td>Yes, and I spent up to 1/3 of that time on wor...</td>\n",
       "      <td>Yes, and I spent up to 1/3 of that time on wor...</td>\n",
       "      <td>NaN</td>\n",
       "      <td>NaN</td>\n",
       "      <td>NaN</td>\n",
       "      <td>NaN</td>\n",
       "      <td>NaN</td>\n",
       "      <td>NaN</td>\n",
       "      <td>NaN</td>\n",
       "      <td>NaN</td>\n",
       "      <td>Netherlands</td>\n",
       "      <td>Man</td>\n",
       "    </tr>\n",
       "    <tr>\n",
       "      <th>...</th>\n",
       "      <td>...</td>\n",
       "      <td>...</td>\n",
       "      <td>...</td>\n",
       "      <td>...</td>\n",
       "      <td>...</td>\n",
       "      <td>...</td>\n",
       "      <td>...</td>\n",
       "      <td>...</td>\n",
       "      <td>...</td>\n",
       "      <td>...</td>\n",
       "      <td>...</td>\n",
       "      <td>...</td>\n",
       "      <td>...</td>\n",
       "      <td>...</td>\n",
       "      <td>...</td>\n",
       "      <td>...</td>\n",
       "    </tr>\n",
       "    <tr>\n",
       "      <th>1301</th>\n",
       "      <td>I am a non-tenure-track faculty</td>\n",
       "      <td>R_83OxM8DxlMmRnIl</td>\n",
       "      <td>14.0</td>\n",
       "      <td>4</td>\n",
       "      <td>No, I did not take the leave</td>\n",
       "      <td>No, I did not take the leave</td>\n",
       "      <td>Yes, and I spent up to 1/3 of that time on wor...</td>\n",
       "      <td>Yes, and I spent up to 1/3 of that time on wor...</td>\n",
       "      <td>NaN</td>\n",
       "      <td>NaN</td>\n",
       "      <td>NaN</td>\n",
       "      <td>NaN</td>\n",
       "      <td>NaN</td>\n",
       "      <td>NaN</td>\n",
       "      <td>Germany</td>\n",
       "      <td>Man</td>\n",
       "    </tr>\n",
       "    <tr>\n",
       "      <th>1302</th>\n",
       "      <td>I am a postdoc</td>\n",
       "      <td>R_2pKD21d4JII2EKF</td>\n",
       "      <td>5.0</td>\n",
       "      <td>2</td>\n",
       "      <td>NaN</td>\n",
       "      <td>NaN</td>\n",
       "      <td>NaN</td>\n",
       "      <td>NaN</td>\n",
       "      <td>NaN</td>\n",
       "      <td>NaN</td>\n",
       "      <td>NaN</td>\n",
       "      <td>NaN</td>\n",
       "      <td>NaN</td>\n",
       "      <td>NaN</td>\n",
       "      <td>Romania</td>\n",
       "      <td>Woman</td>\n",
       "    </tr>\n",
       "    <tr>\n",
       "      <th>1303</th>\n",
       "      <td>I am tenured (please, indicate the year you re...</td>\n",
       "      <td>R_83lrPFMg7s39zwt</td>\n",
       "      <td>5.0</td>\n",
       "      <td>3</td>\n",
       "      <td>NaN</td>\n",
       "      <td>NaN</td>\n",
       "      <td>NaN</td>\n",
       "      <td>NaN</td>\n",
       "      <td>NaN</td>\n",
       "      <td>NaN</td>\n",
       "      <td>NaN</td>\n",
       "      <td>NaN</td>\n",
       "      <td>NaN</td>\n",
       "      <td>NaN</td>\n",
       "      <td>France</td>\n",
       "      <td>Woman</td>\n",
       "    </tr>\n",
       "    <tr>\n",
       "      <th>1304</th>\n",
       "      <td>I am a postdoc</td>\n",
       "      <td>R_8hHbS6L2AP8dHBw</td>\n",
       "      <td>15.0</td>\n",
       "      <td>1</td>\n",
       "      <td>Yes, and I spent at least 2/3 of that time on ...</td>\n",
       "      <td>NaN</td>\n",
       "      <td>NaN</td>\n",
       "      <td>NaN</td>\n",
       "      <td>NaN</td>\n",
       "      <td>NaN</td>\n",
       "      <td>NaN</td>\n",
       "      <td>NaN</td>\n",
       "      <td>NaN</td>\n",
       "      <td>NaN</td>\n",
       "      <td>Germany</td>\n",
       "      <td>Woman</td>\n",
       "    </tr>\n",
       "    <tr>\n",
       "      <th>1305</th>\n",
       "      <td>I am a postdoc</td>\n",
       "      <td>R_2IQbjf8O2JcA6bD</td>\n",
       "      <td>19.0</td>\n",
       "      <td>1</td>\n",
       "      <td>Yes, and I did not do anything work-related du...</td>\n",
       "      <td>NaN</td>\n",
       "      <td>NaN</td>\n",
       "      <td>NaN</td>\n",
       "      <td>NaN</td>\n",
       "      <td>NaN</td>\n",
       "      <td>NaN</td>\n",
       "      <td>NaN</td>\n",
       "      <td>NaN</td>\n",
       "      <td>NaN</td>\n",
       "      <td>Finland</td>\n",
       "      <td>Woman</td>\n",
       "    </tr>\n",
       "  </tbody>\n",
       "</table>\n",
       "<p>1306 rows × 16 columns</p>\n",
       "</div>"
      ],
      "text/plain": [
       "                                       AcademicPosition        Response ID  \\\n",
       "0                                        I am a postdoc  R_2V4kjf4gOQNH6EL   \n",
       "1                                        I am a postdoc  R_2Mm7mAXANKJetCY   \n",
       "2     I am tenured (please, indicate the year you re...  R_51QYRBe22NQZDxL   \n",
       "3     I am tenured (please, indicate the year you re...  R_8EWJNcxqDcHKUzb   \n",
       "4     I am tenured (please, indicate the year you re...  R_2fqgAOx1KsWT4nt   \n",
       "...                                                 ...                ...   \n",
       "1301                    I am a non-tenure-track faculty  R_83OxM8DxlMmRnIl   \n",
       "1302                                     I am a postdoc  R_2pKD21d4JII2EKF   \n",
       "1303  I am tenured (please, indicate the year you re...  R_83lrPFMg7s39zwt   \n",
       "1304                                     I am a postdoc  R_8hHbS6L2AP8dHBw   \n",
       "1305                                     I am a postdoc  R_2IQbjf8O2JcA6bD   \n",
       "\n",
       "      NumPublications  NumChildren  \\\n",
       "0                15.0            0   \n",
       "1                19.0            2   \n",
       "2              1900.0            2   \n",
       "3                 0.0            2   \n",
       "4               300.0            2   \n",
       "...               ...          ...   \n",
       "1301             14.0            4   \n",
       "1302              5.0            2   \n",
       "1303              5.0            3   \n",
       "1304             15.0            1   \n",
       "1305             19.0            1   \n",
       "\n",
       "                                         ParentalLeave1  \\\n",
       "0                                                   NaN   \n",
       "1                          No, I did not take the leave   \n",
       "2                                                   NaN   \n",
       "3                          No, I did not take the leave   \n",
       "4     Yes, and I spent up to 1/3 of that time on wor...   \n",
       "...                                                 ...   \n",
       "1301                       No, I did not take the leave   \n",
       "1302                                                NaN   \n",
       "1303                                                NaN   \n",
       "1304  Yes, and I spent at least 2/3 of that time on ...   \n",
       "1305  Yes, and I did not do anything work-related du...   \n",
       "\n",
       "                                         ParentalLeave2  \\\n",
       "0                                                   NaN   \n",
       "1     Yes, and I spent up to 1/3 of that time on wor...   \n",
       "2                                                   NaN   \n",
       "3                          No, I did not take the leave   \n",
       "4     Yes, and I spent up to 1/3 of that time on wor...   \n",
       "...                                                 ...   \n",
       "1301                       No, I did not take the leave   \n",
       "1302                                                NaN   \n",
       "1303                                                NaN   \n",
       "1304                                                NaN   \n",
       "1305                                                NaN   \n",
       "\n",
       "                                         ParentalLeave3  \\\n",
       "0                                                   NaN   \n",
       "1                                                   NaN   \n",
       "2                                                   NaN   \n",
       "3                                                   NaN   \n",
       "4                                                   NaN   \n",
       "...                                                 ...   \n",
       "1301  Yes, and I spent up to 1/3 of that time on wor...   \n",
       "1302                                                NaN   \n",
       "1303                                                NaN   \n",
       "1304                                                NaN   \n",
       "1305                                                NaN   \n",
       "\n",
       "                                         ParentalLeave4 ParentalLeave5  \\\n",
       "0                                                   NaN            NaN   \n",
       "1                                                   NaN            NaN   \n",
       "2                                                   NaN            NaN   \n",
       "3                                                   NaN            NaN   \n",
       "4                                                   NaN            NaN   \n",
       "...                                                 ...            ...   \n",
       "1301  Yes, and I spent up to 1/3 of that time on wor...            NaN   \n",
       "1302                                                NaN            NaN   \n",
       "1303                                                NaN            NaN   \n",
       "1304                                                NaN            NaN   \n",
       "1305                                                NaN            NaN   \n",
       "\n",
       "     ParentalLeave6 ParentalLeave7  ParentalLeave8  ParentalLeave9  \\\n",
       "0               NaN            NaN             NaN             NaN   \n",
       "1               NaN            NaN             NaN             NaN   \n",
       "2               NaN            NaN             NaN             NaN   \n",
       "3               NaN            NaN             NaN             NaN   \n",
       "4               NaN            NaN             NaN             NaN   \n",
       "...             ...            ...             ...             ...   \n",
       "1301            NaN            NaN             NaN             NaN   \n",
       "1302            NaN            NaN             NaN             NaN   \n",
       "1303            NaN            NaN             NaN             NaN   \n",
       "1304            NaN            NaN             NaN             NaN   \n",
       "1305            NaN            NaN             NaN             NaN   \n",
       "\n",
       "      ParentalLeave10 ChildBornCountry1 GenderIdentity  \n",
       "0                 NaN               NaN          Woman  \n",
       "1                 NaN           Germany          Woman  \n",
       "2                 NaN           Germany          Woman  \n",
       "3                 NaN           Germany            Man  \n",
       "4                 NaN       Netherlands            Man  \n",
       "...               ...               ...            ...  \n",
       "1301              NaN           Germany            Man  \n",
       "1302              NaN           Romania          Woman  \n",
       "1303              NaN            France          Woman  \n",
       "1304              NaN           Germany          Woman  \n",
       "1305              NaN           Finland          Woman  \n",
       "\n",
       "[1306 rows x 16 columns]"
      ]
     },
     "metadata": {},
     "output_type": "display_data"
    }
   ],
   "source": [
    "import pandas as pd\n",
    "\n",
    "df = pd.read_excel('../data/H1_analysis/H1_data_NumChildren.xlsx', skiprows=[0])\n",
    "display(df)\n"
   ]
  },
  {
   "cell_type": "markdown",
   "id": "f69d825d",
   "metadata": {},
   "source": [
    "Now, we only consider the first child."
   ]
  },
  {
   "cell_type": "code",
   "execution_count": 454,
   "id": "3ed7a594",
   "metadata": {},
   "outputs": [
    {
     "data": {
      "text/html": [
       "<div>\n",
       "<style scoped>\n",
       "    .dataframe tbody tr th:only-of-type {\n",
       "        vertical-align: middle;\n",
       "    }\n",
       "\n",
       "    .dataframe tbody tr th {\n",
       "        vertical-align: top;\n",
       "    }\n",
       "\n",
       "    .dataframe thead th {\n",
       "        text-align: right;\n",
       "    }\n",
       "</style>\n",
       "<table border=\"1\" class=\"dataframe\">\n",
       "  <thead>\n",
       "    <tr style=\"text-align: right;\">\n",
       "      <th></th>\n",
       "      <th>AcademicPosition</th>\n",
       "      <th>Response ID</th>\n",
       "      <th>NumPublications</th>\n",
       "      <th>NumChildren</th>\n",
       "      <th>ParentalLeave1</th>\n",
       "      <th>ChildBornCountry1</th>\n",
       "      <th>GenderIdentity</th>\n",
       "    </tr>\n",
       "  </thead>\n",
       "  <tbody>\n",
       "    <tr>\n",
       "      <th>0</th>\n",
       "      <td>I am a postdoc</td>\n",
       "      <td>R_2V4kjf4gOQNH6EL</td>\n",
       "      <td>15.0</td>\n",
       "      <td>0</td>\n",
       "      <td>NaN</td>\n",
       "      <td>NaN</td>\n",
       "      <td>Woman</td>\n",
       "    </tr>\n",
       "    <tr>\n",
       "      <th>1</th>\n",
       "      <td>I am a postdoc</td>\n",
       "      <td>R_2Mm7mAXANKJetCY</td>\n",
       "      <td>19.0</td>\n",
       "      <td>2</td>\n",
       "      <td>No, I did not take the leave</td>\n",
       "      <td>Germany</td>\n",
       "      <td>Woman</td>\n",
       "    </tr>\n",
       "    <tr>\n",
       "      <th>2</th>\n",
       "      <td>I am tenured (please, indicate the year you re...</td>\n",
       "      <td>R_51QYRBe22NQZDxL</td>\n",
       "      <td>1900.0</td>\n",
       "      <td>2</td>\n",
       "      <td>NaN</td>\n",
       "      <td>Germany</td>\n",
       "      <td>Woman</td>\n",
       "    </tr>\n",
       "    <tr>\n",
       "      <th>3</th>\n",
       "      <td>I am tenured (please, indicate the year you re...</td>\n",
       "      <td>R_8EWJNcxqDcHKUzb</td>\n",
       "      <td>0.0</td>\n",
       "      <td>2</td>\n",
       "      <td>No, I did not take the leave</td>\n",
       "      <td>Germany</td>\n",
       "      <td>Man</td>\n",
       "    </tr>\n",
       "    <tr>\n",
       "      <th>4</th>\n",
       "      <td>I am tenured (please, indicate the year you re...</td>\n",
       "      <td>R_2fqgAOx1KsWT4nt</td>\n",
       "      <td>300.0</td>\n",
       "      <td>2</td>\n",
       "      <td>Yes, and I spent up to 1/3 of that time on wor...</td>\n",
       "      <td>Netherlands</td>\n",
       "      <td>Man</td>\n",
       "    </tr>\n",
       "    <tr>\n",
       "      <th>...</th>\n",
       "      <td>...</td>\n",
       "      <td>...</td>\n",
       "      <td>...</td>\n",
       "      <td>...</td>\n",
       "      <td>...</td>\n",
       "      <td>...</td>\n",
       "      <td>...</td>\n",
       "    </tr>\n",
       "    <tr>\n",
       "      <th>1301</th>\n",
       "      <td>I am a non-tenure-track faculty</td>\n",
       "      <td>R_83OxM8DxlMmRnIl</td>\n",
       "      <td>14.0</td>\n",
       "      <td>4</td>\n",
       "      <td>No, I did not take the leave</td>\n",
       "      <td>Germany</td>\n",
       "      <td>Man</td>\n",
       "    </tr>\n",
       "    <tr>\n",
       "      <th>1302</th>\n",
       "      <td>I am a postdoc</td>\n",
       "      <td>R_2pKD21d4JII2EKF</td>\n",
       "      <td>5.0</td>\n",
       "      <td>2</td>\n",
       "      <td>NaN</td>\n",
       "      <td>Romania</td>\n",
       "      <td>Woman</td>\n",
       "    </tr>\n",
       "    <tr>\n",
       "      <th>1303</th>\n",
       "      <td>I am tenured (please, indicate the year you re...</td>\n",
       "      <td>R_83lrPFMg7s39zwt</td>\n",
       "      <td>5.0</td>\n",
       "      <td>3</td>\n",
       "      <td>NaN</td>\n",
       "      <td>France</td>\n",
       "      <td>Woman</td>\n",
       "    </tr>\n",
       "    <tr>\n",
       "      <th>1304</th>\n",
       "      <td>I am a postdoc</td>\n",
       "      <td>R_8hHbS6L2AP8dHBw</td>\n",
       "      <td>15.0</td>\n",
       "      <td>1</td>\n",
       "      <td>Yes, and I spent at least 2/3 of that time on ...</td>\n",
       "      <td>Germany</td>\n",
       "      <td>Woman</td>\n",
       "    </tr>\n",
       "    <tr>\n",
       "      <th>1305</th>\n",
       "      <td>I am a postdoc</td>\n",
       "      <td>R_2IQbjf8O2JcA6bD</td>\n",
       "      <td>19.0</td>\n",
       "      <td>1</td>\n",
       "      <td>Yes, and I did not do anything work-related du...</td>\n",
       "      <td>Finland</td>\n",
       "      <td>Woman</td>\n",
       "    </tr>\n",
       "  </tbody>\n",
       "</table>\n",
       "<p>1306 rows × 7 columns</p>\n",
       "</div>"
      ],
      "text/plain": [
       "                                       AcademicPosition        Response ID  \\\n",
       "0                                        I am a postdoc  R_2V4kjf4gOQNH6EL   \n",
       "1                                        I am a postdoc  R_2Mm7mAXANKJetCY   \n",
       "2     I am tenured (please, indicate the year you re...  R_51QYRBe22NQZDxL   \n",
       "3     I am tenured (please, indicate the year you re...  R_8EWJNcxqDcHKUzb   \n",
       "4     I am tenured (please, indicate the year you re...  R_2fqgAOx1KsWT4nt   \n",
       "...                                                 ...                ...   \n",
       "1301                    I am a non-tenure-track faculty  R_83OxM8DxlMmRnIl   \n",
       "1302                                     I am a postdoc  R_2pKD21d4JII2EKF   \n",
       "1303  I am tenured (please, indicate the year you re...  R_83lrPFMg7s39zwt   \n",
       "1304                                     I am a postdoc  R_8hHbS6L2AP8dHBw   \n",
       "1305                                     I am a postdoc  R_2IQbjf8O2JcA6bD   \n",
       "\n",
       "      NumPublications  NumChildren  \\\n",
       "0                15.0            0   \n",
       "1                19.0            2   \n",
       "2              1900.0            2   \n",
       "3                 0.0            2   \n",
       "4               300.0            2   \n",
       "...               ...          ...   \n",
       "1301             14.0            4   \n",
       "1302              5.0            2   \n",
       "1303              5.0            3   \n",
       "1304             15.0            1   \n",
       "1305             19.0            1   \n",
       "\n",
       "                                         ParentalLeave1 ChildBornCountry1  \\\n",
       "0                                                   NaN               NaN   \n",
       "1                          No, I did not take the leave           Germany   \n",
       "2                                                   NaN           Germany   \n",
       "3                          No, I did not take the leave           Germany   \n",
       "4     Yes, and I spent up to 1/3 of that time on wor...       Netherlands   \n",
       "...                                                 ...               ...   \n",
       "1301                       No, I did not take the leave           Germany   \n",
       "1302                                                NaN           Romania   \n",
       "1303                                                NaN            France   \n",
       "1304  Yes, and I spent at least 2/3 of that time on ...           Germany   \n",
       "1305  Yes, and I did not do anything work-related du...           Finland   \n",
       "\n",
       "     GenderIdentity  \n",
       "0             Woman  \n",
       "1             Woman  \n",
       "2             Woman  \n",
       "3               Man  \n",
       "4               Man  \n",
       "...             ...  \n",
       "1301            Man  \n",
       "1302          Woman  \n",
       "1303          Woman  \n",
       "1304          Woman  \n",
       "1305          Woman  \n",
       "\n",
       "[1306 rows x 7 columns]"
      ]
     },
     "execution_count": 454,
     "metadata": {},
     "output_type": "execute_result"
    }
   ],
   "source": [
    "# Remove unnecessary columns\n",
    "df = df.drop(columns=['ParentalLeave2', 'ParentalLeave3', 'ParentalLeave4', 'ParentalLeave5', 'ParentalLeave6', 'ParentalLeave7', 'ParentalLeave8', 'ParentalLeave9', 'ParentalLeave10'])\n",
    "df"
   ]
  },
  {
   "cell_type": "markdown",
   "id": "6f4438cd",
   "metadata": {},
   "source": [
    "Drop rows where necessary data is nan"
   ]
  },
  {
   "cell_type": "code",
   "execution_count": 455,
   "id": "d2ed5b75",
   "metadata": {},
   "outputs": [
    {
     "data": {
      "text/html": [
       "<div>\n",
       "<style scoped>\n",
       "    .dataframe tbody tr th:only-of-type {\n",
       "        vertical-align: middle;\n",
       "    }\n",
       "\n",
       "    .dataframe tbody tr th {\n",
       "        vertical-align: top;\n",
       "    }\n",
       "\n",
       "    .dataframe thead th {\n",
       "        text-align: right;\n",
       "    }\n",
       "</style>\n",
       "<table border=\"1\" class=\"dataframe\">\n",
       "  <thead>\n",
       "    <tr style=\"text-align: right;\">\n",
       "      <th></th>\n",
       "      <th>AcademicPosition</th>\n",
       "      <th>Response ID</th>\n",
       "      <th>NumPublications</th>\n",
       "      <th>NumChildren</th>\n",
       "      <th>ParentalLeave1</th>\n",
       "      <th>ChildBornCountry1</th>\n",
       "      <th>GenderIdentity</th>\n",
       "    </tr>\n",
       "  </thead>\n",
       "  <tbody>\n",
       "    <tr>\n",
       "      <th>0</th>\n",
       "      <td>I am a postdoc</td>\n",
       "      <td>R_2V4kjf4gOQNH6EL</td>\n",
       "      <td>15.0</td>\n",
       "      <td>0</td>\n",
       "      <td>NaN</td>\n",
       "      <td>NaN</td>\n",
       "      <td>Woman</td>\n",
       "    </tr>\n",
       "    <tr>\n",
       "      <th>1</th>\n",
       "      <td>I am a postdoc</td>\n",
       "      <td>R_2Mm7mAXANKJetCY</td>\n",
       "      <td>19.0</td>\n",
       "      <td>2</td>\n",
       "      <td>No, I did not take the leave</td>\n",
       "      <td>Germany</td>\n",
       "      <td>Woman</td>\n",
       "    </tr>\n",
       "    <tr>\n",
       "      <th>2</th>\n",
       "      <td>I am tenured (please, indicate the year you re...</td>\n",
       "      <td>R_51QYRBe22NQZDxL</td>\n",
       "      <td>1900.0</td>\n",
       "      <td>2</td>\n",
       "      <td>NaN</td>\n",
       "      <td>Germany</td>\n",
       "      <td>Woman</td>\n",
       "    </tr>\n",
       "    <tr>\n",
       "      <th>3</th>\n",
       "      <td>I am tenured (please, indicate the year you re...</td>\n",
       "      <td>R_8EWJNcxqDcHKUzb</td>\n",
       "      <td>0.0</td>\n",
       "      <td>2</td>\n",
       "      <td>No, I did not take the leave</td>\n",
       "      <td>Germany</td>\n",
       "      <td>Man</td>\n",
       "    </tr>\n",
       "    <tr>\n",
       "      <th>4</th>\n",
       "      <td>I am tenured (please, indicate the year you re...</td>\n",
       "      <td>R_2fqgAOx1KsWT4nt</td>\n",
       "      <td>300.0</td>\n",
       "      <td>2</td>\n",
       "      <td>Yes, and I spent up to 1/3 of that time on wor...</td>\n",
       "      <td>Netherlands</td>\n",
       "      <td>Man</td>\n",
       "    </tr>\n",
       "    <tr>\n",
       "      <th>...</th>\n",
       "      <td>...</td>\n",
       "      <td>...</td>\n",
       "      <td>...</td>\n",
       "      <td>...</td>\n",
       "      <td>...</td>\n",
       "      <td>...</td>\n",
       "      <td>...</td>\n",
       "    </tr>\n",
       "    <tr>\n",
       "      <th>1301</th>\n",
       "      <td>I am a non-tenure-track faculty</td>\n",
       "      <td>R_83OxM8DxlMmRnIl</td>\n",
       "      <td>14.0</td>\n",
       "      <td>4</td>\n",
       "      <td>No, I did not take the leave</td>\n",
       "      <td>Germany</td>\n",
       "      <td>Man</td>\n",
       "    </tr>\n",
       "    <tr>\n",
       "      <th>1302</th>\n",
       "      <td>I am a postdoc</td>\n",
       "      <td>R_2pKD21d4JII2EKF</td>\n",
       "      <td>5.0</td>\n",
       "      <td>2</td>\n",
       "      <td>NaN</td>\n",
       "      <td>Romania</td>\n",
       "      <td>Woman</td>\n",
       "    </tr>\n",
       "    <tr>\n",
       "      <th>1303</th>\n",
       "      <td>I am tenured (please, indicate the year you re...</td>\n",
       "      <td>R_83lrPFMg7s39zwt</td>\n",
       "      <td>5.0</td>\n",
       "      <td>3</td>\n",
       "      <td>NaN</td>\n",
       "      <td>France</td>\n",
       "      <td>Woman</td>\n",
       "    </tr>\n",
       "    <tr>\n",
       "      <th>1304</th>\n",
       "      <td>I am a postdoc</td>\n",
       "      <td>R_8hHbS6L2AP8dHBw</td>\n",
       "      <td>15.0</td>\n",
       "      <td>1</td>\n",
       "      <td>Yes, and I spent at least 2/3 of that time on ...</td>\n",
       "      <td>Germany</td>\n",
       "      <td>Woman</td>\n",
       "    </tr>\n",
       "    <tr>\n",
       "      <th>1305</th>\n",
       "      <td>I am a postdoc</td>\n",
       "      <td>R_2IQbjf8O2JcA6bD</td>\n",
       "      <td>19.0</td>\n",
       "      <td>1</td>\n",
       "      <td>Yes, and I did not do anything work-related du...</td>\n",
       "      <td>Finland</td>\n",
       "      <td>Woman</td>\n",
       "    </tr>\n",
       "  </tbody>\n",
       "</table>\n",
       "<p>1306 rows × 7 columns</p>\n",
       "</div>"
      ],
      "text/plain": [
       "                                       AcademicPosition        Response ID  \\\n",
       "0                                        I am a postdoc  R_2V4kjf4gOQNH6EL   \n",
       "1                                        I am a postdoc  R_2Mm7mAXANKJetCY   \n",
       "2     I am tenured (please, indicate the year you re...  R_51QYRBe22NQZDxL   \n",
       "3     I am tenured (please, indicate the year you re...  R_8EWJNcxqDcHKUzb   \n",
       "4     I am tenured (please, indicate the year you re...  R_2fqgAOx1KsWT4nt   \n",
       "...                                                 ...                ...   \n",
       "1301                    I am a non-tenure-track faculty  R_83OxM8DxlMmRnIl   \n",
       "1302                                     I am a postdoc  R_2pKD21d4JII2EKF   \n",
       "1303  I am tenured (please, indicate the year you re...  R_83lrPFMg7s39zwt   \n",
       "1304                                     I am a postdoc  R_8hHbS6L2AP8dHBw   \n",
       "1305                                     I am a postdoc  R_2IQbjf8O2JcA6bD   \n",
       "\n",
       "      NumPublications  NumChildren  \\\n",
       "0                15.0            0   \n",
       "1                19.0            2   \n",
       "2              1900.0            2   \n",
       "3                 0.0            2   \n",
       "4               300.0            2   \n",
       "...               ...          ...   \n",
       "1301             14.0            4   \n",
       "1302              5.0            2   \n",
       "1303              5.0            3   \n",
       "1304             15.0            1   \n",
       "1305             19.0            1   \n",
       "\n",
       "                                         ParentalLeave1 ChildBornCountry1  \\\n",
       "0                                                   NaN               NaN   \n",
       "1                          No, I did not take the leave           Germany   \n",
       "2                                                   NaN           Germany   \n",
       "3                          No, I did not take the leave           Germany   \n",
       "4     Yes, and I spent up to 1/3 of that time on wor...       Netherlands   \n",
       "...                                                 ...               ...   \n",
       "1301                       No, I did not take the leave           Germany   \n",
       "1302                                                NaN           Romania   \n",
       "1303                                                NaN            France   \n",
       "1304  Yes, and I spent at least 2/3 of that time on ...           Germany   \n",
       "1305  Yes, and I did not do anything work-related du...           Finland   \n",
       "\n",
       "     GenderIdentity  \n",
       "0             Woman  \n",
       "1             Woman  \n",
       "2             Woman  \n",
       "3               Man  \n",
       "4               Man  \n",
       "...             ...  \n",
       "1301            Man  \n",
       "1302          Woman  \n",
       "1303          Woman  \n",
       "1304          Woman  \n",
       "1305          Woman  \n",
       "\n",
       "[1306 rows x 7 columns]"
      ]
     },
     "execution_count": 455,
     "metadata": {},
     "output_type": "execute_result"
    }
   ],
   "source": [
    "df = df.dropna(subset=['NumPublications'])\n",
    "df"
   ]
  },
  {
   "cell_type": "markdown",
   "id": "bc9b3738",
   "metadata": {},
   "source": [
    "Now, remove cases where the first child was born outside europe"
   ]
  },
  {
   "cell_type": "code",
   "execution_count": 456,
   "id": "0acd34c4",
   "metadata": {},
   "outputs": [],
   "source": [
    "# Remove rows where the 'ChildBornCountry1' is not in Europe or is not NaN\n",
    "\n",
    "european_countries = [\n",
    "    \"Albania\",\n",
    "    \"Andorra\",\n",
    "    \"Austria\",\n",
    "    \"Belgium\",\n",
    "    \"Bosnia and Herzegovina\",\n",
    "    \"Bulgaria\",\n",
    "    \"Croatia\",\n",
    "    \"Cyprus\",\n",
    "    \"Czech Republic\",\n",
    "    \"Denmark\",\n",
    "    \"Estonia\",\n",
    "    \"Finland\",\n",
    "    \"France\",\n",
    "    \"Germany\",\n",
    "    \"Greece\",\n",
    "    \"Hungary\",\n",
    "    \"Iceland\",\n",
    "    \"Ireland\",\n",
    "    \"Italy\",\n",
    "    \"Latvia\",\n",
    "    \"Liechtenstein\",\n",
    "    \"Lithuania\",\n",
    "    \"Luxembourg\",\n",
    "    \"Malta\",\n",
    "    \"Moldova\",\n",
    "    \"Monaco\",\n",
    "    \"Netherlands\",\n",
    "    \"Macedonia\",\n",
    "    \"Norway\",\n",
    "    \"Poland\",\n",
    "    \"Portugal\",\n",
    "    \"Romania\",\n",
    "    \"San Marino\",\n",
    "    \"Serbia and Montenegro\",\n",
    "    \"Slovakia\",\n",
    "    \"Slovenia\",\n",
    "    \"Spain\",\n",
    "    \"Sweden\",\n",
    "    \"Switzerland\",\n",
    "    \"United Kingdom\",\n",
    "    \"Vatican City (Holy See)\"\n",
    "]\n",
    "\n",
    "df_europe = df[df['ChildBornCountry1'].isin(european_countries) | df['ChildBornCountry1'].isna()]\n",
    "non_europe_df = df[df['ChildBornCountry1'].notna() & ~df['ChildBornCountry1'].isin(european_countries)]\n",
    "\n"
   ]
  },
  {
   "cell_type": "code",
   "execution_count": 457,
   "id": "73783dcc",
   "metadata": {},
   "outputs": [
    {
     "data": {
      "text/plain": [
       "54"
      ]
     },
     "execution_count": 457,
     "metadata": {},
     "output_type": "execute_result"
    }
   ],
   "source": [
    "non_europe_df.head()\n",
    "len(non_europe_df)"
   ]
  },
  {
   "cell_type": "code",
   "execution_count": 458,
   "id": "f8fd9584",
   "metadata": {},
   "outputs": [
    {
     "data": {
      "text/plain": [
       "1252"
      ]
     },
     "execution_count": 458,
     "metadata": {},
     "output_type": "execute_result"
    }
   ],
   "source": [
    "df_europe\n",
    "len(df_europe)"
   ]
  },
  {
   "cell_type": "code",
   "execution_count": 459,
   "id": "ab5ddd03",
   "metadata": {},
   "outputs": [
    {
     "data": {
      "text/html": [
       "<div>\n",
       "<style scoped>\n",
       "    .dataframe tbody tr th:only-of-type {\n",
       "        vertical-align: middle;\n",
       "    }\n",
       "\n",
       "    .dataframe tbody tr th {\n",
       "        vertical-align: top;\n",
       "    }\n",
       "\n",
       "    .dataframe thead th {\n",
       "        text-align: right;\n",
       "    }\n",
       "</style>\n",
       "<table border=\"1\" class=\"dataframe\">\n",
       "  <thead>\n",
       "    <tr style=\"text-align: right;\">\n",
       "      <th></th>\n",
       "      <th>AcademicPosition</th>\n",
       "      <th>NumPublications</th>\n",
       "      <th>NumChildren</th>\n",
       "      <th>ParentalLeave1</th>\n",
       "      <th>ChildBornCountry1</th>\n",
       "      <th>GenderIdentity</th>\n",
       "    </tr>\n",
       "  </thead>\n",
       "  <tbody>\n",
       "    <tr>\n",
       "      <th>0</th>\n",
       "      <td>I am a postdoc</td>\n",
       "      <td>15.0</td>\n",
       "      <td>0</td>\n",
       "      <td>NaN</td>\n",
       "      <td>NaN</td>\n",
       "      <td>Woman</td>\n",
       "    </tr>\n",
       "    <tr>\n",
       "      <th>1</th>\n",
       "      <td>I am a postdoc</td>\n",
       "      <td>19.0</td>\n",
       "      <td>2</td>\n",
       "      <td>No, I did not take the leave</td>\n",
       "      <td>Germany</td>\n",
       "      <td>Woman</td>\n",
       "    </tr>\n",
       "    <tr>\n",
       "      <th>2</th>\n",
       "      <td>I am tenured (please, indicate the year you re...</td>\n",
       "      <td>1900.0</td>\n",
       "      <td>2</td>\n",
       "      <td>NaN</td>\n",
       "      <td>Germany</td>\n",
       "      <td>Woman</td>\n",
       "    </tr>\n",
       "    <tr>\n",
       "      <th>3</th>\n",
       "      <td>I am tenured (please, indicate the year you re...</td>\n",
       "      <td>0.0</td>\n",
       "      <td>2</td>\n",
       "      <td>No, I did not take the leave</td>\n",
       "      <td>Germany</td>\n",
       "      <td>Man</td>\n",
       "    </tr>\n",
       "    <tr>\n",
       "      <th>4</th>\n",
       "      <td>I am tenured (please, indicate the year you re...</td>\n",
       "      <td>300.0</td>\n",
       "      <td>2</td>\n",
       "      <td>Yes, and I spent up to 1/3 of that time on wor...</td>\n",
       "      <td>Netherlands</td>\n",
       "      <td>Man</td>\n",
       "    </tr>\n",
       "    <tr>\n",
       "      <th>...</th>\n",
       "      <td>...</td>\n",
       "      <td>...</td>\n",
       "      <td>...</td>\n",
       "      <td>...</td>\n",
       "      <td>...</td>\n",
       "      <td>...</td>\n",
       "    </tr>\n",
       "    <tr>\n",
       "      <th>1301</th>\n",
       "      <td>I am a non-tenure-track faculty</td>\n",
       "      <td>14.0</td>\n",
       "      <td>4</td>\n",
       "      <td>No, I did not take the leave</td>\n",
       "      <td>Germany</td>\n",
       "      <td>Man</td>\n",
       "    </tr>\n",
       "    <tr>\n",
       "      <th>1302</th>\n",
       "      <td>I am a postdoc</td>\n",
       "      <td>5.0</td>\n",
       "      <td>2</td>\n",
       "      <td>NaN</td>\n",
       "      <td>Romania</td>\n",
       "      <td>Woman</td>\n",
       "    </tr>\n",
       "    <tr>\n",
       "      <th>1303</th>\n",
       "      <td>I am tenured (please, indicate the year you re...</td>\n",
       "      <td>5.0</td>\n",
       "      <td>3</td>\n",
       "      <td>NaN</td>\n",
       "      <td>France</td>\n",
       "      <td>Woman</td>\n",
       "    </tr>\n",
       "    <tr>\n",
       "      <th>1304</th>\n",
       "      <td>I am a postdoc</td>\n",
       "      <td>15.0</td>\n",
       "      <td>1</td>\n",
       "      <td>Yes, and I spent at least 2/3 of that time on ...</td>\n",
       "      <td>Germany</td>\n",
       "      <td>Woman</td>\n",
       "    </tr>\n",
       "    <tr>\n",
       "      <th>1305</th>\n",
       "      <td>I am a postdoc</td>\n",
       "      <td>19.0</td>\n",
       "      <td>1</td>\n",
       "      <td>Yes, and I did not do anything work-related du...</td>\n",
       "      <td>Finland</td>\n",
       "      <td>Woman</td>\n",
       "    </tr>\n",
       "  </tbody>\n",
       "</table>\n",
       "<p>1252 rows × 6 columns</p>\n",
       "</div>"
      ],
      "text/plain": [
       "                                       AcademicPosition  NumPublications  \\\n",
       "0                                        I am a postdoc             15.0   \n",
       "1                                        I am a postdoc             19.0   \n",
       "2     I am tenured (please, indicate the year you re...           1900.0   \n",
       "3     I am tenured (please, indicate the year you re...              0.0   \n",
       "4     I am tenured (please, indicate the year you re...            300.0   \n",
       "...                                                 ...              ...   \n",
       "1301                    I am a non-tenure-track faculty             14.0   \n",
       "1302                                     I am a postdoc              5.0   \n",
       "1303  I am tenured (please, indicate the year you re...              5.0   \n",
       "1304                                     I am a postdoc             15.0   \n",
       "1305                                     I am a postdoc             19.0   \n",
       "\n",
       "      NumChildren                                     ParentalLeave1  \\\n",
       "0               0                                                NaN   \n",
       "1               2                       No, I did not take the leave   \n",
       "2               2                                                NaN   \n",
       "3               2                       No, I did not take the leave   \n",
       "4               2  Yes, and I spent up to 1/3 of that time on wor...   \n",
       "...           ...                                                ...   \n",
       "1301            4                       No, I did not take the leave   \n",
       "1302            2                                                NaN   \n",
       "1303            3                                                NaN   \n",
       "1304            1  Yes, and I spent at least 2/3 of that time on ...   \n",
       "1305            1  Yes, and I did not do anything work-related du...   \n",
       "\n",
       "     ChildBornCountry1 GenderIdentity  \n",
       "0                  NaN          Woman  \n",
       "1              Germany          Woman  \n",
       "2              Germany          Woman  \n",
       "3              Germany            Man  \n",
       "4          Netherlands            Man  \n",
       "...                ...            ...  \n",
       "1301           Germany            Man  \n",
       "1302           Romania          Woman  \n",
       "1303            France          Woman  \n",
       "1304           Germany          Woman  \n",
       "1305           Finland          Woman  \n",
       "\n",
       "[1252 rows x 6 columns]"
      ]
     },
     "metadata": {},
     "output_type": "display_data"
    }
   ],
   "source": [
    "df_without_responseid = df_europe.drop(columns=['Response ID'])\n",
    "df = df_without_responseid\n",
    "display(df)"
   ]
  },
  {
   "cell_type": "markdown",
   "id": "33662680",
   "metadata": {},
   "source": [
    "## Split The Dataset\n",
    "\n",
    "We now want to split the dataset into groups:\n",
    " - Group A: Took parental leave\n",
    " - Group B: Did not take parental leave\n",
    " \n",
    " Note: if someone spends time working during parental leave, they are still a member of group A"
   ]
  },
  {
   "cell_type": "code",
   "execution_count": 460,
   "id": "e21ad7e4",
   "metadata": {},
   "outputs": [
    {
     "data": {
      "text/plain": [
       "895"
      ]
     },
     "execution_count": 460,
     "metadata": {},
     "output_type": "execute_result"
    }
   ],
   "source": [
    "df_parents = df[df['NumChildren'] > 0]\n",
    "len(df_parents)"
   ]
  },
  {
   "cell_type": "code",
   "execution_count": 461,
   "id": "5a111383",
   "metadata": {},
   "outputs": [
    {
     "data": {
      "text/plain": [
       "665"
      ]
     },
     "execution_count": 461,
     "metadata": {},
     "output_type": "execute_result"
    }
   ],
   "source": [
    "# Dropping rows without clear parental leave response\n",
    "df_parents = df_parents.dropna(subset=['ParentalLeave1'])\n",
    "len(df_parents)"
   ]
  },
  {
   "cell_type": "code",
   "execution_count": 462,
   "id": "471ebafa",
   "metadata": {},
   "outputs": [
    {
     "data": {
      "text/html": [
       "<div>\n",
       "<style scoped>\n",
       "    .dataframe tbody tr th:only-of-type {\n",
       "        vertical-align: middle;\n",
       "    }\n",
       "\n",
       "    .dataframe tbody tr th {\n",
       "        vertical-align: top;\n",
       "    }\n",
       "\n",
       "    .dataframe thead th {\n",
       "        text-align: right;\n",
       "    }\n",
       "</style>\n",
       "<table border=\"1\" class=\"dataframe\">\n",
       "  <thead>\n",
       "    <tr style=\"text-align: right;\">\n",
       "      <th></th>\n",
       "      <th>AcademicPosition</th>\n",
       "      <th>NumPublications</th>\n",
       "      <th>NumChildren</th>\n",
       "      <th>ParentalLeave1</th>\n",
       "      <th>ChildBornCountry1</th>\n",
       "      <th>GenderIdentity</th>\n",
       "      <th>TookLeave</th>\n",
       "    </tr>\n",
       "  </thead>\n",
       "  <tbody>\n",
       "    <tr>\n",
       "      <th>1</th>\n",
       "      <td>I am a postdoc</td>\n",
       "      <td>19.0</td>\n",
       "      <td>2</td>\n",
       "      <td>No, I did not take the leave</td>\n",
       "      <td>Germany</td>\n",
       "      <td>Woman</td>\n",
       "      <td>0</td>\n",
       "    </tr>\n",
       "    <tr>\n",
       "      <th>3</th>\n",
       "      <td>I am tenured (please, indicate the year you re...</td>\n",
       "      <td>0.0</td>\n",
       "      <td>2</td>\n",
       "      <td>No, I did not take the leave</td>\n",
       "      <td>Germany</td>\n",
       "      <td>Man</td>\n",
       "      <td>0</td>\n",
       "    </tr>\n",
       "    <tr>\n",
       "      <th>4</th>\n",
       "      <td>I am tenured (please, indicate the year you re...</td>\n",
       "      <td>300.0</td>\n",
       "      <td>2</td>\n",
       "      <td>Yes, and I spent up to 1/3 of that time on wor...</td>\n",
       "      <td>Netherlands</td>\n",
       "      <td>Man</td>\n",
       "      <td>1</td>\n",
       "    </tr>\n",
       "    <tr>\n",
       "      <th>5</th>\n",
       "      <td>I am a postdoc</td>\n",
       "      <td>34.0</td>\n",
       "      <td>2</td>\n",
       "      <td>Yes, and I did not do anything work-related du...</td>\n",
       "      <td>Germany</td>\n",
       "      <td>Woman</td>\n",
       "      <td>1</td>\n",
       "    </tr>\n",
       "    <tr>\n",
       "      <th>6</th>\n",
       "      <td>I am a postdoc</td>\n",
       "      <td>40.0</td>\n",
       "      <td>3</td>\n",
       "      <td>Yes, and I did not do anything work-related du...</td>\n",
       "      <td>NaN</td>\n",
       "      <td>Woman</td>\n",
       "      <td>1</td>\n",
       "    </tr>\n",
       "  </tbody>\n",
       "</table>\n",
       "</div>"
      ],
      "text/plain": [
       "                                    AcademicPosition  NumPublications  \\\n",
       "1                                     I am a postdoc             19.0   \n",
       "3  I am tenured (please, indicate the year you re...              0.0   \n",
       "4  I am tenured (please, indicate the year you re...            300.0   \n",
       "5                                     I am a postdoc             34.0   \n",
       "6                                     I am a postdoc             40.0   \n",
       "\n",
       "   NumChildren                                     ParentalLeave1  \\\n",
       "1            2                       No, I did not take the leave   \n",
       "3            2                       No, I did not take the leave   \n",
       "4            2  Yes, and I spent up to 1/3 of that time on wor...   \n",
       "5            2  Yes, and I did not do anything work-related du...   \n",
       "6            3  Yes, and I did not do anything work-related du...   \n",
       "\n",
       "  ChildBornCountry1 GenderIdentity  TookLeave  \n",
       "1           Germany          Woman          0  \n",
       "3           Germany            Man          0  \n",
       "4       Netherlands            Man          1  \n",
       "5           Germany          Woman          1  \n",
       "6               NaN          Woman          1  "
      ]
     },
     "execution_count": 462,
     "metadata": {},
     "output_type": "execute_result"
    }
   ],
   "source": [
    "df_parents['TookLeave'] = df_parents['ParentalLeave1'].str.startswith('Yes').astype(int)\n",
    "df_parents.head()"
   ]
  },
  {
   "cell_type": "code",
   "execution_count": 463,
   "id": "822a8e3c",
   "metadata": {},
   "outputs": [
    {
     "data": {
      "text/plain": [
       "count     665.000000\n",
       "mean       61.111880\n",
       "std       101.222788\n",
       "min         0.000000\n",
       "25%        19.000000\n",
       "50%        34.000000\n",
       "75%        66.000000\n",
       "max      1264.000000\n",
       "Name: NumPublications, dtype: float64"
      ]
     },
     "execution_count": 463,
     "metadata": {},
     "output_type": "execute_result"
    }
   ],
   "source": [
    "df_parents['NumPublications'].describe()\n"
   ]
  },
  {
   "cell_type": "markdown",
   "id": "29798476",
   "metadata": {},
   "source": [
    "There seems to be quite some outlier with a record of over 1000 Publications."
   ]
  },
  {
   "cell_type": "code",
   "execution_count": 464,
   "id": "5abb6706",
   "metadata": {},
   "outputs": [],
   "source": [
    "# Group A: Took parental leave\n",
    "group_a = df_parents[df_parents['TookLeave'] == 1]\n",
    "\n",
    "# Group B: Did not take parental leave\n",
    "group_b = df_parents[df_parents['TookLeave'] == 0]\n"
   ]
  },
  {
   "cell_type": "markdown",
   "id": "0a3bd448",
   "metadata": {},
   "source": [
    "### Descriptive comparison"
   ]
  },
  {
   "cell_type": "code",
   "execution_count": 465,
   "id": "45d77422",
   "metadata": {},
   "outputs": [
    {
     "name": "stdout",
     "output_type": "stream",
     "text": [
      "525 took parental leave\n",
      "140 did not take parental leave\n"
     ]
    },
    {
     "data": {
      "text/html": [
       "<div>\n",
       "<style scoped>\n",
       "    .dataframe tbody tr th:only-of-type {\n",
       "        vertical-align: middle;\n",
       "    }\n",
       "\n",
       "    .dataframe tbody tr th {\n",
       "        vertical-align: top;\n",
       "    }\n",
       "\n",
       "    .dataframe thead th {\n",
       "        text-align: right;\n",
       "    }\n",
       "</style>\n",
       "<table border=\"1\" class=\"dataframe\">\n",
       "  <thead>\n",
       "    <tr style=\"text-align: right;\">\n",
       "      <th></th>\n",
       "      <th>count</th>\n",
       "      <th>mean</th>\n",
       "      <th>std</th>\n",
       "      <th>min</th>\n",
       "      <th>25%</th>\n",
       "      <th>50%</th>\n",
       "      <th>75%</th>\n",
       "      <th>max</th>\n",
       "    </tr>\n",
       "    <tr>\n",
       "      <th>TookLeave</th>\n",
       "      <th></th>\n",
       "      <th></th>\n",
       "      <th></th>\n",
       "      <th></th>\n",
       "      <th></th>\n",
       "      <th></th>\n",
       "      <th></th>\n",
       "      <th></th>\n",
       "    </tr>\n",
       "  </thead>\n",
       "  <tbody>\n",
       "    <tr>\n",
       "      <th>0</th>\n",
       "      <td>140.0</td>\n",
       "      <td>88.435714</td>\n",
       "      <td>141.954153</td>\n",
       "      <td>0.0</td>\n",
       "      <td>24.5</td>\n",
       "      <td>49.5</td>\n",
       "      <td>98.5</td>\n",
       "      <td>1100.0</td>\n",
       "    </tr>\n",
       "    <tr>\n",
       "      <th>1</th>\n",
       "      <td>525.0</td>\n",
       "      <td>53.825524</td>\n",
       "      <td>85.938876</td>\n",
       "      <td>0.4</td>\n",
       "      <td>17.0</td>\n",
       "      <td>30.0</td>\n",
       "      <td>59.0</td>\n",
       "      <td>1264.0</td>\n",
       "    </tr>\n",
       "  </tbody>\n",
       "</table>\n",
       "</div>"
      ],
      "text/plain": [
       "           count       mean         std  min   25%   50%   75%     max\n",
       "TookLeave                                                             \n",
       "0          140.0  88.435714  141.954153  0.0  24.5  49.5  98.5  1100.0\n",
       "1          525.0  53.825524   85.938876  0.4  17.0  30.0  59.0  1264.0"
      ]
     },
     "execution_count": 465,
     "metadata": {},
     "output_type": "execute_result"
    }
   ],
   "source": [
    "print(group_a.shape[0], \"took parental leave\")\n",
    "print(group_b.shape[0], \"did not take parental leave\")\n",
    "\n",
    "df_parents.groupby('TookLeave')['NumPublications'].describe()\n"
   ]
  },
  {
   "cell_type": "markdown",
   "id": "2a2e6e19",
   "metadata": {},
   "source": [
    "Do treatment and control group differ? (gender, position, country)"
   ]
  },
  {
   "cell_type": "code",
   "execution_count": 466,
   "id": "df7031e6",
   "metadata": {},
   "outputs": [
    {
     "data": {
      "text/html": [
       "<div>\n",
       "<style scoped>\n",
       "    .dataframe tbody tr th:only-of-type {\n",
       "        vertical-align: middle;\n",
       "    }\n",
       "\n",
       "    .dataframe tbody tr th {\n",
       "        vertical-align: top;\n",
       "    }\n",
       "\n",
       "    .dataframe thead th {\n",
       "        text-align: right;\n",
       "    }\n",
       "</style>\n",
       "<table border=\"1\" class=\"dataframe\">\n",
       "  <thead>\n",
       "    <tr style=\"text-align: right;\">\n",
       "      <th>TookLeave</th>\n",
       "      <th>0</th>\n",
       "      <th>1</th>\n",
       "    </tr>\n",
       "    <tr>\n",
       "      <th>GenderIdentity</th>\n",
       "      <th></th>\n",
       "      <th></th>\n",
       "    </tr>\n",
       "  </thead>\n",
       "  <tbody>\n",
       "    <tr>\n",
       "      <th>Man</th>\n",
       "      <td>0.700000</td>\n",
       "      <td>0.326960</td>\n",
       "    </tr>\n",
       "    <tr>\n",
       "      <th>Non-binary person</th>\n",
       "      <td>0.000000</td>\n",
       "      <td>0.001912</td>\n",
       "    </tr>\n",
       "    <tr>\n",
       "      <th>Prefer not to answer</th>\n",
       "      <td>0.021429</td>\n",
       "      <td>0.001912</td>\n",
       "    </tr>\n",
       "    <tr>\n",
       "      <th>Woman</th>\n",
       "      <td>0.278571</td>\n",
       "      <td>0.669216</td>\n",
       "    </tr>\n",
       "  </tbody>\n",
       "</table>\n",
       "</div>"
      ],
      "text/plain": [
       "TookLeave                    0         1\n",
       "GenderIdentity                          \n",
       "Man                   0.700000  0.326960\n",
       "Non-binary person     0.000000  0.001912\n",
       "Prefer not to answer  0.021429  0.001912\n",
       "Woman                 0.278571  0.669216"
      ]
     },
     "execution_count": 466,
     "metadata": {},
     "output_type": "execute_result"
    }
   ],
   "source": [
    "# Gender distribution\n",
    "pd.crosstab(df_parents['GenderIdentity'], df_parents['TookLeave'], normalize='columns')"
   ]
  },
  {
   "cell_type": "code",
   "execution_count": 467,
   "id": "649d33ae",
   "metadata": {},
   "outputs": [
    {
     "name": "stdout",
     "output_type": "stream",
     "text": [
      "4\n"
     ]
    }
   ],
   "source": [
    "count_prefer_not_to_answer = df_parents[df_parents['GenderIdentity'] == 'Prefer not to answer'].shape[0]\n",
    "print(count_prefer_not_to_answer)"
   ]
  },
  {
   "cell_type": "markdown",
   "id": "842114d2",
   "metadata": {},
   "source": [
    "Among those who did not take parental leave, 70% identified as men, while only 28% identified as women.\n",
    "In contrast, among those who did take parental leave, 67% were women, and only 33% were men."
   ]
  },
  {
   "cell_type": "code",
   "execution_count": 468,
   "id": "3144b007",
   "metadata": {},
   "outputs": [
    {
     "data": {
      "text/html": [
       "<div>\n",
       "<style scoped>\n",
       "    .dataframe tbody tr th:only-of-type {\n",
       "        vertical-align: middle;\n",
       "    }\n",
       "\n",
       "    .dataframe tbody tr th {\n",
       "        vertical-align: top;\n",
       "    }\n",
       "\n",
       "    .dataframe thead th {\n",
       "        text-align: right;\n",
       "    }\n",
       "</style>\n",
       "<table border=\"1\" class=\"dataframe\">\n",
       "  <thead>\n",
       "    <tr style=\"text-align: right;\">\n",
       "      <th>TookLeave</th>\n",
       "      <th>0</th>\n",
       "      <th>1</th>\n",
       "    </tr>\n",
       "    <tr>\n",
       "      <th>AcademicPosition</th>\n",
       "      <th></th>\n",
       "      <th></th>\n",
       "    </tr>\n",
       "  </thead>\n",
       "  <tbody>\n",
       "    <tr>\n",
       "      <th>I am a non-tenure-track faculty</th>\n",
       "      <td>0.050000</td>\n",
       "      <td>0.146667</td>\n",
       "    </tr>\n",
       "    <tr>\n",
       "      <th>I am a postdoc</th>\n",
       "      <td>0.107143</td>\n",
       "      <td>0.169524</td>\n",
       "    </tr>\n",
       "    <tr>\n",
       "      <th>I am a tenure-track faculty</th>\n",
       "      <td>0.064286</td>\n",
       "      <td>0.102857</td>\n",
       "    </tr>\n",
       "    <tr>\n",
       "      <th>I am tenured (please, indicate the year you received tenure, e.g., 2010)</th>\n",
       "      <td>0.657143</td>\n",
       "      <td>0.481905</td>\n",
       "    </tr>\n",
       "    <tr>\n",
       "      <th>Other (please, specify)</th>\n",
       "      <td>0.121429</td>\n",
       "      <td>0.099048</td>\n",
       "    </tr>\n",
       "  </tbody>\n",
       "</table>\n",
       "</div>"
      ],
      "text/plain": [
       "TookLeave                                                  0         1\n",
       "AcademicPosition                                                      \n",
       "I am a non-tenure-track faculty                     0.050000  0.146667\n",
       "I am a postdoc                                      0.107143  0.169524\n",
       "I am a tenure-track faculty                         0.064286  0.102857\n",
       "I am tenured (please, indicate the year you rec...  0.657143  0.481905\n",
       "Other (please, specify)                             0.121429  0.099048"
      ]
     },
     "execution_count": 468,
     "metadata": {},
     "output_type": "execute_result"
    }
   ],
   "source": [
    "# Academic position\n",
    "pd.crosstab(df_parents['AcademicPosition'], df_parents['TookLeave'], normalize='columns')"
   ]
  },
  {
   "cell_type": "code",
   "execution_count": 469,
   "id": "23b92936",
   "metadata": {},
   "outputs": [
    {
     "name": "stdout",
     "output_type": "stream",
     "text": [
      "['I am a postdoc'\n",
      " 'I am tenured (please, indicate the year you received tenure, e.g., 2010)'\n",
      " 'I am a tenure-track faculty' 'I am a non-tenure-track faculty'\n",
      " 'Other (please, specify)']\n"
     ]
    }
   ],
   "source": [
    "unique_positions = df_parents['AcademicPosition'].unique()\n",
    "print(unique_positions)"
   ]
  },
  {
   "cell_type": "markdown",
   "id": "e26dd0b3",
   "metadata": {},
   "source": [
    "Among those who did not take parental leave, nearly 66% were tenured faculty, compared to 48% in the group that did take leave.\n",
    "Early-career positions (postdocs and non-tenure-track faculty) are more common among those who took parental leave."
   ]
  },
  {
   "cell_type": "markdown",
   "id": "8be062d8",
   "metadata": {},
   "source": [
    "I will drop country as a covariate and stick to stronger covariats gender and academic position. I am also dropping Non-Binary and prefer not to say people, as underreperesented."
   ]
  },
  {
   "cell_type": "code",
   "execution_count": 470,
   "id": "120c9263",
   "metadata": {},
   "outputs": [],
   "source": [
    "# Flag rare categories you want to exclude from matching\n",
    "df_parents['RareCategoryFlag'] = (\n",
    "    df_parents['GenderIdentity'].isin(['Non-binary person', 'Prefer not to answer'])\n",
    ")"
   ]
  },
  {
   "cell_type": "code",
   "execution_count": 471,
   "id": "66fa11ab",
   "metadata": {},
   "outputs": [],
   "source": [
    "# version without rare categories\n",
    "df_robust = df_parents[~df_parents['RareCategoryFlag']].copy()\n",
    "\n",
    "df_robust['id'] = df_robust.index  \n"
   ]
  },
  {
   "cell_type": "markdown",
   "id": "d275b9b2",
   "metadata": {},
   "source": [
    "## Matching"
   ]
  },
  {
   "cell_type": "code",
   "execution_count": 472,
   "id": "256cb108",
   "metadata": {},
   "outputs": [],
   "source": [
    "import pandas as pd\n",
    "import seaborn as sns\n",
    "import scipy.stats as stats\n",
    "from sklearn.neighbors import NearestNeighbors\n",
    "from sklearn.metrics import pairwise_distances\n",
    "import statsmodels.formula.api as smf\n",
    "import numpy as np\n",
    "import matplotlib.pyplot as plt\n",
    "from sklearn.linear_model import LogisticRegression"
   ]
  },
  {
   "cell_type": "markdown",
   "id": "76802839",
   "metadata": {},
   "source": [
    "##### testing Helic' Version"
   ]
  },
  {
   "cell_type": "code",
   "execution_count": 473,
   "id": "e977b934",
   "metadata": {},
   "outputs": [],
   "source": [
    "def smd(t, c):\n",
    "    mean_t = t.mean()\n",
    "    mean_c = c.mean()\n",
    "    std_pooled = ((t.var() + c.var()) / 2) ** 0.5\n",
    "    return (mean_t - mean_c) / std_pooled if std_pooled > 0 else 0"
   ]
  },
  {
   "cell_type": "code",
   "execution_count": 474,
   "id": "fe73496b",
   "metadata": {},
   "outputs": [],
   "source": [
    "def weighted_mean(var, weights):\n",
    "    return (var * weights).sum() / weights.sum()\n",
    "\n",
    "def weighted_smd(t, c, tw, cw):\n",
    "    mean_t = weighted_mean(t, tw)\n",
    "    mean_c = weighted_mean(c, cw)\n",
    "    var_t = np.average((t - mean_t) ** 2, weights=tw)\n",
    "    var_c = np.average((c - mean_c) ** 2, weights=cw)\n",
    "    std_pooled = ((var_t + var_c) / 2) ** 0.5\n",
    "\n",
    "    return (mean_t - mean_c) / std_pooled if std_pooled > 0 else 0"
   ]
  },
  {
   "cell_type": "code",
   "execution_count": 475,
   "id": "cbe8bb44",
   "metadata": {},
   "outputs": [],
   "source": [
    "covariates = ['GenderIdentity', 'AcademicPosition']"
   ]
  },
  {
   "cell_type": "code",
   "execution_count": 477,
   "id": "d71c812b",
   "metadata": {},
   "outputs": [
    {
     "data": {
      "text/html": [
       "<div>\n",
       "<style scoped>\n",
       "    .dataframe tbody tr th:only-of-type {\n",
       "        vertical-align: middle;\n",
       "    }\n",
       "\n",
       "    .dataframe tbody tr th {\n",
       "        vertical-align: top;\n",
       "    }\n",
       "\n",
       "    .dataframe thead th {\n",
       "        text-align: right;\n",
       "    }\n",
       "</style>\n",
       "<table border=\"1\" class=\"dataframe\">\n",
       "  <thead>\n",
       "    <tr style=\"text-align: right;\">\n",
       "      <th>TookLeave</th>\n",
       "      <th>0</th>\n",
       "      <th>1</th>\n",
       "    </tr>\n",
       "  </thead>\n",
       "  <tbody>\n",
       "    <tr>\n",
       "      <th>GenderIdentity_Man</th>\n",
       "      <td>0.715328</td>\n",
       "      <td>0.326960</td>\n",
       "    </tr>\n",
       "    <tr>\n",
       "      <th>GenderIdentity_Woman</th>\n",
       "      <td>0.284672</td>\n",
       "      <td>0.669216</td>\n",
       "    </tr>\n",
       "    <tr>\n",
       "      <th>AcademicPosition_I am a non-tenure-track faculty</th>\n",
       "      <td>0.051095</td>\n",
       "      <td>0.147228</td>\n",
       "    </tr>\n",
       "    <tr>\n",
       "      <th>AcademicPosition_I am a postdoc</th>\n",
       "      <td>0.109489</td>\n",
       "      <td>0.170172</td>\n",
       "    </tr>\n",
       "    <tr>\n",
       "      <th>AcademicPosition_I am a tenure-track faculty</th>\n",
       "      <td>0.065693</td>\n",
       "      <td>0.103250</td>\n",
       "    </tr>\n",
       "    <tr>\n",
       "      <th>AcademicPosition_I am tenured (please, indicate the year you received tenure, e.g., 2010)</th>\n",
       "      <td>0.649635</td>\n",
       "      <td>0.481836</td>\n",
       "    </tr>\n",
       "    <tr>\n",
       "      <th>AcademicPosition_Other (please, specify)</th>\n",
       "      <td>0.124088</td>\n",
       "      <td>0.097514</td>\n",
       "    </tr>\n",
       "  </tbody>\n",
       "</table>\n",
       "</div>"
      ],
      "text/plain": [
       "TookLeave                                                  0         1\n",
       "GenderIdentity_Man                                  0.715328  0.326960\n",
       "GenderIdentity_Woman                                0.284672  0.669216\n",
       "AcademicPosition_I am a non-tenure-track faculty    0.051095  0.147228\n",
       "AcademicPosition_I am a postdoc                     0.109489  0.170172\n",
       "AcademicPosition_I am a tenure-track faculty        0.065693  0.103250\n",
       "AcademicPosition_I am tenured (please, indicate...  0.649635  0.481836\n",
       "AcademicPosition_Other (please, specify)            0.124088  0.097514"
      ]
     },
     "execution_count": 477,
     "metadata": {},
     "output_type": "execute_result"
    }
   ],
   "source": [
    "ids = df_robust['id'].values  \n",
    "\n",
    "\n",
    "X_dummies = pd.get_dummies(df_robust[covariates], drop_first=False)\n",
    "\n",
    "# Add treatment indicator back\n",
    "X_dummies['TookLeave'] = df_robust['TookLeave'].values\n",
    "X_dummies['id'] = ids \n",
    "X_dummies.drop(columns='id').groupby('TookLeave').mean().T"
   ]
  },
  {
   "cell_type": "markdown",
   "id": "ac5dcc15",
   "metadata": {},
   "source": [
    "70% of the control group are men 32.5% of the treated group are men.\n",
    "28% of the control group are women, 67% of the treated group are women.\n",
    "5% of the control group are Non-tenure track faculty, 15% of treated group are Non-tenure track faculty. \n",
    "11% of the contrtol group are Postdoc, 17% of the treated group are Postdoc.\n",
    "6% of the control group are tenure track faculty, 10% of the treated group are tenure track faculty.\n",
    "66% of the control group are tenured, 48% of the treated are tenured.\n",
    "\n"
   ]
  },
  {
   "cell_type": "code",
   "execution_count": 479,
   "id": "a1d11711",
   "metadata": {},
   "outputs": [
    {
     "data": {
      "text/html": [
       "<div>\n",
       "<style scoped>\n",
       "    .dataframe tbody tr th:only-of-type {\n",
       "        vertical-align: middle;\n",
       "    }\n",
       "\n",
       "    .dataframe tbody tr th {\n",
       "        vertical-align: top;\n",
       "    }\n",
       "\n",
       "    .dataframe thead th {\n",
       "        text-align: right;\n",
       "    }\n",
       "</style>\n",
       "<table border=\"1\" class=\"dataframe\">\n",
       "  <thead>\n",
       "    <tr style=\"text-align: right;\">\n",
       "      <th>TookLeave</th>\n",
       "      <th>0</th>\n",
       "      <th>1</th>\n",
       "    </tr>\n",
       "  </thead>\n",
       "  <tbody>\n",
       "    <tr>\n",
       "      <th>GenderIdentity_Man</th>\n",
       "      <td>98</td>\n",
       "      <td>171</td>\n",
       "    </tr>\n",
       "    <tr>\n",
       "      <th>GenderIdentity_Woman</th>\n",
       "      <td>39</td>\n",
       "      <td>350</td>\n",
       "    </tr>\n",
       "    <tr>\n",
       "      <th>AcademicPosition_I am a non-tenure-track faculty</th>\n",
       "      <td>7</td>\n",
       "      <td>77</td>\n",
       "    </tr>\n",
       "    <tr>\n",
       "      <th>AcademicPosition_I am a postdoc</th>\n",
       "      <td>15</td>\n",
       "      <td>89</td>\n",
       "    </tr>\n",
       "    <tr>\n",
       "      <th>AcademicPosition_I am a tenure-track faculty</th>\n",
       "      <td>9</td>\n",
       "      <td>54</td>\n",
       "    </tr>\n",
       "    <tr>\n",
       "      <th>AcademicPosition_I am tenured (please, indicate the year you received tenure, e.g., 2010)</th>\n",
       "      <td>89</td>\n",
       "      <td>252</td>\n",
       "    </tr>\n",
       "    <tr>\n",
       "      <th>AcademicPosition_Other (please, specify)</th>\n",
       "      <td>17</td>\n",
       "      <td>51</td>\n",
       "    </tr>\n",
       "  </tbody>\n",
       "</table>\n",
       "</div>"
      ],
      "text/plain": [
       "TookLeave                                            0    1\n",
       "GenderIdentity_Man                                  98  171\n",
       "GenderIdentity_Woman                                39  350\n",
       "AcademicPosition_I am a non-tenure-track faculty     7   77\n",
       "AcademicPosition_I am a postdoc                     15   89\n",
       "AcademicPosition_I am a tenure-track faculty         9   54\n",
       "AcademicPosition_I am tenured (please, indicate...  89  252\n",
       "AcademicPosition_Other (please, specify)            17   51"
      ]
     },
     "execution_count": 479,
     "metadata": {},
     "output_type": "execute_result"
    }
   ],
   "source": [
    "X_dummies.drop(columns='id').groupby('TookLeave').sum().T\n"
   ]
  },
  {
   "cell_type": "markdown",
   "id": "8f078899",
   "metadata": {},
   "source": [
    "computing Standardized Mean Differences (SMD)  \n",
    "measuring imbalance between the two groups before matching or weighting  \n",
    "\n",
    "Interpreting Standardized Mean Differences (SMD)  \n",
    "\n",
    "< 0.10\t        Excellent balance — negligible difference\n",
    "0.10 – 0.25\t    Moderate imbalance — might affect causal estimates\n",
    "> 0.25\t        Severe imbalance — matching likely failed for this covariate\n"
   ]
  },
  {
   "cell_type": "code",
   "execution_count": 482,
   "id": "8494f66c",
   "metadata": {},
   "outputs": [],
   "source": [
    "covariates = [col for col in X_dummies.columns if col != 'TookLeave' and col != 'id']"
   ]
  },
  {
   "cell_type": "code",
   "execution_count": 483,
   "id": "94725c26",
   "metadata": {},
   "outputs": [
    {
     "name": "stdout",
     "output_type": "stream",
     "text": [
      "GenderIdentity_Man: -0.8419\n",
      "GenderIdentity_Woman: 0.8323\n",
      "AcademicPosition_I am a non-tenure-track faculty: 0.3253\n",
      "AcademicPosition_I am a postdoc: 0.1753\n",
      "AcademicPosition_I am a tenure-track faculty: 0.1351\n",
      "AcademicPosition_I am tenured (please, indicate the year you received tenure, e.g., 2010): -0.3427\n",
      "AcademicPosition_Other (please, specify): -0.0845\n"
     ]
    }
   ],
   "source": [
    "group_a = X_dummies[X_dummies['TookLeave'] == 1]\n",
    "group_b = X_dummies[X_dummies['TookLeave'] == 0]\n",
    "\n",
    "for feature in covariates:\n",
    "    diff = smd(group_a[feature], group_b[feature])\n",
    "    print(f'{feature}: {diff:.4f}')"
   ]
  },
  {
   "cell_type": "markdown",
   "id": "10a78dd8",
   "metadata": {},
   "source": [
    "GenderIdentity_Man\t                                -0.8058\tControl group\tStrong underrepresentation of men in the treatment group  \n",
    "GenderIdentity_Woman\t                             0.8418\tTreatment group\t Strong overrepresentation of women in the treatment group  \n",
    "AcademicPosition_I am tenured\t                    -0.3588\tControl group\tMore tenured researchers in the control group  \n",
    "AcademicPosition_I am a non-tenure-track faculty\t 0.3285\tTreatment group\tMore non-tenure-track researchers in the treatment group  \n",
    "AcademicPosition_I am a postdoc\t                     0.1811\tTreatment group\tSlight overrepresentation of postdocs in the treatment group  \n",
    "AcademicPosition_I am a tenure-track faculty\t     0.1394\tTreatment group\tModerate imbalance, more tenure-track in treatment group  \n",
    "AcademicPosition_Other (please, specify)\t        -0.0713\tControl group"
   ]
  },
  {
   "cell_type": "markdown",
   "id": "22517daa",
   "metadata": {},
   "source": [
    "There is a strong gender imbalance: women are much more likely to take parental leave than men in this dataset.\n",
    "The control group has a disproportionately large share of tenured faculty, while the treatment group includes more non-tenured, non-tenure-track, and postdoc researchers.\n",
    "These imbalances reflect both career stage and gender-based selection into leave-taking.\n",
    "The differences are large enough that proceeding without matching would bias the estimated treatment effect."
   ]
  },
  {
   "cell_type": "markdown",
   "id": "30b5534c",
   "metadata": {},
   "source": [
    "These results confirm the need for propensity score matching or weighting to correct for imbalances in gender and academic position before estimating the effect of parental leave on productivity."
   ]
  },
  {
   "cell_type": "code",
   "execution_count": null,
   "id": "5cf32b02",
   "metadata": {},
   "outputs": [],
   "source": [
    "# create covariate matrix and treatment vector\n",
    "X = X_dummies.drop(columns=['TookLeave', 'id'])     # X: the covariates, i.e., all the features used to predict the treatment.\n",
    "y = X_dummies['TookLeave']                          # y: the treatment indicator, i.e., the column we're trying to model ('TookLeave')."
   ]
  },
  {
   "cell_type": "code",
   "execution_count": 485,
   "id": "41c924d6",
   "metadata": {},
   "outputs": [],
   "source": [
    "# estimate propensity scores \n",
    "ps_model = LogisticRegression(max_iter=1000)\n",
    "ps_model.fit(X, y)\n",
    "X_dummies['propensity_score'] = ps_model.predict_proba(X)[:, 1]\n"
   ]
  },
  {
   "cell_type": "markdown",
   "id": "3efb73e9",
   "metadata": {},
   "source": [
    "Logit Regression fits a model estimating the probability of treatment (TookLeave = 1) as a function of covariates. Predict_proba(X)[:,1] gives the propensity score; the probability of being in the treated group, for each observation.\n",
    "The propensity score is the probability that a person receives the treatment (e.g. took parental leave) given their observed characteristics (like gender and academic position). The logistic regression looks at patterns in my covariates (gender and academic position) and learns how likely someone is to have taken parental leave — based purely on those characteristics.\n",
    "Both covariates are included simultaneously in the logistic regression, but:\n",
    "They’re not treated “equally” in importance, because the model learns weights for each one based on how predictive it is. So both covariates contribute, but their influence on the score depends on how strongly they help explain the treatment decision in the data."
   ]
  },
  {
   "cell_type": "markdown",
   "id": "f922ce08",
   "metadata": {},
   "source": [
    "The output of the logistic regression is the propensity score:\n",
    "Each person gets a number between 0 and 1, representing how likely they were to take leave based on their covariates."
   ]
  },
  {
   "cell_type": "markdown",
   "id": "45e1c4ee",
   "metadata": {},
   "source": [
    "## Matching with Replacement"
   ]
  },
  {
   "cell_type": "markdown",
   "id": "8630df8a",
   "metadata": {},
   "source": [
    "Now we pair each treated person (someone who took leave) with a control person (someone who didn’t), based on having similar propensity scores. Due to imbalance of treated and controk group I am reusing the same control person multiple times if they're the best match for several treated people."
   ]
  },
  {
   "cell_type": "code",
   "execution_count": 486,
   "id": "94e22f24",
   "metadata": {},
   "outputs": [],
   "source": [
    "treated = X_dummies[X_dummies['TookLeave'] == 1].copy()\n",
    "control = X_dummies[X_dummies['TookLeave'] == 0].copy()\n",
    "\n",
    "# Fit nearest neighbor matcher on propensity scores of controls\n",
    "nn = NearestNeighbors(n_neighbors=1)\n",
    "nn.fit(control[['propensity_score']])\n",
    "\n",
    "# Find nearest control for each treated person\n",
    "distances, indices = nn.kneighbors(treated[['propensity_score']])\n",
    "\n",
    "# Fetch matched controls (with replacement)\n",
    "matched_control = control.iloc[indices.flatten()].copy()\n",
    "matched_control['match_id'] = treated['id'].values\n",
    "treated['match_id'] = treated['id'].values\n",
    "\n",
    "# Combine into one matched DataFrame\n",
    "matched_df = pd.concat([treated, matched_control], axis=0).reset_index(drop=True)"
   ]
  },
  {
   "cell_type": "markdown",
   "id": "0e9060fc",
   "metadata": {},
   "source": [
    "Verifying that the matched treated and control groups are now similar in terms of covariates."
   ]
  },
  {
   "cell_type": "code",
   "execution_count": 487,
   "id": "cd074e6f",
   "metadata": {},
   "outputs": [],
   "source": [
    "features = [col for col in X_dummies.columns if col not in ['TookLeave', 'propensity_score', 'id']]"
   ]
  },
  {
   "cell_type": "code",
   "execution_count": 488,
   "id": "c0fa48fb",
   "metadata": {},
   "outputs": [
    {
     "name": "stdout",
     "output_type": "stream",
     "text": [
      "GenderIdentity_Man: -0.0081\n",
      "GenderIdentity_Woman: 0.0000\n",
      "AcademicPosition_I am a non-tenure-track faculty: -0.0107\n",
      "AcademicPosition_I am a postdoc: 0.0000\n",
      "AcademicPosition_I am a tenure-track faculty: 0.0000\n",
      "AcademicPosition_I am tenured (please, indicate the year you received tenure, e.g., 2010): 0.0076\n",
      "AcademicPosition_Other (please, specify): 0.0000\n"
     ]
    }
   ],
   "source": [
    "matched_treated = matched_df[matched_df['TookLeave'] == 1]\n",
    "matched_control = matched_df[matched_df['TookLeave'] == 0]\n",
    "\n",
    "for feature in features:  # your list of covariates\n",
    "    smd_val = smd(matched_treated[feature], matched_control[feature])\n",
    "    print(f'{feature}: {smd_val:.4f}')\n"
   ]
  },
  {
   "cell_type": "markdown",
   "id": "d6e93aeb",
   "metadata": {},
   "source": [
    "All SMDs are well below 0.10 now. Many are zero or near-zero indicating matched treated and control greoups are very similar in terms of gender and academic position. "
   ]
  },
  {
   "cell_type": "markdown",
   "id": "9bbc33a8",
   "metadata": {},
   "source": [
    "### Computing Average Treatment effect on Treated (ATT)"
   ]
  },
  {
   "cell_type": "markdown",
   "id": "fba4ccbb",
   "metadata": {},
   "source": [
    "I am doing this using the matched dataset. It will tell us: How much productivity (publications) changes, on average, for those who took parental leave — compared to matched individuals who didn’t."
   ]
  },
  {
   "cell_type": "code",
   "execution_count": null,
   "id": "3a73a9e6",
   "metadata": {},
   "outputs": [
    {
     "name": "stderr",
     "output_type": "stream",
     "text": [
      "/var/folders/4n/x6xrnlyj6nngzc77qzc7h4f40000gn/T/ipykernel_1170/2918381736.py:1: SettingWithCopyWarning: \n",
      "A value is trying to be set on a copy of a slice from a DataFrame.\n",
      "Try using .loc[row_indexer,col_indexer] = value instead\n",
      "\n",
      "See the caveats in the documentation: https://pandas.pydata.org/pandas-docs/stable/user_guide/indexing.html#returning-a-view-versus-a-copy\n",
      "  matched_control['NumPublications'] = matched_control['id'].map(df_robust.set_index('id')['NumPublications'])\n"
     ]
    }
   ],
   "source": [
    "matched_control['NumPublications'] = matched_control['id'].map(df_robust.set_index('id')['NumPublications'])\n",
    "treated['NumPublications'] = treated['id'].map(df_robust.set_index('id')['NumPublications'])\n",
    "matched_df = pd.concat([treated, matched_control], axis=0).reset_index(drop=True)"
   ]
  },
  {
   "cell_type": "code",
   "execution_count": 490,
   "id": "cfe975d5",
   "metadata": {},
   "outputs": [
    {
     "name": "stdout",
     "output_type": "stream",
     "text": [
      "ATT (Effect of Taking Leave on Publications): -14.49 publications\n"
     ]
    }
   ],
   "source": [
    "treated_prod = matched_df[matched_df['TookLeave'] == 1]['NumPublications']\n",
    "control_prod = matched_df[matched_df['TookLeave'] == 0]['NumPublications']\n",
    "\n",
    "att = treated_prod.mean() - control_prod.mean()\n",
    "print(f\"ATT (Effect of Taking Leave on Publications): {att:.2f} publications\")\n"
   ]
  },
  {
   "cell_type": "markdown",
   "id": "2000a030",
   "metadata": {},
   "source": [
    "The result indicates that those who took leave published about 14.5 fewer papers on average.\n",
    "That difference is not due to gender or job title — it's the effect of the leave itself, at least this is what I am trying to reduce, close the backdoor path influences. If two people are similar in their gender and academic rank, but one took leave and the other didn’t, any difference in their publication count is more likely to reflect the causal effect of leave, not background factors."
   ]
  },
  {
   "cell_type": "code",
   "execution_count": 491,
   "id": "8f27315e",
   "metadata": {},
   "outputs": [
    {
     "data": {
      "text/html": [
       "<div>\n",
       "<style scoped>\n",
       "    .dataframe tbody tr th:only-of-type {\n",
       "        vertical-align: middle;\n",
       "    }\n",
       "\n",
       "    .dataframe tbody tr th {\n",
       "        vertical-align: top;\n",
       "    }\n",
       "\n",
       "    .dataframe thead th {\n",
       "        text-align: right;\n",
       "    }\n",
       "</style>\n",
       "<table border=\"1\" class=\"dataframe\">\n",
       "  <thead>\n",
       "    <tr style=\"text-align: right;\">\n",
       "      <th></th>\n",
       "      <th>count</th>\n",
       "      <th>mean</th>\n",
       "      <th>std</th>\n",
       "      <th>min</th>\n",
       "      <th>25%</th>\n",
       "      <th>50%</th>\n",
       "      <th>75%</th>\n",
       "      <th>max</th>\n",
       "    </tr>\n",
       "    <tr>\n",
       "      <th>TookLeave</th>\n",
       "      <th></th>\n",
       "      <th></th>\n",
       "      <th></th>\n",
       "      <th></th>\n",
       "      <th></th>\n",
       "      <th></th>\n",
       "      <th></th>\n",
       "      <th></th>\n",
       "    </tr>\n",
       "  </thead>\n",
       "  <tbody>\n",
       "    <tr>\n",
       "      <th>0</th>\n",
       "      <td>523.0</td>\n",
       "      <td>68.420650</td>\n",
       "      <td>78.355847</td>\n",
       "      <td>13.0</td>\n",
       "      <td>25.0</td>\n",
       "      <td>35.0</td>\n",
       "      <td>50.0</td>\n",
       "      <td>300.0</td>\n",
       "    </tr>\n",
       "    <tr>\n",
       "      <th>1</th>\n",
       "      <td>523.0</td>\n",
       "      <td>53.933843</td>\n",
       "      <td>86.072073</td>\n",
       "      <td>0.4</td>\n",
       "      <td>17.0</td>\n",
       "      <td>30.0</td>\n",
       "      <td>59.5</td>\n",
       "      <td>1264.0</td>\n",
       "    </tr>\n",
       "  </tbody>\n",
       "</table>\n",
       "</div>"
      ],
      "text/plain": [
       "           count       mean        std   min   25%   50%   75%     max\n",
       "TookLeave                                                             \n",
       "0          523.0  68.420650  78.355847  13.0  25.0  35.0  50.0   300.0\n",
       "1          523.0  53.933843  86.072073   0.4  17.0  30.0  59.5  1264.0"
      ]
     },
     "execution_count": 491,
     "metadata": {},
     "output_type": "execute_result"
    }
   ],
   "source": [
    "matched_df.groupby('TookLeave')['NumPublications'].describe()\n"
   ]
  },
  {
   "cell_type": "markdown",
   "id": "011e27cb",
   "metadata": {},
   "source": [
    "### Plot dist of pub counts"
   ]
  },
  {
   "cell_type": "code",
   "execution_count": 507,
   "id": "3b151077",
   "metadata": {},
   "outputs": [
    {
     "data": {
      "image/png": "[encoded data removed]",
      "text/plain": [
       "<Figure size 1000x600 with 1 Axes>"
      ]
     },
     "metadata": {},
     "output_type": "display_data"
    }
   ],
   "source": [
    "import matplotlib.pyplot as plt\n",
    "\n",
    "plt.figure(figsize=(10, 6))\n",
    "sns.kdeplot(data=matched_df, x='NumPublications', hue='TookLeave', fill=True, common_norm=False)\n",
    "plt.title('Distribution of Publications: Treated vs Control')\n",
    "plt.xlabel('Number of Publications')\n",
    "plt.ylabel('Density')\n",
    "plt.xticks(rotation=45)\n",
    "plt.legend(title='Took Leave', labels=['No', 'Yes'])\n",
    "plt.grid(True)\n",
    "plt.tight_layout()\n",
    "plt.show()\n"
   ]
  },
  {
   "cell_type": "markdown",
   "id": "793c31e1",
   "metadata": {},
   "source": [
    "Shows how publication counts are distributed for treated vs. control groups.\n",
    "Treated curve (leave takers) is shifted left, suggesting fewer publications.\n",
    "Some high-publication outliers (long tail) are visible in the control group."
   ]
  },
  {
   "cell_type": "markdown",
   "id": "fc42b391",
   "metadata": {},
   "source": [
    "Heterogeneity by gender & academic rank"
   ]
  },
  {
   "cell_type": "code",
   "execution_count": 497,
   "id": "0c1559d6",
   "metadata": {},
   "outputs": [],
   "source": [
    "matched_df = matched_df.merge(df_robust[['id', 'GenderIdentity', 'AcademicPosition']], on='id', how='left')\n"
   ]
  },
  {
   "cell_type": "code",
   "execution_count": 502,
   "id": "d2875d82",
   "metadata": {},
   "outputs": [
    {
     "data": {
      "image/png": "[encoded data removed]",
      "text/plain": [
       "<Figure size 700x400 with 1 Axes>"
      ]
     },
     "metadata": {},
     "output_type": "display_data"
    },
    {
     "data": {
      "image/png": "[encoded data removed]",
      "text/plain": [
       "<Figure size 700x400 with 1 Axes>"
      ]
     },
     "metadata": {},
     "output_type": "display_data"
    }
   ],
   "source": [
    "for group in ['GenderIdentity', 'AcademicPosition']:\n",
    "    subgroup_means = (\n",
    "        matched_df.groupby(['TookLeave', group])['NumPublications']\n",
    "        .mean()\n",
    "        .unstack(0)\n",
    "        .dropna()\n",
    "    )\n",
    "    att = subgroup_means[1] - subgroup_means[0]\n",
    "    att.plot(kind='barh', color='#909580', title=f'ATT by {group}', figsize=(7, 4))\n",
    "    plt.axvline(0, color='grey', linestyle='--')\n",
    "    plt.tight_layout()\n",
    "    plt.show()\n",
    "\n"
   ]
  },
  {
   "cell_type": "markdown",
   "id": "80ede870",
   "metadata": {},
   "source": [
    "Shows difference in means (treated - control) within each subgroup.\n",
    "Useful for visualizing heterogeneity in treatment effects."
   ]
  },
  {
   "cell_type": "markdown",
   "id": "7b23b303",
   "metadata": {},
   "source": [
    "#### ATT by GenderIdentity  \n",
    "\n",
    "Women who took leave published ~25 fewer papers on average than similar women who didn’t.\n",
    "Men who took leave show a small positive ATT — they may have published slightly more than matched men who didn’t take leave (though you’d want to check sample size; might be noisy).\n",
    "This suggests that leave has a much more negative effect on women’s productivity than men’s — possibly due to unequal caregiving roles, time off, or reentry support."
   ]
  },
  {
   "cell_type": "markdown",
   "id": "86f8af3f",
   "metadata": {},
   "source": [
    "#### ATT by AcademicPosition  \n",
    "\n",
    "The effect of leave is most negative for tenure-track faculty and “Other” (which could be precarious or undefined roles).\n",
    "For tenured faculty, the penalty is smaller — they may have more buffer to absorb leave.\n",
    "Postdocs and non-tenure-track faculty show varied effects — still negative but not uniformly large."
   ]
  },
  {
   "cell_type": "code",
   "execution_count": 508,
   "id": "89c87de1",
   "metadata": {},
   "outputs": [
    {
     "data": {
      "image/png": "[encoded data removed]",
      "text/plain": [
       "<Figure size 900x500 with 1 Axes>"
      ]
     },
     "metadata": {},
     "output_type": "display_data"
    },
    {
     "data": {
      "image/png": "[encoded data removed]",
      "text/plain": [
       "<Figure size 900x500 with 1 Axes>"
      ]
     },
     "metadata": {},
     "output_type": "display_data"
    }
   ],
   "source": [
    "import seaborn as sns\n",
    "import matplotlib.pyplot as plt\n",
    "\n",
    "custom_palette = {\n",
    "    'Treated': '#ADD8E6',\n",
    "    'Control': '#f4cb9f'\n",
    "}\n",
    "\n",
    "for group in ['GenderIdentity', 'AcademicPosition']:\n",
    "    avg_prod = (\n",
    "        matched_df.groupby([group, 'TookLeave'])['NumPublications']\n",
    "        .mean()\n",
    "        .reset_index()\n",
    "    )\n",
    "    \n",
    "    # Convert TookLeave to label for clarity\n",
    "    avg_prod['LeaveStatus'] = avg_prod['TookLeave'].map({0: 'Control', 1: 'Treated'})\n",
    "\n",
    "    plt.figure(figsize=(9, 5))\n",
    "    sns.barplot(\n",
    "        data=avg_prod,\n",
    "        x='NumPublications',\n",
    "        y=group,\n",
    "        hue='LeaveStatus',\n",
    "        palette=custom_palette\n",
    "    )\n",
    "    plt.title(f'Productivity by {group} and Leave Status')\n",
    "    plt.xlabel('Average Number of Publications')\n",
    "    plt.tight_layout()\n",
    "    plt.axvline(0, color='grey', linestyle='--')\n",
    "    plt.show()\n"
   ]
  },
  {
   "cell_type": "markdown",
   "id": "54e884f3",
   "metadata": {},
   "source": [
    "Shows groupwise means for treated vs. control, side by side.\n",
    "Same data source as above, but the focus is on the magnitude of productivity, not just the difference."
   ]
  },
  {
   "cell_type": "markdown",
   "id": "e23996c0",
   "metadata": {},
   "source": [
    "### Bootstrap"
   ]
  },
  {
   "cell_type": "markdown",
   "id": "579e0765",
   "metadata": {},
   "source": [
    "Let's Bootstrap the ATT, this will give me a confidence interval, telling me sth about the stability of my estimate."
   ]
  },
  {
   "cell_type": "code",
   "execution_count": 512,
   "id": "f408867b",
   "metadata": {},
   "outputs": [
    {
     "name": "stdout",
     "output_type": "stream",
     "text": [
      "Bootstrapped ATT: -14.65 publications\n",
      "Bootstrapped ATT 95% CI: [-24.09, -4.74]\n"
     ]
    }
   ],
   "source": [
    "n_iterations = 1000\n",
    "att_samples = []\n",
    "\n",
    "for _ in range(n_iterations):\n",
    "    # Sample with replacement from matched_df\n",
    "    boot_sample = matched_df.sample(n=len(matched_df), replace=True)\n",
    "\n",
    "    treated = boot_sample[boot_sample['TookLeave'] == 1]['NumPublications']\n",
    "    control = boot_sample[boot_sample['TookLeave'] == 0]['NumPublications']\n",
    "\n",
    "    att_boot = treated.mean() - control.mean()\n",
    "    att_samples.append(att_boot)\n",
    "\n",
    "# Compute 95% CI\n",
    "mean_att = np.mean(att_samples)\n",
    "lower, upper = np.percentile(att_samples, [2.5, 97.5])\n",
    "print(f\"Bootstrapped ATT: {mean_att:.2f} publications\")\n",
    "print(f\"Bootstrapped ATT 95% CI: [{lower:.2f}, {upper:.2f}]\")"
   ]
  },
  {
   "cell_type": "markdown",
   "id": "276575b3",
   "metadata": {},
   "source": [
    "Mean ATT ≈ –14.65\n",
    "This means those who took parental leave published about 14 fewer papers on average than their matched counterparts who didn’t take leave."
   ]
  },
  {
   "cell_type": "code",
   "execution_count": 513,
   "id": "dfa5fc4d",
   "metadata": {},
   "outputs": [
    {
     "data": {
      "image/png": "[encoded data removed]",
      "text/plain": [
       "<Figure size 640x480 with 1 Axes>"
      ]
     },
     "metadata": {},
     "output_type": "display_data"
    }
   ],
   "source": [
    "plt.hist(att_samples, bins=30, color='#ADD8E6', edgecolor='black')\n",
    "plt.axvline(x=np.mean(att_samples), color='red', linestyle='--', label='Mean ATT')\n",
    "plt.axvline(x=lower, color='grey', linestyle='--', label='95% CI')\n",
    "plt.axvline(x=upper, color='grey', linestyle='--')\n",
    "plt.title('Bootstrap Distribution of ATT')\n",
    "plt.xlabel('ATT (Publications)')\n",
    "plt.ylabel('Frequency')\n",
    "plt.legend()\n",
    "plt.tight_layout()\n",
    "plt.show()"
   ]
  },
  {
   "cell_type": "code",
   "execution_count": 514,
   "id": "47a7dc6d",
   "metadata": {},
   "outputs": [
    {
     "name": "stdout",
     "output_type": "stream",
     "text": [
      "Bootstrapped ATT: -14.47 publications\n",
      "Bootstrapped ATT 95% CI: [-24.05, -4.31]\n"
     ]
    }
   ],
   "source": [
    "n_iterations = 50000\n",
    "att_samples = []\n",
    "\n",
    "for _ in range(n_iterations):\n",
    "    # Sample with replacement from matched_df\n",
    "    boot_sample = matched_df.sample(n=len(matched_df), replace=True)\n",
    "\n",
    "    treated = boot_sample[boot_sample['TookLeave'] == 1]['NumPublications']\n",
    "    control = boot_sample[boot_sample['TookLeave'] == 0]['NumPublications']\n",
    "\n",
    "    att_boot = treated.mean() - control.mean()\n",
    "    att_samples.append(att_boot)\n",
    "\n",
    "# Compute 95% CI\n",
    "mean_att = np.mean(att_samples)\n",
    "lower, upper = np.percentile(att_samples, [2.5, 97.5])\n",
    "print(f\"Bootstrapped ATT: {mean_att:.2f} publications\")\n",
    "print(f\"Bootstrapped ATT 95% CI: [{lower:.2f}, {upper:.2f}]\")"
   ]
  },
  {
   "cell_type": "code",
   "execution_count": 515,
   "id": "ccec4be9",
   "metadata": {},
   "outputs": [
    {
     "name": "stdout",
     "output_type": "stream",
     "text": [
      "Bootstrap-based p-value: 0.0064\n"
     ]
    }
   ],
   "source": [
    "p_val = np.mean(np.array(att_samples) >= 0)\n",
    "p_val = min(p_val, 1 - p_val) * 2  # two-sided\n",
    "\n",
    "print(f\"Bootstrap-based p-value: {p_val:.4f}\")\n"
   ]
  },
  {
   "cell_type": "markdown",
   "id": "f3c30bc5",
   "metadata": {},
   "source": [
    "Mean ATT: –14.47\n",
    "→ On average, faculty who took parental leave published ~14.5 fewer papers than matched peers who did not take leave.\n",
    "95% Confidence Interval: [–24.05, –4.31]\n",
    "→ We are 95% confident that the true effect lies between a reduction of 24 and 4 publications.\n",
    "→ Zero is not in this range → this effect is statistically significant.\n",
    "Bootstrap-based p-value: 0.0064\n",
    "→ This is less than 0.01, meaning the result is significant at the 1% level.\n",
    "→ It’s unlikely (less than 1% chance) that such a large difference occurred due to random sampling variation, if the true effect were zero."
   ]
  },
  {
   "cell_type": "markdown",
   "id": "b2821406",
   "metadata": {},
   "source": [
    "Stratified Bootstrap by gender and position\n",
    "\n",
    "This helps assess whether the effect of parental leave is stronger for certain subgroups — e.g., more negative for tenure-track women."
   ]
  },
  {
   "cell_type": "code",
   "execution_count": 516,
   "id": "be8a1874",
   "metadata": {},
   "outputs": [
    {
     "name": "stdout",
     "output_type": "stream",
     "text": [
      "\n",
      "Stratified bootstrap ATT by GenderIdentity\n",
      "  Man: ATT = 4.28, 95% CI = [-17.86, 28.30], p = 0.7348\n",
      "  Woman: ATT = -24.05, 95% CI = [-33.42, -14.75], p = 0.0000\n",
      "\n",
      "Stratified bootstrap ATT by AcademicPosition\n",
      "  I am tenured (please, indicate the year you received tenure, e.g., 2010): ATT = 34.23, 95% CI = [24.54, 44.59], p = 0.0000\n",
      "  I am a postdoc: ATT = 6.41, 95% CI = [-4.47, 23.44], p = 0.4340\n",
      "  I am a non-tenure-track faculty: ATT = -47.69, 95% CI = [-85.73, -2.46], p = 0.0388\n",
      "  I am a tenure-track faculty: ATT = -127.02, 95% CI = [-148.10, -105.43], p = 0.0000\n",
      "  Other (please, specify): ATT = -121.10, 95% CI = [-148.96, -92.26], p = 0.0000\n"
     ]
    }
   ],
   "source": [
    "# Define subgroups to stratify by\n",
    "subgroups = ['GenderIdentity', 'AcademicPosition']\n",
    "n_iterations = 5000  # Use fewer iterations for speed (adjust as needed)\n",
    "\n",
    "for group in subgroups:\n",
    "    print(f\"\\nStratified bootstrap ATT by {group}\")\n",
    "    for level in matched_df[group].dropna().unique():\n",
    "        subgroup_df = matched_df[matched_df[group] == level]\n",
    "\n",
    "        if subgroup_df['TookLeave'].nunique() < 2:\n",
    "            print(f\"  Skipping {level}: not enough variation in treatment.\")\n",
    "            continue\n",
    "\n",
    "        att_samples = []\n",
    "        for _ in range(n_iterations):\n",
    "            boot_sample = subgroup_df.sample(n=len(subgroup_df), replace=True)\n",
    "            treated = boot_sample[boot_sample['TookLeave'] == 1]['NumPublications']\n",
    "            control = boot_sample[boot_sample['TookLeave'] == 0]['NumPublications']\n",
    "            att_boot = treated.mean() - control.mean()\n",
    "            att_samples.append(att_boot)\n",
    "\n",
    "        mean_att = np.mean(att_samples)\n",
    "        lower, upper = np.percentile(att_samples, [2.5, 97.5])\n",
    "        p_val = np.mean(np.array(att_samples) >= 0)\n",
    "        p_val = min(p_val, 1 - p_val) * 2\n",
    "\n",
    "        print(f\"  {level}: ATT = {mean_att:.2f}, 95% CI = [{lower:.2f}, {upper:.2f}], p = {p_val:.4f}\")\n"
   ]
  },
  {
   "cell_type": "markdown",
   "id": "df58f0da",
   "metadata": {},
   "source": [
    "men:    No significant effect. Wide CI includes 0 → we can't reject the null. For men, leave does not appear to reduce productivity on average. Strong, statistically significant negative effect. \n",
    "\n",
    "women:  Women who took leave published ~24 fewer papers on average than matched women who didn’t.  \n",
    "\n",
    "Conclusion: \n",
    "\n",
    "The negative effect is concentrated entirely among women. F\n",
    "or men, the distribution overlaps with zero — there’s no significant penalty."
   ]
  },
  {
   "cell_type": "markdown",
   "id": "510dd34b",
   "metadata": {},
   "source": [
    "tenured:            Surprising: Leave is associated with higher productivity — possibly reverse causality (e.g., highly productive scholars more likely to take leave and bounce back)\n",
    "postdoc:            Not statistically significant.\n",
    "non-tenure-track:   Moderately strong negative effect.\n",
    "tenure track:       Extremely strong and significant productivity loss. Possibly due to the career-critical stage.\n",
    "Other:              Also severely impacted, though group composition may be heterogeneous.\n",
    "\n",
    "Conclusion:     \n",
    "\n",
    "Tenure-track faculty are hit hardest by leave (~127 publications lost).  \n",
    "Tenured faculty see no harm — perhaps even benefits.  \n",
    "Postdocs and others show varied results, some borderline or not significant."
   ]
  }
 ],
 "metadata": {
  "kernelspec": {
   "display_name": "parenthood",
   "language": "python",
   "name": "python3"
  },
  "language_info": {
   "codemirror_mode": {
    "name": "ipython",
    "version": 3
   },
   "file_extension": ".py",
   "mimetype": "text/x-python",
   "name": "python",
   "nbconvert_exporter": "python",
   "pygments_lexer": "ipython3",
   "version": "3.13.2"
  }
 },
 "nbformat": 4,
 "nbformat_minor": 5
}
