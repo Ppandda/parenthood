{
 "cells": [
  {
   "cell_type": "markdown",
   "metadata": {},
   "source": [
    "## Exploratory Data Analysis \n",
    "\n",
    "On European Data of Parenthood in Academia\n"
   ]
  },
  {
   "cell_type": "code",
   "execution_count": null,
   "metadata": {},
   "outputs": [],
   "source": [
    "file_path1 = \"Parenthood in Academia_November 7, 2024_15.52.xlsx\"       # encoded excel file\n",
    "file_path2 = \"Parenthood in Academia_November 26, 2024_08.26.xlsx\"\n"
   ]
  },
  {
   "cell_type": "code",
   "execution_count": 3,
   "metadata": {},
   "outputs": [
    {
     "name": "stderr",
     "output_type": "stream",
     "text": [
      "/Users/Paula_1/opt/anaconda3/envs/parenthood/lib/python3.13/site-packages/openpyxl/styles/stylesheet.py:237: UserWarning: Workbook contains no default style, apply openpyxl's default\n",
      "  warn(\"Workbook contains no default style, apply openpyxl's default\")\n",
      "/Users/Paula_1/opt/anaconda3/envs/parenthood/lib/python3.13/site-packages/openpyxl/styles/stylesheet.py:237: UserWarning: Workbook contains no default style, apply openpyxl's default\n",
      "  warn(\"Workbook contains no default style, apply openpyxl's default\")\n"
     ]
    },
    {
     "name": "stdout",
     "output_type": "stream",
     "text": [
      "First rows of df1:\n",
      "Number of rows: 10072\n",
      "Number of columns: 317\n"
     ]
    },
    {
     "data": {
      "text/html": [
       "<div>\n",
       "<style scoped>\n",
       "    .dataframe tbody tr th:only-of-type {\n",
       "        vertical-align: middle;\n",
       "    }\n",
       "\n",
       "    .dataframe tbody tr th {\n",
       "        vertical-align: top;\n",
       "    }\n",
       "\n",
       "    .dataframe thead th {\n",
       "        text-align: right;\n",
       "    }\n",
       "</style>\n",
       "<table border=\"1\" class=\"dataframe\">\n",
       "  <thead>\n",
       "    <tr style=\"text-align: right;\">\n",
       "      <th></th>\n",
       "      <th>StartDate</th>\n",
       "      <th>EndDate</th>\n",
       "      <th>Status</th>\n",
       "      <th>Progress</th>\n",
       "      <th>Duration (in seconds)</th>\n",
       "      <th>Finished</th>\n",
       "      <th>RecordedDate</th>\n",
       "      <th>ResponseId</th>\n",
       "      <th>DistributionChannel</th>\n",
       "      <th>UserLanguage</th>\n",
       "      <th>...</th>\n",
       "      <th>LA2</th>\n",
       "      <th>LA3</th>\n",
       "      <th>LA4a</th>\n",
       "      <th>LA4b</th>\n",
       "      <th>C1</th>\n",
       "      <th>C1_3_TEXT</th>\n",
       "      <th>C1_4_TEXT</th>\n",
       "      <th>C1_5_TEXT</th>\n",
       "      <th>C2</th>\n",
       "      <th>gender</th>\n",
       "    </tr>\n",
       "  </thead>\n",
       "  <tbody>\n",
       "    <tr>\n",
       "      <th>0</th>\n",
       "      <td>Start Date</td>\n",
       "      <td>End Date</td>\n",
       "      <td>Response Type</td>\n",
       "      <td>Progress</td>\n",
       "      <td>Duration (in seconds)</td>\n",
       "      <td>Finished</td>\n",
       "      <td>Recorded Date</td>\n",
       "      <td>Response ID</td>\n",
       "      <td>Distribution Channel</td>\n",
       "      <td>User Language</td>\n",
       "      <td>...</td>\n",
       "      <td>How would you estimate the percentage of women...</td>\n",
       "      <td>Have you considered leaving academia?</td>\n",
       "      <td>Please briefly elaborate on your reasons for c...</td>\n",
       "      <td>Please briefly elaborate on your reasons for l...</td>\n",
       "      <td>How did you hear about this survey? - Selected...</td>\n",
       "      <td>How did you hear about this survey? - Social m...</td>\n",
       "      <td>How did you hear about this survey? - Mailing ...</td>\n",
       "      <td>How did you hear about this survey? - Other (p...</td>\n",
       "      <td>Do you have any other comments related to this...</td>\n",
       "      <td>gender</td>\n",
       "    </tr>\n",
       "    <tr>\n",
       "      <th>1</th>\n",
       "      <td>2024-03-25 15:45:50</td>\n",
       "      <td>2024-03-25 15:58:19</td>\n",
       "      <td>0</td>\n",
       "      <td>100</td>\n",
       "      <td>748</td>\n",
       "      <td>1</td>\n",
       "      <td>2024-03-25 15:58:20.398000</td>\n",
       "      <td>R_2jpMi7QsRScengv</td>\n",
       "      <td>email</td>\n",
       "      <td>EN</td>\n",
       "      <td>...</td>\n",
       "      <td>NaN</td>\n",
       "      <td>NaN</td>\n",
       "      <td>NaN</td>\n",
       "      <td>NaN</td>\n",
       "      <td>NaN</td>\n",
       "      <td>NaN</td>\n",
       "      <td>NaN</td>\n",
       "      <td>NaN</td>\n",
       "      <td>NaN</td>\n",
       "      <td>Woman</td>\n",
       "    </tr>\n",
       "    <tr>\n",
       "      <th>2</th>\n",
       "      <td>2024-03-26 17:00:29</td>\n",
       "      <td>2024-03-26 17:17:43</td>\n",
       "      <td>0</td>\n",
       "      <td>100</td>\n",
       "      <td>1034</td>\n",
       "      <td>1</td>\n",
       "      <td>2024-03-26 17:17:44.908000</td>\n",
       "      <td>R_4ScOupmxBzBk7dL</td>\n",
       "      <td>email</td>\n",
       "      <td>EN</td>\n",
       "      <td>...</td>\n",
       "      <td>NaN</td>\n",
       "      <td>NaN</td>\n",
       "      <td>NaN</td>\n",
       "      <td>NaN</td>\n",
       "      <td>1</td>\n",
       "      <td>NaN</td>\n",
       "      <td>NaN</td>\n",
       "      <td>NaN</td>\n",
       "      <td>NaN</td>\n",
       "      <td>Man</td>\n",
       "    </tr>\n",
       "    <tr>\n",
       "      <th>3</th>\n",
       "      <td>2024-03-29 16:09:27</td>\n",
       "      <td>2024-03-29 16:39:04</td>\n",
       "      <td>0</td>\n",
       "      <td>100</td>\n",
       "      <td>1777</td>\n",
       "      <td>1</td>\n",
       "      <td>2024-03-29 16:39:07.534000</td>\n",
       "      <td>R_77h3lBm8zYTS5a1</td>\n",
       "      <td>email</td>\n",
       "      <td>EN</td>\n",
       "      <td>...</td>\n",
       "      <td>3</td>\n",
       "      <td>3</td>\n",
       "      <td>The path demands significant sacrifices, espec...</td>\n",
       "      <td>NaN</td>\n",
       "      <td>1</td>\n",
       "      <td>NaN</td>\n",
       "      <td>NaN</td>\n",
       "      <td>NaN</td>\n",
       "      <td>The questions about # of papers expected or pr...</td>\n",
       "      <td>Woman</td>\n",
       "    </tr>\n",
       "    <tr>\n",
       "      <th>4</th>\n",
       "      <td>2024-04-16 12:45:38</td>\n",
       "      <td>2024-04-16 12:55:21</td>\n",
       "      <td>0</td>\n",
       "      <td>100</td>\n",
       "      <td>583</td>\n",
       "      <td>1</td>\n",
       "      <td>2024-04-16 12:55:22.733000</td>\n",
       "      <td>R_2V4kjf4gOQNH6EL</td>\n",
       "      <td>anonymous</td>\n",
       "      <td>EN</td>\n",
       "      <td>...</td>\n",
       "      <td>4</td>\n",
       "      <td>4</td>\n",
       "      <td>NaN</td>\n",
       "      <td>NaN</td>\n",
       "      <td>1</td>\n",
       "      <td>NaN</td>\n",
       "      <td>NaN</td>\n",
       "      <td>NaN</td>\n",
       "      <td>NaN</td>\n",
       "      <td>Woman</td>\n",
       "    </tr>\n",
       "  </tbody>\n",
       "</table>\n",
       "<p>5 rows × 317 columns</p>\n",
       "</div>"
      ],
      "text/plain": [
       "             StartDate              EndDate         Status  Progress  \\\n",
       "0           Start Date             End Date  Response Type  Progress   \n",
       "1  2024-03-25 15:45:50  2024-03-25 15:58:19              0       100   \n",
       "2  2024-03-26 17:00:29  2024-03-26 17:17:43              0       100   \n",
       "3  2024-03-29 16:09:27  2024-03-29 16:39:04              0       100   \n",
       "4  2024-04-16 12:45:38  2024-04-16 12:55:21              0       100   \n",
       "\n",
       "   Duration (in seconds)  Finished                RecordedDate  \\\n",
       "0  Duration (in seconds)  Finished               Recorded Date   \n",
       "1                    748         1  2024-03-25 15:58:20.398000   \n",
       "2                   1034         1  2024-03-26 17:17:44.908000   \n",
       "3                   1777         1  2024-03-29 16:39:07.534000   \n",
       "4                    583         1  2024-04-16 12:55:22.733000   \n",
       "\n",
       "          ResponseId   DistributionChannel   UserLanguage  ...  \\\n",
       "0        Response ID  Distribution Channel  User Language  ...   \n",
       "1  R_2jpMi7QsRScengv                 email             EN  ...   \n",
       "2  R_4ScOupmxBzBk7dL                 email             EN  ...   \n",
       "3  R_77h3lBm8zYTS5a1                 email             EN  ...   \n",
       "4  R_2V4kjf4gOQNH6EL             anonymous             EN  ...   \n",
       "\n",
       "                                                 LA2  \\\n",
       "0  How would you estimate the percentage of women...   \n",
       "1                                                NaN   \n",
       "2                                                NaN   \n",
       "3                                                  3   \n",
       "4                                                  4   \n",
       "\n",
       "                                     LA3  \\\n",
       "0  Have you considered leaving academia?   \n",
       "1                                    NaN   \n",
       "2                                    NaN   \n",
       "3                                      3   \n",
       "4                                      4   \n",
       "\n",
       "                                                LA4a  \\\n",
       "0  Please briefly elaborate on your reasons for c...   \n",
       "1                                                NaN   \n",
       "2                                                NaN   \n",
       "3  The path demands significant sacrifices, espec...   \n",
       "4                                                NaN   \n",
       "\n",
       "                                                LA4b  \\\n",
       "0  Please briefly elaborate on your reasons for l...   \n",
       "1                                                NaN   \n",
       "2                                                NaN   \n",
       "3                                                NaN   \n",
       "4                                                NaN   \n",
       "\n",
       "                                                  C1  \\\n",
       "0  How did you hear about this survey? - Selected...   \n",
       "1                                                NaN   \n",
       "2                                                  1   \n",
       "3                                                  1   \n",
       "4                                                  1   \n",
       "\n",
       "                                           C1_3_TEXT  \\\n",
       "0  How did you hear about this survey? - Social m...   \n",
       "1                                                NaN   \n",
       "2                                                NaN   \n",
       "3                                                NaN   \n",
       "4                                                NaN   \n",
       "\n",
       "                                           C1_4_TEXT  \\\n",
       "0  How did you hear about this survey? - Mailing ...   \n",
       "1                                                NaN   \n",
       "2                                                NaN   \n",
       "3                                                NaN   \n",
       "4                                                NaN   \n",
       "\n",
       "                                           C1_5_TEXT  \\\n",
       "0  How did you hear about this survey? - Other (p...   \n",
       "1                                                NaN   \n",
       "2                                                NaN   \n",
       "3                                                NaN   \n",
       "4                                                NaN   \n",
       "\n",
       "                                                  C2  gender  \n",
       "0  Do you have any other comments related to this...  gender  \n",
       "1                                                NaN   Woman  \n",
       "2                                                NaN     Man  \n",
       "3  The questions about # of papers expected or pr...   Woman  \n",
       "4                                                NaN   Woman  \n",
       "\n",
       "[5 rows x 317 columns]"
      ]
     },
     "metadata": {},
     "output_type": "display_data"
    },
    {
     "name": "stdout",
     "output_type": "stream",
     "text": [
      "\n",
      "First rows of df2:\n",
      "Number of rows: 10072\n",
      "Number of columns: 317\n"
     ]
    },
    {
     "data": {
      "text/html": [
       "<div>\n",
       "<style scoped>\n",
       "    .dataframe tbody tr th:only-of-type {\n",
       "        vertical-align: middle;\n",
       "    }\n",
       "\n",
       "    .dataframe tbody tr th {\n",
       "        vertical-align: top;\n",
       "    }\n",
       "\n",
       "    .dataframe thead th {\n",
       "        text-align: right;\n",
       "    }\n",
       "</style>\n",
       "<table border=\"1\" class=\"dataframe\">\n",
       "  <thead>\n",
       "    <tr style=\"text-align: right;\">\n",
       "      <th></th>\n",
       "      <th>StartDate</th>\n",
       "      <th>EndDate</th>\n",
       "      <th>Status</th>\n",
       "      <th>Progress</th>\n",
       "      <th>Duration (in seconds)</th>\n",
       "      <th>Finished</th>\n",
       "      <th>RecordedDate</th>\n",
       "      <th>ResponseId</th>\n",
       "      <th>DistributionChannel</th>\n",
       "      <th>UserLanguage</th>\n",
       "      <th>...</th>\n",
       "      <th>LA2</th>\n",
       "      <th>LA3</th>\n",
       "      <th>LA4a</th>\n",
       "      <th>LA4b</th>\n",
       "      <th>C1</th>\n",
       "      <th>C1_3_TEXT</th>\n",
       "      <th>C1_4_TEXT</th>\n",
       "      <th>C1_5_TEXT</th>\n",
       "      <th>C2</th>\n",
       "      <th>gender</th>\n",
       "    </tr>\n",
       "  </thead>\n",
       "  <tbody>\n",
       "    <tr>\n",
       "      <th>0</th>\n",
       "      <td>Start Date</td>\n",
       "      <td>End Date</td>\n",
       "      <td>Response Type</td>\n",
       "      <td>Progress</td>\n",
       "      <td>Duration (in seconds)</td>\n",
       "      <td>Finished</td>\n",
       "      <td>Recorded Date</td>\n",
       "      <td>Response ID</td>\n",
       "      <td>Distribution Channel</td>\n",
       "      <td>User Language</td>\n",
       "      <td>...</td>\n",
       "      <td>How would you estimate the percentage of women...</td>\n",
       "      <td>Have you considered leaving academia?</td>\n",
       "      <td>Please briefly elaborate on your reasons for c...</td>\n",
       "      <td>Please briefly elaborate on your reasons for l...</td>\n",
       "      <td>How did you hear about this survey? - Selected...</td>\n",
       "      <td>How did you hear about this survey? - Social m...</td>\n",
       "      <td>How did you hear about this survey? - Mailing ...</td>\n",
       "      <td>How did you hear about this survey? - Other (p...</td>\n",
       "      <td>Do you have any other comments related to this...</td>\n",
       "      <td>gender</td>\n",
       "    </tr>\n",
       "    <tr>\n",
       "      <th>1</th>\n",
       "      <td>2024-03-25 15:45:50</td>\n",
       "      <td>2024-03-25 15:58:19</td>\n",
       "      <td>IP Address</td>\n",
       "      <td>100</td>\n",
       "      <td>748</td>\n",
       "      <td>True</td>\n",
       "      <td>2024-03-25 15:58:20.398000</td>\n",
       "      <td>R_2jpMi7QsRScengv</td>\n",
       "      <td>email</td>\n",
       "      <td>EN</td>\n",
       "      <td>...</td>\n",
       "      <td>NaN</td>\n",
       "      <td>NaN</td>\n",
       "      <td>NaN</td>\n",
       "      <td>NaN</td>\n",
       "      <td>NaN</td>\n",
       "      <td>NaN</td>\n",
       "      <td>NaN</td>\n",
       "      <td>NaN</td>\n",
       "      <td>NaN</td>\n",
       "      <td>Woman</td>\n",
       "    </tr>\n",
       "    <tr>\n",
       "      <th>2</th>\n",
       "      <td>2024-03-26 17:00:29</td>\n",
       "      <td>2024-03-26 17:17:43</td>\n",
       "      <td>IP Address</td>\n",
       "      <td>100</td>\n",
       "      <td>1034</td>\n",
       "      <td>True</td>\n",
       "      <td>2024-03-26 17:17:44.908000</td>\n",
       "      <td>R_4ScOupmxBzBk7dL</td>\n",
       "      <td>email</td>\n",
       "      <td>EN</td>\n",
       "      <td>...</td>\n",
       "      <td>NaN</td>\n",
       "      <td>NaN</td>\n",
       "      <td>NaN</td>\n",
       "      <td>NaN</td>\n",
       "      <td>Formal invitation via email by the authors of ...</td>\n",
       "      <td>NaN</td>\n",
       "      <td>NaN</td>\n",
       "      <td>NaN</td>\n",
       "      <td>NaN</td>\n",
       "      <td>Man</td>\n",
       "    </tr>\n",
       "    <tr>\n",
       "      <th>3</th>\n",
       "      <td>2024-03-29 16:09:27</td>\n",
       "      <td>2024-03-29 16:39:04</td>\n",
       "      <td>IP Address</td>\n",
       "      <td>100</td>\n",
       "      <td>1777</td>\n",
       "      <td>True</td>\n",
       "      <td>2024-03-29 16:39:07.534000</td>\n",
       "      <td>R_77h3lBm8zYTS5a1</td>\n",
       "      <td>email</td>\n",
       "      <td>EN</td>\n",
       "      <td>...</td>\n",
       "      <td>About the same</td>\n",
       "      <td>Yes, a few times</td>\n",
       "      <td>The path demands significant sacrifices, espec...</td>\n",
       "      <td>NaN</td>\n",
       "      <td>Formal invitation via email by the authors of ...</td>\n",
       "      <td>NaN</td>\n",
       "      <td>NaN</td>\n",
       "      <td>NaN</td>\n",
       "      <td>The questions about # of papers expected or pr...</td>\n",
       "      <td>Woman</td>\n",
       "    </tr>\n",
       "    <tr>\n",
       "      <th>4</th>\n",
       "      <td>2024-04-16 12:45:38</td>\n",
       "      <td>2024-04-16 12:55:21</td>\n",
       "      <td>IP Address</td>\n",
       "      <td>100</td>\n",
       "      <td>583</td>\n",
       "      <td>True</td>\n",
       "      <td>2024-04-16 12:55:22.733000</td>\n",
       "      <td>R_2V4kjf4gOQNH6EL</td>\n",
       "      <td>anonymous</td>\n",
       "      <td>EN</td>\n",
       "      <td>...</td>\n",
       "      <td>Higher</td>\n",
       "      <td>Not at all</td>\n",
       "      <td>NaN</td>\n",
       "      <td>NaN</td>\n",
       "      <td>Formal invitation via email by the authors of ...</td>\n",
       "      <td>NaN</td>\n",
       "      <td>NaN</td>\n",
       "      <td>NaN</td>\n",
       "      <td>NaN</td>\n",
       "      <td>Woman</td>\n",
       "    </tr>\n",
       "  </tbody>\n",
       "</table>\n",
       "<p>5 rows × 317 columns</p>\n",
       "</div>"
      ],
      "text/plain": [
       "             StartDate              EndDate         Status  Progress  \\\n",
       "0           Start Date             End Date  Response Type  Progress   \n",
       "1  2024-03-25 15:45:50  2024-03-25 15:58:19     IP Address       100   \n",
       "2  2024-03-26 17:00:29  2024-03-26 17:17:43     IP Address       100   \n",
       "3  2024-03-29 16:09:27  2024-03-29 16:39:04     IP Address       100   \n",
       "4  2024-04-16 12:45:38  2024-04-16 12:55:21     IP Address       100   \n",
       "\n",
       "   Duration (in seconds)  Finished                RecordedDate  \\\n",
       "0  Duration (in seconds)  Finished               Recorded Date   \n",
       "1                    748      True  2024-03-25 15:58:20.398000   \n",
       "2                   1034      True  2024-03-26 17:17:44.908000   \n",
       "3                   1777      True  2024-03-29 16:39:07.534000   \n",
       "4                    583      True  2024-04-16 12:55:22.733000   \n",
       "\n",
       "          ResponseId   DistributionChannel   UserLanguage  ...  \\\n",
       "0        Response ID  Distribution Channel  User Language  ...   \n",
       "1  R_2jpMi7QsRScengv                 email             EN  ...   \n",
       "2  R_4ScOupmxBzBk7dL                 email             EN  ...   \n",
       "3  R_77h3lBm8zYTS5a1                 email             EN  ...   \n",
       "4  R_2V4kjf4gOQNH6EL             anonymous             EN  ...   \n",
       "\n",
       "                                                 LA2  \\\n",
       "0  How would you estimate the percentage of women...   \n",
       "1                                                NaN   \n",
       "2                                                NaN   \n",
       "3                                     About the same   \n",
       "4                                             Higher   \n",
       "\n",
       "                                     LA3  \\\n",
       "0  Have you considered leaving academia?   \n",
       "1                                    NaN   \n",
       "2                                    NaN   \n",
       "3                       Yes, a few times   \n",
       "4                             Not at all   \n",
       "\n",
       "                                                LA4a  \\\n",
       "0  Please briefly elaborate on your reasons for c...   \n",
       "1                                                NaN   \n",
       "2                                                NaN   \n",
       "3  The path demands significant sacrifices, espec...   \n",
       "4                                                NaN   \n",
       "\n",
       "                                                LA4b  \\\n",
       "0  Please briefly elaborate on your reasons for l...   \n",
       "1                                                NaN   \n",
       "2                                                NaN   \n",
       "3                                                NaN   \n",
       "4                                                NaN   \n",
       "\n",
       "                                                  C1  \\\n",
       "0  How did you hear about this survey? - Selected...   \n",
       "1                                                NaN   \n",
       "2  Formal invitation via email by the authors of ...   \n",
       "3  Formal invitation via email by the authors of ...   \n",
       "4  Formal invitation via email by the authors of ...   \n",
       "\n",
       "                                           C1_3_TEXT  \\\n",
       "0  How did you hear about this survey? - Social m...   \n",
       "1                                                NaN   \n",
       "2                                                NaN   \n",
       "3                                                NaN   \n",
       "4                                                NaN   \n",
       "\n",
       "                                           C1_4_TEXT  \\\n",
       "0  How did you hear about this survey? - Mailing ...   \n",
       "1                                                NaN   \n",
       "2                                                NaN   \n",
       "3                                                NaN   \n",
       "4                                                NaN   \n",
       "\n",
       "                                           C1_5_TEXT  \\\n",
       "0  How did you hear about this survey? - Other (p...   \n",
       "1                                                NaN   \n",
       "2                                                NaN   \n",
       "3                                                NaN   \n",
       "4                                                NaN   \n",
       "\n",
       "                                                  C2  gender  \n",
       "0  Do you have any other comments related to this...  gender  \n",
       "1                                                NaN   Woman  \n",
       "2                                                NaN     Man  \n",
       "3  The questions about # of papers expected or pr...   Woman  \n",
       "4                                                NaN   Woman  \n",
       "\n",
       "[5 rows x 317 columns]"
      ]
     },
     "metadata": {},
     "output_type": "display_data"
    }
   ],
   "source": [
    "import pandas as pd\n",
    "df1 = pd.read_excel(file_path1)\n",
    "df2 = pd.read_excel(file_path2)\n",
    "\n",
    "print(\"First rows of df1:\")\n",
    "print(f\"Number of rows: {df1.shape[0]}\")\n",
    "print(f\"Number of columns: {df1.shape[1]}\")\n",
    "\n",
    "display(df1.head())\n",
    "\n",
    "print(\"\\nFirst rows of df2:\")\n",
    "print(f\"Number of rows: {df2.shape[0]}\")\n",
    "print(f\"Number of columns: {df2.shape[1]}\")\n",
    "\n",
    "display(df2.head())"
   ]
  },
  {
   "cell_type": "code",
   "execution_count": 4,
   "metadata": {},
   "outputs": [
    {
     "name": "stdout",
     "output_type": "stream",
     "text": [
      "/bin/bash: {sys.executable}: command not found\n"
     ]
    }
   ],
   "source": [
    "!{sys.executable} -m pip install plotly\n"
   ]
  },
  {
   "cell_type": "code",
   "execution_count": 5,
   "metadata": {},
   "outputs": [
    {
     "name": "stdout",
     "output_type": "stream",
     "text": [
      "6.0.0\n"
     ]
    }
   ],
   "source": [
    "import plotly\n",
    "print(plotly.__version__)\n"
   ]
  },
  {
   "cell_type": "markdown",
   "metadata": {},
   "source": [
    "## Year of Birth"
   ]
  },
  {
   "cell_type": "code",
   "execution_count": 55,
   "metadata": {},
   "outputs": [
    {
     "name": "stdout",
     "output_type": "stream",
     "text": [
      "First entry in column DE1: 1986\n"
     ]
    }
   ],
   "source": [
    "first_entry_de1 = df1['DE1'].iloc[1]\n",
    "print(\"First entry in column DE1:\", first_entry_de1)"
   ]
  },
  {
   "cell_type": "code",
   "execution_count": 88,
   "metadata": {},
   "outputs": [
    {
     "name": "stdout",
     "output_type": "stream",
     "text": [
      "\n",
      "===== Response Statistics =====\n",
      "Total unique researchers (participants): 10070\n",
      "Responded with birth year: 6523 (64.78%)\n",
      "Did not respond: 3547 (35.22%)\n",
      "\n"
     ]
    }
   ],
   "source": [
    "import plotly.express as px\n",
    "\n",
    "total_researchers = df1['ResponseId'].nunique()\n",
    "\n",
    "responded_count = df1.dropna(subset=['DE1'])['ResponseId'].nunique()\n",
    "not_responded_count = total_researchers - responded_count\n",
    "\n",
    "print(\"\\n===== Response Statistics =====\")\n",
    "print(f\"Total unique researchers (participants): {total_researchers}\")\n",
    "print(f\"Responded with birth year: {responded_count} ({(responded_count/total_researchers)*100:.2f}%)\")\n",
    "print(f\"Did not respond: {not_responded_count} ({(not_responded_count/total_researchers)*100:.2f}%)\\n\")\n",
    "\n"
   ]
  },
  {
   "cell_type": "code",
   "execution_count": null,
   "metadata": {},
   "outputs": [
    {
     "data": {
      "application/vnd.plotly.v1+json": {
       "config": {
        "plotlyServerURL": "https://plot.ly"
       },
       "data": [
        {
         "hovertemplate": "Year=%{x}<br>Number of Researchers=%{y}<extra></extra>",
         "legendgroup": "",
         "marker": {
          "color": "#4E74BC",
          "line": {
           "color": "black",
           "width": 1
          },
          "pattern": {
           "shape": ""
          }
         },
         "name": "",
         "orientation": "v",
         "showlegend": false,
         "textposition": "auto",
         "type": "bar",
         "x": [
          1924,
          1932,
          1933,
          1934,
          1935,
          1936,
          1937,
          1938,
          1939,
          1940,
          1941,
          1942,
          1943,
          1944,
          1945,
          1946,
          1947,
          1948,
          1949,
          1950,
          1951,
          1952,
          1953,
          1954,
          1955,
          1956,
          1957,
          1958,
          1959,
          1960,
          1961,
          1962,
          1963,
          1964,
          1965,
          1966,
          1967,
          1968,
          1969,
          1970,
          1971,
          1972,
          1973,
          1974,
          1975,
          1976,
          1977,
          1978,
          1979,
          1980,
          1981,
          1982,
          1983,
          1984,
          1985,
          1986,
          1987,
          1988,
          1989,
          1990,
          1991,
          1992,
          1993,
          1994,
          1995,
          1996,
          1997,
          1998,
          1999,
          2000,
          2012
         ],
         "xaxis": "x",
         "y": {
          "bdata": "AQACAAMAAQABAAEAAwABAAMABwAHABIACgAMAAwAFAAZABoAEwAVABcAIgAiACQAKQAvAC8AVwBKAFAAXABfAF0AbwCAAHMAXwCEAIoAmQCVAKEAwACqAMMA1ADzAPoAAAHvAO8A/QD+APsA5QD9ANAAwACoAKQAcwBeAEIAOwAfABMABwABAAMAAQABAA==",
          "dtype": "i2"
         },
         "yaxis": "y"
        }
       ],
       "layout": {
        "bargap": 0,
        "barmode": "relative",
        "height": 500,
        "legend": {
         "tracegroupgap": 0
        },
        "template": {
         "data": {
          "bar": [
           {
            "error_x": {
             "color": "#2a3f5f"
            },
            "error_y": {
             "color": "#2a3f5f"
            },
            "marker": {
             "line": {
              "color": "#E5ECF6",
              "width": 0.5
             },
             "pattern": {
              "fillmode": "overlay",
              "size": 10,
              "solidity": 0.2
             }
            },
            "type": "bar"
           }
          ],
          "barpolar": [
           {
            "marker": {
             "line": {
              "color": "#E5ECF6",
              "width": 0.5
             },
             "pattern": {
              "fillmode": "overlay",
              "size": 10,
              "solidity": 0.2
             }
            },
            "type": "barpolar"
           }
          ],
          "carpet": [
           {
            "aaxis": {
             "endlinecolor": "#2a3f5f",
             "gridcolor": "white",
             "linecolor": "white",
             "minorgridcolor": "white",
             "startlinecolor": "#2a3f5f"
            },
            "baxis": {
             "endlinecolor": "#2a3f5f",
             "gridcolor": "white",
             "linecolor": "white",
             "minorgridcolor": "white",
             "startlinecolor": "#2a3f5f"
            },
            "type": "carpet"
           }
          ],
          "choropleth": [
           {
            "colorbar": {
             "outlinewidth": 0,
             "ticks": ""
            },
            "type": "choropleth"
           }
          ],
          "contour": [
           {
            "colorbar": {
             "outlinewidth": 0,
             "ticks": ""
            },
            "colorscale": [
             [
              0,
              "#0d0887"
             ],
             [
              0.1111111111111111,
              "#46039f"
             ],
             [
              0.2222222222222222,
              "#7201a8"
             ],
             [
              0.3333333333333333,
              "#9c179e"
             ],
             [
              0.4444444444444444,
              "#bd3786"
             ],
             [
              0.5555555555555556,
              "#d8576b"
             ],
             [
              0.6666666666666666,
              "#ed7953"
             ],
             [
              0.7777777777777778,
              "#fb9f3a"
             ],
             [
              0.8888888888888888,
              "#fdca26"
             ],
             [
              1,
              "#f0f921"
             ]
            ],
            "type": "contour"
           }
          ],
          "contourcarpet": [
           {
            "colorbar": {
             "outlinewidth": 0,
             "ticks": ""
            },
            "type": "contourcarpet"
           }
          ],
          "heatmap": [
           {
            "colorbar": {
             "outlinewidth": 0,
             "ticks": ""
            },
            "colorscale": [
             [
              0,
              "#0d0887"
             ],
             [
              0.1111111111111111,
              "#46039f"
             ],
             [
              0.2222222222222222,
              "#7201a8"
             ],
             [
              0.3333333333333333,
              "#9c179e"
             ],
             [
              0.4444444444444444,
              "#bd3786"
             ],
             [
              0.5555555555555556,
              "#d8576b"
             ],
             [
              0.6666666666666666,
              "#ed7953"
             ],
             [
              0.7777777777777778,
              "#fb9f3a"
             ],
             [
              0.8888888888888888,
              "#fdca26"
             ],
             [
              1,
              "#f0f921"
             ]
            ],
            "type": "heatmap"
           }
          ],
          "histogram": [
           {
            "marker": {
             "pattern": {
              "fillmode": "overlay",
              "size": 10,
              "solidity": 0.2
             }
            },
            "type": "histogram"
           }
          ],
          "histogram2d": [
           {
            "colorbar": {
             "outlinewidth": 0,
             "ticks": ""
            },
            "colorscale": [
             [
              0,
              "#0d0887"
             ],
             [
              0.1111111111111111,
              "#46039f"
             ],
             [
              0.2222222222222222,
              "#7201a8"
             ],
             [
              0.3333333333333333,
              "#9c179e"
             ],
             [
              0.4444444444444444,
              "#bd3786"
             ],
             [
              0.5555555555555556,
              "#d8576b"
             ],
             [
              0.6666666666666666,
              "#ed7953"
             ],
             [
              0.7777777777777778,
              "#fb9f3a"
             ],
             [
              0.8888888888888888,
              "#fdca26"
             ],
             [
              1,
              "#f0f921"
             ]
            ],
            "type": "histogram2d"
           }
          ],
          "histogram2dcontour": [
           {
            "colorbar": {
             "outlinewidth": 0,
             "ticks": ""
            },
            "colorscale": [
             [
              0,
              "#0d0887"
             ],
             [
              0.1111111111111111,
              "#46039f"
             ],
             [
              0.2222222222222222,
              "#7201a8"
             ],
             [
              0.3333333333333333,
              "#9c179e"
             ],
             [
              0.4444444444444444,
              "#bd3786"
             ],
             [
              0.5555555555555556,
              "#d8576b"
             ],
             [
              0.6666666666666666,
              "#ed7953"
             ],
             [
              0.7777777777777778,
              "#fb9f3a"
             ],
             [
              0.8888888888888888,
              "#fdca26"
             ],
             [
              1,
              "#f0f921"
             ]
            ],
            "type": "histogram2dcontour"
           }
          ],
          "mesh3d": [
           {
            "colorbar": {
             "outlinewidth": 0,
             "ticks": ""
            },
            "type": "mesh3d"
           }
          ],
          "parcoords": [
           {
            "line": {
             "colorbar": {
              "outlinewidth": 0,
              "ticks": ""
             }
            },
            "type": "parcoords"
           }
          ],
          "pie": [
           {
            "automargin": true,
            "type": "pie"
           }
          ],
          "scatter": [
           {
            "fillpattern": {
             "fillmode": "overlay",
             "size": 10,
             "solidity": 0.2
            },
            "type": "scatter"
           }
          ],
          "scatter3d": [
           {
            "line": {
             "colorbar": {
              "outlinewidth": 0,
              "ticks": ""
             }
            },
            "marker": {
             "colorbar": {
              "outlinewidth": 0,
              "ticks": ""
             }
            },
            "type": "scatter3d"
           }
          ],
          "scattercarpet": [
           {
            "marker": {
             "colorbar": {
              "outlinewidth": 0,
              "ticks": ""
             }
            },
            "type": "scattercarpet"
           }
          ],
          "scattergeo": [
           {
            "marker": {
             "colorbar": {
              "outlinewidth": 0,
              "ticks": ""
             }
            },
            "type": "scattergeo"
           }
          ],
          "scattergl": [
           {
            "marker": {
             "colorbar": {
              "outlinewidth": 0,
              "ticks": ""
             }
            },
            "type": "scattergl"
           }
          ],
          "scattermap": [
           {
            "marker": {
             "colorbar": {
              "outlinewidth": 0,
              "ticks": ""
             }
            },
            "type": "scattermap"
           }
          ],
          "scattermapbox": [
           {
            "marker": {
             "colorbar": {
              "outlinewidth": 0,
              "ticks": ""
             }
            },
            "type": "scattermapbox"
           }
          ],
          "scatterpolar": [
           {
            "marker": {
             "colorbar": {
              "outlinewidth": 0,
              "ticks": ""
             }
            },
            "type": "scatterpolar"
           }
          ],
          "scatterpolargl": [
           {
            "marker": {
             "colorbar": {
              "outlinewidth": 0,
              "ticks": ""
             }
            },
            "type": "scatterpolargl"
           }
          ],
          "scatterternary": [
           {
            "marker": {
             "colorbar": {
              "outlinewidth": 0,
              "ticks": ""
             }
            },
            "type": "scatterternary"
           }
          ],
          "surface": [
           {
            "colorbar": {
             "outlinewidth": 0,
             "ticks": ""
            },
            "colorscale": [
             [
              0,
              "#0d0887"
             ],
             [
              0.1111111111111111,
              "#46039f"
             ],
             [
              0.2222222222222222,
              "#7201a8"
             ],
             [
              0.3333333333333333,
              "#9c179e"
             ],
             [
              0.4444444444444444,
              "#bd3786"
             ],
             [
              0.5555555555555556,
              "#d8576b"
             ],
             [
              0.6666666666666666,
              "#ed7953"
             ],
             [
              0.7777777777777778,
              "#fb9f3a"
             ],
             [
              0.8888888888888888,
              "#fdca26"
             ],
             [
              1,
              "#f0f921"
             ]
            ],
            "type": "surface"
           }
          ],
          "table": [
           {
            "cells": {
             "fill": {
              "color": "#EBF0F8"
             },
             "line": {
              "color": "white"
             }
            },
            "header": {
             "fill": {
              "color": "#C8D4E3"
             },
             "line": {
              "color": "white"
             }
            },
            "type": "table"
           }
          ]
         },
         "layout": {
          "annotationdefaults": {
           "arrowcolor": "#2a3f5f",
           "arrowhead": 0,
           "arrowwidth": 1
          },
          "autotypenumbers": "strict",
          "coloraxis": {
           "colorbar": {
            "outlinewidth": 0,
            "ticks": ""
           }
          },
          "colorscale": {
           "diverging": [
            [
             0,
             "#8e0152"
            ],
            [
             0.1,
             "#c51b7d"
            ],
            [
             0.2,
             "#de77ae"
            ],
            [
             0.3,
             "#f1b6da"
            ],
            [
             0.4,
             "#fde0ef"
            ],
            [
             0.5,
             "#f7f7f7"
            ],
            [
             0.6,
             "#e6f5d0"
            ],
            [
             0.7,
             "#b8e186"
            ],
            [
             0.8,
             "#7fbc41"
            ],
            [
             0.9,
             "#4d9221"
            ],
            [
             1,
             "#276419"
            ]
           ],
           "sequential": [
            [
             0,
             "#0d0887"
            ],
            [
             0.1111111111111111,
             "#46039f"
            ],
            [
             0.2222222222222222,
             "#7201a8"
            ],
            [
             0.3333333333333333,
             "#9c179e"
            ],
            [
             0.4444444444444444,
             "#bd3786"
            ],
            [
             0.5555555555555556,
             "#d8576b"
            ],
            [
             0.6666666666666666,
             "#ed7953"
            ],
            [
             0.7777777777777778,
             "#fb9f3a"
            ],
            [
             0.8888888888888888,
             "#fdca26"
            ],
            [
             1,
             "#f0f921"
            ]
           ],
           "sequentialminus": [
            [
             0,
             "#0d0887"
            ],
            [
             0.1111111111111111,
             "#46039f"
            ],
            [
             0.2222222222222222,
             "#7201a8"
            ],
            [
             0.3333333333333333,
             "#9c179e"
            ],
            [
             0.4444444444444444,
             "#bd3786"
            ],
            [
             0.5555555555555556,
             "#d8576b"
            ],
            [
             0.6666666666666666,
             "#ed7953"
            ],
            [
             0.7777777777777778,
             "#fb9f3a"
            ],
            [
             0.8888888888888888,
             "#fdca26"
            ],
            [
             1,
             "#f0f921"
            ]
           ]
          },
          "colorway": [
           "#636efa",
           "#EF553B",
           "#00cc96",
           "#ab63fa",
           "#FFA15A",
           "#19d3f3",
           "#FF6692",
           "#B6E880",
           "#FF97FF",
           "#FECB52"
          ],
          "font": {
           "color": "#2a3f5f"
          },
          "geo": {
           "bgcolor": "white",
           "lakecolor": "white",
           "landcolor": "#E5ECF6",
           "showlakes": true,
           "showland": true,
           "subunitcolor": "white"
          },
          "hoverlabel": {
           "align": "left"
          },
          "hovermode": "closest",
          "mapbox": {
           "style": "light"
          },
          "paper_bgcolor": "white",
          "plot_bgcolor": "#E5ECF6",
          "polar": {
           "angularaxis": {
            "gridcolor": "white",
            "linecolor": "white",
            "ticks": ""
           },
           "bgcolor": "#E5ECF6",
           "radialaxis": {
            "gridcolor": "white",
            "linecolor": "white",
            "ticks": ""
           }
          },
          "scene": {
           "xaxis": {
            "backgroundcolor": "#E5ECF6",
            "gridcolor": "white",
            "gridwidth": 2,
            "linecolor": "white",
            "showbackground": true,
            "ticks": "",
            "zerolinecolor": "white"
           },
           "yaxis": {
            "backgroundcolor": "#E5ECF6",
            "gridcolor": "white",
            "gridwidth": 2,
            "linecolor": "white",
            "showbackground": true,
            "ticks": "",
            "zerolinecolor": "white"
           },
           "zaxis": {
            "backgroundcolor": "#E5ECF6",
            "gridcolor": "white",
            "gridwidth": 2,
            "linecolor": "white",
            "showbackground": true,
            "ticks": "",
            "zerolinecolor": "white"
           }
          },
          "shapedefaults": {
           "line": {
            "color": "#2a3f5f"
           }
          },
          "ternary": {
           "aaxis": {
            "gridcolor": "white",
            "linecolor": "white",
            "ticks": ""
           },
           "baxis": {
            "gridcolor": "white",
            "linecolor": "white",
            "ticks": ""
           },
           "bgcolor": "#E5ECF6",
           "caxis": {
            "gridcolor": "white",
            "linecolor": "white",
            "ticks": ""
           }
          },
          "title": {
           "x": 0.05
          },
          "xaxis": {
           "automargin": true,
           "gridcolor": "white",
           "linecolor": "white",
           "ticks": "",
           "title": {
            "standoff": 15
           },
           "zerolinecolor": "white",
           "zerolinewidth": 2
          },
          "yaxis": {
           "automargin": true,
           "gridcolor": "white",
           "linecolor": "white",
           "ticks": "",
           "title": {
            "standoff": 15
           },
           "zerolinecolor": "white",
           "zerolinewidth": 2
          }
         }
        },
        "title": {
         "text": "Distribution of Researchers by Birth Year"
        },
        "width": 1000,
        "xaxis": {
         "anchor": "y",
         "domain": [
          0,
          1
         ],
         "title": {
          "text": "Year"
         }
        },
        "yaxis": {
         "anchor": "x",
         "domain": [
          0,
          1
         ],
         "title": {
          "text": "Number of Researchers"
         }
        }
       }
      }
     },
     "metadata": {},
     "output_type": "display_data"
    }
   ],
   "source": [
    "# Filter dataset to only responses with birth years\n",
    "df_filtered = df1.dropna(subset=['DE1'])\n",
    "\n",
    "# Count researchers per birth year\n",
    "year_counts = df_filtered['DE1'].value_counts().sort_index()\n",
    "\n",
    "fig = px.bar(\n",
    "    x=year_counts.index, \n",
    "    y=year_counts.values,\n",
    "    labels={'x': 'Year', 'y': 'Number of Researchers'},\n",
    "    title=\"Distribution of Researchers by Birth Year\"\n",
    ")\n",
    "\n",
    "fig.update_traces(\n",
    "    marker=dict(color=\"#4E74BC\", line=dict(color='black', width=1))\n",
    ")\n",
    "\n",
    "fig.update_layout(\n",
    "    width=1000,\n",
    "    height=500,\n",
    "    bargap=0\n",
    ")\n",
    "\n",
    "fig.show()\n"
   ]
  },
  {
   "cell_type": "markdown",
   "metadata": {},
   "source": [
    "## Gender"
   ]
  },
  {
   "cell_type": "markdown",
   "metadata": {},
   "source": [
    "What unique values exist in the gender column?"
   ]
  },
  {
   "cell_type": "code",
   "execution_count": 91,
   "metadata": {},
   "outputs": [
    {
     "name": "stdout",
     "output_type": "stream",
     "text": [
      "\n",
      "==== Gender Response Statistics ====\n",
      "Total unique researchers (participants): 10070\n",
      "Responded to gender question: 4354 (43.24%)\n",
      "Did not respond: 5716 (56.76%)\n",
      "\n",
      "==== Gender Distribution ====\n",
      "nan: 5716 (56.76%)\n",
      "Woman: 2237 (22.21%)\n",
      "Man: 2073 (20.59%)\n",
      "Non-binary person: 24 (0.24%)\n",
      "<span style=\"color:#999999;\">Prefer not to answer</span>: 20 (0.20%)\n"
     ]
    },
    {
     "data": {
      "application/vnd.plotly.v1+json": {
       "config": {
        "plotlyServerURL": "https://plot.ly"
       },
       "data": [
        {
         "domain": {
          "x": [
           0,
           1
          ],
          "y": [
           0,
           1
          ]
         },
         "hovertemplate": "Gender=%{label}<br>Count=%{value}<extra></extra>",
         "labels": [
          null,
          "Woman",
          "Man",
          "Non-binary person",
          "<span style=\"color:#999999;\">Prefer not to answer</span>"
         ],
         "legendgroup": "",
         "name": "",
         "showlegend": true,
         "type": "pie",
         "values": {
          "bdata": "VBa9CBkIGAAUAA==",
          "dtype": "i2"
         }
        }
       ],
       "layout": {
        "legend": {
         "tracegroupgap": 0
        },
        "piecolorway": [
         "#b2182b",
         "#ef8a62",
         "#fddbc7",
         "#d1e5f0",
         "#67a9cf",
         "#2166ac"
        ],
        "template": {
         "data": {
          "bar": [
           {
            "error_x": {
             "color": "#2a3f5f"
            },
            "error_y": {
             "color": "#2a3f5f"
            },
            "marker": {
             "line": {
              "color": "#E5ECF6",
              "width": 0.5
             },
             "pattern": {
              "fillmode": "overlay",
              "size": 10,
              "solidity": 0.2
             }
            },
            "type": "bar"
           }
          ],
          "barpolar": [
           {
            "marker": {
             "line": {
              "color": "#E5ECF6",
              "width": 0.5
             },
             "pattern": {
              "fillmode": "overlay",
              "size": 10,
              "solidity": 0.2
             }
            },
            "type": "barpolar"
           }
          ],
          "carpet": [
           {
            "aaxis": {
             "endlinecolor": "#2a3f5f",
             "gridcolor": "white",
             "linecolor": "white",
             "minorgridcolor": "white",
             "startlinecolor": "#2a3f5f"
            },
            "baxis": {
             "endlinecolor": "#2a3f5f",
             "gridcolor": "white",
             "linecolor": "white",
             "minorgridcolor": "white",
             "startlinecolor": "#2a3f5f"
            },
            "type": "carpet"
           }
          ],
          "choropleth": [
           {
            "colorbar": {
             "outlinewidth": 0,
             "ticks": ""
            },
            "type": "choropleth"
           }
          ],
          "contour": [
           {
            "colorbar": {
             "outlinewidth": 0,
             "ticks": ""
            },
            "colorscale": [
             [
              0,
              "#0d0887"
             ],
             [
              0.1111111111111111,
              "#46039f"
             ],
             [
              0.2222222222222222,
              "#7201a8"
             ],
             [
              0.3333333333333333,
              "#9c179e"
             ],
             [
              0.4444444444444444,
              "#bd3786"
             ],
             [
              0.5555555555555556,
              "#d8576b"
             ],
             [
              0.6666666666666666,
              "#ed7953"
             ],
             [
              0.7777777777777778,
              "#fb9f3a"
             ],
             [
              0.8888888888888888,
              "#fdca26"
             ],
             [
              1,
              "#f0f921"
             ]
            ],
            "type": "contour"
           }
          ],
          "contourcarpet": [
           {
            "colorbar": {
             "outlinewidth": 0,
             "ticks": ""
            },
            "type": "contourcarpet"
           }
          ],
          "heatmap": [
           {
            "colorbar": {
             "outlinewidth": 0,
             "ticks": ""
            },
            "colorscale": [
             [
              0,
              "#0d0887"
             ],
             [
              0.1111111111111111,
              "#46039f"
             ],
             [
              0.2222222222222222,
              "#7201a8"
             ],
             [
              0.3333333333333333,
              "#9c179e"
             ],
             [
              0.4444444444444444,
              "#bd3786"
             ],
             [
              0.5555555555555556,
              "#d8576b"
             ],
             [
              0.6666666666666666,
              "#ed7953"
             ],
             [
              0.7777777777777778,
              "#fb9f3a"
             ],
             [
              0.8888888888888888,
              "#fdca26"
             ],
             [
              1,
              "#f0f921"
             ]
            ],
            "type": "heatmap"
           }
          ],
          "histogram": [
           {
            "marker": {
             "pattern": {
              "fillmode": "overlay",
              "size": 10,
              "solidity": 0.2
             }
            },
            "type": "histogram"
           }
          ],
          "histogram2d": [
           {
            "colorbar": {
             "outlinewidth": 0,
             "ticks": ""
            },
            "colorscale": [
             [
              0,
              "#0d0887"
             ],
             [
              0.1111111111111111,
              "#46039f"
             ],
             [
              0.2222222222222222,
              "#7201a8"
             ],
             [
              0.3333333333333333,
              "#9c179e"
             ],
             [
              0.4444444444444444,
              "#bd3786"
             ],
             [
              0.5555555555555556,
              "#d8576b"
             ],
             [
              0.6666666666666666,
              "#ed7953"
             ],
             [
              0.7777777777777778,
              "#fb9f3a"
             ],
             [
              0.8888888888888888,
              "#fdca26"
             ],
             [
              1,
              "#f0f921"
             ]
            ],
            "type": "histogram2d"
           }
          ],
          "histogram2dcontour": [
           {
            "colorbar": {
             "outlinewidth": 0,
             "ticks": ""
            },
            "colorscale": [
             [
              0,
              "#0d0887"
             ],
             [
              0.1111111111111111,
              "#46039f"
             ],
             [
              0.2222222222222222,
              "#7201a8"
             ],
             [
              0.3333333333333333,
              "#9c179e"
             ],
             [
              0.4444444444444444,
              "#bd3786"
             ],
             [
              0.5555555555555556,
              "#d8576b"
             ],
             [
              0.6666666666666666,
              "#ed7953"
             ],
             [
              0.7777777777777778,
              "#fb9f3a"
             ],
             [
              0.8888888888888888,
              "#fdca26"
             ],
             [
              1,
              "#f0f921"
             ]
            ],
            "type": "histogram2dcontour"
           }
          ],
          "mesh3d": [
           {
            "colorbar": {
             "outlinewidth": 0,
             "ticks": ""
            },
            "type": "mesh3d"
           }
          ],
          "parcoords": [
           {
            "line": {
             "colorbar": {
              "outlinewidth": 0,
              "ticks": ""
             }
            },
            "type": "parcoords"
           }
          ],
          "pie": [
           {
            "automargin": true,
            "type": "pie"
           }
          ],
          "scatter": [
           {
            "fillpattern": {
             "fillmode": "overlay",
             "size": 10,
             "solidity": 0.2
            },
            "type": "scatter"
           }
          ],
          "scatter3d": [
           {
            "line": {
             "colorbar": {
              "outlinewidth": 0,
              "ticks": ""
             }
            },
            "marker": {
             "colorbar": {
              "outlinewidth": 0,
              "ticks": ""
             }
            },
            "type": "scatter3d"
           }
          ],
          "scattercarpet": [
           {
            "marker": {
             "colorbar": {
              "outlinewidth": 0,
              "ticks": ""
             }
            },
            "type": "scattercarpet"
           }
          ],
          "scattergeo": [
           {
            "marker": {
             "colorbar": {
              "outlinewidth": 0,
              "ticks": ""
             }
            },
            "type": "scattergeo"
           }
          ],
          "scattergl": [
           {
            "marker": {
             "colorbar": {
              "outlinewidth": 0,
              "ticks": ""
             }
            },
            "type": "scattergl"
           }
          ],
          "scattermap": [
           {
            "marker": {
             "colorbar": {
              "outlinewidth": 0,
              "ticks": ""
             }
            },
            "type": "scattermap"
           }
          ],
          "scattermapbox": [
           {
            "marker": {
             "colorbar": {
              "outlinewidth": 0,
              "ticks": ""
             }
            },
            "type": "scattermapbox"
           }
          ],
          "scatterpolar": [
           {
            "marker": {
             "colorbar": {
              "outlinewidth": 0,
              "ticks": ""
             }
            },
            "type": "scatterpolar"
           }
          ],
          "scatterpolargl": [
           {
            "marker": {
             "colorbar": {
              "outlinewidth": 0,
              "ticks": ""
             }
            },
            "type": "scatterpolargl"
           }
          ],
          "scatterternary": [
           {
            "marker": {
             "colorbar": {
              "outlinewidth": 0,
              "ticks": ""
             }
            },
            "type": "scatterternary"
           }
          ],
          "surface": [
           {
            "colorbar": {
             "outlinewidth": 0,
             "ticks": ""
            },
            "colorscale": [
             [
              0,
              "#0d0887"
             ],
             [
              0.1111111111111111,
              "#46039f"
             ],
             [
              0.2222222222222222,
              "#7201a8"
             ],
             [
              0.3333333333333333,
              "#9c179e"
             ],
             [
              0.4444444444444444,
              "#bd3786"
             ],
             [
              0.5555555555555556,
              "#d8576b"
             ],
             [
              0.6666666666666666,
              "#ed7953"
             ],
             [
              0.7777777777777778,
              "#fb9f3a"
             ],
             [
              0.8888888888888888,
              "#fdca26"
             ],
             [
              1,
              "#f0f921"
             ]
            ],
            "type": "surface"
           }
          ],
          "table": [
           {
            "cells": {
             "fill": {
              "color": "#EBF0F8"
             },
             "line": {
              "color": "white"
             }
            },
            "header": {
             "fill": {
              "color": "#C8D4E3"
             },
             "line": {
              "color": "white"
             }
            },
            "type": "table"
           }
          ]
         },
         "layout": {
          "annotationdefaults": {
           "arrowcolor": "#2a3f5f",
           "arrowhead": 0,
           "arrowwidth": 1
          },
          "autotypenumbers": "strict",
          "coloraxis": {
           "colorbar": {
            "outlinewidth": 0,
            "ticks": ""
           }
          },
          "colorscale": {
           "diverging": [
            [
             0,
             "#8e0152"
            ],
            [
             0.1,
             "#c51b7d"
            ],
            [
             0.2,
             "#de77ae"
            ],
            [
             0.3,
             "#f1b6da"
            ],
            [
             0.4,
             "#fde0ef"
            ],
            [
             0.5,
             "#f7f7f7"
            ],
            [
             0.6,
             "#e6f5d0"
            ],
            [
             0.7,
             "#b8e186"
            ],
            [
             0.8,
             "#7fbc41"
            ],
            [
             0.9,
             "#4d9221"
            ],
            [
             1,
             "#276419"
            ]
           ],
           "sequential": [
            [
             0,
             "#0d0887"
            ],
            [
             0.1111111111111111,
             "#46039f"
            ],
            [
             0.2222222222222222,
             "#7201a8"
            ],
            [
             0.3333333333333333,
             "#9c179e"
            ],
            [
             0.4444444444444444,
             "#bd3786"
            ],
            [
             0.5555555555555556,
             "#d8576b"
            ],
            [
             0.6666666666666666,
             "#ed7953"
            ],
            [
             0.7777777777777778,
             "#fb9f3a"
            ],
            [
             0.8888888888888888,
             "#fdca26"
            ],
            [
             1,
             "#f0f921"
            ]
           ],
           "sequentialminus": [
            [
             0,
             "#0d0887"
            ],
            [
             0.1111111111111111,
             "#46039f"
            ],
            [
             0.2222222222222222,
             "#7201a8"
            ],
            [
             0.3333333333333333,
             "#9c179e"
            ],
            [
             0.4444444444444444,
             "#bd3786"
            ],
            [
             0.5555555555555556,
             "#d8576b"
            ],
            [
             0.6666666666666666,
             "#ed7953"
            ],
            [
             0.7777777777777778,
             "#fb9f3a"
            ],
            [
             0.8888888888888888,
             "#fdca26"
            ],
            [
             1,
             "#f0f921"
            ]
           ]
          },
          "colorway": [
           "#636efa",
           "#EF553B",
           "#00cc96",
           "#ab63fa",
           "#FFA15A",
           "#19d3f3",
           "#FF6692",
           "#B6E880",
           "#FF97FF",
           "#FECB52"
          ],
          "font": {
           "color": "#2a3f5f"
          },
          "geo": {
           "bgcolor": "white",
           "lakecolor": "white",
           "landcolor": "#E5ECF6",
           "showlakes": true,
           "showland": true,
           "subunitcolor": "white"
          },
          "hoverlabel": {
           "align": "left"
          },
          "hovermode": "closest",
          "mapbox": {
           "style": "light"
          },
          "paper_bgcolor": "white",
          "plot_bgcolor": "#E5ECF6",
          "polar": {
           "angularaxis": {
            "gridcolor": "white",
            "linecolor": "white",
            "ticks": ""
           },
           "bgcolor": "#E5ECF6",
           "radialaxis": {
            "gridcolor": "white",
            "linecolor": "white",
            "ticks": ""
           }
          },
          "scene": {
           "xaxis": {
            "backgroundcolor": "#E5ECF6",
            "gridcolor": "white",
            "gridwidth": 2,
            "linecolor": "white",
            "showbackground": true,
            "ticks": "",
            "zerolinecolor": "white"
           },
           "yaxis": {
            "backgroundcolor": "#E5ECF6",
            "gridcolor": "white",
            "gridwidth": 2,
            "linecolor": "white",
            "showbackground": true,
            "ticks": "",
            "zerolinecolor": "white"
           },
           "zaxis": {
            "backgroundcolor": "#E5ECF6",
            "gridcolor": "white",
            "gridwidth": 2,
            "linecolor": "white",
            "showbackground": true,
            "ticks": "",
            "zerolinecolor": "white"
           }
          },
          "shapedefaults": {
           "line": {
            "color": "#2a3f5f"
           }
          },
          "ternary": {
           "aaxis": {
            "gridcolor": "white",
            "linecolor": "white",
            "ticks": ""
           },
           "baxis": {
            "gridcolor": "white",
            "linecolor": "white",
            "ticks": ""
           },
           "bgcolor": "#E5ECF6",
           "caxis": {
            "gridcolor": "white",
            "linecolor": "white",
            "ticks": ""
           }
          },
          "title": {
           "x": 0.05
          },
          "xaxis": {
           "automargin": true,
           "gridcolor": "white",
           "linecolor": "white",
           "ticks": "",
           "title": {
            "standoff": 15
           },
           "zerolinecolor": "white",
           "zerolinewidth": 2
          },
          "yaxis": {
           "automargin": true,
           "gridcolor": "white",
           "linecolor": "white",
           "ticks": "",
           "title": {
            "standoff": 15
           },
           "zerolinecolor": "white",
           "zerolinewidth": 2
          }
         }
        },
        "title": {
         "text": "Gender Distribution of Researchers"
        }
       }
      }
     },
     "metadata": {},
     "output_type": "display_data"
    }
   ],
   "source": [
    "total_researchers = df1['ResponseId'].nunique()\n",
    "total_responses = df1.dropna(subset=['gender'])['ResponseId'].nunique()\n",
    "missing_responses = total_researchers - total_responses\n",
    "\n",
    "response_percentage = (total_responses / total_researchers) * 100\n",
    "missing_percentage = (missing_responses / total_researchers) * 100\n",
    "\n",
    "gender_counts = df1['gender'].value_counts(dropna=False)\n",
    "\n",
    "print(\"\\n==== Gender Response Statistics ====\")\n",
    "print(f\"Total unique researchers (participants): {total_researchers}\")\n",
    "print(f\"Responded to gender question: {total_responses} ({response_percentage:.2f}%)\")\n",
    "print(f\"Did not respond: {missing_responses} ({missing_percentage:.2f}%)\\n\")\n",
    "\n",
    "print(\"==== Gender Distribution ====\")\n",
    "for gender, count in gender_counts.items():\n",
    "    percentage = (count / total_researchers) * 100\n",
    "    print(f\"{gender}: {count} ({percentage:.2f}%)\")\n",
    "\n",
    "gender_df = gender_counts.reset_index()\n",
    "gender_df.columns = ['Gender', 'Count']\n",
    "\n",
    "custom_colors = [\"#b2182b\", \"#ef8a62\", \"#fddbc7\", \"#d1e5f0\", \"#67a9cf\", \"#2166ac\"]\n",
    "\n",
    "fig = px.pie(\n",
    "    gender_df, \n",
    "    names='Gender', \n",
    "    values='Count', \n",
    "    title=\"Gender Distribution of Researchers\",\n",
    "    color_discrete_sequence=custom_colors\n",
    ")\n",
    "\n",
    "fig.show()\n"
   ]
  },
  {
   "cell_type": "code",
   "execution_count": 94,
   "metadata": {},
   "outputs": [
    {
     "name": "stdout",
     "output_type": "stream",
     "text": [
      "\n",
      "==== Gender Distribution (Only Respondents) ====\n",
      "Woman: 2237 (51.38%)\n",
      "Man: 2073 (47.61%)\n",
      "Non-binary person: 24 (0.55%)\n",
      "<span style=\"color:#999999;\">Prefer not to answer</span>: 20 (0.46%)\n"
     ]
    },
    {
     "data": {
      "application/vnd.plotly.v1+json": {
       "config": {
        "plotlyServerURL": "https://plot.ly"
       },
       "data": [
        {
         "domain": {
          "x": [
           0,
           1
          ],
          "y": [
           0,
           1
          ]
         },
         "hovertemplate": "Gender=%{label}<br>Count=%{value}<extra></extra>",
         "labels": [
          "Woman",
          "Man",
          "Non-binary person",
          "<span style=\"color:#999999;\">Prefer not to answer</span>"
         ],
         "legendgroup": "",
         "name": "",
         "showlegend": true,
         "type": "pie",
         "values": {
          "bdata": "vQgZCBgAFAA=",
          "dtype": "i2"
         }
        }
       ],
       "layout": {
        "legend": {
         "tracegroupgap": 0
        },
        "piecolorway": [
         "#b2182b",
         "#ef8a62",
         "#fddbc7",
         "#d1e5f0",
         "#67a9cf",
         "#2166ac"
        ],
        "template": {
         "data": {
          "bar": [
           {
            "error_x": {
             "color": "#2a3f5f"
            },
            "error_y": {
             "color": "#2a3f5f"
            },
            "marker": {
             "line": {
              "color": "#E5ECF6",
              "width": 0.5
             },
             "pattern": {
              "fillmode": "overlay",
              "size": 10,
              "solidity": 0.2
             }
            },
            "type": "bar"
           }
          ],
          "barpolar": [
           {
            "marker": {
             "line": {
              "color": "#E5ECF6",
              "width": 0.5
             },
             "pattern": {
              "fillmode": "overlay",
              "size": 10,
              "solidity": 0.2
             }
            },
            "type": "barpolar"
           }
          ],
          "carpet": [
           {
            "aaxis": {
             "endlinecolor": "#2a3f5f",
             "gridcolor": "white",
             "linecolor": "white",
             "minorgridcolor": "white",
             "startlinecolor": "#2a3f5f"
            },
            "baxis": {
             "endlinecolor": "#2a3f5f",
             "gridcolor": "white",
             "linecolor": "white",
             "minorgridcolor": "white",
             "startlinecolor": "#2a3f5f"
            },
            "type": "carpet"
           }
          ],
          "choropleth": [
           {
            "colorbar": {
             "outlinewidth": 0,
             "ticks": ""
            },
            "type": "choropleth"
           }
          ],
          "contour": [
           {
            "colorbar": {
             "outlinewidth": 0,
             "ticks": ""
            },
            "colorscale": [
             [
              0,
              "#0d0887"
             ],
             [
              0.1111111111111111,
              "#46039f"
             ],
             [
              0.2222222222222222,
              "#7201a8"
             ],
             [
              0.3333333333333333,
              "#9c179e"
             ],
             [
              0.4444444444444444,
              "#bd3786"
             ],
             [
              0.5555555555555556,
              "#d8576b"
             ],
             [
              0.6666666666666666,
              "#ed7953"
             ],
             [
              0.7777777777777778,
              "#fb9f3a"
             ],
             [
              0.8888888888888888,
              "#fdca26"
             ],
             [
              1,
              "#f0f921"
             ]
            ],
            "type": "contour"
           }
          ],
          "contourcarpet": [
           {
            "colorbar": {
             "outlinewidth": 0,
             "ticks": ""
            },
            "type": "contourcarpet"
           }
          ],
          "heatmap": [
           {
            "colorbar": {
             "outlinewidth": 0,
             "ticks": ""
            },
            "colorscale": [
             [
              0,
              "#0d0887"
             ],
             [
              0.1111111111111111,
              "#46039f"
             ],
             [
              0.2222222222222222,
              "#7201a8"
             ],
             [
              0.3333333333333333,
              "#9c179e"
             ],
             [
              0.4444444444444444,
              "#bd3786"
             ],
             [
              0.5555555555555556,
              "#d8576b"
             ],
             [
              0.6666666666666666,
              "#ed7953"
             ],
             [
              0.7777777777777778,
              "#fb9f3a"
             ],
             [
              0.8888888888888888,
              "#fdca26"
             ],
             [
              1,
              "#f0f921"
             ]
            ],
            "type": "heatmap"
           }
          ],
          "histogram": [
           {
            "marker": {
             "pattern": {
              "fillmode": "overlay",
              "size": 10,
              "solidity": 0.2
             }
            },
            "type": "histogram"
           }
          ],
          "histogram2d": [
           {
            "colorbar": {
             "outlinewidth": 0,
             "ticks": ""
            },
            "colorscale": [
             [
              0,
              "#0d0887"
             ],
             [
              0.1111111111111111,
              "#46039f"
             ],
             [
              0.2222222222222222,
              "#7201a8"
             ],
             [
              0.3333333333333333,
              "#9c179e"
             ],
             [
              0.4444444444444444,
              "#bd3786"
             ],
             [
              0.5555555555555556,
              "#d8576b"
             ],
             [
              0.6666666666666666,
              "#ed7953"
             ],
             [
              0.7777777777777778,
              "#fb9f3a"
             ],
             [
              0.8888888888888888,
              "#fdca26"
             ],
             [
              1,
              "#f0f921"
             ]
            ],
            "type": "histogram2d"
           }
          ],
          "histogram2dcontour": [
           {
            "colorbar": {
             "outlinewidth": 0,
             "ticks": ""
            },
            "colorscale": [
             [
              0,
              "#0d0887"
             ],
             [
              0.1111111111111111,
              "#46039f"
             ],
             [
              0.2222222222222222,
              "#7201a8"
             ],
             [
              0.3333333333333333,
              "#9c179e"
             ],
             [
              0.4444444444444444,
              "#bd3786"
             ],
             [
              0.5555555555555556,
              "#d8576b"
             ],
             [
              0.6666666666666666,
              "#ed7953"
             ],
             [
              0.7777777777777778,
              "#fb9f3a"
             ],
             [
              0.8888888888888888,
              "#fdca26"
             ],
             [
              1,
              "#f0f921"
             ]
            ],
            "type": "histogram2dcontour"
           }
          ],
          "mesh3d": [
           {
            "colorbar": {
             "outlinewidth": 0,
             "ticks": ""
            },
            "type": "mesh3d"
           }
          ],
          "parcoords": [
           {
            "line": {
             "colorbar": {
              "outlinewidth": 0,
              "ticks": ""
             }
            },
            "type": "parcoords"
           }
          ],
          "pie": [
           {
            "automargin": true,
            "type": "pie"
           }
          ],
          "scatter": [
           {
            "fillpattern": {
             "fillmode": "overlay",
             "size": 10,
             "solidity": 0.2
            },
            "type": "scatter"
           }
          ],
          "scatter3d": [
           {
            "line": {
             "colorbar": {
              "outlinewidth": 0,
              "ticks": ""
             }
            },
            "marker": {
             "colorbar": {
              "outlinewidth": 0,
              "ticks": ""
             }
            },
            "type": "scatter3d"
           }
          ],
          "scattercarpet": [
           {
            "marker": {
             "colorbar": {
              "outlinewidth": 0,
              "ticks": ""
             }
            },
            "type": "scattercarpet"
           }
          ],
          "scattergeo": [
           {
            "marker": {
             "colorbar": {
              "outlinewidth": 0,
              "ticks": ""
             }
            },
            "type": "scattergeo"
           }
          ],
          "scattergl": [
           {
            "marker": {
             "colorbar": {
              "outlinewidth": 0,
              "ticks": ""
             }
            },
            "type": "scattergl"
           }
          ],
          "scattermap": [
           {
            "marker": {
             "colorbar": {
              "outlinewidth": 0,
              "ticks": ""
             }
            },
            "type": "scattermap"
           }
          ],
          "scattermapbox": [
           {
            "marker": {
             "colorbar": {
              "outlinewidth": 0,
              "ticks": ""
             }
            },
            "type": "scattermapbox"
           }
          ],
          "scatterpolar": [
           {
            "marker": {
             "colorbar": {
              "outlinewidth": 0,
              "ticks": ""
             }
            },
            "type": "scatterpolar"
           }
          ],
          "scatterpolargl": [
           {
            "marker": {
             "colorbar": {
              "outlinewidth": 0,
              "ticks": ""
             }
            },
            "type": "scatterpolargl"
           }
          ],
          "scatterternary": [
           {
            "marker": {
             "colorbar": {
              "outlinewidth": 0,
              "ticks": ""
             }
            },
            "type": "scatterternary"
           }
          ],
          "surface": [
           {
            "colorbar": {
             "outlinewidth": 0,
             "ticks": ""
            },
            "colorscale": [
             [
              0,
              "#0d0887"
             ],
             [
              0.1111111111111111,
              "#46039f"
             ],
             [
              0.2222222222222222,
              "#7201a8"
             ],
             [
              0.3333333333333333,
              "#9c179e"
             ],
             [
              0.4444444444444444,
              "#bd3786"
             ],
             [
              0.5555555555555556,
              "#d8576b"
             ],
             [
              0.6666666666666666,
              "#ed7953"
             ],
             [
              0.7777777777777778,
              "#fb9f3a"
             ],
             [
              0.8888888888888888,
              "#fdca26"
             ],
             [
              1,
              "#f0f921"
             ]
            ],
            "type": "surface"
           }
          ],
          "table": [
           {
            "cells": {
             "fill": {
              "color": "#EBF0F8"
             },
             "line": {
              "color": "white"
             }
            },
            "header": {
             "fill": {
              "color": "#C8D4E3"
             },
             "line": {
              "color": "white"
             }
            },
            "type": "table"
           }
          ]
         },
         "layout": {
          "annotationdefaults": {
           "arrowcolor": "#2a3f5f",
           "arrowhead": 0,
           "arrowwidth": 1
          },
          "autotypenumbers": "strict",
          "coloraxis": {
           "colorbar": {
            "outlinewidth": 0,
            "ticks": ""
           }
          },
          "colorscale": {
           "diverging": [
            [
             0,
             "#8e0152"
            ],
            [
             0.1,
             "#c51b7d"
            ],
            [
             0.2,
             "#de77ae"
            ],
            [
             0.3,
             "#f1b6da"
            ],
            [
             0.4,
             "#fde0ef"
            ],
            [
             0.5,
             "#f7f7f7"
            ],
            [
             0.6,
             "#e6f5d0"
            ],
            [
             0.7,
             "#b8e186"
            ],
            [
             0.8,
             "#7fbc41"
            ],
            [
             0.9,
             "#4d9221"
            ],
            [
             1,
             "#276419"
            ]
           ],
           "sequential": [
            [
             0,
             "#0d0887"
            ],
            [
             0.1111111111111111,
             "#46039f"
            ],
            [
             0.2222222222222222,
             "#7201a8"
            ],
            [
             0.3333333333333333,
             "#9c179e"
            ],
            [
             0.4444444444444444,
             "#bd3786"
            ],
            [
             0.5555555555555556,
             "#d8576b"
            ],
            [
             0.6666666666666666,
             "#ed7953"
            ],
            [
             0.7777777777777778,
             "#fb9f3a"
            ],
            [
             0.8888888888888888,
             "#fdca26"
            ],
            [
             1,
             "#f0f921"
            ]
           ],
           "sequentialminus": [
            [
             0,
             "#0d0887"
            ],
            [
             0.1111111111111111,
             "#46039f"
            ],
            [
             0.2222222222222222,
             "#7201a8"
            ],
            [
             0.3333333333333333,
             "#9c179e"
            ],
            [
             0.4444444444444444,
             "#bd3786"
            ],
            [
             0.5555555555555556,
             "#d8576b"
            ],
            [
             0.6666666666666666,
             "#ed7953"
            ],
            [
             0.7777777777777778,
             "#fb9f3a"
            ],
            [
             0.8888888888888888,
             "#fdca26"
            ],
            [
             1,
             "#f0f921"
            ]
           ]
          },
          "colorway": [
           "#636efa",
           "#EF553B",
           "#00cc96",
           "#ab63fa",
           "#FFA15A",
           "#19d3f3",
           "#FF6692",
           "#B6E880",
           "#FF97FF",
           "#FECB52"
          ],
          "font": {
           "color": "#2a3f5f"
          },
          "geo": {
           "bgcolor": "white",
           "lakecolor": "white",
           "landcolor": "#E5ECF6",
           "showlakes": true,
           "showland": true,
           "subunitcolor": "white"
          },
          "hoverlabel": {
           "align": "left"
          },
          "hovermode": "closest",
          "mapbox": {
           "style": "light"
          },
          "paper_bgcolor": "white",
          "plot_bgcolor": "#E5ECF6",
          "polar": {
           "angularaxis": {
            "gridcolor": "white",
            "linecolor": "white",
            "ticks": ""
           },
           "bgcolor": "#E5ECF6",
           "radialaxis": {
            "gridcolor": "white",
            "linecolor": "white",
            "ticks": ""
           }
          },
          "scene": {
           "xaxis": {
            "backgroundcolor": "#E5ECF6",
            "gridcolor": "white",
            "gridwidth": 2,
            "linecolor": "white",
            "showbackground": true,
            "ticks": "",
            "zerolinecolor": "white"
           },
           "yaxis": {
            "backgroundcolor": "#E5ECF6",
            "gridcolor": "white",
            "gridwidth": 2,
            "linecolor": "white",
            "showbackground": true,
            "ticks": "",
            "zerolinecolor": "white"
           },
           "zaxis": {
            "backgroundcolor": "#E5ECF6",
            "gridcolor": "white",
            "gridwidth": 2,
            "linecolor": "white",
            "showbackground": true,
            "ticks": "",
            "zerolinecolor": "white"
           }
          },
          "shapedefaults": {
           "line": {
            "color": "#2a3f5f"
           }
          },
          "ternary": {
           "aaxis": {
            "gridcolor": "white",
            "linecolor": "white",
            "ticks": ""
           },
           "baxis": {
            "gridcolor": "white",
            "linecolor": "white",
            "ticks": ""
           },
           "bgcolor": "#E5ECF6",
           "caxis": {
            "gridcolor": "white",
            "linecolor": "white",
            "ticks": ""
           }
          },
          "title": {
           "x": 0.05
          },
          "xaxis": {
           "automargin": true,
           "gridcolor": "white",
           "linecolor": "white",
           "ticks": "",
           "title": {
            "standoff": 15
           },
           "zerolinecolor": "white",
           "zerolinewidth": 2
          },
          "yaxis": {
           "automargin": true,
           "gridcolor": "white",
           "linecolor": "white",
           "ticks": "",
           "title": {
            "standoff": 15
           },
           "zerolinecolor": "white",
           "zerolinewidth": 2
          }
         }
        },
        "title": {
         "text": "Gender Distribution (Only Respondents)"
        }
       }
      }
     },
     "metadata": {},
     "output_type": "display_data"
    }
   ],
   "source": [
    "responding_gender_counts = df1.dropna(subset=['gender'])['gender'].value_counts()\n",
    "\n",
    "print(\"\\n==== Gender Distribution (Only Respondents) ====\")\n",
    "for gender, count in responding_gender_counts.items():\n",
    "    percentage = (count / total_responses) * 100\n",
    "    print(f\"{gender}: {count} ({percentage:.2f}%)\")\n",
    "\n",
    "responding_gender_df = responding_gender_counts.reset_index()\n",
    "responding_gender_df.columns = ['Gender', 'Count']\n",
    "\n",
    "fig = px.pie(\n",
    "    responding_gender_df, \n",
    "    names='Gender', \n",
    "    values='Count', \n",
    "    title=\"Gender Distribution (Only Respondents)\",\n",
    "        color_discrete_sequence=custom_colors  \n",
    ")\n",
    "\n",
    "fig.show()\n"
   ]
  },
  {
   "cell_type": "markdown",
   "metadata": {},
   "source": [
    "There is another col \"DE2\", asing what is their gender identity. \n",
    "Let's verify the numbers."
   ]
  },
  {
   "cell_type": "code",
   "execution_count": null,
   "metadata": {},
   "outputs": [
    {
     "name": "stdout",
     "output_type": "stream",
     "text": [
      "\n",
      "==== Gender Response Statistics ====\n",
      "Total unique researchers (participants): 10070\n",
      "Responded to gender question: 6579 (65.33%)\n",
      "Did not respond: 3491 (34.67%)\n",
      "\n",
      "==== Gender Distribution ====\n",
      "nan: 3491 (34.67%)\n",
      "1: 3447 (34.23%)\n",
      "2: 3064 (30.43%)\n",
      "4: 35 (0.35%)\n",
      "3: 33 (0.33%)\n"
     ]
    },
    {
     "data": {
      "application/vnd.plotly.v1+json": {
       "config": {
        "plotlyServerURL": "https://plot.ly"
       },
       "data": [
        {
         "domain": {
          "x": [
           0,
           1
          ],
          "y": [
           0,
           1
          ]
         },
         "hovertemplate": "Gender=%{label}<br>Count=%{value}<extra></extra>",
         "labels": {
          "bdata": "AAAAAAAA+H8AAAAAAADwPwAAAAAAAABAAAAAAAAAEEAAAAAAAAAIQA==",
          "dtype": "f8"
         },
         "legendgroup": "",
         "name": "",
         "showlegend": true,
         "type": "pie",
         "values": {
          "bdata": "ow13DfgLIwAhAA==",
          "dtype": "i2"
         }
        }
       ],
       "layout": {
        "legend": {
         "tracegroupgap": 0
        },
        "piecolorway": [
         "#b2182b",
         "#ef8a62",
         "#fddbc7",
         "#d1e5f0",
         "#67a9cf",
         "#2166ac"
        ],
        "template": {
         "data": {
          "bar": [
           {
            "error_x": {
             "color": "#2a3f5f"
            },
            "error_y": {
             "color": "#2a3f5f"
            },
            "marker": {
             "line": {
              "color": "#E5ECF6",
              "width": 0.5
             },
             "pattern": {
              "fillmode": "overlay",
              "size": 10,
              "solidity": 0.2
             }
            },
            "type": "bar"
           }
          ],
          "barpolar": [
           {
            "marker": {
             "line": {
              "color": "#E5ECF6",
              "width": 0.5
             },
             "pattern": {
              "fillmode": "overlay",
              "size": 10,
              "solidity": 0.2
             }
            },
            "type": "barpolar"
           }
          ],
          "carpet": [
           {
            "aaxis": {
             "endlinecolor": "#2a3f5f",
             "gridcolor": "white",
             "linecolor": "white",
             "minorgridcolor": "white",
             "startlinecolor": "#2a3f5f"
            },
            "baxis": {
             "endlinecolor": "#2a3f5f",
             "gridcolor": "white",
             "linecolor": "white",
             "minorgridcolor": "white",
             "startlinecolor": "#2a3f5f"
            },
            "type": "carpet"
           }
          ],
          "choropleth": [
           {
            "colorbar": {
             "outlinewidth": 0,
             "ticks": ""
            },
            "type": "choropleth"
           }
          ],
          "contour": [
           {
            "colorbar": {
             "outlinewidth": 0,
             "ticks": ""
            },
            "colorscale": [
             [
              0,
              "#0d0887"
             ],
             [
              0.1111111111111111,
              "#46039f"
             ],
             [
              0.2222222222222222,
              "#7201a8"
             ],
             [
              0.3333333333333333,
              "#9c179e"
             ],
             [
              0.4444444444444444,
              "#bd3786"
             ],
             [
              0.5555555555555556,
              "#d8576b"
             ],
             [
              0.6666666666666666,
              "#ed7953"
             ],
             [
              0.7777777777777778,
              "#fb9f3a"
             ],
             [
              0.8888888888888888,
              "#fdca26"
             ],
             [
              1,
              "#f0f921"
             ]
            ],
            "type": "contour"
           }
          ],
          "contourcarpet": [
           {
            "colorbar": {
             "outlinewidth": 0,
             "ticks": ""
            },
            "type": "contourcarpet"
           }
          ],
          "heatmap": [
           {
            "colorbar": {
             "outlinewidth": 0,
             "ticks": ""
            },
            "colorscale": [
             [
              0,
              "#0d0887"
             ],
             [
              0.1111111111111111,
              "#46039f"
             ],
             [
              0.2222222222222222,
              "#7201a8"
             ],
             [
              0.3333333333333333,
              "#9c179e"
             ],
             [
              0.4444444444444444,
              "#bd3786"
             ],
             [
              0.5555555555555556,
              "#d8576b"
             ],
             [
              0.6666666666666666,
              "#ed7953"
             ],
             [
              0.7777777777777778,
              "#fb9f3a"
             ],
             [
              0.8888888888888888,
              "#fdca26"
             ],
             [
              1,
              "#f0f921"
             ]
            ],
            "type": "heatmap"
           }
          ],
          "histogram": [
           {
            "marker": {
             "pattern": {
              "fillmode": "overlay",
              "size": 10,
              "solidity": 0.2
             }
            },
            "type": "histogram"
           }
          ],
          "histogram2d": [
           {
            "colorbar": {
             "outlinewidth": 0,
             "ticks": ""
            },
            "colorscale": [
             [
              0,
              "#0d0887"
             ],
             [
              0.1111111111111111,
              "#46039f"
             ],
             [
              0.2222222222222222,
              "#7201a8"
             ],
             [
              0.3333333333333333,
              "#9c179e"
             ],
             [
              0.4444444444444444,
              "#bd3786"
             ],
             [
              0.5555555555555556,
              "#d8576b"
             ],
             [
              0.6666666666666666,
              "#ed7953"
             ],
             [
              0.7777777777777778,
              "#fb9f3a"
             ],
             [
              0.8888888888888888,
              "#fdca26"
             ],
             [
              1,
              "#f0f921"
             ]
            ],
            "type": "histogram2d"
           }
          ],
          "histogram2dcontour": [
           {
            "colorbar": {
             "outlinewidth": 0,
             "ticks": ""
            },
            "colorscale": [
             [
              0,
              "#0d0887"
             ],
             [
              0.1111111111111111,
              "#46039f"
             ],
             [
              0.2222222222222222,
              "#7201a8"
             ],
             [
              0.3333333333333333,
              "#9c179e"
             ],
             [
              0.4444444444444444,
              "#bd3786"
             ],
             [
              0.5555555555555556,
              "#d8576b"
             ],
             [
              0.6666666666666666,
              "#ed7953"
             ],
             [
              0.7777777777777778,
              "#fb9f3a"
             ],
             [
              0.8888888888888888,
              "#fdca26"
             ],
             [
              1,
              "#f0f921"
             ]
            ],
            "type": "histogram2dcontour"
           }
          ],
          "mesh3d": [
           {
            "colorbar": {
             "outlinewidth": 0,
             "ticks": ""
            },
            "type": "mesh3d"
           }
          ],
          "parcoords": [
           {
            "line": {
             "colorbar": {
              "outlinewidth": 0,
              "ticks": ""
             }
            },
            "type": "parcoords"
           }
          ],
          "pie": [
           {
            "automargin": true,
            "type": "pie"
           }
          ],
          "scatter": [
           {
            "fillpattern": {
             "fillmode": "overlay",
             "size": 10,
             "solidity": 0.2
            },
            "type": "scatter"
           }
          ],
          "scatter3d": [
           {
            "line": {
             "colorbar": {
              "outlinewidth": 0,
              "ticks": ""
             }
            },
            "marker": {
             "colorbar": {
              "outlinewidth": 0,
              "ticks": ""
             }
            },
            "type": "scatter3d"
           }
          ],
          "scattercarpet": [
           {
            "marker": {
             "colorbar": {
              "outlinewidth": 0,
              "ticks": ""
             }
            },
            "type": "scattercarpet"
           }
          ],
          "scattergeo": [
           {
            "marker": {
             "colorbar": {
              "outlinewidth": 0,
              "ticks": ""
             }
            },
            "type": "scattergeo"
           }
          ],
          "scattergl": [
           {
            "marker": {
             "colorbar": {
              "outlinewidth": 0,
              "ticks": ""
             }
            },
            "type": "scattergl"
           }
          ],
          "scattermap": [
           {
            "marker": {
             "colorbar": {
              "outlinewidth": 0,
              "ticks": ""
             }
            },
            "type": "scattermap"
           }
          ],
          "scattermapbox": [
           {
            "marker": {
             "colorbar": {
              "outlinewidth": 0,
              "ticks": ""
             }
            },
            "type": "scattermapbox"
           }
          ],
          "scatterpolar": [
           {
            "marker": {
             "colorbar": {
              "outlinewidth": 0,
              "ticks": ""
             }
            },
            "type": "scatterpolar"
           }
          ],
          "scatterpolargl": [
           {
            "marker": {
             "colorbar": {
              "outlinewidth": 0,
              "ticks": ""
             }
            },
            "type": "scatterpolargl"
           }
          ],
          "scatterternary": [
           {
            "marker": {
             "colorbar": {
              "outlinewidth": 0,
              "ticks": ""
             }
            },
            "type": "scatterternary"
           }
          ],
          "surface": [
           {
            "colorbar": {
             "outlinewidth": 0,
             "ticks": ""
            },
            "colorscale": [
             [
              0,
              "#0d0887"
             ],
             [
              0.1111111111111111,
              "#46039f"
             ],
             [
              0.2222222222222222,
              "#7201a8"
             ],
             [
              0.3333333333333333,
              "#9c179e"
             ],
             [
              0.4444444444444444,
              "#bd3786"
             ],
             [
              0.5555555555555556,
              "#d8576b"
             ],
             [
              0.6666666666666666,
              "#ed7953"
             ],
             [
              0.7777777777777778,
              "#fb9f3a"
             ],
             [
              0.8888888888888888,
              "#fdca26"
             ],
             [
              1,
              "#f0f921"
             ]
            ],
            "type": "surface"
           }
          ],
          "table": [
           {
            "cells": {
             "fill": {
              "color": "#EBF0F8"
             },
             "line": {
              "color": "white"
             }
            },
            "header": {
             "fill": {
              "color": "#C8D4E3"
             },
             "line": {
              "color": "white"
             }
            },
            "type": "table"
           }
          ]
         },
         "layout": {
          "annotationdefaults": {
           "arrowcolor": "#2a3f5f",
           "arrowhead": 0,
           "arrowwidth": 1
          },
          "autotypenumbers": "strict",
          "coloraxis": {
           "colorbar": {
            "outlinewidth": 0,
            "ticks": ""
           }
          },
          "colorscale": {
           "diverging": [
            [
             0,
             "#8e0152"
            ],
            [
             0.1,
             "#c51b7d"
            ],
            [
             0.2,
             "#de77ae"
            ],
            [
             0.3,
             "#f1b6da"
            ],
            [
             0.4,
             "#fde0ef"
            ],
            [
             0.5,
             "#f7f7f7"
            ],
            [
             0.6,
             "#e6f5d0"
            ],
            [
             0.7,
             "#b8e186"
            ],
            [
             0.8,
             "#7fbc41"
            ],
            [
             0.9,
             "#4d9221"
            ],
            [
             1,
             "#276419"
            ]
           ],
           "sequential": [
            [
             0,
             "#0d0887"
            ],
            [
             0.1111111111111111,
             "#46039f"
            ],
            [
             0.2222222222222222,
             "#7201a8"
            ],
            [
             0.3333333333333333,
             "#9c179e"
            ],
            [
             0.4444444444444444,
             "#bd3786"
            ],
            [
             0.5555555555555556,
             "#d8576b"
            ],
            [
             0.6666666666666666,
             "#ed7953"
            ],
            [
             0.7777777777777778,
             "#fb9f3a"
            ],
            [
             0.8888888888888888,
             "#fdca26"
            ],
            [
             1,
             "#f0f921"
            ]
           ],
           "sequentialminus": [
            [
             0,
             "#0d0887"
            ],
            [
             0.1111111111111111,
             "#46039f"
            ],
            [
             0.2222222222222222,
             "#7201a8"
            ],
            [
             0.3333333333333333,
             "#9c179e"
            ],
            [
             0.4444444444444444,
             "#bd3786"
            ],
            [
             0.5555555555555556,
             "#d8576b"
            ],
            [
             0.6666666666666666,
             "#ed7953"
            ],
            [
             0.7777777777777778,
             "#fb9f3a"
            ],
            [
             0.8888888888888888,
             "#fdca26"
            ],
            [
             1,
             "#f0f921"
            ]
           ]
          },
          "colorway": [
           "#636efa",
           "#EF553B",
           "#00cc96",
           "#ab63fa",
           "#FFA15A",
           "#19d3f3",
           "#FF6692",
           "#B6E880",
           "#FF97FF",
           "#FECB52"
          ],
          "font": {
           "color": "#2a3f5f"
          },
          "geo": {
           "bgcolor": "white",
           "lakecolor": "white",
           "landcolor": "#E5ECF6",
           "showlakes": true,
           "showland": true,
           "subunitcolor": "white"
          },
          "hoverlabel": {
           "align": "left"
          },
          "hovermode": "closest",
          "mapbox": {
           "style": "light"
          },
          "paper_bgcolor": "white",
          "plot_bgcolor": "#E5ECF6",
          "polar": {
           "angularaxis": {
            "gridcolor": "white",
            "linecolor": "white",
            "ticks": ""
           },
           "bgcolor": "#E5ECF6",
           "radialaxis": {
            "gridcolor": "white",
            "linecolor": "white",
            "ticks": ""
           }
          },
          "scene": {
           "xaxis": {
            "backgroundcolor": "#E5ECF6",
            "gridcolor": "white",
            "gridwidth": 2,
            "linecolor": "white",
            "showbackground": true,
            "ticks": "",
            "zerolinecolor": "white"
           },
           "yaxis": {
            "backgroundcolor": "#E5ECF6",
            "gridcolor": "white",
            "gridwidth": 2,
            "linecolor": "white",
            "showbackground": true,
            "ticks": "",
            "zerolinecolor": "white"
           },
           "zaxis": {
            "backgroundcolor": "#E5ECF6",
            "gridcolor": "white",
            "gridwidth": 2,
            "linecolor": "white",
            "showbackground": true,
            "ticks": "",
            "zerolinecolor": "white"
           }
          },
          "shapedefaults": {
           "line": {
            "color": "#2a3f5f"
           }
          },
          "ternary": {
           "aaxis": {
            "gridcolor": "white",
            "linecolor": "white",
            "ticks": ""
           },
           "baxis": {
            "gridcolor": "white",
            "linecolor": "white",
            "ticks": ""
           },
           "bgcolor": "#E5ECF6",
           "caxis": {
            "gridcolor": "white",
            "linecolor": "white",
            "ticks": ""
           }
          },
          "title": {
           "x": 0.05
          },
          "xaxis": {
           "automargin": true,
           "gridcolor": "white",
           "linecolor": "white",
           "ticks": "",
           "title": {
            "standoff": 15
           },
           "zerolinecolor": "white",
           "zerolinewidth": 2
          },
          "yaxis": {
           "automargin": true,
           "gridcolor": "white",
           "linecolor": "white",
           "ticks": "",
           "title": {
            "standoff": 15
           },
           "zerolinecolor": "white",
           "zerolinewidth": 2
          }
         }
        },
        "title": {
         "text": "Gender Distribution of Researchers"
        }
       }
      }
     },
     "metadata": {},
     "output_type": "display_data"
    }
   ],
   "source": [
    "total_researchers = df1['ResponseId'].nunique()\n",
    "responded_count = df1['DE2'].notna().sum()\n",
    "not_responded_count = total_researchers - responded_count\n",
    "\n",
    "responded_percentage = (responded_count / total_researchers) * 100\n",
    "not_responded_percentage = (not_responded_count / total_researchers) * 100\n",
    "\n",
    "gender_counts = df1['DE2'].value_counts(dropna=False)\n",
    "\n",
    "print(\"\\n==== Gender Response Statistics ====\")\n",
    "print(f\"Total unique researchers (participants): {total_researchers}\")\n",
    "print(f\"Responded to gender question: {responded_count} ({responded_percentage:.2f}%)\")\n",
    "print(f\"Did not respond: {not_responded_count} ({not_responded_percentage:.2f}%)\\n\")\n",
    "\n",
    "print(\"==== Gender Distribution ====\")\n",
    "for gender, count in gender_counts.items():\n",
    "    percentage = (count / total_researchers) * 100\n",
    "    print(f\"{gender}: {count} ({percentage:.2f}%)\")\n",
    "\n",
    "gender_df = gender_counts.reset_index()\n",
    "gender_df.columns = ['Gender', 'Count']\n",
    "\n",
    "fig = px.pie(\n",
    "    gender_df, \n",
    "    names='Gender', \n",
    "    values='Count', \n",
    "    title=\"Gender Distribution of Researchers\",\n",
    "        color_discrete_sequence=custom_colors  \n",
    ")\n",
    "\n",
    "fig.show()\n"
   ]
  },
  {
   "cell_type": "code",
   "execution_count": null,
   "metadata": {},
   "outputs": [
    {
     "name": "stdout",
     "output_type": "stream",
     "text": [
      "\n",
      "==== Gender Distribution (Only Respondents) ====\n",
      "Total Unique Researchers (Participants): 10070\n",
      "Total Responses: 6579 (65.33%)\n",
      "\n",
      "1: 3447 (52.39%)\n",
      "2: 3064 (46.57%)\n",
      "4: 35 (0.53%)\n",
      "3: 33 (0.50%)\n"
     ]
    },
    {
     "data": {
      "application/vnd.plotly.v1+json": {
       "config": {
        "plotlyServerURL": "https://plot.ly"
       },
       "data": [
        {
         "domain": {
          "x": [
           0,
           1
          ],
          "y": [
           0,
           1
          ]
         },
         "hovertemplate": "Gender=%{label}<br>Count=%{value}<extra></extra>",
         "labels": {
          "bdata": "AQIEAw==",
          "dtype": "i1"
         },
         "legendgroup": "",
         "name": "",
         "showlegend": true,
         "type": "pie",
         "values": {
          "bdata": "dw34CyMAIQA=",
          "dtype": "i2"
         }
        }
       ],
       "layout": {
        "legend": {
         "tracegroupgap": 0
        },
        "piecolorway": [
         "#b2182b",
         "#ef8a62",
         "#fddbc7",
         "#d1e5f0",
         "#67a9cf",
         "#2166ac"
        ],
        "template": {
         "data": {
          "bar": [
           {
            "error_x": {
             "color": "#2a3f5f"
            },
            "error_y": {
             "color": "#2a3f5f"
            },
            "marker": {
             "line": {
              "color": "#E5ECF6",
              "width": 0.5
             },
             "pattern": {
              "fillmode": "overlay",
              "size": 10,
              "solidity": 0.2
             }
            },
            "type": "bar"
           }
          ],
          "barpolar": [
           {
            "marker": {
             "line": {
              "color": "#E5ECF6",
              "width": 0.5
             },
             "pattern": {
              "fillmode": "overlay",
              "size": 10,
              "solidity": 0.2
             }
            },
            "type": "barpolar"
           }
          ],
          "carpet": [
           {
            "aaxis": {
             "endlinecolor": "#2a3f5f",
             "gridcolor": "white",
             "linecolor": "white",
             "minorgridcolor": "white",
             "startlinecolor": "#2a3f5f"
            },
            "baxis": {
             "endlinecolor": "#2a3f5f",
             "gridcolor": "white",
             "linecolor": "white",
             "minorgridcolor": "white",
             "startlinecolor": "#2a3f5f"
            },
            "type": "carpet"
           }
          ],
          "choropleth": [
           {
            "colorbar": {
             "outlinewidth": 0,
             "ticks": ""
            },
            "type": "choropleth"
           }
          ],
          "contour": [
           {
            "colorbar": {
             "outlinewidth": 0,
             "ticks": ""
            },
            "colorscale": [
             [
              0,
              "#0d0887"
             ],
             [
              0.1111111111111111,
              "#46039f"
             ],
             [
              0.2222222222222222,
              "#7201a8"
             ],
             [
              0.3333333333333333,
              "#9c179e"
             ],
             [
              0.4444444444444444,
              "#bd3786"
             ],
             [
              0.5555555555555556,
              "#d8576b"
             ],
             [
              0.6666666666666666,
              "#ed7953"
             ],
             [
              0.7777777777777778,
              "#fb9f3a"
             ],
             [
              0.8888888888888888,
              "#fdca26"
             ],
             [
              1,
              "#f0f921"
             ]
            ],
            "type": "contour"
           }
          ],
          "contourcarpet": [
           {
            "colorbar": {
             "outlinewidth": 0,
             "ticks": ""
            },
            "type": "contourcarpet"
           }
          ],
          "heatmap": [
           {
            "colorbar": {
             "outlinewidth": 0,
             "ticks": ""
            },
            "colorscale": [
             [
              0,
              "#0d0887"
             ],
             [
              0.1111111111111111,
              "#46039f"
             ],
             [
              0.2222222222222222,
              "#7201a8"
             ],
             [
              0.3333333333333333,
              "#9c179e"
             ],
             [
              0.4444444444444444,
              "#bd3786"
             ],
             [
              0.5555555555555556,
              "#d8576b"
             ],
             [
              0.6666666666666666,
              "#ed7953"
             ],
             [
              0.7777777777777778,
              "#fb9f3a"
             ],
             [
              0.8888888888888888,
              "#fdca26"
             ],
             [
              1,
              "#f0f921"
             ]
            ],
            "type": "heatmap"
           }
          ],
          "histogram": [
           {
            "marker": {
             "pattern": {
              "fillmode": "overlay",
              "size": 10,
              "solidity": 0.2
             }
            },
            "type": "histogram"
           }
          ],
          "histogram2d": [
           {
            "colorbar": {
             "outlinewidth": 0,
             "ticks": ""
            },
            "colorscale": [
             [
              0,
              "#0d0887"
             ],
             [
              0.1111111111111111,
              "#46039f"
             ],
             [
              0.2222222222222222,
              "#7201a8"
             ],
             [
              0.3333333333333333,
              "#9c179e"
             ],
             [
              0.4444444444444444,
              "#bd3786"
             ],
             [
              0.5555555555555556,
              "#d8576b"
             ],
             [
              0.6666666666666666,
              "#ed7953"
             ],
             [
              0.7777777777777778,
              "#fb9f3a"
             ],
             [
              0.8888888888888888,
              "#fdca26"
             ],
             [
              1,
              "#f0f921"
             ]
            ],
            "type": "histogram2d"
           }
          ],
          "histogram2dcontour": [
           {
            "colorbar": {
             "outlinewidth": 0,
             "ticks": ""
            },
            "colorscale": [
             [
              0,
              "#0d0887"
             ],
             [
              0.1111111111111111,
              "#46039f"
             ],
             [
              0.2222222222222222,
              "#7201a8"
             ],
             [
              0.3333333333333333,
              "#9c179e"
             ],
             [
              0.4444444444444444,
              "#bd3786"
             ],
             [
              0.5555555555555556,
              "#d8576b"
             ],
             [
              0.6666666666666666,
              "#ed7953"
             ],
             [
              0.7777777777777778,
              "#fb9f3a"
             ],
             [
              0.8888888888888888,
              "#fdca26"
             ],
             [
              1,
              "#f0f921"
             ]
            ],
            "type": "histogram2dcontour"
           }
          ],
          "mesh3d": [
           {
            "colorbar": {
             "outlinewidth": 0,
             "ticks": ""
            },
            "type": "mesh3d"
           }
          ],
          "parcoords": [
           {
            "line": {
             "colorbar": {
              "outlinewidth": 0,
              "ticks": ""
             }
            },
            "type": "parcoords"
           }
          ],
          "pie": [
           {
            "automargin": true,
            "type": "pie"
           }
          ],
          "scatter": [
           {
            "fillpattern": {
             "fillmode": "overlay",
             "size": 10,
             "solidity": 0.2
            },
            "type": "scatter"
           }
          ],
          "scatter3d": [
           {
            "line": {
             "colorbar": {
              "outlinewidth": 0,
              "ticks": ""
             }
            },
            "marker": {
             "colorbar": {
              "outlinewidth": 0,
              "ticks": ""
             }
            },
            "type": "scatter3d"
           }
          ],
          "scattercarpet": [
           {
            "marker": {
             "colorbar": {
              "outlinewidth": 0,
              "ticks": ""
             }
            },
            "type": "scattercarpet"
           }
          ],
          "scattergeo": [
           {
            "marker": {
             "colorbar": {
              "outlinewidth": 0,
              "ticks": ""
             }
            },
            "type": "scattergeo"
           }
          ],
          "scattergl": [
           {
            "marker": {
             "colorbar": {
              "outlinewidth": 0,
              "ticks": ""
             }
            },
            "type": "scattergl"
           }
          ],
          "scattermap": [
           {
            "marker": {
             "colorbar": {
              "outlinewidth": 0,
              "ticks": ""
             }
            },
            "type": "scattermap"
           }
          ],
          "scattermapbox": [
           {
            "marker": {
             "colorbar": {
              "outlinewidth": 0,
              "ticks": ""
             }
            },
            "type": "scattermapbox"
           }
          ],
          "scatterpolar": [
           {
            "marker": {
             "colorbar": {
              "outlinewidth": 0,
              "ticks": ""
             }
            },
            "type": "scatterpolar"
           }
          ],
          "scatterpolargl": [
           {
            "marker": {
             "colorbar": {
              "outlinewidth": 0,
              "ticks": ""
             }
            },
            "type": "scatterpolargl"
           }
          ],
          "scatterternary": [
           {
            "marker": {
             "colorbar": {
              "outlinewidth": 0,
              "ticks": ""
             }
            },
            "type": "scatterternary"
           }
          ],
          "surface": [
           {
            "colorbar": {
             "outlinewidth": 0,
             "ticks": ""
            },
            "colorscale": [
             [
              0,
              "#0d0887"
             ],
             [
              0.1111111111111111,
              "#46039f"
             ],
             [
              0.2222222222222222,
              "#7201a8"
             ],
             [
              0.3333333333333333,
              "#9c179e"
             ],
             [
              0.4444444444444444,
              "#bd3786"
             ],
             [
              0.5555555555555556,
              "#d8576b"
             ],
             [
              0.6666666666666666,
              "#ed7953"
             ],
             [
              0.7777777777777778,
              "#fb9f3a"
             ],
             [
              0.8888888888888888,
              "#fdca26"
             ],
             [
              1,
              "#f0f921"
             ]
            ],
            "type": "surface"
           }
          ],
          "table": [
           {
            "cells": {
             "fill": {
              "color": "#EBF0F8"
             },
             "line": {
              "color": "white"
             }
            },
            "header": {
             "fill": {
              "color": "#C8D4E3"
             },
             "line": {
              "color": "white"
             }
            },
            "type": "table"
           }
          ]
         },
         "layout": {
          "annotationdefaults": {
           "arrowcolor": "#2a3f5f",
           "arrowhead": 0,
           "arrowwidth": 1
          },
          "autotypenumbers": "strict",
          "coloraxis": {
           "colorbar": {
            "outlinewidth": 0,
            "ticks": ""
           }
          },
          "colorscale": {
           "diverging": [
            [
             0,
             "#8e0152"
            ],
            [
             0.1,
             "#c51b7d"
            ],
            [
             0.2,
             "#de77ae"
            ],
            [
             0.3,
             "#f1b6da"
            ],
            [
             0.4,
             "#fde0ef"
            ],
            [
             0.5,
             "#f7f7f7"
            ],
            [
             0.6,
             "#e6f5d0"
            ],
            [
             0.7,
             "#b8e186"
            ],
            [
             0.8,
             "#7fbc41"
            ],
            [
             0.9,
             "#4d9221"
            ],
            [
             1,
             "#276419"
            ]
           ],
           "sequential": [
            [
             0,
             "#0d0887"
            ],
            [
             0.1111111111111111,
             "#46039f"
            ],
            [
             0.2222222222222222,
             "#7201a8"
            ],
            [
             0.3333333333333333,
             "#9c179e"
            ],
            [
             0.4444444444444444,
             "#bd3786"
            ],
            [
             0.5555555555555556,
             "#d8576b"
            ],
            [
             0.6666666666666666,
             "#ed7953"
            ],
            [
             0.7777777777777778,
             "#fb9f3a"
            ],
            [
             0.8888888888888888,
             "#fdca26"
            ],
            [
             1,
             "#f0f921"
            ]
           ],
           "sequentialminus": [
            [
             0,
             "#0d0887"
            ],
            [
             0.1111111111111111,
             "#46039f"
            ],
            [
             0.2222222222222222,
             "#7201a8"
            ],
            [
             0.3333333333333333,
             "#9c179e"
            ],
            [
             0.4444444444444444,
             "#bd3786"
            ],
            [
             0.5555555555555556,
             "#d8576b"
            ],
            [
             0.6666666666666666,
             "#ed7953"
            ],
            [
             0.7777777777777778,
             "#fb9f3a"
            ],
            [
             0.8888888888888888,
             "#fdca26"
            ],
            [
             1,
             "#f0f921"
            ]
           ]
          },
          "colorway": [
           "#636efa",
           "#EF553B",
           "#00cc96",
           "#ab63fa",
           "#FFA15A",
           "#19d3f3",
           "#FF6692",
           "#B6E880",
           "#FF97FF",
           "#FECB52"
          ],
          "font": {
           "color": "#2a3f5f"
          },
          "geo": {
           "bgcolor": "white",
           "lakecolor": "white",
           "landcolor": "#E5ECF6",
           "showlakes": true,
           "showland": true,
           "subunitcolor": "white"
          },
          "hoverlabel": {
           "align": "left"
          },
          "hovermode": "closest",
          "mapbox": {
           "style": "light"
          },
          "paper_bgcolor": "white",
          "plot_bgcolor": "#E5ECF6",
          "polar": {
           "angularaxis": {
            "gridcolor": "white",
            "linecolor": "white",
            "ticks": ""
           },
           "bgcolor": "#E5ECF6",
           "radialaxis": {
            "gridcolor": "white",
            "linecolor": "white",
            "ticks": ""
           }
          },
          "scene": {
           "xaxis": {
            "backgroundcolor": "#E5ECF6",
            "gridcolor": "white",
            "gridwidth": 2,
            "linecolor": "white",
            "showbackground": true,
            "ticks": "",
            "zerolinecolor": "white"
           },
           "yaxis": {
            "backgroundcolor": "#E5ECF6",
            "gridcolor": "white",
            "gridwidth": 2,
            "linecolor": "white",
            "showbackground": true,
            "ticks": "",
            "zerolinecolor": "white"
           },
           "zaxis": {
            "backgroundcolor": "#E5ECF6",
            "gridcolor": "white",
            "gridwidth": 2,
            "linecolor": "white",
            "showbackground": true,
            "ticks": "",
            "zerolinecolor": "white"
           }
          },
          "shapedefaults": {
           "line": {
            "color": "#2a3f5f"
           }
          },
          "ternary": {
           "aaxis": {
            "gridcolor": "white",
            "linecolor": "white",
            "ticks": ""
           },
           "baxis": {
            "gridcolor": "white",
            "linecolor": "white",
            "ticks": ""
           },
           "bgcolor": "#E5ECF6",
           "caxis": {
            "gridcolor": "white",
            "linecolor": "white",
            "ticks": ""
           }
          },
          "title": {
           "x": 0.05
          },
          "xaxis": {
           "automargin": true,
           "gridcolor": "white",
           "linecolor": "white",
           "ticks": "",
           "title": {
            "standoff": 15
           },
           "zerolinecolor": "white",
           "zerolinewidth": 2
          },
          "yaxis": {
           "automargin": true,
           "gridcolor": "white",
           "linecolor": "white",
           "ticks": "",
           "title": {
            "standoff": 15
           },
           "zerolinecolor": "white",
           "zerolinewidth": 2
          }
         }
        },
        "title": {
         "text": "Gender Distribution of Researchers (Only Respondents)"
        }
       }
      }
     },
     "metadata": {},
     "output_type": "display_data"
    }
   ],
   "source": [
    "# Filter out null values for DE2\n",
    "filtered_gender_counts = df1.dropna(subset=['DE2'])['DE2'].value_counts()\n",
    "filtered_total_responses = filtered_gender_counts.sum()\n",
    "filtered_percentage = (filtered_total_responses / total_researchers) * 100\n",
    "\n",
    "print(\"\\n==== Gender Distribution (Only Respondents) ====\")\n",
    "print(f\"Total Unique Researchers (Participants): {total_researchers}\")\n",
    "print(f\"Total Responses: {filtered_total_responses} ({filtered_percentage:.2f}%)\\n\")\n",
    "\n",
    "for gender, count in filtered_gender_counts.items():\n",
    "    percentage = (count / filtered_total_responses) * 100\n",
    "    print(f\"{gender}: {count} ({percentage:.2f}%)\")\n",
    "\n",
    "# Convert to DataFrame for plotting\n",
    "gender_df_filtered = filtered_gender_counts.reset_index()\n",
    "gender_df_filtered.columns = ['Gender', 'Count']\n",
    "\n",
    "# Plot pie chart\n",
    "fig = px.pie(\n",
    "    gender_df_filtered,\n",
    "    names='Gender',\n",
    "    values='Count',\n",
    "    title=\"Gender Distribution of Researchers (Only Respondents)\",\n",
    "    color_discrete_sequence=custom_colors\n",
    ")\n",
    "\n",
    "fig.show()\n"
   ]
  },
  {
   "cell_type": "markdown",
   "metadata": {},
   "source": [
    "## Ethnicity/ Nationality"
   ]
  },
  {
   "cell_type": "code",
   "execution_count": 97,
   "metadata": {},
   "outputs": [
    {
     "name": "stdout",
     "output_type": "stream",
     "text": [
      "First entry in column DE3: West Asia / Middle East (e.g., Iran, Israel, Saudi Arabia)\n"
     ]
    }
   ],
   "source": [
    "first_entry_de3 = df2['DE3'].iloc[1]\n",
    "print(\"First entry in column DE3:\", first_entry_de3)"
   ]
  },
  {
   "cell_type": "code",
   "execution_count": 63,
   "metadata": {},
   "outputs": [
    {
     "name": "stdout",
     "output_type": "stream",
     "text": [
      "First entry in column DE3: 11\n"
     ]
    }
   ],
   "source": [
    "first_entry_de3 = df1['DE3'].iloc[1]\n",
    "print(\"First entry in column DE3:\", first_entry_de3)"
   ]
  },
  {
   "cell_type": "code",
   "execution_count": 98,
   "metadata": {},
   "outputs": [
    {
     "name": "stdout",
     "output_type": "stream",
     "text": [
      "\n",
      "===== Ethnicity/Nationality Response Statistics =====\n",
      "Total unique researchers (participants): 10070\n",
      "Responded to ethnicity question: 6588 (65.42%)\n",
      "Did not respond: 3482 (34.58%)\n",
      "\n",
      "===== Ethnicity/Nationality Distribution =====\n",
      "1: 5026 (76.29%)\n",
      "2: 1122 (17.03%)\n",
      "12: 234 (3.55%)\n",
      "9: 124 (1.88%)\n",
      "5: 116 (1.76%)\n",
      "11: 107 (1.62%)\n",
      "6: 103 (1.56%)\n",
      "8: 91 (1.38%)\n",
      "7: 83 (1.26%)\n",
      "4: 70 (1.06%)\n",
      "10: 37 (0.56%)\n",
      "3: 35 (0.53%)\n"
     ]
    },
    {
     "data": {
      "application/vnd.plotly.v1+json": {
       "config": {
        "plotlyServerURL": "https://plot.ly"
       },
       "data": [
        {
         "domain": {
          "x": [
           0,
           1
          ],
          "y": [
           0,
           1
          ]
         },
         "hovertemplate": "Region=%{label}<br>Count=%{value}<extra></extra>",
         "labels": [
          "1",
          "2",
          "12",
          "9",
          "5",
          "11",
          "6",
          "8",
          "7",
          "4",
          "10",
          "3"
         ],
         "legendgroup": "",
         "name": "",
         "showlegend": true,
         "type": "pie",
         "values": {
          "bdata": "ohNiBOoAfAB0AGsAZwBbAFMARgAlACMA",
          "dtype": "i2"
         }
        }
       ],
       "layout": {
        "legend": {
         "tracegroupgap": 0
        },
        "template": {
         "data": {
          "bar": [
           {
            "error_x": {
             "color": "#2a3f5f"
            },
            "error_y": {
             "color": "#2a3f5f"
            },
            "marker": {
             "line": {
              "color": "#E5ECF6",
              "width": 0.5
             },
             "pattern": {
              "fillmode": "overlay",
              "size": 10,
              "solidity": 0.2
             }
            },
            "type": "bar"
           }
          ],
          "barpolar": [
           {
            "marker": {
             "line": {
              "color": "#E5ECF6",
              "width": 0.5
             },
             "pattern": {
              "fillmode": "overlay",
              "size": 10,
              "solidity": 0.2
             }
            },
            "type": "barpolar"
           }
          ],
          "carpet": [
           {
            "aaxis": {
             "endlinecolor": "#2a3f5f",
             "gridcolor": "white",
             "linecolor": "white",
             "minorgridcolor": "white",
             "startlinecolor": "#2a3f5f"
            },
            "baxis": {
             "endlinecolor": "#2a3f5f",
             "gridcolor": "white",
             "linecolor": "white",
             "minorgridcolor": "white",
             "startlinecolor": "#2a3f5f"
            },
            "type": "carpet"
           }
          ],
          "choropleth": [
           {
            "colorbar": {
             "outlinewidth": 0,
             "ticks": ""
            },
            "type": "choropleth"
           }
          ],
          "contour": [
           {
            "colorbar": {
             "outlinewidth": 0,
             "ticks": ""
            },
            "colorscale": [
             [
              0,
              "#0d0887"
             ],
             [
              0.1111111111111111,
              "#46039f"
             ],
             [
              0.2222222222222222,
              "#7201a8"
             ],
             [
              0.3333333333333333,
              "#9c179e"
             ],
             [
              0.4444444444444444,
              "#bd3786"
             ],
             [
              0.5555555555555556,
              "#d8576b"
             ],
             [
              0.6666666666666666,
              "#ed7953"
             ],
             [
              0.7777777777777778,
              "#fb9f3a"
             ],
             [
              0.8888888888888888,
              "#fdca26"
             ],
             [
              1,
              "#f0f921"
             ]
            ],
            "type": "contour"
           }
          ],
          "contourcarpet": [
           {
            "colorbar": {
             "outlinewidth": 0,
             "ticks": ""
            },
            "type": "contourcarpet"
           }
          ],
          "heatmap": [
           {
            "colorbar": {
             "outlinewidth": 0,
             "ticks": ""
            },
            "colorscale": [
             [
              0,
              "#0d0887"
             ],
             [
              0.1111111111111111,
              "#46039f"
             ],
             [
              0.2222222222222222,
              "#7201a8"
             ],
             [
              0.3333333333333333,
              "#9c179e"
             ],
             [
              0.4444444444444444,
              "#bd3786"
             ],
             [
              0.5555555555555556,
              "#d8576b"
             ],
             [
              0.6666666666666666,
              "#ed7953"
             ],
             [
              0.7777777777777778,
              "#fb9f3a"
             ],
             [
              0.8888888888888888,
              "#fdca26"
             ],
             [
              1,
              "#f0f921"
             ]
            ],
            "type": "heatmap"
           }
          ],
          "histogram": [
           {
            "marker": {
             "pattern": {
              "fillmode": "overlay",
              "size": 10,
              "solidity": 0.2
             }
            },
            "type": "histogram"
           }
          ],
          "histogram2d": [
           {
            "colorbar": {
             "outlinewidth": 0,
             "ticks": ""
            },
            "colorscale": [
             [
              0,
              "#0d0887"
             ],
             [
              0.1111111111111111,
              "#46039f"
             ],
             [
              0.2222222222222222,
              "#7201a8"
             ],
             [
              0.3333333333333333,
              "#9c179e"
             ],
             [
              0.4444444444444444,
              "#bd3786"
             ],
             [
              0.5555555555555556,
              "#d8576b"
             ],
             [
              0.6666666666666666,
              "#ed7953"
             ],
             [
              0.7777777777777778,
              "#fb9f3a"
             ],
             [
              0.8888888888888888,
              "#fdca26"
             ],
             [
              1,
              "#f0f921"
             ]
            ],
            "type": "histogram2d"
           }
          ],
          "histogram2dcontour": [
           {
            "colorbar": {
             "outlinewidth": 0,
             "ticks": ""
            },
            "colorscale": [
             [
              0,
              "#0d0887"
             ],
             [
              0.1111111111111111,
              "#46039f"
             ],
             [
              0.2222222222222222,
              "#7201a8"
             ],
             [
              0.3333333333333333,
              "#9c179e"
             ],
             [
              0.4444444444444444,
              "#bd3786"
             ],
             [
              0.5555555555555556,
              "#d8576b"
             ],
             [
              0.6666666666666666,
              "#ed7953"
             ],
             [
              0.7777777777777778,
              "#fb9f3a"
             ],
             [
              0.8888888888888888,
              "#fdca26"
             ],
             [
              1,
              "#f0f921"
             ]
            ],
            "type": "histogram2dcontour"
           }
          ],
          "mesh3d": [
           {
            "colorbar": {
             "outlinewidth": 0,
             "ticks": ""
            },
            "type": "mesh3d"
           }
          ],
          "parcoords": [
           {
            "line": {
             "colorbar": {
              "outlinewidth": 0,
              "ticks": ""
             }
            },
            "type": "parcoords"
           }
          ],
          "pie": [
           {
            "automargin": true,
            "type": "pie"
           }
          ],
          "scatter": [
           {
            "fillpattern": {
             "fillmode": "overlay",
             "size": 10,
             "solidity": 0.2
            },
            "type": "scatter"
           }
          ],
          "scatter3d": [
           {
            "line": {
             "colorbar": {
              "outlinewidth": 0,
              "ticks": ""
             }
            },
            "marker": {
             "colorbar": {
              "outlinewidth": 0,
              "ticks": ""
             }
            },
            "type": "scatter3d"
           }
          ],
          "scattercarpet": [
           {
            "marker": {
             "colorbar": {
              "outlinewidth": 0,
              "ticks": ""
             }
            },
            "type": "scattercarpet"
           }
          ],
          "scattergeo": [
           {
            "marker": {
             "colorbar": {
              "outlinewidth": 0,
              "ticks": ""
             }
            },
            "type": "scattergeo"
           }
          ],
          "scattergl": [
           {
            "marker": {
             "colorbar": {
              "outlinewidth": 0,
              "ticks": ""
             }
            },
            "type": "scattergl"
           }
          ],
          "scattermap": [
           {
            "marker": {
             "colorbar": {
              "outlinewidth": 0,
              "ticks": ""
             }
            },
            "type": "scattermap"
           }
          ],
          "scattermapbox": [
           {
            "marker": {
             "colorbar": {
              "outlinewidth": 0,
              "ticks": ""
             }
            },
            "type": "scattermapbox"
           }
          ],
          "scatterpolar": [
           {
            "marker": {
             "colorbar": {
              "outlinewidth": 0,
              "ticks": ""
             }
            },
            "type": "scatterpolar"
           }
          ],
          "scatterpolargl": [
           {
            "marker": {
             "colorbar": {
              "outlinewidth": 0,
              "ticks": ""
             }
            },
            "type": "scatterpolargl"
           }
          ],
          "scatterternary": [
           {
            "marker": {
             "colorbar": {
              "outlinewidth": 0,
              "ticks": ""
             }
            },
            "type": "scatterternary"
           }
          ],
          "surface": [
           {
            "colorbar": {
             "outlinewidth": 0,
             "ticks": ""
            },
            "colorscale": [
             [
              0,
              "#0d0887"
             ],
             [
              0.1111111111111111,
              "#46039f"
             ],
             [
              0.2222222222222222,
              "#7201a8"
             ],
             [
              0.3333333333333333,
              "#9c179e"
             ],
             [
              0.4444444444444444,
              "#bd3786"
             ],
             [
              0.5555555555555556,
              "#d8576b"
             ],
             [
              0.6666666666666666,
              "#ed7953"
             ],
             [
              0.7777777777777778,
              "#fb9f3a"
             ],
             [
              0.8888888888888888,
              "#fdca26"
             ],
             [
              1,
              "#f0f921"
             ]
            ],
            "type": "surface"
           }
          ],
          "table": [
           {
            "cells": {
             "fill": {
              "color": "#EBF0F8"
             },
             "line": {
              "color": "white"
             }
            },
            "header": {
             "fill": {
              "color": "#C8D4E3"
             },
             "line": {
              "color": "white"
             }
            },
            "type": "table"
           }
          ]
         },
         "layout": {
          "annotationdefaults": {
           "arrowcolor": "#2a3f5f",
           "arrowhead": 0,
           "arrowwidth": 1
          },
          "autotypenumbers": "strict",
          "coloraxis": {
           "colorbar": {
            "outlinewidth": 0,
            "ticks": ""
           }
          },
          "colorscale": {
           "diverging": [
            [
             0,
             "#8e0152"
            ],
            [
             0.1,
             "#c51b7d"
            ],
            [
             0.2,
             "#de77ae"
            ],
            [
             0.3,
             "#f1b6da"
            ],
            [
             0.4,
             "#fde0ef"
            ],
            [
             0.5,
             "#f7f7f7"
            ],
            [
             0.6,
             "#e6f5d0"
            ],
            [
             0.7,
             "#b8e186"
            ],
            [
             0.8,
             "#7fbc41"
            ],
            [
             0.9,
             "#4d9221"
            ],
            [
             1,
             "#276419"
            ]
           ],
           "sequential": [
            [
             0,
             "#0d0887"
            ],
            [
             0.1111111111111111,
             "#46039f"
            ],
            [
             0.2222222222222222,
             "#7201a8"
            ],
            [
             0.3333333333333333,
             "#9c179e"
            ],
            [
             0.4444444444444444,
             "#bd3786"
            ],
            [
             0.5555555555555556,
             "#d8576b"
            ],
            [
             0.6666666666666666,
             "#ed7953"
            ],
            [
             0.7777777777777778,
             "#fb9f3a"
            ],
            [
             0.8888888888888888,
             "#fdca26"
            ],
            [
             1,
             "#f0f921"
            ]
           ],
           "sequentialminus": [
            [
             0,
             "#0d0887"
            ],
            [
             0.1111111111111111,
             "#46039f"
            ],
            [
             0.2222222222222222,
             "#7201a8"
            ],
            [
             0.3333333333333333,
             "#9c179e"
            ],
            [
             0.4444444444444444,
             "#bd3786"
            ],
            [
             0.5555555555555556,
             "#d8576b"
            ],
            [
             0.6666666666666666,
             "#ed7953"
            ],
            [
             0.7777777777777778,
             "#fb9f3a"
            ],
            [
             0.8888888888888888,
             "#fdca26"
            ],
            [
             1,
             "#f0f921"
            ]
           ]
          },
          "colorway": [
           "#636efa",
           "#EF553B",
           "#00cc96",
           "#ab63fa",
           "#FFA15A",
           "#19d3f3",
           "#FF6692",
           "#B6E880",
           "#FF97FF",
           "#FECB52"
          ],
          "font": {
           "color": "#2a3f5f"
          },
          "geo": {
           "bgcolor": "white",
           "lakecolor": "white",
           "landcolor": "#E5ECF6",
           "showlakes": true,
           "showland": true,
           "subunitcolor": "white"
          },
          "hoverlabel": {
           "align": "left"
          },
          "hovermode": "closest",
          "mapbox": {
           "style": "light"
          },
          "paper_bgcolor": "white",
          "plot_bgcolor": "#E5ECF6",
          "polar": {
           "angularaxis": {
            "gridcolor": "white",
            "linecolor": "white",
            "ticks": ""
           },
           "bgcolor": "#E5ECF6",
           "radialaxis": {
            "gridcolor": "white",
            "linecolor": "white",
            "ticks": ""
           }
          },
          "scene": {
           "xaxis": {
            "backgroundcolor": "#E5ECF6",
            "gridcolor": "white",
            "gridwidth": 2,
            "linecolor": "white",
            "showbackground": true,
            "ticks": "",
            "zerolinecolor": "white"
           },
           "yaxis": {
            "backgroundcolor": "#E5ECF6",
            "gridcolor": "white",
            "gridwidth": 2,
            "linecolor": "white",
            "showbackground": true,
            "ticks": "",
            "zerolinecolor": "white"
           },
           "zaxis": {
            "backgroundcolor": "#E5ECF6",
            "gridcolor": "white",
            "gridwidth": 2,
            "linecolor": "white",
            "showbackground": true,
            "ticks": "",
            "zerolinecolor": "white"
           }
          },
          "shapedefaults": {
           "line": {
            "color": "#2a3f5f"
           }
          },
          "ternary": {
           "aaxis": {
            "gridcolor": "white",
            "linecolor": "white",
            "ticks": ""
           },
           "baxis": {
            "gridcolor": "white",
            "linecolor": "white",
            "ticks": ""
           },
           "bgcolor": "#E5ECF6",
           "caxis": {
            "gridcolor": "white",
            "linecolor": "white",
            "ticks": ""
           }
          },
          "title": {
           "x": 0.05
          },
          "xaxis": {
           "automargin": true,
           "gridcolor": "white",
           "linecolor": "white",
           "ticks": "",
           "title": {
            "standoff": 15
           },
           "zerolinecolor": "white",
           "zerolinewidth": 2
          },
          "yaxis": {
           "automargin": true,
           "gridcolor": "white",
           "linecolor": "white",
           "ticks": "",
           "title": {
            "standoff": 15
           },
           "zerolinecolor": "white",
           "zerolinewidth": 2
          }
         }
        },
        "title": {
         "text": "Distribution of Researchers by Ethnicity/Nationality"
        }
       }
      }
     },
     "metadata": {},
     "output_type": "display_data"
    }
   ],
   "source": [
    "import pandas as pd\n",
    "import plotly.express as px\n",
    "\n",
    "total_researchers = df1['ResponseId'].nunique()\n",
    "df_filtered = df1.dropna(subset=['DE3'])\n",
    "responded_count = df_filtered['ResponseId'].nunique()\n",
    "not_responded_count = total_researchers - responded_count\n",
    "responded_percentage = (responded_count / total_researchers) * 100\n",
    "not_responded_percentage = (not_responded_count / total_researchers) * 100\n",
    "\n",
    "print(\"\\n===== Ethnicity/Nationality Response Statistics =====\")\n",
    "print(f\"Total unique researchers (participants): {total_researchers}\")\n",
    "print(f\"Responded to ethnicity question: {responded_count} ({responded_percentage:.2f}%)\")\n",
    "print(f\"Did not respond: {not_responded_count} ({not_responded_percentage:.2f}%)\\n\")\n",
    "\n",
    "df_expanded = df_filtered.assign(Region=df_filtered['DE3'].str.split(',')).explode('Region')\n",
    "region_counts = df_expanded['Region'].value_counts().reset_index()\n",
    "region_counts.columns = ['Region', 'Count']\n",
    "\n",
    "print(\"===== Ethnicity/Nationality Distribution =====\")\n",
    "for region, count in region_counts.values:\n",
    "    percentage = (count / responded_count) * 100\n",
    "    print(f\"{region}: {count} ({percentage:.2f}%)\")\n",
    "\n",
    "fig = px.pie(region_counts, names='Region', values='Count', \n",
    "             title='Distribution of Researchers by Ethnicity/Nationality')\n",
    "\n",
    "fig.show()\n"
   ]
  },
  {
   "cell_type": "markdown",
   "metadata": {},
   "source": [
    "## Researchers Economic Status Background"
   ]
  },
  {
   "cell_type": "code",
   "execution_count": 99,
   "metadata": {},
   "outputs": [
    {
     "name": "stdout",
     "output_type": "stream",
     "text": [
      "\n",
      "===== Economic Status Response Statistics =====\n",
      "Total unique researchers (participants): 10070\n",
      "Responded to economic status question: 6543 (64.98%)\n",
      "Did not respond: 3527 (35.02%)\n",
      "\n",
      "===== Economic Status Distribution =====\n",
      "3: 3547 (54.21%)\n",
      "2: 1777 (27.16%)\n",
      "4: 1055 (16.12%)\n",
      "1: 164 (2.51%)\n"
     ]
    },
    {
     "data": {
      "application/vnd.plotly.v1+json": {
       "config": {
        "plotlyServerURL": "https://plot.ly"
       },
       "data": [
        {
         "domain": {
          "x": [
           0,
           1
          ],
          "y": [
           0,
           1
          ]
         },
         "hovertemplate": "Economic Status=%{label}<br>Count=%{value}<extra></extra>",
         "labels": {
          "bdata": "AwIEAQ==",
          "dtype": "i1"
         },
         "legendgroup": "",
         "name": "",
         "showlegend": true,
         "type": "pie",
         "values": {
          "bdata": "2w3xBh8EpAA=",
          "dtype": "i2"
         }
        }
       ],
       "layout": {
        "legend": {
         "tracegroupgap": 0
        },
        "template": {
         "data": {
          "bar": [
           {
            "error_x": {
             "color": "#2a3f5f"
            },
            "error_y": {
             "color": "#2a3f5f"
            },
            "marker": {
             "line": {
              "color": "#E5ECF6",
              "width": 0.5
             },
             "pattern": {
              "fillmode": "overlay",
              "size": 10,
              "solidity": 0.2
             }
            },
            "type": "bar"
           }
          ],
          "barpolar": [
           {
            "marker": {
             "line": {
              "color": "#E5ECF6",
              "width": 0.5
             },
             "pattern": {
              "fillmode": "overlay",
              "size": 10,
              "solidity": 0.2
             }
            },
            "type": "barpolar"
           }
          ],
          "carpet": [
           {
            "aaxis": {
             "endlinecolor": "#2a3f5f",
             "gridcolor": "white",
             "linecolor": "white",
             "minorgridcolor": "white",
             "startlinecolor": "#2a3f5f"
            },
            "baxis": {
             "endlinecolor": "#2a3f5f",
             "gridcolor": "white",
             "linecolor": "white",
             "minorgridcolor": "white",
             "startlinecolor": "#2a3f5f"
            },
            "type": "carpet"
           }
          ],
          "choropleth": [
           {
            "colorbar": {
             "outlinewidth": 0,
             "ticks": ""
            },
            "type": "choropleth"
           }
          ],
          "contour": [
           {
            "colorbar": {
             "outlinewidth": 0,
             "ticks": ""
            },
            "colorscale": [
             [
              0,
              "#0d0887"
             ],
             [
              0.1111111111111111,
              "#46039f"
             ],
             [
              0.2222222222222222,
              "#7201a8"
             ],
             [
              0.3333333333333333,
              "#9c179e"
             ],
             [
              0.4444444444444444,
              "#bd3786"
             ],
             [
              0.5555555555555556,
              "#d8576b"
             ],
             [
              0.6666666666666666,
              "#ed7953"
             ],
             [
              0.7777777777777778,
              "#fb9f3a"
             ],
             [
              0.8888888888888888,
              "#fdca26"
             ],
             [
              1,
              "#f0f921"
             ]
            ],
            "type": "contour"
           }
          ],
          "contourcarpet": [
           {
            "colorbar": {
             "outlinewidth": 0,
             "ticks": ""
            },
            "type": "contourcarpet"
           }
          ],
          "heatmap": [
           {
            "colorbar": {
             "outlinewidth": 0,
             "ticks": ""
            },
            "colorscale": [
             [
              0,
              "#0d0887"
             ],
             [
              0.1111111111111111,
              "#46039f"
             ],
             [
              0.2222222222222222,
              "#7201a8"
             ],
             [
              0.3333333333333333,
              "#9c179e"
             ],
             [
              0.4444444444444444,
              "#bd3786"
             ],
             [
              0.5555555555555556,
              "#d8576b"
             ],
             [
              0.6666666666666666,
              "#ed7953"
             ],
             [
              0.7777777777777778,
              "#fb9f3a"
             ],
             [
              0.8888888888888888,
              "#fdca26"
             ],
             [
              1,
              "#f0f921"
             ]
            ],
            "type": "heatmap"
           }
          ],
          "histogram": [
           {
            "marker": {
             "pattern": {
              "fillmode": "overlay",
              "size": 10,
              "solidity": 0.2
             }
            },
            "type": "histogram"
           }
          ],
          "histogram2d": [
           {
            "colorbar": {
             "outlinewidth": 0,
             "ticks": ""
            },
            "colorscale": [
             [
              0,
              "#0d0887"
             ],
             [
              0.1111111111111111,
              "#46039f"
             ],
             [
              0.2222222222222222,
              "#7201a8"
             ],
             [
              0.3333333333333333,
              "#9c179e"
             ],
             [
              0.4444444444444444,
              "#bd3786"
             ],
             [
              0.5555555555555556,
              "#d8576b"
             ],
             [
              0.6666666666666666,
              "#ed7953"
             ],
             [
              0.7777777777777778,
              "#fb9f3a"
             ],
             [
              0.8888888888888888,
              "#fdca26"
             ],
             [
              1,
              "#f0f921"
             ]
            ],
            "type": "histogram2d"
           }
          ],
          "histogram2dcontour": [
           {
            "colorbar": {
             "outlinewidth": 0,
             "ticks": ""
            },
            "colorscale": [
             [
              0,
              "#0d0887"
             ],
             [
              0.1111111111111111,
              "#46039f"
             ],
             [
              0.2222222222222222,
              "#7201a8"
             ],
             [
              0.3333333333333333,
              "#9c179e"
             ],
             [
              0.4444444444444444,
              "#bd3786"
             ],
             [
              0.5555555555555556,
              "#d8576b"
             ],
             [
              0.6666666666666666,
              "#ed7953"
             ],
             [
              0.7777777777777778,
              "#fb9f3a"
             ],
             [
              0.8888888888888888,
              "#fdca26"
             ],
             [
              1,
              "#f0f921"
             ]
            ],
            "type": "histogram2dcontour"
           }
          ],
          "mesh3d": [
           {
            "colorbar": {
             "outlinewidth": 0,
             "ticks": ""
            },
            "type": "mesh3d"
           }
          ],
          "parcoords": [
           {
            "line": {
             "colorbar": {
              "outlinewidth": 0,
              "ticks": ""
             }
            },
            "type": "parcoords"
           }
          ],
          "pie": [
           {
            "automargin": true,
            "type": "pie"
           }
          ],
          "scatter": [
           {
            "fillpattern": {
             "fillmode": "overlay",
             "size": 10,
             "solidity": 0.2
            },
            "type": "scatter"
           }
          ],
          "scatter3d": [
           {
            "line": {
             "colorbar": {
              "outlinewidth": 0,
              "ticks": ""
             }
            },
            "marker": {
             "colorbar": {
              "outlinewidth": 0,
              "ticks": ""
             }
            },
            "type": "scatter3d"
           }
          ],
          "scattercarpet": [
           {
            "marker": {
             "colorbar": {
              "outlinewidth": 0,
              "ticks": ""
             }
            },
            "type": "scattercarpet"
           }
          ],
          "scattergeo": [
           {
            "marker": {
             "colorbar": {
              "outlinewidth": 0,
              "ticks": ""
             }
            },
            "type": "scattergeo"
           }
          ],
          "scattergl": [
           {
            "marker": {
             "colorbar": {
              "outlinewidth": 0,
              "ticks": ""
             }
            },
            "type": "scattergl"
           }
          ],
          "scattermap": [
           {
            "marker": {
             "colorbar": {
              "outlinewidth": 0,
              "ticks": ""
             }
            },
            "type": "scattermap"
           }
          ],
          "scattermapbox": [
           {
            "marker": {
             "colorbar": {
              "outlinewidth": 0,
              "ticks": ""
             }
            },
            "type": "scattermapbox"
           }
          ],
          "scatterpolar": [
           {
            "marker": {
             "colorbar": {
              "outlinewidth": 0,
              "ticks": ""
             }
            },
            "type": "scatterpolar"
           }
          ],
          "scatterpolargl": [
           {
            "marker": {
             "colorbar": {
              "outlinewidth": 0,
              "ticks": ""
             }
            },
            "type": "scatterpolargl"
           }
          ],
          "scatterternary": [
           {
            "marker": {
             "colorbar": {
              "outlinewidth": 0,
              "ticks": ""
             }
            },
            "type": "scatterternary"
           }
          ],
          "surface": [
           {
            "colorbar": {
             "outlinewidth": 0,
             "ticks": ""
            },
            "colorscale": [
             [
              0,
              "#0d0887"
             ],
             [
              0.1111111111111111,
              "#46039f"
             ],
             [
              0.2222222222222222,
              "#7201a8"
             ],
             [
              0.3333333333333333,
              "#9c179e"
             ],
             [
              0.4444444444444444,
              "#bd3786"
             ],
             [
              0.5555555555555556,
              "#d8576b"
             ],
             [
              0.6666666666666666,
              "#ed7953"
             ],
             [
              0.7777777777777778,
              "#fb9f3a"
             ],
             [
              0.8888888888888888,
              "#fdca26"
             ],
             [
              1,
              "#f0f921"
             ]
            ],
            "type": "surface"
           }
          ],
          "table": [
           {
            "cells": {
             "fill": {
              "color": "#EBF0F8"
             },
             "line": {
              "color": "white"
             }
            },
            "header": {
             "fill": {
              "color": "#C8D4E3"
             },
             "line": {
              "color": "white"
             }
            },
            "type": "table"
           }
          ]
         },
         "layout": {
          "annotationdefaults": {
           "arrowcolor": "#2a3f5f",
           "arrowhead": 0,
           "arrowwidth": 1
          },
          "autotypenumbers": "strict",
          "coloraxis": {
           "colorbar": {
            "outlinewidth": 0,
            "ticks": ""
           }
          },
          "colorscale": {
           "diverging": [
            [
             0,
             "#8e0152"
            ],
            [
             0.1,
             "#c51b7d"
            ],
            [
             0.2,
             "#de77ae"
            ],
            [
             0.3,
             "#f1b6da"
            ],
            [
             0.4,
             "#fde0ef"
            ],
            [
             0.5,
             "#f7f7f7"
            ],
            [
             0.6,
             "#e6f5d0"
            ],
            [
             0.7,
             "#b8e186"
            ],
            [
             0.8,
             "#7fbc41"
            ],
            [
             0.9,
             "#4d9221"
            ],
            [
             1,
             "#276419"
            ]
           ],
           "sequential": [
            [
             0,
             "#0d0887"
            ],
            [
             0.1111111111111111,
             "#46039f"
            ],
            [
             0.2222222222222222,
             "#7201a8"
            ],
            [
             0.3333333333333333,
             "#9c179e"
            ],
            [
             0.4444444444444444,
             "#bd3786"
            ],
            [
             0.5555555555555556,
             "#d8576b"
            ],
            [
             0.6666666666666666,
             "#ed7953"
            ],
            [
             0.7777777777777778,
             "#fb9f3a"
            ],
            [
             0.8888888888888888,
             "#fdca26"
            ],
            [
             1,
             "#f0f921"
            ]
           ],
           "sequentialminus": [
            [
             0,
             "#0d0887"
            ],
            [
             0.1111111111111111,
             "#46039f"
            ],
            [
             0.2222222222222222,
             "#7201a8"
            ],
            [
             0.3333333333333333,
             "#9c179e"
            ],
            [
             0.4444444444444444,
             "#bd3786"
            ],
            [
             0.5555555555555556,
             "#d8576b"
            ],
            [
             0.6666666666666666,
             "#ed7953"
            ],
            [
             0.7777777777777778,
             "#fb9f3a"
            ],
            [
             0.8888888888888888,
             "#fdca26"
            ],
            [
             1,
             "#f0f921"
            ]
           ]
          },
          "colorway": [
           "#636efa",
           "#EF553B",
           "#00cc96",
           "#ab63fa",
           "#FFA15A",
           "#19d3f3",
           "#FF6692",
           "#B6E880",
           "#FF97FF",
           "#FECB52"
          ],
          "font": {
           "color": "#2a3f5f"
          },
          "geo": {
           "bgcolor": "white",
           "lakecolor": "white",
           "landcolor": "#E5ECF6",
           "showlakes": true,
           "showland": true,
           "subunitcolor": "white"
          },
          "hoverlabel": {
           "align": "left"
          },
          "hovermode": "closest",
          "mapbox": {
           "style": "light"
          },
          "paper_bgcolor": "white",
          "plot_bgcolor": "#E5ECF6",
          "polar": {
           "angularaxis": {
            "gridcolor": "white",
            "linecolor": "white",
            "ticks": ""
           },
           "bgcolor": "#E5ECF6",
           "radialaxis": {
            "gridcolor": "white",
            "linecolor": "white",
            "ticks": ""
           }
          },
          "scene": {
           "xaxis": {
            "backgroundcolor": "#E5ECF6",
            "gridcolor": "white",
            "gridwidth": 2,
            "linecolor": "white",
            "showbackground": true,
            "ticks": "",
            "zerolinecolor": "white"
           },
           "yaxis": {
            "backgroundcolor": "#E5ECF6",
            "gridcolor": "white",
            "gridwidth": 2,
            "linecolor": "white",
            "showbackground": true,
            "ticks": "",
            "zerolinecolor": "white"
           },
           "zaxis": {
            "backgroundcolor": "#E5ECF6",
            "gridcolor": "white",
            "gridwidth": 2,
            "linecolor": "white",
            "showbackground": true,
            "ticks": "",
            "zerolinecolor": "white"
           }
          },
          "shapedefaults": {
           "line": {
            "color": "#2a3f5f"
           }
          },
          "ternary": {
           "aaxis": {
            "gridcolor": "white",
            "linecolor": "white",
            "ticks": ""
           },
           "baxis": {
            "gridcolor": "white",
            "linecolor": "white",
            "ticks": ""
           },
           "bgcolor": "#E5ECF6",
           "caxis": {
            "gridcolor": "white",
            "linecolor": "white",
            "ticks": ""
           }
          },
          "title": {
           "x": 0.05
          },
          "xaxis": {
           "automargin": true,
           "gridcolor": "white",
           "linecolor": "white",
           "ticks": "",
           "title": {
            "standoff": 15
           },
           "zerolinecolor": "white",
           "zerolinewidth": 2
          },
          "yaxis": {
           "automargin": true,
           "gridcolor": "white",
           "linecolor": "white",
           "ticks": "",
           "title": {
            "standoff": 15
           },
           "zerolinecolor": "white",
           "zerolinewidth": 2
          }
         }
        },
        "title": {
         "text": "Distribution of Researchers by Economic Status"
        }
       }
      }
     },
     "metadata": {},
     "output_type": "display_data"
    }
   ],
   "source": [
    "import pandas as pd\n",
    "import plotly.express as px\n",
    "\n",
    "total_researchers = df1['ResponseId'].nunique()\n",
    "df_filtered = df1.dropna(subset=['DE4'])\n",
    "responded_count = df_filtered['ResponseId'].nunique()\n",
    "not_responded_count = total_researchers - responded_count\n",
    "responded_percentage = (responded_count / total_researchers) * 100\n",
    "not_responded_percentage = (not_responded_count / total_researchers) * 100\n",
    "\n",
    "print(\"\\n===== Economic Status Response Statistics =====\")\n",
    "print(f\"Total unique researchers (participants): {total_researchers}\")\n",
    "print(f\"Responded to economic status question: {responded_count} ({responded_percentage:.2f}%)\")\n",
    "print(f\"Did not respond: {not_responded_count} ({not_responded_percentage:.2f}%)\\n\")\n",
    "\n",
    "economic_counts = df_filtered['DE4'].value_counts().reset_index()\n",
    "economic_counts.columns = ['Economic Status', 'Count']\n",
    "\n",
    "print(\"===== Economic Status Distribution =====\")\n",
    "for status, count in economic_counts.values:\n",
    "    percentage = (count / responded_count) * 100\n",
    "    print(f\"{status}: {count} ({percentage:.2f}%)\")\n",
    "\n",
    "fig = px.pie(economic_counts, names='Economic Status', values='Count', \n",
    "             title='Distribution of Researchers by Economic Status')\n",
    "\n",
    "fig.show()\n"
   ]
  },
  {
   "cell_type": "markdown",
   "metadata": {},
   "source": [
    "## Living Place after age of 18"
   ]
  },
  {
   "cell_type": "code",
   "execution_count": 138,
   "metadata": {},
   "outputs": [
    {
     "name": "stdout",
     "output_type": "stream",
     "text": [
      "\n",
      "===== Place of Living (First 18 Years) Response Statistics =====\n",
      "Total unique researchers (participants): 10072\n",
      "Responded to place of living question: 6553 (65.06%)\n",
      "Did not respond: 3519 (34.94%)\n",
      "\n",
      "\n",
      "===== Place of Living Distribution (Only Respondents) =====\n",
      "Germany: 1230 (18.77%)\n",
      "United Kingdom: 563 (8.59%)\n",
      "Italy: 518 (7.90%)\n",
      "France: 418 (6.38%)\n",
      "Spain: 389 (5.94%)\n",
      "Netherlands: 260 (3.97%)\n",
      "Sweden: 231 (3.53%)\n",
      "Poland: 228 (3.48%)\n",
      "Denmark: 174 (2.66%)\n",
      "Finland: 161 (2.46%)\n",
      "Belgium: 161 (2.46%)\n",
      "United States: 155 (2.37%)\n",
      "Portugal: 149 (2.27%)\n",
      "Austria: 137 (2.09%)\n",
      "Switzerland: 136 (2.08%)\n",
      "Turkey: 129 (1.97%)\n",
      "Norway: 120 (1.83%)\n",
      "Greece: 111 (1.69%)\n",
      "Romania: 105 (1.60%)\n",
      "Russia: 90 (1.37%)\n",
      "Ireland: 73 (1.11%)\n",
      "Croatia: 63 (0.96%)\n",
      "Hungary: 58 (0.89%)\n",
      "Ukraine: 57 (0.87%)\n",
      "Canada: 54 (0.82%)\n",
      "Serbia and Montenegro: 43 (0.66%)\n",
      "India: 41 (0.63%)\n",
      "Slovakia: 40 (0.61%)\n",
      "Slovenia: 39 (0.60%)\n",
      "Australia: 38 (0.58%)\n",
      "Bulgaria: 34 (0.52%)\n",
      "China: 33 (0.50%)\n",
      "Brazil: 31 (0.47%)\n",
      "Iran: 26 (0.40%)\n",
      "Lithuania: 26 (0.40%)\n",
      "Estonia: 25 (0.38%)\n",
      "Argentina: 20 (0.31%)\n",
      "Cyprus: 18 (0.27%)\n",
      "Iceland: 17 (0.26%)\n",
      "Mexico: 17 (0.26%)\n",
      "Colombia: 16 (0.24%)\n",
      "South Africa: 15 (0.23%)\n",
      "Latvia: 14 (0.21%)\n",
      "Czech Republic: 13 (0.20%)\n",
      "New Zealand: 11 (0.17%)\n",
      "Chile: 10 (0.15%)\n",
      "Nigeria: 10 (0.15%)\n",
      "Japan: 9 (0.14%)\n",
      "Israel: 9 (0.14%)\n",
      "Macedonia: 9 (0.14%)\n",
      "Kazakhstan: 8 (0.12%)\n",
      "Ecuador: 8 (0.12%)\n",
      "Albania: 8 (0.12%)\n",
      "Belarus: 8 (0.12%)\n",
      "Luxembourg: 7 (0.11%)\n",
      "Bosnia and Herzegovina: 7 (0.11%)\n",
      "Egypt: 7 (0.11%)\n",
      "Hong Kong: 7 (0.11%)\n",
      "Pakistan: 7 (0.11%)\n",
      "Venezuela: 6 (0.09%)\n",
      "Malaysia: 6 (0.09%)\n",
      "Korea, South: 5 (0.08%)\n",
      "Peru: 5 (0.08%)\n",
      "Kenya: 5 (0.08%)\n",
      "Taiwan: 5 (0.08%)\n",
      "Ghana: 5 (0.08%)\n",
      "Syria: 5 (0.08%)\n",
      "Algeria: 4 (0.06%)\n",
      "Malta: 4 (0.06%)\n",
      "Zimbabwe: 4 (0.06%)\n",
      "Moldova: 4 (0.06%)\n",
      "Philippines: 4 (0.06%)\n",
      "Cuba: 4 (0.06%)\n",
      "Ethiopia: 4 (0.06%)\n",
      "Cameroon: 4 (0.06%)\n",
      "Indonesia: 3 (0.05%)\n",
      "Georgia: 3 (0.05%)\n",
      "Thailand: 3 (0.05%)\n",
      "Azerbaijan: 3 (0.05%)\n",
      "Armenia: 3 (0.05%)\n",
      "Rwanda: 3 (0.05%)\n",
      "Lebanon: 3 (0.05%)\n",
      "Vietnam: 3 (0.05%)\n",
      "Bolivia: 3 (0.05%)\n",
      "Singapore: 3 (0.05%)\n",
      "Bangladesh: 2 (0.03%)\n",
      "Mozambique: 2 (0.03%)\n",
      "Iraq: 2 (0.03%)\n",
      "Morocco: 2 (0.03%)\n",
      "Congo, Democratic Republic of the: 2 (0.03%)\n",
      "Jordan: 2 (0.03%)\n",
      "Uruguay: 2 (0.03%)\n",
      "Gibraltar: 2 (0.03%)\n",
      "Costa Rica: 2 (0.03%)\n",
      "Guyana: 1 (0.02%)\n",
      "Trinidad and Tobago: 1 (0.02%)\n",
      "Netherlands Antilles: 1 (0.02%)\n",
      "Mauritius: 1 (0.02%)\n",
      "Zambia: 1 (0.02%)\n",
      "Burkina Faso: 1 (0.02%)\n",
      "Puerto Rico: 1 (0.02%)\n",
      "Spratly Islands: 1 (0.02%)\n",
      "Paraguay: 1 (0.02%)\n",
      "Tanzania: 1 (0.02%)\n",
      "Antarctica: 1 (0.02%)\n",
      "Andorra: 1 (0.02%)\n",
      "Djibouti: 1 (0.02%)\n",
      "Sri Lanka: 1 (0.02%)\n",
      "Malawi: 1 (0.02%)\n",
      "Isle of Man: 1 (0.02%)\n",
      "Where did you live during the first 18 years of your life? In case of multiple places, please specify the country where you lived the longest duration.: 1 (0.02%)\n",
      "Faroe Islands: 1 (0.02%)\n",
      "Honduras: 1 (0.02%)\n",
      "Namibia: 1 (0.02%)\n",
      "Guernsey: 1 (0.02%)\n",
      "United Arab Emirates: 1 (0.02%)\n",
      "French Guiana: 1 (0.02%)\n",
      "Jersey: 1 (0.02%)\n",
      "Cook Islands: 1 (0.02%)\n",
      "West Bank: 1 (0.02%)\n",
      "Guatemala: 1 (0.02%)\n",
      "Reunion: 1 (0.02%)\n",
      "Dominican Republic: 1 (0.02%)\n",
      "Uzbekistan: 1 (0.02%)\n"
     ]
    },
    {
     "data": {
      "application/vnd.plotly.v1+json": {
       "config": {
        "plotlyServerURL": "https://plot.ly"
       },
       "data": [
        {
         "hovertemplate": "Count=%{text}<br>Place of Living=%{y}<extra></extra>",
         "legendgroup": "",
         "marker": {
          "color": "#636efa",
          "pattern": {
           "shape": ""
          }
         },
         "name": "",
         "orientation": "h",
         "showlegend": false,
         "text": {
          "bdata": "AAAAAAA4k0AAAAAAAJiBQAAAAAAAMIBAAAAAAAAgekAAAAAAAFB4QAAAAAAAQHBAAAAAAADgbEAAAAAAAIBsQAAAAAAAwGVAAAAAAAAgZEAAAAAAACBkQAAAAAAAYGNAAAAAAACgYkAAAAAAACBhQAAAAAAAAGFAAAAAAAAgYEAAAAAAAABeQAAAAAAAwFtAAAAAAABAWkAAAAAAAIBWQAAAAAAAQFJAAAAAAACAT0AAAAAAAABNQAAAAAAAgExAAAAAAAAAS0AAAAAAAIBFQAAAAAAAgERAAAAAAAAAREAAAAAAAIBDQAAAAAAAAENAAAAAAAAAQUAAAAAAAIBAQAAAAAAAAD9AAAAAAAAAOkAAAAAAAAA6QAAAAAAAADlAAAAAAAAANEAAAAAAAAAyQAAAAAAAADFAAAAAAAAAMUAAAAAAAAAwQAAAAAAAAC5AAAAAAAAALEAAAAAAAAAqQAAAAAAAACZAAAAAAAAAJEAAAAAAAAAkQAAAAAAAACJAAAAAAAAAIkAAAAAAAAAiQAAAAAAAACBAAAAAAAAAIEAAAAAAAAAgQAAAAAAAACBAAAAAAAAAHEAAAAAAAAAcQAAAAAAAABxAAAAAAAAAHEAAAAAAAAAcQAAAAAAAABhAAAAAAAAAGEAAAAAAAAAUQAAAAAAAABRAAAAAAAAAFEAAAAAAAAAUQAAAAAAAABRAAAAAAAAAFEAAAAAAAAAQQAAAAAAAABBAAAAAAAAAEEAAAAAAAAAQQAAAAAAAABBAAAAAAAAAEEAAAAAAAAAQQAAAAAAAABBAAAAAAAAACEAAAAAAAAAIQAAAAAAAAAhAAAAAAAAACEAAAAAAAAAIQAAAAAAAAAhAAAAAAAAACEAAAAAAAAAIQAAAAAAAAAhAAAAAAAAACEAAAAAAAAAAQAAAAAAAAABAAAAAAAAAAEAAAAAAAAAAQAAAAAAAAABAAAAAAAAAAEAAAAAAAAAAQAAAAAAAAABAAAAAAAAAAEAAAAAAAADwPwAAAAAAAPA/AAAAAAAA8D8AAAAAAADwPwAAAAAAAPA/AAAAAAAA8D8AAAAAAADwPwAAAAAAAPA/AAAAAAAA8D8AAAAAAADwPwAAAAAAAPA/AAAAAAAA8D8AAAAAAADwPwAAAAAAAPA/AAAAAAAA8D8AAAAAAADwPwAAAAAAAPA/AAAAAAAA8D8AAAAAAADwPwAAAAAAAPA/AAAAAAAA8D8AAAAAAADwPwAAAAAAAPA/AAAAAAAA8D8AAAAAAADwPwAAAAAAAPA/AAAAAAAA8D8AAAAAAADwPwAAAAAAAPA/AAAAAAAA8D8=",
          "dtype": "f8"
         },
         "textposition": "auto",
         "type": "bar",
         "x": {
          "bdata": "zgQzAgYCogGFAQQB5wDkAK4AoQChAJsAlQCJAIgAgQB4AG8AaQBaAEkAPwA6ADkANgArACkAKAAnACYAIgAhAB8AGgAaABkAFAASABEAEQAQAA8ADgANAAsACgAKAAkACQAJAAgACAAIAAgABwAHAAcABwAHAAYABgAFAAUABQAFAAUABQAEAAQABAAEAAQABAAEAAQAAwADAAMAAwADAAMAAwADAAMAAwACAAIAAgACAAIAAgACAAIAAgABAAEAAQABAAEAAQABAAEAAQABAAEAAQABAAEAAQABAAEAAQABAAEAAQABAAEAAQABAAEAAQABAAEAAQA=",
          "dtype": "i2"
         },
         "xaxis": "x",
         "y": [
          "Germany",
          "United Kingdom",
          "Italy",
          "France",
          "Spain",
          "Netherlands",
          "Sweden",
          "Poland",
          "Denmark",
          "Finland",
          "Belgium",
          "United States",
          "Portugal",
          "Austria",
          "Switzerland",
          "Turkey",
          "Norway",
          "Greece",
          "Romania",
          "Russia",
          "Ireland",
          "Croatia",
          "Hungary",
          "Ukraine",
          "Canada",
          "Serbia and Montenegro",
          "India",
          "Slovakia",
          "Slovenia",
          "Australia",
          "Bulgaria",
          "China",
          "Brazil",
          "Iran",
          "Lithuania",
          "Estonia",
          "Argentina",
          "Cyprus",
          "Iceland",
          "Mexico",
          "Colombia",
          "South Africa",
          "Latvia",
          "Czech Republic",
          "New Zealand",
          "Chile",
          "Nigeria",
          "Japan",
          "Israel",
          "Macedonia",
          "Kazakhstan",
          "Ecuador",
          "Albania",
          "Belarus",
          "Luxembourg",
          "Bosnia and Herzegovina",
          "Egypt",
          "Hong Kong",
          "Pakistan",
          "Venezuela",
          "Malaysia",
          "Korea, South",
          "Peru",
          "Kenya",
          "Taiwan",
          "Ghana",
          "Syria",
          "Algeria",
          "Malta",
          "Zimbabwe",
          "Moldova",
          "Philippines",
          "Cuba",
          "Ethiopia",
          "Cameroon",
          "Indonesia",
          "Georgia",
          "Thailand",
          "Azerbaijan",
          "Armenia",
          "Rwanda",
          "Lebanon",
          "Vietnam",
          "Bolivia",
          "Singapore",
          "Bangladesh",
          "Mozambique",
          "Iraq",
          "Morocco",
          "Congo, Democratic Republic of the",
          "Jordan",
          "Uruguay",
          "Gibraltar",
          "Costa Rica",
          "Guyana",
          "Trinidad and Tobago",
          "Netherlands Antilles",
          "Mauritius",
          "Zambia",
          "Burkina Faso",
          "Puerto Rico",
          "Spratly Islands",
          "Paraguay",
          "Tanzania",
          "Antarctica",
          "Andorra",
          "Djibouti",
          "Sri Lanka",
          "Malawi",
          "Isle of Man",
          "Where did you live during the first 18 years of your life? In case of multiple places, please specify the country where you lived the longest duration.",
          "Faroe Islands",
          "Honduras",
          "Namibia",
          "Guernsey",
          "United Arab Emirates",
          "French Guiana",
          "Jersey",
          "Cook Islands",
          "West Bank",
          "Guatemala",
          "Reunion",
          "Dominican Republic",
          "Uzbekistan"
         ],
         "yaxis": "y"
        }
       ],
       "layout": {
        "barmode": "relative",
        "legend": {
         "tracegroupgap": 0
        },
        "template": {
         "data": {
          "bar": [
           {
            "error_x": {
             "color": "#2a3f5f"
            },
            "error_y": {
             "color": "#2a3f5f"
            },
            "marker": {
             "line": {
              "color": "#E5ECF6",
              "width": 0.5
             },
             "pattern": {
              "fillmode": "overlay",
              "size": 10,
              "solidity": 0.2
             }
            },
            "type": "bar"
           }
          ],
          "barpolar": [
           {
            "marker": {
             "line": {
              "color": "#E5ECF6",
              "width": 0.5
             },
             "pattern": {
              "fillmode": "overlay",
              "size": 10,
              "solidity": 0.2
             }
            },
            "type": "barpolar"
           }
          ],
          "carpet": [
           {
            "aaxis": {
             "endlinecolor": "#2a3f5f",
             "gridcolor": "white",
             "linecolor": "white",
             "minorgridcolor": "white",
             "startlinecolor": "#2a3f5f"
            },
            "baxis": {
             "endlinecolor": "#2a3f5f",
             "gridcolor": "white",
             "linecolor": "white",
             "minorgridcolor": "white",
             "startlinecolor": "#2a3f5f"
            },
            "type": "carpet"
           }
          ],
          "choropleth": [
           {
            "colorbar": {
             "outlinewidth": 0,
             "ticks": ""
            },
            "type": "choropleth"
           }
          ],
          "contour": [
           {
            "colorbar": {
             "outlinewidth": 0,
             "ticks": ""
            },
            "colorscale": [
             [
              0,
              "#0d0887"
             ],
             [
              0.1111111111111111,
              "#46039f"
             ],
             [
              0.2222222222222222,
              "#7201a8"
             ],
             [
              0.3333333333333333,
              "#9c179e"
             ],
             [
              0.4444444444444444,
              "#bd3786"
             ],
             [
              0.5555555555555556,
              "#d8576b"
             ],
             [
              0.6666666666666666,
              "#ed7953"
             ],
             [
              0.7777777777777778,
              "#fb9f3a"
             ],
             [
              0.8888888888888888,
              "#fdca26"
             ],
             [
              1,
              "#f0f921"
             ]
            ],
            "type": "contour"
           }
          ],
          "contourcarpet": [
           {
            "colorbar": {
             "outlinewidth": 0,
             "ticks": ""
            },
            "type": "contourcarpet"
           }
          ],
          "heatmap": [
           {
            "colorbar": {
             "outlinewidth": 0,
             "ticks": ""
            },
            "colorscale": [
             [
              0,
              "#0d0887"
             ],
             [
              0.1111111111111111,
              "#46039f"
             ],
             [
              0.2222222222222222,
              "#7201a8"
             ],
             [
              0.3333333333333333,
              "#9c179e"
             ],
             [
              0.4444444444444444,
              "#bd3786"
             ],
             [
              0.5555555555555556,
              "#d8576b"
             ],
             [
              0.6666666666666666,
              "#ed7953"
             ],
             [
              0.7777777777777778,
              "#fb9f3a"
             ],
             [
              0.8888888888888888,
              "#fdca26"
             ],
             [
              1,
              "#f0f921"
             ]
            ],
            "type": "heatmap"
           }
          ],
          "histogram": [
           {
            "marker": {
             "pattern": {
              "fillmode": "overlay",
              "size": 10,
              "solidity": 0.2
             }
            },
            "type": "histogram"
           }
          ],
          "histogram2d": [
           {
            "colorbar": {
             "outlinewidth": 0,
             "ticks": ""
            },
            "colorscale": [
             [
              0,
              "#0d0887"
             ],
             [
              0.1111111111111111,
              "#46039f"
             ],
             [
              0.2222222222222222,
              "#7201a8"
             ],
             [
              0.3333333333333333,
              "#9c179e"
             ],
             [
              0.4444444444444444,
              "#bd3786"
             ],
             [
              0.5555555555555556,
              "#d8576b"
             ],
             [
              0.6666666666666666,
              "#ed7953"
             ],
             [
              0.7777777777777778,
              "#fb9f3a"
             ],
             [
              0.8888888888888888,
              "#fdca26"
             ],
             [
              1,
              "#f0f921"
             ]
            ],
            "type": "histogram2d"
           }
          ],
          "histogram2dcontour": [
           {
            "colorbar": {
             "outlinewidth": 0,
             "ticks": ""
            },
            "colorscale": [
             [
              0,
              "#0d0887"
             ],
             [
              0.1111111111111111,
              "#46039f"
             ],
             [
              0.2222222222222222,
              "#7201a8"
             ],
             [
              0.3333333333333333,
              "#9c179e"
             ],
             [
              0.4444444444444444,
              "#bd3786"
             ],
             [
              0.5555555555555556,
              "#d8576b"
             ],
             [
              0.6666666666666666,
              "#ed7953"
             ],
             [
              0.7777777777777778,
              "#fb9f3a"
             ],
             [
              0.8888888888888888,
              "#fdca26"
             ],
             [
              1,
              "#f0f921"
             ]
            ],
            "type": "histogram2dcontour"
           }
          ],
          "mesh3d": [
           {
            "colorbar": {
             "outlinewidth": 0,
             "ticks": ""
            },
            "type": "mesh3d"
           }
          ],
          "parcoords": [
           {
            "line": {
             "colorbar": {
              "outlinewidth": 0,
              "ticks": ""
             }
            },
            "type": "parcoords"
           }
          ],
          "pie": [
           {
            "automargin": true,
            "type": "pie"
           }
          ],
          "scatter": [
           {
            "fillpattern": {
             "fillmode": "overlay",
             "size": 10,
             "solidity": 0.2
            },
            "type": "scatter"
           }
          ],
          "scatter3d": [
           {
            "line": {
             "colorbar": {
              "outlinewidth": 0,
              "ticks": ""
             }
            },
            "marker": {
             "colorbar": {
              "outlinewidth": 0,
              "ticks": ""
             }
            },
            "type": "scatter3d"
           }
          ],
          "scattercarpet": [
           {
            "marker": {
             "colorbar": {
              "outlinewidth": 0,
              "ticks": ""
             }
            },
            "type": "scattercarpet"
           }
          ],
          "scattergeo": [
           {
            "marker": {
             "colorbar": {
              "outlinewidth": 0,
              "ticks": ""
             }
            },
            "type": "scattergeo"
           }
          ],
          "scattergl": [
           {
            "marker": {
             "colorbar": {
              "outlinewidth": 0,
              "ticks": ""
             }
            },
            "type": "scattergl"
           }
          ],
          "scattermap": [
           {
            "marker": {
             "colorbar": {
              "outlinewidth": 0,
              "ticks": ""
             }
            },
            "type": "scattermap"
           }
          ],
          "scattermapbox": [
           {
            "marker": {
             "colorbar": {
              "outlinewidth": 0,
              "ticks": ""
             }
            },
            "type": "scattermapbox"
           }
          ],
          "scatterpolar": [
           {
            "marker": {
             "colorbar": {
              "outlinewidth": 0,
              "ticks": ""
             }
            },
            "type": "scatterpolar"
           }
          ],
          "scatterpolargl": [
           {
            "marker": {
             "colorbar": {
              "outlinewidth": 0,
              "ticks": ""
             }
            },
            "type": "scatterpolargl"
           }
          ],
          "scatterternary": [
           {
            "marker": {
             "colorbar": {
              "outlinewidth": 0,
              "ticks": ""
             }
            },
            "type": "scatterternary"
           }
          ],
          "surface": [
           {
            "colorbar": {
             "outlinewidth": 0,
             "ticks": ""
            },
            "colorscale": [
             [
              0,
              "#0d0887"
             ],
             [
              0.1111111111111111,
              "#46039f"
             ],
             [
              0.2222222222222222,
              "#7201a8"
             ],
             [
              0.3333333333333333,
              "#9c179e"
             ],
             [
              0.4444444444444444,
              "#bd3786"
             ],
             [
              0.5555555555555556,
              "#d8576b"
             ],
             [
              0.6666666666666666,
              "#ed7953"
             ],
             [
              0.7777777777777778,
              "#fb9f3a"
             ],
             [
              0.8888888888888888,
              "#fdca26"
             ],
             [
              1,
              "#f0f921"
             ]
            ],
            "type": "surface"
           }
          ],
          "table": [
           {
            "cells": {
             "fill": {
              "color": "#EBF0F8"
             },
             "line": {
              "color": "white"
             }
            },
            "header": {
             "fill": {
              "color": "#C8D4E3"
             },
             "line": {
              "color": "white"
             }
            },
            "type": "table"
           }
          ]
         },
         "layout": {
          "annotationdefaults": {
           "arrowcolor": "#2a3f5f",
           "arrowhead": 0,
           "arrowwidth": 1
          },
          "autotypenumbers": "strict",
          "coloraxis": {
           "colorbar": {
            "outlinewidth": 0,
            "ticks": ""
           }
          },
          "colorscale": {
           "diverging": [
            [
             0,
             "#8e0152"
            ],
            [
             0.1,
             "#c51b7d"
            ],
            [
             0.2,
             "#de77ae"
            ],
            [
             0.3,
             "#f1b6da"
            ],
            [
             0.4,
             "#fde0ef"
            ],
            [
             0.5,
             "#f7f7f7"
            ],
            [
             0.6,
             "#e6f5d0"
            ],
            [
             0.7,
             "#b8e186"
            ],
            [
             0.8,
             "#7fbc41"
            ],
            [
             0.9,
             "#4d9221"
            ],
            [
             1,
             "#276419"
            ]
           ],
           "sequential": [
            [
             0,
             "#0d0887"
            ],
            [
             0.1111111111111111,
             "#46039f"
            ],
            [
             0.2222222222222222,
             "#7201a8"
            ],
            [
             0.3333333333333333,
             "#9c179e"
            ],
            [
             0.4444444444444444,
             "#bd3786"
            ],
            [
             0.5555555555555556,
             "#d8576b"
            ],
            [
             0.6666666666666666,
             "#ed7953"
            ],
            [
             0.7777777777777778,
             "#fb9f3a"
            ],
            [
             0.8888888888888888,
             "#fdca26"
            ],
            [
             1,
             "#f0f921"
            ]
           ],
           "sequentialminus": [
            [
             0,
             "#0d0887"
            ],
            [
             0.1111111111111111,
             "#46039f"
            ],
            [
             0.2222222222222222,
             "#7201a8"
            ],
            [
             0.3333333333333333,
             "#9c179e"
            ],
            [
             0.4444444444444444,
             "#bd3786"
            ],
            [
             0.5555555555555556,
             "#d8576b"
            ],
            [
             0.6666666666666666,
             "#ed7953"
            ],
            [
             0.7777777777777778,
             "#fb9f3a"
            ],
            [
             0.8888888888888888,
             "#fdca26"
            ],
            [
             1,
             "#f0f921"
            ]
           ]
          },
          "colorway": [
           "#636efa",
           "#EF553B",
           "#00cc96",
           "#ab63fa",
           "#FFA15A",
           "#19d3f3",
           "#FF6692",
           "#B6E880",
           "#FF97FF",
           "#FECB52"
          ],
          "font": {
           "color": "#2a3f5f"
          },
          "geo": {
           "bgcolor": "white",
           "lakecolor": "white",
           "landcolor": "#E5ECF6",
           "showlakes": true,
           "showland": true,
           "subunitcolor": "white"
          },
          "hoverlabel": {
           "align": "left"
          },
          "hovermode": "closest",
          "mapbox": {
           "style": "light"
          },
          "paper_bgcolor": "white",
          "plot_bgcolor": "#E5ECF6",
          "polar": {
           "angularaxis": {
            "gridcolor": "white",
            "linecolor": "white",
            "ticks": ""
           },
           "bgcolor": "#E5ECF6",
           "radialaxis": {
            "gridcolor": "white",
            "linecolor": "white",
            "ticks": ""
           }
          },
          "scene": {
           "xaxis": {
            "backgroundcolor": "#E5ECF6",
            "gridcolor": "white",
            "gridwidth": 2,
            "linecolor": "white",
            "showbackground": true,
            "ticks": "",
            "zerolinecolor": "white"
           },
           "yaxis": {
            "backgroundcolor": "#E5ECF6",
            "gridcolor": "white",
            "gridwidth": 2,
            "linecolor": "white",
            "showbackground": true,
            "ticks": "",
            "zerolinecolor": "white"
           },
           "zaxis": {
            "backgroundcolor": "#E5ECF6",
            "gridcolor": "white",
            "gridwidth": 2,
            "linecolor": "white",
            "showbackground": true,
            "ticks": "",
            "zerolinecolor": "white"
           }
          },
          "shapedefaults": {
           "line": {
            "color": "#2a3f5f"
           }
          },
          "ternary": {
           "aaxis": {
            "gridcolor": "white",
            "linecolor": "white",
            "ticks": ""
           },
           "baxis": {
            "gridcolor": "white",
            "linecolor": "white",
            "ticks": ""
           },
           "bgcolor": "#E5ECF6",
           "caxis": {
            "gridcolor": "white",
            "linecolor": "white",
            "ticks": ""
           }
          },
          "title": {
           "x": 0.05
          },
          "xaxis": {
           "automargin": true,
           "gridcolor": "white",
           "linecolor": "white",
           "ticks": "",
           "title": {
            "standoff": 15
           },
           "zerolinecolor": "white",
           "zerolinewidth": 2
          },
          "yaxis": {
           "automargin": true,
           "gridcolor": "white",
           "linecolor": "white",
           "ticks": "",
           "title": {
            "standoff": 15
           },
           "zerolinecolor": "white",
           "zerolinewidth": 2
          }
         }
        },
        "title": {
         "text": "Distribution of Researchers by Place of Living"
        },
        "xaxis": {
         "anchor": "y",
         "domain": [
          0,
          1
         ],
         "title": {
          "text": "Count"
         }
        },
        "yaxis": {
         "anchor": "x",
         "domain": [
          0,
          1
         ],
         "title": {
          "text": "Place of Living"
         }
        }
       }
      }
     },
     "metadata": {},
     "output_type": "display_data"
    }
   ],
   "source": [
    "total_researchers = df2['ResponseId'].nunique()\n",
    "\n",
    "responded_count = df2['DE5'].notna().sum()\n",
    "not_responded_count = total_researchers - responded_count\n",
    "\n",
    "responded_percentage = (responded_count / total_researchers) * 100\n",
    "not_responded_percentage = (not_responded_count / total_researchers) * 100\n",
    "\n",
    "print(\"\\n===== Place of Living (First 18 Years) Response Statistics =====\")\n",
    "print(f\"Total unique researchers (participants): {total_researchers}\")\n",
    "print(f\"Responded to place of living question: {responded_count} ({responded_percentage:.2f}%)\")\n",
    "print(f\"Did not respond: {not_responded_count} ({not_responded_percentage:.2f}%)\\n\")\n",
    "\n",
    "# Place of living distribution (only respondents)\n",
    "place_counts_filtered = df2['DE5'].dropna().value_counts().reset_index()\n",
    "place_counts_filtered.columns = ['Place of Living', 'Count']\n",
    "place_counts_filtered['Percentage'] = (place_counts_filtered['Count'] / responded_count) * 100\n",
    "place_counts_filtered = place_counts_filtered.sort_values(by='Count', ascending=False)\n",
    "\n",
    "print(\"\\n===== Place of Living Distribution (Only Respondents) =====\")\n",
    "for place, count, percentage in place_counts_filtered.values:\n",
    "    print(f\"{place}: {count} ({percentage:.2f}%)\")\n",
    "\n",
    "fig2 = px.bar(place_counts_filtered, x='Count', y='Place of Living', \n",
    "              orientation='h', title='Distribution of Researchers by Place of Living',\n",
    "              text='Count')\n",
    "fig2.show()\n"
   ]
  },
  {
   "cell_type": "code",
   "execution_count": 164,
   "metadata": {},
   "outputs": [],
   "source": [
    "import pandas as pd\n",
    "import plotly.express as px\n",
    "\n",
    "def analyze_responses(df, col):\n",
    "    \"\"\"\n",
    "    Analyzes the responses for a given survey column using ResponseId for unique participants.\n",
    "    \n",
    "    Parameters:\n",
    "        df (pd.DataFrame): The survey DataFrame.\n",
    "        col (str): The column name to analyze.\n",
    "    \n",
    "    Returns:\n",
    "        dict: A dictionary containing response statistics.\n",
    "    \"\"\"\n",
    "    question_text = df[col].iloc[0]  # Extract the question from the first row\n",
    "    total_researchers = df['ResponseId'].nunique()  # Count unique participants\n",
    "    responded_count = df[col].iloc[1:].notna().sum()\n",
    "    not_responded_count = total_researchers - responded_count\n",
    "\n",
    "    responded_percentage = (responded_count / total_researchers) * 100\n",
    "    not_responded_percentage = (not_responded_count / total_researchers) * 100\n",
    "\n",
    "    print(f\"\\n===== {question_text} =====\")\n",
    "    print(f\"Total unique participants: {total_researchers}\")\n",
    "    print(f\"Responded: {responded_count} ({responded_percentage:.2f}%)\")\n",
    "    print(f\"Did not respond: {not_responded_count} ({not_responded_percentage:.2f}%)\")\n",
    "\n",
    "    return {\n",
    "        \"question\": question_text,\n",
    "        \"total\": total_researchers,\n",
    "        \"responded\": responded_count,\n",
    "        \"responded_percentage\": responded_percentage,\n",
    "        \"not_responded\": not_responded_count,\n",
    "        \"not_responded_percentage\": not_responded_percentage\n",
    "    }\n"
   ]
  },
  {
   "cell_type": "code",
   "execution_count": 165,
   "metadata": {},
   "outputs": [],
   "source": [
    "from collections import Counter\n",
    "\n",
    "def detect_multi_select_columns(df, threshold=0.1):\n",
    "    \"\"\"\n",
    "    Detects multi-select columns dynamically by checking how many responses contain commas.\n",
    "\n",
    "    Parameters:\n",
    "        df (pd.DataFrame): The survey DataFrame.\n",
    "        threshold (float): Minimum percentage of responses that must contain ',' to be considered multi-select.\n",
    "\n",
    "    Returns:\n",
    "        list: A list of column names that are multi-select.\n",
    "    \"\"\"\n",
    "    multi_select_cols = []\n",
    "    for col in df.columns:\n",
    "        if col.startswith(\"DE\"):  # Only check survey-related columns\n",
    "            non_empty_responses = df[col].dropna().astype(str)\n",
    "            multi_select_ratio = (non_empty_responses.str.contains(\",\").sum()) / len(non_empty_responses)\n",
    "            if multi_select_ratio > threshold:  # If more than X% of responses contain commas, it's multi-select\n",
    "                multi_select_cols.append(col)\n",
    "    return multi_select_cols\n"
   ]
  },
  {
   "cell_type": "code",
   "execution_count": 170,
   "metadata": {},
   "outputs": [],
   "source": [
    "def plot_distribution(df, col):\n",
    "    \"\"\"\n",
    "    Plots the distribution of a survey question (for single-choice responses) using percentages.\n",
    "\n",
    "    Parameters:\n",
    "        df (pd.DataFrame): The survey DataFrame.\n",
    "        col (str): The column name containing responses.\n",
    "    \"\"\"\n",
    "    data = df[col].iloc[1:].dropna()  # Remove question text row\n",
    "    data = data.astype(str)  # Ensure all values are treated as strings\n",
    "\n",
    "    # Detect if column is numeric (e.g., birth year)\n",
    "    is_numeric = data.str.replace(r\"\\D\", \"\", regex=True).str.isnumeric().all()\n",
    "\n",
    "    if is_numeric:\n",
    "        data = data.astype(int)\n",
    "        fig = px.histogram(\n",
    "            data, \n",
    "            x=data, \n",
    "            title=f\"Distribution of {df[col].iloc[0]}\",\n",
    "            nbins=20,  \n",
    "            text_auto=True\n",
    "        )\n",
    "    else:\n",
    "        df_counts = data.value_counts().reset_index()\n",
    "        df_counts.columns = ['Response', 'Count']\n",
    "        total = df_counts['Count'].sum()\n",
    "        df_counts['Percentage'] = (df_counts['Count'] / total) * 100\n",
    "\n",
    "        fig = px.bar(\n",
    "            df_counts, \n",
    "            x='Percentage',  \n",
    "            y='Response', \n",
    "            orientation='h',\n",
    "            title=f\"Distribution of {df[col].iloc[0]}\",\n",
    "            text=df_counts.apply(lambda row: f\"{row['Percentage']:.2f}% (n={row['Count']})\", axis=1),\n",
    "            hover_data=['Count']  \n",
    "        )\n",
    "\n",
    "    fig.update_traces(textposition='outside')\n",
    "    fig.show()\n"
   ]
  },
  {
   "cell_type": "code",
   "execution_count": null,
   "metadata": {},
   "outputs": [],
   "source": [
    "import re\n",
    "\n",
    "def plot_multi_select_distribution(df, col):\n",
    "    \"\"\"\n",
    "    Processes multi-select responses and plots a bar chart using percentages.\n",
    "\n",
    "    Parameters:\n",
    "        df (pd.DataFrame): The survey DataFrame.\n",
    "        col (str): The column name containing multi-select responses.\n",
    "    \"\"\"\n",
    "    data = df[col].iloc[1:].dropna()\n",
    "\n",
    "    # Convert to string and check for multi-selection\n",
    "    data = data.astype(str)\n",
    "\n",
    "    # Only replace commas if they separate choices (not within parentheses or normal text)\n",
    "    data = data.apply(lambda x: x if re.search(r\"\\(.*?,.*?\\)\", x) else x.replace(\",\", \";\"))\n",
    "\n",
    "    # Flatten responses (split by semicolon)\n",
    "    all_responses = [item.strip() for sublist in data.str.split(\";\") for item in sublist]\n",
    "\n",
    "    counts = Counter(all_responses)\n",
    "\n",
    "    # Convert to DataFrame\n",
    "    df_counts = pd.DataFrame(counts.items(), columns=['Response', 'Count'])\n",
    "    total = df_counts['Count'].sum()\n",
    "    df_counts['Percentage'] = (df_counts['Count'] / total) * 100\n",
    "    df_counts = df_counts.sort_values(by='Percentage', ascending=False)\n",
    "\n",
    "    fig = px.bar(\n",
    "        df_counts,\n",
    "        x='Percentage', \n",
    "        y='Response',\n",
    "        orientation='h',\n",
    "        title=f\"Distribution of {df[col].iloc[0]} (Multi-Select Processed)\",\n",
    "        text=df_counts.apply(lambda row: f\"{row['Percentage']:.2f}% (n={row['Count']})\", axis=1),\n",
    "        hover_data={'Count': df_counts['Count']}  # Show counts on hover\n",
    "    )\n",
    "\n",
    "    fig.update_traces(textposition='outside')\n",
    "    fig.show()\n"
   ]
  },
  {
   "cell_type": "code",
   "execution_count": 172,
   "metadata": {},
   "outputs": [],
   "source": [
    "def analyze_survey(df):\n",
    "    \"\"\"\n",
    "    Automates the analysis and visualization for all survey columns (DE...).\n",
    "\n",
    "    Parameters:\n",
    "        df (pd.DataFrame): The survey DataFrame.\n",
    "\n",
    "    Returns:\n",
    "        dict: A dictionary containing response statistics for all questions.\n",
    "    \"\"\"\n",
    "    survey_stats = {}\n",
    "\n",
    "    # Detect multi-select columns automatically\n",
    "    multi_select_cols = detect_multi_select_columns(df)\n",
    "\n",
    "    # Identify all survey columns (columns starting with 'DE')\n",
    "    survey_columns = [col for col in df.columns if col.startswith('DE')]\n",
    "\n",
    "    for col in survey_columns:\n",
    "        print(f\"\\nAnalyzing: {col}\")\n",
    "\n",
    "        # Run analysis and store stats\n",
    "        stats = analyze_responses(df, col)\n",
    "        survey_stats[col] = stats\n",
    "\n",
    "        # Choose correct visualization method\n",
    "        if col in multi_select_cols:\n",
    "            print(f\"Detected multi-select question: {col}, using multi-select distribution plot.\")\n",
    "            plot_multi_select_distribution(df, col)\n",
    "        else:\n",
    "            plot_distribution(df, col)\n",
    "\n",
    "    return survey_stats\n"
   ]
  },
  {
   "cell_type": "code",
   "execution_count": 173,
   "metadata": {},
   "outputs": [
    {
     "name": "stdout",
     "output_type": "stream",
     "text": [
      "\n",
      "Analyzing: DE1\n",
      "\n",
      "===== In what year were you born? =====\n",
      "Total unique participants: 10072\n",
      "Responded: 6524 (64.77%)\n",
      "Did not respond: 3548 (35.23%)\n"
     ]
    },
    {
     "data": {
      "application/vnd.plotly.v1+json": {
       "config": {
        "plotlyServerURL": "https://plot.ly"
       },
       "data": [
        {
         "bingroup": "x",
         "hovertemplate": "DE1=%{x}<br>count=%{y}<extra></extra>",
         "legendgroup": "",
         "marker": {
          "color": "#636efa",
          "pattern": {
           "shape": ""
          }
         },
         "name": "",
         "nbinsx": 20,
         "orientation": "v",
         "showlegend": false,
         "textposition": "outside",
         "texttemplate": "%{value}",
         "type": "histogram",
         "x": {
          "bdata": "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",
          "dtype": "i2"
         },
         "xaxis": "x",
         "yaxis": "y"
        }
       ],
       "layout": {
        "barmode": "relative",
        "legend": {
         "tracegroupgap": 0
        },
        "template": {
         "data": {
          "bar": [
           {
            "error_x": {
             "color": "#2a3f5f"
            },
            "error_y": {
             "color": "#2a3f5f"
            },
            "marker": {
             "line": {
              "color": "#E5ECF6",
              "width": 0.5
             },
             "pattern": {
              "fillmode": "overlay",
              "size": 10,
              "solidity": 0.2
             }
            },
            "type": "bar"
           }
          ],
          "barpolar": [
           {
            "marker": {
             "line": {
              "color": "#E5ECF6",
              "width": 0.5
             },
             "pattern": {
              "fillmode": "overlay",
              "size": 10,
              "solidity": 0.2
             }
            },
            "type": "barpolar"
           }
          ],
          "carpet": [
           {
            "aaxis": {
             "endlinecolor": "#2a3f5f",
             "gridcolor": "white",
             "linecolor": "white",
             "minorgridcolor": "white",
             "startlinecolor": "#2a3f5f"
            },
            "baxis": {
             "endlinecolor": "#2a3f5f",
             "gridcolor": "white",
             "linecolor": "white",
             "minorgridcolor": "white",
             "startlinecolor": "#2a3f5f"
            },
            "type": "carpet"
           }
          ],
          "choropleth": [
           {
            "colorbar": {
             "outlinewidth": 0,
             "ticks": ""
            },
            "type": "choropleth"
           }
          ],
          "contour": [
           {
            "colorbar": {
             "outlinewidth": 0,
             "ticks": ""
            },
            "colorscale": [
             [
              0,
              "#0d0887"
             ],
             [
              0.1111111111111111,
              "#46039f"
             ],
             [
              0.2222222222222222,
              "#7201a8"
             ],
             [
              0.3333333333333333,
              "#9c179e"
             ],
             [
              0.4444444444444444,
              "#bd3786"
             ],
             [
              0.5555555555555556,
              "#d8576b"
             ],
             [
              0.6666666666666666,
              "#ed7953"
             ],
             [
              0.7777777777777778,
              "#fb9f3a"
             ],
             [
              0.8888888888888888,
              "#fdca26"
             ],
             [
              1,
              "#f0f921"
             ]
            ],
            "type": "contour"
           }
          ],
          "contourcarpet": [
           {
            "colorbar": {
             "outlinewidth": 0,
             "ticks": ""
            },
            "type": "contourcarpet"
           }
          ],
          "heatmap": [
           {
            "colorbar": {
             "outlinewidth": 0,
             "ticks": ""
            },
            "colorscale": [
             [
              0,
              "#0d0887"
             ],
             [
              0.1111111111111111,
              "#46039f"
             ],
             [
              0.2222222222222222,
              "#7201a8"
             ],
             [
              0.3333333333333333,
              "#9c179e"
             ],
             [
              0.4444444444444444,
              "#bd3786"
             ],
             [
              0.5555555555555556,
              "#d8576b"
             ],
             [
              0.6666666666666666,
              "#ed7953"
             ],
             [
              0.7777777777777778,
              "#fb9f3a"
             ],
             [
              0.8888888888888888,
              "#fdca26"
             ],
             [
              1,
              "#f0f921"
             ]
            ],
            "type": "heatmap"
           }
          ],
          "histogram": [
           {
            "marker": {
             "pattern": {
              "fillmode": "overlay",
              "size": 10,
              "solidity": 0.2
             }
            },
            "type": "histogram"
           }
          ],
          "histogram2d": [
           {
            "colorbar": {
             "outlinewidth": 0,
             "ticks": ""
            },
            "colorscale": [
             [
              0,
              "#0d0887"
             ],
             [
              0.1111111111111111,
              "#46039f"
             ],
             [
              0.2222222222222222,
              "#7201a8"
             ],
             [
              0.3333333333333333,
              "#9c179e"
             ],
             [
              0.4444444444444444,
              "#bd3786"
             ],
             [
              0.5555555555555556,
              "#d8576b"
             ],
             [
              0.6666666666666666,
              "#ed7953"
             ],
             [
              0.7777777777777778,
              "#fb9f3a"
             ],
             [
              0.8888888888888888,
              "#fdca26"
             ],
             [
              1,
              "#f0f921"
             ]
            ],
            "type": "histogram2d"
           }
          ],
          "histogram2dcontour": [
           {
            "colorbar": {
             "outlinewidth": 0,
             "ticks": ""
            },
            "colorscale": [
             [
              0,
              "#0d0887"
             ],
             [
              0.1111111111111111,
              "#46039f"
             ],
             [
              0.2222222222222222,
              "#7201a8"
             ],
             [
              0.3333333333333333,
              "#9c179e"
             ],
             [
              0.4444444444444444,
              "#bd3786"
             ],
             [
              0.5555555555555556,
              "#d8576b"
             ],
             [
              0.6666666666666666,
              "#ed7953"
             ],
             [
              0.7777777777777778,
              "#fb9f3a"
             ],
             [
              0.8888888888888888,
              "#fdca26"
             ],
             [
              1,
              "#f0f921"
             ]
            ],
            "type": "histogram2dcontour"
           }
          ],
          "mesh3d": [
           {
            "colorbar": {
             "outlinewidth": 0,
             "ticks": ""
            },
            "type": "mesh3d"
           }
          ],
          "parcoords": [
           {
            "line": {
             "colorbar": {
              "outlinewidth": 0,
              "ticks": ""
             }
            },
            "type": "parcoords"
           }
          ],
          "pie": [
           {
            "automargin": true,
            "type": "pie"
           }
          ],
          "scatter": [
           {
            "fillpattern": {
             "fillmode": "overlay",
             "size": 10,
             "solidity": 0.2
            },
            "type": "scatter"
           }
          ],
          "scatter3d": [
           {
            "line": {
             "colorbar": {
              "outlinewidth": 0,
              "ticks": ""
             }
            },
            "marker": {
             "colorbar": {
              "outlinewidth": 0,
              "ticks": ""
             }
            },
            "type": "scatter3d"
           }
          ],
          "scattercarpet": [
           {
            "marker": {
             "colorbar": {
              "outlinewidth": 0,
              "ticks": ""
             }
            },
            "type": "scattercarpet"
           }
          ],
          "scattergeo": [
           {
            "marker": {
             "colorbar": {
              "outlinewidth": 0,
              "ticks": ""
             }
            },
            "type": "scattergeo"
           }
          ],
          "scattergl": [
           {
            "marker": {
             "colorbar": {
              "outlinewidth": 0,
              "ticks": ""
             }
            },
            "type": "scattergl"
           }
          ],
          "scattermap": [
           {
            "marker": {
             "colorbar": {
              "outlinewidth": 0,
              "ticks": ""
             }
            },
            "type": "scattermap"
           }
          ],
          "scattermapbox": [
           {
            "marker": {
             "colorbar": {
              "outlinewidth": 0,
              "ticks": ""
             }
            },
            "type": "scattermapbox"
           }
          ],
          "scatterpolar": [
           {
            "marker": {
             "colorbar": {
              "outlinewidth": 0,
              "ticks": ""
             }
            },
            "type": "scatterpolar"
           }
          ],
          "scatterpolargl": [
           {
            "marker": {
             "colorbar": {
              "outlinewidth": 0,
              "ticks": ""
             }
            },
            "type": "scatterpolargl"
           }
          ],
          "scatterternary": [
           {
            "marker": {
             "colorbar": {
              "outlinewidth": 0,
              "ticks": ""
             }
            },
            "type": "scatterternary"
           }
          ],
          "surface": [
           {
            "colorbar": {
             "outlinewidth": 0,
             "ticks": ""
            },
            "colorscale": [
             [
              0,
              "#0d0887"
             ],
             [
              0.1111111111111111,
              "#46039f"
             ],
             [
              0.2222222222222222,
              "#7201a8"
             ],
             [
              0.3333333333333333,
              "#9c179e"
             ],
             [
              0.4444444444444444,
              "#bd3786"
             ],
             [
              0.5555555555555556,
              "#d8576b"
             ],
             [
              0.6666666666666666,
              "#ed7953"
             ],
             [
              0.7777777777777778,
              "#fb9f3a"
             ],
             [
              0.8888888888888888,
              "#fdca26"
             ],
             [
              1,
              "#f0f921"
             ]
            ],
            "type": "surface"
           }
          ],
          "table": [
           {
            "cells": {
             "fill": {
              "color": "#EBF0F8"
             },
             "line": {
              "color": "white"
             }
            },
            "header": {
             "fill": {
              "color": "#C8D4E3"
             },
             "line": {
              "color": "white"
             }
            },
            "type": "table"
           }
          ]
         },
         "layout": {
          "annotationdefaults": {
           "arrowcolor": "#2a3f5f",
           "arrowhead": 0,
           "arrowwidth": 1
          },
          "autotypenumbers": "strict",
          "coloraxis": {
           "colorbar": {
            "outlinewidth": 0,
            "ticks": ""
           }
          },
          "colorscale": {
           "diverging": [
            [
             0,
             "#8e0152"
            ],
            [
             0.1,
             "#c51b7d"
            ],
            [
             0.2,
             "#de77ae"
            ],
            [
             0.3,
             "#f1b6da"
            ],
            [
             0.4,
             "#fde0ef"
            ],
            [
             0.5,
             "#f7f7f7"
            ],
            [
             0.6,
             "#e6f5d0"
            ],
            [
             0.7,
             "#b8e186"
            ],
            [
             0.8,
             "#7fbc41"
            ],
            [
             0.9,
             "#4d9221"
            ],
            [
             1,
             "#276419"
            ]
           ],
           "sequential": [
            [
             0,
             "#0d0887"
            ],
            [
             0.1111111111111111,
             "#46039f"
            ],
            [
             0.2222222222222222,
             "#7201a8"
            ],
            [
             0.3333333333333333,
             "#9c179e"
            ],
            [
             0.4444444444444444,
             "#bd3786"
            ],
            [
             0.5555555555555556,
             "#d8576b"
            ],
            [
             0.6666666666666666,
             "#ed7953"
            ],
            [
             0.7777777777777778,
             "#fb9f3a"
            ],
            [
             0.8888888888888888,
             "#fdca26"
            ],
            [
             1,
             "#f0f921"
            ]
           ],
           "sequentialminus": [
            [
             0,
             "#0d0887"
            ],
            [
             0.1111111111111111,
             "#46039f"
            ],
            [
             0.2222222222222222,
             "#7201a8"
            ],
            [
             0.3333333333333333,
             "#9c179e"
            ],
            [
             0.4444444444444444,
             "#bd3786"
            ],
            [
             0.5555555555555556,
             "#d8576b"
            ],
            [
             0.6666666666666666,
             "#ed7953"
            ],
            [
             0.7777777777777778,
             "#fb9f3a"
            ],
            [
             0.8888888888888888,
             "#fdca26"
            ],
            [
             1,
             "#f0f921"
            ]
           ]
          },
          "colorway": [
           "#636efa",
           "#EF553B",
           "#00cc96",
           "#ab63fa",
           "#FFA15A",
           "#19d3f3",
           "#FF6692",
           "#B6E880",
           "#FF97FF",
           "#FECB52"
          ],
          "font": {
           "color": "#2a3f5f"
          },
          "geo": {
           "bgcolor": "white",
           "lakecolor": "white",
           "landcolor": "#E5ECF6",
           "showlakes": true,
           "showland": true,
           "subunitcolor": "white"
          },
          "hoverlabel": {
           "align": "left"
          },
          "hovermode": "closest",
          "mapbox": {
           "style": "light"
          },
          "paper_bgcolor": "white",
          "plot_bgcolor": "#E5ECF6",
          "polar": {
           "angularaxis": {
            "gridcolor": "white",
            "linecolor": "white",
            "ticks": ""
           },
           "bgcolor": "#E5ECF6",
           "radialaxis": {
            "gridcolor": "white",
            "linecolor": "white",
            "ticks": ""
           }
          },
          "scene": {
           "xaxis": {
            "backgroundcolor": "#E5ECF6",
            "gridcolor": "white",
            "gridwidth": 2,
            "linecolor": "white",
            "showbackground": true,
            "ticks": "",
            "zerolinecolor": "white"
           },
           "yaxis": {
            "backgroundcolor": "#E5ECF6",
            "gridcolor": "white",
            "gridwidth": 2,
            "linecolor": "white",
            "showbackground": true,
            "ticks": "",
            "zerolinecolor": "white"
           },
           "zaxis": {
            "backgroundcolor": "#E5ECF6",
            "gridcolor": "white",
            "gridwidth": 2,
            "linecolor": "white",
            "showbackground": true,
            "ticks": "",
            "zerolinecolor": "white"
           }
          },
          "shapedefaults": {
           "line": {
            "color": "#2a3f5f"
           }
          },
          "ternary": {
           "aaxis": {
            "gridcolor": "white",
            "linecolor": "white",
            "ticks": ""
           },
           "baxis": {
            "gridcolor": "white",
            "linecolor": "white",
            "ticks": ""
           },
           "bgcolor": "#E5ECF6",
           "caxis": {
            "gridcolor": "white",
            "linecolor": "white",
            "ticks": ""
           }
          },
          "title": {
           "x": 0.05
          },
          "xaxis": {
           "automargin": true,
           "gridcolor": "white",
           "linecolor": "white",
           "ticks": "",
           "title": {
            "standoff": 15
           },
           "zerolinecolor": "white",
           "zerolinewidth": 2
          },
          "yaxis": {
           "automargin": true,
           "gridcolor": "white",
           "linecolor": "white",
           "ticks": "",
           "title": {
            "standoff": 15
           },
           "zerolinecolor": "white",
           "zerolinewidth": 2
          }
         }
        },
        "title": {
         "text": "Distribution of In what year were you born?"
        },
        "xaxis": {
         "anchor": "y",
         "domain": [
          0,
          1
         ],
         "title": {
          "text": "DE1"
         }
        },
        "yaxis": {
         "anchor": "x",
         "domain": [
          0,
          1
         ],
         "title": {
          "text": "count"
         }
        }
       }
      }
     },
     "metadata": {},
     "output_type": "display_data"
    },
    {
     "name": "stdout",
     "output_type": "stream",
     "text": [
      "\n",
      "Analyzing: DE2\n",
      "\n",
      "===== What is your gender identity? =====\n",
      "Total unique participants: 10072\n",
      "Responded: 6580 (65.33%)\n",
      "Did not respond: 3492 (34.67%)\n"
     ]
    },
    {
     "data": {
      "application/vnd.plotly.v1+json": {
       "config": {
        "plotlyServerURL": "https://plot.ly"
       },
       "data": [
        {
         "customdata": {
          "bdata": "eA34CyMAIQA=",
          "dtype": "i2",
          "shape": "4, 1"
         },
         "hovertemplate": "Percentage=%{x}<br>Response=%{y}<br>text=%{text}<br>Count=%{customdata[0]}<extra></extra>",
         "legendgroup": "",
         "marker": {
          "color": "#636efa",
          "pattern": {
           "shape": ""
          }
         },
         "name": "",
         "orientation": "h",
         "showlegend": false,
         "text": [
          "52.40% (n=3448)",
          "46.57% (n=3064)",
          "0.53% (n=35)",
          "0.50% (n=33)"
         ],
         "textposition": "outside",
         "type": "bar",
         "x": {
          "bdata": "gpEdClszSkAJTbVfXUhHQMTkCmJyBeE/nHg9KXMM4D8=",
          "dtype": "f8"
         },
         "xaxis": "x",
         "y": [
          "Woman",
          "Man",
          "Prefer not to answer",
          "Non-binary person"
         ],
         "yaxis": "y"
        }
       ],
       "layout": {
        "barmode": "relative",
        "legend": {
         "tracegroupgap": 0
        },
        "template": {
         "data": {
          "bar": [
           {
            "error_x": {
             "color": "#2a3f5f"
            },
            "error_y": {
             "color": "#2a3f5f"
            },
            "marker": {
             "line": {
              "color": "#E5ECF6",
              "width": 0.5
             },
             "pattern": {
              "fillmode": "overlay",
              "size": 10,
              "solidity": 0.2
             }
            },
            "type": "bar"
           }
          ],
          "barpolar": [
           {
            "marker": {
             "line": {
              "color": "#E5ECF6",
              "width": 0.5
             },
             "pattern": {
              "fillmode": "overlay",
              "size": 10,
              "solidity": 0.2
             }
            },
            "type": "barpolar"
           }
          ],
          "carpet": [
           {
            "aaxis": {
             "endlinecolor": "#2a3f5f",
             "gridcolor": "white",
             "linecolor": "white",
             "minorgridcolor": "white",
             "startlinecolor": "#2a3f5f"
            },
            "baxis": {
             "endlinecolor": "#2a3f5f",
             "gridcolor": "white",
             "linecolor": "white",
             "minorgridcolor": "white",
             "startlinecolor": "#2a3f5f"
            },
            "type": "carpet"
           }
          ],
          "choropleth": [
           {
            "colorbar": {
             "outlinewidth": 0,
             "ticks": ""
            },
            "type": "choropleth"
           }
          ],
          "contour": [
           {
            "colorbar": {
             "outlinewidth": 0,
             "ticks": ""
            },
            "colorscale": [
             [
              0,
              "#0d0887"
             ],
             [
              0.1111111111111111,
              "#46039f"
             ],
             [
              0.2222222222222222,
              "#7201a8"
             ],
             [
              0.3333333333333333,
              "#9c179e"
             ],
             [
              0.4444444444444444,
              "#bd3786"
             ],
             [
              0.5555555555555556,
              "#d8576b"
             ],
             [
              0.6666666666666666,
              "#ed7953"
             ],
             [
              0.7777777777777778,
              "#fb9f3a"
             ],
             [
              0.8888888888888888,
              "#fdca26"
             ],
             [
              1,
              "#f0f921"
             ]
            ],
            "type": "contour"
           }
          ],
          "contourcarpet": [
           {
            "colorbar": {
             "outlinewidth": 0,
             "ticks": ""
            },
            "type": "contourcarpet"
           }
          ],
          "heatmap": [
           {
            "colorbar": {
             "outlinewidth": 0,
             "ticks": ""
            },
            "colorscale": [
             [
              0,
              "#0d0887"
             ],
             [
              0.1111111111111111,
              "#46039f"
             ],
             [
              0.2222222222222222,
              "#7201a8"
             ],
             [
              0.3333333333333333,
              "#9c179e"
             ],
             [
              0.4444444444444444,
              "#bd3786"
             ],
             [
              0.5555555555555556,
              "#d8576b"
             ],
             [
              0.6666666666666666,
              "#ed7953"
             ],
             [
              0.7777777777777778,
              "#fb9f3a"
             ],
             [
              0.8888888888888888,
              "#fdca26"
             ],
             [
              1,
              "#f0f921"
             ]
            ],
            "type": "heatmap"
           }
          ],
          "histogram": [
           {
            "marker": {
             "pattern": {
              "fillmode": "overlay",
              "size": 10,
              "solidity": 0.2
             }
            },
            "type": "histogram"
           }
          ],
          "histogram2d": [
           {
            "colorbar": {
             "outlinewidth": 0,
             "ticks": ""
            },
            "colorscale": [
             [
              0,
              "#0d0887"
             ],
             [
              0.1111111111111111,
              "#46039f"
             ],
             [
              0.2222222222222222,
              "#7201a8"
             ],
             [
              0.3333333333333333,
              "#9c179e"
             ],
             [
              0.4444444444444444,
              "#bd3786"
             ],
             [
              0.5555555555555556,
              "#d8576b"
             ],
             [
              0.6666666666666666,
              "#ed7953"
             ],
             [
              0.7777777777777778,
              "#fb9f3a"
             ],
             [
              0.8888888888888888,
              "#fdca26"
             ],
             [
              1,
              "#f0f921"
             ]
            ],
            "type": "histogram2d"
           }
          ],
          "histogram2dcontour": [
           {
            "colorbar": {
             "outlinewidth": 0,
             "ticks": ""
            },
            "colorscale": [
             [
              0,
              "#0d0887"
             ],
             [
              0.1111111111111111,
              "#46039f"
             ],
             [
              0.2222222222222222,
              "#7201a8"
             ],
             [
              0.3333333333333333,
              "#9c179e"
             ],
             [
              0.4444444444444444,
              "#bd3786"
             ],
             [
              0.5555555555555556,
              "#d8576b"
             ],
             [
              0.6666666666666666,
              "#ed7953"
             ],
             [
              0.7777777777777778,
              "#fb9f3a"
             ],
             [
              0.8888888888888888,
              "#fdca26"
             ],
             [
              1,
              "#f0f921"
             ]
            ],
            "type": "histogram2dcontour"
           }
          ],
          "mesh3d": [
           {
            "colorbar": {
             "outlinewidth": 0,
             "ticks": ""
            },
            "type": "mesh3d"
           }
          ],
          "parcoords": [
           {
            "line": {
             "colorbar": {
              "outlinewidth": 0,
              "ticks": ""
             }
            },
            "type": "parcoords"
           }
          ],
          "pie": [
           {
            "automargin": true,
            "type": "pie"
           }
          ],
          "scatter": [
           {
            "fillpattern": {
             "fillmode": "overlay",
             "size": 10,
             "solidity": 0.2
            },
            "type": "scatter"
           }
          ],
          "scatter3d": [
           {
            "line": {
             "colorbar": {
              "outlinewidth": 0,
              "ticks": ""
             }
            },
            "marker": {
             "colorbar": {
              "outlinewidth": 0,
              "ticks": ""
             }
            },
            "type": "scatter3d"
           }
          ],
          "scattercarpet": [
           {
            "marker": {
             "colorbar": {
              "outlinewidth": 0,
              "ticks": ""
             }
            },
            "type": "scattercarpet"
           }
          ],
          "scattergeo": [
           {
            "marker": {
             "colorbar": {
              "outlinewidth": 0,
              "ticks": ""
             }
            },
            "type": "scattergeo"
           }
          ],
          "scattergl": [
           {
            "marker": {
             "colorbar": {
              "outlinewidth": 0,
              "ticks": ""
             }
            },
            "type": "scattergl"
           }
          ],
          "scattermap": [
           {
            "marker": {
             "colorbar": {
              "outlinewidth": 0,
              "ticks": ""
             }
            },
            "type": "scattermap"
           }
          ],
          "scattermapbox": [
           {
            "marker": {
             "colorbar": {
              "outlinewidth": 0,
              "ticks": ""
             }
            },
            "type": "scattermapbox"
           }
          ],
          "scatterpolar": [
           {
            "marker": {
             "colorbar": {
              "outlinewidth": 0,
              "ticks": ""
             }
            },
            "type": "scatterpolar"
           }
          ],
          "scatterpolargl": [
           {
            "marker": {
             "colorbar": {
              "outlinewidth": 0,
              "ticks": ""
             }
            },
            "type": "scatterpolargl"
           }
          ],
          "scatterternary": [
           {
            "marker": {
             "colorbar": {
              "outlinewidth": 0,
              "ticks": ""
             }
            },
            "type": "scatterternary"
           }
          ],
          "surface": [
           {
            "colorbar": {
             "outlinewidth": 0,
             "ticks": ""
            },
            "colorscale": [
             [
              0,
              "#0d0887"
             ],
             [
              0.1111111111111111,
              "#46039f"
             ],
             [
              0.2222222222222222,
              "#7201a8"
             ],
             [
              0.3333333333333333,
              "#9c179e"
             ],
             [
              0.4444444444444444,
              "#bd3786"
             ],
             [
              0.5555555555555556,
              "#d8576b"
             ],
             [
              0.6666666666666666,
              "#ed7953"
             ],
             [
              0.7777777777777778,
              "#fb9f3a"
             ],
             [
              0.8888888888888888,
              "#fdca26"
             ],
             [
              1,
              "#f0f921"
             ]
            ],
            "type": "surface"
           }
          ],
          "table": [
           {
            "cells": {
             "fill": {
              "color": "#EBF0F8"
             },
             "line": {
              "color": "white"
             }
            },
            "header": {
             "fill": {
              "color": "#C8D4E3"
             },
             "line": {
              "color": "white"
             }
            },
            "type": "table"
           }
          ]
         },
         "layout": {
          "annotationdefaults": {
           "arrowcolor": "#2a3f5f",
           "arrowhead": 0,
           "arrowwidth": 1
          },
          "autotypenumbers": "strict",
          "coloraxis": {
           "colorbar": {
            "outlinewidth": 0,
            "ticks": ""
           }
          },
          "colorscale": {
           "diverging": [
            [
             0,
             "#8e0152"
            ],
            [
             0.1,
             "#c51b7d"
            ],
            [
             0.2,
             "#de77ae"
            ],
            [
             0.3,
             "#f1b6da"
            ],
            [
             0.4,
             "#fde0ef"
            ],
            [
             0.5,
             "#f7f7f7"
            ],
            [
             0.6,
             "#e6f5d0"
            ],
            [
             0.7,
             "#b8e186"
            ],
            [
             0.8,
             "#7fbc41"
            ],
            [
             0.9,
             "#4d9221"
            ],
            [
             1,
             "#276419"
            ]
           ],
           "sequential": [
            [
             0,
             "#0d0887"
            ],
            [
             0.1111111111111111,
             "#46039f"
            ],
            [
             0.2222222222222222,
             "#7201a8"
            ],
            [
             0.3333333333333333,
             "#9c179e"
            ],
            [
             0.4444444444444444,
             "#bd3786"
            ],
            [
             0.5555555555555556,
             "#d8576b"
            ],
            [
             0.6666666666666666,
             "#ed7953"
            ],
            [
             0.7777777777777778,
             "#fb9f3a"
            ],
            [
             0.8888888888888888,
             "#fdca26"
            ],
            [
             1,
             "#f0f921"
            ]
           ],
           "sequentialminus": [
            [
             0,
             "#0d0887"
            ],
            [
             0.1111111111111111,
             "#46039f"
            ],
            [
             0.2222222222222222,
             "#7201a8"
            ],
            [
             0.3333333333333333,
             "#9c179e"
            ],
            [
             0.4444444444444444,
             "#bd3786"
            ],
            [
             0.5555555555555556,
             "#d8576b"
            ],
            [
             0.6666666666666666,
             "#ed7953"
            ],
            [
             0.7777777777777778,
             "#fb9f3a"
            ],
            [
             0.8888888888888888,
             "#fdca26"
            ],
            [
             1,
             "#f0f921"
            ]
           ]
          },
          "colorway": [
           "#636efa",
           "#EF553B",
           "#00cc96",
           "#ab63fa",
           "#FFA15A",
           "#19d3f3",
           "#FF6692",
           "#B6E880",
           "#FF97FF",
           "#FECB52"
          ],
          "font": {
           "color": "#2a3f5f"
          },
          "geo": {
           "bgcolor": "white",
           "lakecolor": "white",
           "landcolor": "#E5ECF6",
           "showlakes": true,
           "showland": true,
           "subunitcolor": "white"
          },
          "hoverlabel": {
           "align": "left"
          },
          "hovermode": "closest",
          "mapbox": {
           "style": "light"
          },
          "paper_bgcolor": "white",
          "plot_bgcolor": "#E5ECF6",
          "polar": {
           "angularaxis": {
            "gridcolor": "white",
            "linecolor": "white",
            "ticks": ""
           },
           "bgcolor": "#E5ECF6",
           "radialaxis": {
            "gridcolor": "white",
            "linecolor": "white",
            "ticks": ""
           }
          },
          "scene": {
           "xaxis": {
            "backgroundcolor": "#E5ECF6",
            "gridcolor": "white",
            "gridwidth": 2,
            "linecolor": "white",
            "showbackground": true,
            "ticks": "",
            "zerolinecolor": "white"
           },
           "yaxis": {
            "backgroundcolor": "#E5ECF6",
            "gridcolor": "white",
            "gridwidth": 2,
            "linecolor": "white",
            "showbackground": true,
            "ticks": "",
            "zerolinecolor": "white"
           },
           "zaxis": {
            "backgroundcolor": "#E5ECF6",
            "gridcolor": "white",
            "gridwidth": 2,
            "linecolor": "white",
            "showbackground": true,
            "ticks": "",
            "zerolinecolor": "white"
           }
          },
          "shapedefaults": {
           "line": {
            "color": "#2a3f5f"
           }
          },
          "ternary": {
           "aaxis": {
            "gridcolor": "white",
            "linecolor": "white",
            "ticks": ""
           },
           "baxis": {
            "gridcolor": "white",
            "linecolor": "white",
            "ticks": ""
           },
           "bgcolor": "#E5ECF6",
           "caxis": {
            "gridcolor": "white",
            "linecolor": "white",
            "ticks": ""
           }
          },
          "title": {
           "x": 0.05
          },
          "xaxis": {
           "automargin": true,
           "gridcolor": "white",
           "linecolor": "white",
           "ticks": "",
           "title": {
            "standoff": 15
           },
           "zerolinecolor": "white",
           "zerolinewidth": 2
          },
          "yaxis": {
           "automargin": true,
           "gridcolor": "white",
           "linecolor": "white",
           "ticks": "",
           "title": {
            "standoff": 15
           },
           "zerolinecolor": "white",
           "zerolinewidth": 2
          }
         }
        },
        "title": {
         "text": "Distribution of What is your gender identity?"
        },
        "xaxis": {
         "anchor": "y",
         "domain": [
          0,
          1
         ],
         "title": {
          "text": "Percentage"
         }
        },
        "yaxis": {
         "anchor": "x",
         "domain": [
          0,
          1
         ],
         "title": {
          "text": "Response"
         }
        }
       }
      }
     },
     "metadata": {},
     "output_type": "display_data"
    },
    {
     "name": "stdout",
     "output_type": "stream",
     "text": [
      "\n",
      "Analyzing: DE3\n",
      "\n",
      "===== What are your ethnic origins or ancestry? Please, select ALL the geographic areas from which your family's ancestors first originated: - Selected Choice =====\n",
      "Total unique participants: 10072\n",
      "Responded: 6589 (65.42%)\n",
      "Did not respond: 3483 (34.58%)\n",
      "Detected multi-select question: DE3, using multi-select distribution plot.\n"
     ]
    },
    {
     "ename": "ValueError",
     "evalue": "Ambiguous input: values for 'Count' appear both in hover_data and data_frame",
     "output_type": "error",
     "traceback": [
      "\u001b[0;31m---------------------------------------------------------------------------\u001b[0m",
      "\u001b[0;31mValueError\u001b[0m                                Traceback (most recent call last)",
      "Cell \u001b[0;32mIn[173], line 2\u001b[0m\n\u001b[1;32m      1\u001b[0m \u001b[38;5;66;03m# Automate everything for all survey columns\u001b[39;00m\n\u001b[0;32m----> 2\u001b[0m all_survey_stats \u001b[38;5;241m=\u001b[39m analyze_survey(df2)\n",
      "Cell \u001b[0;32mIn[172], line 29\u001b[0m, in \u001b[0;36manalyze_survey\u001b[0;34m(df)\u001b[0m\n\u001b[1;32m     27\u001b[0m \u001b[38;5;28;01mif\u001b[39;00m col \u001b[38;5;129;01min\u001b[39;00m multi_select_cols:\n\u001b[1;32m     28\u001b[0m     \u001b[38;5;28mprint\u001b[39m(\u001b[38;5;124mf\u001b[39m\u001b[38;5;124m\"\u001b[39m\u001b[38;5;124mDetected multi-select question: \u001b[39m\u001b[38;5;132;01m{\u001b[39;00mcol\u001b[38;5;132;01m}\u001b[39;00m\u001b[38;5;124m, using multi-select distribution plot.\u001b[39m\u001b[38;5;124m\"\u001b[39m)\n\u001b[0;32m---> 29\u001b[0m     plot_multi_select_distribution(df, col)\n\u001b[1;32m     30\u001b[0m \u001b[38;5;28;01melse\u001b[39;00m:\n\u001b[1;32m     31\u001b[0m     plot_distribution(df, col)\n",
      "Cell \u001b[0;32mIn[171], line 32\u001b[0m, in \u001b[0;36mplot_multi_select_distribution\u001b[0;34m(df, col)\u001b[0m\n\u001b[1;32m     29\u001b[0m df_counts \u001b[38;5;241m=\u001b[39m df_counts\u001b[38;5;241m.\u001b[39msort_values(by\u001b[38;5;241m=\u001b[39m\u001b[38;5;124m'\u001b[39m\u001b[38;5;124mPercentage\u001b[39m\u001b[38;5;124m'\u001b[39m, ascending\u001b[38;5;241m=\u001b[39m\u001b[38;5;28;01mFalse\u001b[39;00m)\n\u001b[1;32m     31\u001b[0m \u001b[38;5;66;03m# Plot with plotly\u001b[39;00m\n\u001b[0;32m---> 32\u001b[0m fig \u001b[38;5;241m=\u001b[39m px\u001b[38;5;241m.\u001b[39mbar(\n\u001b[1;32m     33\u001b[0m     df_counts,\n\u001b[1;32m     34\u001b[0m     x\u001b[38;5;241m=\u001b[39m\u001b[38;5;124m'\u001b[39m\u001b[38;5;124mPercentage\u001b[39m\u001b[38;5;124m'\u001b[39m,  \u001b[38;5;66;03m# Use percentage instead of count\u001b[39;00m\n\u001b[1;32m     35\u001b[0m     y\u001b[38;5;241m=\u001b[39m\u001b[38;5;124m'\u001b[39m\u001b[38;5;124mResponse\u001b[39m\u001b[38;5;124m'\u001b[39m,\n\u001b[1;32m     36\u001b[0m     orientation\u001b[38;5;241m=\u001b[39m\u001b[38;5;124m'\u001b[39m\u001b[38;5;124mh\u001b[39m\u001b[38;5;124m'\u001b[39m,\n\u001b[1;32m     37\u001b[0m     title\u001b[38;5;241m=\u001b[39m\u001b[38;5;124mf\u001b[39m\u001b[38;5;124m\"\u001b[39m\u001b[38;5;124mDistribution of \u001b[39m\u001b[38;5;132;01m{\u001b[39;00mdf[col]\u001b[38;5;241m.\u001b[39miloc[\u001b[38;5;241m0\u001b[39m]\u001b[38;5;132;01m}\u001b[39;00m\u001b[38;5;124m (Multi-Select Processed)\u001b[39m\u001b[38;5;124m\"\u001b[39m,\n\u001b[1;32m     38\u001b[0m     text\u001b[38;5;241m=\u001b[39mdf_counts\u001b[38;5;241m.\u001b[39mapply(\u001b[38;5;28;01mlambda\u001b[39;00m row: \u001b[38;5;124mf\u001b[39m\u001b[38;5;124m\"\u001b[39m\u001b[38;5;132;01m{\u001b[39;00mrow[\u001b[38;5;124m'\u001b[39m\u001b[38;5;124mPercentage\u001b[39m\u001b[38;5;124m'\u001b[39m]\u001b[38;5;132;01m:\u001b[39;00m\u001b[38;5;124m.2f\u001b[39m\u001b[38;5;132;01m}\u001b[39;00m\u001b[38;5;124m% (n=\u001b[39m\u001b[38;5;132;01m{\u001b[39;00mrow[\u001b[38;5;124m'\u001b[39m\u001b[38;5;124mCount\u001b[39m\u001b[38;5;124m'\u001b[39m]\u001b[38;5;132;01m}\u001b[39;00m\u001b[38;5;124m)\u001b[39m\u001b[38;5;124m\"\u001b[39m, axis\u001b[38;5;241m=\u001b[39m\u001b[38;5;241m1\u001b[39m),\n\u001b[1;32m     39\u001b[0m     hover_data\u001b[38;5;241m=\u001b[39m{\u001b[38;5;124m'\u001b[39m\u001b[38;5;124mCount\u001b[39m\u001b[38;5;124m'\u001b[39m: df_counts[\u001b[38;5;124m'\u001b[39m\u001b[38;5;124mCount\u001b[39m\u001b[38;5;124m'\u001b[39m]}  \u001b[38;5;66;03m# Show counts on hover\u001b[39;00m\n\u001b[1;32m     40\u001b[0m )\n\u001b[1;32m     42\u001b[0m fig\u001b[38;5;241m.\u001b[39mupdate_traces(textposition\u001b[38;5;241m=\u001b[39m\u001b[38;5;124m'\u001b[39m\u001b[38;5;124moutside\u001b[39m\u001b[38;5;124m'\u001b[39m)\n\u001b[1;32m     43\u001b[0m fig\u001b[38;5;241m.\u001b[39mshow()\n",
      "File \u001b[0;32m~/opt/anaconda3/envs/parenthood/lib/python3.13/site-packages/plotly/express/_chart_types.py:381\u001b[0m, in \u001b[0;36mbar\u001b[0;34m(data_frame, x, y, color, pattern_shape, facet_row, facet_col, facet_col_wrap, facet_row_spacing, facet_col_spacing, hover_name, hover_data, custom_data, text, base, error_x, error_x_minus, error_y, error_y_minus, animation_frame, animation_group, category_orders, labels, color_discrete_sequence, color_discrete_map, color_continuous_scale, pattern_shape_sequence, pattern_shape_map, range_color, color_continuous_midpoint, opacity, orientation, barmode, log_x, log_y, range_x, range_y, text_auto, title, subtitle, template, width, height)\u001b[0m\n\u001b[1;32m    332\u001b[0m \u001b[38;5;28;01mdef\u001b[39;00m \u001b[38;5;21mbar\u001b[39m(\n\u001b[1;32m    333\u001b[0m     data_frame\u001b[38;5;241m=\u001b[39m\u001b[38;5;28;01mNone\u001b[39;00m,\n\u001b[1;32m    334\u001b[0m     x\u001b[38;5;241m=\u001b[39m\u001b[38;5;28;01mNone\u001b[39;00m,\n\u001b[0;32m   (...)\u001b[0m\n\u001b[1;32m    375\u001b[0m     height\u001b[38;5;241m=\u001b[39m\u001b[38;5;28;01mNone\u001b[39;00m,\n\u001b[1;32m    376\u001b[0m ) \u001b[38;5;241m-\u001b[39m\u001b[38;5;241m>\u001b[39m go\u001b[38;5;241m.\u001b[39mFigure:\n\u001b[1;32m    377\u001b[0m \u001b[38;5;250m    \u001b[39m\u001b[38;5;124;03m\"\"\"\u001b[39;00m\n\u001b[1;32m    378\u001b[0m \u001b[38;5;124;03m    In a bar plot, each row of `data_frame` is represented as a rectangular\u001b[39;00m\n\u001b[1;32m    379\u001b[0m \u001b[38;5;124;03m    mark.\u001b[39;00m\n\u001b[1;32m    380\u001b[0m \u001b[38;5;124;03m    \"\"\"\u001b[39;00m\n\u001b[0;32m--> 381\u001b[0m     \u001b[38;5;28;01mreturn\u001b[39;00m make_figure(\n\u001b[1;32m    382\u001b[0m         args\u001b[38;5;241m=\u001b[39m\u001b[38;5;28mlocals\u001b[39m(),\n\u001b[1;32m    383\u001b[0m         constructor\u001b[38;5;241m=\u001b[39mgo\u001b[38;5;241m.\u001b[39mBar,\n\u001b[1;32m    384\u001b[0m         trace_patch\u001b[38;5;241m=\u001b[39m\u001b[38;5;28mdict\u001b[39m(textposition\u001b[38;5;241m=\u001b[39m\u001b[38;5;124m\"\u001b[39m\u001b[38;5;124mauto\u001b[39m\u001b[38;5;124m\"\u001b[39m),\n\u001b[1;32m    385\u001b[0m         layout_patch\u001b[38;5;241m=\u001b[39m\u001b[38;5;28mdict\u001b[39m(barmode\u001b[38;5;241m=\u001b[39mbarmode),\n\u001b[1;32m    386\u001b[0m     )\n",
      "File \u001b[0;32m~/opt/anaconda3/envs/parenthood/lib/python3.13/site-packages/plotly/express/_core.py:2477\u001b[0m, in \u001b[0;36mmake_figure\u001b[0;34m(args, constructor, trace_patch, layout_patch)\u001b[0m\n\u001b[1;32m   2474\u001b[0m layout_patch \u001b[38;5;241m=\u001b[39m layout_patch \u001b[38;5;129;01mor\u001b[39;00m {}\n\u001b[1;32m   2475\u001b[0m apply_default_cascade(args)\n\u001b[0;32m-> 2477\u001b[0m args \u001b[38;5;241m=\u001b[39m build_dataframe(args, constructor)\n\u001b[1;32m   2478\u001b[0m \u001b[38;5;28;01mif\u001b[39;00m constructor \u001b[38;5;129;01min\u001b[39;00m [go\u001b[38;5;241m.\u001b[39mTreemap, go\u001b[38;5;241m.\u001b[39mSunburst, go\u001b[38;5;241m.\u001b[39mIcicle] \u001b[38;5;129;01mand\u001b[39;00m args[\u001b[38;5;124m\"\u001b[39m\u001b[38;5;124mpath\u001b[39m\u001b[38;5;124m\"\u001b[39m] \u001b[38;5;129;01mis\u001b[39;00m \u001b[38;5;129;01mnot\u001b[39;00m \u001b[38;5;28;01mNone\u001b[39;00m:\n\u001b[1;32m   2479\u001b[0m     args \u001b[38;5;241m=\u001b[39m process_dataframe_hierarchy(args)\n",
      "File \u001b[0;32m~/opt/anaconda3/envs/parenthood/lib/python3.13/site-packages/plotly/express/_core.py:1727\u001b[0m, in \u001b[0;36mbuild_dataframe\u001b[0;34m(args, constructor)\u001b[0m\n\u001b[1;32m   1724\u001b[0m     args[\u001b[38;5;124m\"\u001b[39m\u001b[38;5;124mcolor\u001b[39m\u001b[38;5;124m\"\u001b[39m] \u001b[38;5;241m=\u001b[39m \u001b[38;5;28;01mNone\u001b[39;00m\n\u001b[1;32m   1725\u001b[0m \u001b[38;5;66;03m# now that things have been prepped, we do the systematic rewriting of `args`\u001b[39;00m\n\u001b[0;32m-> 1727\u001b[0m df_output, wide_id_vars \u001b[38;5;241m=\u001b[39m process_args_into_dataframe(\n\u001b[1;32m   1728\u001b[0m     args,\n\u001b[1;32m   1729\u001b[0m     wide_mode,\n\u001b[1;32m   1730\u001b[0m     var_name,\n\u001b[1;32m   1731\u001b[0m     value_name,\n\u001b[1;32m   1732\u001b[0m     is_pd_like,\n\u001b[1;32m   1733\u001b[0m     native_namespace,\n\u001b[1;32m   1734\u001b[0m )\n\u001b[1;32m   1735\u001b[0m df_output: nw\u001b[38;5;241m.\u001b[39mDataFrame\n\u001b[1;32m   1736\u001b[0m \u001b[38;5;66;03m# now that `df_output` exists and `args` contains only references, we complete\u001b[39;00m\n\u001b[1;32m   1737\u001b[0m \u001b[38;5;66;03m# the special-case and wide-mode handling by further rewriting args and/or mutating\u001b[39;00m\n\u001b[1;32m   1738\u001b[0m \u001b[38;5;66;03m# df_output\u001b[39;00m\n",
      "File \u001b[0;32m~/opt/anaconda3/envs/parenthood/lib/python3.13/site-packages/plotly/express/_core.py:1236\u001b[0m, in \u001b[0;36mprocess_args_into_dataframe\u001b[0;34m(args, wide_mode, var_name, value_name, is_pd_like, native_namespace)\u001b[0m\n\u001b[1;32m   1234\u001b[0m             args[\u001b[38;5;124m\"\u001b[39m\u001b[38;5;124mhover_data\u001b[39m\u001b[38;5;124m\"\u001b[39m][k] \u001b[38;5;241m=\u001b[39m (args[\u001b[38;5;124m\"\u001b[39m\u001b[38;5;124mhover_data\u001b[39m\u001b[38;5;124m\"\u001b[39m][k], \u001b[38;5;28;01mNone\u001b[39;00m)\n\u001b[1;32m   1235\u001b[0m         \u001b[38;5;28;01mif\u001b[39;00m df_provided \u001b[38;5;129;01mand\u001b[39;00m args[\u001b[38;5;124m\"\u001b[39m\u001b[38;5;124mhover_data\u001b[39m\u001b[38;5;124m\"\u001b[39m][k][\u001b[38;5;241m1\u001b[39m] \u001b[38;5;129;01mis\u001b[39;00m \u001b[38;5;129;01mnot\u001b[39;00m \u001b[38;5;28;01mNone\u001b[39;00m \u001b[38;5;129;01mand\u001b[39;00m k \u001b[38;5;129;01min\u001b[39;00m df_input:\n\u001b[0;32m-> 1236\u001b[0m             \u001b[38;5;28;01mraise\u001b[39;00m \u001b[38;5;167;01mValueError\u001b[39;00m(\n\u001b[1;32m   1237\u001b[0m                 \u001b[38;5;124m\"\u001b[39m\u001b[38;5;124mAmbiguous input: values for \u001b[39m\u001b[38;5;124m'\u001b[39m\u001b[38;5;132;01m%s\u001b[39;00m\u001b[38;5;124m'\u001b[39m\u001b[38;5;124m appear both in hover_data and data_frame\u001b[39m\u001b[38;5;124m\"\u001b[39m\n\u001b[1;32m   1238\u001b[0m                 \u001b[38;5;241m%\u001b[39m k\n\u001b[1;32m   1239\u001b[0m             )\n\u001b[1;32m   1240\u001b[0m \u001b[38;5;66;03m# Loop over possible arguments\u001b[39;00m\n\u001b[1;32m   1241\u001b[0m \u001b[38;5;28;01mfor\u001b[39;00m field_name \u001b[38;5;129;01min\u001b[39;00m all_attrables:\n\u001b[1;32m   1242\u001b[0m     \u001b[38;5;66;03m# Massaging variables\u001b[39;00m\n",
      "\u001b[0;31mValueError\u001b[0m: Ambiguous input: values for 'Count' appear both in hover_data and data_frame"
     ]
    }
   ],
   "source": [
    "# Automate everything for all survey columns\n",
    "all_survey_stats = analyze_survey(df2)\n"
   ]
  }
 ],
 "metadata": {
  "kernelspec": {
   "display_name": "parenthood",
   "language": "python",
   "name": "python3"
  },
  "language_info": {
   "codemirror_mode": {
    "name": "ipython",
    "version": 3
   },
   "file_extension": ".py",
   "mimetype": "text/x-python",
   "name": "python",
   "nbconvert_exporter": "python",
   "pygments_lexer": "ipython3",
   "version": "3.13.2"
  }
 },
 "nbformat": 4,
 "nbformat_minor": 2
}
