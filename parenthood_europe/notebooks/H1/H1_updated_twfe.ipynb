{
 "cells": [
  {
   "cell_type": "markdown",
   "id": "a7bdda8b",
   "metadata": {},
   "source": [
    "In this notebook I will test the effect of parenthood (x) on the publication productivity (y) of\n",
    "researchers at different career stages in Europe by using two ways fixed effects method. This means we control for variation within the individuals themselves, and to external factors such as Covid Pandemic. For more details, read Nick Huntington-Klein Chapter 16.\n",
    "\n",
    "No. of Publications = Productivity"
   ]
  },
  {
   "cell_type": "code",
   "execution_count": 1,
   "id": "99aef8eb",
   "metadata": {},
   "outputs": [
    {
     "data": {
      "text/html": [
       "<div>\n",
       "<style scoped>\n",
       "    .dataframe tbody tr th:only-of-type {\n",
       "        vertical-align: middle;\n",
       "    }\n",
       "\n",
       "    .dataframe tbody tr th {\n",
       "        vertical-align: top;\n",
       "    }\n",
       "\n",
       "    .dataframe thead th {\n",
       "        text-align: right;\n",
       "    }\n",
       "</style>\n",
       "<table border=\"1\" class=\"dataframe\">\n",
       "  <thead>\n",
       "    <tr style=\"text-align: right;\">\n",
       "      <th></th>\n",
       "      <th>ResponseId</th>\n",
       "      <th>works_count</th>\n",
       "      <th>cited_by_count</th>\n",
       "      <th>counts_by_year</th>\n",
       "      <th>affiliations</th>\n",
       "      <th>last_known_institutions</th>\n",
       "      <th>works_api_url</th>\n",
       "      <th>main_domain</th>\n",
       "    </tr>\n",
       "  </thead>\n",
       "  <tbody>\n",
       "    <tr>\n",
       "      <th>0</th>\n",
       "      <td>R_2DUIfkur5fbOgZo</td>\n",
       "      <td>132</td>\n",
       "      <td>1211</td>\n",
       "      <td>[{'year': 2025, 'works_count': 3, 'cited_by_co...</td>\n",
       "      <td>[{'institution': {'id': 'https://openalex.org/...</td>\n",
       "      <td>[{'id': 'https://openalex.org/I102134673', 'ro...</td>\n",
       "      <td>https://api.openalex.org/works?filter=author.i...</td>\n",
       "      <td>Social Sciences</td>\n",
       "    </tr>\n",
       "    <tr>\n",
       "      <th>1</th>\n",
       "      <td>R_46yreKgPLBawn3H</td>\n",
       "      <td>55</td>\n",
       "      <td>813</td>\n",
       "      <td>[{'year': 2025, 'works_count': 0, 'cited_by_co...</td>\n",
       "      <td>[{'institution': {'id': 'https://openalex.org/...</td>\n",
       "      <td>[{'id': 'https://openalex.org/I91136226', 'ror...</td>\n",
       "      <td>https://api.openalex.org/works?filter=author.i...</td>\n",
       "      <td>Physical Sciences</td>\n",
       "    </tr>\n",
       "    <tr>\n",
       "      <th>2</th>\n",
       "      <td>R_2ZTGtufLu3KUHW9</td>\n",
       "      <td>30</td>\n",
       "      <td>224</td>\n",
       "      <td>[{'year': 2025, 'works_count': 7, 'cited_by_co...</td>\n",
       "      <td>[{'institution': {'id': 'https://openalex.org/...</td>\n",
       "      <td>[{'id': 'https://openalex.org/I322491407', 'ro...</td>\n",
       "      <td>https://api.openalex.org/works?filter=author.i...</td>\n",
       "      <td>Health Sciences</td>\n",
       "    </tr>\n",
       "    <tr>\n",
       "      <th>3</th>\n",
       "      <td>R_1gzm4gKhyxKNWBW</td>\n",
       "      <td>11</td>\n",
       "      <td>24</td>\n",
       "      <td>[{'year': 2025, 'works_count': 1, 'cited_by_co...</td>\n",
       "      <td>[{'institution': {'id': 'https://openalex.org/...</td>\n",
       "      <td>[{'id': 'https://openalex.org/I8765205', 'ror'...</td>\n",
       "      <td>https://api.openalex.org/works?filter=author.i...</td>\n",
       "      <td>Physical Sciences</td>\n",
       "    </tr>\n",
       "    <tr>\n",
       "      <th>4</th>\n",
       "      <td>R_3w5HE5P6WKA3ErS</td>\n",
       "      <td>14</td>\n",
       "      <td>24</td>\n",
       "      <td>[{'year': 2025, 'works_count': 1, 'cited_by_co...</td>\n",
       "      <td>[{'institution': {'id': 'https://openalex.org/...</td>\n",
       "      <td>[{'id': 'https://openalex.org/I4210095952', 'r...</td>\n",
       "      <td>https://api.openalex.org/works?filter=author.i...</td>\n",
       "      <td>Social Sciences</td>\n",
       "    </tr>\n",
       "  </tbody>\n",
       "</table>\n",
       "</div>"
      ],
      "text/plain": [
       "          ResponseId  works_count  cited_by_count  \\\n",
       "0  R_2DUIfkur5fbOgZo          132            1211   \n",
       "1  R_46yreKgPLBawn3H           55             813   \n",
       "2  R_2ZTGtufLu3KUHW9           30             224   \n",
       "3  R_1gzm4gKhyxKNWBW           11              24   \n",
       "4  R_3w5HE5P6WKA3ErS           14              24   \n",
       "\n",
       "                                      counts_by_year  \\\n",
       "0  [{'year': 2025, 'works_count': 3, 'cited_by_co...   \n",
       "1  [{'year': 2025, 'works_count': 0, 'cited_by_co...   \n",
       "2  [{'year': 2025, 'works_count': 7, 'cited_by_co...   \n",
       "3  [{'year': 2025, 'works_count': 1, 'cited_by_co...   \n",
       "4  [{'year': 2025, 'works_count': 1, 'cited_by_co...   \n",
       "\n",
       "                                        affiliations  \\\n",
       "0  [{'institution': {'id': 'https://openalex.org/...   \n",
       "1  [{'institution': {'id': 'https://openalex.org/...   \n",
       "2  [{'institution': {'id': 'https://openalex.org/...   \n",
       "3  [{'institution': {'id': 'https://openalex.org/...   \n",
       "4  [{'institution': {'id': 'https://openalex.org/...   \n",
       "\n",
       "                             last_known_institutions  \\\n",
       "0  [{'id': 'https://openalex.org/I102134673', 'ro...   \n",
       "1  [{'id': 'https://openalex.org/I91136226', 'ror...   \n",
       "2  [{'id': 'https://openalex.org/I322491407', 'ro...   \n",
       "3  [{'id': 'https://openalex.org/I8765205', 'ror'...   \n",
       "4  [{'id': 'https://openalex.org/I4210095952', 'r...   \n",
       "\n",
       "                                       works_api_url        main_domain  \n",
       "0  https://api.openalex.org/works?filter=author.i...    Social Sciences  \n",
       "1  https://api.openalex.org/works?filter=author.i...  Physical Sciences  \n",
       "2  https://api.openalex.org/works?filter=author.i...    Health Sciences  \n",
       "3  https://api.openalex.org/works?filter=author.i...  Physical Sciences  \n",
       "4  https://api.openalex.org/works?filter=author.i...    Social Sciences  "
      ]
     },
     "execution_count": 1,
     "metadata": {},
     "output_type": "execute_result"
    }
   ],
   "source": [
    "import pandas as pd\n",
    "\n",
    "df = pd.read_pickle('get_data/orcid_and_scopus_from_oA_combined.pkl')\n",
    "df.head()"
   ]
  },
  {
   "cell_type": "code",
   "execution_count": 2,
   "id": "5bb1aab9",
   "metadata": {},
   "outputs": [
    {
     "name": "stderr",
     "output_type": "stream",
     "text": [
      "/Users/Paula_1/opt/anaconda3/envs/parenthood/lib/python3.13/site-packages/openpyxl/styles/stylesheet.py:237: UserWarning: Workbook contains no default style, apply openpyxl's default\n",
      "  warn(\"Workbook contains no default style, apply openpyxl's default\")\n"
     ]
    },
    {
     "data": {
      "text/html": [
       "<div>\n",
       "<style scoped>\n",
       "    .dataframe tbody tr th:only-of-type {\n",
       "        vertical-align: middle;\n",
       "    }\n",
       "\n",
       "    .dataframe tbody tr th {\n",
       "        vertical-align: top;\n",
       "    }\n",
       "\n",
       "    .dataframe thead th {\n",
       "        text-align: right;\n",
       "    }\n",
       "</style>\n",
       "<table border=\"1\" class=\"dataframe\">\n",
       "  <thead>\n",
       "    <tr style=\"text-align: right;\">\n",
       "      <th></th>\n",
       "      <th>StartDate</th>\n",
       "      <th>EndDate</th>\n",
       "      <th>Status</th>\n",
       "      <th>Progress</th>\n",
       "      <th>Duration (in seconds)</th>\n",
       "      <th>Finished</th>\n",
       "      <th>RecordedDate</th>\n",
       "      <th>ResponseId</th>\n",
       "      <th>DistributionChannel</th>\n",
       "      <th>UserLanguage</th>\n",
       "      <th>...</th>\n",
       "      <th>LA2</th>\n",
       "      <th>LA3</th>\n",
       "      <th>LA4a</th>\n",
       "      <th>LA4b</th>\n",
       "      <th>C1</th>\n",
       "      <th>C1_3_TEXT</th>\n",
       "      <th>C1_4_TEXT</th>\n",
       "      <th>C1_5_TEXT</th>\n",
       "      <th>C2</th>\n",
       "      <th>gender</th>\n",
       "    </tr>\n",
       "  </thead>\n",
       "  <tbody>\n",
       "    <tr>\n",
       "      <th>0</th>\n",
       "      <td>Start Date</td>\n",
       "      <td>End Date</td>\n",
       "      <td>Response Type</td>\n",
       "      <td>Progress</td>\n",
       "      <td>Duration (in seconds)</td>\n",
       "      <td>Finished</td>\n",
       "      <td>Recorded Date</td>\n",
       "      <td>Response ID</td>\n",
       "      <td>Distribution Channel</td>\n",
       "      <td>User Language</td>\n",
       "      <td>...</td>\n",
       "      <td>How would you estimate the percentage of women...</td>\n",
       "      <td>Have you considered leaving academia?</td>\n",
       "      <td>Please briefly elaborate on your reasons for c...</td>\n",
       "      <td>Please briefly elaborate on your reasons for l...</td>\n",
       "      <td>How did you hear about this survey? - Selected...</td>\n",
       "      <td>How did you hear about this survey? - Social m...</td>\n",
       "      <td>How did you hear about this survey? - Mailing ...</td>\n",
       "      <td>How did you hear about this survey? - Other (p...</td>\n",
       "      <td>Do you have any other comments related to this...</td>\n",
       "      <td>gender</td>\n",
       "    </tr>\n",
       "    <tr>\n",
       "      <th>1</th>\n",
       "      <td>2024-03-25 15:45:50</td>\n",
       "      <td>2024-03-25 15:58:19</td>\n",
       "      <td>IP Address</td>\n",
       "      <td>100</td>\n",
       "      <td>748</td>\n",
       "      <td>True</td>\n",
       "      <td>2024-03-25 15:58:20.398000</td>\n",
       "      <td>R_2jpMi7QsRScengv</td>\n",
       "      <td>email</td>\n",
       "      <td>EN</td>\n",
       "      <td>...</td>\n",
       "      <td>NaN</td>\n",
       "      <td>NaN</td>\n",
       "      <td>NaN</td>\n",
       "      <td>NaN</td>\n",
       "      <td>NaN</td>\n",
       "      <td>NaN</td>\n",
       "      <td>NaN</td>\n",
       "      <td>NaN</td>\n",
       "      <td>NaN</td>\n",
       "      <td>Woman</td>\n",
       "    </tr>\n",
       "    <tr>\n",
       "      <th>2</th>\n",
       "      <td>2024-03-26 17:00:29</td>\n",
       "      <td>2024-03-26 17:17:43</td>\n",
       "      <td>IP Address</td>\n",
       "      <td>100</td>\n",
       "      <td>1034</td>\n",
       "      <td>True</td>\n",
       "      <td>2024-03-26 17:17:44.908000</td>\n",
       "      <td>R_4ScOupmxBzBk7dL</td>\n",
       "      <td>email</td>\n",
       "      <td>EN</td>\n",
       "      <td>...</td>\n",
       "      <td>NaN</td>\n",
       "      <td>NaN</td>\n",
       "      <td>NaN</td>\n",
       "      <td>NaN</td>\n",
       "      <td>Formal invitation via email by the authors of ...</td>\n",
       "      <td>NaN</td>\n",
       "      <td>NaN</td>\n",
       "      <td>NaN</td>\n",
       "      <td>NaN</td>\n",
       "      <td>Man</td>\n",
       "    </tr>\n",
       "    <tr>\n",
       "      <th>3</th>\n",
       "      <td>2024-03-29 16:09:27</td>\n",
       "      <td>2024-03-29 16:39:04</td>\n",
       "      <td>IP Address</td>\n",
       "      <td>100</td>\n",
       "      <td>1777</td>\n",
       "      <td>True</td>\n",
       "      <td>2024-03-29 16:39:07.534000</td>\n",
       "      <td>R_77h3lBm8zYTS5a1</td>\n",
       "      <td>email</td>\n",
       "      <td>EN</td>\n",
       "      <td>...</td>\n",
       "      <td>About the same</td>\n",
       "      <td>Yes, a few times</td>\n",
       "      <td>The path demands significant sacrifices, espec...</td>\n",
       "      <td>NaN</td>\n",
       "      <td>Formal invitation via email by the authors of ...</td>\n",
       "      <td>NaN</td>\n",
       "      <td>NaN</td>\n",
       "      <td>NaN</td>\n",
       "      <td>The questions about # of papers expected or pr...</td>\n",
       "      <td>Woman</td>\n",
       "    </tr>\n",
       "    <tr>\n",
       "      <th>4</th>\n",
       "      <td>2024-04-16 12:45:38</td>\n",
       "      <td>2024-04-16 12:55:21</td>\n",
       "      <td>IP Address</td>\n",
       "      <td>100</td>\n",
       "      <td>583</td>\n",
       "      <td>True</td>\n",
       "      <td>2024-04-16 12:55:22.733000</td>\n",
       "      <td>R_2V4kjf4gOQNH6EL</td>\n",
       "      <td>anonymous</td>\n",
       "      <td>EN</td>\n",
       "      <td>...</td>\n",
       "      <td>Higher</td>\n",
       "      <td>Not at all</td>\n",
       "      <td>NaN</td>\n",
       "      <td>NaN</td>\n",
       "      <td>Formal invitation via email by the authors of ...</td>\n",
       "      <td>NaN</td>\n",
       "      <td>NaN</td>\n",
       "      <td>NaN</td>\n",
       "      <td>NaN</td>\n",
       "      <td>Woman</td>\n",
       "    </tr>\n",
       "  </tbody>\n",
       "</table>\n",
       "<p>5 rows × 317 columns</p>\n",
       "</div>"
      ],
      "text/plain": [
       "             StartDate              EndDate         Status  Progress  \\\n",
       "0           Start Date             End Date  Response Type  Progress   \n",
       "1  2024-03-25 15:45:50  2024-03-25 15:58:19     IP Address       100   \n",
       "2  2024-03-26 17:00:29  2024-03-26 17:17:43     IP Address       100   \n",
       "3  2024-03-29 16:09:27  2024-03-29 16:39:04     IP Address       100   \n",
       "4  2024-04-16 12:45:38  2024-04-16 12:55:21     IP Address       100   \n",
       "\n",
       "   Duration (in seconds)  Finished                RecordedDate  \\\n",
       "0  Duration (in seconds)  Finished               Recorded Date   \n",
       "1                    748      True  2024-03-25 15:58:20.398000   \n",
       "2                   1034      True  2024-03-26 17:17:44.908000   \n",
       "3                   1777      True  2024-03-29 16:39:07.534000   \n",
       "4                    583      True  2024-04-16 12:55:22.733000   \n",
       "\n",
       "          ResponseId   DistributionChannel   UserLanguage  ...  \\\n",
       "0        Response ID  Distribution Channel  User Language  ...   \n",
       "1  R_2jpMi7QsRScengv                 email             EN  ...   \n",
       "2  R_4ScOupmxBzBk7dL                 email             EN  ...   \n",
       "3  R_77h3lBm8zYTS5a1                 email             EN  ...   \n",
       "4  R_2V4kjf4gOQNH6EL             anonymous             EN  ...   \n",
       "\n",
       "                                                 LA2  \\\n",
       "0  How would you estimate the percentage of women...   \n",
       "1                                                NaN   \n",
       "2                                                NaN   \n",
       "3                                     About the same   \n",
       "4                                             Higher   \n",
       "\n",
       "                                     LA3  \\\n",
       "0  Have you considered leaving academia?   \n",
       "1                                    NaN   \n",
       "2                                    NaN   \n",
       "3                       Yes, a few times   \n",
       "4                             Not at all   \n",
       "\n",
       "                                                LA4a  \\\n",
       "0  Please briefly elaborate on your reasons for c...   \n",
       "1                                                NaN   \n",
       "2                                                NaN   \n",
       "3  The path demands significant sacrifices, espec...   \n",
       "4                                                NaN   \n",
       "\n",
       "                                                LA4b  \\\n",
       "0  Please briefly elaborate on your reasons for l...   \n",
       "1                                                NaN   \n",
       "2                                                NaN   \n",
       "3                                                NaN   \n",
       "4                                                NaN   \n",
       "\n",
       "                                                  C1  \\\n",
       "0  How did you hear about this survey? - Selected...   \n",
       "1                                                NaN   \n",
       "2  Formal invitation via email by the authors of ...   \n",
       "3  Formal invitation via email by the authors of ...   \n",
       "4  Formal invitation via email by the authors of ...   \n",
       "\n",
       "                                           C1_3_TEXT  \\\n",
       "0  How did you hear about this survey? - Social m...   \n",
       "1                                                NaN   \n",
       "2                                                NaN   \n",
       "3                                                NaN   \n",
       "4                                                NaN   \n",
       "\n",
       "                                           C1_4_TEXT  \\\n",
       "0  How did you hear about this survey? - Mailing ...   \n",
       "1                                                NaN   \n",
       "2                                                NaN   \n",
       "3                                                NaN   \n",
       "4                                                NaN   \n",
       "\n",
       "                                           C1_5_TEXT  \\\n",
       "0  How did you hear about this survey? - Other (p...   \n",
       "1                                                NaN   \n",
       "2                                                NaN   \n",
       "3                                                NaN   \n",
       "4                                                NaN   \n",
       "\n",
       "                                                  C2  gender  \n",
       "0  Do you have any other comments related to this...  gender  \n",
       "1                                                NaN   Woman  \n",
       "2                                                NaN     Man  \n",
       "3  The questions about # of papers expected or pr...   Woman  \n",
       "4                                                NaN   Woman  \n",
       "\n",
       "[5 rows x 317 columns]"
      ]
     },
     "execution_count": 2,
     "metadata": {},
     "output_type": "execute_result"
    }
   ],
   "source": [
    "df_original = pd.read_excel('../../data/original_raw_data/Parenthood in Academia_November 26, 2024_08.26.xlsx')\n",
    "df_original.head()"
   ]
  },
  {
   "cell_type": "markdown",
   "id": "1a1b81bb",
   "metadata": {},
   "source": [
    "Now I need to see the other rows of the response Ids from df, which resulted in nicely structured temporal data for the researchers providing orcid or scopus, in the original data."
   ]
  },
  {
   "cell_type": "code",
   "execution_count": 3,
   "id": "54cf4e9a",
   "metadata": {},
   "outputs": [
    {
     "data": {
      "text/html": [
       "<div>\n",
       "<style scoped>\n",
       "    .dataframe tbody tr th:only-of-type {\n",
       "        vertical-align: middle;\n",
       "    }\n",
       "\n",
       "    .dataframe tbody tr th {\n",
       "        vertical-align: top;\n",
       "    }\n",
       "\n",
       "    .dataframe thead th {\n",
       "        text-align: right;\n",
       "    }\n",
       "</style>\n",
       "<table border=\"1\" class=\"dataframe\">\n",
       "  <thead>\n",
       "    <tr style=\"text-align: right;\">\n",
       "      <th></th>\n",
       "      <th>StartDate</th>\n",
       "      <th>EndDate</th>\n",
       "      <th>Status</th>\n",
       "      <th>Progress</th>\n",
       "      <th>Duration (in seconds)</th>\n",
       "      <th>Finished</th>\n",
       "      <th>RecordedDate</th>\n",
       "      <th>ResponseId</th>\n",
       "      <th>DistributionChannel</th>\n",
       "      <th>UserLanguage</th>\n",
       "      <th>...</th>\n",
       "      <th>LA2</th>\n",
       "      <th>LA3</th>\n",
       "      <th>LA4a</th>\n",
       "      <th>LA4b</th>\n",
       "      <th>C1</th>\n",
       "      <th>C1_3_TEXT</th>\n",
       "      <th>C1_4_TEXT</th>\n",
       "      <th>C1_5_TEXT</th>\n",
       "      <th>C2</th>\n",
       "      <th>gender</th>\n",
       "    </tr>\n",
       "  </thead>\n",
       "  <tbody>\n",
       "    <tr>\n",
       "      <th>28</th>\n",
       "      <td>2024-04-30 09:22:04</td>\n",
       "      <td>2024-04-30 09:40:52</td>\n",
       "      <td>IP Address</td>\n",
       "      <td>100</td>\n",
       "      <td>1127</td>\n",
       "      <td>True</td>\n",
       "      <td>2024-04-30 09:40:53.051000</td>\n",
       "      <td>R_2DUIfkur5fbOgZo</td>\n",
       "      <td>email</td>\n",
       "      <td>EN</td>\n",
       "      <td>...</td>\n",
       "      <td>About the same</td>\n",
       "      <td>Yes, a few times</td>\n",
       "      <td>The sense of entitlement currently displayed b...</td>\n",
       "      <td>NaN</td>\n",
       "      <td>Formal invitation via email by the authors of ...</td>\n",
       "      <td>NaN</td>\n",
       "      <td>NaN</td>\n",
       "      <td>NaN</td>\n",
       "      <td>Sweden has a fantastic nation-wide policy for ...</td>\n",
       "      <td>Woman</td>\n",
       "    </tr>\n",
       "    <tr>\n",
       "      <th>36</th>\n",
       "      <td>2024-04-30 11:14:11</td>\n",
       "      <td>2024-04-30 11:25:40</td>\n",
       "      <td>IP Address</td>\n",
       "      <td>100</td>\n",
       "      <td>688</td>\n",
       "      <td>True</td>\n",
       "      <td>2024-04-30 11:25:41.272000</td>\n",
       "      <td>R_46yreKgPLBawn3H</td>\n",
       "      <td>email</td>\n",
       "      <td>EN</td>\n",
       "      <td>...</td>\n",
       "      <td>NaN</td>\n",
       "      <td>NaN</td>\n",
       "      <td>NaN</td>\n",
       "      <td>NaN</td>\n",
       "      <td>Formal invitation via email by the authors of ...</td>\n",
       "      <td>NaN</td>\n",
       "      <td>NaN</td>\n",
       "      <td>NaN</td>\n",
       "      <td>NaN</td>\n",
       "      <td>Man</td>\n",
       "    </tr>\n",
       "    <tr>\n",
       "      <th>37</th>\n",
       "      <td>2024-04-30 11:09:58</td>\n",
       "      <td>2024-04-30 11:31:47</td>\n",
       "      <td>IP Address</td>\n",
       "      <td>100</td>\n",
       "      <td>1308</td>\n",
       "      <td>True</td>\n",
       "      <td>2024-04-30 11:31:47.921000</td>\n",
       "      <td>R_2ZTGtufLu3KUHW9</td>\n",
       "      <td>email</td>\n",
       "      <td>EN</td>\n",
       "      <td>...</td>\n",
       "      <td>NaN</td>\n",
       "      <td>NaN</td>\n",
       "      <td>NaN</td>\n",
       "      <td>NaN</td>\n",
       "      <td>Invitation by a colleague who is NOT an author...</td>\n",
       "      <td>NaN</td>\n",
       "      <td>NaN</td>\n",
       "      <td>NaN</td>\n",
       "      <td>NaN</td>\n",
       "      <td>Man</td>\n",
       "    </tr>\n",
       "    <tr>\n",
       "      <th>40</th>\n",
       "      <td>2024-04-30 08:09:55</td>\n",
       "      <td>2024-04-30 13:52:48</td>\n",
       "      <td>IP Address</td>\n",
       "      <td>100</td>\n",
       "      <td>20572</td>\n",
       "      <td>True</td>\n",
       "      <td>2024-04-30 13:52:49.482000</td>\n",
       "      <td>R_1gzm4gKhyxKNWBW</td>\n",
       "      <td>email</td>\n",
       "      <td>EN</td>\n",
       "      <td>...</td>\n",
       "      <td>About the same</td>\n",
       "      <td>Yes, a few times</td>\n",
       "      <td>Low salary and irregular work schedule</td>\n",
       "      <td>NaN</td>\n",
       "      <td>Formal invitation via email by the authors of ...</td>\n",
       "      <td>NaN</td>\n",
       "      <td>NaN</td>\n",
       "      <td>NaN</td>\n",
       "      <td>NaN</td>\n",
       "      <td>Woman</td>\n",
       "    </tr>\n",
       "    <tr>\n",
       "      <th>44</th>\n",
       "      <td>2024-05-01 16:17:18</td>\n",
       "      <td>2024-05-01 16:34:43</td>\n",
       "      <td>IP Address</td>\n",
       "      <td>100</td>\n",
       "      <td>1044</td>\n",
       "      <td>True</td>\n",
       "      <td>2024-05-01 16:34:44.262000</td>\n",
       "      <td>R_3w5HE5P6WKA3ErS</td>\n",
       "      <td>email</td>\n",
       "      <td>EN</td>\n",
       "      <td>...</td>\n",
       "      <td>About the same</td>\n",
       "      <td>Yes, a few times</td>\n",
       "      <td>Lack of stability, lack of positions in desire...</td>\n",
       "      <td>NaN</td>\n",
       "      <td>Formal invitation via email by the authors of ...</td>\n",
       "      <td>NaN</td>\n",
       "      <td>NaN</td>\n",
       "      <td>NaN</td>\n",
       "      <td>NaN</td>\n",
       "      <td>Man</td>\n",
       "    </tr>\n",
       "  </tbody>\n",
       "</table>\n",
       "<p>5 rows × 317 columns</p>\n",
       "</div>"
      ],
      "text/plain": [
       "              StartDate              EndDate      Status Progress  \\\n",
       "28  2024-04-30 09:22:04  2024-04-30 09:40:52  IP Address      100   \n",
       "36  2024-04-30 11:14:11  2024-04-30 11:25:40  IP Address      100   \n",
       "37  2024-04-30 11:09:58  2024-04-30 11:31:47  IP Address      100   \n",
       "40  2024-04-30 08:09:55  2024-04-30 13:52:48  IP Address      100   \n",
       "44  2024-05-01 16:17:18  2024-05-01 16:34:43  IP Address      100   \n",
       "\n",
       "   Duration (in seconds) Finished                RecordedDate  \\\n",
       "28                  1127     True  2024-04-30 09:40:53.051000   \n",
       "36                   688     True  2024-04-30 11:25:41.272000   \n",
       "37                  1308     True  2024-04-30 11:31:47.921000   \n",
       "40                 20572     True  2024-04-30 13:52:49.482000   \n",
       "44                  1044     True  2024-05-01 16:34:44.262000   \n",
       "\n",
       "           ResponseId DistributionChannel UserLanguage  ...             LA2  \\\n",
       "28  R_2DUIfkur5fbOgZo               email           EN  ...  About the same   \n",
       "36  R_46yreKgPLBawn3H               email           EN  ...             NaN   \n",
       "37  R_2ZTGtufLu3KUHW9               email           EN  ...             NaN   \n",
       "40  R_1gzm4gKhyxKNWBW               email           EN  ...  About the same   \n",
       "44  R_3w5HE5P6WKA3ErS               email           EN  ...  About the same   \n",
       "\n",
       "                 LA3                                               LA4a LA4b  \\\n",
       "28  Yes, a few times  The sense of entitlement currently displayed b...  NaN   \n",
       "36               NaN                                                NaN  NaN   \n",
       "37               NaN                                                NaN  NaN   \n",
       "40  Yes, a few times             Low salary and irregular work schedule  NaN   \n",
       "44  Yes, a few times  Lack of stability, lack of positions in desire...  NaN   \n",
       "\n",
       "                                                   C1 C1_3_TEXT C1_4_TEXT  \\\n",
       "28  Formal invitation via email by the authors of ...       NaN       NaN   \n",
       "36  Formal invitation via email by the authors of ...       NaN       NaN   \n",
       "37  Invitation by a colleague who is NOT an author...       NaN       NaN   \n",
       "40  Formal invitation via email by the authors of ...       NaN       NaN   \n",
       "44  Formal invitation via email by the authors of ...       NaN       NaN   \n",
       "\n",
       "   C1_5_TEXT                                                 C2 gender  \n",
       "28       NaN  Sweden has a fantastic nation-wide policy for ...  Woman  \n",
       "36       NaN                                                NaN    Man  \n",
       "37       NaN                                                NaN    Man  \n",
       "40       NaN                                                NaN  Woman  \n",
       "44       NaN                                                NaN    Man  \n",
       "\n",
       "[5 rows x 317 columns]"
      ]
     },
     "execution_count": 3,
     "metadata": {},
     "output_type": "execute_result"
    }
   ],
   "source": [
    "filtered_df = df_original[df_original['ResponseId'].isin(df['ResponseId'])]\n",
    "filtered_df.head()\n"
   ]
  },
  {
   "cell_type": "code",
   "execution_count": 14,
   "id": "67b05cd1",
   "metadata": {},
   "outputs": [
    {
     "data": {
      "text/html": [
       "<div>\n",
       "<style scoped>\n",
       "    .dataframe tbody tr th:only-of-type {\n",
       "        vertical-align: middle;\n",
       "    }\n",
       "\n",
       "    .dataframe tbody tr th {\n",
       "        vertical-align: top;\n",
       "    }\n",
       "\n",
       "    .dataframe thead th {\n",
       "        text-align: right;\n",
       "    }\n",
       "</style>\n",
       "<table border=\"1\" class=\"dataframe\">\n",
       "  <thead>\n",
       "    <tr style=\"text-align: right;\">\n",
       "      <th></th>\n",
       "      <th>DE8</th>\n",
       "      <th>ResponseId</th>\n",
       "      <th>DE22</th>\n",
       "      <th>PL6_1</th>\n",
       "      <th>PL6_2</th>\n",
       "      <th>DE23_1_1</th>\n",
       "      <th>DE23_1_2</th>\n",
       "      <th>DE2</th>\n",
       "    </tr>\n",
       "  </thead>\n",
       "  <tbody>\n",
       "    <tr>\n",
       "      <th>28</th>\n",
       "      <td>I am tenured (please, indicate the year you re...</td>\n",
       "      <td>R_2DUIfkur5fbOgZo</td>\n",
       "      <td>2</td>\n",
       "      <td>Yes, and I did not do anything work-related du...</td>\n",
       "      <td>Yes, and I spent about half of that time on wo...</td>\n",
       "      <td>2008</td>\n",
       "      <td>Sweden</td>\n",
       "      <td>Woman</td>\n",
       "    </tr>\n",
       "    <tr>\n",
       "      <th>36</th>\n",
       "      <td>Other (please, specify)</td>\n",
       "      <td>R_46yreKgPLBawn3H</td>\n",
       "      <td>2</td>\n",
       "      <td>NaN</td>\n",
       "      <td>NaN</td>\n",
       "      <td>1986</td>\n",
       "      <td>United Kingdom</td>\n",
       "      <td>Man</td>\n",
       "    </tr>\n",
       "    <tr>\n",
       "      <th>37</th>\n",
       "      <td>I am a tenure-track faculty</td>\n",
       "      <td>R_2ZTGtufLu3KUHW9</td>\n",
       "      <td>3</td>\n",
       "      <td>No, I did not take the leave</td>\n",
       "      <td>No, I did not take the leave</td>\n",
       "      <td>2014</td>\n",
       "      <td>Turkey</td>\n",
       "      <td>Man</td>\n",
       "    </tr>\n",
       "    <tr>\n",
       "      <th>40</th>\n",
       "      <td>I am a postdoc</td>\n",
       "      <td>R_1gzm4gKhyxKNWBW</td>\n",
       "      <td>1</td>\n",
       "      <td>Yes, and I did not do anything work-related du...</td>\n",
       "      <td>NaN</td>\n",
       "      <td>2016</td>\n",
       "      <td>Ukraine</td>\n",
       "      <td>Woman</td>\n",
       "    </tr>\n",
       "    <tr>\n",
       "      <th>44</th>\n",
       "      <td>I am a postdoc</td>\n",
       "      <td>R_3w5HE5P6WKA3ErS</td>\n",
       "      <td>0</td>\n",
       "      <td>NaN</td>\n",
       "      <td>NaN</td>\n",
       "      <td>NaN</td>\n",
       "      <td>NaN</td>\n",
       "      <td>Man</td>\n",
       "    </tr>\n",
       "  </tbody>\n",
       "</table>\n",
       "</div>"
      ],
      "text/plain": [
       "                                                  DE8         ResponseId DE22  \\\n",
       "28  I am tenured (please, indicate the year you re...  R_2DUIfkur5fbOgZo    2   \n",
       "36                            Other (please, specify)  R_46yreKgPLBawn3H    2   \n",
       "37                        I am a tenure-track faculty  R_2ZTGtufLu3KUHW9    3   \n",
       "40                                     I am a postdoc  R_1gzm4gKhyxKNWBW    1   \n",
       "44                                     I am a postdoc  R_3w5HE5P6WKA3ErS    0   \n",
       "\n",
       "                                                PL6_1  \\\n",
       "28  Yes, and I did not do anything work-related du...   \n",
       "36                                                NaN   \n",
       "37                       No, I did not take the leave   \n",
       "40  Yes, and I did not do anything work-related du...   \n",
       "44                                                NaN   \n",
       "\n",
       "                                                PL6_2 DE23_1_1  \\\n",
       "28  Yes, and I spent about half of that time on wo...     2008   \n",
       "36                                                NaN     1986   \n",
       "37                       No, I did not take the leave     2014   \n",
       "40                                                NaN     2016   \n",
       "44                                                NaN      NaN   \n",
       "\n",
       "          DE23_1_2    DE2  \n",
       "28          Sweden  Woman  \n",
       "36  United Kingdom    Man  \n",
       "37          Turkey    Man  \n",
       "40         Ukraine  Woman  \n",
       "44             NaN    Man  "
      ]
     },
     "execution_count": 14,
     "metadata": {},
     "output_type": "execute_result"
    }
   ],
   "source": [
    "columns_to_keep = [\n",
    "    'DE8', 'ResponseId', 'DE22', 'PL6_1', 'PL6_2', 'DE23_1_1', 'DE23_1_2', 'DE2'\n",
    "]\n",
    "\n",
    "result_df = filtered_df[columns_to_keep]\n",
    "result_df.head()"
   ]
  },
  {
   "cell_type": "code",
   "execution_count": 17,
   "id": "f8cbdd72",
   "metadata": {},
   "outputs": [
    {
     "name": "stdout",
     "output_type": "stream",
     "text": [
      "Rows with 0 or NaN in DE22: 16\n"
     ]
    }
   ],
   "source": [
    "num_zero_or_nan = result_df[result_df['DE22'].isna() | (result_df['DE22'] == '0')].shape[0]\n",
    "print(f\"Rows with 0 or NaN in DE22: {num_zero_or_nan}\")"
   ]
  },
  {
   "cell_type": "code",
   "execution_count": 16,
   "id": "6213b086",
   "metadata": {},
   "outputs": [
    {
     "data": {
      "text/plain": [
       "1220"
      ]
     },
     "execution_count": 16,
     "metadata": {},
     "output_type": "execute_result"
    }
   ],
   "source": [
    "len(result_df)"
   ]
  },
  {
   "cell_type": "markdown",
   "id": "f68c6fb6",
   "metadata": {},
   "source": [
    "We have only 16 researchers without children in this dataset"
   ]
  },
  {
   "cell_type": "code",
   "execution_count": 19,
   "id": "bc6b4b2d",
   "metadata": {},
   "outputs": [
    {
     "name": "stdout",
     "output_type": "stream",
     "text": [
      "Rows where PL6_1 starts with 'Yes': 550\n",
      "Rows where PL6_1 starts with 'No': 170\n",
      "Rows where PL6_1 is NaN: 500\n"
     ]
    }
   ],
   "source": [
    "# to get an idea about how many took and did not take parental leave \n",
    "\n",
    "yes_count = result_df['PL6_1'].str.startswith('Yes', na=False).sum()\n",
    "no_count = result_df['PL6_1'].str.startswith('No', na=False).sum()\n",
    "nan_count = result_df['PL6_1'].isna().sum()\n",
    "\n",
    "\n",
    "print(f\"Rows where PL6_1 starts with 'Yes': {yes_count}\")\n",
    "print(f\"Rows where PL6_1 starts with 'No': {no_count}\")\n",
    "print(f\"Rows where PL6_1 is NaN: {nan_count}\")\n"
   ]
  },
  {
   "cell_type": "code",
   "execution_count": 20,
   "id": "446144e8",
   "metadata": {},
   "outputs": [
    {
     "data": {
      "text/html": [
       "<div>\n",
       "<style scoped>\n",
       "    .dataframe tbody tr th:only-of-type {\n",
       "        vertical-align: middle;\n",
       "    }\n",
       "\n",
       "    .dataframe tbody tr th {\n",
       "        vertical-align: top;\n",
       "    }\n",
       "\n",
       "    .dataframe thead th {\n",
       "        text-align: right;\n",
       "    }\n",
       "</style>\n",
       "<table border=\"1\" class=\"dataframe\">\n",
       "  <thead>\n",
       "    <tr style=\"text-align: right;\">\n",
       "      <th></th>\n",
       "      <th>DE8</th>\n",
       "      <th>ResponseId</th>\n",
       "      <th>DE13c_1_TEXT</th>\n",
       "      <th>DE22</th>\n",
       "      <th>PL6_1</th>\n",
       "      <th>PL6_2</th>\n",
       "      <th>PL6_3</th>\n",
       "      <th>PL6_4</th>\n",
       "      <th>PL6_5</th>\n",
       "      <th>PL6_6</th>\n",
       "      <th>PL6_7</th>\n",
       "      <th>PL6_8</th>\n",
       "      <th>PL6_9</th>\n",
       "      <th>PL6_10</th>\n",
       "      <th>DE23_1_2</th>\n",
       "      <th>DE2</th>\n",
       "    </tr>\n",
       "  </thead>\n",
       "  <tbody>\n",
       "    <tr>\n",
       "      <th>0</th>\n",
       "      <td>AcademicPosition</td>\n",
       "      <td>Response ID</td>\n",
       "      <td>NumPublications</td>\n",
       "      <td>NumChildren</td>\n",
       "      <td>ParentalLeave1</td>\n",
       "      <td>ParentalLeave2</td>\n",
       "      <td>ParentalLeave3</td>\n",
       "      <td>ParentalLeave4</td>\n",
       "      <td>ParentalLeave5</td>\n",
       "      <td>ParentalLeave6</td>\n",
       "      <td>ParentalLeave7</td>\n",
       "      <td>ParentalLeave8</td>\n",
       "      <td>ParentalLeave9</td>\n",
       "      <td>ParentalLeave10</td>\n",
       "      <td>ChildBornCountry1</td>\n",
       "      <td>GenderIdentity</td>\n",
       "    </tr>\n",
       "  </tbody>\n",
       "</table>\n",
       "</div>"
      ],
      "text/plain": [
       "                DE8   ResponseId     DE13c_1_TEXT         DE22  \\\n",
       "0  AcademicPosition  Response ID  NumPublications  NumChildren   \n",
       "\n",
       "            PL6_1           PL6_2           PL6_3           PL6_4  \\\n",
       "0  ParentalLeave1  ParentalLeave2  ParentalLeave3  ParentalLeave4   \n",
       "\n",
       "            PL6_5           PL6_6           PL6_7           PL6_8  \\\n",
       "0  ParentalLeave5  ParentalLeave6  ParentalLeave7  ParentalLeave8   \n",
       "\n",
       "            PL6_9           PL6_10           DE23_1_2             DE2  \n",
       "0  ParentalLeave9  ParentalLeave10  ChildBornCountry1  GenderIdentity  "
      ]
     },
     "metadata": {},
     "output_type": "display_data"
    }
   ],
   "source": [
    "# this is just to get the col names right from another df where I put it down\n",
    "col_names = pd.read_excel('../../data/H1_analysis/H1_data_NumChildren.xlsx')\n",
    "display(col_names.iloc[[0]])"
   ]
  },
  {
   "cell_type": "markdown",
   "id": "f69d825d",
   "metadata": {},
   "source": [
    "Now, we only consider the first child."
   ]
  },
  {
   "cell_type": "markdown",
   "id": "a1581a5a",
   "metadata": {},
   "source": [
    "Merge df (orcid and scopus Ids with the data from original df)"
   ]
  },
  {
   "cell_type": "code",
   "execution_count": 21,
   "id": "0d507a7c",
   "metadata": {},
   "outputs": [
    {
     "name": "stdout",
     "output_type": "stream",
     "text": [
      "Unique ResponseIds in df: 1220\n",
      "Unique ResponseIds in filtered_df: 1220\n",
      "Matching ResponseIds: 1220\n"
     ]
    }
   ],
   "source": [
    "num_in_df = df['ResponseId'].nunique()\n",
    "num_in_filtered = result_df['ResponseId'].nunique()\n",
    "num_common = df['ResponseId'].isin(result_df['ResponseId']).sum()\n",
    "\n",
    "print(f\"Unique ResponseIds in df: {num_in_df}\")\n",
    "print(f\"Unique ResponseIds in filtered_df: {num_in_filtered}\")\n",
    "print(f\"Matching ResponseIds: {num_common}\")"
   ]
  },
  {
   "cell_type": "code",
   "execution_count": 24,
   "id": "c4c7d718",
   "metadata": {},
   "outputs": [
    {
     "name": "stdout",
     "output_type": "stream",
     "text": [
      "Merged DataFrame shape: (1220, 15)\n"
     ]
    }
   ],
   "source": [
    "merged_df = df.merge(result_df, on='ResponseId', how='inner')\n",
    "print(f\"Merged DataFrame shape: {merged_df.shape}\")"
   ]
  },
  {
   "cell_type": "code",
   "execution_count": 25,
   "id": "7341ff63",
   "metadata": {},
   "outputs": [
    {
     "data": {
      "text/html": [
       "<div>\n",
       "<style scoped>\n",
       "    .dataframe tbody tr th:only-of-type {\n",
       "        vertical-align: middle;\n",
       "    }\n",
       "\n",
       "    .dataframe tbody tr th {\n",
       "        vertical-align: top;\n",
       "    }\n",
       "\n",
       "    .dataframe thead th {\n",
       "        text-align: right;\n",
       "    }\n",
       "</style>\n",
       "<table border=\"1\" class=\"dataframe\">\n",
       "  <thead>\n",
       "    <tr style=\"text-align: right;\">\n",
       "      <th></th>\n",
       "      <th>ResponseId</th>\n",
       "      <th>works_count</th>\n",
       "      <th>cited_by_count</th>\n",
       "      <th>counts_by_year</th>\n",
       "      <th>affiliations</th>\n",
       "      <th>last_known_institutions</th>\n",
       "      <th>works_api_url</th>\n",
       "      <th>main_domain</th>\n",
       "      <th>DE8</th>\n",
       "      <th>DE22</th>\n",
       "      <th>PL6_1</th>\n",
       "      <th>PL6_2</th>\n",
       "      <th>DE23_1_1</th>\n",
       "      <th>DE23_1_2</th>\n",
       "      <th>DE2</th>\n",
       "    </tr>\n",
       "  </thead>\n",
       "  <tbody>\n",
       "    <tr>\n",
       "      <th>0</th>\n",
       "      <td>R_2DUIfkur5fbOgZo</td>\n",
       "      <td>132</td>\n",
       "      <td>1211</td>\n",
       "      <td>[{'year': 2025, 'works_count': 3, 'cited_by_co...</td>\n",
       "      <td>[{'institution': {'id': 'https://openalex.org/...</td>\n",
       "      <td>[{'id': 'https://openalex.org/I102134673', 'ro...</td>\n",
       "      <td>https://api.openalex.org/works?filter=author.i...</td>\n",
       "      <td>Social Sciences</td>\n",
       "      <td>I am tenured (please, indicate the year you re...</td>\n",
       "      <td>2</td>\n",
       "      <td>Yes, and I did not do anything work-related du...</td>\n",
       "      <td>Yes, and I spent about half of that time on wo...</td>\n",
       "      <td>2008</td>\n",
       "      <td>Sweden</td>\n",
       "      <td>Woman</td>\n",
       "    </tr>\n",
       "    <tr>\n",
       "      <th>1</th>\n",
       "      <td>R_46yreKgPLBawn3H</td>\n",
       "      <td>55</td>\n",
       "      <td>813</td>\n",
       "      <td>[{'year': 2025, 'works_count': 0, 'cited_by_co...</td>\n",
       "      <td>[{'institution': {'id': 'https://openalex.org/...</td>\n",
       "      <td>[{'id': 'https://openalex.org/I91136226', 'ror...</td>\n",
       "      <td>https://api.openalex.org/works?filter=author.i...</td>\n",
       "      <td>Physical Sciences</td>\n",
       "      <td>Other (please, specify)</td>\n",
       "      <td>2</td>\n",
       "      <td>NaN</td>\n",
       "      <td>NaN</td>\n",
       "      <td>1986</td>\n",
       "      <td>United Kingdom</td>\n",
       "      <td>Man</td>\n",
       "    </tr>\n",
       "    <tr>\n",
       "      <th>2</th>\n",
       "      <td>R_2ZTGtufLu3KUHW9</td>\n",
       "      <td>30</td>\n",
       "      <td>224</td>\n",
       "      <td>[{'year': 2025, 'works_count': 7, 'cited_by_co...</td>\n",
       "      <td>[{'institution': {'id': 'https://openalex.org/...</td>\n",
       "      <td>[{'id': 'https://openalex.org/I322491407', 'ro...</td>\n",
       "      <td>https://api.openalex.org/works?filter=author.i...</td>\n",
       "      <td>Health Sciences</td>\n",
       "      <td>I am a tenure-track faculty</td>\n",
       "      <td>3</td>\n",
       "      <td>No, I did not take the leave</td>\n",
       "      <td>No, I did not take the leave</td>\n",
       "      <td>2014</td>\n",
       "      <td>Turkey</td>\n",
       "      <td>Man</td>\n",
       "    </tr>\n",
       "    <tr>\n",
       "      <th>3</th>\n",
       "      <td>R_1gzm4gKhyxKNWBW</td>\n",
       "      <td>11</td>\n",
       "      <td>24</td>\n",
       "      <td>[{'year': 2025, 'works_count': 1, 'cited_by_co...</td>\n",
       "      <td>[{'institution': {'id': 'https://openalex.org/...</td>\n",
       "      <td>[{'id': 'https://openalex.org/I8765205', 'ror'...</td>\n",
       "      <td>https://api.openalex.org/works?filter=author.i...</td>\n",
       "      <td>Physical Sciences</td>\n",
       "      <td>I am a postdoc</td>\n",
       "      <td>1</td>\n",
       "      <td>Yes, and I did not do anything work-related du...</td>\n",
       "      <td>NaN</td>\n",
       "      <td>2016</td>\n",
       "      <td>Ukraine</td>\n",
       "      <td>Woman</td>\n",
       "    </tr>\n",
       "    <tr>\n",
       "      <th>4</th>\n",
       "      <td>R_3w5HE5P6WKA3ErS</td>\n",
       "      <td>14</td>\n",
       "      <td>24</td>\n",
       "      <td>[{'year': 2025, 'works_count': 1, 'cited_by_co...</td>\n",
       "      <td>[{'institution': {'id': 'https://openalex.org/...</td>\n",
       "      <td>[{'id': 'https://openalex.org/I4210095952', 'r...</td>\n",
       "      <td>https://api.openalex.org/works?filter=author.i...</td>\n",
       "      <td>Social Sciences</td>\n",
       "      <td>I am a postdoc</td>\n",
       "      <td>0</td>\n",
       "      <td>NaN</td>\n",
       "      <td>NaN</td>\n",
       "      <td>NaN</td>\n",
       "      <td>NaN</td>\n",
       "      <td>Man</td>\n",
       "    </tr>\n",
       "  </tbody>\n",
       "</table>\n",
       "</div>"
      ],
      "text/plain": [
       "          ResponseId  works_count  cited_by_count  \\\n",
       "0  R_2DUIfkur5fbOgZo          132            1211   \n",
       "1  R_46yreKgPLBawn3H           55             813   \n",
       "2  R_2ZTGtufLu3KUHW9           30             224   \n",
       "3  R_1gzm4gKhyxKNWBW           11              24   \n",
       "4  R_3w5HE5P6WKA3ErS           14              24   \n",
       "\n",
       "                                      counts_by_year  \\\n",
       "0  [{'year': 2025, 'works_count': 3, 'cited_by_co...   \n",
       "1  [{'year': 2025, 'works_count': 0, 'cited_by_co...   \n",
       "2  [{'year': 2025, 'works_count': 7, 'cited_by_co...   \n",
       "3  [{'year': 2025, 'works_count': 1, 'cited_by_co...   \n",
       "4  [{'year': 2025, 'works_count': 1, 'cited_by_co...   \n",
       "\n",
       "                                        affiliations  \\\n",
       "0  [{'institution': {'id': 'https://openalex.org/...   \n",
       "1  [{'institution': {'id': 'https://openalex.org/...   \n",
       "2  [{'institution': {'id': 'https://openalex.org/...   \n",
       "3  [{'institution': {'id': 'https://openalex.org/...   \n",
       "4  [{'institution': {'id': 'https://openalex.org/...   \n",
       "\n",
       "                             last_known_institutions  \\\n",
       "0  [{'id': 'https://openalex.org/I102134673', 'ro...   \n",
       "1  [{'id': 'https://openalex.org/I91136226', 'ror...   \n",
       "2  [{'id': 'https://openalex.org/I322491407', 'ro...   \n",
       "3  [{'id': 'https://openalex.org/I8765205', 'ror'...   \n",
       "4  [{'id': 'https://openalex.org/I4210095952', 'r...   \n",
       "\n",
       "                                       works_api_url        main_domain  \\\n",
       "0  https://api.openalex.org/works?filter=author.i...    Social Sciences   \n",
       "1  https://api.openalex.org/works?filter=author.i...  Physical Sciences   \n",
       "2  https://api.openalex.org/works?filter=author.i...    Health Sciences   \n",
       "3  https://api.openalex.org/works?filter=author.i...  Physical Sciences   \n",
       "4  https://api.openalex.org/works?filter=author.i...    Social Sciences   \n",
       "\n",
       "                                                 DE8 DE22  \\\n",
       "0  I am tenured (please, indicate the year you re...    2   \n",
       "1                            Other (please, specify)    2   \n",
       "2                        I am a tenure-track faculty    3   \n",
       "3                                     I am a postdoc    1   \n",
       "4                                     I am a postdoc    0   \n",
       "\n",
       "                                               PL6_1  \\\n",
       "0  Yes, and I did not do anything work-related du...   \n",
       "1                                                NaN   \n",
       "2                       No, I did not take the leave   \n",
       "3  Yes, and I did not do anything work-related du...   \n",
       "4                                                NaN   \n",
       "\n",
       "                                               PL6_2 DE23_1_1        DE23_1_2  \\\n",
       "0  Yes, and I spent about half of that time on wo...     2008          Sweden   \n",
       "1                                                NaN     1986  United Kingdom   \n",
       "2                       No, I did not take the leave     2014          Turkey   \n",
       "3                                                NaN     2016         Ukraine   \n",
       "4                                                NaN      NaN             NaN   \n",
       "\n",
       "     DE2  \n",
       "0  Woman  \n",
       "1    Man  \n",
       "2    Man  \n",
       "3  Woman  \n",
       "4    Man  "
      ]
     },
     "execution_count": 25,
     "metadata": {},
     "output_type": "execute_result"
    }
   ],
   "source": [
    "merged_df.head()"
   ]
  },
  {
   "cell_type": "markdown",
   "id": "6730a5e9",
   "metadata": {},
   "source": [
    "we need to exclude the researchers, that did not provide any information on whether they took leave or not. "
   ]
  },
  {
   "cell_type": "code",
   "execution_count": 28,
   "id": "a046c7d3",
   "metadata": {},
   "outputs": [
    {
     "data": {
      "text/plain": [
       "1037"
      ]
     },
     "execution_count": 28,
     "metadata": {},
     "output_type": "execute_result"
    }
   ],
   "source": [
    "df_firstchild = merged_df[~((merged_df['DE22'] > 0) & merged_df['PL6_1'].isna())].copy()\n",
    "len(df_firstchild)"
   ]
  },
  {
   "cell_type": "markdown",
   "id": "bc9b3738",
   "metadata": {},
   "source": [
    "Now, remove cases where the first child was born outside europe"
   ]
  },
  {
   "cell_type": "code",
   "execution_count": 29,
   "id": "0acd34c4",
   "metadata": {},
   "outputs": [],
   "source": [
    "# Remove rows where the 'ChildBornCountry1' is not in Europe or is not NaN\n",
    "\n",
    "european_countries = [\n",
    "    \"Albania\",\n",
    "    \"Andorra\",\n",
    "    \"Austria\",\n",
    "    \"Belgium\",\n",
    "    \"Bosnia and Herzegovina\",\n",
    "    \"Bulgaria\",\n",
    "    \"Croatia\",\n",
    "    \"Cyprus\",\n",
    "    \"Czech Republic\",\n",
    "    \"Denmark\",\n",
    "    \"Estonia\",\n",
    "    \"Finland\",\n",
    "    \"France\",\n",
    "    \"Germany\",\n",
    "    \"Greece\",\n",
    "    \"Hungary\",\n",
    "    \"Iceland\",\n",
    "    \"Ireland\",\n",
    "    \"Italy\",\n",
    "    \"Latvia\",\n",
    "    \"Liechtenstein\",\n",
    "    \"Lithuania\",\n",
    "    \"Luxembourg\",\n",
    "    \"Malta\",\n",
    "    \"Moldova\",\n",
    "    \"Monaco\",\n",
    "    \"Netherlands\",\n",
    "    \"Macedonia\",\n",
    "    \"Norway\",\n",
    "    \"Poland\",\n",
    "    \"Portugal\",\n",
    "    \"Romania\",\n",
    "    \"San Marino\",\n",
    "    \"Serbia and Montenegro\",\n",
    "    \"Slovakia\",\n",
    "    \"Slovenia\",\n",
    "    \"Spain\",\n",
    "    \"Sweden\",\n",
    "    \"Switzerland\",\n",
    "    \"United Kingdom\",\n",
    "    \"Vatican City (Holy See)\"\n",
    "]\n",
    "\n",
    "df_europe = df_firstchild[df_firstchild['DE23_1_2'].isin(european_countries) | df_firstchild['DE23_1_2'].isna()]\n",
    "non_europe_df = df_firstchild[df_firstchild['DE23_1_2'].notna() & ~df_firstchild['DE23_1_2'].isin(european_countries)]\n",
    "\n"
   ]
  },
  {
   "cell_type": "code",
   "execution_count": 30,
   "id": "73783dcc",
   "metadata": {},
   "outputs": [
    {
     "name": "stdout",
     "output_type": "stream",
     "text": [
      "Number of rows in non-European countries: 57\n",
      "Child Born Countries in non-European DF: ['Turkey' 'Ukraine' 'United States' 'Russia'\n",
      " 'Congo, Democratic Republic of the' 'Tanzania' 'Canada' 'Ethiopia'\n",
      " 'India' 'New Zealand' 'Israel' 'Brazil' 'Chile' 'Guadeloupe' 'Iran'\n",
      " 'Malaysia' 'Colombia' 'Australia' 'Georgia' 'Nepal' 'Egypt']\n"
     ]
    }
   ],
   "source": [
    "print(f\"Number of rows in non-European countries: {len(non_europe_df)}\")\n",
    "print(f\"Child Born Countries in non-European DF: {non_europe_df['DE23_1_2'].unique()}\")"
   ]
  },
  {
   "cell_type": "code",
   "execution_count": 31,
   "id": "f8fd9584",
   "metadata": {},
   "outputs": [
    {
     "data": {
      "text/plain": [
       "980"
      ]
     },
     "execution_count": 31,
     "metadata": {},
     "output_type": "execute_result"
    }
   ],
   "source": [
    "df_europe\n",
    "len(df_europe)"
   ]
  },
  {
   "cell_type": "markdown",
   "id": "33662680",
   "metadata": {},
   "source": [
    "## Split The Dataset\n",
    "\n",
    "We now want to split the dataset into groups:\n",
    " - Group A: Took parental leave\n",
    " - Group B: Did not take parental leave\n",
    " \n",
    " Note: if someone spends time working during parental leave, they are still a member of group A"
   ]
  },
  {
   "cell_type": "code",
   "execution_count": 32,
   "id": "e21ad7e4",
   "metadata": {},
   "outputs": [
    {
     "data": {
      "text/plain": [
       "720"
      ]
     },
     "execution_count": 32,
     "metadata": {},
     "output_type": "execute_result"
    }
   ],
   "source": [
    "df_parents = df_firstchild[df_firstchild['DE22'] > 0]\n",
    "len(df_parents)"
   ]
  },
  {
   "cell_type": "code",
   "execution_count": 33,
   "id": "471ebafa",
   "metadata": {},
   "outputs": [
    {
     "name": "stderr",
     "output_type": "stream",
     "text": [
      "/var/folders/4n/x6xrnlyj6nngzc77qzc7h4f40000gn/T/ipykernel_20463/426985234.py:2: FutureWarning: Downcasting object dtype arrays on .fillna, .ffill, .bfill is deprecated and will change in a future version. Call result.infer_objects(copy=False) instead. To opt-in to the future behavior, set `pd.set_option('future.no_silent_downcasting', True)`\n",
      "  df_europe['TookLeave_child1'] = df_europe['PL6_1'].str.startswith('Yes').fillna(False).astype(int)\n",
      "/var/folders/4n/x6xrnlyj6nngzc77qzc7h4f40000gn/T/ipykernel_20463/426985234.py:2: SettingWithCopyWarning: \n",
      "A value is trying to be set on a copy of a slice from a DataFrame.\n",
      "Try using .loc[row_indexer,col_indexer] = value instead\n",
      "\n",
      "See the caveats in the documentation: https://pandas.pydata.org/pandas-docs/stable/user_guide/indexing.html#returning-a-view-versus-a-copy\n",
      "  df_europe['TookLeave_child1'] = df_europe['PL6_1'].str.startswith('Yes').fillna(False).astype(int)\n"
     ]
    },
    {
     "data": {
      "text/html": [
       "<div>\n",
       "<style scoped>\n",
       "    .dataframe tbody tr th:only-of-type {\n",
       "        vertical-align: middle;\n",
       "    }\n",
       "\n",
       "    .dataframe tbody tr th {\n",
       "        vertical-align: top;\n",
       "    }\n",
       "\n",
       "    .dataframe thead th {\n",
       "        text-align: right;\n",
       "    }\n",
       "</style>\n",
       "<table border=\"1\" class=\"dataframe\">\n",
       "  <thead>\n",
       "    <tr style=\"text-align: right;\">\n",
       "      <th></th>\n",
       "      <th>ResponseId</th>\n",
       "      <th>works_count</th>\n",
       "      <th>cited_by_count</th>\n",
       "      <th>counts_by_year</th>\n",
       "      <th>affiliations</th>\n",
       "      <th>last_known_institutions</th>\n",
       "      <th>works_api_url</th>\n",
       "      <th>main_domain</th>\n",
       "      <th>DE8</th>\n",
       "      <th>DE22</th>\n",
       "      <th>PL6_1</th>\n",
       "      <th>PL6_2</th>\n",
       "      <th>DE23_1_1</th>\n",
       "      <th>DE23_1_2</th>\n",
       "      <th>DE2</th>\n",
       "      <th>TookLeave_child1</th>\n",
       "    </tr>\n",
       "  </thead>\n",
       "  <tbody>\n",
       "    <tr>\n",
       "      <th>0</th>\n",
       "      <td>R_2DUIfkur5fbOgZo</td>\n",
       "      <td>132</td>\n",
       "      <td>1211</td>\n",
       "      <td>[{'year': 2025, 'works_count': 3, 'cited_by_co...</td>\n",
       "      <td>[{'institution': {'id': 'https://openalex.org/...</td>\n",
       "      <td>[{'id': 'https://openalex.org/I102134673', 'ro...</td>\n",
       "      <td>https://api.openalex.org/works?filter=author.i...</td>\n",
       "      <td>Social Sciences</td>\n",
       "      <td>I am tenured (please, indicate the year you re...</td>\n",
       "      <td>2</td>\n",
       "      <td>Yes, and I did not do anything work-related du...</td>\n",
       "      <td>Yes, and I spent about half of that time on wo...</td>\n",
       "      <td>2008</td>\n",
       "      <td>Sweden</td>\n",
       "      <td>Woman</td>\n",
       "      <td>1</td>\n",
       "    </tr>\n",
       "    <tr>\n",
       "      <th>4</th>\n",
       "      <td>R_3w5HE5P6WKA3ErS</td>\n",
       "      <td>14</td>\n",
       "      <td>24</td>\n",
       "      <td>[{'year': 2025, 'works_count': 1, 'cited_by_co...</td>\n",
       "      <td>[{'institution': {'id': 'https://openalex.org/...</td>\n",
       "      <td>[{'id': 'https://openalex.org/I4210095952', 'r...</td>\n",
       "      <td>https://api.openalex.org/works?filter=author.i...</td>\n",
       "      <td>Social Sciences</td>\n",
       "      <td>I am a postdoc</td>\n",
       "      <td>0</td>\n",
       "      <td>NaN</td>\n",
       "      <td>NaN</td>\n",
       "      <td>NaN</td>\n",
       "      <td>NaN</td>\n",
       "      <td>Man</td>\n",
       "      <td>0</td>\n",
       "    </tr>\n",
       "    <tr>\n",
       "      <th>5</th>\n",
       "      <td>R_1rMazofVa3Erjzp</td>\n",
       "      <td>508</td>\n",
       "      <td>12522</td>\n",
       "      <td>[{'year': 2025, 'works_count': 11, 'cited_by_c...</td>\n",
       "      <td>[{'institution': {'id': 'https://openalex.org/...</td>\n",
       "      <td>[{'id': 'https://openalex.org/I188973947', 'ro...</td>\n",
       "      <td>https://api.openalex.org/works?filter=author.i...</td>\n",
       "      <td>Physical Sciences</td>\n",
       "      <td>I am tenured (please, indicate the year you re...</td>\n",
       "      <td>0</td>\n",
       "      <td>NaN</td>\n",
       "      <td>NaN</td>\n",
       "      <td>NaN</td>\n",
       "      <td>NaN</td>\n",
       "      <td>Woman</td>\n",
       "      <td>0</td>\n",
       "    </tr>\n",
       "    <tr>\n",
       "      <th>6</th>\n",
       "      <td>R_8ISkEPE83anmMw4</td>\n",
       "      <td>135</td>\n",
       "      <td>9243</td>\n",
       "      <td>[{'year': 2025, 'works_count': 2, 'cited_by_co...</td>\n",
       "      <td>[{'institution': {'id': 'https://openalex.org/...</td>\n",
       "      <td>[{'id': 'https://openalex.org/I4210158893', 'r...</td>\n",
       "      <td>https://api.openalex.org/works?filter=author.i...</td>\n",
       "      <td>Physical Sciences</td>\n",
       "      <td>I am tenured (please, indicate the year you re...</td>\n",
       "      <td>1</td>\n",
       "      <td>Yes, and I did not do anything work-related du...</td>\n",
       "      <td>NaN</td>\n",
       "      <td>2022</td>\n",
       "      <td>France</td>\n",
       "      <td>Woman</td>\n",
       "      <td>1</td>\n",
       "    </tr>\n",
       "    <tr>\n",
       "      <th>7</th>\n",
       "      <td>R_22KXNwiHHfO6aVH</td>\n",
       "      <td>402</td>\n",
       "      <td>11932</td>\n",
       "      <td>[{'year': 2025, 'works_count': 4, 'cited_by_co...</td>\n",
       "      <td>[{'institution': {'id': 'https://openalex.org/...</td>\n",
       "      <td>[{'id': 'https://openalex.org/I1333353642', 'r...</td>\n",
       "      <td>https://api.openalex.org/works?filter=author.i...</td>\n",
       "      <td>Health Sciences</td>\n",
       "      <td>I am tenured (please, indicate the year you re...</td>\n",
       "      <td>2</td>\n",
       "      <td>Yes, and I spent about half of that time on wo...</td>\n",
       "      <td>Yes, and I spent about half of that time on wo...</td>\n",
       "      <td>1986</td>\n",
       "      <td>Norway</td>\n",
       "      <td>Woman</td>\n",
       "      <td>1</td>\n",
       "    </tr>\n",
       "  </tbody>\n",
       "</table>\n",
       "</div>"
      ],
      "text/plain": [
       "          ResponseId  works_count  cited_by_count  \\\n",
       "0  R_2DUIfkur5fbOgZo          132            1211   \n",
       "4  R_3w5HE5P6WKA3ErS           14              24   \n",
       "5  R_1rMazofVa3Erjzp          508           12522   \n",
       "6  R_8ISkEPE83anmMw4          135            9243   \n",
       "7  R_22KXNwiHHfO6aVH          402           11932   \n",
       "\n",
       "                                      counts_by_year  \\\n",
       "0  [{'year': 2025, 'works_count': 3, 'cited_by_co...   \n",
       "4  [{'year': 2025, 'works_count': 1, 'cited_by_co...   \n",
       "5  [{'year': 2025, 'works_count': 11, 'cited_by_c...   \n",
       "6  [{'year': 2025, 'works_count': 2, 'cited_by_co...   \n",
       "7  [{'year': 2025, 'works_count': 4, 'cited_by_co...   \n",
       "\n",
       "                                        affiliations  \\\n",
       "0  [{'institution': {'id': 'https://openalex.org/...   \n",
       "4  [{'institution': {'id': 'https://openalex.org/...   \n",
       "5  [{'institution': {'id': 'https://openalex.org/...   \n",
       "6  [{'institution': {'id': 'https://openalex.org/...   \n",
       "7  [{'institution': {'id': 'https://openalex.org/...   \n",
       "\n",
       "                             last_known_institutions  \\\n",
       "0  [{'id': 'https://openalex.org/I102134673', 'ro...   \n",
       "4  [{'id': 'https://openalex.org/I4210095952', 'r...   \n",
       "5  [{'id': 'https://openalex.org/I188973947', 'ro...   \n",
       "6  [{'id': 'https://openalex.org/I4210158893', 'r...   \n",
       "7  [{'id': 'https://openalex.org/I1333353642', 'r...   \n",
       "\n",
       "                                       works_api_url        main_domain  \\\n",
       "0  https://api.openalex.org/works?filter=author.i...    Social Sciences   \n",
       "4  https://api.openalex.org/works?filter=author.i...    Social Sciences   \n",
       "5  https://api.openalex.org/works?filter=author.i...  Physical Sciences   \n",
       "6  https://api.openalex.org/works?filter=author.i...  Physical Sciences   \n",
       "7  https://api.openalex.org/works?filter=author.i...    Health Sciences   \n",
       "\n",
       "                                                 DE8 DE22  \\\n",
       "0  I am tenured (please, indicate the year you re...    2   \n",
       "4                                     I am a postdoc    0   \n",
       "5  I am tenured (please, indicate the year you re...    0   \n",
       "6  I am tenured (please, indicate the year you re...    1   \n",
       "7  I am tenured (please, indicate the year you re...    2   \n",
       "\n",
       "                                               PL6_1  \\\n",
       "0  Yes, and I did not do anything work-related du...   \n",
       "4                                                NaN   \n",
       "5                                                NaN   \n",
       "6  Yes, and I did not do anything work-related du...   \n",
       "7  Yes, and I spent about half of that time on wo...   \n",
       "\n",
       "                                               PL6_2 DE23_1_1 DE23_1_2    DE2  \\\n",
       "0  Yes, and I spent about half of that time on wo...     2008   Sweden  Woman   \n",
       "4                                                NaN      NaN      NaN    Man   \n",
       "5                                                NaN      NaN      NaN  Woman   \n",
       "6                                                NaN     2022   France  Woman   \n",
       "7  Yes, and I spent about half of that time on wo...     1986   Norway  Woman   \n",
       "\n",
       "   TookLeave_child1  \n",
       "0                 1  \n",
       "4                 0  \n",
       "5                 0  \n",
       "6                 1  \n",
       "7                 1  "
      ]
     },
     "execution_count": 33,
     "metadata": {},
     "output_type": "execute_result"
    }
   ],
   "source": [
    "# I changed the df to used back to df_europe, because we also want to include non parents\n",
    "df_europe['TookLeave_child1'] = df_europe['PL6_1'].str.startswith('Yes').fillna(False).astype(int)\n",
    "df_europe.head()"
   ]
  },
  {
   "cell_type": "code",
   "execution_count": 34,
   "id": "8c562a6a",
   "metadata": {},
   "outputs": [
    {
     "name": "stdout",
     "output_type": "stream",
     "text": [
      "Rows in df_europe with NaN in DE23_1_1 and DE22 > 0: 1\n"
     ]
    }
   ],
   "source": [
    "# are there rows where the birth year is not available but the number of children is more than 0 ?\n",
    "\n",
    "num_nan_de23_1_1 = df_europe[df_europe['DE23_1_1'].isna() & (df_europe['DE22'] > 0)].shape[0]\n",
    "print(f\"Rows in df_europe with NaN in DE23_1_1 and DE22 > 0: {num_nan_de23_1_1}\")"
   ]
  },
  {
   "cell_type": "code",
   "execution_count": 39,
   "id": "d31808b4",
   "metadata": {},
   "outputs": [
    {
     "name": "stdout",
     "output_type": "stream",
     "text": [
      "Rows in df_europe where DE23_1_1 is not a 4-digit integer and DE22 > 0: 0\n"
     ]
    }
   ],
   "source": [
    "# are there rows where the year of birth doesn't fir the right format and the number of children is higher than 0?\n",
    "\n",
    "invalid_birth_year = df_europe[\n",
    "    (~df_europe['DE23_1_1'].astype(str).str.fullmatch(r\"\\d{4}\", na=False)) &\n",
    "    (df_europe['DE22'] > 0)\n",
    "]\n",
    "\n",
    "print(f\"Rows in df_europe where DE23_1_1 is not a 4-digit integer and DE22 > 0: {len(invalid_birth_year)}\")\n"
   ]
  },
  {
   "cell_type": "code",
   "execution_count": 40,
   "id": "3bc27bbb",
   "metadata": {},
   "outputs": [
    {
     "data": {
      "text/html": [
       "<div>\n",
       "<style scoped>\n",
       "    .dataframe tbody tr th:only-of-type {\n",
       "        vertical-align: middle;\n",
       "    }\n",
       "\n",
       "    .dataframe tbody tr th {\n",
       "        vertical-align: top;\n",
       "    }\n",
       "\n",
       "    .dataframe thead th {\n",
       "        text-align: right;\n",
       "    }\n",
       "</style>\n",
       "<table border=\"1\" class=\"dataframe\">\n",
       "  <thead>\n",
       "    <tr style=\"text-align: right;\">\n",
       "      <th></th>\n",
       "      <th>ResponseId</th>\n",
       "      <th>works_count</th>\n",
       "      <th>cited_by_count</th>\n",
       "      <th>counts_by_year</th>\n",
       "      <th>affiliations</th>\n",
       "      <th>last_known_institutions</th>\n",
       "      <th>works_api_url</th>\n",
       "      <th>main_domain</th>\n",
       "      <th>DE8</th>\n",
       "      <th>DE22</th>\n",
       "      <th>PL6_1</th>\n",
       "      <th>PL6_2</th>\n",
       "      <th>DE23_1_1</th>\n",
       "      <th>DE23_1_2</th>\n",
       "      <th>DE2</th>\n",
       "      <th>TookLeave_child1</th>\n",
       "    </tr>\n",
       "  </thead>\n",
       "  <tbody>\n",
       "  </tbody>\n",
       "</table>\n",
       "</div>"
      ],
      "text/plain": [
       "Empty DataFrame\n",
       "Columns: [ResponseId, works_count, cited_by_count, counts_by_year, affiliations, last_known_institutions, works_api_url, main_domain, DE8, DE22, PL6_1, PL6_2, DE23_1_1, DE23_1_2, DE2, TookLeave_child1]\n",
       "Index: []"
      ]
     },
     "execution_count": 40,
     "metadata": {},
     "output_type": "execute_result"
    }
   ],
   "source": [
    "invalid_birth_year"
   ]
  },
  {
   "cell_type": "code",
   "execution_count": 37,
   "id": "137869b4",
   "metadata": {},
   "outputs": [],
   "source": [
    "# we will drop this respondent, because we do not have the birth year of the first child\n",
    "\n",
    "df_europe = df_europe[~(df_europe['DE23_1_1'].isna() & (df_europe['DE22'] > 0))]"
   ]
  },
  {
   "cell_type": "code",
   "execution_count": 41,
   "id": "585a4072",
   "metadata": {},
   "outputs": [
    {
     "name": "stdout",
     "output_type": "stream",
     "text": [
      "[\n",
      "  {\n",
      "    \"year\": 2025,\n",
      "    \"works_count\": 3,\n",
      "    \"cited_by_count\": 33\n",
      "  },\n",
      "  {\n",
      "    \"year\": 2024,\n",
      "    \"works_count\": 2,\n",
      "    \"cited_by_count\": 80\n",
      "  },\n",
      "  {\n",
      "    \"year\": 2023,\n",
      "    \"works_count\": 7,\n",
      "    \"cited_by_count\": 78\n",
      "  },\n",
      "  {\n",
      "    \"year\": 2022,\n",
      "    \"works_count\": 1,\n",
      "    \"cited_by_count\": 44\n",
      "  },\n",
      "  {\n",
      "    \"year\": 2021,\n",
      "    \"works_count\": 7,\n",
      "    \"cited_by_count\": 52\n",
      "  },\n",
      "  {\n",
      "    \"year\": 2020,\n",
      "    \"works_count\": 3,\n",
      "    \"cited_by_count\": 56\n",
      "  },\n",
      "  {\n",
      "    \"year\": 2019,\n",
      "    \"works_count\": 12,\n",
      "    \"cited_by_count\": 59\n",
      "  },\n",
      "  {\n",
      "    \"year\": 2018,\n",
      "    \"works_count\": 3,\n",
      "    \"cited_by_count\": 41\n",
      "  },\n",
      "  {\n",
      "    \"year\": 2017,\n",
      "    \"works_count\": 6,\n",
      "    \"cited_by_count\": 57\n",
      "  },\n",
      "  {\n",
      "    \"year\": 2016,\n",
      "    \"works_count\": 13,\n",
      "    \"cited_by_count\": 69\n",
      "  },\n",
      "  {\n",
      "    \"year\": 2015,\n",
      "    \"works_count\": 1,\n",
      "    \"cited_by_count\": 54\n",
      "  },\n",
      "  {\n",
      "    \"year\": 2014,\n",
      "    \"works_count\": 1,\n",
      "    \"cited_by_count\": 38\n",
      "  },\n",
      "  {\n",
      "    \"year\": 2013,\n",
      "    \"works_count\": 2,\n",
      "    \"cited_by_count\": 62\n",
      "  },\n",
      "  {\n",
      "    \"year\": 2012,\n",
      "    \"works_count\": 6,\n",
      "    \"cited_by_count\": 69\n",
      "  }\n",
      "]\n"
     ]
    }
   ],
   "source": [
    "import json \n",
    "\n",
    "first_entry = df_europe['counts_by_year'].iloc[0]\n",
    "print(json.dumps(first_entry, indent=2))"
   ]
  },
  {
   "cell_type": "code",
   "execution_count": 42,
   "id": "a2a27476",
   "metadata": {},
   "outputs": [
    {
     "name": "stdout",
     "output_type": "stream",
     "text": [
      "Number of researchers with bad year entries: 0\n"
     ]
    }
   ],
   "source": [
    "bad_researchers = 0\n",
    "bad_researcher_ids = []\n",
    "\n",
    "for _, row in df_europe.iterrows():\n",
    "    counts = row['counts_by_year']\n",
    "    if not isinstance(counts, list) or not counts:\n",
    "        continue\n",
    "\n",
    "    for entry in counts:\n",
    "        year = entry.get('year')\n",
    "        if not isinstance(year, int) or not (1000 <= year <= 2100):\n",
    "            bad_researchers += 1\n",
    "            bad_researcher_ids.append(row['RespondentId'])\n",
    "            break  \n",
    "\n",
    "print(f\"Number of researchers with bad year entries: {bad_researchers}\")\n"
   ]
  },
  {
   "cell_type": "markdown",
   "id": "1a1a555e",
   "metadata": {},
   "source": [
    "Okay, I need to flatten that col and get the counts per year into a flattened format therefore: "
   ]
  },
  {
   "cell_type": "code",
   "execution_count": 43,
   "id": "059fd22d",
   "metadata": {},
   "outputs": [],
   "source": [
    "cols_to_keep = [\n",
    "    'ResponseId', 'counts_by_year', 'main_domain', 'DE8', 'DE22', 'DE23_1_1', 'TookLeave_child1', 'DE2'\n",
    "]\n",
    "\n",
    "df_twfe = df_europe[cols_to_keep].copy()"
   ]
  },
  {
   "cell_type": "code",
   "execution_count": 44,
   "id": "bccf305e",
   "metadata": {},
   "outputs": [],
   "source": [
    "records = []\n",
    "\n",
    "for _, row in df_twfe.iterrows():\n",
    "    counts = row['counts_by_year']\n",
    "    if not isinstance(counts, list) or not counts:\n",
    "        continue\n",
    "\n",
    "    try:\n",
    "        respondent_id, birth_year,  num_children, took_leave, gender, discipline, position = (\n",
    "            row['ResponseId'],\n",
    "            int(row['DE23_1_1']),\n",
    "             row['DE22'],\n",
    "            row['TookLeave_child1'],\n",
    "            row['DE2'],\n",
    "            row['main_domain'],\n",
    "            row['DE8'],\n",
    "        )\n",
    "    except (ValueError, TypeError):\n",
    "        continue\n",
    "\n",
    "    for entry in counts:\n",
    "        try:\n",
    "            year_of_counts = int(entry['year'])\n",
    "            cited_by = entry.get('cited_by_count')\n",
    "            records.append({\n",
    "                'ResponseId': respondent_id,\n",
    "                'year': year,\n",
    "                'cited_by_count': cited_by,\n",
    "                'num_children': num_children,\n",
    "                'TookLeave_child1': took_leave,\n",
    "                'YearOfBirth_child1': birth_year,\n",
    "                'Gender': gender,\n",
    "                'Discipline': discipline,\n",
    "                'AcademicPosition': position,\n",
    "                'years_since_birth': year_of_counts - birth_year,\n",
    "            })\n",
    "        except (ValueError, TypeError, KeyError):\n",
    "            continue\n",
    "\n",
    "df_long = pd.DataFrame(records)\n"
   ]
  },
  {
   "cell_type": "code",
   "execution_count": 45,
   "id": "585abc02",
   "metadata": {},
   "outputs": [
    {
     "data": {
      "text/html": [
       "<div>\n",
       "<style scoped>\n",
       "    .dataframe tbody tr th:only-of-type {\n",
       "        vertical-align: middle;\n",
       "    }\n",
       "\n",
       "    .dataframe tbody tr th {\n",
       "        vertical-align: top;\n",
       "    }\n",
       "\n",
       "    .dataframe thead th {\n",
       "        text-align: right;\n",
       "    }\n",
       "</style>\n",
       "<table border=\"1\" class=\"dataframe\">\n",
       "  <thead>\n",
       "    <tr style=\"text-align: right;\">\n",
       "      <th></th>\n",
       "      <th>ResponseId</th>\n",
       "      <th>year</th>\n",
       "      <th>cited_by_count</th>\n",
       "      <th>num_children</th>\n",
       "      <th>TookLeave_child1</th>\n",
       "      <th>YearOfBirth_child1</th>\n",
       "      <th>Gender</th>\n",
       "      <th>Discipline</th>\n",
       "      <th>AcademicPosition</th>\n",
       "      <th>years_since_birth</th>\n",
       "    </tr>\n",
       "  </thead>\n",
       "  <tbody>\n",
       "    <tr>\n",
       "      <th>0</th>\n",
       "      <td>R_2DUIfkur5fbOgZo</td>\n",
       "      <td>2016</td>\n",
       "      <td>33</td>\n",
       "      <td>2</td>\n",
       "      <td>1</td>\n",
       "      <td>2008</td>\n",
       "      <td>Woman</td>\n",
       "      <td>Social Sciences</td>\n",
       "      <td>I am tenured (please, indicate the year you re...</td>\n",
       "      <td>17</td>\n",
       "    </tr>\n",
       "    <tr>\n",
       "      <th>1</th>\n",
       "      <td>R_2DUIfkur5fbOgZo</td>\n",
       "      <td>2016</td>\n",
       "      <td>80</td>\n",
       "      <td>2</td>\n",
       "      <td>1</td>\n",
       "      <td>2008</td>\n",
       "      <td>Woman</td>\n",
       "      <td>Social Sciences</td>\n",
       "      <td>I am tenured (please, indicate the year you re...</td>\n",
       "      <td>16</td>\n",
       "    </tr>\n",
       "    <tr>\n",
       "      <th>2</th>\n",
       "      <td>R_2DUIfkur5fbOgZo</td>\n",
       "      <td>2016</td>\n",
       "      <td>78</td>\n",
       "      <td>2</td>\n",
       "      <td>1</td>\n",
       "      <td>2008</td>\n",
       "      <td>Woman</td>\n",
       "      <td>Social Sciences</td>\n",
       "      <td>I am tenured (please, indicate the year you re...</td>\n",
       "      <td>15</td>\n",
       "    </tr>\n",
       "    <tr>\n",
       "      <th>3</th>\n",
       "      <td>R_2DUIfkur5fbOgZo</td>\n",
       "      <td>2016</td>\n",
       "      <td>44</td>\n",
       "      <td>2</td>\n",
       "      <td>1</td>\n",
       "      <td>2008</td>\n",
       "      <td>Woman</td>\n",
       "      <td>Social Sciences</td>\n",
       "      <td>I am tenured (please, indicate the year you re...</td>\n",
       "      <td>14</td>\n",
       "    </tr>\n",
       "    <tr>\n",
       "      <th>4</th>\n",
       "      <td>R_2DUIfkur5fbOgZo</td>\n",
       "      <td>2016</td>\n",
       "      <td>52</td>\n",
       "      <td>2</td>\n",
       "      <td>1</td>\n",
       "      <td>2008</td>\n",
       "      <td>Woman</td>\n",
       "      <td>Social Sciences</td>\n",
       "      <td>I am tenured (please, indicate the year you re...</td>\n",
       "      <td>13</td>\n",
       "    </tr>\n",
       "    <tr>\n",
       "      <th>...</th>\n",
       "      <td>...</td>\n",
       "      <td>...</td>\n",
       "      <td>...</td>\n",
       "      <td>...</td>\n",
       "      <td>...</td>\n",
       "      <td>...</td>\n",
       "      <td>...</td>\n",
       "      <td>...</td>\n",
       "      <td>...</td>\n",
       "      <td>...</td>\n",
       "    </tr>\n",
       "    <tr>\n",
       "      <th>8597</th>\n",
       "      <td>R_2Q7MoIKqCsI2xCF</td>\n",
       "      <td>2016</td>\n",
       "      <td>45</td>\n",
       "      <td>2</td>\n",
       "      <td>1</td>\n",
       "      <td>2017</td>\n",
       "      <td>Man</td>\n",
       "      <td>Physical Sciences</td>\n",
       "      <td>I am a tenure-track faculty</td>\n",
       "      <td>2</td>\n",
       "    </tr>\n",
       "    <tr>\n",
       "      <th>8598</th>\n",
       "      <td>R_2Q7MoIKqCsI2xCF</td>\n",
       "      <td>2016</td>\n",
       "      <td>21</td>\n",
       "      <td>2</td>\n",
       "      <td>1</td>\n",
       "      <td>2017</td>\n",
       "      <td>Man</td>\n",
       "      <td>Physical Sciences</td>\n",
       "      <td>I am a tenure-track faculty</td>\n",
       "      <td>1</td>\n",
       "    </tr>\n",
       "    <tr>\n",
       "      <th>8599</th>\n",
       "      <td>R_2Q7MoIKqCsI2xCF</td>\n",
       "      <td>2016</td>\n",
       "      <td>14</td>\n",
       "      <td>2</td>\n",
       "      <td>1</td>\n",
       "      <td>2017</td>\n",
       "      <td>Man</td>\n",
       "      <td>Physical Sciences</td>\n",
       "      <td>I am a tenure-track faculty</td>\n",
       "      <td>0</td>\n",
       "    </tr>\n",
       "    <tr>\n",
       "      <th>8600</th>\n",
       "      <td>R_2Q7MoIKqCsI2xCF</td>\n",
       "      <td>2016</td>\n",
       "      <td>3</td>\n",
       "      <td>2</td>\n",
       "      <td>1</td>\n",
       "      <td>2017</td>\n",
       "      <td>Man</td>\n",
       "      <td>Physical Sciences</td>\n",
       "      <td>I am a tenure-track faculty</td>\n",
       "      <td>-1</td>\n",
       "    </tr>\n",
       "    <tr>\n",
       "      <th>8601</th>\n",
       "      <td>R_2Q7MoIKqCsI2xCF</td>\n",
       "      <td>2016</td>\n",
       "      <td>1</td>\n",
       "      <td>2</td>\n",
       "      <td>1</td>\n",
       "      <td>2017</td>\n",
       "      <td>Man</td>\n",
       "      <td>Physical Sciences</td>\n",
       "      <td>I am a tenure-track faculty</td>\n",
       "      <td>-2</td>\n",
       "    </tr>\n",
       "  </tbody>\n",
       "</table>\n",
       "<p>8602 rows × 10 columns</p>\n",
       "</div>"
      ],
      "text/plain": [
       "             ResponseId  year  cited_by_count  num_children  TookLeave_child1  \\\n",
       "0     R_2DUIfkur5fbOgZo  2016              33             2                 1   \n",
       "1     R_2DUIfkur5fbOgZo  2016              80             2                 1   \n",
       "2     R_2DUIfkur5fbOgZo  2016              78             2                 1   \n",
       "3     R_2DUIfkur5fbOgZo  2016              44             2                 1   \n",
       "4     R_2DUIfkur5fbOgZo  2016              52             2                 1   \n",
       "...                 ...   ...             ...           ...               ...   \n",
       "8597  R_2Q7MoIKqCsI2xCF  2016              45             2                 1   \n",
       "8598  R_2Q7MoIKqCsI2xCF  2016              21             2                 1   \n",
       "8599  R_2Q7MoIKqCsI2xCF  2016              14             2                 1   \n",
       "8600  R_2Q7MoIKqCsI2xCF  2016               3             2                 1   \n",
       "8601  R_2Q7MoIKqCsI2xCF  2016               1             2                 1   \n",
       "\n",
       "      YearOfBirth_child1 Gender         Discipline  \\\n",
       "0                   2008  Woman    Social Sciences   \n",
       "1                   2008  Woman    Social Sciences   \n",
       "2                   2008  Woman    Social Sciences   \n",
       "3                   2008  Woman    Social Sciences   \n",
       "4                   2008  Woman    Social Sciences   \n",
       "...                  ...    ...                ...   \n",
       "8597                2017    Man  Physical Sciences   \n",
       "8598                2017    Man  Physical Sciences   \n",
       "8599                2017    Man  Physical Sciences   \n",
       "8600                2017    Man  Physical Sciences   \n",
       "8601                2017    Man  Physical Sciences   \n",
       "\n",
       "                                       AcademicPosition  years_since_birth  \n",
       "0     I am tenured (please, indicate the year you re...                 17  \n",
       "1     I am tenured (please, indicate the year you re...                 16  \n",
       "2     I am tenured (please, indicate the year you re...                 15  \n",
       "3     I am tenured (please, indicate the year you re...                 14  \n",
       "4     I am tenured (please, indicate the year you re...                 13  \n",
       "...                                                 ...                ...  \n",
       "8597                        I am a tenure-track faculty                  2  \n",
       "8598                        I am a tenure-track faculty                  1  \n",
       "8599                        I am a tenure-track faculty                  0  \n",
       "8600                        I am a tenure-track faculty                 -1  \n",
       "8601                        I am a tenure-track faculty                 -2  \n",
       "\n",
       "[8602 rows x 10 columns]"
      ]
     },
     "execution_count": 45,
     "metadata": {},
     "output_type": "execute_result"
    }
   ],
   "source": [
    "df_long"
   ]
  },
  {
   "cell_type": "code",
   "execution_count": 46,
   "id": "6804efc6",
   "metadata": {},
   "outputs": [
    {
     "name": "stdout",
     "output_type": "stream",
     "text": [
      "Number of unique ResponseIds with only rows where num_children == 0: 0\n"
     ]
    }
   ],
   "source": [
    "zero_children_counts = df_long[df_long['num_children'] == 0].groupby('ResponseId').size()\n",
    "print(f\"Number of unique ResponseIds with only rows where num_children == 0: {zero_children_counts.shape[0]}\")"
   ]
  },
  {
   "cell_type": "code",
   "execution_count": 47,
   "id": "911586bc",
   "metadata": {},
   "outputs": [],
   "source": [
    "#  Restrict to One Academic Position Group \n",
    "df_tenured = df_long[df_long['AcademicPosition'].str.startswith('I am tenured')]\n",
    "df_tenure_track = df_long[df_long['AcademicPosition'].str.startswith('I am a tenure-track faculty')]\n",
    "df_untenured = df_long[df_long['AcademicPosition'].str.startswith('I am a non-tenure-track faculty')]\n",
    "df_other = df_long[~df_long['AcademicPosition'].str.startswith(('Other'))]\n",
    "df_postdoc = df_long[df_long['AcademicPosition'].str.startswith('I am a postdoc')]"
   ]
  },
  {
   "cell_type": "code",
   "execution_count": 48,
   "id": "67611d25",
   "metadata": {},
   "outputs": [],
   "source": [
    "def compute_common_window(df_group):\n",
    "    grouped = df_group.groupby('ResponseId')['years_since_birth']\n",
    "    \n",
    "    min_years = grouped.min()\n",
    "    max_years = grouped.max()\n",
    "    \n",
    "    # Smallest window shared by all\n",
    "    k_pre = abs(min_years.max())     # e.g., if one person only has data from -2\n",
    "    k_post = max_years.min()         # e.g., if one person only has data until +3\n",
    "    \n",
    "    return -k_pre, k_post\n"
   ]
  },
  {
   "cell_type": "code",
   "execution_count": 50,
   "id": "b14c8d70",
   "metadata": {},
   "outputs": [
    {
     "name": "stdout",
     "output_type": "stream",
     "text": [
      "          group  pre  post  total_researchers\n",
      "0       tenured  -36     1                360\n",
      "1  tenure_track  -28     0                 62\n",
      "2     untenured  -19     1                 77\n",
      "3       postdoc  -20    -2                100\n",
      "4         other  -36    -2                599\n"
     ]
    }
   ],
   "source": [
    "results = []\n",
    "\n",
    "position_groups = {\n",
    "    'tenured': df_tenured,\n",
    "    'tenure_track': df_tenure_track,\n",
    "    'untenured': df_untenured,\n",
    "    'postdoc': df_postdoc,\n",
    "    'other': df_other\n",
    "}\n",
    "\n",
    "for name, df_group in position_groups.items():\n",
    "    pre, post = compute_common_window(df_group)\n",
    "    num_researchers = df_group['ResponseId'].nunique()\n",
    "    \n",
    "    results.append({\n",
    "        'group': name,\n",
    "        'pre': pre,\n",
    "        'post': post,\n",
    "        'total_researchers': num_researchers\n",
    "    })\n",
    "\n",
    "df_windows = pd.DataFrame(results)\n",
    "print(df_windows)\n"
   ]
  },
  {
   "cell_type": "markdown",
   "id": "90cc465f",
   "metadata": {},
   "source": [
    "We see I dont have enough data when stratifying by academic position, if I wanted to include all responseIds, they don't have enough of a history after the childbirth event. So I ll try for now to use a threshold of 3 years, and drop those that do not have enough of a history."
   ]
  },
  {
   "cell_type": "code",
   "execution_count": 51,
   "id": "28ebc9fd",
   "metadata": {},
   "outputs": [],
   "source": [
    "def filter_researchers_by_window(df_group, pre_threshold=3, post_threshold=3):\n",
    "    # Group by individual researchers\n",
    "    grouped = df_group.groupby('ResponseId')['years_since_birth']\n",
    "    min_years = grouped.min()\n",
    "    max_years = grouped.max()\n",
    "\n",
    "    # Eligible researchers\n",
    "    eligible_ids = min_years[min_years <= -pre_threshold].index.intersection(\n",
    "                   max_years[max_years >= post_threshold].index)\n",
    "\n",
    "    df_filtered = df_group[df_group['ResponseId'].isin(eligible_ids)].copy()\n",
    "\n",
    "    # Recalculate common window among eligible researchers\n",
    "    min_common = df_filtered.groupby('ResponseId')['years_since_birth'].min().max()\n",
    "    max_common = df_filtered.groupby('ResponseId')['years_since_birth'].max().min()\n",
    "\n",
    "    return df_filtered, min_common, max_common, len(eligible_ids)\n"
   ]
  },
  {
   "cell_type": "code",
   "execution_count": 52,
   "id": "983c7e81",
   "metadata": {},
   "outputs": [],
   "source": [
    "filtered_results = []\n",
    "\n",
    "for name, df_group in position_groups.items():\n",
    "    df_filt, pre, post, n = filter_researchers_by_window(df_group, pre_threshold=3, post_threshold=3)\n",
    "\n",
    "    filtered_results.append({\n",
    "        'group': name,\n",
    "        'new_pre': pre,\n",
    "        'new_post': post,\n",
    "        'remaining_researchers': n,\n",
    "        'total_researchers': df_group['ResponseId'].nunique(),\n",
    "        'pct_kept': round(n / df_group['ResponseId'].nunique() * 100, 1)\n",
    "    })\n"
   ]
  },
  {
   "cell_type": "code",
   "execution_count": 53,
   "id": "ab6d409c",
   "metadata": {},
   "outputs": [
    {
     "name": "stdout",
     "output_type": "stream",
     "text": [
      "       group  new_pre  new_post  remaining_researchers  total_researchers  pct_kept\n",
      "     tenured       -3         3                     89                360      24.7\n",
      "tenure_track       -3         3                     23                 62      37.1\n",
      "   untenured       -3         3                     36                 77      46.8\n",
      "     postdoc       -3         3                     50                100      50.0\n",
      "       other       -3         3                    198                599      33.1\n"
     ]
    }
   ],
   "source": [
    "df_filtered_summary = pd.DataFrame(filtered_results)\n",
    "print(df_filtered_summary.to_string(index=False))\n"
   ]
  },
  {
   "cell_type": "code",
   "execution_count": 210,
   "id": "3b80987a",
   "metadata": {},
   "outputs": [],
   "source": [
    "position_filters = {\n",
    "    'tenured': lambda df: df['AcademicPosition'].str.startswith('I am tenured'),\n",
    "    'tenure_track': lambda df: df['AcademicPosition'].str.startswith('I am a tenure-track faculty'),\n",
    "    'untenured': lambda df: df['AcademicPosition'].str.startswith('I am a non-tenure-track faculty'),\n",
    "    'postdoc': lambda df: df['AcademicPosition'].str.startswith('I am a postdoc'),\n",
    "    'other': lambda df: ~df['AcademicPosition'].str.startswith('Other')\n",
    "}\n",
    "\n",
    "position_groups = {\n",
    "    name: df_long[filter_func(df_long)].copy()\n",
    "    for name, filter_func in position_filters.items()\n",
    "}\n"
   ]
  },
  {
   "cell_type": "code",
   "execution_count": 211,
   "id": "5a3ba308",
   "metadata": {},
   "outputs": [
    {
     "ename": "KeyError",
     "evalue": "'Parent'",
     "output_type": "error",
     "traceback": [
      "\u001b[0;31m---------------------------------------------------------------------------\u001b[0m",
      "\u001b[0;31mKeyError\u001b[0m                                  Traceback (most recent call last)",
      "File \u001b[0;32m~/opt/anaconda3/envs/parenthood/lib/python3.13/site-packages/pandas/core/indexes/base.py:3805\u001b[0m, in \u001b[0;36mIndex.get_loc\u001b[0;34m(self, key)\u001b[0m\n\u001b[1;32m   3804\u001b[0m \u001b[38;5;28;01mtry\u001b[39;00m:\n\u001b[0;32m-> 3805\u001b[0m     \u001b[38;5;28;01mreturn\u001b[39;00m \u001b[38;5;28mself\u001b[39m\u001b[38;5;241m.\u001b[39m_engine\u001b[38;5;241m.\u001b[39mget_loc(casted_key)\n\u001b[1;32m   3806\u001b[0m \u001b[38;5;28;01mexcept\u001b[39;00m \u001b[38;5;167;01mKeyError\u001b[39;00m \u001b[38;5;28;01mas\u001b[39;00m err:\n",
      "File \u001b[0;32mindex.pyx:167\u001b[0m, in \u001b[0;36mpandas._libs.index.IndexEngine.get_loc\u001b[0;34m()\u001b[0m\n",
      "File \u001b[0;32mindex.pyx:196\u001b[0m, in \u001b[0;36mpandas._libs.index.IndexEngine.get_loc\u001b[0;34m()\u001b[0m\n",
      "File \u001b[0;32mpandas/_libs/hashtable_class_helper.pxi:7081\u001b[0m, in \u001b[0;36mpandas._libs.hashtable.PyObjectHashTable.get_item\u001b[0;34m()\u001b[0m\n",
      "File \u001b[0;32mpandas/_libs/hashtable_class_helper.pxi:7089\u001b[0m, in \u001b[0;36mpandas._libs.hashtable.PyObjectHashTable.get_item\u001b[0;34m()\u001b[0m\n",
      "\u001b[0;31mKeyError\u001b[0m: 'Parent'",
      "\nThe above exception was the direct cause of the following exception:\n",
      "\u001b[0;31mKeyError\u001b[0m                                  Traceback (most recent call last)",
      "Cell \u001b[0;32mIn[211], line 11\u001b[0m\n\u001b[1;32m      9\u001b[0m \u001b[38;5;66;03m# Apply across all position groups\u001b[39;00m\n\u001b[1;32m     10\u001b[0m \u001b[38;5;28;01mfor\u001b[39;00m name, df \u001b[38;5;129;01min\u001b[39;00m position_groups\u001b[38;5;241m.\u001b[39mitems():\n\u001b[0;32m---> 11\u001b[0m     df[\u001b[38;5;124m'\u001b[39m\u001b[38;5;124mparent_status\u001b[39m\u001b[38;5;124m'\u001b[39m] \u001b[38;5;241m=\u001b[39m df\u001b[38;5;241m.\u001b[39mapply(classify_parent_status, axis\u001b[38;5;241m=\u001b[39m\u001b[38;5;241m1\u001b[39m)\n\u001b[1;32m     12\u001b[0m     position_groups[name] \u001b[38;5;241m=\u001b[39m df\n",
      "File \u001b[0;32m~/opt/anaconda3/envs/parenthood/lib/python3.13/site-packages/pandas/core/frame.py:10374\u001b[0m, in \u001b[0;36mDataFrame.apply\u001b[0;34m(self, func, axis, raw, result_type, args, by_row, engine, engine_kwargs, **kwargs)\u001b[0m\n\u001b[1;32m  10360\u001b[0m \u001b[38;5;28;01mfrom\u001b[39;00m \u001b[38;5;21;01mpandas\u001b[39;00m\u001b[38;5;21;01m.\u001b[39;00m\u001b[38;5;21;01mcore\u001b[39;00m\u001b[38;5;21;01m.\u001b[39;00m\u001b[38;5;21;01mapply\u001b[39;00m \u001b[38;5;28;01mimport\u001b[39;00m frame_apply\n\u001b[1;32m  10362\u001b[0m op \u001b[38;5;241m=\u001b[39m frame_apply(\n\u001b[1;32m  10363\u001b[0m     \u001b[38;5;28mself\u001b[39m,\n\u001b[1;32m  10364\u001b[0m     func\u001b[38;5;241m=\u001b[39mfunc,\n\u001b[0;32m   (...)\u001b[0m\n\u001b[1;32m  10372\u001b[0m     kwargs\u001b[38;5;241m=\u001b[39mkwargs,\n\u001b[1;32m  10373\u001b[0m )\n\u001b[0;32m> 10374\u001b[0m \u001b[38;5;28;01mreturn\u001b[39;00m op\u001b[38;5;241m.\u001b[39mapply()\u001b[38;5;241m.\u001b[39m__finalize__(\u001b[38;5;28mself\u001b[39m, method\u001b[38;5;241m=\u001b[39m\u001b[38;5;124m\"\u001b[39m\u001b[38;5;124mapply\u001b[39m\u001b[38;5;124m\"\u001b[39m)\n",
      "File \u001b[0;32m~/opt/anaconda3/envs/parenthood/lib/python3.13/site-packages/pandas/core/apply.py:916\u001b[0m, in \u001b[0;36mFrameApply.apply\u001b[0;34m(self)\u001b[0m\n\u001b[1;32m    913\u001b[0m \u001b[38;5;28;01melif\u001b[39;00m \u001b[38;5;28mself\u001b[39m\u001b[38;5;241m.\u001b[39mraw:\n\u001b[1;32m    914\u001b[0m     \u001b[38;5;28;01mreturn\u001b[39;00m \u001b[38;5;28mself\u001b[39m\u001b[38;5;241m.\u001b[39mapply_raw(engine\u001b[38;5;241m=\u001b[39m\u001b[38;5;28mself\u001b[39m\u001b[38;5;241m.\u001b[39mengine, engine_kwargs\u001b[38;5;241m=\u001b[39m\u001b[38;5;28mself\u001b[39m\u001b[38;5;241m.\u001b[39mengine_kwargs)\n\u001b[0;32m--> 916\u001b[0m \u001b[38;5;28;01mreturn\u001b[39;00m \u001b[38;5;28mself\u001b[39m\u001b[38;5;241m.\u001b[39mapply_standard()\n",
      "File \u001b[0;32m~/opt/anaconda3/envs/parenthood/lib/python3.13/site-packages/pandas/core/apply.py:1063\u001b[0m, in \u001b[0;36mFrameApply.apply_standard\u001b[0;34m(self)\u001b[0m\n\u001b[1;32m   1061\u001b[0m \u001b[38;5;28;01mdef\u001b[39;00m \u001b[38;5;21mapply_standard\u001b[39m(\u001b[38;5;28mself\u001b[39m):\n\u001b[1;32m   1062\u001b[0m     \u001b[38;5;28;01mif\u001b[39;00m \u001b[38;5;28mself\u001b[39m\u001b[38;5;241m.\u001b[39mengine \u001b[38;5;241m==\u001b[39m \u001b[38;5;124m\"\u001b[39m\u001b[38;5;124mpython\u001b[39m\u001b[38;5;124m\"\u001b[39m:\n\u001b[0;32m-> 1063\u001b[0m         results, res_index \u001b[38;5;241m=\u001b[39m \u001b[38;5;28mself\u001b[39m\u001b[38;5;241m.\u001b[39mapply_series_generator()\n\u001b[1;32m   1064\u001b[0m     \u001b[38;5;28;01melse\u001b[39;00m:\n\u001b[1;32m   1065\u001b[0m         results, res_index \u001b[38;5;241m=\u001b[39m \u001b[38;5;28mself\u001b[39m\u001b[38;5;241m.\u001b[39mapply_series_numba()\n",
      "File \u001b[0;32m~/opt/anaconda3/envs/parenthood/lib/python3.13/site-packages/pandas/core/apply.py:1081\u001b[0m, in \u001b[0;36mFrameApply.apply_series_generator\u001b[0;34m(self)\u001b[0m\n\u001b[1;32m   1078\u001b[0m \u001b[38;5;28;01mwith\u001b[39;00m option_context(\u001b[38;5;124m\"\u001b[39m\u001b[38;5;124mmode.chained_assignment\u001b[39m\u001b[38;5;124m\"\u001b[39m, \u001b[38;5;28;01mNone\u001b[39;00m):\n\u001b[1;32m   1079\u001b[0m     \u001b[38;5;28;01mfor\u001b[39;00m i, v \u001b[38;5;129;01min\u001b[39;00m \u001b[38;5;28menumerate\u001b[39m(series_gen):\n\u001b[1;32m   1080\u001b[0m         \u001b[38;5;66;03m# ignore SettingWithCopy here in case the user mutates\u001b[39;00m\n\u001b[0;32m-> 1081\u001b[0m         results[i] \u001b[38;5;241m=\u001b[39m \u001b[38;5;28mself\u001b[39m\u001b[38;5;241m.\u001b[39mfunc(v, \u001b[38;5;241m*\u001b[39m\u001b[38;5;28mself\u001b[39m\u001b[38;5;241m.\u001b[39margs, \u001b[38;5;241m*\u001b[39m\u001b[38;5;241m*\u001b[39m\u001b[38;5;28mself\u001b[39m\u001b[38;5;241m.\u001b[39mkwargs)\n\u001b[1;32m   1082\u001b[0m         \u001b[38;5;28;01mif\u001b[39;00m \u001b[38;5;28misinstance\u001b[39m(results[i], ABCSeries):\n\u001b[1;32m   1083\u001b[0m             \u001b[38;5;66;03m# If we have a view on v, we need to make a copy because\u001b[39;00m\n\u001b[1;32m   1084\u001b[0m             \u001b[38;5;66;03m#  series_generator will swap out the underlying data\u001b[39;00m\n\u001b[1;32m   1085\u001b[0m             results[i] \u001b[38;5;241m=\u001b[39m results[i]\u001b[38;5;241m.\u001b[39mcopy(deep\u001b[38;5;241m=\u001b[39m\u001b[38;5;28;01mFalse\u001b[39;00m)\n",
      "Cell \u001b[0;32mIn[211], line 2\u001b[0m, in \u001b[0;36mclassify_parent_status\u001b[0;34m(row)\u001b[0m\n\u001b[1;32m      1\u001b[0m \u001b[38;5;28;01mdef\u001b[39;00m \u001b[38;5;21mclassify_parent_status\u001b[39m(row):\n\u001b[0;32m----> 2\u001b[0m     \u001b[38;5;28;01mif\u001b[39;00m row[\u001b[38;5;124m'\u001b[39m\u001b[38;5;124mParent\u001b[39m\u001b[38;5;124m'\u001b[39m] \u001b[38;5;241m==\u001b[39m \u001b[38;5;124m'\u001b[39m\u001b[38;5;124mNo\u001b[39m\u001b[38;5;124m'\u001b[39m:\n\u001b[1;32m      3\u001b[0m         \u001b[38;5;28;01mreturn\u001b[39;00m \u001b[38;5;124m'\u001b[39m\u001b[38;5;124mnon_parent\u001b[39m\u001b[38;5;124m'\u001b[39m\n\u001b[1;32m      4\u001b[0m     \u001b[38;5;28;01melif\u001b[39;00m row[\u001b[38;5;124m'\u001b[39m\u001b[38;5;124mLeave\u001b[39m\u001b[38;5;124m'\u001b[39m] \u001b[38;5;241m==\u001b[39m \u001b[38;5;124m'\u001b[39m\u001b[38;5;124mNo\u001b[39m\u001b[38;5;124m'\u001b[39m:\n",
      "File \u001b[0;32m~/opt/anaconda3/envs/parenthood/lib/python3.13/site-packages/pandas/core/series.py:1121\u001b[0m, in \u001b[0;36mSeries.__getitem__\u001b[0;34m(self, key)\u001b[0m\n\u001b[1;32m   1118\u001b[0m     \u001b[38;5;28;01mreturn\u001b[39;00m \u001b[38;5;28mself\u001b[39m\u001b[38;5;241m.\u001b[39m_values[key]\n\u001b[1;32m   1120\u001b[0m \u001b[38;5;28;01melif\u001b[39;00m key_is_scalar:\n\u001b[0;32m-> 1121\u001b[0m     \u001b[38;5;28;01mreturn\u001b[39;00m \u001b[38;5;28mself\u001b[39m\u001b[38;5;241m.\u001b[39m_get_value(key)\n\u001b[1;32m   1123\u001b[0m \u001b[38;5;66;03m# Convert generator to list before going through hashable part\u001b[39;00m\n\u001b[1;32m   1124\u001b[0m \u001b[38;5;66;03m# (We will iterate through the generator there to check for slices)\u001b[39;00m\n\u001b[1;32m   1125\u001b[0m \u001b[38;5;28;01mif\u001b[39;00m is_iterator(key):\n",
      "File \u001b[0;32m~/opt/anaconda3/envs/parenthood/lib/python3.13/site-packages/pandas/core/series.py:1237\u001b[0m, in \u001b[0;36mSeries._get_value\u001b[0;34m(self, label, takeable)\u001b[0m\n\u001b[1;32m   1234\u001b[0m     \u001b[38;5;28;01mreturn\u001b[39;00m \u001b[38;5;28mself\u001b[39m\u001b[38;5;241m.\u001b[39m_values[label]\n\u001b[1;32m   1236\u001b[0m \u001b[38;5;66;03m# Similar to Index.get_value, but we do not fall back to positional\u001b[39;00m\n\u001b[0;32m-> 1237\u001b[0m loc \u001b[38;5;241m=\u001b[39m \u001b[38;5;28mself\u001b[39m\u001b[38;5;241m.\u001b[39mindex\u001b[38;5;241m.\u001b[39mget_loc(label)\n\u001b[1;32m   1239\u001b[0m \u001b[38;5;28;01mif\u001b[39;00m is_integer(loc):\n\u001b[1;32m   1240\u001b[0m     \u001b[38;5;28;01mreturn\u001b[39;00m \u001b[38;5;28mself\u001b[39m\u001b[38;5;241m.\u001b[39m_values[loc]\n",
      "File \u001b[0;32m~/opt/anaconda3/envs/parenthood/lib/python3.13/site-packages/pandas/core/indexes/base.py:3812\u001b[0m, in \u001b[0;36mIndex.get_loc\u001b[0;34m(self, key)\u001b[0m\n\u001b[1;32m   3807\u001b[0m     \u001b[38;5;28;01mif\u001b[39;00m \u001b[38;5;28misinstance\u001b[39m(casted_key, \u001b[38;5;28mslice\u001b[39m) \u001b[38;5;129;01mor\u001b[39;00m (\n\u001b[1;32m   3808\u001b[0m         \u001b[38;5;28misinstance\u001b[39m(casted_key, abc\u001b[38;5;241m.\u001b[39mIterable)\n\u001b[1;32m   3809\u001b[0m         \u001b[38;5;129;01mand\u001b[39;00m \u001b[38;5;28many\u001b[39m(\u001b[38;5;28misinstance\u001b[39m(x, \u001b[38;5;28mslice\u001b[39m) \u001b[38;5;28;01mfor\u001b[39;00m x \u001b[38;5;129;01min\u001b[39;00m casted_key)\n\u001b[1;32m   3810\u001b[0m     ):\n\u001b[1;32m   3811\u001b[0m         \u001b[38;5;28;01mraise\u001b[39;00m InvalidIndexError(key)\n\u001b[0;32m-> 3812\u001b[0m     \u001b[38;5;28;01mraise\u001b[39;00m \u001b[38;5;167;01mKeyError\u001b[39;00m(key) \u001b[38;5;28;01mfrom\u001b[39;00m \u001b[38;5;21;01merr\u001b[39;00m\n\u001b[1;32m   3813\u001b[0m \u001b[38;5;28;01mexcept\u001b[39;00m \u001b[38;5;167;01mTypeError\u001b[39;00m:\n\u001b[1;32m   3814\u001b[0m     \u001b[38;5;66;03m# If we have a listlike key, _check_indexing_error will raise\u001b[39;00m\n\u001b[1;32m   3815\u001b[0m     \u001b[38;5;66;03m#  InvalidIndexError. Otherwise we fall through and re-raise\u001b[39;00m\n\u001b[1;32m   3816\u001b[0m     \u001b[38;5;66;03m#  the TypeError.\u001b[39;00m\n\u001b[1;32m   3817\u001b[0m     \u001b[38;5;28mself\u001b[39m\u001b[38;5;241m.\u001b[39m_check_indexing_error(key)\n",
      "\u001b[0;31mKeyError\u001b[0m: 'Parent'"
     ]
    }
   ],
   "source": [
    "def classify_parent_status(row):\n",
    "    if row['Parent'] == 'No':\n",
    "        return 'non_parent'\n",
    "    elif row['Leave'] == 'No':\n",
    "        return 'parent_no_leave'\n",
    "    else:\n",
    "        return 'parent_leave'\n",
    "\n",
    "# Apply across all position groups\n",
    "for name, df in position_groups.items():\n",
    "    df['parent_status'] = df.apply(classify_parent_status, axis=1)\n",
    "    position_groups[name] = df  # re-assign in case you're not working in-place\n"
   ]
  },
  {
   "cell_type": "code",
   "execution_count": null,
   "id": "ffbd0729",
   "metadata": {},
   "outputs": [],
   "source": [
    "from itertools import product\n",
    "\n",
    "gender_values = df_long['Gender'].dropna().unique()\n",
    "parent_status_values = ['non_parent', 'parent_no_leave', 'parent_leave']\n",
    "\n",
    "# Optional: helper function to filter subgroups\n",
    "def filter_subgroup(df, gender, parent_status):\n",
    "    return df[(df['Gender'] == gender) & (df['parent_status'] == parent_status)]\n",
    "\n",
    "# Create a nested dict: position → gender → parent_status → df\n",
    "stratified = {\n",
    "    position: {\n",
    "        gender: {\n",
    "            pstat: filter_subgroup(df, gender, pstat)\n",
    "            for pstat in parent_status_values\n",
    "        }\n",
    "        for gender in gender_values\n",
    "    }\n",
    "    for position, df in position_groups.items()\n",
    "}\n"
   ]
  },
  {
   "cell_type": "code",
   "execution_count": 212,
   "id": "c7360a1a",
   "metadata": {},
   "outputs": [
    {
     "data": {
      "text/html": [
       "<div>\n",
       "<style scoped>\n",
       "    .dataframe tbody tr th:only-of-type {\n",
       "        vertical-align: middle;\n",
       "    }\n",
       "\n",
       "    .dataframe tbody tr th {\n",
       "        vertical-align: top;\n",
       "    }\n",
       "\n",
       "    .dataframe thead th {\n",
       "        text-align: right;\n",
       "    }\n",
       "</style>\n",
       "<table border=\"1\" class=\"dataframe\">\n",
       "  <thead>\n",
       "    <tr style=\"text-align: right;\">\n",
       "      <th></th>\n",
       "      <th>ResponseId</th>\n",
       "      <th>year</th>\n",
       "      <th>cited_by_count</th>\n",
       "      <th>TookLeave_child1</th>\n",
       "      <th>YearOfBirth_child1</th>\n",
       "      <th>Gender</th>\n",
       "      <th>Discipline</th>\n",
       "      <th>AcademicPosition</th>\n",
       "      <th>years_since_birth</th>\n",
       "    </tr>\n",
       "  </thead>\n",
       "  <tbody>\n",
       "    <tr>\n",
       "      <th>0</th>\n",
       "      <td>R_2DUIfkur5fbOgZo</td>\n",
       "      <td>2025</td>\n",
       "      <td>33</td>\n",
       "      <td>1</td>\n",
       "      <td>2008</td>\n",
       "      <td>Woman</td>\n",
       "      <td>Social Sciences</td>\n",
       "      <td>I am tenured (please, indicate the year you re...</td>\n",
       "      <td>17</td>\n",
       "    </tr>\n",
       "    <tr>\n",
       "      <th>1</th>\n",
       "      <td>R_2DUIfkur5fbOgZo</td>\n",
       "      <td>2024</td>\n",
       "      <td>80</td>\n",
       "      <td>1</td>\n",
       "      <td>2008</td>\n",
       "      <td>Woman</td>\n",
       "      <td>Social Sciences</td>\n",
       "      <td>I am tenured (please, indicate the year you re...</td>\n",
       "      <td>16</td>\n",
       "    </tr>\n",
       "    <tr>\n",
       "      <th>2</th>\n",
       "      <td>R_2DUIfkur5fbOgZo</td>\n",
       "      <td>2023</td>\n",
       "      <td>78</td>\n",
       "      <td>1</td>\n",
       "      <td>2008</td>\n",
       "      <td>Woman</td>\n",
       "      <td>Social Sciences</td>\n",
       "      <td>I am tenured (please, indicate the year you re...</td>\n",
       "      <td>15</td>\n",
       "    </tr>\n",
       "    <tr>\n",
       "      <th>3</th>\n",
       "      <td>R_2DUIfkur5fbOgZo</td>\n",
       "      <td>2022</td>\n",
       "      <td>44</td>\n",
       "      <td>1</td>\n",
       "      <td>2008</td>\n",
       "      <td>Woman</td>\n",
       "      <td>Social Sciences</td>\n",
       "      <td>I am tenured (please, indicate the year you re...</td>\n",
       "      <td>14</td>\n",
       "    </tr>\n",
       "    <tr>\n",
       "      <th>4</th>\n",
       "      <td>R_2DUIfkur5fbOgZo</td>\n",
       "      <td>2021</td>\n",
       "      <td>52</td>\n",
       "      <td>1</td>\n",
       "      <td>2008</td>\n",
       "      <td>Woman</td>\n",
       "      <td>Social Sciences</td>\n",
       "      <td>I am tenured (please, indicate the year you re...</td>\n",
       "      <td>13</td>\n",
       "    </tr>\n",
       "    <tr>\n",
       "      <th>...</th>\n",
       "      <td>...</td>\n",
       "      <td>...</td>\n",
       "      <td>...</td>\n",
       "      <td>...</td>\n",
       "      <td>...</td>\n",
       "      <td>...</td>\n",
       "      <td>...</td>\n",
       "      <td>...</td>\n",
       "      <td>...</td>\n",
       "    </tr>\n",
       "    <tr>\n",
       "      <th>8586</th>\n",
       "      <td>R_2IcZqFpb6z1VCFz</td>\n",
       "      <td>2016</td>\n",
       "      <td>132</td>\n",
       "      <td>1</td>\n",
       "      <td>2006</td>\n",
       "      <td>Woman</td>\n",
       "      <td>Life Sciences</td>\n",
       "      <td>I am tenured (please, indicate the year you re...</td>\n",
       "      <td>10</td>\n",
       "    </tr>\n",
       "    <tr>\n",
       "      <th>8587</th>\n",
       "      <td>R_2IcZqFpb6z1VCFz</td>\n",
       "      <td>2015</td>\n",
       "      <td>165</td>\n",
       "      <td>1</td>\n",
       "      <td>2006</td>\n",
       "      <td>Woman</td>\n",
       "      <td>Life Sciences</td>\n",
       "      <td>I am tenured (please, indicate the year you re...</td>\n",
       "      <td>9</td>\n",
       "    </tr>\n",
       "    <tr>\n",
       "      <th>8588</th>\n",
       "      <td>R_2IcZqFpb6z1VCFz</td>\n",
       "      <td>2014</td>\n",
       "      <td>122</td>\n",
       "      <td>1</td>\n",
       "      <td>2006</td>\n",
       "      <td>Woman</td>\n",
       "      <td>Life Sciences</td>\n",
       "      <td>I am tenured (please, indicate the year you re...</td>\n",
       "      <td>8</td>\n",
       "    </tr>\n",
       "    <tr>\n",
       "      <th>8589</th>\n",
       "      <td>R_2IcZqFpb6z1VCFz</td>\n",
       "      <td>2013</td>\n",
       "      <td>120</td>\n",
       "      <td>1</td>\n",
       "      <td>2006</td>\n",
       "      <td>Woman</td>\n",
       "      <td>Life Sciences</td>\n",
       "      <td>I am tenured (please, indicate the year you re...</td>\n",
       "      <td>7</td>\n",
       "    </tr>\n",
       "    <tr>\n",
       "      <th>8590</th>\n",
       "      <td>R_2IcZqFpb6z1VCFz</td>\n",
       "      <td>2012</td>\n",
       "      <td>80</td>\n",
       "      <td>1</td>\n",
       "      <td>2006</td>\n",
       "      <td>Woman</td>\n",
       "      <td>Life Sciences</td>\n",
       "      <td>I am tenured (please, indicate the year you re...</td>\n",
       "      <td>6</td>\n",
       "    </tr>\n",
       "  </tbody>\n",
       "</table>\n",
       "<p>4890 rows × 9 columns</p>\n",
       "</div>"
      ],
      "text/plain": [
       "             ResponseId  year  cited_by_count  TookLeave_child1  \\\n",
       "0     R_2DUIfkur5fbOgZo  2025              33                 1   \n",
       "1     R_2DUIfkur5fbOgZo  2024              80                 1   \n",
       "2     R_2DUIfkur5fbOgZo  2023              78                 1   \n",
       "3     R_2DUIfkur5fbOgZo  2022              44                 1   \n",
       "4     R_2DUIfkur5fbOgZo  2021              52                 1   \n",
       "...                 ...   ...             ...               ...   \n",
       "8586  R_2IcZqFpb6z1VCFz  2016             132                 1   \n",
       "8587  R_2IcZqFpb6z1VCFz  2015             165                 1   \n",
       "8588  R_2IcZqFpb6z1VCFz  2014             122                 1   \n",
       "8589  R_2IcZqFpb6z1VCFz  2013             120                 1   \n",
       "8590  R_2IcZqFpb6z1VCFz  2012              80                 1   \n",
       "\n",
       "      YearOfBirth_child1 Gender       Discipline  \\\n",
       "0                   2008  Woman  Social Sciences   \n",
       "1                   2008  Woman  Social Sciences   \n",
       "2                   2008  Woman  Social Sciences   \n",
       "3                   2008  Woman  Social Sciences   \n",
       "4                   2008  Woman  Social Sciences   \n",
       "...                  ...    ...              ...   \n",
       "8586                2006  Woman    Life Sciences   \n",
       "8587                2006  Woman    Life Sciences   \n",
       "8588                2006  Woman    Life Sciences   \n",
       "8589                2006  Woman    Life Sciences   \n",
       "8590                2006  Woman    Life Sciences   \n",
       "\n",
       "                                       AcademicPosition  years_since_birth  \n",
       "0     I am tenured (please, indicate the year you re...                 17  \n",
       "1     I am tenured (please, indicate the year you re...                 16  \n",
       "2     I am tenured (please, indicate the year you re...                 15  \n",
       "3     I am tenured (please, indicate the year you re...                 14  \n",
       "4     I am tenured (please, indicate the year you re...                 13  \n",
       "...                                                 ...                ...  \n",
       "8586  I am tenured (please, indicate the year you re...                 10  \n",
       "8587  I am tenured (please, indicate the year you re...                  9  \n",
       "8588  I am tenured (please, indicate the year you re...                  8  \n",
       "8589  I am tenured (please, indicate the year you re...                  7  \n",
       "8590  I am tenured (please, indicate the year you re...                  6  \n",
       "\n",
       "[4890 rows x 9 columns]"
      ]
     },
     "execution_count": 212,
     "metadata": {},
     "output_type": "execute_result"
    }
   ],
   "source": [
    "df_tenured"
   ]
  },
  {
   "cell_type": "code",
   "execution_count": 168,
   "id": "794b5b31",
   "metadata": {},
   "outputs": [
    {
     "data": {
      "text/html": [
       "<div>\n",
       "<style scoped>\n",
       "    .dataframe tbody tr th:only-of-type {\n",
       "        vertical-align: middle;\n",
       "    }\n",
       "\n",
       "    .dataframe tbody tr th {\n",
       "        vertical-align: top;\n",
       "    }\n",
       "\n",
       "    .dataframe thead th {\n",
       "        text-align: right;\n",
       "    }\n",
       "</style>\n",
       "<table border=\"1\" class=\"dataframe\">\n",
       "  <thead>\n",
       "    <tr style=\"text-align: right;\">\n",
       "      <th></th>\n",
       "      <th>ResponseId</th>\n",
       "      <th>year</th>\n",
       "      <th>cited_by_count</th>\n",
       "      <th>TookLeave_child1</th>\n",
       "      <th>YearOfBirth_child1</th>\n",
       "      <th>Gender</th>\n",
       "      <th>Discipline</th>\n",
       "      <th>AcademicPosition</th>\n",
       "      <th>years_since_birth</th>\n",
       "      <th>post</th>\n",
       "      <th>treated_post</th>\n",
       "      <th>pre</th>\n",
       "    </tr>\n",
       "  </thead>\n",
       "  <tbody>\n",
       "    <tr>\n",
       "      <th>0</th>\n",
       "      <td>R_2DUIfkur5fbOgZo</td>\n",
       "      <td>2025</td>\n",
       "      <td>33</td>\n",
       "      <td>1</td>\n",
       "      <td>2008</td>\n",
       "      <td>Woman</td>\n",
       "      <td>Social Sciences</td>\n",
       "      <td>I am tenured (please, indicate the year you re...</td>\n",
       "      <td>17</td>\n",
       "      <td>0</td>\n",
       "      <td>0</td>\n",
       "      <td>0</td>\n",
       "    </tr>\n",
       "    <tr>\n",
       "      <th>1</th>\n",
       "      <td>R_2DUIfkur5fbOgZo</td>\n",
       "      <td>2024</td>\n",
       "      <td>80</td>\n",
       "      <td>1</td>\n",
       "      <td>2008</td>\n",
       "      <td>Woman</td>\n",
       "      <td>Social Sciences</td>\n",
       "      <td>I am tenured (please, indicate the year you re...</td>\n",
       "      <td>16</td>\n",
       "      <td>0</td>\n",
       "      <td>0</td>\n",
       "      <td>0</td>\n",
       "    </tr>\n",
       "    <tr>\n",
       "      <th>2</th>\n",
       "      <td>R_2DUIfkur5fbOgZo</td>\n",
       "      <td>2023</td>\n",
       "      <td>78</td>\n",
       "      <td>1</td>\n",
       "      <td>2008</td>\n",
       "      <td>Woman</td>\n",
       "      <td>Social Sciences</td>\n",
       "      <td>I am tenured (please, indicate the year you re...</td>\n",
       "      <td>15</td>\n",
       "      <td>0</td>\n",
       "      <td>0</td>\n",
       "      <td>0</td>\n",
       "    </tr>\n",
       "    <tr>\n",
       "      <th>3</th>\n",
       "      <td>R_2DUIfkur5fbOgZo</td>\n",
       "      <td>2022</td>\n",
       "      <td>44</td>\n",
       "      <td>1</td>\n",
       "      <td>2008</td>\n",
       "      <td>Woman</td>\n",
       "      <td>Social Sciences</td>\n",
       "      <td>I am tenured (please, indicate the year you re...</td>\n",
       "      <td>14</td>\n",
       "      <td>0</td>\n",
       "      <td>0</td>\n",
       "      <td>0</td>\n",
       "    </tr>\n",
       "    <tr>\n",
       "      <th>4</th>\n",
       "      <td>R_2DUIfkur5fbOgZo</td>\n",
       "      <td>2021</td>\n",
       "      <td>52</td>\n",
       "      <td>1</td>\n",
       "      <td>2008</td>\n",
       "      <td>Woman</td>\n",
       "      <td>Social Sciences</td>\n",
       "      <td>I am tenured (please, indicate the year you re...</td>\n",
       "      <td>13</td>\n",
       "      <td>0</td>\n",
       "      <td>0</td>\n",
       "      <td>0</td>\n",
       "    </tr>\n",
       "  </tbody>\n",
       "</table>\n",
       "</div>"
      ],
      "text/plain": [
       "          ResponseId  year  cited_by_count  TookLeave_child1  \\\n",
       "0  R_2DUIfkur5fbOgZo  2025              33                 1   \n",
       "1  R_2DUIfkur5fbOgZo  2024              80                 1   \n",
       "2  R_2DUIfkur5fbOgZo  2023              78                 1   \n",
       "3  R_2DUIfkur5fbOgZo  2022              44                 1   \n",
       "4  R_2DUIfkur5fbOgZo  2021              52                 1   \n",
       "\n",
       "   YearOfBirth_child1 Gender       Discipline  \\\n",
       "0                2008  Woman  Social Sciences   \n",
       "1                2008  Woman  Social Sciences   \n",
       "2                2008  Woman  Social Sciences   \n",
       "3                2008  Woman  Social Sciences   \n",
       "4                2008  Woman  Social Sciences   \n",
       "\n",
       "                                    AcademicPosition  years_since_birth  post  \\\n",
       "0  I am tenured (please, indicate the year you re...                 17     0   \n",
       "1  I am tenured (please, indicate the year you re...                 16     0   \n",
       "2  I am tenured (please, indicate the year you re...                 15     0   \n",
       "3  I am tenured (please, indicate the year you re...                 14     0   \n",
       "4  I am tenured (please, indicate the year you re...                 13     0   \n",
       "\n",
       "   treated_post  pre  \n",
       "0             0    0  \n",
       "1             0    0  \n",
       "2             0    0  \n",
       "3             0    0  \n",
       "4             0    0  "
      ]
     },
     "execution_count": 168,
     "metadata": {},
     "output_type": "execute_result"
    }
   ],
   "source": [
    "df_long.head()"
   ]
  },
  {
   "cell_type": "code",
   "execution_count": 191,
   "id": "dcfbe05c",
   "metadata": {},
   "outputs": [
    {
     "name": "stdout",
     "output_type": "stream",
     "text": [
      "AcademicPosition\n",
      "I am tenured (please, indicate the year you received tenure, e.g., 2010)    360\n",
      "I am a postdoc                                                              100\n",
      "I am a non-tenure-track faculty                                              77\n",
      "Other (please, specify)                                                      63\n",
      "I am a tenure-track faculty                                                  62\n",
      "Name: count, dtype: int64\n"
     ]
    }
   ],
   "source": [
    "unique_positions = df_long[['ResponseId', 'AcademicPosition']].drop_duplicates()\n",
    "position_counts = unique_positions['AcademicPosition'].value_counts()\n",
    "print(position_counts)\n"
   ]
  },
  {
   "cell_type": "markdown",
   "id": "be067eb3",
   "metadata": {},
   "source": [
    "Let's get some stats about how many entries or years of contrbution a researcher has in this dataset."
   ]
  },
  {
   "cell_type": "code",
   "execution_count": 100,
   "id": "d79f649c",
   "metadata": {},
   "outputs": [
    {
     "data": {
      "text/html": [
       "<div>\n",
       "<style scoped>\n",
       "    .dataframe tbody tr th:only-of-type {\n",
       "        vertical-align: middle;\n",
       "    }\n",
       "\n",
       "    .dataframe tbody tr th {\n",
       "        vertical-align: top;\n",
       "    }\n",
       "\n",
       "    .dataframe thead th {\n",
       "        text-align: right;\n",
       "    }\n",
       "</style>\n",
       "<table border=\"1\" class=\"dataframe\">\n",
       "  <thead>\n",
       "    <tr style=\"text-align: right;\">\n",
       "      <th></th>\n",
       "      <th>ResponseId</th>\n",
       "      <th>n_obs</th>\n",
       "      <th>is_outlier</th>\n",
       "    </tr>\n",
       "  </thead>\n",
       "  <tbody>\n",
       "    <tr>\n",
       "      <th>18</th>\n",
       "      <td>R_21gZ30dLgvDMP2h</td>\n",
       "      <td>2</td>\n",
       "      <td>True</td>\n",
       "    </tr>\n",
       "    <tr>\n",
       "      <th>417</th>\n",
       "      <td>R_85RdE4BwSn40pMm</td>\n",
       "      <td>2</td>\n",
       "      <td>True</td>\n",
       "    </tr>\n",
       "    <tr>\n",
       "      <th>506</th>\n",
       "      <td>R_8LtID8fidcQJDGN</td>\n",
       "      <td>2</td>\n",
       "      <td>True</td>\n",
       "    </tr>\n",
       "    <tr>\n",
       "      <th>615</th>\n",
       "      <td>R_8j2lek5U91KXPid</td>\n",
       "      <td>2</td>\n",
       "      <td>True</td>\n",
       "    </tr>\n",
       "  </tbody>\n",
       "</table>\n",
       "</div>"
      ],
      "text/plain": [
       "            ResponseId  n_obs  is_outlier\n",
       "18   R_21gZ30dLgvDMP2h      2        True\n",
       "417  R_85RdE4BwSn40pMm      2        True\n",
       "506  R_8LtID8fidcQJDGN      2        True\n",
       "615  R_8j2lek5U91KXPid      2        True"
      ]
     },
     "metadata": {},
     "output_type": "display_data"
    }
   ],
   "source": [
    "# I want to observe the outliers\n",
    "obs_per_respondent = df_long.groupby('ResponseId').size().reset_index(name='n_obs')\n",
    "obs_per_respondent['is_outlier'] = obs_per_respondent['n_obs'] < 4  \n",
    "display(obs_per_respondent[obs_per_respondent['is_outlier'] == True])"
   ]
  },
  {
   "cell_type": "code",
   "execution_count": 101,
   "id": "254ea473",
   "metadata": {},
   "outputs": [
    {
     "data": {
      "application/vnd.plotly.v1+json": {
       "config": {
        "plotlyServerURL": "https://plot.ly"
       },
       "data": [
        {
         "bingroup": "x",
         "hovertemplate": "AcademicPosition=I am tenured (please, indicate the year you received tenure, e.g., 2010)<br>n_obs=%{x}<br>count=%{y}<extra></extra>",
         "legendgroup": "I am tenured (please, indicate the year you received tenure, e.g., 2010)",
         "marker": {
          "color": "#636efa",
          "opacity": 0.5,
          "pattern": {
           "shape": ""
          }
         },
         "name": "I am tenured (please, indicate the year you received tenure, e.g., 2010)",
         "nbinsx": 13,
         "orientation": "v",
         "showlegend": true,
         "type": "histogram",
         "x": {
          "bdata": "CQ4ODg4ODg4ODgIODg4ODg4ODg4OCg4ODg0ODg4ODg4ODgwODg4ODg4ODg4ODg4ODg4ODg4ODg4ODg4ODg4ODg4ODg4IDg4ODg4LDg4ODg4ODg4ODg4ODg4ODg4ODAsMDg4NCw4ODg4ODgwNDg4ODg4ODg4ODg4ODg4ODg4MDg4LDg4OCw4ODg4ODg4ODg4ODg4ODgwODg4ODg4LDg4NDg4ODg4ODg4NDg0ODg4ODg4ODA4ODg4ODg4ODg4ODg4NDg4ODg4LDg0ODg4ODQ4ODg4ODg4ODg4ODg4ODg4ODg4NDg4ODg4ODQ4OCg4ODg4ODgsODg4ODg4ODg4ODgwODg4ODg4OBA4CDA4OCwwODg4ODg4ODg4MDg4ODg4ODg4ODgwOCw4ODg4JDg4ODg4NDg4ODg4ODg4ODg0ODgwODg0ODQ4ODQ4ODg4NDg4ODg4KDg4ODg4ODg4ODgsODg0ODg4OCw4ODQ4ODg4OCQ4ODg4ODgoODg4ODg4ODg4OBg4ODQ4O",
          "dtype": "i1"
         },
         "xaxis": "x",
         "yaxis": "y"
        },
        {
         "bingroup": "x",
         "hovertemplate": "AcademicPosition=I am a postdoc<br>n_obs=%{x}<br>count=%{y}<extra></extra>",
         "legendgroup": "I am a postdoc",
         "marker": {
          "color": "#EF553B",
          "opacity": 0.5,
          "pattern": {
           "shape": ""
          }
         },
         "name": "I am a postdoc",
         "nbinsx": 13,
         "orientation": "v",
         "showlegend": true,
         "type": "histogram",
         "x": {
          "bdata": "BwYIDgcMCgUODg0NCg4LDg4IDgwGDg4KDQsKCgsODgoLCg4GDgkNDQoIDgcMDgsMDg4IBwwIDgUNAg0LBwUNDg4NCgwGDg4OCwwNDgYHDggNDgwODQoMDQ4CDg4ODAgODg4ODgUHCggOBw==",
          "dtype": "i1"
         },
         "xaxis": "x",
         "yaxis": "y"
        },
        {
         "bingroup": "x",
         "hovertemplate": "AcademicPosition=Other (please, specify)<br>n_obs=%{x}<br>count=%{y}<extra></extra>",
         "legendgroup": "Other (please, specify)",
         "marker": {
          "color": "#00cc96",
          "opacity": 0.5,
          "pattern": {
           "shape": ""
          }
         },
         "name": "Other (please, specify)",
         "nbinsx": 13,
         "orientation": "v",
         "showlegend": true,
         "type": "histogram",
         "x": {
          "bdata": "DQ4ODgsOCw4OCw4FDg4MDg4NDg4ODg4ODgwODg4ODg0NDQ4ODgwODg4NDg4ODggFDAsODg4ODg4ODg4ODg4ODgwODg==",
          "dtype": "i1"
         },
         "xaxis": "x",
         "yaxis": "y"
        },
        {
         "bingroup": "x",
         "hovertemplate": "AcademicPosition=I am a non-tenure-track faculty<br>n_obs=%{x}<br>count=%{y}<extra></extra>",
         "legendgroup": "I am a non-tenure-track faculty",
         "marker": {
          "color": "#ab63fa",
          "opacity": 0.5,
          "pattern": {
           "shape": ""
          }
         },
         "name": "I am a non-tenure-track faculty",
         "nbinsx": 13,
         "orientation": "v",
         "showlegend": true,
         "type": "histogram",
         "x": {
          "bdata": "Bw0HDg4KDg4ODQ4ODg4OCg4LDg4MDg4ODg4OBAkLDAsMDgwODAYODQ4ODgwNDg4NDg4ODgkIDg4NDg4ODAsMBw4ODQ4NDg4ODgoLDg4ODgkKDg4OCQU=",
          "dtype": "i1"
         },
         "xaxis": "x",
         "yaxis": "y"
        },
        {
         "bingroup": "x",
         "hovertemplate": "AcademicPosition=I am a tenure-track faculty<br>n_obs=%{x}<br>count=%{y}<extra></extra>",
         "legendgroup": "I am a tenure-track faculty",
         "marker": {
          "color": "#FFA15A",
          "opacity": 0.5,
          "pattern": {
           "shape": ""
          }
         },
         "name": "I am a tenure-track faculty",
         "nbinsx": 13,
         "orientation": "v",
         "showlegend": true,
         "type": "histogram",
         "x": {
          "bdata": "Dg4ODg4NDg4ODQgNCw4ODg4OCA4ODQ0ODg4ODgYNDQ4ODg4ODg0LDg4OCwkNDg4ODQwOCgwODggODAwJDg0OBwoODggMDg4MDg==",
          "dtype": "i1"
         },
         "xaxis": "x",
         "yaxis": "y"
        }
       ],
       "layout": {
        "bargap": 0.2,
        "barmode": "overlay",
        "font": {
         "size": 12
        },
        "height": 400,
        "legend": {
         "title": {
          "text": "AcademicPosition"
         },
         "tracegroupgap": 0
        },
        "margin": {
         "b": 40,
         "l": 40,
         "r": 40,
         "t": 60
        },
        "template": {
         "data": {
          "bar": [
           {
            "error_x": {
             "color": "#2a3f5f"
            },
            "error_y": {
             "color": "#2a3f5f"
            },
            "marker": {
             "line": {
              "color": "#E5ECF6",
              "width": 0.5
             },
             "pattern": {
              "fillmode": "overlay",
              "size": 10,
              "solidity": 0.2
             }
            },
            "type": "bar"
           }
          ],
          "barpolar": [
           {
            "marker": {
             "line": {
              "color": "#E5ECF6",
              "width": 0.5
             },
             "pattern": {
              "fillmode": "overlay",
              "size": 10,
              "solidity": 0.2
             }
            },
            "type": "barpolar"
           }
          ],
          "carpet": [
           {
            "aaxis": {
             "endlinecolor": "#2a3f5f",
             "gridcolor": "white",
             "linecolor": "white",
             "minorgridcolor": "white",
             "startlinecolor": "#2a3f5f"
            },
            "baxis": {
             "endlinecolor": "#2a3f5f",
             "gridcolor": "white",
             "linecolor": "white",
             "minorgridcolor": "white",
             "startlinecolor": "#2a3f5f"
            },
            "type": "carpet"
           }
          ],
          "choropleth": [
           {
            "colorbar": {
             "outlinewidth": 0,
             "ticks": ""
            },
            "type": "choropleth"
           }
          ],
          "contour": [
           {
            "colorbar": {
             "outlinewidth": 0,
             "ticks": ""
            },
            "colorscale": [
             [
              0,
              "#0d0887"
             ],
             [
              0.1111111111111111,
              "#46039f"
             ],
             [
              0.2222222222222222,
              "#7201a8"
             ],
             [
              0.3333333333333333,
              "#9c179e"
             ],
             [
              0.4444444444444444,
              "#bd3786"
             ],
             [
              0.5555555555555556,
              "#d8576b"
             ],
             [
              0.6666666666666666,
              "#ed7953"
             ],
             [
              0.7777777777777778,
              "#fb9f3a"
             ],
             [
              0.8888888888888888,
              "#fdca26"
             ],
             [
              1,
              "#f0f921"
             ]
            ],
            "type": "contour"
           }
          ],
          "contourcarpet": [
           {
            "colorbar": {
             "outlinewidth": 0,
             "ticks": ""
            },
            "type": "contourcarpet"
           }
          ],
          "heatmap": [
           {
            "colorbar": {
             "outlinewidth": 0,
             "ticks": ""
            },
            "colorscale": [
             [
              0,
              "#0d0887"
             ],
             [
              0.1111111111111111,
              "#46039f"
             ],
             [
              0.2222222222222222,
              "#7201a8"
             ],
             [
              0.3333333333333333,
              "#9c179e"
             ],
             [
              0.4444444444444444,
              "#bd3786"
             ],
             [
              0.5555555555555556,
              "#d8576b"
             ],
             [
              0.6666666666666666,
              "#ed7953"
             ],
             [
              0.7777777777777778,
              "#fb9f3a"
             ],
             [
              0.8888888888888888,
              "#fdca26"
             ],
             [
              1,
              "#f0f921"
             ]
            ],
            "type": "heatmap"
           }
          ],
          "histogram": [
           {
            "marker": {
             "pattern": {
              "fillmode": "overlay",
              "size": 10,
              "solidity": 0.2
             }
            },
            "type": "histogram"
           }
          ],
          "histogram2d": [
           {
            "colorbar": {
             "outlinewidth": 0,
             "ticks": ""
            },
            "colorscale": [
             [
              0,
              "#0d0887"
             ],
             [
              0.1111111111111111,
              "#46039f"
             ],
             [
              0.2222222222222222,
              "#7201a8"
             ],
             [
              0.3333333333333333,
              "#9c179e"
             ],
             [
              0.4444444444444444,
              "#bd3786"
             ],
             [
              0.5555555555555556,
              "#d8576b"
             ],
             [
              0.6666666666666666,
              "#ed7953"
             ],
             [
              0.7777777777777778,
              "#fb9f3a"
             ],
             [
              0.8888888888888888,
              "#fdca26"
             ],
             [
              1,
              "#f0f921"
             ]
            ],
            "type": "histogram2d"
           }
          ],
          "histogram2dcontour": [
           {
            "colorbar": {
             "outlinewidth": 0,
             "ticks": ""
            },
            "colorscale": [
             [
              0,
              "#0d0887"
             ],
             [
              0.1111111111111111,
              "#46039f"
             ],
             [
              0.2222222222222222,
              "#7201a8"
             ],
             [
              0.3333333333333333,
              "#9c179e"
             ],
             [
              0.4444444444444444,
              "#bd3786"
             ],
             [
              0.5555555555555556,
              "#d8576b"
             ],
             [
              0.6666666666666666,
              "#ed7953"
             ],
             [
              0.7777777777777778,
              "#fb9f3a"
             ],
             [
              0.8888888888888888,
              "#fdca26"
             ],
             [
              1,
              "#f0f921"
             ]
            ],
            "type": "histogram2dcontour"
           }
          ],
          "mesh3d": [
           {
            "colorbar": {
             "outlinewidth": 0,
             "ticks": ""
            },
            "type": "mesh3d"
           }
          ],
          "parcoords": [
           {
            "line": {
             "colorbar": {
              "outlinewidth": 0,
              "ticks": ""
             }
            },
            "type": "parcoords"
           }
          ],
          "pie": [
           {
            "automargin": true,
            "type": "pie"
           }
          ],
          "scatter": [
           {
            "fillpattern": {
             "fillmode": "overlay",
             "size": 10,
             "solidity": 0.2
            },
            "type": "scatter"
           }
          ],
          "scatter3d": [
           {
            "line": {
             "colorbar": {
              "outlinewidth": 0,
              "ticks": ""
             }
            },
            "marker": {
             "colorbar": {
              "outlinewidth": 0,
              "ticks": ""
             }
            },
            "type": "scatter3d"
           }
          ],
          "scattercarpet": [
           {
            "marker": {
             "colorbar": {
              "outlinewidth": 0,
              "ticks": ""
             }
            },
            "type": "scattercarpet"
           }
          ],
          "scattergeo": [
           {
            "marker": {
             "colorbar": {
              "outlinewidth": 0,
              "ticks": ""
             }
            },
            "type": "scattergeo"
           }
          ],
          "scattergl": [
           {
            "marker": {
             "colorbar": {
              "outlinewidth": 0,
              "ticks": ""
             }
            },
            "type": "scattergl"
           }
          ],
          "scattermap": [
           {
            "marker": {
             "colorbar": {
              "outlinewidth": 0,
              "ticks": ""
             }
            },
            "type": "scattermap"
           }
          ],
          "scattermapbox": [
           {
            "marker": {
             "colorbar": {
              "outlinewidth": 0,
              "ticks": ""
             }
            },
            "type": "scattermapbox"
           }
          ],
          "scatterpolar": [
           {
            "marker": {
             "colorbar": {
              "outlinewidth": 0,
              "ticks": ""
             }
            },
            "type": "scatterpolar"
           }
          ],
          "scatterpolargl": [
           {
            "marker": {
             "colorbar": {
              "outlinewidth": 0,
              "ticks": ""
             }
            },
            "type": "scatterpolargl"
           }
          ],
          "scatterternary": [
           {
            "marker": {
             "colorbar": {
              "outlinewidth": 0,
              "ticks": ""
             }
            },
            "type": "scatterternary"
           }
          ],
          "surface": [
           {
            "colorbar": {
             "outlinewidth": 0,
             "ticks": ""
            },
            "colorscale": [
             [
              0,
              "#0d0887"
             ],
             [
              0.1111111111111111,
              "#46039f"
             ],
             [
              0.2222222222222222,
              "#7201a8"
             ],
             [
              0.3333333333333333,
              "#9c179e"
             ],
             [
              0.4444444444444444,
              "#bd3786"
             ],
             [
              0.5555555555555556,
              "#d8576b"
             ],
             [
              0.6666666666666666,
              "#ed7953"
             ],
             [
              0.7777777777777778,
              "#fb9f3a"
             ],
             [
              0.8888888888888888,
              "#fdca26"
             ],
             [
              1,
              "#f0f921"
             ]
            ],
            "type": "surface"
           }
          ],
          "table": [
           {
            "cells": {
             "fill": {
              "color": "#EBF0F8"
             },
             "line": {
              "color": "white"
             }
            },
            "header": {
             "fill": {
              "color": "#C8D4E3"
             },
             "line": {
              "color": "white"
             }
            },
            "type": "table"
           }
          ]
         },
         "layout": {
          "annotationdefaults": {
           "arrowcolor": "#2a3f5f",
           "arrowhead": 0,
           "arrowwidth": 1
          },
          "autotypenumbers": "strict",
          "coloraxis": {
           "colorbar": {
            "outlinewidth": 0,
            "ticks": ""
           }
          },
          "colorscale": {
           "diverging": [
            [
             0,
             "#8e0152"
            ],
            [
             0.1,
             "#c51b7d"
            ],
            [
             0.2,
             "#de77ae"
            ],
            [
             0.3,
             "#f1b6da"
            ],
            [
             0.4,
             "#fde0ef"
            ],
            [
             0.5,
             "#f7f7f7"
            ],
            [
             0.6,
             "#e6f5d0"
            ],
            [
             0.7,
             "#b8e186"
            ],
            [
             0.8,
             "#7fbc41"
            ],
            [
             0.9,
             "#4d9221"
            ],
            [
             1,
             "#276419"
            ]
           ],
           "sequential": [
            [
             0,
             "#0d0887"
            ],
            [
             0.1111111111111111,
             "#46039f"
            ],
            [
             0.2222222222222222,
             "#7201a8"
            ],
            [
             0.3333333333333333,
             "#9c179e"
            ],
            [
             0.4444444444444444,
             "#bd3786"
            ],
            [
             0.5555555555555556,
             "#d8576b"
            ],
            [
             0.6666666666666666,
             "#ed7953"
            ],
            [
             0.7777777777777778,
             "#fb9f3a"
            ],
            [
             0.8888888888888888,
             "#fdca26"
            ],
            [
             1,
             "#f0f921"
            ]
           ],
           "sequentialminus": [
            [
             0,
             "#0d0887"
            ],
            [
             0.1111111111111111,
             "#46039f"
            ],
            [
             0.2222222222222222,
             "#7201a8"
            ],
            [
             0.3333333333333333,
             "#9c179e"
            ],
            [
             0.4444444444444444,
             "#bd3786"
            ],
            [
             0.5555555555555556,
             "#d8576b"
            ],
            [
             0.6666666666666666,
             "#ed7953"
            ],
            [
             0.7777777777777778,
             "#fb9f3a"
            ],
            [
             0.8888888888888888,
             "#fdca26"
            ],
            [
             1,
             "#f0f921"
            ]
           ]
          },
          "colorway": [
           "#636efa",
           "#EF553B",
           "#00cc96",
           "#ab63fa",
           "#FFA15A",
           "#19d3f3",
           "#FF6692",
           "#B6E880",
           "#FF97FF",
           "#FECB52"
          ],
          "font": {
           "color": "#2a3f5f"
          },
          "geo": {
           "bgcolor": "white",
           "lakecolor": "white",
           "landcolor": "#E5ECF6",
           "showlakes": true,
           "showland": true,
           "subunitcolor": "white"
          },
          "hoverlabel": {
           "align": "left"
          },
          "hovermode": "closest",
          "mapbox": {
           "style": "light"
          },
          "paper_bgcolor": "white",
          "plot_bgcolor": "#E5ECF6",
          "polar": {
           "angularaxis": {
            "gridcolor": "white",
            "linecolor": "white",
            "ticks": ""
           },
           "bgcolor": "#E5ECF6",
           "radialaxis": {
            "gridcolor": "white",
            "linecolor": "white",
            "ticks": ""
           }
          },
          "scene": {
           "xaxis": {
            "backgroundcolor": "#E5ECF6",
            "gridcolor": "white",
            "gridwidth": 2,
            "linecolor": "white",
            "showbackground": true,
            "ticks": "",
            "zerolinecolor": "white"
           },
           "yaxis": {
            "backgroundcolor": "#E5ECF6",
            "gridcolor": "white",
            "gridwidth": 2,
            "linecolor": "white",
            "showbackground": true,
            "ticks": "",
            "zerolinecolor": "white"
           },
           "zaxis": {
            "backgroundcolor": "#E5ECF6",
            "gridcolor": "white",
            "gridwidth": 2,
            "linecolor": "white",
            "showbackground": true,
            "ticks": "",
            "zerolinecolor": "white"
           }
          },
          "shapedefaults": {
           "line": {
            "color": "#2a3f5f"
           }
          },
          "ternary": {
           "aaxis": {
            "gridcolor": "white",
            "linecolor": "white",
            "ticks": ""
           },
           "baxis": {
            "gridcolor": "white",
            "linecolor": "white",
            "ticks": ""
           },
           "bgcolor": "#E5ECF6",
           "caxis": {
            "gridcolor": "white",
            "linecolor": "white",
            "ticks": ""
           }
          },
          "title": {
           "x": 0.05
          },
          "xaxis": {
           "automargin": true,
           "gridcolor": "white",
           "linecolor": "white",
           "ticks": "",
           "title": {
            "standoff": 15
           },
           "zerolinecolor": "white",
           "zerolinewidth": 2
          },
          "yaxis": {
           "automargin": true,
           "gridcolor": "white",
           "linecolor": "white",
           "ticks": "",
           "title": {
            "standoff": 15
           },
           "zerolinecolor": "white",
           "zerolinewidth": 2
          }
         }
        },
        "title": {
         "text": "Number of Observations per Respondent by Academic Position"
        },
        "width": 1000,
        "xaxis": {
         "anchor": "y",
         "domain": [
          0,
          1
         ],
         "title": {
          "text": "n_obs"
         }
        },
        "yaxis": {
         "anchor": "x",
         "domain": [
          0,
          1
         ],
         "title": {
          "text": "count"
         }
        }
       }
      }
     },
     "metadata": {},
     "output_type": "display_data"
    }
   ],
   "source": [
    "import plotly.express as px\n",
    "\n",
    "# Create df_joined with respondent-level metadata\n",
    "df_joined = obs_per_respondent.merge(\n",
    "    df_long[['ResponseId', 'Gender', 'Discipline', 'AcademicPosition']].drop_duplicates(),\n",
    "    on='ResponseId'\n",
    ")\n",
    "\n",
    "# Plot with same compact layout\n",
    "fig = px.histogram(\n",
    "    df_joined,\n",
    "    x='n_obs',\n",
    "    color='AcademicPosition',\n",
    "    barmode='overlay',\n",
    "    nbins=13,\n",
    "    title='Number of Observations per Respondent by Academic Position'\n",
    ")\n",
    "\n",
    "fig.update_layout(\n",
    "    width=1000,\n",
    "    height=400,\n",
    "    bargap=0.2,\n",
    "    margin=dict(l=40, r=40, t=60, b=40),\n",
    "    font=dict(size=12)\n",
    ")\n",
    "\n",
    "fig.show()\n"
   ]
  },
  {
   "cell_type": "code",
   "execution_count": 102,
   "id": "5c1e9f20",
   "metadata": {},
   "outputs": [
    {
     "data": {
      "text/plain": [
       "count    719.000000\n",
       "mean      12.973574\n",
       "std        2.149204\n",
       "min        2.000000\n",
       "25%       13.000000\n",
       "50%       14.000000\n",
       "75%       14.000000\n",
       "max       14.000000\n",
       "dtype: float64"
      ]
     },
     "execution_count": 102,
     "metadata": {},
     "output_type": "execute_result"
    }
   ],
   "source": [
    "df_long.groupby('ResponseId').size().describe()\n"
   ]
  },
  {
   "cell_type": "code",
   "execution_count": null,
   "id": "c4675907",
   "metadata": {},
   "outputs": [
    {
     "data": {
      "text/html": [
       "<div>\n",
       "<style scoped>\n",
       "    .dataframe tbody tr th:only-of-type {\n",
       "        vertical-align: middle;\n",
       "    }\n",
       "\n",
       "    .dataframe tbody tr th {\n",
       "        vertical-align: top;\n",
       "    }\n",
       "\n",
       "    .dataframe thead th {\n",
       "        text-align: right;\n",
       "    }\n",
       "</style>\n",
       "<table border=\"1\" class=\"dataframe\">\n",
       "  <thead>\n",
       "    <tr style=\"text-align: right;\">\n",
       "      <th></th>\n",
       "      <th></th>\n",
       "      <th>ResponseId</th>\n",
       "    </tr>\n",
       "    <tr>\n",
       "      <th>TookLeave_child1</th>\n",
       "      <th>post</th>\n",
       "      <th></th>\n",
       "    </tr>\n",
       "  </thead>\n",
       "  <tbody>\n",
       "    <tr>\n",
       "      <th rowspan=\"2\" valign=\"top\">0</th>\n",
       "      <th>False</th>\n",
       "      <td>170</td>\n",
       "    </tr>\n",
       "    <tr>\n",
       "      <th>True</th>\n",
       "      <td>83</td>\n",
       "    </tr>\n",
       "    <tr>\n",
       "      <th rowspan=\"2\" valign=\"top\">1</th>\n",
       "      <th>False</th>\n",
       "      <td>549</td>\n",
       "    </tr>\n",
       "    <tr>\n",
       "      <th>True</th>\n",
       "      <td>407</td>\n",
       "    </tr>\n",
       "  </tbody>\n",
       "</table>\n",
       "</div>"
      ],
      "text/plain": [
       "                        ResponseId\n",
       "TookLeave_child1 post             \n",
       "0                False         170\n",
       "                 True           83\n",
       "1                False         549\n",
       "                 True          407"
      ]
     },
     "execution_count": 103,
     "metadata": {},
     "output_type": "execute_result"
    }
   ],
   "source": [
    "# checking group sizes\n",
    "df_long.groupby(['TookLeave_child1', 'post']).agg({'ResponseId': 'nunique'})\n"
   ]
  },
  {
   "cell_type": "code",
   "execution_count": null,
   "id": "f7e6086f",
   "metadata": {},
   "outputs": [
    {
     "name": "stderr",
     "output_type": "stream",
     "text": [
      "/var/folders/4n/x6xrnlyj6nngzc77qzc7h4f40000gn/T/ipykernel_1657/2360230927.py:5: FutureWarning:\n",
      "\n",
      "\n",
      "\n",
      "The `ci` parameter is deprecated. Use `errorbar='sd'` for the same effect.\n",
      "\n",
      "\n"
     ]
    },
    {
     "data": {
      "text/plain": [
       "<Axes: xlabel='relative_year', ylabel='cited_by_count'>"
      ]
     },
     "execution_count": 105,
     "metadata": {},
     "output_type": "execute_result"
    },
    {
     "data": {
      "image/png": "[encoded data removed]",
      "text/plain": [
       "<Figure size 640x480 with 1 Axes>"
      ]
     },
     "metadata": {},
     "output_type": "display_data"
    }
   ],
   "source": [
    "# checking trends\n",
    "df_long['relative_year'] = df_long['year'] - df_long['YearOfBirth_child1']\n",
    "\n",
    "import seaborn as sns\n",
    "\n",
    "sns.lineplot(\n",
    "    data=df_long[df_long['relative_year'].between(-5, 5)],\n",
    "    x='relative_year',\n",
    "    y='cited_by_count',\n",
    "    hue='TookLeave_child1',\n",
    "    estimator='mean',\n",
    "    ci='sd' \n",
    ")\n"
   ]
  },
  {
   "cell_type": "code",
   "execution_count": 118,
   "id": "27d21a99",
   "metadata": {},
   "outputs": [],
   "source": [
    "#  Restrict to One Academic Position Group \n",
    "df_teanured = df_long[df_long['AcademicPosition'].str.startswith('I am tenured')]\n",
    "df_teanure_track = df_long[df_long['AcademicPosition'].str.startswith('I am a tenure-track faculty')]\n",
    "df_unteanured = df_long[df_long['AcademicPosition'].str.startswith('I am a non-tenure-track faculty')]\n",
    "df_other = df_long[~df_long['AcademicPosition'].str.startswith(('Other'))]\n",
    "df_postdoc = df_long[df_long['AcademicPosition'].str.startswith('I am a postdoc')]"
   ]
  },
  {
   "cell_type": "code",
   "execution_count": 114,
   "id": "7ea36b9e",
   "metadata": {},
   "outputs": [
    {
     "data": {
      "text/plain": [
       "<Axes: xlabel='relative_year', ylabel='cited_by_count'>"
      ]
     },
     "execution_count": 114,
     "metadata": {},
     "output_type": "execute_result"
    },
    {
     "data": {
      "image/png": "[encoded data removed]",
      "text/plain": [
       "<Figure size 640x480 with 1 Axes>"
      ]
     },
     "metadata": {},
     "output_type": "display_data"
    }
   ],
   "source": [
    "# looking at one group only to check balance in\n",
    "\n",
    "df_teanure_track.groupby(['TookLeave_child1', 'post'])['ResponseId'].nunique()\n",
    "\n",
    "sns.lineplot(\n",
    "    data=df_teanure_track[df_teanure_track['relative_year'].between(-5, 5)],\n",
    "    x='relative_year',\n",
    "    y='cited_by_count',\n",
    "    hue='TookLeave_child1',\n",
    "    estimator='mean',\n",
    "    errorbar='sd'\n",
    ")\n"
   ]
  },
  {
   "cell_type": "code",
   "execution_count": 115,
   "id": "548da2c7",
   "metadata": {},
   "outputs": [
    {
     "name": "stdout",
     "output_type": "stream",
     "text": [
      "                          PanelOLS Estimation Summary                           \n",
      "================================================================================\n",
      "Dep. Variable:         cited_by_count   R-squared:                        0.0036\n",
      "Estimator:                   PanelOLS   R-squared (Between):             -0.0066\n",
      "No. Observations:                 933   R-squared (Within):               0.0005\n",
      "Date:                Tue, Jul 08 2025   R-squared (Overall):             -0.0043\n",
      "Time:                        13:06:13   Log-likelihood                   -6401.9\n",
      "Cov. Estimator:            Unadjusted                                           \n",
      "                                        F-statistic:                      3.0873\n",
      "Entities:                          73   P-value                           0.0793\n",
      "Avg Obs:                       12.781   Distribution:                   F(1,846)\n",
      "Min Obs:                       6.0000                                           \n",
      "Max Obs:                       14.000   F-statistic (robust):             3.0873\n",
      "                                        P-value                           0.0793\n",
      "Time periods:                      14   Distribution:                   F(1,846)\n",
      "Avg Obs:                       66.643                                           \n",
      "Min Obs:                       52.000                                           \n",
      "Max Obs:                       73.000                                           \n",
      "                                                                                \n",
      "                              Parameter Estimates                               \n",
      "================================================================================\n",
      "              Parameter  Std. Err.     T-stat    P-value    Lower CI    Upper CI\n",
      "--------------------------------------------------------------------------------\n",
      "Intercept        205.46     9.0449     22.716     0.0000      187.71      223.21\n",
      "treated_post    -39.832     22.669    -1.7571     0.0793     -84.327      4.6634\n",
      "================================================================================\n",
      "\n",
      "F-test for Poolability: 40.525\n",
      "P-value: 0.0000\n",
      "Distribution: F(85,846)\n",
      "\n",
      "Included effects: Entity, Time\n"
     ]
    }
   ],
   "source": [
    "# rerun fixes effects regression on this subset\n",
    "\n",
    "from linearmodels.panel import PanelOLS\n",
    "\n",
    "df_model= df_teanure_track.set_index(['ResponseId', 'year'])\n",
    "\n",
    "\n",
    "df_model['EntityEffects'] = df_model.index.get_level_values('ResponseId')\n",
    "df_model['TimeEffects'] = df_model.index.get_level_values('year')\n",
    "\n",
    "model = PanelOLS.from_formula(\n",
    "    'cited_by_count ~ 1 + treated_post + EntityEffects + TimeEffects',\n",
    "    data=df_model,\n",
    "    drop_absorbed=True\n",
    ")\n",
    "results = model.fit()\n",
    "print(results.summary)\n"
   ]
  },
  {
   "cell_type": "markdown",
   "id": "128af5f8",
   "metadata": {},
   "source": [
    "The model compares professors who took leave to those who didn’t, looking at their average yearly citations after childbirth, controlling for individual and year effects."
   ]
  },
  {
   "cell_type": "markdown",
   "id": "dd70595b",
   "metadata": {},
   "source": [
    "## Not teanured "
   ]
  },
  {
   "cell_type": "code",
   "execution_count": 116,
   "id": "1c228691",
   "metadata": {},
   "outputs": [
    {
     "data": {
      "text/plain": [
       "<Axes: xlabel='relative_year', ylabel='cited_by_count'>"
      ]
     },
     "execution_count": 116,
     "metadata": {},
     "output_type": "execute_result"
    },
    {
     "data": {
      "image/png": "[encoded data removed]",
      "text/plain": [
       "<Figure size 640x480 with 1 Axes>"
      ]
     },
     "metadata": {},
     "output_type": "display_data"
    }
   ],
   "source": [
    "# looking at one group only to check balance in\n",
    "\n",
    "df_unteanured.groupby(['TookLeave_child1', 'post'])['ResponseId'].nunique()\n",
    "\n",
    "sns.lineplot(\n",
    "    data=df_unteanured[df_unteanured['relative_year'].between(-5, 5)],\n",
    "    x='relative_year',\n",
    "    y='cited_by_count',\n",
    "    hue='TookLeave_child1',\n",
    "    estimator='mean',\n",
    "    errorbar='sd'\n",
    ")"
   ]
  },
  {
   "cell_type": "code",
   "execution_count": 117,
   "id": "0a9b5001",
   "metadata": {},
   "outputs": [
    {
     "name": "stdout",
     "output_type": "stream",
     "text": [
      "                          PanelOLS Estimation Summary                           \n",
      "================================================================================\n",
      "Dep. Variable:         cited_by_count   R-squared:                        0.0039\n",
      "Estimator:                   PanelOLS   R-squared (Between):             -0.0045\n",
      "No. Observations:                1075   R-squared (Within):               0.0052\n",
      "Date:                Tue, Jul 08 2025   R-squared (Overall):          -6.992e-05\n",
      "Time:                        13:20:59   Log-likelihood                   -6711.3\n",
      "Cov. Estimator:            Unadjusted                                           \n",
      "                                        F-statistic:                      3.8046\n",
      "Entities:                          86   P-value                           0.0514\n",
      "Avg Obs:                       12.500   Distribution:                   F(1,975)\n",
      "Min Obs:                       4.0000                                           \n",
      "Max Obs:                       14.000   F-statistic (robust):             3.8046\n",
      "                                        P-value                           0.0514\n",
      "Time periods:                      14   Distribution:                   F(1,975)\n",
      "Avg Obs:                       76.786                                           \n",
      "Min Obs:                       56.000                                           \n",
      "Max Obs:                       85.000                                           \n",
      "                                                                                \n",
      "                              Parameter Estimates                               \n",
      "================================================================================\n",
      "              Parameter  Std. Err.     T-stat    P-value    Lower CI    Upper CI\n",
      "--------------------------------------------------------------------------------\n",
      "Intercept        132.00     4.6917     28.135     0.0000      122.79      141.21\n",
      "treated_post     20.104     10.307     1.9505     0.0514     -0.1224      40.330\n",
      "================================================================================\n",
      "\n",
      "F-test for Poolability: 34.566\n",
      "P-value: 0.0000\n",
      "Distribution: F(98,975)\n",
      "\n",
      "Included effects: Entity, Time\n"
     ]
    }
   ],
   "source": [
    "# rerun fixes effects regression on this subset\n",
    "\n",
    "from linearmodels.panel import PanelOLS\n",
    "\n",
    "df_model= df_unteanured.set_index(['ResponseId', 'year'])\n",
    "\n",
    "\n",
    "df_model['EntityEffects'] = df_model.index.get_level_values('ResponseId')\n",
    "df_model['TimeEffects'] = df_model.index.get_level_values('year')\n",
    "\n",
    "model = PanelOLS.from_formula(\n",
    "    'cited_by_count ~ 1 + treated_post + EntityEffects + TimeEffects',\n",
    "    data=df_model,\n",
    "    drop_absorbed=True\n",
    ")\n",
    "results = model.fit()\n",
    "print(results.summary)\n"
   ]
  },
  {
   "cell_type": "markdown",
   "id": "34e0e548",
   "metadata": {},
   "source": [
    "Taking parental leave is associated with a +20 citation increase per year after childbirth for unteanured but this effect is only marginally statistically significant."
   ]
  },
  {
   "cell_type": "markdown",
   "id": "6e9bfdf3",
   "metadata": {},
   "source": [
    "## postdoc"
   ]
  },
  {
   "cell_type": "code",
   "execution_count": 119,
   "id": "09649f1d",
   "metadata": {},
   "outputs": [
    {
     "data": {
      "text/plain": [
       "<Axes: xlabel='relative_year', ylabel='cited_by_count'>"
      ]
     },
     "execution_count": 119,
     "metadata": {},
     "output_type": "execute_result"
    },
    {
     "data": {
      "image/png": "[encoded data removed]",
      "text/plain": [
       "<Figure size 640x480 with 1 Axes>"
      ]
     },
     "metadata": {},
     "output_type": "display_data"
    }
   ],
   "source": [
    "# looking at one group only to check balance in\n",
    "\n",
    "df_postdoc.groupby(['TookLeave_child1', 'post'])['ResponseId'].nunique()\n",
    "\n",
    "sns.lineplot(\n",
    "    data=df_unteanured[df_unteanured['relative_year'].between(-5, 5)],\n",
    "    x='relative_year',\n",
    "    y='cited_by_count',\n",
    "    hue='TookLeave_child1',\n",
    "    estimator='mean',\n",
    "    errorbar='sd'\n",
    ")"
   ]
  },
  {
   "cell_type": "code",
   "execution_count": 120,
   "id": "839c035d",
   "metadata": {},
   "outputs": [
    {
     "name": "stdout",
     "output_type": "stream",
     "text": [
      "                          PanelOLS Estimation Summary                           \n",
      "================================================================================\n",
      "Dep. Variable:         cited_by_count   R-squared:                        0.0008\n",
      "Estimator:                   PanelOLS   R-squared (Between):              0.0010\n",
      "No. Observations:                1177   R-squared (Within):              -0.0058\n",
      "Date:                Tue, Jul 08 2025   R-squared (Overall):             -0.0005\n",
      "Time:                        13:55:04   Log-likelihood                   -7453.1\n",
      "Cov. Estimator:            Unadjusted                                           \n",
      "                                        F-statistic:                      0.8474\n",
      "Entities:                         106   P-value                           0.3575\n",
      "Avg Obs:                       11.104   Distribution:                  F(1,1057)\n",
      "Min Obs:                       2.0000                                           \n",
      "Max Obs:                       14.000   F-statistic (robust):             0.8474\n",
      "                                        P-value                           0.3575\n",
      "Time periods:                      14   Distribution:                  F(1,1057)\n",
      "Avg Obs:                       84.071                                           \n",
      "Min Obs:                       44.000                                           \n",
      "Max Obs:                       105.00                                           \n",
      "                                                                                \n",
      "                              Parameter Estimates                               \n",
      "================================================================================\n",
      "              Parameter  Std. Err.     T-stat    P-value    Lower CI    Upper CI\n",
      "--------------------------------------------------------------------------------\n",
      "Intercept        99.486     5.1090     19.473     0.0000      89.461      109.51\n",
      "treated_post    -10.075     10.945    -0.9205     0.3575     -31.551      11.401\n",
      "================================================================================\n",
      "\n",
      "F-test for Poolability: 13.938\n",
      "P-value: 0.0000\n",
      "Distribution: F(118,1057)\n",
      "\n",
      "Included effects: Entity, Time\n"
     ]
    }
   ],
   "source": [
    "# rerun fixes effects regression on this subset\n",
    "\n",
    "from linearmodels.panel import PanelOLS\n",
    "\n",
    "df_model= df_postdoc.set_index(['ResponseId', 'year'])\n",
    "\n",
    "\n",
    "df_model['EntityEffects'] = df_model.index.get_level_values('ResponseId')\n",
    "df_model['TimeEffects'] = df_model.index.get_level_values('year')\n",
    "\n",
    "model = PanelOLS.from_formula(\n",
    "    'cited_by_count ~ 1 + treated_post + EntityEffects + TimeEffects',\n",
    "    data=df_model,\n",
    "    drop_absorbed=True\n",
    ")\n",
    "results = model.fit()\n",
    "print(results.summary)\n"
   ]
  },
  {
   "cell_type": "markdown",
   "id": "45414411",
   "metadata": {},
   "source": [
    "For postdocs, the model finds no significant effect of parental leave on citations after childbirth, once individual and year effects are accounted for"
   ]
  },
  {
   "cell_type": "code",
   "execution_count": 121,
   "id": "cb3fb55c",
   "metadata": {},
   "outputs": [
    {
     "name": "stdout",
     "output_type": "stream",
     "text": [
      "Number of unique main domains: 4\n",
      "['Social Sciences' 'Health Sciences' 'Physical Sciences' 'Life Sciences']\n"
     ]
    }
   ],
   "source": [
    "# let's see the possible main_domains available in this dataset\n",
    "\n",
    "unique_main_domains = df_long.drop_duplicates('ResponseId')['Discipline'].unique()\n",
    "print(f\"Number of unique main domains: {len(unique_main_domains)}\")\n",
    "print(unique_main_domains)"
   ]
  },
  {
   "cell_type": "code",
   "execution_count": 132,
   "id": "8a1197cd",
   "metadata": {},
   "outputs": [
    {
     "data": {
      "text/plain": [
       "9328"
      ]
     },
     "execution_count": 132,
     "metadata": {},
     "output_type": "execute_result"
    }
   ],
   "source": [
    "df_long.head()\n",
    "len(df_long)"
   ]
  },
  {
   "cell_type": "code",
   "execution_count": null,
   "id": "694a889f",
   "metadata": {},
   "outputs": [],
   "source": [
    "# 2 responseIds will be dropped due to unknown gender for now\n",
    "ids_to_drop = df_long[df_long[\"Gender\"] == \"Prefer not to answer\"][\"ResponseId\"].unique()\n",
    "df_long = df_long[~df_long[\"ResponseId\"].isin(ids_to_drop)].copy()"
   ]
  },
  {
   "cell_type": "code",
   "execution_count": 139,
   "id": "cff47803",
   "metadata": {},
   "outputs": [],
   "source": [
    "#  Restrict to One Academic Position Group \n",
    "df_tenured = df_long[df_long['AcademicPosition'].str.startswith('I am tenured')]\n",
    "df_tenure_track = df_long[df_long['AcademicPosition'].str.startswith('I am a tenure-track faculty')]\n",
    "df_untenured = df_long[df_long['AcademicPosition'].str.startswith('I am a non-tenure-track faculty')]\n",
    "df_other = df_long[~df_long['AcademicPosition'].str.startswith(('Other'))]\n",
    "df_postdoc = df_long[df_long['AcademicPosition'].str.startswith('I am a postdoc')]"
   ]
  },
  {
   "cell_type": "code",
   "execution_count": null,
   "id": "b1b36da7",
   "metadata": {},
   "outputs": [],
   "source": [
    "# let's try to do a plot like Morgan et al did it\n",
    "\n",
    "def subset_by_filters(df, position_filter, discipline, gender, took_leave):\n",
    "    df_pos = df[df['AcademicPosition'].str.startswith(position_filter)]\n",
    "    return df_pos[\n",
    "        (df_pos['Discipline'] == discipline) &\n",
    "        (df_pos['Gender'] == gender) &\n",
    "        (df_pos['TookLeave_child1'] == took_leave)\n",
    "    ]\n",
    "\n",
    "\n",
    "\n",
    "# Define the main domains\n",
    "disciplines = [\n",
    "    'Social Sciences',\n",
    "    'Health Sciences',\n",
    "    'Physical Sciences',\n",
    "    'Life Sciences'\n",
    "]\n",
    "\n",
    "# Gender and leave flags\n",
    "genders = ['Woman', 'Man']\n",
    "leave_statuses = [0, 1]\n",
    "\n",
    "# Academic position filter\n",
    "position_filter = 'I am tenured'\n"
   ]
  },
  {
   "cell_type": "code",
   "execution_count": 141,
   "id": "a2b3435c",
   "metadata": {},
   "outputs": [],
   "source": [
    "subset_dict = {}\n",
    "\n",
    "for discipline in disciplines:\n",
    "    for gender in genders:\n",
    "        for leave in leave_statuses:\n",
    "            discipline_key = discipline.lower().replace(\" \", \"_\")[:2]  # ss, he, ph, li\n",
    "            gender_key = gender.lower()  # woman / man\n",
    "            leave_key = 'leave' if leave == 1 else 'noleave'\n",
    "\n",
    "            key = f\"{discipline_key}_{gender_key}_{leave_key}\"\n",
    "\n",
    "            subset_dict[key] = subset_by_filters(\n",
    "                df=df_long,\n",
    "                position_filter=position_filter,\n",
    "                discipline=discipline,\n",
    "                gender=gender,\n",
    "                took_leave=leave\n",
    "            )\n"
   ]
  },
  {
   "cell_type": "code",
   "execution_count": 145,
   "id": "643ceacf",
   "metadata": {},
   "outputs": [
    {
     "name": "stdout",
     "output_type": "stream",
     "text": [
      "\n",
      "—— SO ——\n",
      "so_man_leave: 311 rows (24 unique researchers)\n",
      "so_man_noleave: 270 rows (21 unique researchers)\n",
      "so_woman_leave: 607 rows (47 unique researchers)\n",
      "so_woman_noleave: 115 rows (9 unique researchers)\n",
      "\n",
      "—— HE ——\n",
      "he_man_leave: 167 rows (12 unique researchers)\n",
      "he_man_noleave: 151 rows (11 unique researchers)\n",
      "he_woman_leave: 302 rows (22 unique researchers)\n",
      "he_woman_noleave: 79 rows (6 unique researchers)\n",
      "\n",
      "—— PH ——\n",
      "ph_man_leave: 819 rows (59 unique researchers)\n",
      "ph_man_noleave: 641 rows (46 unique researchers)\n",
      "ph_woman_leave: 856 rows (62 unique researchers)\n",
      "ph_woman_noleave: 56 rows (4 unique researchers)\n",
      "\n",
      "—— LI ——\n",
      "li_man_leave: 196 rows (14 unique researchers)\n",
      "li_man_noleave: 112 rows (8 unique researchers)\n",
      "li_woman_leave: 505 rows (37 unique researchers)\n",
      "li_woman_noleave: 14 rows (1 unique researchers)\n"
     ]
    }
   ],
   "source": [
    "from collections import defaultdict\n",
    "\n",
    "grouped_keys = defaultdict(list)\n",
    "for k in subset_dict:\n",
    "    prefix = k.split('_')[0]\n",
    "    grouped_keys[prefix].append(k)\n",
    "\n",
    "for domain in ['so', 'he', 'ph', 'li']:\n",
    "    print(f\"\\n—— {domain.upper()} ——\")\n",
    "    for k in sorted(grouped_keys[domain]):\n",
    "        df_group = subset_dict[k]\n",
    "        n_rows = len(df_group)\n",
    "        n_unique = df_group['ResponseId'].nunique()\n",
    "        print(f\"{k}: {n_rows} rows ({n_unique} unique researchers)\")\n"
   ]
  },
  {
   "cell_type": "code",
   "execution_count": 144,
   "id": "b413d3a6",
   "metadata": {},
   "outputs": [
    {
     "name": "stdout",
     "output_type": "stream",
     "text": [
      "Unique researchers: 1 / Total rows: 14\n"
     ]
    }
   ],
   "source": [
    "df_check = subset_dict['li_woman_noleave']\n",
    "n_unique_ids = df_check['ResponseId'].nunique()\n",
    "print(f\"Unique researchers: {n_unique_ids} / Total rows: {len(df_check)}\")\n"
   ]
  },
  {
   "cell_type": "markdown",
   "id": "423aaa92",
   "metadata": {},
   "source": [
    "### TWFE"
   ]
  },
  {
   "cell_type": "code",
   "execution_count": null,
   "id": "5abb6706",
   "metadata": {},
   "outputs": [],
   "source": [
    "from linearmodels.panel import PanelOLS\n",
    "import statsmodels.api as sm\n",
    "\n",
    "df_long = df_long.set_index(['ResponseId', 'year'])\n",
    "\n",
    "df_twfe = df_long[['cited_by_count', 'treated_post']].copy()\n",
    "df_twfe['EntityEffects'] = df_twfe.index.get_level_values('ResponseId')\n",
    "df_twfe['TimeEffects'] = df_twfe.index.get_level_values('year')"
   ]
  },
  {
   "cell_type": "code",
   "execution_count": 82,
   "id": "b9c1a914",
   "metadata": {},
   "outputs": [
    {
     "name": "stdout",
     "output_type": "stream",
     "text": [
      "                          PanelOLS Estimation Summary                           \n",
      "================================================================================\n",
      "Dep. Variable:         cited_by_count   R-squared:                     8.838e-06\n",
      "Estimator:                   PanelOLS   R-squared (Between):             -0.0001\n",
      "No. Observations:                9328   R-squared (Within):           -1.012e-05\n",
      "Date:                Tue, Jul 08 2025   R-squared (Overall):           7.973e-05\n",
      "Time:                        10:08:04   Log-likelihood                -7.407e+04\n",
      "Cov. Estimator:            Unadjusted                                           \n",
      "                                        F-statistic:                      0.0760\n",
      "Entities:                         719   P-value                           0.7828\n",
      "Avg Obs:                       12.974   Distribution:                  F(1,8595)\n",
      "Min Obs:                       2.0000                                           \n",
      "Max Obs:                       14.000   F-statistic (robust):             0.0760\n",
      "                                        P-value                           0.7828\n",
      "Time periods:                      14   Distribution:                  F(1,8595)\n",
      "Avg Obs:                       666.29                                           \n",
      "Min Obs:                       563.00                                           \n",
      "Max Obs:                       713.00                                           \n",
      "                                                                                \n",
      "                              Parameter Estimates                               \n",
      "================================================================================\n",
      "              Parameter  Std. Err.     T-stat    P-value    Lower CI    Upper CI\n",
      "--------------------------------------------------------------------------------\n",
      "Intercept        350.58     8.2940     42.269     0.0000      334.32      366.83\n",
      "treated_post    -5.9413     21.556    -0.2756     0.7828     -48.197      36.314\n",
      "================================================================================\n",
      "\n",
      "F-test for Poolability: 63.488\n",
      "P-value: 0.0000\n",
      "Distribution: F(731,8595)\n",
      "\n",
      "Included effects: Entity, Time\n"
     ]
    }
   ],
   "source": [
    "# fit the model\n",
    "\n",
    "model = PanelOLS.from_formula(\n",
    "    'cited_by_count ~ 1 + treated_post + EntityEffects + TimeEffects',\n",
    "    data=df_twfe,\n",
    "    drop_absorbed=True\n",
    ")\n",
    "\n",
    "results = model.fit()\n",
    "print(results.summary)\n"
   ]
  },
  {
   "cell_type": "code",
   "execution_count": 39,
   "id": "0152cb1b",
   "metadata": {},
   "outputs": [
    {
     "data": {
      "image/png": "[encoded data removed]",
      "text/plain": [
       "<Figure size 640x480 with 1 Axes>"
      ]
     },
     "metadata": {},
     "output_type": "display_data"
    }
   ],
   "source": [
    "import matplotlib.pyplot as plt\n",
    "import seaborn as sns\n",
    "\n",
    "df_long['treated'] = df_long.groupby('ResponseId')['treated_post'].transform('max')  # assign 1 if ever treated\n",
    "\n",
    "avg_outcomes = (\n",
    "    df_long\n",
    "    .groupby(['year', 'treated'])['cited_by_count']\n",
    "    .mean()\n",
    "    .reset_index()\n",
    ")\n",
    "\n",
    "sns.lineplot(data=avg_outcomes, x='year', y='cited_by_count', hue='treated')\n",
    "plt.title('Average Citations Over Time: Treated vs Control')\n",
    "plt.ylabel('Mean Citations')\n",
    "plt.show()\n"
   ]
  },
  {
   "cell_type": "markdown",
   "id": "0a3bd448",
   "metadata": {},
   "source": [
    "### Descriptive comparison"
   ]
  },
  {
   "cell_type": "code",
   "execution_count": 533,
   "id": "45d77422",
   "metadata": {},
   "outputs": [
    {
     "name": "stdout",
     "output_type": "stream",
     "text": [
      "525 took parental leave\n",
      "140 did not take parental leave\n"
     ]
    },
    {
     "data": {
      "text/html": [
       "<div>\n",
       "<style scoped>\n",
       "    .dataframe tbody tr th:only-of-type {\n",
       "        vertical-align: middle;\n",
       "    }\n",
       "\n",
       "    .dataframe tbody tr th {\n",
       "        vertical-align: top;\n",
       "    }\n",
       "\n",
       "    .dataframe thead th {\n",
       "        text-align: right;\n",
       "    }\n",
       "</style>\n",
       "<table border=\"1\" class=\"dataframe\">\n",
       "  <thead>\n",
       "    <tr style=\"text-align: right;\">\n",
       "      <th></th>\n",
       "      <th>count</th>\n",
       "      <th>mean</th>\n",
       "      <th>std</th>\n",
       "      <th>min</th>\n",
       "      <th>25%</th>\n",
       "      <th>50%</th>\n",
       "      <th>75%</th>\n",
       "      <th>max</th>\n",
       "    </tr>\n",
       "    <tr>\n",
       "      <th>TookLeave</th>\n",
       "      <th></th>\n",
       "      <th></th>\n",
       "      <th></th>\n",
       "      <th></th>\n",
       "      <th></th>\n",
       "      <th></th>\n",
       "      <th></th>\n",
       "      <th></th>\n",
       "    </tr>\n",
       "  </thead>\n",
       "  <tbody>\n",
       "    <tr>\n",
       "      <th>0</th>\n",
       "      <td>140.0</td>\n",
       "      <td>88.435714</td>\n",
       "      <td>141.954153</td>\n",
       "      <td>0.0</td>\n",
       "      <td>24.5</td>\n",
       "      <td>49.5</td>\n",
       "      <td>98.5</td>\n",
       "      <td>1100.0</td>\n",
       "    </tr>\n",
       "    <tr>\n",
       "      <th>1</th>\n",
       "      <td>525.0</td>\n",
       "      <td>53.825524</td>\n",
       "      <td>85.938876</td>\n",
       "      <td>0.4</td>\n",
       "      <td>17.0</td>\n",
       "      <td>30.0</td>\n",
       "      <td>59.0</td>\n",
       "      <td>1264.0</td>\n",
       "    </tr>\n",
       "  </tbody>\n",
       "</table>\n",
       "</div>"
      ],
      "text/plain": [
       "           count       mean         std  min   25%   50%   75%     max\n",
       "TookLeave                                                             \n",
       "0          140.0  88.435714  141.954153  0.0  24.5  49.5  98.5  1100.0\n",
       "1          525.0  53.825524   85.938876  0.4  17.0  30.0  59.0  1264.0"
      ]
     },
     "execution_count": 533,
     "metadata": {},
     "output_type": "execute_result"
    }
   ],
   "source": [
    "print(group_a.shape[0], \"took parental leave\")\n",
    "print(group_b.shape[0], \"did not take parental leave\")\n",
    "\n",
    "df_parents.groupby('TookLeave')['NumPublications'].describe()\n"
   ]
  },
  {
   "cell_type": "markdown",
   "id": "2a2e6e19",
   "metadata": {},
   "source": [
    "Do treatment and control group differ? (gender, position, country)"
   ]
  },
  {
   "cell_type": "code",
   "execution_count": null,
   "id": "df7031e6",
   "metadata": {},
   "outputs": [],
   "source": [
    "# Gender distribution\n",
    "pd.crosstab(df_parents['GenderIdentity'], df_parents['TookLeave'], normalize='columns')"
   ]
  },
  {
   "cell_type": "code",
   "execution_count": 467,
   "id": "649d33ae",
   "metadata": {},
   "outputs": [
    {
     "name": "stdout",
     "output_type": "stream",
     "text": [
      "4\n"
     ]
    }
   ],
   "source": [
    "count_prefer_not_to_answer = df_parents[df_parents['GenderIdentity'] == 'Prefer not to answer'].shape[0]\n",
    "print(count_prefer_not_to_answer)"
   ]
  },
  {
   "cell_type": "markdown",
   "id": "842114d2",
   "metadata": {},
   "source": [
    "Among those who did not take parental leave, 70% identified as men, while only 28% identified as women.\n",
    "In contrast, among those who did take parental leave, 67% were women, and only 33% were men."
   ]
  },
  {
   "cell_type": "code",
   "execution_count": null,
   "id": "3144b007",
   "metadata": {},
   "outputs": [],
   "source": [
    "# Academic position\n",
    "pd.crosstab(df_parents['AcademicPosition'], df_parents['TookLeave'], normalize='columns')"
   ]
  },
  {
   "cell_type": "code",
   "execution_count": null,
   "id": "23b92936",
   "metadata": {},
   "outputs": [],
   "source": [
    "unique_positions = df_parents['AcademicPosition'].unique()\n",
    "print(unique_positions)"
   ]
  },
  {
   "cell_type": "markdown",
   "id": "e26dd0b3",
   "metadata": {},
   "source": [
    "Among those who did not take parental leave, nearly 66% were tenured faculty, compared to 48% in the group that did take leave.\n",
    "Early-career positions (postdocs and non-tenure-track faculty) are more common among those who took parental leave."
   ]
  },
  {
   "cell_type": "markdown",
   "id": "8be062d8",
   "metadata": {},
   "source": [
    "I will drop country as a covariate and stick to stronger covariats gender and academic position. I am also dropping Non-Binary and prefer not to say people, as underreperesented."
   ]
  },
  {
   "cell_type": "code",
   "execution_count": 534,
   "id": "120c9263",
   "metadata": {},
   "outputs": [],
   "source": [
    "# Flag rare categories you want to exclude from matching\n",
    "df_parents['RareCategoryFlag'] = (\n",
    "    df_parents['GenderIdentity'].isin(['Non-binary person', 'Prefer not to answer'])\n",
    ")"
   ]
  },
  {
   "cell_type": "code",
   "execution_count": 535,
   "id": "66fa11ab",
   "metadata": {},
   "outputs": [],
   "source": [
    "# version without rare categories\n",
    "df_robust = df_parents[~df_parents['RareCategoryFlag']].copy()\n",
    "\n",
    "df_robust['id'] = df_robust.index  \n"
   ]
  },
  {
   "cell_type": "markdown",
   "id": "d275b9b2",
   "metadata": {},
   "source": [
    "## Matching"
   ]
  },
  {
   "cell_type": "code",
   "execution_count": 536,
   "id": "256cb108",
   "metadata": {},
   "outputs": [],
   "source": [
    "import pandas as pd\n",
    "import seaborn as sns\n",
    "import scipy.stats as stats\n",
    "from sklearn.neighbors import NearestNeighbors\n",
    "from sklearn.metrics import pairwise_distances\n",
    "import statsmodels.formula.api as smf\n",
    "import numpy as np\n",
    "import matplotlib.pyplot as plt\n",
    "from sklearn.linear_model import LogisticRegression"
   ]
  },
  {
   "cell_type": "markdown",
   "id": "76802839",
   "metadata": {},
   "source": [
    "##### testing Helic' Version"
   ]
  },
  {
   "cell_type": "code",
   "execution_count": 537,
   "id": "e977b934",
   "metadata": {},
   "outputs": [],
   "source": [
    "def smd(t, c):\n",
    "    mean_t = t.mean()\n",
    "    mean_c = c.mean()\n",
    "    std_pooled = ((t.var() + c.var()) / 2) ** 0.5\n",
    "    return (mean_t - mean_c) / std_pooled if std_pooled > 0 else 0"
   ]
  },
  {
   "cell_type": "code",
   "execution_count": 538,
   "id": "fe73496b",
   "metadata": {},
   "outputs": [],
   "source": [
    "def weighted_mean(var, weights):\n",
    "    return (var * weights).sum() / weights.sum()\n",
    "\n",
    "def weighted_smd(t, c, tw, cw):\n",
    "    mean_t = weighted_mean(t, tw)\n",
    "    mean_c = weighted_mean(c, cw)\n",
    "    var_t = np.average((t - mean_t) ** 2, weights=tw)\n",
    "    var_c = np.average((c - mean_c) ** 2, weights=cw)\n",
    "    std_pooled = ((var_t + var_c) / 2) ** 0.5\n",
    "\n",
    "    return (mean_t - mean_c) / std_pooled if std_pooled > 0 else 0"
   ]
  },
  {
   "cell_type": "code",
   "execution_count": 539,
   "id": "cbe8bb44",
   "metadata": {},
   "outputs": [],
   "source": [
    "covariates = ['GenderIdentity', 'AcademicPosition']"
   ]
  },
  {
   "cell_type": "code",
   "execution_count": 540,
   "id": "d71c812b",
   "metadata": {},
   "outputs": [
    {
     "data": {
      "text/html": [
       "<div>\n",
       "<style scoped>\n",
       "    .dataframe tbody tr th:only-of-type {\n",
       "        vertical-align: middle;\n",
       "    }\n",
       "\n",
       "    .dataframe tbody tr th {\n",
       "        vertical-align: top;\n",
       "    }\n",
       "\n",
       "    .dataframe thead th {\n",
       "        text-align: right;\n",
       "    }\n",
       "</style>\n",
       "<table border=\"1\" class=\"dataframe\">\n",
       "  <thead>\n",
       "    <tr style=\"text-align: right;\">\n",
       "      <th>TookLeave</th>\n",
       "      <th>0</th>\n",
       "      <th>1</th>\n",
       "    </tr>\n",
       "  </thead>\n",
       "  <tbody>\n",
       "    <tr>\n",
       "      <th>GenderIdentity_Man</th>\n",
       "      <td>0.715328</td>\n",
       "      <td>0.326960</td>\n",
       "    </tr>\n",
       "    <tr>\n",
       "      <th>GenderIdentity_Woman</th>\n",
       "      <td>0.284672</td>\n",
       "      <td>0.669216</td>\n",
       "    </tr>\n",
       "    <tr>\n",
       "      <th>AcademicPosition_I am a non-tenure-track faculty</th>\n",
       "      <td>0.051095</td>\n",
       "      <td>0.147228</td>\n",
       "    </tr>\n",
       "    <tr>\n",
       "      <th>AcademicPosition_I am a postdoc</th>\n",
       "      <td>0.109489</td>\n",
       "      <td>0.170172</td>\n",
       "    </tr>\n",
       "    <tr>\n",
       "      <th>AcademicPosition_I am a tenure-track faculty</th>\n",
       "      <td>0.065693</td>\n",
       "      <td>0.103250</td>\n",
       "    </tr>\n",
       "    <tr>\n",
       "      <th>AcademicPosition_I am tenured (please, indicate the year you received tenure, e.g., 2010)</th>\n",
       "      <td>0.649635</td>\n",
       "      <td>0.481836</td>\n",
       "    </tr>\n",
       "    <tr>\n",
       "      <th>AcademicPosition_Other (please, specify)</th>\n",
       "      <td>0.124088</td>\n",
       "      <td>0.097514</td>\n",
       "    </tr>\n",
       "  </tbody>\n",
       "</table>\n",
       "</div>"
      ],
      "text/plain": [
       "TookLeave                                                  0         1\n",
       "GenderIdentity_Man                                  0.715328  0.326960\n",
       "GenderIdentity_Woman                                0.284672  0.669216\n",
       "AcademicPosition_I am a non-tenure-track faculty    0.051095  0.147228\n",
       "AcademicPosition_I am a postdoc                     0.109489  0.170172\n",
       "AcademicPosition_I am a tenure-track faculty        0.065693  0.103250\n",
       "AcademicPosition_I am tenured (please, indicate...  0.649635  0.481836\n",
       "AcademicPosition_Other (please, specify)            0.124088  0.097514"
      ]
     },
     "execution_count": 540,
     "metadata": {},
     "output_type": "execute_result"
    }
   ],
   "source": [
    "ids = df_robust['id'].values  \n",
    "\n",
    "\n",
    "X_dummies = pd.get_dummies(df_robust[covariates], drop_first=False)\n",
    "\n",
    "# Add treatment indicator back\n",
    "X_dummies['TookLeave'] = df_robust['TookLeave'].values\n",
    "X_dummies['id'] = ids \n",
    "X_dummies.drop(columns='id').groupby('TookLeave').mean().T"
   ]
  },
  {
   "cell_type": "markdown",
   "id": "ac5dcc15",
   "metadata": {},
   "source": [
    "70% of the control group are men 32.5% of the treated group are men.\n",
    "28% of the control group are women, 67% of the treated group are women.\n",
    "5% of the control group are Non-tenure track faculty, 15% of treated group are Non-tenure track faculty. \n",
    "11% of the contrtol group are Postdoc, 17% of the treated group are Postdoc.\n",
    "6% of the control group are tenure track faculty, 10% of the treated group are tenure track faculty.\n",
    "66% of the control group are tenured, 48% of the treated are tenured.\n",
    "\n"
   ]
  },
  {
   "cell_type": "code",
   "execution_count": 541,
   "id": "a1d11711",
   "metadata": {},
   "outputs": [
    {
     "data": {
      "text/html": [
       "<div>\n",
       "<style scoped>\n",
       "    .dataframe tbody tr th:only-of-type {\n",
       "        vertical-align: middle;\n",
       "    }\n",
       "\n",
       "    .dataframe tbody tr th {\n",
       "        vertical-align: top;\n",
       "    }\n",
       "\n",
       "    .dataframe thead th {\n",
       "        text-align: right;\n",
       "    }\n",
       "</style>\n",
       "<table border=\"1\" class=\"dataframe\">\n",
       "  <thead>\n",
       "    <tr style=\"text-align: right;\">\n",
       "      <th>TookLeave</th>\n",
       "      <th>0</th>\n",
       "      <th>1</th>\n",
       "    </tr>\n",
       "  </thead>\n",
       "  <tbody>\n",
       "    <tr>\n",
       "      <th>GenderIdentity_Man</th>\n",
       "      <td>98</td>\n",
       "      <td>171</td>\n",
       "    </tr>\n",
       "    <tr>\n",
       "      <th>GenderIdentity_Woman</th>\n",
       "      <td>39</td>\n",
       "      <td>350</td>\n",
       "    </tr>\n",
       "    <tr>\n",
       "      <th>AcademicPosition_I am a non-tenure-track faculty</th>\n",
       "      <td>7</td>\n",
       "      <td>77</td>\n",
       "    </tr>\n",
       "    <tr>\n",
       "      <th>AcademicPosition_I am a postdoc</th>\n",
       "      <td>15</td>\n",
       "      <td>89</td>\n",
       "    </tr>\n",
       "    <tr>\n",
       "      <th>AcademicPosition_I am a tenure-track faculty</th>\n",
       "      <td>9</td>\n",
       "      <td>54</td>\n",
       "    </tr>\n",
       "    <tr>\n",
       "      <th>AcademicPosition_I am tenured (please, indicate the year you received tenure, e.g., 2010)</th>\n",
       "      <td>89</td>\n",
       "      <td>252</td>\n",
       "    </tr>\n",
       "    <tr>\n",
       "      <th>AcademicPosition_Other (please, specify)</th>\n",
       "      <td>17</td>\n",
       "      <td>51</td>\n",
       "    </tr>\n",
       "  </tbody>\n",
       "</table>\n",
       "</div>"
      ],
      "text/plain": [
       "TookLeave                                            0    1\n",
       "GenderIdentity_Man                                  98  171\n",
       "GenderIdentity_Woman                                39  350\n",
       "AcademicPosition_I am a non-tenure-track faculty     7   77\n",
       "AcademicPosition_I am a postdoc                     15   89\n",
       "AcademicPosition_I am a tenure-track faculty         9   54\n",
       "AcademicPosition_I am tenured (please, indicate...  89  252\n",
       "AcademicPosition_Other (please, specify)            17   51"
      ]
     },
     "execution_count": 541,
     "metadata": {},
     "output_type": "execute_result"
    }
   ],
   "source": [
    "X_dummies.drop(columns='id').groupby('TookLeave').sum().T\n"
   ]
  },
  {
   "cell_type": "markdown",
   "id": "8f078899",
   "metadata": {},
   "source": [
    "computing Standardized Mean Differences (SMD)  \n",
    "measuring imbalance between the two groups before matching or weighting  \n",
    "\n",
    "Interpreting Standardized Mean Differences (SMD)  \n",
    "\n",
    "< 0.10\t        Excellent balance — negligible difference\n",
    "0.10 – 0.25\t    Moderate imbalance — might affect causal estimates\n",
    "> 0.25\t        Severe imbalance — matching likely failed for this covariate\n"
   ]
  },
  {
   "cell_type": "code",
   "execution_count": 542,
   "id": "8494f66c",
   "metadata": {},
   "outputs": [],
   "source": [
    "covariates = [col for col in X_dummies.columns if col != 'TookLeave' and col != 'id']"
   ]
  },
  {
   "cell_type": "code",
   "execution_count": 543,
   "id": "94725c26",
   "metadata": {},
   "outputs": [
    {
     "name": "stdout",
     "output_type": "stream",
     "text": [
      "GenderIdentity_Man: -0.8419\n",
      "GenderIdentity_Woman: 0.8323\n",
      "AcademicPosition_I am a non-tenure-track faculty: 0.3253\n",
      "AcademicPosition_I am a postdoc: 0.1753\n",
      "AcademicPosition_I am a tenure-track faculty: 0.1351\n",
      "AcademicPosition_I am tenured (please, indicate the year you received tenure, e.g., 2010): -0.3427\n",
      "AcademicPosition_Other (please, specify): -0.0845\n"
     ]
    }
   ],
   "source": [
    "group_a = X_dummies[X_dummies['TookLeave'] == 1]\n",
    "group_b = X_dummies[X_dummies['TookLeave'] == 0]\n",
    "\n",
    "smd_results = {}\n",
    "\n",
    "for feature in covariates:\n",
    "    diff = smd(group_a[feature], group_b[feature])\n",
    "    print(f'{feature}: {diff:.4f}')"
   ]
  },
  {
   "cell_type": "markdown",
   "id": "10a78dd8",
   "metadata": {},
   "source": [
    "GenderIdentity_Man\t                                -0.8058\tControl group\tStrong underrepresentation of men in the treatment group  \n",
    "GenderIdentity_Woman\t                             0.8418\tTreatment group\t Strong overrepresentation of women in the treatment group  \n",
    "AcademicPosition_I am tenured\t                    -0.3588\tControl group\tMore tenured researchers in the control group  \n",
    "AcademicPosition_I am a non-tenure-track faculty\t 0.3285\tTreatment group\tMore non-tenure-track researchers in the treatment group  \n",
    "AcademicPosition_I am a postdoc\t                     0.1811\tTreatment group\tSlight overrepresentation of postdocs in the treatment group  \n",
    "AcademicPosition_I am a tenure-track faculty\t     0.1394\tTreatment group\tModerate imbalance, more tenure-track in treatment group  \n",
    "AcademicPosition_Other (please, specify)\t        -0.0713\tControl group"
   ]
  },
  {
   "cell_type": "markdown",
   "id": "22517daa",
   "metadata": {},
   "source": [
    "There is a strong gender imbalance: women are much more likely to take parental leave than men in this dataset.\n",
    "The control group has a disproportionately large share of tenured faculty, while the treatment group includes more non-tenured, non-tenure-track, and postdoc researchers.\n",
    "These imbalances reflect both career stage and gender-based selection into leave-taking.\n",
    "The differences are large enough that proceeding without matching would bias the estimated treatment effect."
   ]
  },
  {
   "cell_type": "code",
   "execution_count": 551,
   "id": "493fbf74",
   "metadata": {},
   "outputs": [
    {
     "data": {
      "image/png": "[encoded data removed]",
      "text/plain": [
       "<Figure size 1000x600 with 1 Axes>"
      ]
     },
     "metadata": {},
     "output_type": "display_data"
    }
   ],
   "source": [
    "import matplotlib.pyplot as plt\n",
    "\n",
    "# Get means of covariates by treatment group\n",
    "group_means = X_dummies.groupby('TookLeave')[covariates].mean().T\n",
    "\n",
    "# Plot\n",
    "group_means.plot(kind='barh', figsize=(10, 6))\n",
    "plt.axvline(x=0.5, color='gray', linestyle='--')\n",
    "plt.title('Covariate Proportions by Treatment Group')\n",
    "plt.xlabel('Proportion')\n",
    "plt.legend(title='Took Parental Leave')\n",
    "plt.tight_layout()\n",
    "plt.grid(True)\n",
    "plt.show()\n"
   ]
  },
  {
   "cell_type": "markdown",
   "id": "30b5534c",
   "metadata": {},
   "source": [
    "These results confirm the need for propensity score matching or weighting to correct for imbalances in gender and academic position before estimating the effect of parental leave on productivity."
   ]
  },
  {
   "cell_type": "code",
   "execution_count": 552,
   "id": "5cf32b02",
   "metadata": {},
   "outputs": [],
   "source": [
    "# create covariate matrix and treatment vector\n",
    "X = X_dummies.drop(columns=['TookLeave', 'id'])     # X: the covariates, i.e., all the features used to predict the treatment.\n",
    "y = X_dummies['TookLeave']                          # y: the treatment indicator, i.e., the column we're trying to model ('TookLeave')."
   ]
  },
  {
   "cell_type": "code",
   "execution_count": 553,
   "id": "41c924d6",
   "metadata": {},
   "outputs": [],
   "source": [
    "# estimate propensity scores \n",
    "ps_model = LogisticRegression(max_iter=1000)\n",
    "ps_model.fit(X, y)\n",
    "X_dummies['propensity_score'] = ps_model.predict_proba(X)[:, 1]\n"
   ]
  },
  {
   "cell_type": "markdown",
   "id": "3efb73e9",
   "metadata": {},
   "source": [
    "Logit Regression fits a model estimating the probability of treatment (TookLeave = 1) as a function of covariates. Predict_proba(X)[:,1] gives the propensity score; the probability of being in the treated group, for each observation.\n",
    "The propensity score is the probability that a person receives the treatment (e.g. took parental leave) given their observed characteristics (like gender and academic position). The logistic regression looks at patterns in my covariates (gender and academic position) and learns how likely someone is to have taken parental leave — based purely on those characteristics.\n",
    "Both covariates are included simultaneously in the logistic regression, but:\n",
    "They’re not treated “equally” in importance, because the model learns weights for each one based on how predictive it is. So both covariates contribute, but their influence on the score depends on how strongly they help explain the treatment decision in the data."
   ]
  },
  {
   "cell_type": "markdown",
   "id": "f922ce08",
   "metadata": {},
   "source": [
    "The output of the logistic regression is the propensity score:\n",
    "Each person gets a number between 0 and 1, representing how likely they were to take leave based on their covariates."
   ]
  },
  {
   "cell_type": "code",
   "execution_count": 554,
   "id": "7ba1adec",
   "metadata": {},
   "outputs": [
    {
     "data": {
      "image/png": "[encoded data removed]",
      "text/plain": [
       "<Figure size 640x480 with 1 Axes>"
      ]
     },
     "metadata": {},
     "output_type": "display_data"
    }
   ],
   "source": [
    "import seaborn as sns\n",
    "\n",
    "sns.histplot(data=X_dummies, x='propensity_score', hue='TookLeave', kde=True, bins=30, alpha=0.5)\n",
    "plt.title(\"Propensity Score Distribution by Treatment Group\")\n",
    "plt.xlabel(\"Propensity Score\")\n",
    "plt.ylabel(\"Count\")\n",
    "plt.grid(True)\n",
    "plt.show()\n"
   ]
  },
  {
   "cell_type": "markdown",
   "id": "45e1c4ee",
   "metadata": {},
   "source": [
    "## Matching with Replacement"
   ]
  },
  {
   "cell_type": "markdown",
   "id": "8630df8a",
   "metadata": {},
   "source": [
    "Now we pair each treated person (someone who took leave) with a control person (someone who didn’t), based on having similar propensity scores. Due to imbalance of treated and controk group I am reusing the same control person multiple times if they're the best match for several treated people."
   ]
  },
  {
   "cell_type": "code",
   "execution_count": 555,
   "id": "94e22f24",
   "metadata": {},
   "outputs": [],
   "source": [
    "treated = X_dummies[X_dummies['TookLeave'] == 1].copy()\n",
    "control = X_dummies[X_dummies['TookLeave'] == 0].copy()\n",
    "\n",
    "# Fit nearest neighbor matcher on propensity scores of controls\n",
    "nn = NearestNeighbors(n_neighbors=1)\n",
    "nn.fit(control[['propensity_score']])\n",
    "\n",
    "# Find nearest control for each treated person\n",
    "distances, indices = nn.kneighbors(treated[['propensity_score']])\n",
    "\n",
    "# Fetch matched controls (with replacement)\n",
    "matched_control = control.iloc[indices.flatten()].copy()\n",
    "matched_control['match_id'] = treated['id'].values\n",
    "treated['match_id'] = treated['id'].values\n",
    "\n",
    "# Combine into one matched DataFrame\n",
    "matched_df = pd.concat([treated, matched_control], axis=0).reset_index(drop=True)"
   ]
  },
  {
   "cell_type": "markdown",
   "id": "0e9060fc",
   "metadata": {},
   "source": [
    "Verifying that the matched treated and control groups are now similar in terms of covariates."
   ]
  },
  {
   "cell_type": "code",
   "execution_count": 556,
   "id": "cd074e6f",
   "metadata": {},
   "outputs": [],
   "source": [
    "features = [col for col in X_dummies.columns if col not in ['TookLeave', 'propensity_score', 'id']]"
   ]
  },
  {
   "cell_type": "code",
   "execution_count": 557,
   "id": "c0fa48fb",
   "metadata": {},
   "outputs": [
    {
     "name": "stdout",
     "output_type": "stream",
     "text": [
      "GenderIdentity_Man: -0.0081\n",
      "GenderIdentity_Woman: 0.0000\n",
      "AcademicPosition_I am a non-tenure-track faculty: -0.0107\n",
      "AcademicPosition_I am a postdoc: 0.0000\n",
      "AcademicPosition_I am a tenure-track faculty: 0.0000\n",
      "AcademicPosition_I am tenured (please, indicate the year you received tenure, e.g., 2010): 0.0076\n",
      "AcademicPosition_Other (please, specify): 0.0000\n"
     ]
    }
   ],
   "source": [
    "matched_treated = matched_df[matched_df['TookLeave'] == 1]\n",
    "matched_control = matched_df[matched_df['TookLeave'] == 0]\n",
    "\n",
    "group_means_matched = matched_df.groupby('TookLeave')[features].mean().T\n",
    "\n",
    "\n",
    "for feature in features:  # your list of covariates\n",
    "    smd_val = smd(matched_treated[feature], matched_control[feature])\n",
    "    print(f'{feature}: {smd_val:.4f}')\n"
   ]
  },
  {
   "cell_type": "markdown",
   "id": "d6e93aeb",
   "metadata": {},
   "source": [
    "All SMDs are well below 0.10 now. Many are zero or near-zero indicating matched treated and control greoups are very similar in terms of gender and academic position. "
   ]
  },
  {
   "cell_type": "code",
   "execution_count": 558,
   "id": "c654c068",
   "metadata": {},
   "outputs": [
    {
     "data": {
      "image/png": "[encoded data removed]",
      "text/plain": [
       "<Figure size 1000x600 with 1 Axes>"
      ]
     },
     "metadata": {},
     "output_type": "display_data"
    }
   ],
   "source": [
    "group_means_matched.plot(kind='barh', figsize=(10, 6))\n",
    "plt.axvline(x=0.5, color='gray', linestyle='--')\n",
    "plt.title('Covariate Proportions by Treatment Group (After Matching)')\n",
    "plt.xlabel('Proportion')\n",
    "plt.legend(title='Took Parental Leave')\n",
    "plt.grid(True)\n",
    "plt.tight_layout()\n",
    "plt.show()"
   ]
  },
  {
   "cell_type": "markdown",
   "id": "9bbc33a8",
   "metadata": {},
   "source": [
    "### Computing Average Treatment effect on Treated (ATT)"
   ]
  },
  {
   "cell_type": "markdown",
   "id": "fba4ccbb",
   "metadata": {},
   "source": [
    "I am doing this using the matched dataset. It will tell us: How much productivity (publications) changes, on average, for those who took parental leave — compared to matched individuals who didn’t."
   ]
  },
  {
   "cell_type": "code",
   "execution_count": 559,
   "id": "3a73a9e6",
   "metadata": {},
   "outputs": [
    {
     "name": "stderr",
     "output_type": "stream",
     "text": [
      "/var/folders/4n/x6xrnlyj6nngzc77qzc7h4f40000gn/T/ipykernel_1170/643999285.py:1: SettingWithCopyWarning: \n",
      "A value is trying to be set on a copy of a slice from a DataFrame.\n",
      "Try using .loc[row_indexer,col_indexer] = value instead\n",
      "\n",
      "See the caveats in the documentation: https://pandas.pydata.org/pandas-docs/stable/user_guide/indexing.html#returning-a-view-versus-a-copy\n",
      "  matched_control['NumPublications'] = matched_control['id'].map(df_robust.set_index('id')['NumPublications'])\n"
     ]
    }
   ],
   "source": [
    "matched_control['NumPublications'] = matched_control['id'].map(df_robust.set_index('id')['NumPublications'])\n",
    "treated['NumPublications'] = treated['id'].map(df_robust.set_index('id')['NumPublications'])\n",
    "matched_df = pd.concat([treated, matched_control], axis=0).reset_index(drop=True)"
   ]
  },
  {
   "cell_type": "code",
   "execution_count": 560,
   "id": "cfe975d5",
   "metadata": {},
   "outputs": [
    {
     "name": "stdout",
     "output_type": "stream",
     "text": [
      "ATT (Effect of Taking Leave on Publications): -14.49 publications\n"
     ]
    }
   ],
   "source": [
    "treated_prod = matched_df[matched_df['TookLeave'] == 1]['NumPublications']\n",
    "control_prod = matched_df[matched_df['TookLeave'] == 0]['NumPublications']\n",
    "\n",
    "att = treated_prod.mean() - control_prod.mean()\n",
    "print(f\"ATT (Effect of Taking Leave on Publications): {att:.2f} publications\")\n"
   ]
  },
  {
   "cell_type": "markdown",
   "id": "2000a030",
   "metadata": {},
   "source": [
    "The result indicates that those who took leave published about 14.5 fewer papers on average.\n",
    "That difference is not due to gender or job title — it's the effect of the leave itself, at least this is what I am trying to reduce, close the backdoor path influences. If two people are similar in their gender and academic rank, but one took leave and the other didn’t, any difference in their publication count is more likely to reflect the causal effect of leave, not background factors."
   ]
  },
  {
   "cell_type": "code",
   "execution_count": null,
   "id": "8f27315e",
   "metadata": {},
   "outputs": [
    {
     "data": {
      "text/html": [
       "<div>\n",
       "<style scoped>\n",
       "    .dataframe tbody tr th:only-of-type {\n",
       "        vertical-align: middle;\n",
       "    }\n",
       "\n",
       "    .dataframe tbody tr th {\n",
       "        vertical-align: top;\n",
       "    }\n",
       "\n",
       "    .dataframe thead th {\n",
       "        text-align: right;\n",
       "    }\n",
       "</style>\n",
       "<table border=\"1\" class=\"dataframe\">\n",
       "  <thead>\n",
       "    <tr style=\"text-align: right;\">\n",
       "      <th></th>\n",
       "      <th>count</th>\n",
       "      <th>mean</th>\n",
       "      <th>std</th>\n",
       "      <th>min</th>\n",
       "      <th>25%</th>\n",
       "      <th>50%</th>\n",
       "      <th>75%</th>\n",
       "      <th>max</th>\n",
       "    </tr>\n",
       "    <tr>\n",
       "      <th>TookLeave</th>\n",
       "      <th></th>\n",
       "      <th></th>\n",
       "      <th></th>\n",
       "      <th></th>\n",
       "      <th></th>\n",
       "      <th></th>\n",
       "      <th></th>\n",
       "      <th></th>\n",
       "    </tr>\n",
       "  </thead>\n",
       "  <tbody>\n",
       "    <tr>\n",
       "      <th>0</th>\n",
       "      <td>523.0</td>\n",
       "      <td>68.420650</td>\n",
       "      <td>78.355847</td>\n",
       "      <td>13.0</td>\n",
       "      <td>25.0</td>\n",
       "      <td>35.0</td>\n",
       "      <td>50.0</td>\n",
       "      <td>300.0</td>\n",
       "    </tr>\n",
       "    <tr>\n",
       "      <th>1</th>\n",
       "      <td>523.0</td>\n",
       "      <td>53.933843</td>\n",
       "      <td>86.072073</td>\n",
       "      <td>0.4</td>\n",
       "      <td>17.0</td>\n",
       "      <td>30.0</td>\n",
       "      <td>59.5</td>\n",
       "      <td>1264.0</td>\n",
       "    </tr>\n",
       "  </tbody>\n",
       "</table>\n",
       "</div>"
      ],
      "text/plain": [
       "           count       mean        std   min   25%   50%   75%     max\n",
       "TookLeave                                                             \n",
       "0          523.0  68.420650  78.355847  13.0  25.0  35.0  50.0   300.0\n",
       "1          523.0  53.933843  86.072073   0.4  17.0  30.0  59.5  1264.0"
      ]
     },
     "execution_count": 561,
     "metadata": {},
     "output_type": "execute_result"
    }
   ],
   "source": [
    "matched_df.groupby('TookLeave')['NumPublications'].describe()"
   ]
  },
  {
   "cell_type": "code",
   "execution_count": null,
   "id": "184fdcfb",
   "metadata": {},
   "outputs": [
    {
     "data": {
      "text/plain": [
       "id\n",
       "17      164\n",
       "333      86\n",
       "1149     59\n",
       "541      57\n",
       "870      37\n",
       "591      33\n",
       "321      32\n",
       "1239     20\n",
       "13       18\n",
       "14       17\n",
       "Name: count, dtype: int64"
      ]
     },
     "execution_count": 562,
     "metadata": {},
     "output_type": "execute_result"
    }
   ],
   "source": [
    "# how often was an individual reused as a match?\n",
    "matched_df[matched_df['TookLeave'] == 0]['id'].value_counts()"
   ]
  },
  {
   "cell_type": "markdown",
   "id": "011e27cb",
   "metadata": {},
   "source": [
    "### Plot dist of pub counts"
   ]
  },
  {
   "cell_type": "code",
   "execution_count": 564,
   "id": "e3f26730",
   "metadata": {},
   "outputs": [
    {
     "data": {
      "image/png": "[encoded data removed]",
      "text/plain": [
       "<Figure size 1000x600 with 1 Axes>"
      ]
     },
     "metadata": {},
     "output_type": "display_data"
    }
   ],
   "source": [
    "plt.figure(figsize=(10, 6))\n",
    "sns.kdeplot(data=matched_df, x='NumPublications', hue='TookLeave', fill=True, common_norm=False)\n",
    "plt.title('Distribution of Publications: Treated vs Control')\n",
    "plt.xlabel('Number of Publications')\n",
    "plt.ylabel('Density')\n",
    "\n",
    "# Add vertical lines for actual means\n",
    "plt.axvline(68.42, color='orange', linestyle='--', linewidth=2, label='Control Mean: 68.4')\n",
    "plt.axvline(53.93, color='blue', linestyle='--', linewidth=2, label='Treated Mean: 53.9')\n",
    "\n",
    "plt.legend(title='Took Leave')\n",
    "plt.grid(True)\n",
    "plt.tight_layout()\n",
    "plt.show()\n"
   ]
  },
  {
   "cell_type": "code",
   "execution_count": 565,
   "id": "3b151077",
   "metadata": {},
   "outputs": [],
   "source": [
    "# Compute a shared cutoff at 99th percentile (combined distribution)\n",
    "pub_cutoff = matched_df['NumPublications'].quantile(0.99)\n",
    "\n",
    "# Filter dataset to exclude extreme outliers\n",
    "matched_df_trimmed = matched_df[matched_df['NumPublications'] <= pub_cutoff]\n"
   ]
  },
  {
   "cell_type": "code",
   "execution_count": 566,
   "id": "94436fc5",
   "metadata": {},
   "outputs": [
    {
     "data": {
      "image/png": "[encoded data removed]",
      "text/plain": [
       "<Figure size 1000x600 with 1 Axes>"
      ]
     },
     "metadata": {},
     "output_type": "display_data"
    }
   ],
   "source": [
    "treated_mean = matched_df_trimmed[matched_df_trimmed['TookLeave'] == 1]['NumPublications'].mean()\n",
    "control_mean = matched_df_trimmed[matched_df_trimmed['TookLeave'] == 0]['NumPublications'].mean()\n",
    "\n",
    "plt.figure(figsize=(10, 6))\n",
    "sns.kdeplot(data=matched_df_trimmed, x='NumPublications', hue='TookLeave', fill=True, common_norm=False)\n",
    "plt.title('Distribution of Publications (Trimmed at 99th Percentile)')\n",
    "plt.xlabel('Number of Publications')\n",
    "plt.ylabel('Density')\n",
    "\n",
    "# Plot updated means\n",
    "plt.axvline(control_mean, color='orange', linestyle='--', linewidth=2, label=f'Control Mean: {control_mean:.1f}')\n",
    "plt.axvline(treated_mean, color='blue', linestyle='--', linewidth=2, label=f'Treated Mean: {treated_mean:.1f}')\n",
    "\n",
    "plt.legend(title='Took Leave')\n",
    "plt.grid(True)\n",
    "plt.tight_layout()\n",
    "plt.show()\n"
   ]
  },
  {
   "cell_type": "code",
   "execution_count": 567,
   "id": "12b30137",
   "metadata": {},
   "outputs": [
    {
     "data": {
      "text/plain": [
       "<Figure size 640x480 with 0 Axes>"
      ]
     },
     "metadata": {},
     "output_type": "display_data"
    }
   ],
   "source": [
    "plt.savefig(\"kde_trimmed_plot.pdf\", format=\"pdf\")\n",
    "\n",
    "plt.show()"
   ]
  },
  {
   "cell_type": "markdown",
   "id": "793c31e1",
   "metadata": {},
   "source": [
    "Shows how publication counts are distributed for treated vs. control groups.\n",
    "Treated curve (leave takers) is shifted left, suggesting fewer publications.\n",
    "Some high-publication outliers (long tail) are visible in the control group."
   ]
  },
  {
   "cell_type": "markdown",
   "id": "fc42b391",
   "metadata": {},
   "source": [
    "Heterogeneity by gender & academic rank"
   ]
  },
  {
   "cell_type": "code",
   "execution_count": 497,
   "id": "0c1559d6",
   "metadata": {},
   "outputs": [],
   "source": [
    "matched_df = matched_df.merge(df_robust[['id', 'GenderIdentity', 'AcademicPosition']], on='id', how='left')\n"
   ]
  },
  {
   "cell_type": "code",
   "execution_count": 502,
   "id": "d2875d82",
   "metadata": {},
   "outputs": [
    {
     "data": {
      "image/png": "[encoded data removed]",
      "text/plain": [
       "<Figure size 700x400 with 1 Axes>"
      ]
     },
     "metadata": {},
     "output_type": "display_data"
    },
    {
     "data": {
      "image/png": "[encoded data removed]",
      "text/plain": [
       "<Figure size 700x400 with 1 Axes>"
      ]
     },
     "metadata": {},
     "output_type": "display_data"
    }
   ],
   "source": [
    "for group in ['GenderIdentity', 'AcademicPosition']:\n",
    "    subgroup_means = (\n",
    "        matched_df.groupby(['TookLeave', group])['NumPublications']\n",
    "        .mean()\n",
    "        .unstack(0)\n",
    "        .dropna()\n",
    "    )\n",
    "    att = subgroup_means[1] - subgroup_means[0]\n",
    "    att.plot(kind='barh', color='#909580', title=f'ATT by {group}', figsize=(7, 4))\n",
    "    plt.axvline(0, color='grey', linestyle='--')\n",
    "    plt.tight_layout()\n",
    "    plt.show()\n",
    "\n"
   ]
  },
  {
   "cell_type": "markdown",
   "id": "80ede870",
   "metadata": {},
   "source": [
    "Shows difference in means (treated - control) within each subgroup.\n",
    "Useful for visualizing heterogeneity in treatment effects."
   ]
  },
  {
   "cell_type": "markdown",
   "id": "7b23b303",
   "metadata": {},
   "source": [
    "#### ATT by GenderIdentity  \n",
    "\n",
    "Women who took leave published ~25 fewer papers on average than similar women who didn’t.\n",
    "Men who took leave show a small positive ATT — they may have published slightly more than matched men who didn’t take leave (though you’d want to check sample size; might be noisy).\n",
    "This suggests that leave has a much more negative effect on women’s productivity than men’s — possibly due to unequal caregiving roles, time off, or reentry support."
   ]
  },
  {
   "cell_type": "markdown",
   "id": "86f8af3f",
   "metadata": {},
   "source": [
    "#### ATT by AcademicPosition  \n",
    "\n",
    "The effect of leave is most negative for tenure-track faculty and “Other” (which could be precarious or undefined roles).\n",
    "For tenured faculty, the penalty is smaller — they may have more buffer to absorb leave.\n",
    "Postdocs and non-tenure-track faculty show varied effects — still negative but not uniformly large."
   ]
  },
  {
   "cell_type": "code",
   "execution_count": 508,
   "id": "89c87de1",
   "metadata": {},
   "outputs": [
    {
     "data": {
      "image/png": "[encoded data removed]",
      "text/plain": [
       "<Figure size 900x500 with 1 Axes>"
      ]
     },
     "metadata": {},
     "output_type": "display_data"
    },
    {
     "data": {
      "image/png": "[encoded data removed]",
      "text/plain": [
       "<Figure size 900x500 with 1 Axes>"
      ]
     },
     "metadata": {},
     "output_type": "display_data"
    }
   ],
   "source": [
    "import seaborn as sns\n",
    "import matplotlib.pyplot as plt\n",
    "\n",
    "custom_palette = {\n",
    "    'Treated': '#ADD8E6',\n",
    "    'Control': '#f4cb9f'\n",
    "}\n",
    "\n",
    "for group in ['GenderIdentity', 'AcademicPosition']:\n",
    "    avg_prod = (\n",
    "        matched_df.groupby([group, 'TookLeave'])['NumPublications']\n",
    "        .mean()\n",
    "        .reset_index()\n",
    "    )\n",
    "    \n",
    "    # Convert TookLeave to label for clarity\n",
    "    avg_prod['LeaveStatus'] = avg_prod['TookLeave'].map({0: 'Control', 1: 'Treated'})\n",
    "\n",
    "    plt.figure(figsize=(9, 5))\n",
    "    sns.barplot(\n",
    "        data=avg_prod,\n",
    "        x='NumPublications',\n",
    "        y=group,\n",
    "        hue='LeaveStatus',\n",
    "        palette=custom_palette\n",
    "    )\n",
    "    plt.title(f'Productivity by {group} and Leave Status')\n",
    "    plt.xlabel('Average Number of Publications')\n",
    "    plt.tight_layout()\n",
    "    plt.axvline(0, color='grey', linestyle='--')\n",
    "    plt.show()\n"
   ]
  },
  {
   "cell_type": "markdown",
   "id": "54e884f3",
   "metadata": {},
   "source": [
    "Shows groupwise means for treated vs. control, side by side.\n",
    "Same data source as above, but the focus is on the magnitude of productivity, not just the difference."
   ]
  },
  {
   "cell_type": "markdown",
   "id": "e23996c0",
   "metadata": {},
   "source": [
    "### Bootstrap"
   ]
  },
  {
   "cell_type": "markdown",
   "id": "579e0765",
   "metadata": {},
   "source": [
    "Let's Bootstrap the ATT, this will give me a confidence interval, telling me sth about the stability of my estimate."
   ]
  },
  {
   "cell_type": "code",
   "execution_count": 512,
   "id": "f408867b",
   "metadata": {},
   "outputs": [
    {
     "name": "stdout",
     "output_type": "stream",
     "text": [
      "Bootstrapped ATT: -14.65 publications\n",
      "Bootstrapped ATT 95% CI: [-24.09, -4.74]\n"
     ]
    }
   ],
   "source": [
    "n_iterations = 1000\n",
    "att_samples = []\n",
    "\n",
    "for _ in range(n_iterations):\n",
    "    # Sample with replacement from matched_df\n",
    "    boot_sample = matched_df.sample(n=len(matched_df), replace=True)\n",
    "\n",
    "    treated = boot_sample[boot_sample['TookLeave'] == 1]['NumPublications']\n",
    "    control = boot_sample[boot_sample['TookLeave'] == 0]['NumPublications']\n",
    "\n",
    "    att_boot = treated.mean() - control.mean()\n",
    "    att_samples.append(att_boot)\n",
    "\n",
    "# Compute 95% CI\n",
    "mean_att = np.mean(att_samples)\n",
    "lower, upper = np.percentile(att_samples, [2.5, 97.5])\n",
    "print(f\"Bootstrapped ATT: {mean_att:.2f} publications\")\n",
    "print(f\"Bootstrapped ATT 95% CI: [{lower:.2f}, {upper:.2f}]\")"
   ]
  },
  {
   "cell_type": "markdown",
   "id": "276575b3",
   "metadata": {},
   "source": [
    "Mean ATT ≈ –14.65\n",
    "This means those who took parental leave published about 14 fewer papers on average than their matched counterparts who didn’t take leave."
   ]
  },
  {
   "cell_type": "code",
   "execution_count": 513,
   "id": "dfa5fc4d",
   "metadata": {},
   "outputs": [
    {
     "data": {
      "image/png": "[encoded data removed]",
      "text/plain": [
       "<Figure size 640x480 with 1 Axes>"
      ]
     },
     "metadata": {},
     "output_type": "display_data"
    }
   ],
   "source": [
    "plt.hist(att_samples, bins=30, color='#ADD8E6', edgecolor='black')\n",
    "plt.axvline(x=np.mean(att_samples), color='red', linestyle='--', label='Mean ATT')\n",
    "plt.axvline(x=lower, color='grey', linestyle='--', label='95% CI')\n",
    "plt.axvline(x=upper, color='grey', linestyle='--')\n",
    "plt.title('Bootstrap Distribution of ATT')\n",
    "plt.xlabel('ATT (Publications)')\n",
    "plt.ylabel('Frequency')\n",
    "plt.legend()\n",
    "plt.tight_layout()\n",
    "plt.show()"
   ]
  },
  {
   "cell_type": "code",
   "execution_count": 514,
   "id": "47a7dc6d",
   "metadata": {},
   "outputs": [
    {
     "name": "stdout",
     "output_type": "stream",
     "text": [
      "Bootstrapped ATT: -14.47 publications\n",
      "Bootstrapped ATT 95% CI: [-24.05, -4.31]\n"
     ]
    }
   ],
   "source": [
    "n_iterations = 50000\n",
    "att_samples = []\n",
    "\n",
    "for _ in range(n_iterations):\n",
    "    # Sample with replacement from matched_df\n",
    "    boot_sample = matched_df.sample(n=len(matched_df), replace=True)\n",
    "\n",
    "    treated = boot_sample[boot_sample['TookLeave'] == 1]['NumPublications']\n",
    "    control = boot_sample[boot_sample['TookLeave'] == 0]['NumPublications']\n",
    "\n",
    "    att_boot = treated.mean() - control.mean()\n",
    "    att_samples.append(att_boot)\n",
    "\n",
    "# Compute 95% CI\n",
    "mean_att = np.mean(att_samples)\n",
    "lower, upper = np.percentile(att_samples, [2.5, 97.5])\n",
    "print(f\"Bootstrapped ATT: {mean_att:.2f} publications\")\n",
    "print(f\"Bootstrapped ATT 95% CI: [{lower:.2f}, {upper:.2f}]\")"
   ]
  },
  {
   "cell_type": "code",
   "execution_count": 515,
   "id": "ccec4be9",
   "metadata": {},
   "outputs": [
    {
     "name": "stdout",
     "output_type": "stream",
     "text": [
      "Bootstrap-based p-value: 0.0064\n"
     ]
    }
   ],
   "source": [
    "p_val = np.mean(np.array(att_samples) >= 0)\n",
    "p_val = min(p_val, 1 - p_val) * 2  # two-sided\n",
    "\n",
    "print(f\"Bootstrap-based p-value: {p_val:.4f}\")\n"
   ]
  },
  {
   "cell_type": "markdown",
   "id": "f3c30bc5",
   "metadata": {},
   "source": [
    "Mean ATT: –14.47\n",
    "→ On average, faculty who took parental leave published ~14.5 fewer papers than matched peers who did not take leave.\n",
    "95% Confidence Interval: [–24.05, –4.31]\n",
    "→ We are 95% confident that the true effect lies between a reduction of 24 and 4 publications.\n",
    "→ Zero is not in this range → this effect is statistically significant.\n",
    "Bootstrap-based p-value: 0.0064\n",
    "→ This is less than 0.01, meaning the result is significant at the 1% level.\n",
    "→ It’s unlikely (less than 1% chance) that such a large difference occurred due to random sampling variation, if the true effect were zero."
   ]
  },
  {
   "cell_type": "markdown",
   "id": "b2821406",
   "metadata": {},
   "source": [
    "Stratified Bootstrap by gender and position\n",
    "\n",
    "This helps assess whether the effect of parental leave is stronger for certain subgroups — e.g., more negative for tenure-track women."
   ]
  },
  {
   "cell_type": "code",
   "execution_count": 516,
   "id": "be8a1874",
   "metadata": {},
   "outputs": [
    {
     "name": "stdout",
     "output_type": "stream",
     "text": [
      "\n",
      "Stratified bootstrap ATT by GenderIdentity\n",
      "  Man: ATT = 4.28, 95% CI = [-17.86, 28.30], p = 0.7348\n",
      "  Woman: ATT = -24.05, 95% CI = [-33.42, -14.75], p = 0.0000\n",
      "\n",
      "Stratified bootstrap ATT by AcademicPosition\n",
      "  I am tenured (please, indicate the year you received tenure, e.g., 2010): ATT = 34.23, 95% CI = [24.54, 44.59], p = 0.0000\n",
      "  I am a postdoc: ATT = 6.41, 95% CI = [-4.47, 23.44], p = 0.4340\n",
      "  I am a non-tenure-track faculty: ATT = -47.69, 95% CI = [-85.73, -2.46], p = 0.0388\n",
      "  I am a tenure-track faculty: ATT = -127.02, 95% CI = [-148.10, -105.43], p = 0.0000\n",
      "  Other (please, specify): ATT = -121.10, 95% CI = [-148.96, -92.26], p = 0.0000\n"
     ]
    }
   ],
   "source": [
    "# Define subgroups to stratify by\n",
    "subgroups = ['GenderIdentity', 'AcademicPosition']\n",
    "n_iterations = 5000  # Use fewer iterations for speed (adjust as needed)\n",
    "\n",
    "for group in subgroups:\n",
    "    print(f\"\\nStratified bootstrap ATT by {group}\")\n",
    "    for level in matched_df[group].dropna().unique():\n",
    "        subgroup_df = matched_df[matched_df[group] == level]\n",
    "\n",
    "        if subgroup_df['TookLeave'].nunique() < 2:\n",
    "            print(f\"  Skipping {level}: not enough variation in treatment.\")\n",
    "            continue\n",
    "\n",
    "        att_samples = []\n",
    "        for _ in range(n_iterations):\n",
    "            boot_sample = subgroup_df.sample(n=len(subgroup_df), replace=True)\n",
    "            treated = boot_sample[boot_sample['TookLeave'] == 1]['NumPublications']\n",
    "            control = boot_sample[boot_sample['TookLeave'] == 0]['NumPublications']\n",
    "            att_boot = treated.mean() - control.mean()\n",
    "            att_samples.append(att_boot)\n",
    "\n",
    "        mean_att = np.mean(att_samples)\n",
    "        lower, upper = np.percentile(att_samples, [2.5, 97.5])\n",
    "        p_val = np.mean(np.array(att_samples) >= 0)\n",
    "        p_val = min(p_val, 1 - p_val) * 2\n",
    "\n",
    "        print(f\"  {level}: ATT = {mean_att:.2f}, 95% CI = [{lower:.2f}, {upper:.2f}], p = {p_val:.4f}\")\n"
   ]
  },
  {
   "cell_type": "markdown",
   "id": "df58f0da",
   "metadata": {},
   "source": [
    "men:    No significant effect. Wide CI includes 0 → we can't reject the null. For men, leave does not appear to reduce productivity on average. Strong, statistically significant negative effect. \n",
    "\n",
    "women:  Women who took leave published ~24 fewer papers on average than matched women who didn’t.  \n",
    "\n",
    "Conclusion: \n",
    "\n",
    "The negative effect is concentrated entirely among women. F\n",
    "or men, the distribution overlaps with zero — there’s no significant penalty."
   ]
  },
  {
   "cell_type": "markdown",
   "id": "510dd34b",
   "metadata": {},
   "source": [
    "tenured:            Surprising: Leave is associated with higher productivity — possibly reverse causality (e.g., highly productive scholars more likely to take leave and bounce back)\n",
    "postdoc:            Not statistically significant.\n",
    "non-tenure-track:   Moderately strong negative effect.\n",
    "tenure track:       Extremely strong and significant productivity loss. Possibly due to the career-critical stage.\n",
    "Other:              Also severely impacted, though group composition may be heterogeneous.\n",
    "\n",
    "Conclusion:     \n",
    "\n",
    "Tenure-track faculty are hit hardest by leave (~127 publications lost).  \n",
    "Tenured faculty see no harm — perhaps even benefits.  \n",
    "Postdocs and others show varied results, some borderline or not significant."
   ]
  },
  {
   "cell_type": "code",
   "execution_count": null,
   "id": "cd33501b",
   "metadata": {},
   "outputs": [],
   "source": [
    "#### Adding Double robustness check via regression"
   ]
  },
  {
   "cell_type": "code",
   "execution_count": 263,
   "id": "7cd830d1",
   "metadata": {},
   "outputs": [],
   "source": [
    "########### "
   ]
  },
  {
   "cell_type": "code",
   "execution_count": 256,
   "id": "857d2a31",
   "metadata": {},
   "outputs": [
    {
     "data": {
      "text/plain": [
       "Text(0.5, 1.0, 'Conditional Distribution of NumPublications by Leave Status')"
      ]
     },
     "execution_count": 256,
     "metadata": {},
     "output_type": "execute_result"
    },
    {
     "data": {
      "image/png": "[encoded data removed]",
      "text/plain": [
       "<Figure size 640x480 with 1 Axes>"
      ]
     },
     "metadata": {},
     "output_type": "display_data"
    }
   ],
   "source": [
    "sns.histplot(data=df_parents, x='NumPublications', hue='TookLeave', kde=True, alpha=0.5)\n",
    "plt.title('Conditional Distribution of NumPublications by Leave Status')"
   ]
  },
  {
   "cell_type": "markdown",
   "id": "bcd92761",
   "metadata": {},
   "source": [
    "plot without extreme outliers: retaining distribution shape for majority (~99%)"
   ]
  },
  {
   "cell_type": "code",
   "execution_count": 257,
   "id": "7f27416b",
   "metadata": {},
   "outputs": [
    {
     "name": "stdout",
     "output_type": "stream",
     "text": [
      "7 out of 665 rows were capped (1.05%).\n"
     ]
    }
   ],
   "source": [
    "cutoff = df_parents['NumPublications'].quantile(0.99)\n",
    "num_capped = (df_parents['NumPublications'] > cutoff).sum()\n",
    "total = len(df_parents)\n",
    "print(f\"{num_capped} out of {total} rows were capped ({(num_capped/total)*100:.2f}%).\")\n"
   ]
  },
  {
   "cell_type": "code",
   "execution_count": 259,
   "id": "07a1d962",
   "metadata": {},
   "outputs": [
    {
     "data": {
      "text/plain": [
       "Text(0.5, 0, 'NumPublications (Capped)')"
      ]
     },
     "execution_count": 259,
     "metadata": {},
     "output_type": "execute_result"
    },
    {
     "data": {
      "image/png": "[encoded data removed]",
      "text/plain": [
       "<Figure size 640x480 with 1 Axes>"
      ]
     },
     "metadata": {},
     "output_type": "display_data"
    }
   ],
   "source": [
    "cutoff = df_parents['NumPublications'].quantile(0.99)\n",
    "df_parents['CappedPublications'] = df_parents['NumPublications'].clip(upper=cutoff)\n",
    "\n",
    "sns.histplot(\n",
    "    data=df_parents,\n",
    "    x='CappedPublications',\n",
    "    hue='TookLeave',\n",
    "    kde=True,\n",
    "    alpha=0.5\n",
    ")\n",
    "plt.title('Publication Distribution (Capped at 99th percentile)')\n",
    "plt.xlabel('NumPublications (Capped)')\n"
   ]
  },
  {
   "cell_type": "code",
   "execution_count": 260,
   "id": "ef0b2146",
   "metadata": {},
   "outputs": [
    {
     "name": "stdout",
     "output_type": "stream",
     "text": [
      "           count   mean    std  min   25%   50%   75%     max\n",
      "TookLeave                                                    \n",
      "0          140.0  77.83  86.58  0.0  24.5  49.5  98.5  403.92\n",
      "1          525.0  51.31  63.50  0.4  17.0  30.0  59.0  403.92\n"
     ]
    }
   ],
   "source": [
    "summary = df_parents.groupby('TookLeave')['CappedPublications'].describe().round(2)\n",
    "print(summary)"
   ]
  },
  {
   "cell_type": "code",
   "execution_count": 261,
   "id": "cea262e6",
   "metadata": {},
   "outputs": [
    {
     "data": {
      "text/html": [
       "<div>\n",
       "<style scoped>\n",
       "    .dataframe tbody tr th:only-of-type {\n",
       "        vertical-align: middle;\n",
       "    }\n",
       "\n",
       "    .dataframe tbody tr th {\n",
       "        vertical-align: top;\n",
       "    }\n",
       "\n",
       "    .dataframe thead th {\n",
       "        text-align: right;\n",
       "    }\n",
       "</style>\n",
       "<table border=\"1\" class=\"dataframe\">\n",
       "  <thead>\n",
       "    <tr style=\"text-align: right;\">\n",
       "      <th></th>\n",
       "      <th></th>\n",
       "      <th></th>\n",
       "      <th>count</th>\n",
       "      <th>mean</th>\n",
       "      <th>std</th>\n",
       "      <th>min</th>\n",
       "      <th>25%</th>\n",
       "      <th>50%</th>\n",
       "      <th>75%</th>\n",
       "      <th>max</th>\n",
       "    </tr>\n",
       "    <tr>\n",
       "      <th>TookLeave</th>\n",
       "      <th>GenderIdentity</th>\n",
       "      <th>AcademicPosition</th>\n",
       "      <th></th>\n",
       "      <th></th>\n",
       "      <th></th>\n",
       "      <th></th>\n",
       "      <th></th>\n",
       "      <th></th>\n",
       "      <th></th>\n",
       "      <th></th>\n",
       "    </tr>\n",
       "  </thead>\n",
       "  <tbody>\n",
       "    <tr>\n",
       "      <th rowspan=\"11\" valign=\"top\">0</th>\n",
       "      <th rowspan=\"5\" valign=\"top\">Man</th>\n",
       "      <th>I am a non-tenure-track faculty</th>\n",
       "      <td>2.0</td>\n",
       "      <td>157.00</td>\n",
       "      <td>202.23</td>\n",
       "      <td>14.0</td>\n",
       "      <td>85.50</td>\n",
       "      <td>157.0</td>\n",
       "      <td>228.50</td>\n",
       "      <td>300.00</td>\n",
       "    </tr>\n",
       "    <tr>\n",
       "      <th>I am a postdoc</th>\n",
       "      <td>10.0</td>\n",
       "      <td>20.50</td>\n",
       "      <td>13.81</td>\n",
       "      <td>6.0</td>\n",
       "      <td>9.75</td>\n",
       "      <td>17.0</td>\n",
       "      <td>24.50</td>\n",
       "      <td>50.00</td>\n",
       "    </tr>\n",
       "    <tr>\n",
       "      <th>I am a tenure-track faculty</th>\n",
       "      <td>6.0</td>\n",
       "      <td>62.67</td>\n",
       "      <td>45.40</td>\n",
       "      <td>8.0</td>\n",
       "      <td>28.00</td>\n",
       "      <td>59.5</td>\n",
       "      <td>98.50</td>\n",
       "      <td>120.00</td>\n",
       "    </tr>\n",
       "    <tr>\n",
       "      <th>I am tenured (please, indicate the year you received tenure, e.g., 2010)</th>\n",
       "      <td>67.0</td>\n",
       "      <td>92.68</td>\n",
       "      <td>95.70</td>\n",
       "      <td>0.0</td>\n",
       "      <td>33.50</td>\n",
       "      <td>52.0</td>\n",
       "      <td>109.50</td>\n",
       "      <td>403.92</td>\n",
       "    </tr>\n",
       "    <tr>\n",
       "      <th>Other (please, specify)</th>\n",
       "      <td>13.0</td>\n",
       "      <td>85.38</td>\n",
       "      <td>108.10</td>\n",
       "      <td>5.0</td>\n",
       "      <td>20.00</td>\n",
       "      <td>45.0</td>\n",
       "      <td>100.00</td>\n",
       "      <td>403.92</td>\n",
       "    </tr>\n",
       "    <tr>\n",
       "      <th>Prefer not to answer</th>\n",
       "      <th>I am tenured (please, indicate the year you received tenure, e.g., 2010)</th>\n",
       "      <td>3.0</td>\n",
       "      <td>51.00</td>\n",
       "      <td>20.00</td>\n",
       "      <td>31.0</td>\n",
       "      <td>41.00</td>\n",
       "      <td>51.0</td>\n",
       "      <td>61.00</td>\n",
       "      <td>71.00</td>\n",
       "    </tr>\n",
       "    <tr>\n",
       "      <th rowspan=\"5\" valign=\"top\">Woman</th>\n",
       "      <th>I am a non-tenure-track faculty</th>\n",
       "      <td>5.0</td>\n",
       "      <td>39.40</td>\n",
       "      <td>22.43</td>\n",
       "      <td>20.0</td>\n",
       "      <td>25.00</td>\n",
       "      <td>25.0</td>\n",
       "      <td>58.00</td>\n",
       "      <td>69.00</td>\n",
       "    </tr>\n",
       "    <tr>\n",
       "      <th>I am a postdoc</th>\n",
       "      <td>5.0</td>\n",
       "      <td>18.00</td>\n",
       "      <td>19.31</td>\n",
       "      <td>1.0</td>\n",
       "      <td>5.00</td>\n",
       "      <td>15.0</td>\n",
       "      <td>19.00</td>\n",
       "      <td>50.00</td>\n",
       "    </tr>\n",
       "    <tr>\n",
       "      <th>I am a tenure-track faculty</th>\n",
       "      <td>3.0</td>\n",
       "      <td>78.67</td>\n",
       "      <td>113.76</td>\n",
       "      <td>11.0</td>\n",
       "      <td>13.00</td>\n",
       "      <td>15.0</td>\n",
       "      <td>112.50</td>\n",
       "      <td>210.00</td>\n",
       "    </tr>\n",
       "    <tr>\n",
       "      <th>I am tenured (please, indicate the year you received tenure, e.g., 2010)</th>\n",
       "      <td>22.0</td>\n",
       "      <td>78.09</td>\n",
       "      <td>66.56</td>\n",
       "      <td>8.0</td>\n",
       "      <td>35.00</td>\n",
       "      <td>56.0</td>\n",
       "      <td>97.50</td>\n",
       "      <td>289.00</td>\n",
       "    </tr>\n",
       "    <tr>\n",
       "      <th>Other (please, specify)</th>\n",
       "      <td>4.0</td>\n",
       "      <td>72.00</td>\n",
       "      <td>102.30</td>\n",
       "      <td>15.0</td>\n",
       "      <td>15.75</td>\n",
       "      <td>24.0</td>\n",
       "      <td>80.25</td>\n",
       "      <td>225.00</td>\n",
       "    </tr>\n",
       "    <tr>\n",
       "      <th rowspan=\"12\" valign=\"top\">1</th>\n",
       "      <th rowspan=\"5\" valign=\"top\">Man</th>\n",
       "      <th>I am a non-tenure-track faculty</th>\n",
       "      <td>18.0</td>\n",
       "      <td>56.16</td>\n",
       "      <td>90.36</td>\n",
       "      <td>5.0</td>\n",
       "      <td>15.25</td>\n",
       "      <td>27.0</td>\n",
       "      <td>55.75</td>\n",
       "      <td>403.92</td>\n",
       "    </tr>\n",
       "    <tr>\n",
       "      <th>I am a postdoc</th>\n",
       "      <td>32.0</td>\n",
       "      <td>41.69</td>\n",
       "      <td>75.23</td>\n",
       "      <td>2.0</td>\n",
       "      <td>11.50</td>\n",
       "      <td>19.5</td>\n",
       "      <td>37.00</td>\n",
       "      <td>403.92</td>\n",
       "    </tr>\n",
       "    <tr>\n",
       "      <th>I am a tenure-track faculty</th>\n",
       "      <td>17.0</td>\n",
       "      <td>35.35</td>\n",
       "      <td>41.74</td>\n",
       "      <td>4.0</td>\n",
       "      <td>11.00</td>\n",
       "      <td>24.0</td>\n",
       "      <td>41.00</td>\n",
       "      <td>177.00</td>\n",
       "    </tr>\n",
       "    <tr>\n",
       "      <th>I am tenured (please, indicate the year you received tenure, e.g., 2010)</th>\n",
       "      <td>86.0</td>\n",
       "      <td>94.99</td>\n",
       "      <td>92.21</td>\n",
       "      <td>6.0</td>\n",
       "      <td>30.50</td>\n",
       "      <td>62.5</td>\n",
       "      <td>120.00</td>\n",
       "      <td>403.92</td>\n",
       "    </tr>\n",
       "    <tr>\n",
       "      <th>Other (please, specify)</th>\n",
       "      <td>18.0</td>\n",
       "      <td>37.56</td>\n",
       "      <td>29.84</td>\n",
       "      <td>6.0</td>\n",
       "      <td>16.25</td>\n",
       "      <td>29.5</td>\n",
       "      <td>44.50</td>\n",
       "      <td>130.00</td>\n",
       "    </tr>\n",
       "    <tr>\n",
       "      <th>Non-binary person</th>\n",
       "      <th>I am tenured (please, indicate the year you received tenure, e.g., 2010)</th>\n",
       "      <td>1.0</td>\n",
       "      <td>50.00</td>\n",
       "      <td>NaN</td>\n",
       "      <td>50.0</td>\n",
       "      <td>50.00</td>\n",
       "      <td>50.0</td>\n",
       "      <td>50.00</td>\n",
       "      <td>50.00</td>\n",
       "    </tr>\n",
       "    <tr>\n",
       "      <th>Prefer not to answer</th>\n",
       "      <th>Other (please, specify)</th>\n",
       "      <td>1.0</td>\n",
       "      <td>1.00</td>\n",
       "      <td>NaN</td>\n",
       "      <td>1.0</td>\n",
       "      <td>1.00</td>\n",
       "      <td>1.0</td>\n",
       "      <td>1.00</td>\n",
       "      <td>1.00</td>\n",
       "    </tr>\n",
       "    <tr>\n",
       "      <th rowspan=\"5\" valign=\"top\">Woman</th>\n",
       "      <th>I am a non-tenure-track faculty</th>\n",
       "      <td>59.0</td>\n",
       "      <td>29.92</td>\n",
       "      <td>34.45</td>\n",
       "      <td>1.0</td>\n",
       "      <td>14.00</td>\n",
       "      <td>22.0</td>\n",
       "      <td>37.00</td>\n",
       "      <td>250.00</td>\n",
       "    </tr>\n",
       "    <tr>\n",
       "      <th>I am a postdoc</th>\n",
       "      <td>57.0</td>\n",
       "      <td>17.78</td>\n",
       "      <td>15.34</td>\n",
       "      <td>0.4</td>\n",
       "      <td>7.00</td>\n",
       "      <td>15.0</td>\n",
       "      <td>22.00</td>\n",
       "      <td>100.00</td>\n",
       "    </tr>\n",
       "    <tr>\n",
       "      <th>I am a tenure-track faculty</th>\n",
       "      <td>37.0</td>\n",
       "      <td>31.14</td>\n",
       "      <td>19.48</td>\n",
       "      <td>5.0</td>\n",
       "      <td>20.00</td>\n",
       "      <td>26.0</td>\n",
       "      <td>41.00</td>\n",
       "      <td>106.00</td>\n",
       "    </tr>\n",
       "    <tr>\n",
       "      <th>I am tenured (please, indicate the year you received tenure, e.g., 2010)</th>\n",
       "      <td>164.0</td>\n",
       "      <td>61.45</td>\n",
       "      <td>60.09</td>\n",
       "      <td>2.0</td>\n",
       "      <td>25.00</td>\n",
       "      <td>44.0</td>\n",
       "      <td>78.25</td>\n",
       "      <td>364.00</td>\n",
       "    </tr>\n",
       "    <tr>\n",
       "      <th>Other (please, specify)</th>\n",
       "      <td>33.0</td>\n",
       "      <td>24.48</td>\n",
       "      <td>16.22</td>\n",
       "      <td>5.0</td>\n",
       "      <td>12.00</td>\n",
       "      <td>22.0</td>\n",
       "      <td>34.00</td>\n",
       "      <td>87.00</td>\n",
       "    </tr>\n",
       "  </tbody>\n",
       "</table>\n",
       "</div>"
      ],
      "text/plain": [
       "                                                                                   count  \\\n",
       "TookLeave GenderIdentity       AcademicPosition                                            \n",
       "0         Man                  I am a non-tenure-track faculty                       2.0   \n",
       "                               I am a postdoc                                       10.0   \n",
       "                               I am a tenure-track faculty                           6.0   \n",
       "                               I am tenured (please, indicate the year you rec...   67.0   \n",
       "                               Other (please, specify)                              13.0   \n",
       "          Prefer not to answer I am tenured (please, indicate the year you rec...    3.0   \n",
       "          Woman                I am a non-tenure-track faculty                       5.0   \n",
       "                               I am a postdoc                                        5.0   \n",
       "                               I am a tenure-track faculty                           3.0   \n",
       "                               I am tenured (please, indicate the year you rec...   22.0   \n",
       "                               Other (please, specify)                               4.0   \n",
       "1         Man                  I am a non-tenure-track faculty                      18.0   \n",
       "                               I am a postdoc                                       32.0   \n",
       "                               I am a tenure-track faculty                          17.0   \n",
       "                               I am tenured (please, indicate the year you rec...   86.0   \n",
       "                               Other (please, specify)                              18.0   \n",
       "          Non-binary person    I am tenured (please, indicate the year you rec...    1.0   \n",
       "          Prefer not to answer Other (please, specify)                               1.0   \n",
       "          Woman                I am a non-tenure-track faculty                      59.0   \n",
       "                               I am a postdoc                                       57.0   \n",
       "                               I am a tenure-track faculty                          37.0   \n",
       "                               I am tenured (please, indicate the year you rec...  164.0   \n",
       "                               Other (please, specify)                              33.0   \n",
       "\n",
       "                                                                                     mean  \\\n",
       "TookLeave GenderIdentity       AcademicPosition                                             \n",
       "0         Man                  I am a non-tenure-track faculty                     157.00   \n",
       "                               I am a postdoc                                       20.50   \n",
       "                               I am a tenure-track faculty                          62.67   \n",
       "                               I am tenured (please, indicate the year you rec...   92.68   \n",
       "                               Other (please, specify)                              85.38   \n",
       "          Prefer not to answer I am tenured (please, indicate the year you rec...   51.00   \n",
       "          Woman                I am a non-tenure-track faculty                      39.40   \n",
       "                               I am a postdoc                                       18.00   \n",
       "                               I am a tenure-track faculty                          78.67   \n",
       "                               I am tenured (please, indicate the year you rec...   78.09   \n",
       "                               Other (please, specify)                              72.00   \n",
       "1         Man                  I am a non-tenure-track faculty                      56.16   \n",
       "                               I am a postdoc                                       41.69   \n",
       "                               I am a tenure-track faculty                          35.35   \n",
       "                               I am tenured (please, indicate the year you rec...   94.99   \n",
       "                               Other (please, specify)                              37.56   \n",
       "          Non-binary person    I am tenured (please, indicate the year you rec...   50.00   \n",
       "          Prefer not to answer Other (please, specify)                               1.00   \n",
       "          Woman                I am a non-tenure-track faculty                      29.92   \n",
       "                               I am a postdoc                                       17.78   \n",
       "                               I am a tenure-track faculty                          31.14   \n",
       "                               I am tenured (please, indicate the year you rec...   61.45   \n",
       "                               Other (please, specify)                              24.48   \n",
       "\n",
       "                                                                                      std  \\\n",
       "TookLeave GenderIdentity       AcademicPosition                                             \n",
       "0         Man                  I am a non-tenure-track faculty                     202.23   \n",
       "                               I am a postdoc                                       13.81   \n",
       "                               I am a tenure-track faculty                          45.40   \n",
       "                               I am tenured (please, indicate the year you rec...   95.70   \n",
       "                               Other (please, specify)                             108.10   \n",
       "          Prefer not to answer I am tenured (please, indicate the year you rec...   20.00   \n",
       "          Woman                I am a non-tenure-track faculty                      22.43   \n",
       "                               I am a postdoc                                       19.31   \n",
       "                               I am a tenure-track faculty                         113.76   \n",
       "                               I am tenured (please, indicate the year you rec...   66.56   \n",
       "                               Other (please, specify)                             102.30   \n",
       "1         Man                  I am a non-tenure-track faculty                      90.36   \n",
       "                               I am a postdoc                                       75.23   \n",
       "                               I am a tenure-track faculty                          41.74   \n",
       "                               I am tenured (please, indicate the year you rec...   92.21   \n",
       "                               Other (please, specify)                              29.84   \n",
       "          Non-binary person    I am tenured (please, indicate the year you rec...     NaN   \n",
       "          Prefer not to answer Other (please, specify)                                NaN   \n",
       "          Woman                I am a non-tenure-track faculty                      34.45   \n",
       "                               I am a postdoc                                       15.34   \n",
       "                               I am a tenure-track faculty                          19.48   \n",
       "                               I am tenured (please, indicate the year you rec...   60.09   \n",
       "                               Other (please, specify)                              16.22   \n",
       "\n",
       "                                                                                    min  \\\n",
       "TookLeave GenderIdentity       AcademicPosition                                           \n",
       "0         Man                  I am a non-tenure-track faculty                     14.0   \n",
       "                               I am a postdoc                                       6.0   \n",
       "                               I am a tenure-track faculty                          8.0   \n",
       "                               I am tenured (please, indicate the year you rec...   0.0   \n",
       "                               Other (please, specify)                              5.0   \n",
       "          Prefer not to answer I am tenured (please, indicate the year you rec...  31.0   \n",
       "          Woman                I am a non-tenure-track faculty                     20.0   \n",
       "                               I am a postdoc                                       1.0   \n",
       "                               I am a tenure-track faculty                         11.0   \n",
       "                               I am tenured (please, indicate the year you rec...   8.0   \n",
       "                               Other (please, specify)                             15.0   \n",
       "1         Man                  I am a non-tenure-track faculty                      5.0   \n",
       "                               I am a postdoc                                       2.0   \n",
       "                               I am a tenure-track faculty                          4.0   \n",
       "                               I am tenured (please, indicate the year you rec...   6.0   \n",
       "                               Other (please, specify)                              6.0   \n",
       "          Non-binary person    I am tenured (please, indicate the year you rec...  50.0   \n",
       "          Prefer not to answer Other (please, specify)                              1.0   \n",
       "          Woman                I am a non-tenure-track faculty                      1.0   \n",
       "                               I am a postdoc                                       0.4   \n",
       "                               I am a tenure-track faculty                          5.0   \n",
       "                               I am tenured (please, indicate the year you rec...   2.0   \n",
       "                               Other (please, specify)                              5.0   \n",
       "\n",
       "                                                                                     25%  \\\n",
       "TookLeave GenderIdentity       AcademicPosition                                            \n",
       "0         Man                  I am a non-tenure-track faculty                     85.50   \n",
       "                               I am a postdoc                                       9.75   \n",
       "                               I am a tenure-track faculty                         28.00   \n",
       "                               I am tenured (please, indicate the year you rec...  33.50   \n",
       "                               Other (please, specify)                             20.00   \n",
       "          Prefer not to answer I am tenured (please, indicate the year you rec...  41.00   \n",
       "          Woman                I am a non-tenure-track faculty                     25.00   \n",
       "                               I am a postdoc                                       5.00   \n",
       "                               I am a tenure-track faculty                         13.00   \n",
       "                               I am tenured (please, indicate the year you rec...  35.00   \n",
       "                               Other (please, specify)                             15.75   \n",
       "1         Man                  I am a non-tenure-track faculty                     15.25   \n",
       "                               I am a postdoc                                      11.50   \n",
       "                               I am a tenure-track faculty                         11.00   \n",
       "                               I am tenured (please, indicate the year you rec...  30.50   \n",
       "                               Other (please, specify)                             16.25   \n",
       "          Non-binary person    I am tenured (please, indicate the year you rec...  50.00   \n",
       "          Prefer not to answer Other (please, specify)                              1.00   \n",
       "          Woman                I am a non-tenure-track faculty                     14.00   \n",
       "                               I am a postdoc                                       7.00   \n",
       "                               I am a tenure-track faculty                         20.00   \n",
       "                               I am tenured (please, indicate the year you rec...  25.00   \n",
       "                               Other (please, specify)                             12.00   \n",
       "\n",
       "                                                                                     50%  \\\n",
       "TookLeave GenderIdentity       AcademicPosition                                            \n",
       "0         Man                  I am a non-tenure-track faculty                     157.0   \n",
       "                               I am a postdoc                                       17.0   \n",
       "                               I am a tenure-track faculty                          59.5   \n",
       "                               I am tenured (please, indicate the year you rec...   52.0   \n",
       "                               Other (please, specify)                              45.0   \n",
       "          Prefer not to answer I am tenured (please, indicate the year you rec...   51.0   \n",
       "          Woman                I am a non-tenure-track faculty                      25.0   \n",
       "                               I am a postdoc                                       15.0   \n",
       "                               I am a tenure-track faculty                          15.0   \n",
       "                               I am tenured (please, indicate the year you rec...   56.0   \n",
       "                               Other (please, specify)                              24.0   \n",
       "1         Man                  I am a non-tenure-track faculty                      27.0   \n",
       "                               I am a postdoc                                       19.5   \n",
       "                               I am a tenure-track faculty                          24.0   \n",
       "                               I am tenured (please, indicate the year you rec...   62.5   \n",
       "                               Other (please, specify)                              29.5   \n",
       "          Non-binary person    I am tenured (please, indicate the year you rec...   50.0   \n",
       "          Prefer not to answer Other (please, specify)                               1.0   \n",
       "          Woman                I am a non-tenure-track faculty                      22.0   \n",
       "                               I am a postdoc                                       15.0   \n",
       "                               I am a tenure-track faculty                          26.0   \n",
       "                               I am tenured (please, indicate the year you rec...   44.0   \n",
       "                               Other (please, specify)                              22.0   \n",
       "\n",
       "                                                                                      75%  \\\n",
       "TookLeave GenderIdentity       AcademicPosition                                             \n",
       "0         Man                  I am a non-tenure-track faculty                     228.50   \n",
       "                               I am a postdoc                                       24.50   \n",
       "                               I am a tenure-track faculty                          98.50   \n",
       "                               I am tenured (please, indicate the year you rec...  109.50   \n",
       "                               Other (please, specify)                             100.00   \n",
       "          Prefer not to answer I am tenured (please, indicate the year you rec...   61.00   \n",
       "          Woman                I am a non-tenure-track faculty                      58.00   \n",
       "                               I am a postdoc                                       19.00   \n",
       "                               I am a tenure-track faculty                         112.50   \n",
       "                               I am tenured (please, indicate the year you rec...   97.50   \n",
       "                               Other (please, specify)                              80.25   \n",
       "1         Man                  I am a non-tenure-track faculty                      55.75   \n",
       "                               I am a postdoc                                       37.00   \n",
       "                               I am a tenure-track faculty                          41.00   \n",
       "                               I am tenured (please, indicate the year you rec...  120.00   \n",
       "                               Other (please, specify)                              44.50   \n",
       "          Non-binary person    I am tenured (please, indicate the year you rec...   50.00   \n",
       "          Prefer not to answer Other (please, specify)                               1.00   \n",
       "          Woman                I am a non-tenure-track faculty                      37.00   \n",
       "                               I am a postdoc                                       22.00   \n",
       "                               I am a tenure-track faculty                          41.00   \n",
       "                               I am tenured (please, indicate the year you rec...   78.25   \n",
       "                               Other (please, specify)                              34.00   \n",
       "\n",
       "                                                                                      max  \n",
       "TookLeave GenderIdentity       AcademicPosition                                            \n",
       "0         Man                  I am a non-tenure-track faculty                     300.00  \n",
       "                               I am a postdoc                                       50.00  \n",
       "                               I am a tenure-track faculty                         120.00  \n",
       "                               I am tenured (please, indicate the year you rec...  403.92  \n",
       "                               Other (please, specify)                             403.92  \n",
       "          Prefer not to answer I am tenured (please, indicate the year you rec...   71.00  \n",
       "          Woman                I am a non-tenure-track faculty                      69.00  \n",
       "                               I am a postdoc                                       50.00  \n",
       "                               I am a tenure-track faculty                         210.00  \n",
       "                               I am tenured (please, indicate the year you rec...  289.00  \n",
       "                               Other (please, specify)                             225.00  \n",
       "1         Man                  I am a non-tenure-track faculty                     403.92  \n",
       "                               I am a postdoc                                      403.92  \n",
       "                               I am a tenure-track faculty                         177.00  \n",
       "                               I am tenured (please, indicate the year you rec...  403.92  \n",
       "                               Other (please, specify)                             130.00  \n",
       "          Non-binary person    I am tenured (please, indicate the year you rec...   50.00  \n",
       "          Prefer not to answer Other (please, specify)                               1.00  \n",
       "          Woman                I am a non-tenure-track faculty                     250.00  \n",
       "                               I am a postdoc                                      100.00  \n",
       "                               I am a tenure-track faculty                         106.00  \n",
       "                               I am tenured (please, indicate the year you rec...  364.00  \n",
       "                               Other (please, specify)                              87.00  "
      ]
     },
     "metadata": {},
     "output_type": "display_data"
    }
   ],
   "source": [
    "summary = df_parents.groupby(['TookLeave', 'GenderIdentity', 'AcademicPosition'])['CappedPublications'].describe().round(2)\n",
    "display(summary)\n"
   ]
  },
  {
   "cell_type": "markdown",
   "id": "28d52491",
   "metadata": {},
   "source": [
    "Show Balance on Covariates"
   ]
  },
  {
   "cell_type": "code",
   "execution_count": 262,
   "id": "7aa4f884",
   "metadata": {},
   "outputs": [
    {
     "data": {
      "text/html": [
       "<div>\n",
       "<style scoped>\n",
       "    .dataframe tbody tr th:only-of-type {\n",
       "        vertical-align: middle;\n",
       "    }\n",
       "\n",
       "    .dataframe tbody tr th {\n",
       "        vertical-align: top;\n",
       "    }\n",
       "\n",
       "    .dataframe thead th {\n",
       "        text-align: right;\n",
       "    }\n",
       "</style>\n",
       "<table border=\"1\" class=\"dataframe\">\n",
       "  <thead>\n",
       "    <tr style=\"text-align: right;\">\n",
       "      <th></th>\n",
       "      <th>SMD</th>\n",
       "    </tr>\n",
       "  </thead>\n",
       "  <tbody>\n",
       "    <tr>\n",
       "      <th>GenderIdentity_Woman</th>\n",
       "      <td>0.841836</td>\n",
       "    </tr>\n",
       "    <tr>\n",
       "      <th>AcademicPosition_I am a non-tenure-track faculty</th>\n",
       "      <td>0.328452</td>\n",
       "    </tr>\n",
       "    <tr>\n",
       "      <th>AcademicPosition_I am a postdoc</th>\n",
       "      <td>0.181060</td>\n",
       "    </tr>\n",
       "    <tr>\n",
       "      <th>AcademicPosition_I am a tenure-track faculty</th>\n",
       "      <td>0.139437</td>\n",
       "    </tr>\n",
       "    <tr>\n",
       "      <th>GenderIdentity_Non-binary person</th>\n",
       "      <td>0.061721</td>\n",
       "    </tr>\n",
       "    <tr>\n",
       "      <th>AcademicPosition_Other (please, specify)</th>\n",
       "      <td>-0.071337</td>\n",
       "    </tr>\n",
       "    <tr>\n",
       "      <th>GenderIdentity_Prefer not to answer</th>\n",
       "      <td>-0.181962</td>\n",
       "    </tr>\n",
       "    <tr>\n",
       "      <th>AcademicPosition_I am tenured (please, indicate the year you received tenure, e.g., 2010)</th>\n",
       "      <td>-0.358798</td>\n",
       "    </tr>\n",
       "    <tr>\n",
       "      <th>GenderIdentity_Man</th>\n",
       "      <td>-0.805750</td>\n",
       "    </tr>\n",
       "  </tbody>\n",
       "</table>\n",
       "</div>"
      ],
      "text/plain": [
       "                                                         SMD\n",
       "GenderIdentity_Woman                                0.841836\n",
       "AcademicPosition_I am a non-tenure-track faculty    0.328452\n",
       "AcademicPosition_I am a postdoc                     0.181060\n",
       "AcademicPosition_I am a tenure-track faculty        0.139437\n",
       "GenderIdentity_Non-binary person                    0.061721\n",
       "AcademicPosition_Other (please, specify)           -0.071337\n",
       "GenderIdentity_Prefer not to answer                -0.181962\n",
       "AcademicPosition_I am tenured (please, indicate... -0.358798\n",
       "GenderIdentity_Man                                 -0.805750"
      ]
     },
     "execution_count": 262,
     "metadata": {},
     "output_type": "execute_result"
    }
   ],
   "source": [
    "features = [col for col in X_dummies.columns if col != 'TookLeave']\n",
    "smd_values = {feature: smd(group_a[feature], group_b[feature]) for feature in features}\n",
    "\n",
    "pd.DataFrame.from_dict(smd_values, orient='index', columns=['SMD']).sort_values(by='SMD', ascending=False)"
   ]
  },
  {
   "cell_type": "markdown",
   "id": "68d67df9",
   "metadata": {},
   "source": [
    "Gender is a dominant driver: Women are much more likely to take leave (SMD > 0.8), while men are less likely (SMD < -0.8).\n",
    "There’s also imbalance by academic position, with tenure-track faculty and postdocs having different leave-taking patterns."
   ]
  },
  {
   "cell_type": "markdown",
   "id": "06990fa0",
   "metadata": {},
   "source": []
  }
 ],
 "metadata": {
  "kernelspec": {
   "display_name": "parenthood",
   "language": "python",
   "name": "python3"
  },
  "language_info": {
   "codemirror_mode": {
    "name": "ipython",
    "version": 3
   },
   "file_extension": ".py",
   "mimetype": "text/x-python",
   "name": "python",
   "nbconvert_exporter": "python",
   "pygments_lexer": "ipython3",
   "version": "3.13.2"
  }
 },
 "nbformat": 4,
 "nbformat_minor": 5
}
