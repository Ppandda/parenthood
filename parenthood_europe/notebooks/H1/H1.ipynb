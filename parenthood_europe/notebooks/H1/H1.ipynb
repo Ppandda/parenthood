{
 "cells": [
  {
   "cell_type": "markdown",
   "id": "a7bdda8b",
   "metadata": {},
   "source": [
    "In this notebook I will test the effect of parenthood (x) on the publication productivity (y) of\n",
    "researchers at different career stages in Europe?\n",
    "\n",
    "Stratification:\n",
    "\n",
    "with parenthood  \n",
    "without parenthood\n",
    "\n",
    "No. of Publications = Productivity"
   ]
  },
  {
   "cell_type": "code",
   "execution_count": 1,
   "id": "99aef8eb",
   "metadata": {},
   "outputs": [
    {
     "data": {
      "text/html": [
       "<div>\n",
       "<style scoped>\n",
       "    .dataframe tbody tr th:only-of-type {\n",
       "        vertical-align: middle;\n",
       "    }\n",
       "\n",
       "    .dataframe tbody tr th {\n",
       "        vertical-align: top;\n",
       "    }\n",
       "\n",
       "    .dataframe thead th {\n",
       "        text-align: right;\n",
       "    }\n",
       "</style>\n",
       "<table border=\"1\" class=\"dataframe\">\n",
       "  <thead>\n",
       "    <tr style=\"text-align: right;\">\n",
       "      <th></th>\n",
       "      <th>AcademicPosition</th>\n",
       "      <th>Response ID</th>\n",
       "      <th>NumPublications</th>\n",
       "      <th>NumChildren</th>\n",
       "      <th>ParentalLeave1</th>\n",
       "      <th>ParentalLeave2</th>\n",
       "      <th>ParentalLeave3</th>\n",
       "      <th>ParentalLeave4</th>\n",
       "      <th>ParentalLeave5</th>\n",
       "      <th>ParentalLeave6</th>\n",
       "      <th>ParentalLeave7</th>\n",
       "      <th>ParentalLeave8</th>\n",
       "      <th>ParentalLeave9</th>\n",
       "      <th>ParentalLeave10</th>\n",
       "      <th>ChildBornCountry1</th>\n",
       "      <th>GenderIdentity</th>\n",
       "    </tr>\n",
       "  </thead>\n",
       "  <tbody>\n",
       "    <tr>\n",
       "      <th>0</th>\n",
       "      <td>I am a postdoc</td>\n",
       "      <td>R_2V4kjf4gOQNH6EL</td>\n",
       "      <td>15.0</td>\n",
       "      <td>0</td>\n",
       "      <td>NaN</td>\n",
       "      <td>NaN</td>\n",
       "      <td>NaN</td>\n",
       "      <td>NaN</td>\n",
       "      <td>NaN</td>\n",
       "      <td>NaN</td>\n",
       "      <td>NaN</td>\n",
       "      <td>NaN</td>\n",
       "      <td>NaN</td>\n",
       "      <td>NaN</td>\n",
       "      <td>NaN</td>\n",
       "      <td>Woman</td>\n",
       "    </tr>\n",
       "    <tr>\n",
       "      <th>1</th>\n",
       "      <td>I am a postdoc</td>\n",
       "      <td>R_2Mm7mAXANKJetCY</td>\n",
       "      <td>19.0</td>\n",
       "      <td>2</td>\n",
       "      <td>No, I did not take the leave</td>\n",
       "      <td>Yes, and I spent up to 1/3 of that time on wor...</td>\n",
       "      <td>NaN</td>\n",
       "      <td>NaN</td>\n",
       "      <td>NaN</td>\n",
       "      <td>NaN</td>\n",
       "      <td>NaN</td>\n",
       "      <td>NaN</td>\n",
       "      <td>NaN</td>\n",
       "      <td>NaN</td>\n",
       "      <td>Germany</td>\n",
       "      <td>Woman</td>\n",
       "    </tr>\n",
       "    <tr>\n",
       "      <th>2</th>\n",
       "      <td>I am tenured (please, indicate the year you re...</td>\n",
       "      <td>R_51QYRBe22NQZDxL</td>\n",
       "      <td>1900.0</td>\n",
       "      <td>2</td>\n",
       "      <td>NaN</td>\n",
       "      <td>NaN</td>\n",
       "      <td>NaN</td>\n",
       "      <td>NaN</td>\n",
       "      <td>NaN</td>\n",
       "      <td>NaN</td>\n",
       "      <td>NaN</td>\n",
       "      <td>NaN</td>\n",
       "      <td>NaN</td>\n",
       "      <td>NaN</td>\n",
       "      <td>Germany</td>\n",
       "      <td>Woman</td>\n",
       "    </tr>\n",
       "    <tr>\n",
       "      <th>3</th>\n",
       "      <td>I am tenured (please, indicate the year you re...</td>\n",
       "      <td>R_8EWJNcxqDcHKUzb</td>\n",
       "      <td>0.0</td>\n",
       "      <td>2</td>\n",
       "      <td>No, I did not take the leave</td>\n",
       "      <td>No, I did not take the leave</td>\n",
       "      <td>NaN</td>\n",
       "      <td>NaN</td>\n",
       "      <td>NaN</td>\n",
       "      <td>NaN</td>\n",
       "      <td>NaN</td>\n",
       "      <td>NaN</td>\n",
       "      <td>NaN</td>\n",
       "      <td>NaN</td>\n",
       "      <td>Germany</td>\n",
       "      <td>Man</td>\n",
       "    </tr>\n",
       "    <tr>\n",
       "      <th>4</th>\n",
       "      <td>I am tenured (please, indicate the year you re...</td>\n",
       "      <td>R_2fqgAOx1KsWT4nt</td>\n",
       "      <td>300.0</td>\n",
       "      <td>2</td>\n",
       "      <td>Yes, and I spent up to 1/3 of that time on wor...</td>\n",
       "      <td>Yes, and I spent up to 1/3 of that time on wor...</td>\n",
       "      <td>NaN</td>\n",
       "      <td>NaN</td>\n",
       "      <td>NaN</td>\n",
       "      <td>NaN</td>\n",
       "      <td>NaN</td>\n",
       "      <td>NaN</td>\n",
       "      <td>NaN</td>\n",
       "      <td>NaN</td>\n",
       "      <td>Netherlands</td>\n",
       "      <td>Man</td>\n",
       "    </tr>\n",
       "    <tr>\n",
       "      <th>...</th>\n",
       "      <td>...</td>\n",
       "      <td>...</td>\n",
       "      <td>...</td>\n",
       "      <td>...</td>\n",
       "      <td>...</td>\n",
       "      <td>...</td>\n",
       "      <td>...</td>\n",
       "      <td>...</td>\n",
       "      <td>...</td>\n",
       "      <td>...</td>\n",
       "      <td>...</td>\n",
       "      <td>...</td>\n",
       "      <td>...</td>\n",
       "      <td>...</td>\n",
       "      <td>...</td>\n",
       "      <td>...</td>\n",
       "    </tr>\n",
       "    <tr>\n",
       "      <th>1301</th>\n",
       "      <td>I am a non-tenure-track faculty</td>\n",
       "      <td>R_83OxM8DxlMmRnIl</td>\n",
       "      <td>14.0</td>\n",
       "      <td>4</td>\n",
       "      <td>No, I did not take the leave</td>\n",
       "      <td>No, I did not take the leave</td>\n",
       "      <td>Yes, and I spent up to 1/3 of that time on wor...</td>\n",
       "      <td>Yes, and I spent up to 1/3 of that time on wor...</td>\n",
       "      <td>NaN</td>\n",
       "      <td>NaN</td>\n",
       "      <td>NaN</td>\n",
       "      <td>NaN</td>\n",
       "      <td>NaN</td>\n",
       "      <td>NaN</td>\n",
       "      <td>Germany</td>\n",
       "      <td>Man</td>\n",
       "    </tr>\n",
       "    <tr>\n",
       "      <th>1302</th>\n",
       "      <td>I am a postdoc</td>\n",
       "      <td>R_2pKD21d4JII2EKF</td>\n",
       "      <td>5.0</td>\n",
       "      <td>2</td>\n",
       "      <td>NaN</td>\n",
       "      <td>NaN</td>\n",
       "      <td>NaN</td>\n",
       "      <td>NaN</td>\n",
       "      <td>NaN</td>\n",
       "      <td>NaN</td>\n",
       "      <td>NaN</td>\n",
       "      <td>NaN</td>\n",
       "      <td>NaN</td>\n",
       "      <td>NaN</td>\n",
       "      <td>Romania</td>\n",
       "      <td>Woman</td>\n",
       "    </tr>\n",
       "    <tr>\n",
       "      <th>1303</th>\n",
       "      <td>I am tenured (please, indicate the year you re...</td>\n",
       "      <td>R_83lrPFMg7s39zwt</td>\n",
       "      <td>5.0</td>\n",
       "      <td>3</td>\n",
       "      <td>NaN</td>\n",
       "      <td>NaN</td>\n",
       "      <td>NaN</td>\n",
       "      <td>NaN</td>\n",
       "      <td>NaN</td>\n",
       "      <td>NaN</td>\n",
       "      <td>NaN</td>\n",
       "      <td>NaN</td>\n",
       "      <td>NaN</td>\n",
       "      <td>NaN</td>\n",
       "      <td>France</td>\n",
       "      <td>Woman</td>\n",
       "    </tr>\n",
       "    <tr>\n",
       "      <th>1304</th>\n",
       "      <td>I am a postdoc</td>\n",
       "      <td>R_8hHbS6L2AP8dHBw</td>\n",
       "      <td>15.0</td>\n",
       "      <td>1</td>\n",
       "      <td>Yes, and I spent at least 2/3 of that time on ...</td>\n",
       "      <td>NaN</td>\n",
       "      <td>NaN</td>\n",
       "      <td>NaN</td>\n",
       "      <td>NaN</td>\n",
       "      <td>NaN</td>\n",
       "      <td>NaN</td>\n",
       "      <td>NaN</td>\n",
       "      <td>NaN</td>\n",
       "      <td>NaN</td>\n",
       "      <td>Germany</td>\n",
       "      <td>Woman</td>\n",
       "    </tr>\n",
       "    <tr>\n",
       "      <th>1305</th>\n",
       "      <td>I am a postdoc</td>\n",
       "      <td>R_2IQbjf8O2JcA6bD</td>\n",
       "      <td>19.0</td>\n",
       "      <td>1</td>\n",
       "      <td>Yes, and I did not do anything work-related du...</td>\n",
       "      <td>NaN</td>\n",
       "      <td>NaN</td>\n",
       "      <td>NaN</td>\n",
       "      <td>NaN</td>\n",
       "      <td>NaN</td>\n",
       "      <td>NaN</td>\n",
       "      <td>NaN</td>\n",
       "      <td>NaN</td>\n",
       "      <td>NaN</td>\n",
       "      <td>Finland</td>\n",
       "      <td>Woman</td>\n",
       "    </tr>\n",
       "  </tbody>\n",
       "</table>\n",
       "<p>1306 rows × 16 columns</p>\n",
       "</div>"
      ],
      "text/plain": [
       "                                       AcademicPosition        Response ID  \\\n",
       "0                                        I am a postdoc  R_2V4kjf4gOQNH6EL   \n",
       "1                                        I am a postdoc  R_2Mm7mAXANKJetCY   \n",
       "2     I am tenured (please, indicate the year you re...  R_51QYRBe22NQZDxL   \n",
       "3     I am tenured (please, indicate the year you re...  R_8EWJNcxqDcHKUzb   \n",
       "4     I am tenured (please, indicate the year you re...  R_2fqgAOx1KsWT4nt   \n",
       "...                                                 ...                ...   \n",
       "1301                    I am a non-tenure-track faculty  R_83OxM8DxlMmRnIl   \n",
       "1302                                     I am a postdoc  R_2pKD21d4JII2EKF   \n",
       "1303  I am tenured (please, indicate the year you re...  R_83lrPFMg7s39zwt   \n",
       "1304                                     I am a postdoc  R_8hHbS6L2AP8dHBw   \n",
       "1305                                     I am a postdoc  R_2IQbjf8O2JcA6bD   \n",
       "\n",
       "      NumPublications  NumChildren  \\\n",
       "0                15.0            0   \n",
       "1                19.0            2   \n",
       "2              1900.0            2   \n",
       "3                 0.0            2   \n",
       "4               300.0            2   \n",
       "...               ...          ...   \n",
       "1301             14.0            4   \n",
       "1302              5.0            2   \n",
       "1303              5.0            3   \n",
       "1304             15.0            1   \n",
       "1305             19.0            1   \n",
       "\n",
       "                                         ParentalLeave1  \\\n",
       "0                                                   NaN   \n",
       "1                          No, I did not take the leave   \n",
       "2                                                   NaN   \n",
       "3                          No, I did not take the leave   \n",
       "4     Yes, and I spent up to 1/3 of that time on wor...   \n",
       "...                                                 ...   \n",
       "1301                       No, I did not take the leave   \n",
       "1302                                                NaN   \n",
       "1303                                                NaN   \n",
       "1304  Yes, and I spent at least 2/3 of that time on ...   \n",
       "1305  Yes, and I did not do anything work-related du...   \n",
       "\n",
       "                                         ParentalLeave2  \\\n",
       "0                                                   NaN   \n",
       "1     Yes, and I spent up to 1/3 of that time on wor...   \n",
       "2                                                   NaN   \n",
       "3                          No, I did not take the leave   \n",
       "4     Yes, and I spent up to 1/3 of that time on wor...   \n",
       "...                                                 ...   \n",
       "1301                       No, I did not take the leave   \n",
       "1302                                                NaN   \n",
       "1303                                                NaN   \n",
       "1304                                                NaN   \n",
       "1305                                                NaN   \n",
       "\n",
       "                                         ParentalLeave3  \\\n",
       "0                                                   NaN   \n",
       "1                                                   NaN   \n",
       "2                                                   NaN   \n",
       "3                                                   NaN   \n",
       "4                                                   NaN   \n",
       "...                                                 ...   \n",
       "1301  Yes, and I spent up to 1/3 of that time on wor...   \n",
       "1302                                                NaN   \n",
       "1303                                                NaN   \n",
       "1304                                                NaN   \n",
       "1305                                                NaN   \n",
       "\n",
       "                                         ParentalLeave4 ParentalLeave5  \\\n",
       "0                                                   NaN            NaN   \n",
       "1                                                   NaN            NaN   \n",
       "2                                                   NaN            NaN   \n",
       "3                                                   NaN            NaN   \n",
       "4                                                   NaN            NaN   \n",
       "...                                                 ...            ...   \n",
       "1301  Yes, and I spent up to 1/3 of that time on wor...            NaN   \n",
       "1302                                                NaN            NaN   \n",
       "1303                                                NaN            NaN   \n",
       "1304                                                NaN            NaN   \n",
       "1305                                                NaN            NaN   \n",
       "\n",
       "     ParentalLeave6 ParentalLeave7  ParentalLeave8  ParentalLeave9  \\\n",
       "0               NaN            NaN             NaN             NaN   \n",
       "1               NaN            NaN             NaN             NaN   \n",
       "2               NaN            NaN             NaN             NaN   \n",
       "3               NaN            NaN             NaN             NaN   \n",
       "4               NaN            NaN             NaN             NaN   \n",
       "...             ...            ...             ...             ...   \n",
       "1301            NaN            NaN             NaN             NaN   \n",
       "1302            NaN            NaN             NaN             NaN   \n",
       "1303            NaN            NaN             NaN             NaN   \n",
       "1304            NaN            NaN             NaN             NaN   \n",
       "1305            NaN            NaN             NaN             NaN   \n",
       "\n",
       "      ParentalLeave10 ChildBornCountry1 GenderIdentity  \n",
       "0                 NaN               NaN          Woman  \n",
       "1                 NaN           Germany          Woman  \n",
       "2                 NaN           Germany          Woman  \n",
       "3                 NaN           Germany            Man  \n",
       "4                 NaN       Netherlands            Man  \n",
       "...               ...               ...            ...  \n",
       "1301              NaN           Germany            Man  \n",
       "1302              NaN           Romania          Woman  \n",
       "1303              NaN            France          Woman  \n",
       "1304              NaN           Germany          Woman  \n",
       "1305              NaN           Finland          Woman  \n",
       "\n",
       "[1306 rows x 16 columns]"
      ]
     },
     "metadata": {},
     "output_type": "display_data"
    }
   ],
   "source": [
    "import pandas as pd\n",
    "\n",
    "df = pd.read_excel('../../data/H1_analysis/H1_data_NumChildren.xlsx', skiprows=[0])\n",
    "display(df)\n"
   ]
  },
  {
   "cell_type": "markdown",
   "id": "f69d825d",
   "metadata": {},
   "source": [
    "Now, we only consider the first child."
   ]
  },
  {
   "cell_type": "code",
   "execution_count": 2,
   "id": "3ed7a594",
   "metadata": {},
   "outputs": [
    {
     "data": {
      "text/html": [
       "<div>\n",
       "<style scoped>\n",
       "    .dataframe tbody tr th:only-of-type {\n",
       "        vertical-align: middle;\n",
       "    }\n",
       "\n",
       "    .dataframe tbody tr th {\n",
       "        vertical-align: top;\n",
       "    }\n",
       "\n",
       "    .dataframe thead th {\n",
       "        text-align: right;\n",
       "    }\n",
       "</style>\n",
       "<table border=\"1\" class=\"dataframe\">\n",
       "  <thead>\n",
       "    <tr style=\"text-align: right;\">\n",
       "      <th></th>\n",
       "      <th>AcademicPosition</th>\n",
       "      <th>Response ID</th>\n",
       "      <th>NumPublications</th>\n",
       "      <th>NumChildren</th>\n",
       "      <th>ParentalLeave1</th>\n",
       "      <th>ChildBornCountry1</th>\n",
       "      <th>GenderIdentity</th>\n",
       "    </tr>\n",
       "  </thead>\n",
       "  <tbody>\n",
       "    <tr>\n",
       "      <th>0</th>\n",
       "      <td>I am a postdoc</td>\n",
       "      <td>R_2V4kjf4gOQNH6EL</td>\n",
       "      <td>15.0</td>\n",
       "      <td>0</td>\n",
       "      <td>NaN</td>\n",
       "      <td>NaN</td>\n",
       "      <td>Woman</td>\n",
       "    </tr>\n",
       "    <tr>\n",
       "      <th>1</th>\n",
       "      <td>I am a postdoc</td>\n",
       "      <td>R_2Mm7mAXANKJetCY</td>\n",
       "      <td>19.0</td>\n",
       "      <td>2</td>\n",
       "      <td>No, I did not take the leave</td>\n",
       "      <td>Germany</td>\n",
       "      <td>Woman</td>\n",
       "    </tr>\n",
       "    <tr>\n",
       "      <th>2</th>\n",
       "      <td>I am tenured (please, indicate the year you re...</td>\n",
       "      <td>R_51QYRBe22NQZDxL</td>\n",
       "      <td>1900.0</td>\n",
       "      <td>2</td>\n",
       "      <td>NaN</td>\n",
       "      <td>Germany</td>\n",
       "      <td>Woman</td>\n",
       "    </tr>\n",
       "    <tr>\n",
       "      <th>3</th>\n",
       "      <td>I am tenured (please, indicate the year you re...</td>\n",
       "      <td>R_8EWJNcxqDcHKUzb</td>\n",
       "      <td>0.0</td>\n",
       "      <td>2</td>\n",
       "      <td>No, I did not take the leave</td>\n",
       "      <td>Germany</td>\n",
       "      <td>Man</td>\n",
       "    </tr>\n",
       "    <tr>\n",
       "      <th>4</th>\n",
       "      <td>I am tenured (please, indicate the year you re...</td>\n",
       "      <td>R_2fqgAOx1KsWT4nt</td>\n",
       "      <td>300.0</td>\n",
       "      <td>2</td>\n",
       "      <td>Yes, and I spent up to 1/3 of that time on wor...</td>\n",
       "      <td>Netherlands</td>\n",
       "      <td>Man</td>\n",
       "    </tr>\n",
       "    <tr>\n",
       "      <th>...</th>\n",
       "      <td>...</td>\n",
       "      <td>...</td>\n",
       "      <td>...</td>\n",
       "      <td>...</td>\n",
       "      <td>...</td>\n",
       "      <td>...</td>\n",
       "      <td>...</td>\n",
       "    </tr>\n",
       "    <tr>\n",
       "      <th>1301</th>\n",
       "      <td>I am a non-tenure-track faculty</td>\n",
       "      <td>R_83OxM8DxlMmRnIl</td>\n",
       "      <td>14.0</td>\n",
       "      <td>4</td>\n",
       "      <td>No, I did not take the leave</td>\n",
       "      <td>Germany</td>\n",
       "      <td>Man</td>\n",
       "    </tr>\n",
       "    <tr>\n",
       "      <th>1302</th>\n",
       "      <td>I am a postdoc</td>\n",
       "      <td>R_2pKD21d4JII2EKF</td>\n",
       "      <td>5.0</td>\n",
       "      <td>2</td>\n",
       "      <td>NaN</td>\n",
       "      <td>Romania</td>\n",
       "      <td>Woman</td>\n",
       "    </tr>\n",
       "    <tr>\n",
       "      <th>1303</th>\n",
       "      <td>I am tenured (please, indicate the year you re...</td>\n",
       "      <td>R_83lrPFMg7s39zwt</td>\n",
       "      <td>5.0</td>\n",
       "      <td>3</td>\n",
       "      <td>NaN</td>\n",
       "      <td>France</td>\n",
       "      <td>Woman</td>\n",
       "    </tr>\n",
       "    <tr>\n",
       "      <th>1304</th>\n",
       "      <td>I am a postdoc</td>\n",
       "      <td>R_8hHbS6L2AP8dHBw</td>\n",
       "      <td>15.0</td>\n",
       "      <td>1</td>\n",
       "      <td>Yes, and I spent at least 2/3 of that time on ...</td>\n",
       "      <td>Germany</td>\n",
       "      <td>Woman</td>\n",
       "    </tr>\n",
       "    <tr>\n",
       "      <th>1305</th>\n",
       "      <td>I am a postdoc</td>\n",
       "      <td>R_2IQbjf8O2JcA6bD</td>\n",
       "      <td>19.0</td>\n",
       "      <td>1</td>\n",
       "      <td>Yes, and I did not do anything work-related du...</td>\n",
       "      <td>Finland</td>\n",
       "      <td>Woman</td>\n",
       "    </tr>\n",
       "  </tbody>\n",
       "</table>\n",
       "<p>1306 rows × 7 columns</p>\n",
       "</div>"
      ],
      "text/plain": [
       "                                       AcademicPosition        Response ID  \\\n",
       "0                                        I am a postdoc  R_2V4kjf4gOQNH6EL   \n",
       "1                                        I am a postdoc  R_2Mm7mAXANKJetCY   \n",
       "2     I am tenured (please, indicate the year you re...  R_51QYRBe22NQZDxL   \n",
       "3     I am tenured (please, indicate the year you re...  R_8EWJNcxqDcHKUzb   \n",
       "4     I am tenured (please, indicate the year you re...  R_2fqgAOx1KsWT4nt   \n",
       "...                                                 ...                ...   \n",
       "1301                    I am a non-tenure-track faculty  R_83OxM8DxlMmRnIl   \n",
       "1302                                     I am a postdoc  R_2pKD21d4JII2EKF   \n",
       "1303  I am tenured (please, indicate the year you re...  R_83lrPFMg7s39zwt   \n",
       "1304                                     I am a postdoc  R_8hHbS6L2AP8dHBw   \n",
       "1305                                     I am a postdoc  R_2IQbjf8O2JcA6bD   \n",
       "\n",
       "      NumPublications  NumChildren  \\\n",
       "0                15.0            0   \n",
       "1                19.0            2   \n",
       "2              1900.0            2   \n",
       "3                 0.0            2   \n",
       "4               300.0            2   \n",
       "...               ...          ...   \n",
       "1301             14.0            4   \n",
       "1302              5.0            2   \n",
       "1303              5.0            3   \n",
       "1304             15.0            1   \n",
       "1305             19.0            1   \n",
       "\n",
       "                                         ParentalLeave1 ChildBornCountry1  \\\n",
       "0                                                   NaN               NaN   \n",
       "1                          No, I did not take the leave           Germany   \n",
       "2                                                   NaN           Germany   \n",
       "3                          No, I did not take the leave           Germany   \n",
       "4     Yes, and I spent up to 1/3 of that time on wor...       Netherlands   \n",
       "...                                                 ...               ...   \n",
       "1301                       No, I did not take the leave           Germany   \n",
       "1302                                                NaN           Romania   \n",
       "1303                                                NaN            France   \n",
       "1304  Yes, and I spent at least 2/3 of that time on ...           Germany   \n",
       "1305  Yes, and I did not do anything work-related du...           Finland   \n",
       "\n",
       "     GenderIdentity  \n",
       "0             Woman  \n",
       "1             Woman  \n",
       "2             Woman  \n",
       "3               Man  \n",
       "4               Man  \n",
       "...             ...  \n",
       "1301            Man  \n",
       "1302          Woman  \n",
       "1303          Woman  \n",
       "1304          Woman  \n",
       "1305          Woman  \n",
       "\n",
       "[1306 rows x 7 columns]"
      ]
     },
     "execution_count": 2,
     "metadata": {},
     "output_type": "execute_result"
    }
   ],
   "source": [
    "# Remove unnecessary columns\n",
    "df = df.drop(columns=['ParentalLeave2', 'ParentalLeave3', 'ParentalLeave4', 'ParentalLeave5', 'ParentalLeave6', 'ParentalLeave7', 'ParentalLeave8', 'ParentalLeave9', 'ParentalLeave10'])\n",
    "df"
   ]
  },
  {
   "cell_type": "markdown",
   "id": "6f4438cd",
   "metadata": {},
   "source": [
    "Drop rows where necessary data is nan"
   ]
  },
  {
   "cell_type": "code",
   "execution_count": 3,
   "id": "d2ed5b75",
   "metadata": {},
   "outputs": [
    {
     "data": {
      "text/html": [
       "<div>\n",
       "<style scoped>\n",
       "    .dataframe tbody tr th:only-of-type {\n",
       "        vertical-align: middle;\n",
       "    }\n",
       "\n",
       "    .dataframe tbody tr th {\n",
       "        vertical-align: top;\n",
       "    }\n",
       "\n",
       "    .dataframe thead th {\n",
       "        text-align: right;\n",
       "    }\n",
       "</style>\n",
       "<table border=\"1\" class=\"dataframe\">\n",
       "  <thead>\n",
       "    <tr style=\"text-align: right;\">\n",
       "      <th></th>\n",
       "      <th>AcademicPosition</th>\n",
       "      <th>Response ID</th>\n",
       "      <th>NumPublications</th>\n",
       "      <th>NumChildren</th>\n",
       "      <th>ParentalLeave1</th>\n",
       "      <th>ChildBornCountry1</th>\n",
       "      <th>GenderIdentity</th>\n",
       "    </tr>\n",
       "  </thead>\n",
       "  <tbody>\n",
       "    <tr>\n",
       "      <th>0</th>\n",
       "      <td>I am a postdoc</td>\n",
       "      <td>R_2V4kjf4gOQNH6EL</td>\n",
       "      <td>15.0</td>\n",
       "      <td>0</td>\n",
       "      <td>NaN</td>\n",
       "      <td>NaN</td>\n",
       "      <td>Woman</td>\n",
       "    </tr>\n",
       "    <tr>\n",
       "      <th>1</th>\n",
       "      <td>I am a postdoc</td>\n",
       "      <td>R_2Mm7mAXANKJetCY</td>\n",
       "      <td>19.0</td>\n",
       "      <td>2</td>\n",
       "      <td>No, I did not take the leave</td>\n",
       "      <td>Germany</td>\n",
       "      <td>Woman</td>\n",
       "    </tr>\n",
       "    <tr>\n",
       "      <th>2</th>\n",
       "      <td>I am tenured (please, indicate the year you re...</td>\n",
       "      <td>R_51QYRBe22NQZDxL</td>\n",
       "      <td>1900.0</td>\n",
       "      <td>2</td>\n",
       "      <td>NaN</td>\n",
       "      <td>Germany</td>\n",
       "      <td>Woman</td>\n",
       "    </tr>\n",
       "    <tr>\n",
       "      <th>3</th>\n",
       "      <td>I am tenured (please, indicate the year you re...</td>\n",
       "      <td>R_8EWJNcxqDcHKUzb</td>\n",
       "      <td>0.0</td>\n",
       "      <td>2</td>\n",
       "      <td>No, I did not take the leave</td>\n",
       "      <td>Germany</td>\n",
       "      <td>Man</td>\n",
       "    </tr>\n",
       "    <tr>\n",
       "      <th>4</th>\n",
       "      <td>I am tenured (please, indicate the year you re...</td>\n",
       "      <td>R_2fqgAOx1KsWT4nt</td>\n",
       "      <td>300.0</td>\n",
       "      <td>2</td>\n",
       "      <td>Yes, and I spent up to 1/3 of that time on wor...</td>\n",
       "      <td>Netherlands</td>\n",
       "      <td>Man</td>\n",
       "    </tr>\n",
       "    <tr>\n",
       "      <th>...</th>\n",
       "      <td>...</td>\n",
       "      <td>...</td>\n",
       "      <td>...</td>\n",
       "      <td>...</td>\n",
       "      <td>...</td>\n",
       "      <td>...</td>\n",
       "      <td>...</td>\n",
       "    </tr>\n",
       "    <tr>\n",
       "      <th>1301</th>\n",
       "      <td>I am a non-tenure-track faculty</td>\n",
       "      <td>R_83OxM8DxlMmRnIl</td>\n",
       "      <td>14.0</td>\n",
       "      <td>4</td>\n",
       "      <td>No, I did not take the leave</td>\n",
       "      <td>Germany</td>\n",
       "      <td>Man</td>\n",
       "    </tr>\n",
       "    <tr>\n",
       "      <th>1302</th>\n",
       "      <td>I am a postdoc</td>\n",
       "      <td>R_2pKD21d4JII2EKF</td>\n",
       "      <td>5.0</td>\n",
       "      <td>2</td>\n",
       "      <td>NaN</td>\n",
       "      <td>Romania</td>\n",
       "      <td>Woman</td>\n",
       "    </tr>\n",
       "    <tr>\n",
       "      <th>1303</th>\n",
       "      <td>I am tenured (please, indicate the year you re...</td>\n",
       "      <td>R_83lrPFMg7s39zwt</td>\n",
       "      <td>5.0</td>\n",
       "      <td>3</td>\n",
       "      <td>NaN</td>\n",
       "      <td>France</td>\n",
       "      <td>Woman</td>\n",
       "    </tr>\n",
       "    <tr>\n",
       "      <th>1304</th>\n",
       "      <td>I am a postdoc</td>\n",
       "      <td>R_8hHbS6L2AP8dHBw</td>\n",
       "      <td>15.0</td>\n",
       "      <td>1</td>\n",
       "      <td>Yes, and I spent at least 2/3 of that time on ...</td>\n",
       "      <td>Germany</td>\n",
       "      <td>Woman</td>\n",
       "    </tr>\n",
       "    <tr>\n",
       "      <th>1305</th>\n",
       "      <td>I am a postdoc</td>\n",
       "      <td>R_2IQbjf8O2JcA6bD</td>\n",
       "      <td>19.0</td>\n",
       "      <td>1</td>\n",
       "      <td>Yes, and I did not do anything work-related du...</td>\n",
       "      <td>Finland</td>\n",
       "      <td>Woman</td>\n",
       "    </tr>\n",
       "  </tbody>\n",
       "</table>\n",
       "<p>1306 rows × 7 columns</p>\n",
       "</div>"
      ],
      "text/plain": [
       "                                       AcademicPosition        Response ID  \\\n",
       "0                                        I am a postdoc  R_2V4kjf4gOQNH6EL   \n",
       "1                                        I am a postdoc  R_2Mm7mAXANKJetCY   \n",
       "2     I am tenured (please, indicate the year you re...  R_51QYRBe22NQZDxL   \n",
       "3     I am tenured (please, indicate the year you re...  R_8EWJNcxqDcHKUzb   \n",
       "4     I am tenured (please, indicate the year you re...  R_2fqgAOx1KsWT4nt   \n",
       "...                                                 ...                ...   \n",
       "1301                    I am a non-tenure-track faculty  R_83OxM8DxlMmRnIl   \n",
       "1302                                     I am a postdoc  R_2pKD21d4JII2EKF   \n",
       "1303  I am tenured (please, indicate the year you re...  R_83lrPFMg7s39zwt   \n",
       "1304                                     I am a postdoc  R_8hHbS6L2AP8dHBw   \n",
       "1305                                     I am a postdoc  R_2IQbjf8O2JcA6bD   \n",
       "\n",
       "      NumPublications  NumChildren  \\\n",
       "0                15.0            0   \n",
       "1                19.0            2   \n",
       "2              1900.0            2   \n",
       "3                 0.0            2   \n",
       "4               300.0            2   \n",
       "...               ...          ...   \n",
       "1301             14.0            4   \n",
       "1302              5.0            2   \n",
       "1303              5.0            3   \n",
       "1304             15.0            1   \n",
       "1305             19.0            1   \n",
       "\n",
       "                                         ParentalLeave1 ChildBornCountry1  \\\n",
       "0                                                   NaN               NaN   \n",
       "1                          No, I did not take the leave           Germany   \n",
       "2                                                   NaN           Germany   \n",
       "3                          No, I did not take the leave           Germany   \n",
       "4     Yes, and I spent up to 1/3 of that time on wor...       Netherlands   \n",
       "...                                                 ...               ...   \n",
       "1301                       No, I did not take the leave           Germany   \n",
       "1302                                                NaN           Romania   \n",
       "1303                                                NaN            France   \n",
       "1304  Yes, and I spent at least 2/3 of that time on ...           Germany   \n",
       "1305  Yes, and I did not do anything work-related du...           Finland   \n",
       "\n",
       "     GenderIdentity  \n",
       "0             Woman  \n",
       "1             Woman  \n",
       "2             Woman  \n",
       "3               Man  \n",
       "4               Man  \n",
       "...             ...  \n",
       "1301            Man  \n",
       "1302          Woman  \n",
       "1303          Woman  \n",
       "1304          Woman  \n",
       "1305          Woman  \n",
       "\n",
       "[1306 rows x 7 columns]"
      ]
     },
     "execution_count": 3,
     "metadata": {},
     "output_type": "execute_result"
    }
   ],
   "source": [
    "df = df.dropna(subset=['NumPublications'])\n",
    "df"
   ]
  },
  {
   "cell_type": "markdown",
   "id": "bc9b3738",
   "metadata": {},
   "source": [
    "Now, remove cases where the first child was born outside europe"
   ]
  },
  {
   "cell_type": "code",
   "execution_count": 4,
   "id": "0acd34c4",
   "metadata": {},
   "outputs": [],
   "source": [
    "# Remove rows where the 'ChildBornCountry1' is not in Europe or is not NaN\n",
    "\n",
    "european_countries = [\n",
    "    \"Albania\",\n",
    "    \"Andorra\",\n",
    "    \"Austria\",\n",
    "    \"Belgium\",\n",
    "    \"Bosnia and Herzegovina\",\n",
    "    \"Bulgaria\",\n",
    "    \"Croatia\",\n",
    "    \"Cyprus\",\n",
    "    \"Czech Republic\",\n",
    "    \"Denmark\",\n",
    "    \"Estonia\",\n",
    "    \"Finland\",\n",
    "    \"France\",\n",
    "    \"Germany\",\n",
    "    \"Greece\",\n",
    "    \"Hungary\",\n",
    "    \"Iceland\",\n",
    "    \"Ireland\",\n",
    "    \"Italy\",\n",
    "    \"Latvia\",\n",
    "    \"Liechtenstein\",\n",
    "    \"Lithuania\",\n",
    "    \"Luxembourg\",\n",
    "    \"Malta\",\n",
    "    \"Moldova\",\n",
    "    \"Monaco\",\n",
    "    \"Netherlands\",\n",
    "    \"Macedonia\",\n",
    "    \"Norway\",\n",
    "    \"Poland\",\n",
    "    \"Portugal\",\n",
    "    \"Romania\",\n",
    "    \"San Marino\",\n",
    "    \"Serbia and Montenegro\",\n",
    "    \"Slovakia\",\n",
    "    \"Slovenia\",\n",
    "    \"Spain\",\n",
    "    \"Sweden\",\n",
    "    \"Switzerland\",\n",
    "    \"United Kingdom\",\n",
    "    \"Vatican City (Holy See)\"\n",
    "]\n",
    "\n",
    "df_europe = df[df['ChildBornCountry1'].isin(european_countries) | df['ChildBornCountry1'].isna()]\n",
    "non_europe_df = df[df['ChildBornCountry1'].notna() & ~df['ChildBornCountry1'].isin(european_countries)]\n",
    "\n"
   ]
  },
  {
   "cell_type": "code",
   "execution_count": 5,
   "id": "73783dcc",
   "metadata": {},
   "outputs": [
    {
     "data": {
      "text/plain": [
       "54"
      ]
     },
     "execution_count": 5,
     "metadata": {},
     "output_type": "execute_result"
    }
   ],
   "source": [
    "non_europe_df.head()\n",
    "len(non_europe_df)"
   ]
  },
  {
   "cell_type": "code",
   "execution_count": 6,
   "id": "f8fd9584",
   "metadata": {},
   "outputs": [
    {
     "data": {
      "text/plain": [
       "1252"
      ]
     },
     "execution_count": 6,
     "metadata": {},
     "output_type": "execute_result"
    }
   ],
   "source": [
    "df_europe\n",
    "len(df_europe)"
   ]
  },
  {
   "cell_type": "code",
   "execution_count": 7,
   "id": "ab5ddd03",
   "metadata": {},
   "outputs": [
    {
     "data": {
      "text/html": [
       "<div>\n",
       "<style scoped>\n",
       "    .dataframe tbody tr th:only-of-type {\n",
       "        vertical-align: middle;\n",
       "    }\n",
       "\n",
       "    .dataframe tbody tr th {\n",
       "        vertical-align: top;\n",
       "    }\n",
       "\n",
       "    .dataframe thead th {\n",
       "        text-align: right;\n",
       "    }\n",
       "</style>\n",
       "<table border=\"1\" class=\"dataframe\">\n",
       "  <thead>\n",
       "    <tr style=\"text-align: right;\">\n",
       "      <th></th>\n",
       "      <th>AcademicPosition</th>\n",
       "      <th>NumPublications</th>\n",
       "      <th>NumChildren</th>\n",
       "      <th>ParentalLeave1</th>\n",
       "      <th>ChildBornCountry1</th>\n",
       "      <th>GenderIdentity</th>\n",
       "    </tr>\n",
       "  </thead>\n",
       "  <tbody>\n",
       "    <tr>\n",
       "      <th>0</th>\n",
       "      <td>I am a postdoc</td>\n",
       "      <td>15.0</td>\n",
       "      <td>0</td>\n",
       "      <td>NaN</td>\n",
       "      <td>NaN</td>\n",
       "      <td>Woman</td>\n",
       "    </tr>\n",
       "    <tr>\n",
       "      <th>1</th>\n",
       "      <td>I am a postdoc</td>\n",
       "      <td>19.0</td>\n",
       "      <td>2</td>\n",
       "      <td>No, I did not take the leave</td>\n",
       "      <td>Germany</td>\n",
       "      <td>Woman</td>\n",
       "    </tr>\n",
       "    <tr>\n",
       "      <th>2</th>\n",
       "      <td>I am tenured (please, indicate the year you re...</td>\n",
       "      <td>1900.0</td>\n",
       "      <td>2</td>\n",
       "      <td>NaN</td>\n",
       "      <td>Germany</td>\n",
       "      <td>Woman</td>\n",
       "    </tr>\n",
       "    <tr>\n",
       "      <th>3</th>\n",
       "      <td>I am tenured (please, indicate the year you re...</td>\n",
       "      <td>0.0</td>\n",
       "      <td>2</td>\n",
       "      <td>No, I did not take the leave</td>\n",
       "      <td>Germany</td>\n",
       "      <td>Man</td>\n",
       "    </tr>\n",
       "    <tr>\n",
       "      <th>4</th>\n",
       "      <td>I am tenured (please, indicate the year you re...</td>\n",
       "      <td>300.0</td>\n",
       "      <td>2</td>\n",
       "      <td>Yes, and I spent up to 1/3 of that time on wor...</td>\n",
       "      <td>Netherlands</td>\n",
       "      <td>Man</td>\n",
       "    </tr>\n",
       "    <tr>\n",
       "      <th>...</th>\n",
       "      <td>...</td>\n",
       "      <td>...</td>\n",
       "      <td>...</td>\n",
       "      <td>...</td>\n",
       "      <td>...</td>\n",
       "      <td>...</td>\n",
       "    </tr>\n",
       "    <tr>\n",
       "      <th>1301</th>\n",
       "      <td>I am a non-tenure-track faculty</td>\n",
       "      <td>14.0</td>\n",
       "      <td>4</td>\n",
       "      <td>No, I did not take the leave</td>\n",
       "      <td>Germany</td>\n",
       "      <td>Man</td>\n",
       "    </tr>\n",
       "    <tr>\n",
       "      <th>1302</th>\n",
       "      <td>I am a postdoc</td>\n",
       "      <td>5.0</td>\n",
       "      <td>2</td>\n",
       "      <td>NaN</td>\n",
       "      <td>Romania</td>\n",
       "      <td>Woman</td>\n",
       "    </tr>\n",
       "    <tr>\n",
       "      <th>1303</th>\n",
       "      <td>I am tenured (please, indicate the year you re...</td>\n",
       "      <td>5.0</td>\n",
       "      <td>3</td>\n",
       "      <td>NaN</td>\n",
       "      <td>France</td>\n",
       "      <td>Woman</td>\n",
       "    </tr>\n",
       "    <tr>\n",
       "      <th>1304</th>\n",
       "      <td>I am a postdoc</td>\n",
       "      <td>15.0</td>\n",
       "      <td>1</td>\n",
       "      <td>Yes, and I spent at least 2/3 of that time on ...</td>\n",
       "      <td>Germany</td>\n",
       "      <td>Woman</td>\n",
       "    </tr>\n",
       "    <tr>\n",
       "      <th>1305</th>\n",
       "      <td>I am a postdoc</td>\n",
       "      <td>19.0</td>\n",
       "      <td>1</td>\n",
       "      <td>Yes, and I did not do anything work-related du...</td>\n",
       "      <td>Finland</td>\n",
       "      <td>Woman</td>\n",
       "    </tr>\n",
       "  </tbody>\n",
       "</table>\n",
       "<p>1252 rows × 6 columns</p>\n",
       "</div>"
      ],
      "text/plain": [
       "                                       AcademicPosition  NumPublications  \\\n",
       "0                                        I am a postdoc             15.0   \n",
       "1                                        I am a postdoc             19.0   \n",
       "2     I am tenured (please, indicate the year you re...           1900.0   \n",
       "3     I am tenured (please, indicate the year you re...              0.0   \n",
       "4     I am tenured (please, indicate the year you re...            300.0   \n",
       "...                                                 ...              ...   \n",
       "1301                    I am a non-tenure-track faculty             14.0   \n",
       "1302                                     I am a postdoc              5.0   \n",
       "1303  I am tenured (please, indicate the year you re...              5.0   \n",
       "1304                                     I am a postdoc             15.0   \n",
       "1305                                     I am a postdoc             19.0   \n",
       "\n",
       "      NumChildren                                     ParentalLeave1  \\\n",
       "0               0                                                NaN   \n",
       "1               2                       No, I did not take the leave   \n",
       "2               2                                                NaN   \n",
       "3               2                       No, I did not take the leave   \n",
       "4               2  Yes, and I spent up to 1/3 of that time on wor...   \n",
       "...           ...                                                ...   \n",
       "1301            4                       No, I did not take the leave   \n",
       "1302            2                                                NaN   \n",
       "1303            3                                                NaN   \n",
       "1304            1  Yes, and I spent at least 2/3 of that time on ...   \n",
       "1305            1  Yes, and I did not do anything work-related du...   \n",
       "\n",
       "     ChildBornCountry1 GenderIdentity  \n",
       "0                  NaN          Woman  \n",
       "1              Germany          Woman  \n",
       "2              Germany          Woman  \n",
       "3              Germany            Man  \n",
       "4          Netherlands            Man  \n",
       "...                ...            ...  \n",
       "1301           Germany            Man  \n",
       "1302           Romania          Woman  \n",
       "1303            France          Woman  \n",
       "1304           Germany          Woman  \n",
       "1305           Finland          Woman  \n",
       "\n",
       "[1252 rows x 6 columns]"
      ]
     },
     "metadata": {},
     "output_type": "display_data"
    }
   ],
   "source": [
    "df_without_responseid = df_europe.drop(columns=['Response ID'])\n",
    "df = df_without_responseid\n",
    "display(df)"
   ]
  },
  {
   "cell_type": "markdown",
   "id": "33662680",
   "metadata": {},
   "source": [
    "## Split The Dataset\n",
    "\n",
    "We now want to split the dataset into groups:\n",
    " - Group A: Took parental leave\n",
    " - Group B: Did not take parental leave\n",
    " \n",
    " Note: if someone spends time working during parental leave, they are still a member of group A"
   ]
  },
  {
   "cell_type": "code",
   "execution_count": 8,
   "id": "e21ad7e4",
   "metadata": {},
   "outputs": [
    {
     "data": {
      "text/plain": [
       "895"
      ]
     },
     "execution_count": 8,
     "metadata": {},
     "output_type": "execute_result"
    }
   ],
   "source": [
    "df_parents = df[df['NumChildren'] > 0]\n",
    "len(df_parents)"
   ]
  },
  {
   "cell_type": "code",
   "execution_count": 9,
   "id": "5a111383",
   "metadata": {},
   "outputs": [
    {
     "data": {
      "text/plain": [
       "665"
      ]
     },
     "execution_count": 9,
     "metadata": {},
     "output_type": "execute_result"
    }
   ],
   "source": [
    "# Dropping rows without clear parental leave response\n",
    "df_parents = df_parents.dropna(subset=['ParentalLeave1'])\n",
    "len(df_parents)"
   ]
  },
  {
   "cell_type": "code",
   "execution_count": 10,
   "id": "471ebafa",
   "metadata": {},
   "outputs": [
    {
     "data": {
      "text/html": [
       "<div>\n",
       "<style scoped>\n",
       "    .dataframe tbody tr th:only-of-type {\n",
       "        vertical-align: middle;\n",
       "    }\n",
       "\n",
       "    .dataframe tbody tr th {\n",
       "        vertical-align: top;\n",
       "    }\n",
       "\n",
       "    .dataframe thead th {\n",
       "        text-align: right;\n",
       "    }\n",
       "</style>\n",
       "<table border=\"1\" class=\"dataframe\">\n",
       "  <thead>\n",
       "    <tr style=\"text-align: right;\">\n",
       "      <th></th>\n",
       "      <th>AcademicPosition</th>\n",
       "      <th>NumPublications</th>\n",
       "      <th>NumChildren</th>\n",
       "      <th>ParentalLeave1</th>\n",
       "      <th>ChildBornCountry1</th>\n",
       "      <th>GenderIdentity</th>\n",
       "      <th>TookLeave</th>\n",
       "    </tr>\n",
       "  </thead>\n",
       "  <tbody>\n",
       "    <tr>\n",
       "      <th>1</th>\n",
       "      <td>I am a postdoc</td>\n",
       "      <td>19.0</td>\n",
       "      <td>2</td>\n",
       "      <td>No, I did not take the leave</td>\n",
       "      <td>Germany</td>\n",
       "      <td>Woman</td>\n",
       "      <td>0</td>\n",
       "    </tr>\n",
       "    <tr>\n",
       "      <th>3</th>\n",
       "      <td>I am tenured (please, indicate the year you re...</td>\n",
       "      <td>0.0</td>\n",
       "      <td>2</td>\n",
       "      <td>No, I did not take the leave</td>\n",
       "      <td>Germany</td>\n",
       "      <td>Man</td>\n",
       "      <td>0</td>\n",
       "    </tr>\n",
       "    <tr>\n",
       "      <th>4</th>\n",
       "      <td>I am tenured (please, indicate the year you re...</td>\n",
       "      <td>300.0</td>\n",
       "      <td>2</td>\n",
       "      <td>Yes, and I spent up to 1/3 of that time on wor...</td>\n",
       "      <td>Netherlands</td>\n",
       "      <td>Man</td>\n",
       "      <td>1</td>\n",
       "    </tr>\n",
       "    <tr>\n",
       "      <th>5</th>\n",
       "      <td>I am a postdoc</td>\n",
       "      <td>34.0</td>\n",
       "      <td>2</td>\n",
       "      <td>Yes, and I did not do anything work-related du...</td>\n",
       "      <td>Germany</td>\n",
       "      <td>Woman</td>\n",
       "      <td>1</td>\n",
       "    </tr>\n",
       "    <tr>\n",
       "      <th>6</th>\n",
       "      <td>I am a postdoc</td>\n",
       "      <td>40.0</td>\n",
       "      <td>3</td>\n",
       "      <td>Yes, and I did not do anything work-related du...</td>\n",
       "      <td>NaN</td>\n",
       "      <td>Woman</td>\n",
       "      <td>1</td>\n",
       "    </tr>\n",
       "  </tbody>\n",
       "</table>\n",
       "</div>"
      ],
      "text/plain": [
       "                                    AcademicPosition  NumPublications  \\\n",
       "1                                     I am a postdoc             19.0   \n",
       "3  I am tenured (please, indicate the year you re...              0.0   \n",
       "4  I am tenured (please, indicate the year you re...            300.0   \n",
       "5                                     I am a postdoc             34.0   \n",
       "6                                     I am a postdoc             40.0   \n",
       "\n",
       "   NumChildren                                     ParentalLeave1  \\\n",
       "1            2                       No, I did not take the leave   \n",
       "3            2                       No, I did not take the leave   \n",
       "4            2  Yes, and I spent up to 1/3 of that time on wor...   \n",
       "5            2  Yes, and I did not do anything work-related du...   \n",
       "6            3  Yes, and I did not do anything work-related du...   \n",
       "\n",
       "  ChildBornCountry1 GenderIdentity  TookLeave  \n",
       "1           Germany          Woman          0  \n",
       "3           Germany            Man          0  \n",
       "4       Netherlands            Man          1  \n",
       "5           Germany          Woman          1  \n",
       "6               NaN          Woman          1  "
      ]
     },
     "execution_count": 10,
     "metadata": {},
     "output_type": "execute_result"
    }
   ],
   "source": [
    "df_parents['TookLeave'] = df_parents['ParentalLeave1'].str.startswith('Yes').astype(int)\n",
    "df_parents.head()"
   ]
  },
  {
   "cell_type": "code",
   "execution_count": 11,
   "id": "822a8e3c",
   "metadata": {},
   "outputs": [
    {
     "data": {
      "text/plain": [
       "count     665.000000\n",
       "mean       61.111880\n",
       "std       101.222788\n",
       "min         0.000000\n",
       "25%        19.000000\n",
       "50%        34.000000\n",
       "75%        66.000000\n",
       "max      1264.000000\n",
       "Name: NumPublications, dtype: float64"
      ]
     },
     "execution_count": 11,
     "metadata": {},
     "output_type": "execute_result"
    }
   ],
   "source": [
    "df_parents['NumPublications'].describe()\n"
   ]
  },
  {
   "cell_type": "markdown",
   "id": "29798476",
   "metadata": {},
   "source": [
    "There seems to be quite some outlier with a record of over 1000 Publications."
   ]
  },
  {
   "cell_type": "code",
   "execution_count": 12,
   "id": "5abb6706",
   "metadata": {},
   "outputs": [],
   "source": [
    "group_a = df_parents[df_parents['TookLeave'] == 1]\n",
    "group_b = df_parents[df_parents['TookLeave'] == 0]"
   ]
  },
  {
   "cell_type": "markdown",
   "id": "0a3bd448",
   "metadata": {},
   "source": [
    "### Descriptive comparison"
   ]
  },
  {
   "cell_type": "code",
   "execution_count": 13,
   "id": "45d77422",
   "metadata": {},
   "outputs": [
    {
     "name": "stdout",
     "output_type": "stream",
     "text": [
      "525 took parental leave\n",
      "140 did not take parental leave\n"
     ]
    },
    {
     "data": {
      "text/html": [
       "<div>\n",
       "<style scoped>\n",
       "    .dataframe tbody tr th:only-of-type {\n",
       "        vertical-align: middle;\n",
       "    }\n",
       "\n",
       "    .dataframe tbody tr th {\n",
       "        vertical-align: top;\n",
       "    }\n",
       "\n",
       "    .dataframe thead th {\n",
       "        text-align: right;\n",
       "    }\n",
       "</style>\n",
       "<table border=\"1\" class=\"dataframe\">\n",
       "  <thead>\n",
       "    <tr style=\"text-align: right;\">\n",
       "      <th></th>\n",
       "      <th>count</th>\n",
       "      <th>mean</th>\n",
       "      <th>std</th>\n",
       "      <th>min</th>\n",
       "      <th>25%</th>\n",
       "      <th>50%</th>\n",
       "      <th>75%</th>\n",
       "      <th>max</th>\n",
       "    </tr>\n",
       "    <tr>\n",
       "      <th>TookLeave</th>\n",
       "      <th></th>\n",
       "      <th></th>\n",
       "      <th></th>\n",
       "      <th></th>\n",
       "      <th></th>\n",
       "      <th></th>\n",
       "      <th></th>\n",
       "      <th></th>\n",
       "    </tr>\n",
       "  </thead>\n",
       "  <tbody>\n",
       "    <tr>\n",
       "      <th>0</th>\n",
       "      <td>140.0</td>\n",
       "      <td>88.435714</td>\n",
       "      <td>141.954153</td>\n",
       "      <td>0.0</td>\n",
       "      <td>24.5</td>\n",
       "      <td>49.5</td>\n",
       "      <td>98.5</td>\n",
       "      <td>1100.0</td>\n",
       "    </tr>\n",
       "    <tr>\n",
       "      <th>1</th>\n",
       "      <td>525.0</td>\n",
       "      <td>53.825524</td>\n",
       "      <td>85.938876</td>\n",
       "      <td>0.4</td>\n",
       "      <td>17.0</td>\n",
       "      <td>30.0</td>\n",
       "      <td>59.0</td>\n",
       "      <td>1264.0</td>\n",
       "    </tr>\n",
       "  </tbody>\n",
       "</table>\n",
       "</div>"
      ],
      "text/plain": [
       "           count       mean         std  min   25%   50%   75%     max\n",
       "TookLeave                                                             \n",
       "0          140.0  88.435714  141.954153  0.0  24.5  49.5  98.5  1100.0\n",
       "1          525.0  53.825524   85.938876  0.4  17.0  30.0  59.0  1264.0"
      ]
     },
     "execution_count": 13,
     "metadata": {},
     "output_type": "execute_result"
    }
   ],
   "source": [
    "print(group_a.shape[0], \"took parental leave\")\n",
    "print(group_b.shape[0], \"did not take parental leave\")\n",
    "\n",
    "df_parents.groupby('TookLeave')['NumPublications'].describe()\n"
   ]
  },
  {
   "cell_type": "markdown",
   "id": "2a2e6e19",
   "metadata": {},
   "source": [
    "Do treatment and control group differ? (gender, position, country)"
   ]
  },
  {
   "cell_type": "code",
   "execution_count": 14,
   "id": "df7031e6",
   "metadata": {},
   "outputs": [
    {
     "data": {
      "text/html": [
       "<div>\n",
       "<style scoped>\n",
       "    .dataframe tbody tr th:only-of-type {\n",
       "        vertical-align: middle;\n",
       "    }\n",
       "\n",
       "    .dataframe tbody tr th {\n",
       "        vertical-align: top;\n",
       "    }\n",
       "\n",
       "    .dataframe thead th {\n",
       "        text-align: right;\n",
       "    }\n",
       "</style>\n",
       "<table border=\"1\" class=\"dataframe\">\n",
       "  <thead>\n",
       "    <tr style=\"text-align: right;\">\n",
       "      <th>TookLeave</th>\n",
       "      <th>0</th>\n",
       "      <th>1</th>\n",
       "    </tr>\n",
       "    <tr>\n",
       "      <th>GenderIdentity</th>\n",
       "      <th></th>\n",
       "      <th></th>\n",
       "    </tr>\n",
       "  </thead>\n",
       "  <tbody>\n",
       "    <tr>\n",
       "      <th>Man</th>\n",
       "      <td>0.700000</td>\n",
       "      <td>0.326960</td>\n",
       "    </tr>\n",
       "    <tr>\n",
       "      <th>Non-binary person</th>\n",
       "      <td>0.000000</td>\n",
       "      <td>0.001912</td>\n",
       "    </tr>\n",
       "    <tr>\n",
       "      <th>Prefer not to answer</th>\n",
       "      <td>0.021429</td>\n",
       "      <td>0.001912</td>\n",
       "    </tr>\n",
       "    <tr>\n",
       "      <th>Woman</th>\n",
       "      <td>0.278571</td>\n",
       "      <td>0.669216</td>\n",
       "    </tr>\n",
       "  </tbody>\n",
       "</table>\n",
       "</div>"
      ],
      "text/plain": [
       "TookLeave                    0         1\n",
       "GenderIdentity                          \n",
       "Man                   0.700000  0.326960\n",
       "Non-binary person     0.000000  0.001912\n",
       "Prefer not to answer  0.021429  0.001912\n",
       "Woman                 0.278571  0.669216"
      ]
     },
     "execution_count": 14,
     "metadata": {},
     "output_type": "execute_result"
    }
   ],
   "source": [
    "# Gender distribution\n",
    "pd.crosstab(df_parents['GenderIdentity'], df_parents['TookLeave'], normalize='columns')"
   ]
  },
  {
   "cell_type": "code",
   "execution_count": 15,
   "id": "649d33ae",
   "metadata": {},
   "outputs": [
    {
     "name": "stdout",
     "output_type": "stream",
     "text": [
      "4\n"
     ]
    }
   ],
   "source": [
    "count_prefer_not_to_answer = df_parents[df_parents['GenderIdentity'] == 'Prefer not to answer'].shape[0]\n",
    "print(count_prefer_not_to_answer)"
   ]
  },
  {
   "cell_type": "markdown",
   "id": "842114d2",
   "metadata": {},
   "source": [
    "Among those who did not take parental leave, 70% identified as men, while only 28% identified as women.\n",
    "In contrast, among those who did take parental leave, 67% were women, and only 33% were men."
   ]
  },
  {
   "cell_type": "code",
   "execution_count": 16,
   "id": "3144b007",
   "metadata": {},
   "outputs": [
    {
     "data": {
      "text/html": [
       "<div>\n",
       "<style scoped>\n",
       "    .dataframe tbody tr th:only-of-type {\n",
       "        vertical-align: middle;\n",
       "    }\n",
       "\n",
       "    .dataframe tbody tr th {\n",
       "        vertical-align: top;\n",
       "    }\n",
       "\n",
       "    .dataframe thead th {\n",
       "        text-align: right;\n",
       "    }\n",
       "</style>\n",
       "<table border=\"1\" class=\"dataframe\">\n",
       "  <thead>\n",
       "    <tr style=\"text-align: right;\">\n",
       "      <th>TookLeave</th>\n",
       "      <th>0</th>\n",
       "      <th>1</th>\n",
       "    </tr>\n",
       "    <tr>\n",
       "      <th>AcademicPosition</th>\n",
       "      <th></th>\n",
       "      <th></th>\n",
       "    </tr>\n",
       "  </thead>\n",
       "  <tbody>\n",
       "    <tr>\n",
       "      <th>I am a non-tenure-track faculty</th>\n",
       "      <td>0.050000</td>\n",
       "      <td>0.146667</td>\n",
       "    </tr>\n",
       "    <tr>\n",
       "      <th>I am a postdoc</th>\n",
       "      <td>0.107143</td>\n",
       "      <td>0.169524</td>\n",
       "    </tr>\n",
       "    <tr>\n",
       "      <th>I am a tenure-track faculty</th>\n",
       "      <td>0.064286</td>\n",
       "      <td>0.102857</td>\n",
       "    </tr>\n",
       "    <tr>\n",
       "      <th>I am tenured (please, indicate the year you received tenure, e.g., 2010)</th>\n",
       "      <td>0.657143</td>\n",
       "      <td>0.481905</td>\n",
       "    </tr>\n",
       "    <tr>\n",
       "      <th>Other (please, specify)</th>\n",
       "      <td>0.121429</td>\n",
       "      <td>0.099048</td>\n",
       "    </tr>\n",
       "  </tbody>\n",
       "</table>\n",
       "</div>"
      ],
      "text/plain": [
       "TookLeave                                                  0         1\n",
       "AcademicPosition                                                      \n",
       "I am a non-tenure-track faculty                     0.050000  0.146667\n",
       "I am a postdoc                                      0.107143  0.169524\n",
       "I am a tenure-track faculty                         0.064286  0.102857\n",
       "I am tenured (please, indicate the year you rec...  0.657143  0.481905\n",
       "Other (please, specify)                             0.121429  0.099048"
      ]
     },
     "execution_count": 16,
     "metadata": {},
     "output_type": "execute_result"
    }
   ],
   "source": [
    "# Academic position\n",
    "pd.crosstab(df_parents['AcademicPosition'], df_parents['TookLeave'], normalize='columns')"
   ]
  },
  {
   "cell_type": "code",
   "execution_count": 17,
   "id": "23b92936",
   "metadata": {},
   "outputs": [
    {
     "name": "stdout",
     "output_type": "stream",
     "text": [
      "['I am a postdoc'\n",
      " 'I am tenured (please, indicate the year you received tenure, e.g., 2010)'\n",
      " 'I am a tenure-track faculty' 'I am a non-tenure-track faculty'\n",
      " 'Other (please, specify)']\n"
     ]
    }
   ],
   "source": [
    "unique_positions = df_parents['AcademicPosition'].unique()\n",
    "print(unique_positions)"
   ]
  },
  {
   "cell_type": "markdown",
   "id": "e26dd0b3",
   "metadata": {},
   "source": [
    "Among those who did not take parental leave, nearly 66% were tenured faculty, compared to 48% in the group that did take leave.\n",
    "Early-career positions (postdocs and non-tenure-track faculty) are more common among those who took parental leave."
   ]
  },
  {
   "cell_type": "markdown",
   "id": "8be062d8",
   "metadata": {},
   "source": [
    "I will drop country as a covariate and stick to stronger covariats gender and academic position. I am also dropping Non-Binary and prefer not to say people, as underreperesented."
   ]
  },
  {
   "cell_type": "code",
   "execution_count": 18,
   "id": "120c9263",
   "metadata": {},
   "outputs": [],
   "source": [
    "# Flag rare categories you want to exclude from matching\n",
    "df_parents['RareCategoryFlag'] = (\n",
    "    df_parents['GenderIdentity'].isin(['Non-binary person', 'Prefer not to answer'])\n",
    ")"
   ]
  },
  {
   "cell_type": "code",
   "execution_count": 19,
   "id": "66fa11ab",
   "metadata": {},
   "outputs": [],
   "source": [
    "# version without rare categories\n",
    "df_robust = df_parents[~df_parents['RareCategoryFlag']].copy()\n",
    "\n",
    "df_robust['id'] = df_robust.index  \n"
   ]
  },
  {
   "cell_type": "markdown",
   "id": "d275b9b2",
   "metadata": {},
   "source": [
    "## Matching"
   ]
  },
  {
   "cell_type": "code",
   "execution_count": 20,
   "id": "256cb108",
   "metadata": {},
   "outputs": [],
   "source": [
    "import pandas as pd\n",
    "import seaborn as sns\n",
    "import scipy.stats as stats\n",
    "from sklearn.neighbors import NearestNeighbors\n",
    "from sklearn.metrics import pairwise_distances\n",
    "import statsmodels.formula.api as smf\n",
    "import numpy as np\n",
    "import matplotlib.pyplot as plt\n",
    "from sklearn.linear_model import LogisticRegression"
   ]
  },
  {
   "cell_type": "markdown",
   "id": "76802839",
   "metadata": {},
   "source": [
    "##### testing Helic' Version"
   ]
  },
  {
   "cell_type": "code",
   "execution_count": 21,
   "id": "e977b934",
   "metadata": {},
   "outputs": [],
   "source": [
    "def smd(t, c):\n",
    "    mean_t = t.mean()\n",
    "    mean_c = c.mean()\n",
    "    std_pooled = ((t.var() + c.var()) / 2) ** 0.5\n",
    "    return (mean_t - mean_c) / std_pooled if std_pooled > 0 else 0"
   ]
  },
  {
   "cell_type": "code",
   "execution_count": 22,
   "id": "fe73496b",
   "metadata": {},
   "outputs": [],
   "source": [
    "def weighted_mean(var, weights):\n",
    "    return (var * weights).sum() / weights.sum()\n",
    "\n",
    "def weighted_smd(t, c, tw, cw):\n",
    "    mean_t = weighted_mean(t, tw)\n",
    "    mean_c = weighted_mean(c, cw)\n",
    "    var_t = np.average((t - mean_t) ** 2, weights=tw)\n",
    "    var_c = np.average((c - mean_c) ** 2, weights=cw)\n",
    "    std_pooled = ((var_t + var_c) / 2) ** 0.5\n",
    "\n",
    "    return (mean_t - mean_c) / std_pooled if std_pooled > 0 else 0"
   ]
  },
  {
   "cell_type": "code",
   "execution_count": 23,
   "id": "cbe8bb44",
   "metadata": {},
   "outputs": [],
   "source": [
    "covariates = ['GenderIdentity', 'AcademicPosition']"
   ]
  },
  {
   "cell_type": "code",
   "execution_count": 24,
   "id": "d71c812b",
   "metadata": {},
   "outputs": [
    {
     "data": {
      "text/html": [
       "<div>\n",
       "<style scoped>\n",
       "    .dataframe tbody tr th:only-of-type {\n",
       "        vertical-align: middle;\n",
       "    }\n",
       "\n",
       "    .dataframe tbody tr th {\n",
       "        vertical-align: top;\n",
       "    }\n",
       "\n",
       "    .dataframe thead th {\n",
       "        text-align: right;\n",
       "    }\n",
       "</style>\n",
       "<table border=\"1\" class=\"dataframe\">\n",
       "  <thead>\n",
       "    <tr style=\"text-align: right;\">\n",
       "      <th>TookLeave</th>\n",
       "      <th>0</th>\n",
       "      <th>1</th>\n",
       "    </tr>\n",
       "  </thead>\n",
       "  <tbody>\n",
       "    <tr>\n",
       "      <th>GenderIdentity_Man</th>\n",
       "      <td>0.715328</td>\n",
       "      <td>0.326960</td>\n",
       "    </tr>\n",
       "    <tr>\n",
       "      <th>GenderIdentity_Woman</th>\n",
       "      <td>0.284672</td>\n",
       "      <td>0.669216</td>\n",
       "    </tr>\n",
       "    <tr>\n",
       "      <th>AcademicPosition_I am a non-tenure-track faculty</th>\n",
       "      <td>0.051095</td>\n",
       "      <td>0.147228</td>\n",
       "    </tr>\n",
       "    <tr>\n",
       "      <th>AcademicPosition_I am a postdoc</th>\n",
       "      <td>0.109489</td>\n",
       "      <td>0.170172</td>\n",
       "    </tr>\n",
       "    <tr>\n",
       "      <th>AcademicPosition_I am a tenure-track faculty</th>\n",
       "      <td>0.065693</td>\n",
       "      <td>0.103250</td>\n",
       "    </tr>\n",
       "    <tr>\n",
       "      <th>AcademicPosition_I am tenured (please, indicate the year you received tenure, e.g., 2010)</th>\n",
       "      <td>0.649635</td>\n",
       "      <td>0.481836</td>\n",
       "    </tr>\n",
       "    <tr>\n",
       "      <th>AcademicPosition_Other (please, specify)</th>\n",
       "      <td>0.124088</td>\n",
       "      <td>0.097514</td>\n",
       "    </tr>\n",
       "  </tbody>\n",
       "</table>\n",
       "</div>"
      ],
      "text/plain": [
       "TookLeave                                                  0         1\n",
       "GenderIdentity_Man                                  0.715328  0.326960\n",
       "GenderIdentity_Woman                                0.284672  0.669216\n",
       "AcademicPosition_I am a non-tenure-track faculty    0.051095  0.147228\n",
       "AcademicPosition_I am a postdoc                     0.109489  0.170172\n",
       "AcademicPosition_I am a tenure-track faculty        0.065693  0.103250\n",
       "AcademicPosition_I am tenured (please, indicate...  0.649635  0.481836\n",
       "AcademicPosition_Other (please, specify)            0.124088  0.097514"
      ]
     },
     "execution_count": 24,
     "metadata": {},
     "output_type": "execute_result"
    }
   ],
   "source": [
    "ids = df_robust['id'].values  \n",
    "\n",
    "\n",
    "X_dummies = pd.get_dummies(df_robust[covariates], drop_first=False)\n",
    "\n",
    "# Add treatment indicator back\n",
    "X_dummies['TookLeave'] = df_robust['TookLeave'].values\n",
    "X_dummies['id'] = ids \n",
    "X_dummies.drop(columns='id').groupby('TookLeave').mean().T"
   ]
  },
  {
   "cell_type": "markdown",
   "id": "ac5dcc15",
   "metadata": {},
   "source": [
    "70% of the control group are men 32.5% of the treated group are men.\n",
    "28% of the control group are women, 67% of the treated group are women.\n",
    "5% of the control group are Non-tenure track faculty, 15% of treated group are Non-tenure track faculty. \n",
    "11% of the contrtol group are Postdoc, 17% of the treated group are Postdoc.\n",
    "6% of the control group are tenure track faculty, 10% of the treated group are tenure track faculty.\n",
    "66% of the control group are tenured, 48% of the treated are tenured.\n",
    "\n"
   ]
  },
  {
   "cell_type": "code",
   "execution_count": 25,
   "id": "a1d11711",
   "metadata": {},
   "outputs": [
    {
     "data": {
      "text/html": [
       "<div>\n",
       "<style scoped>\n",
       "    .dataframe tbody tr th:only-of-type {\n",
       "        vertical-align: middle;\n",
       "    }\n",
       "\n",
       "    .dataframe tbody tr th {\n",
       "        vertical-align: top;\n",
       "    }\n",
       "\n",
       "    .dataframe thead th {\n",
       "        text-align: right;\n",
       "    }\n",
       "</style>\n",
       "<table border=\"1\" class=\"dataframe\">\n",
       "  <thead>\n",
       "    <tr style=\"text-align: right;\">\n",
       "      <th>TookLeave</th>\n",
       "      <th>0</th>\n",
       "      <th>1</th>\n",
       "    </tr>\n",
       "  </thead>\n",
       "  <tbody>\n",
       "    <tr>\n",
       "      <th>GenderIdentity_Man</th>\n",
       "      <td>98</td>\n",
       "      <td>171</td>\n",
       "    </tr>\n",
       "    <tr>\n",
       "      <th>GenderIdentity_Woman</th>\n",
       "      <td>39</td>\n",
       "      <td>350</td>\n",
       "    </tr>\n",
       "    <tr>\n",
       "      <th>AcademicPosition_I am a non-tenure-track faculty</th>\n",
       "      <td>7</td>\n",
       "      <td>77</td>\n",
       "    </tr>\n",
       "    <tr>\n",
       "      <th>AcademicPosition_I am a postdoc</th>\n",
       "      <td>15</td>\n",
       "      <td>89</td>\n",
       "    </tr>\n",
       "    <tr>\n",
       "      <th>AcademicPosition_I am a tenure-track faculty</th>\n",
       "      <td>9</td>\n",
       "      <td>54</td>\n",
       "    </tr>\n",
       "    <tr>\n",
       "      <th>AcademicPosition_I am tenured (please, indicate the year you received tenure, e.g., 2010)</th>\n",
       "      <td>89</td>\n",
       "      <td>252</td>\n",
       "    </tr>\n",
       "    <tr>\n",
       "      <th>AcademicPosition_Other (please, specify)</th>\n",
       "      <td>17</td>\n",
       "      <td>51</td>\n",
       "    </tr>\n",
       "  </tbody>\n",
       "</table>\n",
       "</div>"
      ],
      "text/plain": [
       "TookLeave                                            0    1\n",
       "GenderIdentity_Man                                  98  171\n",
       "GenderIdentity_Woman                                39  350\n",
       "AcademicPosition_I am a non-tenure-track faculty     7   77\n",
       "AcademicPosition_I am a postdoc                     15   89\n",
       "AcademicPosition_I am a tenure-track faculty         9   54\n",
       "AcademicPosition_I am tenured (please, indicate...  89  252\n",
       "AcademicPosition_Other (please, specify)            17   51"
      ]
     },
     "execution_count": 25,
     "metadata": {},
     "output_type": "execute_result"
    }
   ],
   "source": [
    "X_dummies.drop(columns='id').groupby('TookLeave').sum().T\n"
   ]
  },
  {
   "cell_type": "markdown",
   "id": "8f078899",
   "metadata": {},
   "source": [
    "computing Standardized Mean Differences (SMD)  \n",
    "measuring imbalance between the two groups before matching or weighting  \n",
    "\n",
    "Interpreting Standardized Mean Differences (SMD)  \n",
    "\n",
    "< 0.10\t        Excellent balance — negligible difference\n",
    "0.10 – 0.25\t    Moderate imbalance — might affect causal estimates\n",
    "> 0.25\t        Severe imbalance — matching likely failed for this covariate\n"
   ]
  },
  {
   "cell_type": "code",
   "execution_count": 26,
   "id": "8494f66c",
   "metadata": {},
   "outputs": [],
   "source": [
    "covariates = [col for col in X_dummies.columns if col != 'TookLeave' and col != 'id']"
   ]
  },
  {
   "cell_type": "code",
   "execution_count": 27,
   "id": "94725c26",
   "metadata": {},
   "outputs": [
    {
     "name": "stdout",
     "output_type": "stream",
     "text": [
      "GenderIdentity_Man: -0.8419\n",
      "GenderIdentity_Woman: 0.8323\n",
      "AcademicPosition_I am a non-tenure-track faculty: 0.3253\n",
      "AcademicPosition_I am a postdoc: 0.1753\n",
      "AcademicPosition_I am a tenure-track faculty: 0.1351\n",
      "AcademicPosition_I am tenured (please, indicate the year you received tenure, e.g., 2010): -0.3427\n",
      "AcademicPosition_Other (please, specify): -0.0845\n"
     ]
    }
   ],
   "source": [
    "group_a = X_dummies[X_dummies['TookLeave'] == 1]\n",
    "group_b = X_dummies[X_dummies['TookLeave'] == 0]\n",
    "\n",
    "smd_results = {}\n",
    "\n",
    "for feature in covariates:\n",
    "    diff = smd(group_a[feature], group_b[feature])\n",
    "    print(f'{feature}: {diff:.4f}')"
   ]
  },
  {
   "cell_type": "markdown",
   "id": "10a78dd8",
   "metadata": {},
   "source": [
    "GenderIdentity_Man\t                                -0.8058\tControl group\tStrong underrepresentation of men in the treatment group  \n",
    "GenderIdentity_Woman\t                             0.8418\tTreatment group\t Strong overrepresentation of women in the treatment group  \n",
    "AcademicPosition_I am tenured\t                    -0.3588\tControl group\tMore tenured researchers in the control group  \n",
    "AcademicPosition_I am a non-tenure-track faculty\t 0.3285\tTreatment group\tMore non-tenure-track researchers in the treatment group  \n",
    "AcademicPosition_I am a postdoc\t                     0.1811\tTreatment group\tSlight overrepresentation of postdocs in the treatment group  \n",
    "AcademicPosition_I am a tenure-track faculty\t     0.1394\tTreatment group\tModerate imbalance, more tenure-track in treatment group  \n",
    "AcademicPosition_Other (please, specify)\t        -0.0713\tControl group"
   ]
  },
  {
   "cell_type": "markdown",
   "id": "22517daa",
   "metadata": {},
   "source": [
    "There is a strong gender imbalance: women are much more likely to take parental leave than men in this dataset.\n",
    "The control group has a disproportionately large share of tenured faculty, while the treatment group includes more non-tenured, non-tenure-track, and postdoc researchers.\n",
    "These imbalances reflect both career stage and gender-based selection into leave-taking.\n",
    "The differences are large enough that proceeding without matching would bias the estimated treatment effect."
   ]
  },
  {
   "cell_type": "code",
   "execution_count": 28,
   "id": "493fbf74",
   "metadata": {},
   "outputs": [
    {
     "data": {
      "image/png": "[encoded data removed]",
      "text/plain": [
       "<Figure size 1000x600 with 1 Axes>"
      ]
     },
     "metadata": {},
     "output_type": "display_data"
    }
   ],
   "source": [
    "import matplotlib.pyplot as plt\n",
    "\n",
    "# Get means of covariates by treatment group\n",
    "group_means = X_dummies.groupby('TookLeave')[covariates].mean().T\n",
    "\n",
    "# Plot\n",
    "group_means.plot(kind='barh', figsize=(10, 6))\n",
    "plt.axvline(x=0.5, color='gray', linestyle='--')\n",
    "plt.title('Covariate Proportions by Treatment Group')\n",
    "plt.xlabel('Proportion')\n",
    "plt.legend(title='Took Parental Leave')\n",
    "plt.tight_layout()\n",
    "plt.grid(True)\n",
    "plt.show()\n"
   ]
  },
  {
   "cell_type": "markdown",
   "id": "30b5534c",
   "metadata": {},
   "source": [
    "These results confirm the need for propensity score matching or weighting to correct for imbalances in gender and academic position before estimating the effect of parental leave on productivity."
   ]
  },
  {
   "cell_type": "code",
   "execution_count": 29,
   "id": "5cf32b02",
   "metadata": {},
   "outputs": [],
   "source": [
    "# create covariate matrix and treatment vector\n",
    "X = X_dummies.drop(columns=['TookLeave', 'id'])     # X: the covariates, i.e., all the features used to predict the treatment.\n",
    "y = X_dummies['TookLeave']                          # y: the treatment indicator, i.e., the column we're trying to model ('TookLeave')."
   ]
  },
  {
   "cell_type": "code",
   "execution_count": 30,
   "id": "41c924d6",
   "metadata": {},
   "outputs": [],
   "source": [
    "# estimate propensity scores \n",
    "ps_model = LogisticRegression(max_iter=1000)\n",
    "ps_model.fit(X, y)\n",
    "X_dummies['propensity_score'] = ps_model.predict_proba(X)[:, 1]\n"
   ]
  },
  {
   "cell_type": "markdown",
   "id": "3efb73e9",
   "metadata": {},
   "source": [
    "Logit Regression fits a model estimating the probability of treatment (TookLeave = 1) as a function of covariates. Predict_proba(X)[:,1] gives the propensity score; the probability of being in the treated group, for each observation.\n",
    "The propensity score is the probability that a person receives the treatment (e.g. took parental leave) given their observed characteristics (like gender and academic position). The logistic regression looks at patterns in my covariates (gender and academic position) and learns how likely someone is to have taken parental leave — based purely on those characteristics.\n",
    "Both covariates are included simultaneously in the logistic regression, but:\n",
    "They’re not treated “equally” in importance, because the model learns weights for each one based on how predictive it is. So both covariates contribute, but their influence on the score depends on how strongly they help explain the treatment decision in the data."
   ]
  },
  {
   "cell_type": "markdown",
   "id": "f922ce08",
   "metadata": {},
   "source": [
    "The output of the logistic regression is the propensity score:\n",
    "Each person gets a number between 0 and 1, representing how likely they were to take leave based on their covariates."
   ]
  },
  {
   "cell_type": "code",
   "execution_count": 31,
   "id": "7ba1adec",
   "metadata": {},
   "outputs": [
    {
     "data": {
      "image/png": "[encoded data removed]",
      "text/plain": [
       "<Figure size 640x480 with 1 Axes>"
      ]
     },
     "metadata": {},
     "output_type": "display_data"
    }
   ],
   "source": [
    "import seaborn as sns\n",
    "\n",
    "sns.histplot(data=X_dummies, x='propensity_score', hue='TookLeave', kde=True, bins=30, alpha=0.5)\n",
    "plt.title(\"Propensity Score Distribution by Treatment Group\")\n",
    "plt.xlabel(\"Propensity Score\")\n",
    "plt.ylabel(\"Count\")\n",
    "plt.grid(True)\n",
    "plt.show()\n"
   ]
  },
  {
   "cell_type": "markdown",
   "id": "45e1c4ee",
   "metadata": {},
   "source": [
    "## Matching with Replacement"
   ]
  },
  {
   "cell_type": "markdown",
   "id": "8630df8a",
   "metadata": {},
   "source": [
    "Now we pair each treated person (someone who took leave) with a control person (someone who didn’t), based on having similar propensity scores. Due to imbalance of treated and controk group I am reusing the same control person multiple times if they're the best match for several treated people."
   ]
  },
  {
   "cell_type": "code",
   "execution_count": 33,
   "id": "94e22f24",
   "metadata": {},
   "outputs": [],
   "source": [
    "treated = X_dummies[X_dummies['TookLeave'] == 1].copy()\n",
    "control = X_dummies[X_dummies['TookLeave'] == 0].copy()\n",
    "\n",
    "# Fit nearest neighbor matcher on propensity scores of controls\n",
    "nn = NearestNeighbors(n_neighbors=1)\n",
    "nn.fit(control[['propensity_score']])\n",
    "\n",
    "# Find nearest control for each treated person\n",
    "distances, indices = nn.kneighbors(treated[['propensity_score']])\n",
    "\n",
    "# Fetch matched controls (with replacement)\n",
    "matched_control = control.iloc[indices.flatten()].copy()\n",
    "matched_control['match_id'] = treated['id'].values\n",
    "treated['match_id'] = treated['id'].values\n",
    "\n",
    "# Combine into one matched DataFrame\n",
    "matched_df = pd.concat([treated, matched_control], axis=0).reset_index(drop=True)"
   ]
  },
  {
   "cell_type": "markdown",
   "id": "0e9060fc",
   "metadata": {},
   "source": [
    "Verifying that the matched treated and control groups are now similar in terms of covariates."
   ]
  },
  {
   "cell_type": "code",
   "execution_count": 34,
   "id": "cd074e6f",
   "metadata": {},
   "outputs": [],
   "source": [
    "features = [col for col in X_dummies.columns if col not in ['TookLeave', 'propensity_score', 'id']]"
   ]
  },
  {
   "cell_type": "code",
   "execution_count": 35,
   "id": "c0fa48fb",
   "metadata": {},
   "outputs": [
    {
     "name": "stdout",
     "output_type": "stream",
     "text": [
      "GenderIdentity_Man: -0.0081\n",
      "GenderIdentity_Woman: 0.0000\n",
      "AcademicPosition_I am a non-tenure-track faculty: -0.0107\n",
      "AcademicPosition_I am a postdoc: 0.0000\n",
      "AcademicPosition_I am a tenure-track faculty: 0.0000\n",
      "AcademicPosition_I am tenured (please, indicate the year you received tenure, e.g., 2010): 0.0076\n",
      "AcademicPosition_Other (please, specify): 0.0000\n"
     ]
    }
   ],
   "source": [
    "matched_treated = matched_df[matched_df['TookLeave'] == 1]\n",
    "matched_control = matched_df[matched_df['TookLeave'] == 0]\n",
    "\n",
    "group_means_matched = matched_df.groupby('TookLeave')[features].mean().T\n",
    "\n",
    "\n",
    "for feature in features:  # your list of covariates\n",
    "    smd_val = smd(matched_treated[feature], matched_control[feature])\n",
    "    print(f'{feature}: {smd_val:.4f}')\n"
   ]
  },
  {
   "cell_type": "markdown",
   "id": "d6e93aeb",
   "metadata": {},
   "source": [
    "All SMDs are well below 0.10 now. Many are zero or near-zero indicating matched treated and control greoups are very similar in terms of gender and academic position. "
   ]
  },
  {
   "cell_type": "code",
   "execution_count": 36,
   "id": "c654c068",
   "metadata": {},
   "outputs": [
    {
     "data": {
      "image/png": "[encoded data removed]",
      "text/plain": [
       "<Figure size 1000x600 with 1 Axes>"
      ]
     },
     "metadata": {},
     "output_type": "display_data"
    }
   ],
   "source": [
    "group_means_matched.plot(kind='barh', figsize=(10, 6))\n",
    "plt.axvline(x=0.5, color='gray', linestyle='--')\n",
    "plt.title('Covariate Proportions by Treatment Group (After Matching)')\n",
    "plt.xlabel('Proportion')\n",
    "plt.legend(title='Took Parental Leave')\n",
    "plt.grid(True)\n",
    "plt.tight_layout()\n",
    "plt.show()"
   ]
  },
  {
   "cell_type": "markdown",
   "id": "9bbc33a8",
   "metadata": {},
   "source": [
    "### Computing Average Treatment effect on Treated (ATT)"
   ]
  },
  {
   "cell_type": "markdown",
   "id": "fba4ccbb",
   "metadata": {},
   "source": [
    "I am doing this using the matched dataset. It will tell us: How much productivity (publications) changes, on average, for those who took parental leave — compared to matched individuals who didn’t."
   ]
  },
  {
   "cell_type": "code",
   "execution_count": 37,
   "id": "3a73a9e6",
   "metadata": {},
   "outputs": [
    {
     "name": "stderr",
     "output_type": "stream",
     "text": [
      "/var/folders/4n/x6xrnlyj6nngzc77qzc7h4f40000gn/T/ipykernel_27565/643999285.py:1: SettingWithCopyWarning: \n",
      "A value is trying to be set on a copy of a slice from a DataFrame.\n",
      "Try using .loc[row_indexer,col_indexer] = value instead\n",
      "\n",
      "See the caveats in the documentation: https://pandas.pydata.org/pandas-docs/stable/user_guide/indexing.html#returning-a-view-versus-a-copy\n",
      "  matched_control['NumPublications'] = matched_control['id'].map(df_robust.set_index('id')['NumPublications'])\n"
     ]
    }
   ],
   "source": [
    "matched_control['NumPublications'] = matched_control['id'].map(df_robust.set_index('id')['NumPublications'])\n",
    "treated['NumPublications'] = treated['id'].map(df_robust.set_index('id')['NumPublications'])\n",
    "matched_df = pd.concat([treated, matched_control], axis=0).reset_index(drop=True)"
   ]
  },
  {
   "cell_type": "code",
   "execution_count": 38,
   "id": "cfe975d5",
   "metadata": {},
   "outputs": [
    {
     "name": "stdout",
     "output_type": "stream",
     "text": [
      "ATT (Effect of Taking Leave on Publications): -14.49 publications\n"
     ]
    }
   ],
   "source": [
    "treated_prod = matched_df[matched_df['TookLeave'] == 1]['NumPublications']\n",
    "control_prod = matched_df[matched_df['TookLeave'] == 0]['NumPublications']\n",
    "\n",
    "att = treated_prod.mean() - control_prod.mean()\n",
    "print(f\"ATT (Effect of Taking Leave on Publications): {att:.2f} publications\")\n"
   ]
  },
  {
   "cell_type": "markdown",
   "id": "2000a030",
   "metadata": {},
   "source": [
    "The result indicates that those who took leave published about 14.5 fewer papers on average.\n",
    "That difference is not due to gender or job title — it's the effect of the leave itself, at least this is what I am trying to reduce, close the backdoor path influences. If two people are similar in their gender and academic rank, but one took leave and the other didn’t, any difference in their publication count is more likely to reflect the causal effect of leave, not background factors."
   ]
  },
  {
   "cell_type": "code",
   "execution_count": 39,
   "id": "8f27315e",
   "metadata": {},
   "outputs": [
    {
     "data": {
      "text/html": [
       "<div>\n",
       "<style scoped>\n",
       "    .dataframe tbody tr th:only-of-type {\n",
       "        vertical-align: middle;\n",
       "    }\n",
       "\n",
       "    .dataframe tbody tr th {\n",
       "        vertical-align: top;\n",
       "    }\n",
       "\n",
       "    .dataframe thead th {\n",
       "        text-align: right;\n",
       "    }\n",
       "</style>\n",
       "<table border=\"1\" class=\"dataframe\">\n",
       "  <thead>\n",
       "    <tr style=\"text-align: right;\">\n",
       "      <th></th>\n",
       "      <th>count</th>\n",
       "      <th>mean</th>\n",
       "      <th>std</th>\n",
       "      <th>min</th>\n",
       "      <th>25%</th>\n",
       "      <th>50%</th>\n",
       "      <th>75%</th>\n",
       "      <th>max</th>\n",
       "    </tr>\n",
       "    <tr>\n",
       "      <th>TookLeave</th>\n",
       "      <th></th>\n",
       "      <th></th>\n",
       "      <th></th>\n",
       "      <th></th>\n",
       "      <th></th>\n",
       "      <th></th>\n",
       "      <th></th>\n",
       "      <th></th>\n",
       "    </tr>\n",
       "  </thead>\n",
       "  <tbody>\n",
       "    <tr>\n",
       "      <th>0</th>\n",
       "      <td>523.0</td>\n",
       "      <td>68.420650</td>\n",
       "      <td>78.355847</td>\n",
       "      <td>13.0</td>\n",
       "      <td>25.0</td>\n",
       "      <td>35.0</td>\n",
       "      <td>50.0</td>\n",
       "      <td>300.0</td>\n",
       "    </tr>\n",
       "    <tr>\n",
       "      <th>1</th>\n",
       "      <td>523.0</td>\n",
       "      <td>53.933843</td>\n",
       "      <td>86.072073</td>\n",
       "      <td>0.4</td>\n",
       "      <td>17.0</td>\n",
       "      <td>30.0</td>\n",
       "      <td>59.5</td>\n",
       "      <td>1264.0</td>\n",
       "    </tr>\n",
       "  </tbody>\n",
       "</table>\n",
       "</div>"
      ],
      "text/plain": [
       "           count       mean        std   min   25%   50%   75%     max\n",
       "TookLeave                                                             \n",
       "0          523.0  68.420650  78.355847  13.0  25.0  35.0  50.0   300.0\n",
       "1          523.0  53.933843  86.072073   0.4  17.0  30.0  59.5  1264.0"
      ]
     },
     "execution_count": 39,
     "metadata": {},
     "output_type": "execute_result"
    }
   ],
   "source": [
    "matched_df.groupby('TookLeave')['NumPublications'].describe()"
   ]
  },
  {
   "cell_type": "code",
   "execution_count": 40,
   "id": "184fdcfb",
   "metadata": {},
   "outputs": [
    {
     "data": {
      "text/plain": [
       "id\n",
       "17      164\n",
       "333      86\n",
       "1149     59\n",
       "541      57\n",
       "870      37\n",
       "591      33\n",
       "321      32\n",
       "1239     20\n",
       "13       18\n",
       "14       17\n",
       "Name: count, dtype: int64"
      ]
     },
     "execution_count": 40,
     "metadata": {},
     "output_type": "execute_result"
    }
   ],
   "source": [
    "# how often was an individual reused as a match?\n",
    "matched_df[matched_df['TookLeave'] == 0]['id'].value_counts()"
   ]
  },
  {
   "cell_type": "markdown",
   "id": "011e27cb",
   "metadata": {},
   "source": [
    "### Plot dist of pub counts"
   ]
  },
  {
   "cell_type": "code",
   "execution_count": 41,
   "id": "e3f26730",
   "metadata": {},
   "outputs": [
    {
     "data": {
      "image/png": "[encoded data removed]",
      "text/plain": [
       "<Figure size 1000x600 with 1 Axes>"
      ]
     },
     "metadata": {},
     "output_type": "display_data"
    }
   ],
   "source": [
    "plt.figure(figsize=(10, 6))\n",
    "sns.kdeplot(data=matched_df, x='NumPublications', hue='TookLeave', fill=True, common_norm=False)\n",
    "plt.title('Distribution of Publications: Treated vs Control')\n",
    "plt.xlabel('Number of Publications')\n",
    "plt.ylabel('Density')\n",
    "\n",
    "# Add vertical lines for actual means\n",
    "plt.axvline(68.42, color='orange', linestyle='--', linewidth=2, label='Control Mean: 68.4')\n",
    "plt.axvline(53.93, color='blue', linestyle='--', linewidth=2, label='Treated Mean: 53.9')\n",
    "\n",
    "plt.legend(title='Took Leave')\n",
    "plt.grid(True)\n",
    "plt.tight_layout()\n",
    "plt.show()\n"
   ]
  },
  {
   "cell_type": "code",
   "execution_count": 42,
   "id": "3b151077",
   "metadata": {},
   "outputs": [],
   "source": [
    "# Compute a shared cutoff at 99th percentile (combined distribution)\n",
    "pub_cutoff = matched_df['NumPublications'].quantile(0.99)\n",
    "\n",
    "# Filter dataset to exclude extreme outliers\n",
    "matched_df_trimmed = matched_df[matched_df['NumPublications'] <= pub_cutoff]\n"
   ]
  },
  {
   "cell_type": "code",
   "execution_count": 56,
   "id": "94436fc5",
   "metadata": {},
   "outputs": [
    {
     "data": {
      "image/png": "[encoded data removed]",
      "text/plain": [
       "<Figure size 1000x600 with 1 Axes>"
      ]
     },
     "metadata": {},
     "output_type": "display_data"
    }
   ],
   "source": [
    "treated_mean = matched_df_trimmed[matched_df_trimmed['TookLeave'] == 1]['NumPublications'].mean()\n",
    "control_mean = matched_df_trimmed[matched_df_trimmed['TookLeave'] == 0]['NumPublications'].mean()\n",
    "\n",
    "plt.figure(figsize=(10, 6))\n",
    "sns.kdeplot(data=matched_df_trimmed, x='NumPublications', hue='TookLeave', fill=True, common_norm=False)\n",
    "plt.title('Distribution of Publications (Trimmed at 99th Percentile)')\n",
    "plt.xlabel('Number of Publications')\n",
    "plt.ylabel('Density')\n",
    "\n",
    "# Plot updated means\n",
    "plt.axvline(control_mean, color='blue', linestyle='--', linewidth=2, label=f'Control Mean: {control_mean:.1f}')\n",
    "plt.axvline(treated_mean, color='orange', linestyle='--', linewidth=2, label=f'Treated Mean: {treated_mean:.1f}')\n",
    "\n",
    "plt.legend(title='Took Leave')\n",
    "plt.grid(True)\n",
    "plt.tight_layout()\n",
    "plt.show()\n"
   ]
  },
  {
   "cell_type": "markdown",
   "id": "84632824",
   "metadata": {},
   "source": [
    "why are some \"number of publications\" negative?"
   ]
  },
  {
   "cell_type": "code",
   "execution_count": 60,
   "id": "45747fb5",
   "metadata": {},
   "outputs": [
    {
     "name": "stdout",
     "output_type": "stream",
     "text": [
      "0 negative rows out of 1037\n"
     ]
    }
   ],
   "source": [
    "# Make the bug visible\n",
    "neg = matched_df_trimmed[matched_df_trimmed['NumPublications'] < 0]\n",
    "print(f\"{len(neg)} negative rows out of {len(matched_df_trimmed)}\")\n"
   ]
  },
  {
   "cell_type": "code",
   "execution_count": 76,
   "id": "a71af63f",
   "metadata": {},
   "outputs": [
    {
     "data": {
      "application/vnd.plotly.v1+json": {
       "config": {
        "plotlyServerURL": "https://plot.ly"
       },
       "data": [
        {
         "fill": "tozeroy",
         "line": {
          "color": "#F4C49F"
         },
         "mode": "lines",
         "name": "No Leave",
         "type": "scatter",
         "x": {
          "bdata": "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",
          "dtype": "f8"
         },
         "y": {
          "bdata": "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",
          "dtype": "f8"
         }
        },
        {
         "fill": "tozeroy",
         "line": {
          "color": "#4F90D9"
         },
         "mode": "lines",
         "name": "Took Leave",
         "type": "scatter",
         "x": {
          "bdata": "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",
          "dtype": "f8"
         },
         "y": {
          "bdata": "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",
          "dtype": "f8"
         }
        }
       ],
       "layout": {
        "annotations": [
         {
          "font": {
           "color": "#F4C49F"
          },
          "showarrow": false,
          "text": "Control Mean: 68.4",
          "x": 68.4206500956023,
          "y": 0.014,
          "yanchor": "bottom"
         },
         {
          "font": {
           "color": "#4F90D9"
          },
          "showarrow": false,
          "text": "Treated Mean: 45.8",
          "x": 45.79260700389106,
          "y": 0.016,
          "yanchor": "bottom"
         }
        ],
        "height": 600,
        "legend": {
         "title": {
          "text": "Group"
         }
        },
        "margin": {
         "b": 50,
         "l": 50,
         "r": 50,
         "t": 50
        },
        "shapes": [
         {
          "line": {
           "color": "#F4C49F",
           "dash": "dash",
           "width": 2
          },
          "type": "line",
          "x0": 68.4206500956023,
          "x1": 68.4206500956023,
          "xref": "x",
          "y0": 0,
          "y1": 1,
          "yref": "y domain"
         },
         {
          "line": {
           "color": "#4F90D9",
           "dash": "dash",
           "width": 2
          },
          "type": "line",
          "x0": 45.79260700389106,
          "x1": 45.79260700389106,
          "xref": "x",
          "y0": 0,
          "y1": 1,
          "yref": "y domain"
         }
        ],
        "template": {
         "data": {
          "bar": [
           {
            "error_x": {
             "color": "rgb(36,36,36)"
            },
            "error_y": {
             "color": "rgb(36,36,36)"
            },
            "marker": {
             "line": {
              "color": "white",
              "width": 0.5
             },
             "pattern": {
              "fillmode": "overlay",
              "size": 10,
              "solidity": 0.2
             }
            },
            "type": "bar"
           }
          ],
          "barpolar": [
           {
            "marker": {
             "line": {
              "color": "white",
              "width": 0.5
             },
             "pattern": {
              "fillmode": "overlay",
              "size": 10,
              "solidity": 0.2
             }
            },
            "type": "barpolar"
           }
          ],
          "carpet": [
           {
            "aaxis": {
             "endlinecolor": "rgb(36,36,36)",
             "gridcolor": "white",
             "linecolor": "white",
             "minorgridcolor": "white",
             "startlinecolor": "rgb(36,36,36)"
            },
            "baxis": {
             "endlinecolor": "rgb(36,36,36)",
             "gridcolor": "white",
             "linecolor": "white",
             "minorgridcolor": "white",
             "startlinecolor": "rgb(36,36,36)"
            },
            "type": "carpet"
           }
          ],
          "choropleth": [
           {
            "colorbar": {
             "outlinewidth": 1,
             "tickcolor": "rgb(36,36,36)",
             "ticks": "outside"
            },
            "type": "choropleth"
           }
          ],
          "contour": [
           {
            "colorbar": {
             "outlinewidth": 1,
             "tickcolor": "rgb(36,36,36)",
             "ticks": "outside"
            },
            "colorscale": [
             [
              0,
              "#440154"
             ],
             [
              0.1111111111111111,
              "#482878"
             ],
             [
              0.2222222222222222,
              "#3e4989"
             ],
             [
              0.3333333333333333,
              "#31688e"
             ],
             [
              0.4444444444444444,
              "#26828e"
             ],
             [
              0.5555555555555556,
              "#1f9e89"
             ],
             [
              0.6666666666666666,
              "#35b779"
             ],
             [
              0.7777777777777778,
              "#6ece58"
             ],
             [
              0.8888888888888888,
              "#b5de2b"
             ],
             [
              1,
              "#fde725"
             ]
            ],
            "type": "contour"
           }
          ],
          "contourcarpet": [
           {
            "colorbar": {
             "outlinewidth": 1,
             "tickcolor": "rgb(36,36,36)",
             "ticks": "outside"
            },
            "type": "contourcarpet"
           }
          ],
          "heatmap": [
           {
            "colorbar": {
             "outlinewidth": 1,
             "tickcolor": "rgb(36,36,36)",
             "ticks": "outside"
            },
            "colorscale": [
             [
              0,
              "#440154"
             ],
             [
              0.1111111111111111,
              "#482878"
             ],
             [
              0.2222222222222222,
              "#3e4989"
             ],
             [
              0.3333333333333333,
              "#31688e"
             ],
             [
              0.4444444444444444,
              "#26828e"
             ],
             [
              0.5555555555555556,
              "#1f9e89"
             ],
             [
              0.6666666666666666,
              "#35b779"
             ],
             [
              0.7777777777777778,
              "#6ece58"
             ],
             [
              0.8888888888888888,
              "#b5de2b"
             ],
             [
              1,
              "#fde725"
             ]
            ],
            "type": "heatmap"
           }
          ],
          "histogram": [
           {
            "marker": {
             "line": {
              "color": "white",
              "width": 0.6
             }
            },
            "type": "histogram"
           }
          ],
          "histogram2d": [
           {
            "colorbar": {
             "outlinewidth": 1,
             "tickcolor": "rgb(36,36,36)",
             "ticks": "outside"
            },
            "colorscale": [
             [
              0,
              "#440154"
             ],
             [
              0.1111111111111111,
              "#482878"
             ],
             [
              0.2222222222222222,
              "#3e4989"
             ],
             [
              0.3333333333333333,
              "#31688e"
             ],
             [
              0.4444444444444444,
              "#26828e"
             ],
             [
              0.5555555555555556,
              "#1f9e89"
             ],
             [
              0.6666666666666666,
              "#35b779"
             ],
             [
              0.7777777777777778,
              "#6ece58"
             ],
             [
              0.8888888888888888,
              "#b5de2b"
             ],
             [
              1,
              "#fde725"
             ]
            ],
            "type": "histogram2d"
           }
          ],
          "histogram2dcontour": [
           {
            "colorbar": {
             "outlinewidth": 1,
             "tickcolor": "rgb(36,36,36)",
             "ticks": "outside"
            },
            "colorscale": [
             [
              0,
              "#440154"
             ],
             [
              0.1111111111111111,
              "#482878"
             ],
             [
              0.2222222222222222,
              "#3e4989"
             ],
             [
              0.3333333333333333,
              "#31688e"
             ],
             [
              0.4444444444444444,
              "#26828e"
             ],
             [
              0.5555555555555556,
              "#1f9e89"
             ],
             [
              0.6666666666666666,
              "#35b779"
             ],
             [
              0.7777777777777778,
              "#6ece58"
             ],
             [
              0.8888888888888888,
              "#b5de2b"
             ],
             [
              1,
              "#fde725"
             ]
            ],
            "type": "histogram2dcontour"
           }
          ],
          "mesh3d": [
           {
            "colorbar": {
             "outlinewidth": 1,
             "tickcolor": "rgb(36,36,36)",
             "ticks": "outside"
            },
            "type": "mesh3d"
           }
          ],
          "parcoords": [
           {
            "line": {
             "colorbar": {
              "outlinewidth": 1,
              "tickcolor": "rgb(36,36,36)",
              "ticks": "outside"
             }
            },
            "type": "parcoords"
           }
          ],
          "pie": [
           {
            "automargin": true,
            "type": "pie"
           }
          ],
          "scatter": [
           {
            "fillpattern": {
             "fillmode": "overlay",
             "size": 10,
             "solidity": 0.2
            },
            "type": "scatter"
           }
          ],
          "scatter3d": [
           {
            "line": {
             "colorbar": {
              "outlinewidth": 1,
              "tickcolor": "rgb(36,36,36)",
              "ticks": "outside"
             }
            },
            "marker": {
             "colorbar": {
              "outlinewidth": 1,
              "tickcolor": "rgb(36,36,36)",
              "ticks": "outside"
             }
            },
            "type": "scatter3d"
           }
          ],
          "scattercarpet": [
           {
            "marker": {
             "colorbar": {
              "outlinewidth": 1,
              "tickcolor": "rgb(36,36,36)",
              "ticks": "outside"
             }
            },
            "type": "scattercarpet"
           }
          ],
          "scattergeo": [
           {
            "marker": {
             "colorbar": {
              "outlinewidth": 1,
              "tickcolor": "rgb(36,36,36)",
              "ticks": "outside"
             }
            },
            "type": "scattergeo"
           }
          ],
          "scattergl": [
           {
            "marker": {
             "colorbar": {
              "outlinewidth": 1,
              "tickcolor": "rgb(36,36,36)",
              "ticks": "outside"
             }
            },
            "type": "scattergl"
           }
          ],
          "scattermap": [
           {
            "marker": {
             "colorbar": {
              "outlinewidth": 1,
              "tickcolor": "rgb(36,36,36)",
              "ticks": "outside"
             }
            },
            "type": "scattermap"
           }
          ],
          "scattermapbox": [
           {
            "marker": {
             "colorbar": {
              "outlinewidth": 1,
              "tickcolor": "rgb(36,36,36)",
              "ticks": "outside"
             }
            },
            "type": "scattermapbox"
           }
          ],
          "scatterpolar": [
           {
            "marker": {
             "colorbar": {
              "outlinewidth": 1,
              "tickcolor": "rgb(36,36,36)",
              "ticks": "outside"
             }
            },
            "type": "scatterpolar"
           }
          ],
          "scatterpolargl": [
           {
            "marker": {
             "colorbar": {
              "outlinewidth": 1,
              "tickcolor": "rgb(36,36,36)",
              "ticks": "outside"
             }
            },
            "type": "scatterpolargl"
           }
          ],
          "scatterternary": [
           {
            "marker": {
             "colorbar": {
              "outlinewidth": 1,
              "tickcolor": "rgb(36,36,36)",
              "ticks": "outside"
             }
            },
            "type": "scatterternary"
           }
          ],
          "surface": [
           {
            "colorbar": {
             "outlinewidth": 1,
             "tickcolor": "rgb(36,36,36)",
             "ticks": "outside"
            },
            "colorscale": [
             [
              0,
              "#440154"
             ],
             [
              0.1111111111111111,
              "#482878"
             ],
             [
              0.2222222222222222,
              "#3e4989"
             ],
             [
              0.3333333333333333,
              "#31688e"
             ],
             [
              0.4444444444444444,
              "#26828e"
             ],
             [
              0.5555555555555556,
              "#1f9e89"
             ],
             [
              0.6666666666666666,
              "#35b779"
             ],
             [
              0.7777777777777778,
              "#6ece58"
             ],
             [
              0.8888888888888888,
              "#b5de2b"
             ],
             [
              1,
              "#fde725"
             ]
            ],
            "type": "surface"
           }
          ],
          "table": [
           {
            "cells": {
             "fill": {
              "color": "rgb(237,237,237)"
             },
             "line": {
              "color": "white"
             }
            },
            "header": {
             "fill": {
              "color": "rgb(217,217,217)"
             },
             "line": {
              "color": "white"
             }
            },
            "type": "table"
           }
          ]
         },
         "layout": {
          "annotationdefaults": {
           "arrowhead": 0,
           "arrowwidth": 1
          },
          "autotypenumbers": "strict",
          "coloraxis": {
           "colorbar": {
            "outlinewidth": 1,
            "tickcolor": "rgb(36,36,36)",
            "ticks": "outside"
           }
          },
          "colorscale": {
           "diverging": [
            [
             0,
             "rgb(103,0,31)"
            ],
            [
             0.1,
             "rgb(178,24,43)"
            ],
            [
             0.2,
             "rgb(214,96,77)"
            ],
            [
             0.3,
             "rgb(244,165,130)"
            ],
            [
             0.4,
             "rgb(253,219,199)"
            ],
            [
             0.5,
             "rgb(247,247,247)"
            ],
            [
             0.6,
             "rgb(209,229,240)"
            ],
            [
             0.7,
             "rgb(146,197,222)"
            ],
            [
             0.8,
             "rgb(67,147,195)"
            ],
            [
             0.9,
             "rgb(33,102,172)"
            ],
            [
             1,
             "rgb(5,48,97)"
            ]
           ],
           "sequential": [
            [
             0,
             "#440154"
            ],
            [
             0.1111111111111111,
             "#482878"
            ],
            [
             0.2222222222222222,
             "#3e4989"
            ],
            [
             0.3333333333333333,
             "#31688e"
            ],
            [
             0.4444444444444444,
             "#26828e"
            ],
            [
             0.5555555555555556,
             "#1f9e89"
            ],
            [
             0.6666666666666666,
             "#35b779"
            ],
            [
             0.7777777777777778,
             "#6ece58"
            ],
            [
             0.8888888888888888,
             "#b5de2b"
            ],
            [
             1,
             "#fde725"
            ]
           ],
           "sequentialminus": [
            [
             0,
             "#440154"
            ],
            [
             0.1111111111111111,
             "#482878"
            ],
            [
             0.2222222222222222,
             "#3e4989"
            ],
            [
             0.3333333333333333,
             "#31688e"
            ],
            [
             0.4444444444444444,
             "#26828e"
            ],
            [
             0.5555555555555556,
             "#1f9e89"
            ],
            [
             0.6666666666666666,
             "#35b779"
            ],
            [
             0.7777777777777778,
             "#6ece58"
            ],
            [
             0.8888888888888888,
             "#b5de2b"
            ],
            [
             1,
             "#fde725"
            ]
           ]
          },
          "colorway": [
           "#1F77B4",
           "#FF7F0E",
           "#2CA02C",
           "#D62728",
           "#9467BD",
           "#8C564B",
           "#E377C2",
           "#7F7F7F",
           "#BCBD22",
           "#17BECF"
          ],
          "font": {
           "color": "rgb(36,36,36)"
          },
          "geo": {
           "bgcolor": "white",
           "lakecolor": "white",
           "landcolor": "white",
           "showlakes": true,
           "showland": true,
           "subunitcolor": "white"
          },
          "hoverlabel": {
           "align": "left"
          },
          "hovermode": "closest",
          "mapbox": {
           "style": "light"
          },
          "paper_bgcolor": "white",
          "plot_bgcolor": "white",
          "polar": {
           "angularaxis": {
            "gridcolor": "rgb(232,232,232)",
            "linecolor": "rgb(36,36,36)",
            "showgrid": false,
            "showline": true,
            "ticks": "outside"
           },
           "bgcolor": "white",
           "radialaxis": {
            "gridcolor": "rgb(232,232,232)",
            "linecolor": "rgb(36,36,36)",
            "showgrid": false,
            "showline": true,
            "ticks": "outside"
           }
          },
          "scene": {
           "xaxis": {
            "backgroundcolor": "white",
            "gridcolor": "rgb(232,232,232)",
            "gridwidth": 2,
            "linecolor": "rgb(36,36,36)",
            "showbackground": true,
            "showgrid": false,
            "showline": true,
            "ticks": "outside",
            "zeroline": false,
            "zerolinecolor": "rgb(36,36,36)"
           },
           "yaxis": {
            "backgroundcolor": "white",
            "gridcolor": "rgb(232,232,232)",
            "gridwidth": 2,
            "linecolor": "rgb(36,36,36)",
            "showbackground": true,
            "showgrid": false,
            "showline": true,
            "ticks": "outside",
            "zeroline": false,
            "zerolinecolor": "rgb(36,36,36)"
           },
           "zaxis": {
            "backgroundcolor": "white",
            "gridcolor": "rgb(232,232,232)",
            "gridwidth": 2,
            "linecolor": "rgb(36,36,36)",
            "showbackground": true,
            "showgrid": false,
            "showline": true,
            "ticks": "outside",
            "zeroline": false,
            "zerolinecolor": "rgb(36,36,36)"
           }
          },
          "shapedefaults": {
           "fillcolor": "black",
           "line": {
            "width": 0
           },
           "opacity": 0.3
          },
          "ternary": {
           "aaxis": {
            "gridcolor": "rgb(232,232,232)",
            "linecolor": "rgb(36,36,36)",
            "showgrid": false,
            "showline": true,
            "ticks": "outside"
           },
           "baxis": {
            "gridcolor": "rgb(232,232,232)",
            "linecolor": "rgb(36,36,36)",
            "showgrid": false,
            "showline": true,
            "ticks": "outside"
           },
           "bgcolor": "white",
           "caxis": {
            "gridcolor": "rgb(232,232,232)",
            "linecolor": "rgb(36,36,36)",
            "showgrid": false,
            "showline": true,
            "ticks": "outside"
           }
          },
          "title": {
           "x": 0.05
          },
          "xaxis": {
           "automargin": true,
           "gridcolor": "rgb(232,232,232)",
           "linecolor": "rgb(36,36,36)",
           "showgrid": false,
           "showline": true,
           "ticks": "outside",
           "title": {
            "standoff": 15
           },
           "zeroline": false,
           "zerolinecolor": "rgb(36,36,36)"
          },
          "yaxis": {
           "automargin": true,
           "gridcolor": "rgb(232,232,232)",
           "linecolor": "rgb(36,36,36)",
           "showgrid": false,
           "showline": true,
           "ticks": "outside",
           "title": {
            "standoff": 15
           },
           "zeroline": false,
           "zerolinecolor": "rgb(36,36,36)"
          }
         }
        },
        "title": {
         "text": "Distribution of Publications (Trimmed at 99th Percentile)"
        },
        "width": 800,
        "xaxis": {
         "title": {
          "text": "Number of Publications"
         }
        },
        "yaxis": {
         "title": {
          "text": "Density"
         }
        }
       }
      }
     },
     "metadata": {},
     "output_type": "display_data"
    }
   ],
   "source": [
    "import plotly.graph_objects as go\n",
    "import numpy as np\n",
    "from scipy.stats import gaussian_kde\n",
    "\n",
    "# Extract data\n",
    "treated = matched_df_trimmed[matched_df_trimmed['TookLeave'] == 1]['NumPublications']\n",
    "control = matched_df_trimmed[matched_df_trimmed['TookLeave'] == 0]['NumPublications']\n",
    "\n",
    "# Compute KDEs\n",
    "kde_treated = gaussian_kde(treated)\n",
    "kde_control = gaussian_kde(control)\n",
    "\n",
    "# Define shared x-range\n",
    "x_vals = np.linspace(\n",
    "    min(matched_df_trimmed['NumPublications']),\n",
    "    max(matched_df_trimmed['NumPublications']),\n",
    "    500\n",
    ")\n",
    "\n",
    "# Create traces\n",
    "fig = go.Figure()\n",
    "\n",
    "# Control group density\n",
    "fig.add_trace(go.Scatter(\n",
    "    x=x_vals,\n",
    "    y=kde_control(x_vals),\n",
    "    mode='lines',\n",
    "    name='No Leave',\n",
    "    fill='tozeroy',\n",
    "    line=dict(color='#F4C49F')\n",
    "))\n",
    "\n",
    "# Treated group density\n",
    "fig.add_trace(go.Scatter(\n",
    "    x=x_vals,\n",
    "    y=kde_treated(x_vals),\n",
    "    mode='lines',\n",
    "    name='Took Leave',\n",
    "    fill='tozeroy',\n",
    "    line=dict(color='#4F90D9')\n",
    "))\n",
    "\n",
    "# Add vertical lines for means\n",
    "control_mean = control.mean()\n",
    "treated_mean = treated.mean()\n",
    "\n",
    "fig.add_vline(\n",
    "    x=control_mean,\n",
    "    line_dash=\"dash\",\n",
    "    line_color=\"#F4C49F\",\n",
    "    line_width=2,\n",
    ")\n",
    "\n",
    "fig.add_vline(\n",
    "    x=treated_mean,\n",
    "    line_dash=\"dash\",\n",
    "    line_color=\"#4F90D9\",\n",
    "    line_width=2,\n",
    ")\n",
    "\n",
    "# Add annotations at different heights\n",
    "fig.add_annotation(\n",
    "    x=control_mean,\n",
    "    y=0.014,  # adjust based on plot height\n",
    "    text=f\"Control Mean: {control_mean:.1f}\",\n",
    "    showarrow=False,\n",
    "    font=dict(color=\"#F4C49F\"),\n",
    "    yanchor=\"bottom\"\n",
    ")\n",
    "\n",
    "fig.add_annotation(\n",
    "    x=treated_mean,\n",
    "    y=0.016,  # slightly higher than control\n",
    "    text=f\"Treated Mean: {treated_mean:.1f}\",\n",
    "    showarrow=False,\n",
    "    font=dict(color=\"#4F90D9\"),\n",
    "    yanchor=\"bottom\"\n",
    ")\n",
    "\n",
    "# Layout\n",
    "fig.update_layout(\n",
    "    title=\"Distribution of Publications (Trimmed at 99th Percentile)\",\n",
    "    xaxis_title=\"Number of Publications\",\n",
    "    yaxis_title=\"Density\",\n",
    "    legend_title_text=\"Group\",\n",
    "    template=\"simple_white\",\n",
    "    width=800,\n",
    "    height=600,\n",
    "    margin=dict(l=50, r=50, t=50, b=50)\n",
    ")\n",
    "\n",
    "fig.show()\n",
    "\n",
    "fig.write_html(\"H1_dist_plot.html\", include_plotlyjs=\"cdn\", full_html=False)\n"
   ]
  },
  {
   "cell_type": "code",
   "execution_count": null,
   "id": "12b30137",
   "metadata": {},
   "outputs": [
    {
     "data": {
      "text/plain": [
       "<Figure size 640x480 with 0 Axes>"
      ]
     },
     "metadata": {},
     "output_type": "display_data"
    }
   ],
   "source": [
    "#plt.savefig(\"kde_trimmed_plot.pdf\", format=\"pdf\")\n",
    "\n",
    "#plt.show()"
   ]
  },
  {
   "cell_type": "markdown",
   "id": "793c31e1",
   "metadata": {},
   "source": [
    "Shows how publication counts are distributed for treated vs. control groups.\n",
    "Treated curve (leave takers) is shifted left, suggesting fewer publications.\n",
    "Some high-publication outliers (long tail) are visible in the control group."
   ]
  },
  {
   "cell_type": "markdown",
   "id": "fc42b391",
   "metadata": {},
   "source": [
    "Heterogeneity by gender & academic rank"
   ]
  },
  {
   "cell_type": "code",
   "execution_count": 62,
   "id": "0c1559d6",
   "metadata": {},
   "outputs": [],
   "source": [
    "matched_df = matched_df.merge(df_robust[['id', 'GenderIdentity', 'AcademicPosition']], on='id', how='left')\n"
   ]
  },
  {
   "cell_type": "code",
   "execution_count": 63,
   "id": "d2875d82",
   "metadata": {},
   "outputs": [
    {
     "data": {
      "image/png": "[encoded data removed]",
      "text/plain": [
       "<Figure size 700x400 with 1 Axes>"
      ]
     },
     "metadata": {},
     "output_type": "display_data"
    },
    {
     "data": {
      "image/png": "[encoded data removed]",
      "text/plain": [
       "<Figure size 700x400 with 1 Axes>"
      ]
     },
     "metadata": {},
     "output_type": "display_data"
    }
   ],
   "source": [
    "for group in ['GenderIdentity', 'AcademicPosition']:\n",
    "    subgroup_means = (\n",
    "        matched_df.groupby(['TookLeave', group])['NumPublications']\n",
    "        .mean()\n",
    "        .unstack(0)\n",
    "        .dropna()\n",
    "    )\n",
    "    att = subgroup_means[1] - subgroup_means[0]\n",
    "    att.plot(kind='barh', color='#909580', title=f'ATT by {group}', figsize=(7, 4))\n",
    "    plt.axvline(0, color='grey', linestyle='--')\n",
    "    plt.tight_layout()\n",
    "    plt.show()\n",
    "\n"
   ]
  },
  {
   "cell_type": "markdown",
   "id": "80ede870",
   "metadata": {},
   "source": [
    "Shows difference in means (treated - control) within each subgroup.\n",
    "Useful for visualizing heterogeneity in treatment effects."
   ]
  },
  {
   "cell_type": "markdown",
   "id": "7b23b303",
   "metadata": {},
   "source": [
    "#### ATT by GenderIdentity  \n",
    "\n",
    "Women who took leave published ~25 fewer papers on average than similar women who didn’t.\n",
    "Men who took leave show a small positive ATT — they may have published slightly more than matched men who didn’t take leave (though you’d want to check sample size; might be noisy).\n",
    "This suggests that leave has a much more negative effect on women’s productivity than men’s — possibly due to unequal caregiving roles, time off, or reentry support."
   ]
  },
  {
   "cell_type": "markdown",
   "id": "86f8af3f",
   "metadata": {},
   "source": [
    "#### ATT by AcademicPosition  \n",
    "\n",
    "The effect of leave is most negative for tenure-track faculty and “Other” (which could be precarious or undefined roles).\n",
    "For tenured faculty, the penalty is smaller — they may have more buffer to absorb leave.\n",
    "Postdocs and non-tenure-track faculty show varied effects — still negative but not uniformly large."
   ]
  },
  {
   "cell_type": "code",
   "execution_count": 72,
   "id": "89c87de1",
   "metadata": {},
   "outputs": [
    {
     "data": {
      "image/png": "[encoded data removed]",
      "text/plain": [
       "<Figure size 900x500 with 1 Axes>"
      ]
     },
     "metadata": {},
     "output_type": "display_data"
    },
    {
     "data": {
      "image/png": "[encoded data removed]",
      "text/plain": [
       "<Figure size 900x500 with 1 Axes>"
      ]
     },
     "metadata": {},
     "output_type": "display_data"
    }
   ],
   "source": [
    "import seaborn as sns\n",
    "import matplotlib.pyplot as plt\n",
    "\n",
    "custom_palette = {\n",
    "    'Treated': 'blue',\n",
    "    'Control': 'orange'\n",
    "}\n",
    "\n",
    "for group in ['GenderIdentity', 'AcademicPosition']:\n",
    "    avg_prod = (\n",
    "        matched_df.groupby([group, 'TookLeave'])['NumPublications']\n",
    "        .mean()\n",
    "        .reset_index()\n",
    "    )\n",
    "    \n",
    "    # Convert TookLeave to label for clarity\n",
    "    avg_prod['LeaveStatus'] = avg_prod['TookLeave'].map({0: 'Control', 1: 'Treated'})\n",
    "\n",
    "    plt.figure(figsize=(9, 5))\n",
    "    sns.barplot(\n",
    "        data=avg_prod,\n",
    "        x='NumPublications',\n",
    "        y=group,\n",
    "        hue='LeaveStatus',\n",
    "        palette=custom_palette\n",
    "    )\n",
    "    plt.title(f'Productivity by {group} and Leave Status')\n",
    "    plt.xlabel('Average Number of Publications')\n",
    "    plt.tight_layout()\n",
    "    plt.axvline(0, color='grey', linestyle='--')\n",
    "    plt.show()\n"
   ]
  },
  {
   "cell_type": "code",
   "execution_count": null,
   "id": "aa3b8391",
   "metadata": {},
   "outputs": [
    {
     "data": {
      "application/vnd.plotly.v1+json": {
       "config": {
        "plotlyServerURL": "https://plot.ly"
       },
       "data": [
        {
         "marker": {
          "color": "#F4C49F"
         },
         "name": "Control",
         "orientation": "h",
         "type": "bar",
         "x": {
          "bdata": "ab2AbU4XUkDjK77iK55QQA==",
          "dtype": "f8"
         },
         "y": [
          "Man",
          "Woman"
         ]
        },
        {
         "marker": {
          "color": "#4F90D9"
         },
         "name": "Treated",
         "orientation": "h",
         "type": "bar",
         "x": {
          "bdata": "t5LaSmorU0BbFeUTNCpFQA==",
          "dtype": "f8"
         },
         "y": [
          "Man",
          "Woman"
         ]
        }
       ],
       "layout": {
        "barmode": "group",
        "height": 300,
        "legend": {
         "title": {
          "text": "Leave Status"
         }
        },
        "margin": {
         "l": 160
        },
        "template": {
         "data": {
          "bar": [
           {
            "error_x": {
             "color": "rgb(36,36,36)"
            },
            "error_y": {
             "color": "rgb(36,36,36)"
            },
            "marker": {
             "line": {
              "color": "white",
              "width": 0.5
             },
             "pattern": {
              "fillmode": "overlay",
              "size": 10,
              "solidity": 0.2
             }
            },
            "type": "bar"
           }
          ],
          "barpolar": [
           {
            "marker": {
             "line": {
              "color": "white",
              "width": 0.5
             },
             "pattern": {
              "fillmode": "overlay",
              "size": 10,
              "solidity": 0.2
             }
            },
            "type": "barpolar"
           }
          ],
          "carpet": [
           {
            "aaxis": {
             "endlinecolor": "rgb(36,36,36)",
             "gridcolor": "white",
             "linecolor": "white",
             "minorgridcolor": "white",
             "startlinecolor": "rgb(36,36,36)"
            },
            "baxis": {
             "endlinecolor": "rgb(36,36,36)",
             "gridcolor": "white",
             "linecolor": "white",
             "minorgridcolor": "white",
             "startlinecolor": "rgb(36,36,36)"
            },
            "type": "carpet"
           }
          ],
          "choropleth": [
           {
            "colorbar": {
             "outlinewidth": 1,
             "tickcolor": "rgb(36,36,36)",
             "ticks": "outside"
            },
            "type": "choropleth"
           }
          ],
          "contour": [
           {
            "colorbar": {
             "outlinewidth": 1,
             "tickcolor": "rgb(36,36,36)",
             "ticks": "outside"
            },
            "colorscale": [
             [
              0,
              "#440154"
             ],
             [
              0.1111111111111111,
              "#482878"
             ],
             [
              0.2222222222222222,
              "#3e4989"
             ],
             [
              0.3333333333333333,
              "#31688e"
             ],
             [
              0.4444444444444444,
              "#26828e"
             ],
             [
              0.5555555555555556,
              "#1f9e89"
             ],
             [
              0.6666666666666666,
              "#35b779"
             ],
             [
              0.7777777777777778,
              "#6ece58"
             ],
             [
              0.8888888888888888,
              "#b5de2b"
             ],
             [
              1,
              "#fde725"
             ]
            ],
            "type": "contour"
           }
          ],
          "contourcarpet": [
           {
            "colorbar": {
             "outlinewidth": 1,
             "tickcolor": "rgb(36,36,36)",
             "ticks": "outside"
            },
            "type": "contourcarpet"
           }
          ],
          "heatmap": [
           {
            "colorbar": {
             "outlinewidth": 1,
             "tickcolor": "rgb(36,36,36)",
             "ticks": "outside"
            },
            "colorscale": [
             [
              0,
              "#440154"
             ],
             [
              0.1111111111111111,
              "#482878"
             ],
             [
              0.2222222222222222,
              "#3e4989"
             ],
             [
              0.3333333333333333,
              "#31688e"
             ],
             [
              0.4444444444444444,
              "#26828e"
             ],
             [
              0.5555555555555556,
              "#1f9e89"
             ],
             [
              0.6666666666666666,
              "#35b779"
             ],
             [
              0.7777777777777778,
              "#6ece58"
             ],
             [
              0.8888888888888888,
              "#b5de2b"
             ],
             [
              1,
              "#fde725"
             ]
            ],
            "type": "heatmap"
           }
          ],
          "histogram": [
           {
            "marker": {
             "line": {
              "color": "white",
              "width": 0.6
             }
            },
            "type": "histogram"
           }
          ],
          "histogram2d": [
           {
            "colorbar": {
             "outlinewidth": 1,
             "tickcolor": "rgb(36,36,36)",
             "ticks": "outside"
            },
            "colorscale": [
             [
              0,
              "#440154"
             ],
             [
              0.1111111111111111,
              "#482878"
             ],
             [
              0.2222222222222222,
              "#3e4989"
             ],
             [
              0.3333333333333333,
              "#31688e"
             ],
             [
              0.4444444444444444,
              "#26828e"
             ],
             [
              0.5555555555555556,
              "#1f9e89"
             ],
             [
              0.6666666666666666,
              "#35b779"
             ],
             [
              0.7777777777777778,
              "#6ece58"
             ],
             [
              0.8888888888888888,
              "#b5de2b"
             ],
             [
              1,
              "#fde725"
             ]
            ],
            "type": "histogram2d"
           }
          ],
          "histogram2dcontour": [
           {
            "colorbar": {
             "outlinewidth": 1,
             "tickcolor": "rgb(36,36,36)",
             "ticks": "outside"
            },
            "colorscale": [
             [
              0,
              "#440154"
             ],
             [
              0.1111111111111111,
              "#482878"
             ],
             [
              0.2222222222222222,
              "#3e4989"
             ],
             [
              0.3333333333333333,
              "#31688e"
             ],
             [
              0.4444444444444444,
              "#26828e"
             ],
             [
              0.5555555555555556,
              "#1f9e89"
             ],
             [
              0.6666666666666666,
              "#35b779"
             ],
             [
              0.7777777777777778,
              "#6ece58"
             ],
             [
              0.8888888888888888,
              "#b5de2b"
             ],
             [
              1,
              "#fde725"
             ]
            ],
            "type": "histogram2dcontour"
           }
          ],
          "mesh3d": [
           {
            "colorbar": {
             "outlinewidth": 1,
             "tickcolor": "rgb(36,36,36)",
             "ticks": "outside"
            },
            "type": "mesh3d"
           }
          ],
          "parcoords": [
           {
            "line": {
             "colorbar": {
              "outlinewidth": 1,
              "tickcolor": "rgb(36,36,36)",
              "ticks": "outside"
             }
            },
            "type": "parcoords"
           }
          ],
          "pie": [
           {
            "automargin": true,
            "type": "pie"
           }
          ],
          "scatter": [
           {
            "fillpattern": {
             "fillmode": "overlay",
             "size": 10,
             "solidity": 0.2
            },
            "type": "scatter"
           }
          ],
          "scatter3d": [
           {
            "line": {
             "colorbar": {
              "outlinewidth": 1,
              "tickcolor": "rgb(36,36,36)",
              "ticks": "outside"
             }
            },
            "marker": {
             "colorbar": {
              "outlinewidth": 1,
              "tickcolor": "rgb(36,36,36)",
              "ticks": "outside"
             }
            },
            "type": "scatter3d"
           }
          ],
          "scattercarpet": [
           {
            "marker": {
             "colorbar": {
              "outlinewidth": 1,
              "tickcolor": "rgb(36,36,36)",
              "ticks": "outside"
             }
            },
            "type": "scattercarpet"
           }
          ],
          "scattergeo": [
           {
            "marker": {
             "colorbar": {
              "outlinewidth": 1,
              "tickcolor": "rgb(36,36,36)",
              "ticks": "outside"
             }
            },
            "type": "scattergeo"
           }
          ],
          "scattergl": [
           {
            "marker": {
             "colorbar": {
              "outlinewidth": 1,
              "tickcolor": "rgb(36,36,36)",
              "ticks": "outside"
             }
            },
            "type": "scattergl"
           }
          ],
          "scattermap": [
           {
            "marker": {
             "colorbar": {
              "outlinewidth": 1,
              "tickcolor": "rgb(36,36,36)",
              "ticks": "outside"
             }
            },
            "type": "scattermap"
           }
          ],
          "scattermapbox": [
           {
            "marker": {
             "colorbar": {
              "outlinewidth": 1,
              "tickcolor": "rgb(36,36,36)",
              "ticks": "outside"
             }
            },
            "type": "scattermapbox"
           }
          ],
          "scatterpolar": [
           {
            "marker": {
             "colorbar": {
              "outlinewidth": 1,
              "tickcolor": "rgb(36,36,36)",
              "ticks": "outside"
             }
            },
            "type": "scatterpolar"
           }
          ],
          "scatterpolargl": [
           {
            "marker": {
             "colorbar": {
              "outlinewidth": 1,
              "tickcolor": "rgb(36,36,36)",
              "ticks": "outside"
             }
            },
            "type": "scatterpolargl"
           }
          ],
          "scatterternary": [
           {
            "marker": {
             "colorbar": {
              "outlinewidth": 1,
              "tickcolor": "rgb(36,36,36)",
              "ticks": "outside"
             }
            },
            "type": "scatterternary"
           }
          ],
          "surface": [
           {
            "colorbar": {
             "outlinewidth": 1,
             "tickcolor": "rgb(36,36,36)",
             "ticks": "outside"
            },
            "colorscale": [
             [
              0,
              "#440154"
             ],
             [
              0.1111111111111111,
              "#482878"
             ],
             [
              0.2222222222222222,
              "#3e4989"
             ],
             [
              0.3333333333333333,
              "#31688e"
             ],
             [
              0.4444444444444444,
              "#26828e"
             ],
             [
              0.5555555555555556,
              "#1f9e89"
             ],
             [
              0.6666666666666666,
              "#35b779"
             ],
             [
              0.7777777777777778,
              "#6ece58"
             ],
             [
              0.8888888888888888,
              "#b5de2b"
             ],
             [
              1,
              "#fde725"
             ]
            ],
            "type": "surface"
           }
          ],
          "table": [
           {
            "cells": {
             "fill": {
              "color": "rgb(237,237,237)"
             },
             "line": {
              "color": "white"
             }
            },
            "header": {
             "fill": {
              "color": "rgb(217,217,217)"
             },
             "line": {
              "color": "white"
             }
            },
            "type": "table"
           }
          ]
         },
         "layout": {
          "annotationdefaults": {
           "arrowhead": 0,
           "arrowwidth": 1
          },
          "autotypenumbers": "strict",
          "coloraxis": {
           "colorbar": {
            "outlinewidth": 1,
            "tickcolor": "rgb(36,36,36)",
            "ticks": "outside"
           }
          },
          "colorscale": {
           "diverging": [
            [
             0,
             "rgb(103,0,31)"
            ],
            [
             0.1,
             "rgb(178,24,43)"
            ],
            [
             0.2,
             "rgb(214,96,77)"
            ],
            [
             0.3,
             "rgb(244,165,130)"
            ],
            [
             0.4,
             "rgb(253,219,199)"
            ],
            [
             0.5,
             "rgb(247,247,247)"
            ],
            [
             0.6,
             "rgb(209,229,240)"
            ],
            [
             0.7,
             "rgb(146,197,222)"
            ],
            [
             0.8,
             "rgb(67,147,195)"
            ],
            [
             0.9,
             "rgb(33,102,172)"
            ],
            [
             1,
             "rgb(5,48,97)"
            ]
           ],
           "sequential": [
            [
             0,
             "#440154"
            ],
            [
             0.1111111111111111,
             "#482878"
            ],
            [
             0.2222222222222222,
             "#3e4989"
            ],
            [
             0.3333333333333333,
             "#31688e"
            ],
            [
             0.4444444444444444,
             "#26828e"
            ],
            [
             0.5555555555555556,
             "#1f9e89"
            ],
            [
             0.6666666666666666,
             "#35b779"
            ],
            [
             0.7777777777777778,
             "#6ece58"
            ],
            [
             0.8888888888888888,
             "#b5de2b"
            ],
            [
             1,
             "#fde725"
            ]
           ],
           "sequentialminus": [
            [
             0,
             "#440154"
            ],
            [
             0.1111111111111111,
             "#482878"
            ],
            [
             0.2222222222222222,
             "#3e4989"
            ],
            [
             0.3333333333333333,
             "#31688e"
            ],
            [
             0.4444444444444444,
             "#26828e"
            ],
            [
             0.5555555555555556,
             "#1f9e89"
            ],
            [
             0.6666666666666666,
             "#35b779"
            ],
            [
             0.7777777777777778,
             "#6ece58"
            ],
            [
             0.8888888888888888,
             "#b5de2b"
            ],
            [
             1,
             "#fde725"
            ]
           ]
          },
          "colorway": [
           "#1F77B4",
           "#FF7F0E",
           "#2CA02C",
           "#D62728",
           "#9467BD",
           "#8C564B",
           "#E377C2",
           "#7F7F7F",
           "#BCBD22",
           "#17BECF"
          ],
          "font": {
           "color": "rgb(36,36,36)"
          },
          "geo": {
           "bgcolor": "white",
           "lakecolor": "white",
           "landcolor": "white",
           "showlakes": true,
           "showland": true,
           "subunitcolor": "white"
          },
          "hoverlabel": {
           "align": "left"
          },
          "hovermode": "closest",
          "mapbox": {
           "style": "light"
          },
          "paper_bgcolor": "white",
          "plot_bgcolor": "white",
          "polar": {
           "angularaxis": {
            "gridcolor": "rgb(232,232,232)",
            "linecolor": "rgb(36,36,36)",
            "showgrid": false,
            "showline": true,
            "ticks": "outside"
           },
           "bgcolor": "white",
           "radialaxis": {
            "gridcolor": "rgb(232,232,232)",
            "linecolor": "rgb(36,36,36)",
            "showgrid": false,
            "showline": true,
            "ticks": "outside"
           }
          },
          "scene": {
           "xaxis": {
            "backgroundcolor": "white",
            "gridcolor": "rgb(232,232,232)",
            "gridwidth": 2,
            "linecolor": "rgb(36,36,36)",
            "showbackground": true,
            "showgrid": false,
            "showline": true,
            "ticks": "outside",
            "zeroline": false,
            "zerolinecolor": "rgb(36,36,36)"
           },
           "yaxis": {
            "backgroundcolor": "white",
            "gridcolor": "rgb(232,232,232)",
            "gridwidth": 2,
            "linecolor": "rgb(36,36,36)",
            "showbackground": true,
            "showgrid": false,
            "showline": true,
            "ticks": "outside",
            "zeroline": false,
            "zerolinecolor": "rgb(36,36,36)"
           },
           "zaxis": {
            "backgroundcolor": "white",
            "gridcolor": "rgb(232,232,232)",
            "gridwidth": 2,
            "linecolor": "rgb(36,36,36)",
            "showbackground": true,
            "showgrid": false,
            "showline": true,
            "ticks": "outside",
            "zeroline": false,
            "zerolinecolor": "rgb(36,36,36)"
           }
          },
          "shapedefaults": {
           "fillcolor": "black",
           "line": {
            "width": 0
           },
           "opacity": 0.3
          },
          "ternary": {
           "aaxis": {
            "gridcolor": "rgb(232,232,232)",
            "linecolor": "rgb(36,36,36)",
            "showgrid": false,
            "showline": true,
            "ticks": "outside"
           },
           "baxis": {
            "gridcolor": "rgb(232,232,232)",
            "linecolor": "rgb(36,36,36)",
            "showgrid": false,
            "showline": true,
            "ticks": "outside"
           },
           "bgcolor": "white",
           "caxis": {
            "gridcolor": "rgb(232,232,232)",
            "linecolor": "rgb(36,36,36)",
            "showgrid": false,
            "showline": true,
            "ticks": "outside"
           }
          },
          "title": {
           "x": 0.05
          },
          "xaxis": {
           "automargin": true,
           "gridcolor": "rgb(232,232,232)",
           "linecolor": "rgb(36,36,36)",
           "showgrid": false,
           "showline": true,
           "ticks": "outside",
           "title": {
            "standoff": 15
           },
           "zeroline": false,
           "zerolinecolor": "rgb(36,36,36)"
          },
          "yaxis": {
           "automargin": true,
           "gridcolor": "rgb(232,232,232)",
           "linecolor": "rgb(36,36,36)",
           "showgrid": false,
           "showline": true,
           "ticks": "outside",
           "title": {
            "standoff": 15
           },
           "zeroline": false,
           "zerolinecolor": "rgb(36,36,36)"
          }
         }
        },
        "title": {
         "text": "Productivity by Gender Identity and Leave Status"
        },
        "width": 600,
        "xaxis": {
         "title": {
          "text": "Average Number of Publications"
         }
        },
        "yaxis": {
         "automargin": true
        }
       }
      }
     },
     "metadata": {},
     "output_type": "display_data"
    },
    {
     "data": {
      "application/vnd.plotly.v1+json": {
       "config": {
        "plotlyServerURL": "https://plot.ly"
       },
       "data": [
        {
         "marker": {
          "color": "#F4C49F"
         },
         "name": "Control",
         "orientation": "h",
         "type": "bar",
         "x": {
          "bdata": "z0BUOrKnV0B5xjOe8Yw2QKG9hPYS6mNAFK5H4XoURECmpaWlpcViQA==",
          "dtype": "f8"
         },
         "y": [
          "I am a non-tenure-track faculty",
          "I am a postdoc",
          "I am a tenure-track faculty",
          "I am tenured",
          "Other"
         ]
        },
        {
         "marker": {
          "color": "#4F90D9"
         },
         "name": "Treated",
         "orientation": "h",
         "type": "bar",
         "x": {
          "bdata": "CnFWfkKcR0AevK06ot48QLSX0F5CO0BA27Zt27adUkAZGRkZGRk9QA==",
          "dtype": "f8"
         },
         "y": [
          "I am a non-tenure-track faculty",
          "I am a postdoc",
          "I am a tenure-track faculty",
          "I am tenured",
          "Other"
         ]
        }
       ],
       "layout": {
        "barmode": "group",
        "height": 500,
        "legend": {
         "title": {
          "text": "Leave Status"
         }
        },
        "margin": {
         "l": 160
        },
        "template": {
         "data": {
          "bar": [
           {
            "error_x": {
             "color": "rgb(36,36,36)"
            },
            "error_y": {
             "color": "rgb(36,36,36)"
            },
            "marker": {
             "line": {
              "color": "white",
              "width": 0.5
             },
             "pattern": {
              "fillmode": "overlay",
              "size": 10,
              "solidity": 0.2
             }
            },
            "type": "bar"
           }
          ],
          "barpolar": [
           {
            "marker": {
             "line": {
              "color": "white",
              "width": 0.5
             },
             "pattern": {
              "fillmode": "overlay",
              "size": 10,
              "solidity": 0.2
             }
            },
            "type": "barpolar"
           }
          ],
          "carpet": [
           {
            "aaxis": {
             "endlinecolor": "rgb(36,36,36)",
             "gridcolor": "white",
             "linecolor": "white",
             "minorgridcolor": "white",
             "startlinecolor": "rgb(36,36,36)"
            },
            "baxis": {
             "endlinecolor": "rgb(36,36,36)",
             "gridcolor": "white",
             "linecolor": "white",
             "minorgridcolor": "white",
             "startlinecolor": "rgb(36,36,36)"
            },
            "type": "carpet"
           }
          ],
          "choropleth": [
           {
            "colorbar": {
             "outlinewidth": 1,
             "tickcolor": "rgb(36,36,36)",
             "ticks": "outside"
            },
            "type": "choropleth"
           }
          ],
          "contour": [
           {
            "colorbar": {
             "outlinewidth": 1,
             "tickcolor": "rgb(36,36,36)",
             "ticks": "outside"
            },
            "colorscale": [
             [
              0,
              "#440154"
             ],
             [
              0.1111111111111111,
              "#482878"
             ],
             [
              0.2222222222222222,
              "#3e4989"
             ],
             [
              0.3333333333333333,
              "#31688e"
             ],
             [
              0.4444444444444444,
              "#26828e"
             ],
             [
              0.5555555555555556,
              "#1f9e89"
             ],
             [
              0.6666666666666666,
              "#35b779"
             ],
             [
              0.7777777777777778,
              "#6ece58"
             ],
             [
              0.8888888888888888,
              "#b5de2b"
             ],
             [
              1,
              "#fde725"
             ]
            ],
            "type": "contour"
           }
          ],
          "contourcarpet": [
           {
            "colorbar": {
             "outlinewidth": 1,
             "tickcolor": "rgb(36,36,36)",
             "ticks": "outside"
            },
            "type": "contourcarpet"
           }
          ],
          "heatmap": [
           {
            "colorbar": {
             "outlinewidth": 1,
             "tickcolor": "rgb(36,36,36)",
             "ticks": "outside"
            },
            "colorscale": [
             [
              0,
              "#440154"
             ],
             [
              0.1111111111111111,
              "#482878"
             ],
             [
              0.2222222222222222,
              "#3e4989"
             ],
             [
              0.3333333333333333,
              "#31688e"
             ],
             [
              0.4444444444444444,
              "#26828e"
             ],
             [
              0.5555555555555556,
              "#1f9e89"
             ],
             [
              0.6666666666666666,
              "#35b779"
             ],
             [
              0.7777777777777778,
              "#6ece58"
             ],
             [
              0.8888888888888888,
              "#b5de2b"
             ],
             [
              1,
              "#fde725"
             ]
            ],
            "type": "heatmap"
           }
          ],
          "histogram": [
           {
            "marker": {
             "line": {
              "color": "white",
              "width": 0.6
             }
            },
            "type": "histogram"
           }
          ],
          "histogram2d": [
           {
            "colorbar": {
             "outlinewidth": 1,
             "tickcolor": "rgb(36,36,36)",
             "ticks": "outside"
            },
            "colorscale": [
             [
              0,
              "#440154"
             ],
             [
              0.1111111111111111,
              "#482878"
             ],
             [
              0.2222222222222222,
              "#3e4989"
             ],
             [
              0.3333333333333333,
              "#31688e"
             ],
             [
              0.4444444444444444,
              "#26828e"
             ],
             [
              0.5555555555555556,
              "#1f9e89"
             ],
             [
              0.6666666666666666,
              "#35b779"
             ],
             [
              0.7777777777777778,
              "#6ece58"
             ],
             [
              0.8888888888888888,
              "#b5de2b"
             ],
             [
              1,
              "#fde725"
             ]
            ],
            "type": "histogram2d"
           }
          ],
          "histogram2dcontour": [
           {
            "colorbar": {
             "outlinewidth": 1,
             "tickcolor": "rgb(36,36,36)",
             "ticks": "outside"
            },
            "colorscale": [
             [
              0,
              "#440154"
             ],
             [
              0.1111111111111111,
              "#482878"
             ],
             [
              0.2222222222222222,
              "#3e4989"
             ],
             [
              0.3333333333333333,
              "#31688e"
             ],
             [
              0.4444444444444444,
              "#26828e"
             ],
             [
              0.5555555555555556,
              "#1f9e89"
             ],
             [
              0.6666666666666666,
              "#35b779"
             ],
             [
              0.7777777777777778,
              "#6ece58"
             ],
             [
              0.8888888888888888,
              "#b5de2b"
             ],
             [
              1,
              "#fde725"
             ]
            ],
            "type": "histogram2dcontour"
           }
          ],
          "mesh3d": [
           {
            "colorbar": {
             "outlinewidth": 1,
             "tickcolor": "rgb(36,36,36)",
             "ticks": "outside"
            },
            "type": "mesh3d"
           }
          ],
          "parcoords": [
           {
            "line": {
             "colorbar": {
              "outlinewidth": 1,
              "tickcolor": "rgb(36,36,36)",
              "ticks": "outside"
             }
            },
            "type": "parcoords"
           }
          ],
          "pie": [
           {
            "automargin": true,
            "type": "pie"
           }
          ],
          "scatter": [
           {
            "fillpattern": {
             "fillmode": "overlay",
             "size": 10,
             "solidity": 0.2
            },
            "type": "scatter"
           }
          ],
          "scatter3d": [
           {
            "line": {
             "colorbar": {
              "outlinewidth": 1,
              "tickcolor": "rgb(36,36,36)",
              "ticks": "outside"
             }
            },
            "marker": {
             "colorbar": {
              "outlinewidth": 1,
              "tickcolor": "rgb(36,36,36)",
              "ticks": "outside"
             }
            },
            "type": "scatter3d"
           }
          ],
          "scattercarpet": [
           {
            "marker": {
             "colorbar": {
              "outlinewidth": 1,
              "tickcolor": "rgb(36,36,36)",
              "ticks": "outside"
             }
            },
            "type": "scattercarpet"
           }
          ],
          "scattergeo": [
           {
            "marker": {
             "colorbar": {
              "outlinewidth": 1,
              "tickcolor": "rgb(36,36,36)",
              "ticks": "outside"
             }
            },
            "type": "scattergeo"
           }
          ],
          "scattergl": [
           {
            "marker": {
             "colorbar": {
              "outlinewidth": 1,
              "tickcolor": "rgb(36,36,36)",
              "ticks": "outside"
             }
            },
            "type": "scattergl"
           }
          ],
          "scattermap": [
           {
            "marker": {
             "colorbar": {
              "outlinewidth": 1,
              "tickcolor": "rgb(36,36,36)",
              "ticks": "outside"
             }
            },
            "type": "scattermap"
           }
          ],
          "scattermapbox": [
           {
            "marker": {
             "colorbar": {
              "outlinewidth": 1,
              "tickcolor": "rgb(36,36,36)",
              "ticks": "outside"
             }
            },
            "type": "scattermapbox"
           }
          ],
          "scatterpolar": [
           {
            "marker": {
             "colorbar": {
              "outlinewidth": 1,
              "tickcolor": "rgb(36,36,36)",
              "ticks": "outside"
             }
            },
            "type": "scatterpolar"
           }
          ],
          "scatterpolargl": [
           {
            "marker": {
             "colorbar": {
              "outlinewidth": 1,
              "tickcolor": "rgb(36,36,36)",
              "ticks": "outside"
             }
            },
            "type": "scatterpolargl"
           }
          ],
          "scatterternary": [
           {
            "marker": {
             "colorbar": {
              "outlinewidth": 1,
              "tickcolor": "rgb(36,36,36)",
              "ticks": "outside"
             }
            },
            "type": "scatterternary"
           }
          ],
          "surface": [
           {
            "colorbar": {
             "outlinewidth": 1,
             "tickcolor": "rgb(36,36,36)",
             "ticks": "outside"
            },
            "colorscale": [
             [
              0,
              "#440154"
             ],
             [
              0.1111111111111111,
              "#482878"
             ],
             [
              0.2222222222222222,
              "#3e4989"
             ],
             [
              0.3333333333333333,
              "#31688e"
             ],
             [
              0.4444444444444444,
              "#26828e"
             ],
             [
              0.5555555555555556,
              "#1f9e89"
             ],
             [
              0.6666666666666666,
              "#35b779"
             ],
             [
              0.7777777777777778,
              "#6ece58"
             ],
             [
              0.8888888888888888,
              "#b5de2b"
             ],
             [
              1,
              "#fde725"
             ]
            ],
            "type": "surface"
           }
          ],
          "table": [
           {
            "cells": {
             "fill": {
              "color": "rgb(237,237,237)"
             },
             "line": {
              "color": "white"
             }
            },
            "header": {
             "fill": {
              "color": "rgb(217,217,217)"
             },
             "line": {
              "color": "white"
             }
            },
            "type": "table"
           }
          ]
         },
         "layout": {
          "annotationdefaults": {
           "arrowhead": 0,
           "arrowwidth": 1
          },
          "autotypenumbers": "strict",
          "coloraxis": {
           "colorbar": {
            "outlinewidth": 1,
            "tickcolor": "rgb(36,36,36)",
            "ticks": "outside"
           }
          },
          "colorscale": {
           "diverging": [
            [
             0,
             "rgb(103,0,31)"
            ],
            [
             0.1,
             "rgb(178,24,43)"
            ],
            [
             0.2,
             "rgb(214,96,77)"
            ],
            [
             0.3,
             "rgb(244,165,130)"
            ],
            [
             0.4,
             "rgb(253,219,199)"
            ],
            [
             0.5,
             "rgb(247,247,247)"
            ],
            [
             0.6,
             "rgb(209,229,240)"
            ],
            [
             0.7,
             "rgb(146,197,222)"
            ],
            [
             0.8,
             "rgb(67,147,195)"
            ],
            [
             0.9,
             "rgb(33,102,172)"
            ],
            [
             1,
             "rgb(5,48,97)"
            ]
           ],
           "sequential": [
            [
             0,
             "#440154"
            ],
            [
             0.1111111111111111,
             "#482878"
            ],
            [
             0.2222222222222222,
             "#3e4989"
            ],
            [
             0.3333333333333333,
             "#31688e"
            ],
            [
             0.4444444444444444,
             "#26828e"
            ],
            [
             0.5555555555555556,
             "#1f9e89"
            ],
            [
             0.6666666666666666,
             "#35b779"
            ],
            [
             0.7777777777777778,
             "#6ece58"
            ],
            [
             0.8888888888888888,
             "#b5de2b"
            ],
            [
             1,
             "#fde725"
            ]
           ],
           "sequentialminus": [
            [
             0,
             "#440154"
            ],
            [
             0.1111111111111111,
             "#482878"
            ],
            [
             0.2222222222222222,
             "#3e4989"
            ],
            [
             0.3333333333333333,
             "#31688e"
            ],
            [
             0.4444444444444444,
             "#26828e"
            ],
            [
             0.5555555555555556,
             "#1f9e89"
            ],
            [
             0.6666666666666666,
             "#35b779"
            ],
            [
             0.7777777777777778,
             "#6ece58"
            ],
            [
             0.8888888888888888,
             "#b5de2b"
            ],
            [
             1,
             "#fde725"
            ]
           ]
          },
          "colorway": [
           "#1F77B4",
           "#FF7F0E",
           "#2CA02C",
           "#D62728",
           "#9467BD",
           "#8C564B",
           "#E377C2",
           "#7F7F7F",
           "#BCBD22",
           "#17BECF"
          ],
          "font": {
           "color": "rgb(36,36,36)"
          },
          "geo": {
           "bgcolor": "white",
           "lakecolor": "white",
           "landcolor": "white",
           "showlakes": true,
           "showland": true,
           "subunitcolor": "white"
          },
          "hoverlabel": {
           "align": "left"
          },
          "hovermode": "closest",
          "mapbox": {
           "style": "light"
          },
          "paper_bgcolor": "white",
          "plot_bgcolor": "white",
          "polar": {
           "angularaxis": {
            "gridcolor": "rgb(232,232,232)",
            "linecolor": "rgb(36,36,36)",
            "showgrid": false,
            "showline": true,
            "ticks": "outside"
           },
           "bgcolor": "white",
           "radialaxis": {
            "gridcolor": "rgb(232,232,232)",
            "linecolor": "rgb(36,36,36)",
            "showgrid": false,
            "showline": true,
            "ticks": "outside"
           }
          },
          "scene": {
           "xaxis": {
            "backgroundcolor": "white",
            "gridcolor": "rgb(232,232,232)",
            "gridwidth": 2,
            "linecolor": "rgb(36,36,36)",
            "showbackground": true,
            "showgrid": false,
            "showline": true,
            "ticks": "outside",
            "zeroline": false,
            "zerolinecolor": "rgb(36,36,36)"
           },
           "yaxis": {
            "backgroundcolor": "white",
            "gridcolor": "rgb(232,232,232)",
            "gridwidth": 2,
            "linecolor": "rgb(36,36,36)",
            "showbackground": true,
            "showgrid": false,
            "showline": true,
            "ticks": "outside",
            "zeroline": false,
            "zerolinecolor": "rgb(36,36,36)"
           },
           "zaxis": {
            "backgroundcolor": "white",
            "gridcolor": "rgb(232,232,232)",
            "gridwidth": 2,
            "linecolor": "rgb(36,36,36)",
            "showbackground": true,
            "showgrid": false,
            "showline": true,
            "ticks": "outside",
            "zeroline": false,
            "zerolinecolor": "rgb(36,36,36)"
           }
          },
          "shapedefaults": {
           "fillcolor": "black",
           "line": {
            "width": 0
           },
           "opacity": 0.3
          },
          "ternary": {
           "aaxis": {
            "gridcolor": "rgb(232,232,232)",
            "linecolor": "rgb(36,36,36)",
            "showgrid": false,
            "showline": true,
            "ticks": "outside"
           },
           "baxis": {
            "gridcolor": "rgb(232,232,232)",
            "linecolor": "rgb(36,36,36)",
            "showgrid": false,
            "showline": true,
            "ticks": "outside"
           },
           "bgcolor": "white",
           "caxis": {
            "gridcolor": "rgb(232,232,232)",
            "linecolor": "rgb(36,36,36)",
            "showgrid": false,
            "showline": true,
            "ticks": "outside"
           }
          },
          "title": {
           "x": 0.05
          },
          "xaxis": {
           "automargin": true,
           "gridcolor": "rgb(232,232,232)",
           "linecolor": "rgb(36,36,36)",
           "showgrid": false,
           "showline": true,
           "ticks": "outside",
           "title": {
            "standoff": 15
           },
           "zeroline": false,
           "zerolinecolor": "rgb(36,36,36)"
          },
          "yaxis": {
           "automargin": true,
           "gridcolor": "rgb(232,232,232)",
           "linecolor": "rgb(36,36,36)",
           "showgrid": false,
           "showline": true,
           "ticks": "outside",
           "title": {
            "standoff": 15
           },
           "zeroline": false,
           "zerolinecolor": "rgb(36,36,36)"
          }
         }
        },
        "title": {
         "text": "Productivity by Academic Position and Leave Status"
        },
        "width": 600,
        "xaxis": {
         "title": {
          "text": "Average Number of Publications"
         }
        },
        "yaxis": {
         "automargin": true
        }
       }
      }
     },
     "metadata": {},
     "output_type": "display_data"
    }
   ],
   "source": [
    "import pandas as pd\n",
    "import plotly.graph_objects as go\n",
    "\n",
    "# ─────────────────────────────────────────────────────────────────────────────\n",
    "# 0.  Palette: orange = Control, blue = Treated\n",
    "# ─────────────────────────────────────────────────────────────────────────────\n",
    "PALETTE = {'Control': '#F4C49F',   # soft orange\n",
    "           'Treated': '#4F90D9'}   # mid‑blue\n",
    "\n",
    "# ─────────────────────────────────────────────────────────────────────────────\n",
    "# 1.  Helper to aggregate means\n",
    "# ─────────────────────────────────────────────────────────────────────────────\n",
    "def att_bar_df(df, group_col):\n",
    "    out = (df.groupby([group_col, 'TookLeave'])['NumPublications']\n",
    "             .mean()\n",
    "             .reset_index()\n",
    "             .rename(columns={group_col: 'Group',\n",
    "                              'NumPublications': 'AvgPubs'}))\n",
    "    out['LeaveStatus'] = out['TookLeave'].map({0: 'Control', 1: 'Treated'})\n",
    "    return out\n",
    "\n",
    "gender_df = att_bar_df(matched_df, 'GenderIdentity')\n",
    "\n",
    "acad_df   = att_bar_df(matched_df, 'AcademicPosition')\n",
    "acad_df['Group'] = acad_df['Group'].str.replace(r'\\s*\\(.*?\\)', '', regex=True).str.strip()\n",
    "\n",
    "# ─────────────────────────────────────────────────────────────────────────────\n",
    "# 2.  Builder for a single horizontal‑bar figure\n",
    "# ─────────────────────────────────────────────────────────────────────────────\n",
    "def make_bar(fig_df, title):\n",
    "    fig = go.Figure()\n",
    "    for status in ['Control', 'Treated']:\n",
    "        sub = fig_df[fig_df['LeaveStatus'] == status]\n",
    "        fig.add_bar(\n",
    "            x=sub['AvgPubs'], y=sub['Group'],\n",
    "            name=status,\n",
    "            marker_color=PALETTE[status],\n",
    "            orientation='h'\n",
    "        )\n",
    "    fig.update_layout(\n",
    "        barmode='group',\n",
    "        width = 600,\n",
    "        height = 500,\n",
    "        template='simple_white',\n",
    "        legend_title_text='Leave Status',\n",
    "        xaxis_title='Average Number of Publications',\n",
    "        title=title,\n",
    "        margin=dict(l=160)\n",
    "    )\n",
    "    fig.update_yaxes(automargin=True)\n",
    "    return fig\n",
    "\n",
    "# build figures (as before)\n",
    "gender_fig = make_bar(gender_df, \"Productivity by Gender Identity and Leave Status\")\n",
    "role_fig   = make_bar(acad_df,   \"Productivity by Academic Position and Leave Status\")\n",
    "\n",
    "# ── make gender plot half‑size (≈ 400 × 300) ─────────────\n",
    "gender_fig.update_layout(width=600, height=300)   # single line\n",
    "\n",
    "gender_fig.show()\n",
    "role_fig.show()\n",
    "\n",
    "\n",
    "# ─────────────────────────────────────────────────────────────────────────────\n",
    "# 3.  Save for reveal.js <iframe> embeds\n",
    "# ─────────────────────────────────────────────────────────────────────────────\n",
    "#gender_fig.write_html(\"productivity_gender.html\",\n",
    "  #                    include_plotlyjs=\"cdn\", full_html=False)\n",
    "#role_fig.write_html(\"productivity_role.html\",\n",
    "   #                 include_plotlyjs=\"cdn\", full_html=False)\n"
   ]
  },
  {
   "cell_type": "code",
   "execution_count": null,
   "id": "4a662058",
   "metadata": {},
   "outputs": [
    {
     "data": {
      "application/vnd.plotly.v1+json": {
       "config": {
        "plotlyServerURL": "https://plot.ly"
       },
       "data": [
        {
         "marker": {
          "color": "#F4C49F"
         },
         "name": "Control",
         "orientation": "h",
         "type": "bar",
         "x": {
          "bdata": "ab2AbU4XUkDjK77iK55QQA==",
          "dtype": "f8"
         },
         "xaxis": "x",
         "y": [
          "Man",
          "Woman"
         ],
         "yaxis": "y"
        },
        {
         "marker": {
          "color": "#4F90D9"
         },
         "name": "Treated",
         "orientation": "h",
         "type": "bar",
         "x": {
          "bdata": "t5LaSmorU0BbFeUTNCpFQA==",
          "dtype": "f8"
         },
         "xaxis": "x",
         "y": [
          "Man",
          "Woman"
         ],
         "yaxis": "y"
        },
        {
         "marker": {
          "color": "#F4C49F"
         },
         "orientation": "h",
         "showlegend": false,
         "type": "bar",
         "x": {
          "bdata": "z0BUOrKnV0B5xjOe8Yw2QKG9hPYS6mNAFK5H4XoURECmpaWlpcViQA==",
          "dtype": "f8"
         },
         "xaxis": "x2",
         "y": [
          "I am a non-tenure-track faculty",
          "I am a postdoc",
          "I am a tenure-track faculty",
          "I am tenured",
          "Other"
         ],
         "yaxis": "y2"
        },
        {
         "marker": {
          "color": "#4F90D9"
         },
         "orientation": "h",
         "showlegend": false,
         "type": "bar",
         "x": {
          "bdata": "CnFWfkKcR0AevK06ot48QLSX0F5CO0BA27Zt27adUkAZGRkZGRk9QA==",
          "dtype": "f8"
         },
         "xaxis": "x2",
         "y": [
          "I am a non-tenure-track faculty",
          "I am a postdoc",
          "I am a tenure-track faculty",
          "I am tenured",
          "Other"
         ],
         "yaxis": "y2"
        }
       ],
       "layout": {
        "annotations": [
         {
          "font": {
           "size": 16
          },
          "showarrow": false,
          "text": "Productivity by GenderIdentity and Leave Status",
          "x": 0.5,
          "xanchor": "center",
          "xref": "paper",
          "y": 1,
          "yanchor": "bottom",
          "yref": "paper"
         },
         {
          "font": {
           "size": 16
          },
          "showarrow": false,
          "text": "Productivity by AcademicPosition and Leave Status",
          "x": 0.5,
          "xanchor": "center",
          "xref": "paper",
          "y": 0.375,
          "yanchor": "bottom",
          "yref": "paper"
         }
        ],
        "barmode": "group",
        "height": 600,
        "legend": {
         "title": {
          "text": "Leave Status"
         }
        },
        "margin": {
         "l": 160
        },
        "template": {
         "data": {
          "bar": [
           {
            "error_x": {
             "color": "rgb(36,36,36)"
            },
            "error_y": {
             "color": "rgb(36,36,36)"
            },
            "marker": {
             "line": {
              "color": "white",
              "width": 0.5
             },
             "pattern": {
              "fillmode": "overlay",
              "size": 10,
              "solidity": 0.2
             }
            },
            "type": "bar"
           }
          ],
          "barpolar": [
           {
            "marker": {
             "line": {
              "color": "white",
              "width": 0.5
             },
             "pattern": {
              "fillmode": "overlay",
              "size": 10,
              "solidity": 0.2
             }
            },
            "type": "barpolar"
           }
          ],
          "carpet": [
           {
            "aaxis": {
             "endlinecolor": "rgb(36,36,36)",
             "gridcolor": "white",
             "linecolor": "white",
             "minorgridcolor": "white",
             "startlinecolor": "rgb(36,36,36)"
            },
            "baxis": {
             "endlinecolor": "rgb(36,36,36)",
             "gridcolor": "white",
             "linecolor": "white",
             "minorgridcolor": "white",
             "startlinecolor": "rgb(36,36,36)"
            },
            "type": "carpet"
           }
          ],
          "choropleth": [
           {
            "colorbar": {
             "outlinewidth": 1,
             "tickcolor": "rgb(36,36,36)",
             "ticks": "outside"
            },
            "type": "choropleth"
           }
          ],
          "contour": [
           {
            "colorbar": {
             "outlinewidth": 1,
             "tickcolor": "rgb(36,36,36)",
             "ticks": "outside"
            },
            "colorscale": [
             [
              0,
              "#440154"
             ],
             [
              0.1111111111111111,
              "#482878"
             ],
             [
              0.2222222222222222,
              "#3e4989"
             ],
             [
              0.3333333333333333,
              "#31688e"
             ],
             [
              0.4444444444444444,
              "#26828e"
             ],
             [
              0.5555555555555556,
              "#1f9e89"
             ],
             [
              0.6666666666666666,
              "#35b779"
             ],
             [
              0.7777777777777778,
              "#6ece58"
             ],
             [
              0.8888888888888888,
              "#b5de2b"
             ],
             [
              1,
              "#fde725"
             ]
            ],
            "type": "contour"
           }
          ],
          "contourcarpet": [
           {
            "colorbar": {
             "outlinewidth": 1,
             "tickcolor": "rgb(36,36,36)",
             "ticks": "outside"
            },
            "type": "contourcarpet"
           }
          ],
          "heatmap": [
           {
            "colorbar": {
             "outlinewidth": 1,
             "tickcolor": "rgb(36,36,36)",
             "ticks": "outside"
            },
            "colorscale": [
             [
              0,
              "#440154"
             ],
             [
              0.1111111111111111,
              "#482878"
             ],
             [
              0.2222222222222222,
              "#3e4989"
             ],
             [
              0.3333333333333333,
              "#31688e"
             ],
             [
              0.4444444444444444,
              "#26828e"
             ],
             [
              0.5555555555555556,
              "#1f9e89"
             ],
             [
              0.6666666666666666,
              "#35b779"
             ],
             [
              0.7777777777777778,
              "#6ece58"
             ],
             [
              0.8888888888888888,
              "#b5de2b"
             ],
             [
              1,
              "#fde725"
             ]
            ],
            "type": "heatmap"
           }
          ],
          "histogram": [
           {
            "marker": {
             "line": {
              "color": "white",
              "width": 0.6
             }
            },
            "type": "histogram"
           }
          ],
          "histogram2d": [
           {
            "colorbar": {
             "outlinewidth": 1,
             "tickcolor": "rgb(36,36,36)",
             "ticks": "outside"
            },
            "colorscale": [
             [
              0,
              "#440154"
             ],
             [
              0.1111111111111111,
              "#482878"
             ],
             [
              0.2222222222222222,
              "#3e4989"
             ],
             [
              0.3333333333333333,
              "#31688e"
             ],
             [
              0.4444444444444444,
              "#26828e"
             ],
             [
              0.5555555555555556,
              "#1f9e89"
             ],
             [
              0.6666666666666666,
              "#35b779"
             ],
             [
              0.7777777777777778,
              "#6ece58"
             ],
             [
              0.8888888888888888,
              "#b5de2b"
             ],
             [
              1,
              "#fde725"
             ]
            ],
            "type": "histogram2d"
           }
          ],
          "histogram2dcontour": [
           {
            "colorbar": {
             "outlinewidth": 1,
             "tickcolor": "rgb(36,36,36)",
             "ticks": "outside"
            },
            "colorscale": [
             [
              0,
              "#440154"
             ],
             [
              0.1111111111111111,
              "#482878"
             ],
             [
              0.2222222222222222,
              "#3e4989"
             ],
             [
              0.3333333333333333,
              "#31688e"
             ],
             [
              0.4444444444444444,
              "#26828e"
             ],
             [
              0.5555555555555556,
              "#1f9e89"
             ],
             [
              0.6666666666666666,
              "#35b779"
             ],
             [
              0.7777777777777778,
              "#6ece58"
             ],
             [
              0.8888888888888888,
              "#b5de2b"
             ],
             [
              1,
              "#fde725"
             ]
            ],
            "type": "histogram2dcontour"
           }
          ],
          "mesh3d": [
           {
            "colorbar": {
             "outlinewidth": 1,
             "tickcolor": "rgb(36,36,36)",
             "ticks": "outside"
            },
            "type": "mesh3d"
           }
          ],
          "parcoords": [
           {
            "line": {
             "colorbar": {
              "outlinewidth": 1,
              "tickcolor": "rgb(36,36,36)",
              "ticks": "outside"
             }
            },
            "type": "parcoords"
           }
          ],
          "pie": [
           {
            "automargin": true,
            "type": "pie"
           }
          ],
          "scatter": [
           {
            "fillpattern": {
             "fillmode": "overlay",
             "size": 10,
             "solidity": 0.2
            },
            "type": "scatter"
           }
          ],
          "scatter3d": [
           {
            "line": {
             "colorbar": {
              "outlinewidth": 1,
              "tickcolor": "rgb(36,36,36)",
              "ticks": "outside"
             }
            },
            "marker": {
             "colorbar": {
              "outlinewidth": 1,
              "tickcolor": "rgb(36,36,36)",
              "ticks": "outside"
             }
            },
            "type": "scatter3d"
           }
          ],
          "scattercarpet": [
           {
            "marker": {
             "colorbar": {
              "outlinewidth": 1,
              "tickcolor": "rgb(36,36,36)",
              "ticks": "outside"
             }
            },
            "type": "scattercarpet"
           }
          ],
          "scattergeo": [
           {
            "marker": {
             "colorbar": {
              "outlinewidth": 1,
              "tickcolor": "rgb(36,36,36)",
              "ticks": "outside"
             }
            },
            "type": "scattergeo"
           }
          ],
          "scattergl": [
           {
            "marker": {
             "colorbar": {
              "outlinewidth": 1,
              "tickcolor": "rgb(36,36,36)",
              "ticks": "outside"
             }
            },
            "type": "scattergl"
           }
          ],
          "scattermap": [
           {
            "marker": {
             "colorbar": {
              "outlinewidth": 1,
              "tickcolor": "rgb(36,36,36)",
              "ticks": "outside"
             }
            },
            "type": "scattermap"
           }
          ],
          "scattermapbox": [
           {
            "marker": {
             "colorbar": {
              "outlinewidth": 1,
              "tickcolor": "rgb(36,36,36)",
              "ticks": "outside"
             }
            },
            "type": "scattermapbox"
           }
          ],
          "scatterpolar": [
           {
            "marker": {
             "colorbar": {
              "outlinewidth": 1,
              "tickcolor": "rgb(36,36,36)",
              "ticks": "outside"
             }
            },
            "type": "scatterpolar"
           }
          ],
          "scatterpolargl": [
           {
            "marker": {
             "colorbar": {
              "outlinewidth": 1,
              "tickcolor": "rgb(36,36,36)",
              "ticks": "outside"
             }
            },
            "type": "scatterpolargl"
           }
          ],
          "scatterternary": [
           {
            "marker": {
             "colorbar": {
              "outlinewidth": 1,
              "tickcolor": "rgb(36,36,36)",
              "ticks": "outside"
             }
            },
            "type": "scatterternary"
           }
          ],
          "surface": [
           {
            "colorbar": {
             "outlinewidth": 1,
             "tickcolor": "rgb(36,36,36)",
             "ticks": "outside"
            },
            "colorscale": [
             [
              0,
              "#440154"
             ],
             [
              0.1111111111111111,
              "#482878"
             ],
             [
              0.2222222222222222,
              "#3e4989"
             ],
             [
              0.3333333333333333,
              "#31688e"
             ],
             [
              0.4444444444444444,
              "#26828e"
             ],
             [
              0.5555555555555556,
              "#1f9e89"
             ],
             [
              0.6666666666666666,
              "#35b779"
             ],
             [
              0.7777777777777778,
              "#6ece58"
             ],
             [
              0.8888888888888888,
              "#b5de2b"
             ],
             [
              1,
              "#fde725"
             ]
            ],
            "type": "surface"
           }
          ],
          "table": [
           {
            "cells": {
             "fill": {
              "color": "rgb(237,237,237)"
             },
             "line": {
              "color": "white"
             }
            },
            "header": {
             "fill": {
              "color": "rgb(217,217,217)"
             },
             "line": {
              "color": "white"
             }
            },
            "type": "table"
           }
          ]
         },
         "layout": {
          "annotationdefaults": {
           "arrowhead": 0,
           "arrowwidth": 1
          },
          "autotypenumbers": "strict",
          "coloraxis": {
           "colorbar": {
            "outlinewidth": 1,
            "tickcolor": "rgb(36,36,36)",
            "ticks": "outside"
           }
          },
          "colorscale": {
           "diverging": [
            [
             0,
             "rgb(103,0,31)"
            ],
            [
             0.1,
             "rgb(178,24,43)"
            ],
            [
             0.2,
             "rgb(214,96,77)"
            ],
            [
             0.3,
             "rgb(244,165,130)"
            ],
            [
             0.4,
             "rgb(253,219,199)"
            ],
            [
             0.5,
             "rgb(247,247,247)"
            ],
            [
             0.6,
             "rgb(209,229,240)"
            ],
            [
             0.7,
             "rgb(146,197,222)"
            ],
            [
             0.8,
             "rgb(67,147,195)"
            ],
            [
             0.9,
             "rgb(33,102,172)"
            ],
            [
             1,
             "rgb(5,48,97)"
            ]
           ],
           "sequential": [
            [
             0,
             "#440154"
            ],
            [
             0.1111111111111111,
             "#482878"
            ],
            [
             0.2222222222222222,
             "#3e4989"
            ],
            [
             0.3333333333333333,
             "#31688e"
            ],
            [
             0.4444444444444444,
             "#26828e"
            ],
            [
             0.5555555555555556,
             "#1f9e89"
            ],
            [
             0.6666666666666666,
             "#35b779"
            ],
            [
             0.7777777777777778,
             "#6ece58"
            ],
            [
             0.8888888888888888,
             "#b5de2b"
            ],
            [
             1,
             "#fde725"
            ]
           ],
           "sequentialminus": [
            [
             0,
             "#440154"
            ],
            [
             0.1111111111111111,
             "#482878"
            ],
            [
             0.2222222222222222,
             "#3e4989"
            ],
            [
             0.3333333333333333,
             "#31688e"
            ],
            [
             0.4444444444444444,
             "#26828e"
            ],
            [
             0.5555555555555556,
             "#1f9e89"
            ],
            [
             0.6666666666666666,
             "#35b779"
            ],
            [
             0.7777777777777778,
             "#6ece58"
            ],
            [
             0.8888888888888888,
             "#b5de2b"
            ],
            [
             1,
             "#fde725"
            ]
           ]
          },
          "colorway": [
           "#1F77B4",
           "#FF7F0E",
           "#2CA02C",
           "#D62728",
           "#9467BD",
           "#8C564B",
           "#E377C2",
           "#7F7F7F",
           "#BCBD22",
           "#17BECF"
          ],
          "font": {
           "color": "rgb(36,36,36)"
          },
          "geo": {
           "bgcolor": "white",
           "lakecolor": "white",
           "landcolor": "white",
           "showlakes": true,
           "showland": true,
           "subunitcolor": "white"
          },
          "hoverlabel": {
           "align": "left"
          },
          "hovermode": "closest",
          "mapbox": {
           "style": "light"
          },
          "paper_bgcolor": "white",
          "plot_bgcolor": "white",
          "polar": {
           "angularaxis": {
            "gridcolor": "rgb(232,232,232)",
            "linecolor": "rgb(36,36,36)",
            "showgrid": false,
            "showline": true,
            "ticks": "outside"
           },
           "bgcolor": "white",
           "radialaxis": {
            "gridcolor": "rgb(232,232,232)",
            "linecolor": "rgb(36,36,36)",
            "showgrid": false,
            "showline": true,
            "ticks": "outside"
           }
          },
          "scene": {
           "xaxis": {
            "backgroundcolor": "white",
            "gridcolor": "rgb(232,232,232)",
            "gridwidth": 2,
            "linecolor": "rgb(36,36,36)",
            "showbackground": true,
            "showgrid": false,
            "showline": true,
            "ticks": "outside",
            "zeroline": false,
            "zerolinecolor": "rgb(36,36,36)"
           },
           "yaxis": {
            "backgroundcolor": "white",
            "gridcolor": "rgb(232,232,232)",
            "gridwidth": 2,
            "linecolor": "rgb(36,36,36)",
            "showbackground": true,
            "showgrid": false,
            "showline": true,
            "ticks": "outside",
            "zeroline": false,
            "zerolinecolor": "rgb(36,36,36)"
           },
           "zaxis": {
            "backgroundcolor": "white",
            "gridcolor": "rgb(232,232,232)",
            "gridwidth": 2,
            "linecolor": "rgb(36,36,36)",
            "showbackground": true,
            "showgrid": false,
            "showline": true,
            "ticks": "outside",
            "zeroline": false,
            "zerolinecolor": "rgb(36,36,36)"
           }
          },
          "shapedefaults": {
           "fillcolor": "black",
           "line": {
            "width": 0
           },
           "opacity": 0.3
          },
          "ternary": {
           "aaxis": {
            "gridcolor": "rgb(232,232,232)",
            "linecolor": "rgb(36,36,36)",
            "showgrid": false,
            "showline": true,
            "ticks": "outside"
           },
           "baxis": {
            "gridcolor": "rgb(232,232,232)",
            "linecolor": "rgb(36,36,36)",
            "showgrid": false,
            "showline": true,
            "ticks": "outside"
           },
           "bgcolor": "white",
           "caxis": {
            "gridcolor": "rgb(232,232,232)",
            "linecolor": "rgb(36,36,36)",
            "showgrid": false,
            "showline": true,
            "ticks": "outside"
           }
          },
          "title": {
           "x": 0.05
          },
          "xaxis": {
           "automargin": true,
           "gridcolor": "rgb(232,232,232)",
           "linecolor": "rgb(36,36,36)",
           "showgrid": false,
           "showline": true,
           "ticks": "outside",
           "title": {
            "standoff": 15
           },
           "zeroline": false,
           "zerolinecolor": "rgb(36,36,36)"
          },
          "yaxis": {
           "automargin": true,
           "gridcolor": "rgb(232,232,232)",
           "linecolor": "rgb(36,36,36)",
           "showgrid": false,
           "showline": true,
           "ticks": "outside",
           "title": {
            "standoff": 15
           },
           "zeroline": false,
           "zerolinecolor": "rgb(36,36,36)"
          }
         }
        },
        "width": 800,
        "xaxis": {
         "anchor": "y",
         "domain": [
          0,
          1
         ],
         "title": {
          "text": "Average Number of Publications"
         }
        },
        "xaxis2": {
         "anchor": "y2",
         "domain": [
          0,
          1
         ],
         "title": {
          "text": "Average Number of Publications"
         }
        },
        "yaxis": {
         "anchor": "x",
         "automargin": true,
         "domain": [
          0.625,
          1
         ]
        },
        "yaxis2": {
         "anchor": "x2",
         "automargin": true,
         "domain": [
          0,
          0.375
         ]
        }
       }
      }
     },
     "metadata": {},
     "output_type": "display_data"
    }
   ],
   "source": [
    "import pandas as pd\n",
    "import plotly.express as px\n",
    "from plotly.subplots import make_subplots\n",
    "\n",
    "# ------------------------------------------------------------------\n",
    "# 0.  Colour palette: orange = Control, blue = Treated\n",
    "# ------------------------------------------------------------------\n",
    "custom_palette = {\n",
    "    'Control': '#F4C49F',   # soft orange\n",
    "    'Treated': '#4F90D9',   # mid‑blue\n",
    "}\n",
    "\n",
    "# ------------------------------------------------------------------\n",
    "# 1.  Helper to aggregate means\n",
    "# ------------------------------------------------------------------\n",
    "def agg_mean(df, group_col):\n",
    "    out = (\n",
    "        df.groupby([group_col, 'TookLeave'])['NumPublications']\n",
    "          .mean()\n",
    "          .reset_index()\n",
    "          .rename(columns={group_col: 'Group', 'NumPublications': 'AvgPubs'})\n",
    "    )\n",
    "    out['LeaveStatus'] = out['TookLeave'].map({0: 'Control', 1: 'Treated'})\n",
    "    return out\n",
    "\n",
    "# ------------------------------------------------------------------\n",
    "# 2.  Prepare data\n",
    "# ------------------------------------------------------------------\n",
    "gender_df = agg_mean(matched_df, 'GenderIdentity')\n",
    "\n",
    "acad_df   = agg_mean(matched_df, 'AcademicPosition')\n",
    "# *** strip anything in parentheses from the y‑axis labels ***\n",
    "acad_df['Group'] = acad_df['Group'].str.replace(r'\\s*\\(.*?\\)', '', regex=True).str.strip()\n",
    "\n",
    "# ------------------------------------------------------------------\n",
    "# 3.  Build the two‑panel interactive bar chart\n",
    "# ------------------------------------------------------------------\n",
    "fig = make_subplots(\n",
    "    rows=2, cols=1, shared_xaxes=False,\n",
    "    subplot_titles=(\n",
    "        \"Productivity by GenderIdentity and Leave Status\",\n",
    "        \"Productivity by AcademicPosition and Leave Status\"\n",
    "    )\n",
    ")\n",
    "\n",
    "# panel 1 – legend entries live here\n",
    "for status in ['Control', 'Treated']:\n",
    "    sub = gender_df[gender_df['LeaveStatus'] == status]\n",
    "    fig.add_bar(\n",
    "        x=sub['AvgPubs'], y=sub['Group'],\n",
    "        name=status,\n",
    "        marker_color=custom_palette[status],\n",
    "        orientation='h',\n",
    "        row=1, col=1\n",
    "    )\n",
    "\n",
    "# panel 2 – suppress duplicate legend entries\n",
    "for status in ['Control', 'Treated']:\n",
    "    sub = acad_df[acad_df['LeaveStatus'] == status]\n",
    "    fig.add_bar(\n",
    "        x=sub['AvgPubs'], y=sub['Group'],\n",
    "        showlegend=False,\n",
    "        marker_color=custom_palette[status],\n",
    "        orientation='h',\n",
    "        row=2, col=1\n",
    "    )\n",
    "\n",
    "fig.update_layout(\n",
    "    barmode='group',\n",
    "    width = 800,        \n",
    "    height = 600,       \n",
    "    legend_title_text=\"Leave Status\",\n",
    "    template='simple_white',\n",
    "    xaxis_title=\"Average Number of Publications\",\n",
    "    xaxis2_title=\"Average Number of Publications\",\n",
    "    margin=dict(l=160)\n",
    ")\n",
    "fig.update_yaxes(automargin=True)\n",
    "\n",
    "fig.show()\n",
    "\n",
    "# ------------------------------------------------------------------\n",
    "# 4.  (Optional) save for reveal.js slide\n",
    "# ------------------------------------------------------------------\n",
    "#fig.write_html(\"productivity_by_group.html\", include_plotlyjs=\"cdn\", full_html=False)\n"
   ]
  },
  {
   "cell_type": "markdown",
   "id": "54e884f3",
   "metadata": {},
   "source": [
    "Shows groupwise means for treated vs. control, side by side.\n",
    "Same data source as above, but the focus is on the magnitude of productivity, not just the difference."
   ]
  },
  {
   "cell_type": "markdown",
   "id": "e23996c0",
   "metadata": {},
   "source": [
    "### Bootstrap"
   ]
  },
  {
   "cell_type": "markdown",
   "id": "579e0765",
   "metadata": {},
   "source": [
    "Let's Bootstrap the ATT, this will give me a confidence interval, telling me sth about the stability of my estimate."
   ]
  },
  {
   "cell_type": "code",
   "execution_count": 512,
   "id": "f408867b",
   "metadata": {},
   "outputs": [
    {
     "name": "stdout",
     "output_type": "stream",
     "text": [
      "Bootstrapped ATT: -14.65 publications\n",
      "Bootstrapped ATT 95% CI: [-24.09, -4.74]\n"
     ]
    }
   ],
   "source": [
    "n_iterations = 1000\n",
    "att_samples = []\n",
    "\n",
    "for _ in range(n_iterations):\n",
    "    # Sample with replacement from matched_df\n",
    "    boot_sample = matched_df.sample(n=len(matched_df), replace=True)\n",
    "\n",
    "    treated = boot_sample[boot_sample['TookLeave'] == 1]['NumPublications']\n",
    "    control = boot_sample[boot_sample['TookLeave'] == 0]['NumPublications']\n",
    "\n",
    "    att_boot = treated.mean() - control.mean()\n",
    "    att_samples.append(att_boot)\n",
    "\n",
    "# Compute 95% CI\n",
    "mean_att = np.mean(att_samples)\n",
    "lower, upper = np.percentile(att_samples, [2.5, 97.5])\n",
    "print(f\"Bootstrapped ATT: {mean_att:.2f} publications\")\n",
    "print(f\"Bootstrapped ATT 95% CI: [{lower:.2f}, {upper:.2f}]\")"
   ]
  },
  {
   "cell_type": "markdown",
   "id": "276575b3",
   "metadata": {},
   "source": [
    "Mean ATT ≈ –14.65\n",
    "This means those who took parental leave published about 14 fewer papers on average than their matched counterparts who didn’t take leave."
   ]
  },
  {
   "cell_type": "code",
   "execution_count": 513,
   "id": "dfa5fc4d",
   "metadata": {},
   "outputs": [
    {
     "data": {
      "image/png": "[encoded data removed]",
      "text/plain": [
       "<Figure size 640x480 with 1 Axes>"
      ]
     },
     "metadata": {},
     "output_type": "display_data"
    }
   ],
   "source": [
    "plt.hist(att_samples, bins=30, color='#ADD8E6', edgecolor='black')\n",
    "plt.axvline(x=np.mean(att_samples), color='red', linestyle='--', label='Mean ATT')\n",
    "plt.axvline(x=lower, color='grey', linestyle='--', label='95% CI')\n",
    "plt.axvline(x=upper, color='grey', linestyle='--')\n",
    "plt.title('Bootstrap Distribution of ATT')\n",
    "plt.xlabel('ATT (Publications)')\n",
    "plt.ylabel('Frequency')\n",
    "plt.legend()\n",
    "plt.tight_layout()\n",
    "plt.show()"
   ]
  },
  {
   "cell_type": "code",
   "execution_count": 514,
   "id": "47a7dc6d",
   "metadata": {},
   "outputs": [
    {
     "name": "stdout",
     "output_type": "stream",
     "text": [
      "Bootstrapped ATT: -14.47 publications\n",
      "Bootstrapped ATT 95% CI: [-24.05, -4.31]\n"
     ]
    }
   ],
   "source": [
    "n_iterations = 50000\n",
    "att_samples = []\n",
    "\n",
    "for _ in range(n_iterations):\n",
    "    # Sample with replacement from matched_df\n",
    "    boot_sample = matched_df.sample(n=len(matched_df), replace=True)\n",
    "\n",
    "    treated = boot_sample[boot_sample['TookLeave'] == 1]['NumPublications']\n",
    "    control = boot_sample[boot_sample['TookLeave'] == 0]['NumPublications']\n",
    "\n",
    "    att_boot = treated.mean() - control.mean()\n",
    "    att_samples.append(att_boot)\n",
    "\n",
    "# Compute 95% CI\n",
    "mean_att = np.mean(att_samples)\n",
    "lower, upper = np.percentile(att_samples, [2.5, 97.5])\n",
    "print(f\"Bootstrapped ATT: {mean_att:.2f} publications\")\n",
    "print(f\"Bootstrapped ATT 95% CI: [{lower:.2f}, {upper:.2f}]\")"
   ]
  },
  {
   "cell_type": "code",
   "execution_count": 515,
   "id": "ccec4be9",
   "metadata": {},
   "outputs": [
    {
     "name": "stdout",
     "output_type": "stream",
     "text": [
      "Bootstrap-based p-value: 0.0064\n"
     ]
    }
   ],
   "source": [
    "p_val = np.mean(np.array(att_samples) >= 0)\n",
    "p_val = min(p_val, 1 - p_val) * 2  # two-sided\n",
    "\n",
    "print(f\"Bootstrap-based p-value: {p_val:.4f}\")\n"
   ]
  },
  {
   "cell_type": "markdown",
   "id": "f3c30bc5",
   "metadata": {},
   "source": [
    "Mean ATT: –14.47\n",
    "→ On average, faculty who took parental leave published ~14.5 fewer papers than matched peers who did not take leave.\n",
    "95% Confidence Interval: [–24.05, –4.31]\n",
    "→ We are 95% confident that the true effect lies between a reduction of 24 and 4 publications.\n",
    "→ Zero is not in this range → this effect is statistically significant.\n",
    "Bootstrap-based p-value: 0.0064\n",
    "→ This is less than 0.01, meaning the result is significant at the 1% level.\n",
    "→ It’s unlikely (less than 1% chance) that such a large difference occurred due to random sampling variation, if the true effect were zero."
   ]
  },
  {
   "cell_type": "markdown",
   "id": "b2821406",
   "metadata": {},
   "source": [
    "Stratified Bootstrap by gender and position\n",
    "\n",
    "This helps assess whether the effect of parental leave is stronger for certain subgroups — e.g., more negative for tenure-track women."
   ]
  },
  {
   "cell_type": "code",
   "execution_count": 516,
   "id": "be8a1874",
   "metadata": {},
   "outputs": [
    {
     "name": "stdout",
     "output_type": "stream",
     "text": [
      "\n",
      "Stratified bootstrap ATT by GenderIdentity\n",
      "  Man: ATT = 4.28, 95% CI = [-17.86, 28.30], p = 0.7348\n",
      "  Woman: ATT = -24.05, 95% CI = [-33.42, -14.75], p = 0.0000\n",
      "\n",
      "Stratified bootstrap ATT by AcademicPosition\n",
      "  I am tenured (please, indicate the year you received tenure, e.g., 2010): ATT = 34.23, 95% CI = [24.54, 44.59], p = 0.0000\n",
      "  I am a postdoc: ATT = 6.41, 95% CI = [-4.47, 23.44], p = 0.4340\n",
      "  I am a non-tenure-track faculty: ATT = -47.69, 95% CI = [-85.73, -2.46], p = 0.0388\n",
      "  I am a tenure-track faculty: ATT = -127.02, 95% CI = [-148.10, -105.43], p = 0.0000\n",
      "  Other (please, specify): ATT = -121.10, 95% CI = [-148.96, -92.26], p = 0.0000\n"
     ]
    }
   ],
   "source": [
    "# Define subgroups to stratify by\n",
    "subgroups = ['GenderIdentity', 'AcademicPosition']\n",
    "n_iterations = 5000  # Use fewer iterations for speed (adjust as needed)\n",
    "\n",
    "for group in subgroups:\n",
    "    print(f\"\\nStratified bootstrap ATT by {group}\")\n",
    "    for level in matched_df[group].dropna().unique():\n",
    "        subgroup_df = matched_df[matched_df[group] == level]\n",
    "\n",
    "        if subgroup_df['TookLeave'].nunique() < 2:\n",
    "            print(f\"  Skipping {level}: not enough variation in treatment.\")\n",
    "            continue\n",
    "\n",
    "        att_samples = []\n",
    "        for _ in range(n_iterations):\n",
    "            boot_sample = subgroup_df.sample(n=len(subgroup_df), replace=True)\n",
    "            treated = boot_sample[boot_sample['TookLeave'] == 1]['NumPublications']\n",
    "            control = boot_sample[boot_sample['TookLeave'] == 0]['NumPublications']\n",
    "            att_boot = treated.mean() - control.mean()\n",
    "            att_samples.append(att_boot)\n",
    "\n",
    "        mean_att = np.mean(att_samples)\n",
    "        lower, upper = np.percentile(att_samples, [2.5, 97.5])\n",
    "        p_val = np.mean(np.array(att_samples) >= 0)\n",
    "        p_val = min(p_val, 1 - p_val) * 2\n",
    "\n",
    "        print(f\"  {level}: ATT = {mean_att:.2f}, 95% CI = [{lower:.2f}, {upper:.2f}], p = {p_val:.4f}\")\n"
   ]
  },
  {
   "cell_type": "markdown",
   "id": "df58f0da",
   "metadata": {},
   "source": [
    "men:    No significant effect. Wide CI includes 0 → we can't reject the null. For men, leave does not appear to reduce productivity on average. Strong, statistically significant negative effect. \n",
    "\n",
    "women:  Women who took leave published ~24 fewer papers on average than matched women who didn’t.  \n",
    "\n",
    "Conclusion: \n",
    "\n",
    "The negative effect is concentrated entirely among women. F\n",
    "or men, the distribution overlaps with zero — there’s no significant penalty."
   ]
  },
  {
   "cell_type": "markdown",
   "id": "510dd34b",
   "metadata": {},
   "source": [
    "tenured:            Surprising: Leave is associated with higher productivity — possibly reverse causality (e.g., highly productive scholars more likely to take leave and bounce back)\n",
    "postdoc:            Not statistically significant.\n",
    "non-tenure-track:   Moderately strong negative effect.\n",
    "tenure track:       Extremely strong and significant productivity loss. Possibly due to the career-critical stage.\n",
    "Other:              Also severely impacted, though group composition may be heterogeneous.\n",
    "\n",
    "Conclusion:     \n",
    "\n",
    "Tenure-track faculty are hit hardest by leave (~127 publications lost).  \n",
    "Tenured faculty see no harm — perhaps even benefits.  \n",
    "Postdocs and others show varied results, some borderline or not significant."
   ]
  },
  {
   "cell_type": "code",
   "execution_count": null,
   "id": "cd33501b",
   "metadata": {},
   "outputs": [],
   "source": [
    "#### Adding Double robustness check via regression"
   ]
  },
  {
   "cell_type": "code",
   "execution_count": 263,
   "id": "7cd830d1",
   "metadata": {},
   "outputs": [],
   "source": [
    "########### "
   ]
  },
  {
   "cell_type": "code",
   "execution_count": 256,
   "id": "857d2a31",
   "metadata": {},
   "outputs": [
    {
     "data": {
      "text/plain": [
       "Text(0.5, 1.0, 'Conditional Distribution of NumPublications by Leave Status')"
      ]
     },
     "execution_count": 256,
     "metadata": {},
     "output_type": "execute_result"
    },
    {
     "data": {
      "image/png": "[encoded data removed]",
      "text/plain": [
       "<Figure size 640x480 with 1 Axes>"
      ]
     },
     "metadata": {},
     "output_type": "display_data"
    }
   ],
   "source": [
    "sns.histplot(data=df_parents, x='NumPublications', hue='TookLeave', kde=True, alpha=0.5)\n",
    "plt.title('Conditional Distribution of NumPublications by Leave Status')"
   ]
  },
  {
   "cell_type": "markdown",
   "id": "bcd92761",
   "metadata": {},
   "source": [
    "plot without extreme outliers: retaining distribution shape for majority (~99%)"
   ]
  },
  {
   "cell_type": "code",
   "execution_count": 257,
   "id": "7f27416b",
   "metadata": {},
   "outputs": [
    {
     "name": "stdout",
     "output_type": "stream",
     "text": [
      "7 out of 665 rows were capped (1.05%).\n"
     ]
    }
   ],
   "source": [
    "cutoff = df_parents['NumPublications'].quantile(0.99)\n",
    "num_capped = (df_parents['NumPublications'] > cutoff).sum()\n",
    "total = len(df_parents)\n",
    "print(f\"{num_capped} out of {total} rows were capped ({(num_capped/total)*100:.2f}%).\")\n"
   ]
  },
  {
   "cell_type": "code",
   "execution_count": 259,
   "id": "07a1d962",
   "metadata": {},
   "outputs": [
    {
     "data": {
      "text/plain": [
       "Text(0.5, 0, 'NumPublications (Capped)')"
      ]
     },
     "execution_count": 259,
     "metadata": {},
     "output_type": "execute_result"
    },
    {
     "data": {
      "image/png": "[encoded data removed]",
      "text/plain": [
       "<Figure size 640x480 with 1 Axes>"
      ]
     },
     "metadata": {},
     "output_type": "display_data"
    }
   ],
   "source": [
    "cutoff = df_parents['NumPublications'].quantile(0.99)\n",
    "df_parents['CappedPublications'] = df_parents['NumPublications'].clip(upper=cutoff)\n",
    "\n",
    "sns.histplot(\n",
    "    data=df_parents,\n",
    "    x='CappedPublications',\n",
    "    hue='TookLeave',\n",
    "    kde=True,\n",
    "    alpha=0.5\n",
    ")\n",
    "plt.title('Publication Distribution (Capped at 99th percentile)')\n",
    "plt.xlabel('NumPublications (Capped)')\n"
   ]
  },
  {
   "cell_type": "code",
   "execution_count": 260,
   "id": "ef0b2146",
   "metadata": {},
   "outputs": [
    {
     "name": "stdout",
     "output_type": "stream",
     "text": [
      "           count   mean    std  min   25%   50%   75%     max\n",
      "TookLeave                                                    \n",
      "0          140.0  77.83  86.58  0.0  24.5  49.5  98.5  403.92\n",
      "1          525.0  51.31  63.50  0.4  17.0  30.0  59.0  403.92\n"
     ]
    }
   ],
   "source": [
    "summary = df_parents.groupby('TookLeave')['CappedPublications'].describe().round(2)\n",
    "print(summary)"
   ]
  },
  {
   "cell_type": "code",
   "execution_count": 261,
   "id": "cea262e6",
   "metadata": {},
   "outputs": [
    {
     "data": {
      "text/html": [
       "<div>\n",
       "<style scoped>\n",
       "    .dataframe tbody tr th:only-of-type {\n",
       "        vertical-align: middle;\n",
       "    }\n",
       "\n",
       "    .dataframe tbody tr th {\n",
       "        vertical-align: top;\n",
       "    }\n",
       "\n",
       "    .dataframe thead th {\n",
       "        text-align: right;\n",
       "    }\n",
       "</style>\n",
       "<table border=\"1\" class=\"dataframe\">\n",
       "  <thead>\n",
       "    <tr style=\"text-align: right;\">\n",
       "      <th></th>\n",
       "      <th></th>\n",
       "      <th></th>\n",
       "      <th>count</th>\n",
       "      <th>mean</th>\n",
       "      <th>std</th>\n",
       "      <th>min</th>\n",
       "      <th>25%</th>\n",
       "      <th>50%</th>\n",
       "      <th>75%</th>\n",
       "      <th>max</th>\n",
       "    </tr>\n",
       "    <tr>\n",
       "      <th>TookLeave</th>\n",
       "      <th>GenderIdentity</th>\n",
       "      <th>AcademicPosition</th>\n",
       "      <th></th>\n",
       "      <th></th>\n",
       "      <th></th>\n",
       "      <th></th>\n",
       "      <th></th>\n",
       "      <th></th>\n",
       "      <th></th>\n",
       "      <th></th>\n",
       "    </tr>\n",
       "  </thead>\n",
       "  <tbody>\n",
       "    <tr>\n",
       "      <th rowspan=\"11\" valign=\"top\">0</th>\n",
       "      <th rowspan=\"5\" valign=\"top\">Man</th>\n",
       "      <th>I am a non-tenure-track faculty</th>\n",
       "      <td>2.0</td>\n",
       "      <td>157.00</td>\n",
       "      <td>202.23</td>\n",
       "      <td>14.0</td>\n",
       "      <td>85.50</td>\n",
       "      <td>157.0</td>\n",
       "      <td>228.50</td>\n",
       "      <td>300.00</td>\n",
       "    </tr>\n",
       "    <tr>\n",
       "      <th>I am a postdoc</th>\n",
       "      <td>10.0</td>\n",
       "      <td>20.50</td>\n",
       "      <td>13.81</td>\n",
       "      <td>6.0</td>\n",
       "      <td>9.75</td>\n",
       "      <td>17.0</td>\n",
       "      <td>24.50</td>\n",
       "      <td>50.00</td>\n",
       "    </tr>\n",
       "    <tr>\n",
       "      <th>I am a tenure-track faculty</th>\n",
       "      <td>6.0</td>\n",
       "      <td>62.67</td>\n",
       "      <td>45.40</td>\n",
       "      <td>8.0</td>\n",
       "      <td>28.00</td>\n",
       "      <td>59.5</td>\n",
       "      <td>98.50</td>\n",
       "      <td>120.00</td>\n",
       "    </tr>\n",
       "    <tr>\n",
       "      <th>I am tenured (please, indicate the year you received tenure, e.g., 2010)</th>\n",
       "      <td>67.0</td>\n",
       "      <td>92.68</td>\n",
       "      <td>95.70</td>\n",
       "      <td>0.0</td>\n",
       "      <td>33.50</td>\n",
       "      <td>52.0</td>\n",
       "      <td>109.50</td>\n",
       "      <td>403.92</td>\n",
       "    </tr>\n",
       "    <tr>\n",
       "      <th>Other (please, specify)</th>\n",
       "      <td>13.0</td>\n",
       "      <td>85.38</td>\n",
       "      <td>108.10</td>\n",
       "      <td>5.0</td>\n",
       "      <td>20.00</td>\n",
       "      <td>45.0</td>\n",
       "      <td>100.00</td>\n",
       "      <td>403.92</td>\n",
       "    </tr>\n",
       "    <tr>\n",
       "      <th>Prefer not to answer</th>\n",
       "      <th>I am tenured (please, indicate the year you received tenure, e.g., 2010)</th>\n",
       "      <td>3.0</td>\n",
       "      <td>51.00</td>\n",
       "      <td>20.00</td>\n",
       "      <td>31.0</td>\n",
       "      <td>41.00</td>\n",
       "      <td>51.0</td>\n",
       "      <td>61.00</td>\n",
       "      <td>71.00</td>\n",
       "    </tr>\n",
       "    <tr>\n",
       "      <th rowspan=\"5\" valign=\"top\">Woman</th>\n",
       "      <th>I am a non-tenure-track faculty</th>\n",
       "      <td>5.0</td>\n",
       "      <td>39.40</td>\n",
       "      <td>22.43</td>\n",
       "      <td>20.0</td>\n",
       "      <td>25.00</td>\n",
       "      <td>25.0</td>\n",
       "      <td>58.00</td>\n",
       "      <td>69.00</td>\n",
       "    </tr>\n",
       "    <tr>\n",
       "      <th>I am a postdoc</th>\n",
       "      <td>5.0</td>\n",
       "      <td>18.00</td>\n",
       "      <td>19.31</td>\n",
       "      <td>1.0</td>\n",
       "      <td>5.00</td>\n",
       "      <td>15.0</td>\n",
       "      <td>19.00</td>\n",
       "      <td>50.00</td>\n",
       "    </tr>\n",
       "    <tr>\n",
       "      <th>I am a tenure-track faculty</th>\n",
       "      <td>3.0</td>\n",
       "      <td>78.67</td>\n",
       "      <td>113.76</td>\n",
       "      <td>11.0</td>\n",
       "      <td>13.00</td>\n",
       "      <td>15.0</td>\n",
       "      <td>112.50</td>\n",
       "      <td>210.00</td>\n",
       "    </tr>\n",
       "    <tr>\n",
       "      <th>I am tenured (please, indicate the year you received tenure, e.g., 2010)</th>\n",
       "      <td>22.0</td>\n",
       "      <td>78.09</td>\n",
       "      <td>66.56</td>\n",
       "      <td>8.0</td>\n",
       "      <td>35.00</td>\n",
       "      <td>56.0</td>\n",
       "      <td>97.50</td>\n",
       "      <td>289.00</td>\n",
       "    </tr>\n",
       "    <tr>\n",
       "      <th>Other (please, specify)</th>\n",
       "      <td>4.0</td>\n",
       "      <td>72.00</td>\n",
       "      <td>102.30</td>\n",
       "      <td>15.0</td>\n",
       "      <td>15.75</td>\n",
       "      <td>24.0</td>\n",
       "      <td>80.25</td>\n",
       "      <td>225.00</td>\n",
       "    </tr>\n",
       "    <tr>\n",
       "      <th rowspan=\"12\" valign=\"top\">1</th>\n",
       "      <th rowspan=\"5\" valign=\"top\">Man</th>\n",
       "      <th>I am a non-tenure-track faculty</th>\n",
       "      <td>18.0</td>\n",
       "      <td>56.16</td>\n",
       "      <td>90.36</td>\n",
       "      <td>5.0</td>\n",
       "      <td>15.25</td>\n",
       "      <td>27.0</td>\n",
       "      <td>55.75</td>\n",
       "      <td>403.92</td>\n",
       "    </tr>\n",
       "    <tr>\n",
       "      <th>I am a postdoc</th>\n",
       "      <td>32.0</td>\n",
       "      <td>41.69</td>\n",
       "      <td>75.23</td>\n",
       "      <td>2.0</td>\n",
       "      <td>11.50</td>\n",
       "      <td>19.5</td>\n",
       "      <td>37.00</td>\n",
       "      <td>403.92</td>\n",
       "    </tr>\n",
       "    <tr>\n",
       "      <th>I am a tenure-track faculty</th>\n",
       "      <td>17.0</td>\n",
       "      <td>35.35</td>\n",
       "      <td>41.74</td>\n",
       "      <td>4.0</td>\n",
       "      <td>11.00</td>\n",
       "      <td>24.0</td>\n",
       "      <td>41.00</td>\n",
       "      <td>177.00</td>\n",
       "    </tr>\n",
       "    <tr>\n",
       "      <th>I am tenured (please, indicate the year you received tenure, e.g., 2010)</th>\n",
       "      <td>86.0</td>\n",
       "      <td>94.99</td>\n",
       "      <td>92.21</td>\n",
       "      <td>6.0</td>\n",
       "      <td>30.50</td>\n",
       "      <td>62.5</td>\n",
       "      <td>120.00</td>\n",
       "      <td>403.92</td>\n",
       "    </tr>\n",
       "    <tr>\n",
       "      <th>Other (please, specify)</th>\n",
       "      <td>18.0</td>\n",
       "      <td>37.56</td>\n",
       "      <td>29.84</td>\n",
       "      <td>6.0</td>\n",
       "      <td>16.25</td>\n",
       "      <td>29.5</td>\n",
       "      <td>44.50</td>\n",
       "      <td>130.00</td>\n",
       "    </tr>\n",
       "    <tr>\n",
       "      <th>Non-binary person</th>\n",
       "      <th>I am tenured (please, indicate the year you received tenure, e.g., 2010)</th>\n",
       "      <td>1.0</td>\n",
       "      <td>50.00</td>\n",
       "      <td>NaN</td>\n",
       "      <td>50.0</td>\n",
       "      <td>50.00</td>\n",
       "      <td>50.0</td>\n",
       "      <td>50.00</td>\n",
       "      <td>50.00</td>\n",
       "    </tr>\n",
       "    <tr>\n",
       "      <th>Prefer not to answer</th>\n",
       "      <th>Other (please, specify)</th>\n",
       "      <td>1.0</td>\n",
       "      <td>1.00</td>\n",
       "      <td>NaN</td>\n",
       "      <td>1.0</td>\n",
       "      <td>1.00</td>\n",
       "      <td>1.0</td>\n",
       "      <td>1.00</td>\n",
       "      <td>1.00</td>\n",
       "    </tr>\n",
       "    <tr>\n",
       "      <th rowspan=\"5\" valign=\"top\">Woman</th>\n",
       "      <th>I am a non-tenure-track faculty</th>\n",
       "      <td>59.0</td>\n",
       "      <td>29.92</td>\n",
       "      <td>34.45</td>\n",
       "      <td>1.0</td>\n",
       "      <td>14.00</td>\n",
       "      <td>22.0</td>\n",
       "      <td>37.00</td>\n",
       "      <td>250.00</td>\n",
       "    </tr>\n",
       "    <tr>\n",
       "      <th>I am a postdoc</th>\n",
       "      <td>57.0</td>\n",
       "      <td>17.78</td>\n",
       "      <td>15.34</td>\n",
       "      <td>0.4</td>\n",
       "      <td>7.00</td>\n",
       "      <td>15.0</td>\n",
       "      <td>22.00</td>\n",
       "      <td>100.00</td>\n",
       "    </tr>\n",
       "    <tr>\n",
       "      <th>I am a tenure-track faculty</th>\n",
       "      <td>37.0</td>\n",
       "      <td>31.14</td>\n",
       "      <td>19.48</td>\n",
       "      <td>5.0</td>\n",
       "      <td>20.00</td>\n",
       "      <td>26.0</td>\n",
       "      <td>41.00</td>\n",
       "      <td>106.00</td>\n",
       "    </tr>\n",
       "    <tr>\n",
       "      <th>I am tenured (please, indicate the year you received tenure, e.g., 2010)</th>\n",
       "      <td>164.0</td>\n",
       "      <td>61.45</td>\n",
       "      <td>60.09</td>\n",
       "      <td>2.0</td>\n",
       "      <td>25.00</td>\n",
       "      <td>44.0</td>\n",
       "      <td>78.25</td>\n",
       "      <td>364.00</td>\n",
       "    </tr>\n",
       "    <tr>\n",
       "      <th>Other (please, specify)</th>\n",
       "      <td>33.0</td>\n",
       "      <td>24.48</td>\n",
       "      <td>16.22</td>\n",
       "      <td>5.0</td>\n",
       "      <td>12.00</td>\n",
       "      <td>22.0</td>\n",
       "      <td>34.00</td>\n",
       "      <td>87.00</td>\n",
       "    </tr>\n",
       "  </tbody>\n",
       "</table>\n",
       "</div>"
      ],
      "text/plain": [
       "                                                                                   count  \\\n",
       "TookLeave GenderIdentity       AcademicPosition                                            \n",
       "0         Man                  I am a non-tenure-track faculty                       2.0   \n",
       "                               I am a postdoc                                       10.0   \n",
       "                               I am a tenure-track faculty                           6.0   \n",
       "                               I am tenured (please, indicate the year you rec...   67.0   \n",
       "                               Other (please, specify)                              13.0   \n",
       "          Prefer not to answer I am tenured (please, indicate the year you rec...    3.0   \n",
       "          Woman                I am a non-tenure-track faculty                       5.0   \n",
       "                               I am a postdoc                                        5.0   \n",
       "                               I am a tenure-track faculty                           3.0   \n",
       "                               I am tenured (please, indicate the year you rec...   22.0   \n",
       "                               Other (please, specify)                               4.0   \n",
       "1         Man                  I am a non-tenure-track faculty                      18.0   \n",
       "                               I am a postdoc                                       32.0   \n",
       "                               I am a tenure-track faculty                          17.0   \n",
       "                               I am tenured (please, indicate the year you rec...   86.0   \n",
       "                               Other (please, specify)                              18.0   \n",
       "          Non-binary person    I am tenured (please, indicate the year you rec...    1.0   \n",
       "          Prefer not to answer Other (please, specify)                               1.0   \n",
       "          Woman                I am a non-tenure-track faculty                      59.0   \n",
       "                               I am a postdoc                                       57.0   \n",
       "                               I am a tenure-track faculty                          37.0   \n",
       "                               I am tenured (please, indicate the year you rec...  164.0   \n",
       "                               Other (please, specify)                              33.0   \n",
       "\n",
       "                                                                                     mean  \\\n",
       "TookLeave GenderIdentity       AcademicPosition                                             \n",
       "0         Man                  I am a non-tenure-track faculty                     157.00   \n",
       "                               I am a postdoc                                       20.50   \n",
       "                               I am a tenure-track faculty                          62.67   \n",
       "                               I am tenured (please, indicate the year you rec...   92.68   \n",
       "                               Other (please, specify)                              85.38   \n",
       "          Prefer not to answer I am tenured (please, indicate the year you rec...   51.00   \n",
       "          Woman                I am a non-tenure-track faculty                      39.40   \n",
       "                               I am a postdoc                                       18.00   \n",
       "                               I am a tenure-track faculty                          78.67   \n",
       "                               I am tenured (please, indicate the year you rec...   78.09   \n",
       "                               Other (please, specify)                              72.00   \n",
       "1         Man                  I am a non-tenure-track faculty                      56.16   \n",
       "                               I am a postdoc                                       41.69   \n",
       "                               I am a tenure-track faculty                          35.35   \n",
       "                               I am tenured (please, indicate the year you rec...   94.99   \n",
       "                               Other (please, specify)                              37.56   \n",
       "          Non-binary person    I am tenured (please, indicate the year you rec...   50.00   \n",
       "          Prefer not to answer Other (please, specify)                               1.00   \n",
       "          Woman                I am a non-tenure-track faculty                      29.92   \n",
       "                               I am a postdoc                                       17.78   \n",
       "                               I am a tenure-track faculty                          31.14   \n",
       "                               I am tenured (please, indicate the year you rec...   61.45   \n",
       "                               Other (please, specify)                              24.48   \n",
       "\n",
       "                                                                                      std  \\\n",
       "TookLeave GenderIdentity       AcademicPosition                                             \n",
       "0         Man                  I am a non-tenure-track faculty                     202.23   \n",
       "                               I am a postdoc                                       13.81   \n",
       "                               I am a tenure-track faculty                          45.40   \n",
       "                               I am tenured (please, indicate the year you rec...   95.70   \n",
       "                               Other (please, specify)                             108.10   \n",
       "          Prefer not to answer I am tenured (please, indicate the year you rec...   20.00   \n",
       "          Woman                I am a non-tenure-track faculty                      22.43   \n",
       "                               I am a postdoc                                       19.31   \n",
       "                               I am a tenure-track faculty                         113.76   \n",
       "                               I am tenured (please, indicate the year you rec...   66.56   \n",
       "                               Other (please, specify)                             102.30   \n",
       "1         Man                  I am a non-tenure-track faculty                      90.36   \n",
       "                               I am a postdoc                                       75.23   \n",
       "                               I am a tenure-track faculty                          41.74   \n",
       "                               I am tenured (please, indicate the year you rec...   92.21   \n",
       "                               Other (please, specify)                              29.84   \n",
       "          Non-binary person    I am tenured (please, indicate the year you rec...     NaN   \n",
       "          Prefer not to answer Other (please, specify)                                NaN   \n",
       "          Woman                I am a non-tenure-track faculty                      34.45   \n",
       "                               I am a postdoc                                       15.34   \n",
       "                               I am a tenure-track faculty                          19.48   \n",
       "                               I am tenured (please, indicate the year you rec...   60.09   \n",
       "                               Other (please, specify)                              16.22   \n",
       "\n",
       "                                                                                    min  \\\n",
       "TookLeave GenderIdentity       AcademicPosition                                           \n",
       "0         Man                  I am a non-tenure-track faculty                     14.0   \n",
       "                               I am a postdoc                                       6.0   \n",
       "                               I am a tenure-track faculty                          8.0   \n",
       "                               I am tenured (please, indicate the year you rec...   0.0   \n",
       "                               Other (please, specify)                              5.0   \n",
       "          Prefer not to answer I am tenured (please, indicate the year you rec...  31.0   \n",
       "          Woman                I am a non-tenure-track faculty                     20.0   \n",
       "                               I am a postdoc                                       1.0   \n",
       "                               I am a tenure-track faculty                         11.0   \n",
       "                               I am tenured (please, indicate the year you rec...   8.0   \n",
       "                               Other (please, specify)                             15.0   \n",
       "1         Man                  I am a non-tenure-track faculty                      5.0   \n",
       "                               I am a postdoc                                       2.0   \n",
       "                               I am a tenure-track faculty                          4.0   \n",
       "                               I am tenured (please, indicate the year you rec...   6.0   \n",
       "                               Other (please, specify)                              6.0   \n",
       "          Non-binary person    I am tenured (please, indicate the year you rec...  50.0   \n",
       "          Prefer not to answer Other (please, specify)                              1.0   \n",
       "          Woman                I am a non-tenure-track faculty                      1.0   \n",
       "                               I am a postdoc                                       0.4   \n",
       "                               I am a tenure-track faculty                          5.0   \n",
       "                               I am tenured (please, indicate the year you rec...   2.0   \n",
       "                               Other (please, specify)                              5.0   \n",
       "\n",
       "                                                                                     25%  \\\n",
       "TookLeave GenderIdentity       AcademicPosition                                            \n",
       "0         Man                  I am a non-tenure-track faculty                     85.50   \n",
       "                               I am a postdoc                                       9.75   \n",
       "                               I am a tenure-track faculty                         28.00   \n",
       "                               I am tenured (please, indicate the year you rec...  33.50   \n",
       "                               Other (please, specify)                             20.00   \n",
       "          Prefer not to answer I am tenured (please, indicate the year you rec...  41.00   \n",
       "          Woman                I am a non-tenure-track faculty                     25.00   \n",
       "                               I am a postdoc                                       5.00   \n",
       "                               I am a tenure-track faculty                         13.00   \n",
       "                               I am tenured (please, indicate the year you rec...  35.00   \n",
       "                               Other (please, specify)                             15.75   \n",
       "1         Man                  I am a non-tenure-track faculty                     15.25   \n",
       "                               I am a postdoc                                      11.50   \n",
       "                               I am a tenure-track faculty                         11.00   \n",
       "                               I am tenured (please, indicate the year you rec...  30.50   \n",
       "                               Other (please, specify)                             16.25   \n",
       "          Non-binary person    I am tenured (please, indicate the year you rec...  50.00   \n",
       "          Prefer not to answer Other (please, specify)                              1.00   \n",
       "          Woman                I am a non-tenure-track faculty                     14.00   \n",
       "                               I am a postdoc                                       7.00   \n",
       "                               I am a tenure-track faculty                         20.00   \n",
       "                               I am tenured (please, indicate the year you rec...  25.00   \n",
       "                               Other (please, specify)                             12.00   \n",
       "\n",
       "                                                                                     50%  \\\n",
       "TookLeave GenderIdentity       AcademicPosition                                            \n",
       "0         Man                  I am a non-tenure-track faculty                     157.0   \n",
       "                               I am a postdoc                                       17.0   \n",
       "                               I am a tenure-track faculty                          59.5   \n",
       "                               I am tenured (please, indicate the year you rec...   52.0   \n",
       "                               Other (please, specify)                              45.0   \n",
       "          Prefer not to answer I am tenured (please, indicate the year you rec...   51.0   \n",
       "          Woman                I am a non-tenure-track faculty                      25.0   \n",
       "                               I am a postdoc                                       15.0   \n",
       "                               I am a tenure-track faculty                          15.0   \n",
       "                               I am tenured (please, indicate the year you rec...   56.0   \n",
       "                               Other (please, specify)                              24.0   \n",
       "1         Man                  I am a non-tenure-track faculty                      27.0   \n",
       "                               I am a postdoc                                       19.5   \n",
       "                               I am a tenure-track faculty                          24.0   \n",
       "                               I am tenured (please, indicate the year you rec...   62.5   \n",
       "                               Other (please, specify)                              29.5   \n",
       "          Non-binary person    I am tenured (please, indicate the year you rec...   50.0   \n",
       "          Prefer not to answer Other (please, specify)                               1.0   \n",
       "          Woman                I am a non-tenure-track faculty                      22.0   \n",
       "                               I am a postdoc                                       15.0   \n",
       "                               I am a tenure-track faculty                          26.0   \n",
       "                               I am tenured (please, indicate the year you rec...   44.0   \n",
       "                               Other (please, specify)                              22.0   \n",
       "\n",
       "                                                                                      75%  \\\n",
       "TookLeave GenderIdentity       AcademicPosition                                             \n",
       "0         Man                  I am a non-tenure-track faculty                     228.50   \n",
       "                               I am a postdoc                                       24.50   \n",
       "                               I am a tenure-track faculty                          98.50   \n",
       "                               I am tenured (please, indicate the year you rec...  109.50   \n",
       "                               Other (please, specify)                             100.00   \n",
       "          Prefer not to answer I am tenured (please, indicate the year you rec...   61.00   \n",
       "          Woman                I am a non-tenure-track faculty                      58.00   \n",
       "                               I am a postdoc                                       19.00   \n",
       "                               I am a tenure-track faculty                         112.50   \n",
       "                               I am tenured (please, indicate the year you rec...   97.50   \n",
       "                               Other (please, specify)                              80.25   \n",
       "1         Man                  I am a non-tenure-track faculty                      55.75   \n",
       "                               I am a postdoc                                       37.00   \n",
       "                               I am a tenure-track faculty                          41.00   \n",
       "                               I am tenured (please, indicate the year you rec...  120.00   \n",
       "                               Other (please, specify)                              44.50   \n",
       "          Non-binary person    I am tenured (please, indicate the year you rec...   50.00   \n",
       "          Prefer not to answer Other (please, specify)                               1.00   \n",
       "          Woman                I am a non-tenure-track faculty                      37.00   \n",
       "                               I am a postdoc                                       22.00   \n",
       "                               I am a tenure-track faculty                          41.00   \n",
       "                               I am tenured (please, indicate the year you rec...   78.25   \n",
       "                               Other (please, specify)                              34.00   \n",
       "\n",
       "                                                                                      max  \n",
       "TookLeave GenderIdentity       AcademicPosition                                            \n",
       "0         Man                  I am a non-tenure-track faculty                     300.00  \n",
       "                               I am a postdoc                                       50.00  \n",
       "                               I am a tenure-track faculty                         120.00  \n",
       "                               I am tenured (please, indicate the year you rec...  403.92  \n",
       "                               Other (please, specify)                             403.92  \n",
       "          Prefer not to answer I am tenured (please, indicate the year you rec...   71.00  \n",
       "          Woman                I am a non-tenure-track faculty                      69.00  \n",
       "                               I am a postdoc                                       50.00  \n",
       "                               I am a tenure-track faculty                         210.00  \n",
       "                               I am tenured (please, indicate the year you rec...  289.00  \n",
       "                               Other (please, specify)                             225.00  \n",
       "1         Man                  I am a non-tenure-track faculty                     403.92  \n",
       "                               I am a postdoc                                      403.92  \n",
       "                               I am a tenure-track faculty                         177.00  \n",
       "                               I am tenured (please, indicate the year you rec...  403.92  \n",
       "                               Other (please, specify)                             130.00  \n",
       "          Non-binary person    I am tenured (please, indicate the year you rec...   50.00  \n",
       "          Prefer not to answer Other (please, specify)                               1.00  \n",
       "          Woman                I am a non-tenure-track faculty                     250.00  \n",
       "                               I am a postdoc                                      100.00  \n",
       "                               I am a tenure-track faculty                         106.00  \n",
       "                               I am tenured (please, indicate the year you rec...  364.00  \n",
       "                               Other (please, specify)                              87.00  "
      ]
     },
     "metadata": {},
     "output_type": "display_data"
    }
   ],
   "source": [
    "summary = df_parents.groupby(['TookLeave', 'GenderIdentity', 'AcademicPosition'])['CappedPublications'].describe().round(2)\n",
    "display(summary)\n"
   ]
  },
  {
   "cell_type": "markdown",
   "id": "28d52491",
   "metadata": {},
   "source": [
    "Show Balance on Covariates"
   ]
  },
  {
   "cell_type": "code",
   "execution_count": 262,
   "id": "7aa4f884",
   "metadata": {},
   "outputs": [
    {
     "data": {
      "text/html": [
       "<div>\n",
       "<style scoped>\n",
       "    .dataframe tbody tr th:only-of-type {\n",
       "        vertical-align: middle;\n",
       "    }\n",
       "\n",
       "    .dataframe tbody tr th {\n",
       "        vertical-align: top;\n",
       "    }\n",
       "\n",
       "    .dataframe thead th {\n",
       "        text-align: right;\n",
       "    }\n",
       "</style>\n",
       "<table border=\"1\" class=\"dataframe\">\n",
       "  <thead>\n",
       "    <tr style=\"text-align: right;\">\n",
       "      <th></th>\n",
       "      <th>SMD</th>\n",
       "    </tr>\n",
       "  </thead>\n",
       "  <tbody>\n",
       "    <tr>\n",
       "      <th>GenderIdentity_Woman</th>\n",
       "      <td>0.841836</td>\n",
       "    </tr>\n",
       "    <tr>\n",
       "      <th>AcademicPosition_I am a non-tenure-track faculty</th>\n",
       "      <td>0.328452</td>\n",
       "    </tr>\n",
       "    <tr>\n",
       "      <th>AcademicPosition_I am a postdoc</th>\n",
       "      <td>0.181060</td>\n",
       "    </tr>\n",
       "    <tr>\n",
       "      <th>AcademicPosition_I am a tenure-track faculty</th>\n",
       "      <td>0.139437</td>\n",
       "    </tr>\n",
       "    <tr>\n",
       "      <th>GenderIdentity_Non-binary person</th>\n",
       "      <td>0.061721</td>\n",
       "    </tr>\n",
       "    <tr>\n",
       "      <th>AcademicPosition_Other (please, specify)</th>\n",
       "      <td>-0.071337</td>\n",
       "    </tr>\n",
       "    <tr>\n",
       "      <th>GenderIdentity_Prefer not to answer</th>\n",
       "      <td>-0.181962</td>\n",
       "    </tr>\n",
       "    <tr>\n",
       "      <th>AcademicPosition_I am tenured (please, indicate the year you received tenure, e.g., 2010)</th>\n",
       "      <td>-0.358798</td>\n",
       "    </tr>\n",
       "    <tr>\n",
       "      <th>GenderIdentity_Man</th>\n",
       "      <td>-0.805750</td>\n",
       "    </tr>\n",
       "  </tbody>\n",
       "</table>\n",
       "</div>"
      ],
      "text/plain": [
       "                                                         SMD\n",
       "GenderIdentity_Woman                                0.841836\n",
       "AcademicPosition_I am a non-tenure-track faculty    0.328452\n",
       "AcademicPosition_I am a postdoc                     0.181060\n",
       "AcademicPosition_I am a tenure-track faculty        0.139437\n",
       "GenderIdentity_Non-binary person                    0.061721\n",
       "AcademicPosition_Other (please, specify)           -0.071337\n",
       "GenderIdentity_Prefer not to answer                -0.181962\n",
       "AcademicPosition_I am tenured (please, indicate... -0.358798\n",
       "GenderIdentity_Man                                 -0.805750"
      ]
     },
     "execution_count": 262,
     "metadata": {},
     "output_type": "execute_result"
    }
   ],
   "source": [
    "features = [col for col in X_dummies.columns if col != 'TookLeave']\n",
    "smd_values = {feature: smd(group_a[feature], group_b[feature]) for feature in features}\n",
    "\n",
    "pd.DataFrame.from_dict(smd_values, orient='index', columns=['SMD']).sort_values(by='SMD', ascending=False)"
   ]
  },
  {
   "cell_type": "markdown",
   "id": "68d67df9",
   "metadata": {},
   "source": [
    "Gender is a dominant driver: Women are much more likely to take leave (SMD > 0.8), while men are less likely (SMD < -0.8).\n",
    "There’s also imbalance by academic position, with tenure-track faculty and postdocs having different leave-taking patterns."
   ]
  },
  {
   "cell_type": "markdown",
   "id": "06990fa0",
   "metadata": {},
   "source": []
  }
 ],
 "metadata": {
  "kernelspec": {
   "display_name": "parenthood",
   "language": "python",
   "name": "python3"
  },
  "language_info": {
   "codemirror_mode": {
    "name": "ipython",
    "version": 3
   },
   "file_extension": ".py",
   "mimetype": "text/x-python",
   "name": "python",
   "nbconvert_exporter": "python",
   "pygments_lexer": "ipython3",
   "version": "3.13.2"
  }
 },
 "nbformat": 4,
 "nbformat_minor": 5
}
