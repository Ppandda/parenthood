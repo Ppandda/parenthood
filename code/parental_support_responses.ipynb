{
 "cells": [
  {
   "cell_type": "code",
   "execution_count": 1,
   "metadata": {},
   "outputs": [],
   "source": [
    "import matplotlib.pyplot as plt\n",
    "import pandas as pd\n",
    "import numpy as np\n",
    "import scipy.stats\n",
    "import csv\n",
    "\n",
    "from scipy import stats\n",
    "from collections import Counter\n",
    "from scripts import regression, plot_utils, cohort_utils\n",
    "from scipy.stats import mannwhitneyu, ks_2samp, chisquare, chi2_contingency, ttest_ind, ranksums\n",
    "from statsmodels.stats.proportion import proportions_ztest\n",
    "from scripts.load_data import load_all_faculty\n",
    "import statsmodels.formula.api as smf\n",
    "\n",
    "from matplotlib import rcParams\n",
    "rcParams['font.family'] = 'sans-serif'\n",
    "rcParams['font.sans-serif'] = ['Helvetica']\n",
    "\n",
    "color_mapping = {'CS': ('#5777D9', '#293866'), \n",
    "                 'Business': ('#CC3A35', '#661D1B'), \n",
    "                 'History': ('#8BCC60', '#466630')}\n",
    "\n",
    "%matplotlib inline"
   ]
  },
  {
   "cell_type": "code",
   "execution_count": 2,
   "metadata": {},
   "outputs": [
    {
     "name": "stdout",
     "output_type": "stream",
     "text": [
      "WARNING *** file size (1595918) not 512 + multiple of sector size (512)\n",
      "WARNING *** OLE2 inconsistency: SSCS size is 0 but SSAT size is non-zero\n",
      "WARNING *** file size (3460610) not 512 + multiple of sector size (512)\n",
      "WARNING *** OLE2 inconsistency: SSCS size is 0 but SSAT size is non-zero\n"
     ]
    }
   ],
   "source": [
    "df = load_all_faculty()"
   ]
  },
  {
   "cell_type": "code",
   "execution_count": 3,
   "metadata": {},
   "outputs": [
    {
     "data": {
      "text/plain": [
       "Business            1321\n",
       "Computer Science    1139\n",
       "History              992\n",
       "Name: likely_department, dtype: int64"
      ]
     },
     "execution_count": 3,
     "metadata": {},
     "output_type": "execute_result"
    }
   ],
   "source": [
    "df.likely_department.value_counts()"
   ]
  },
  {
   "cell_type": "code",
   "execution_count": 4,
   "metadata": {},
   "outputs": [],
   "source": [
    "canadian_universities = ['University of Waterloo', 'University of Alberta', 'University of Western Ontario', \n",
    "                         'York University', 'University of Toronto', 'University of Ottawa', \n",
    "                         'Carleton University', 'Concordia University, Montreal', 'University of Calgary', \n",
    "                         'McGill University', 'University of Montreal', 'University of Saskatchewan', \n",
    "                         'University of British Columbia', 'University of New Brunswick', \n",
    "                         'Memorial University of Newfoundland', 'Queens University', 'Simon Fraser University', \n",
    "                         'University of Regina', 'University of Manitoba', 'Dalhousie University', \n",
    "                         'McMaster University']"
   ]
  },
  {
   "cell_type": "markdown",
   "metadata": {},
   "source": [
    "## Response rate"
   ]
  },
  {
   "cell_type": "code",
   "execution_count": 5,
   "metadata": {},
   "outputs": [
    {
     "data": {
      "text/plain": [
       "(1139, 1321, 992, 3452)"
      ]
     },
     "execution_count": 5,
     "metadata": {},
     "output_type": "execute_result"
    }
   ],
   "source": [
    "df[df.likely_department == \"Computer Science\"].shape[0], \\\n",
    "df[df.likely_department == \"Business\"].shape[0], \\\n",
    "df[df.likely_department == \"History\"].shape[0], \\\n",
    "df.shape[0] # Total number of responses"
   ]
  },
  {
   "cell_type": "code",
   "execution_count": 6,
   "metadata": {},
   "outputs": [
    {
     "data": {
      "text/plain": [
       "(200, 113, 140, 453)"
      ]
     },
     "execution_count": 6,
     "metadata": {},
     "output_type": "execute_result"
    }
   ],
   "source": [
    "# Total number of departments across the three fields\n",
    "len(df[df.likely_department == \"Computer Science\"].university_name_standard.dropna().unique()), \\\n",
    "len(df[df.likely_department == \"Business\"].university_name_standard.dropna().unique()), \\\n",
    "len(df[df.likely_department == \"History\"].university_name_standard.dropna().unique()), \\\n",
    "(200+113+140)"
   ]
  },
  {
   "cell_type": "markdown",
   "metadata": {},
   "source": [
    "## Total publications"
   ]
  },
  {
   "cell_type": "code",
   "execution_count": 7,
   "metadata": {},
   "outputs": [
    {
     "name": "stdout",
     "output_type": "stream",
     "text": [
      "100972\n"
     ]
    }
   ],
   "source": [
    "pub_count = 0\n",
    "for each in df['dblp_pubs'].dropna():\n",
    "    pub_count += len(each)\n",
    "print(pub_count)"
   ]
  },
  {
   "cell_type": "code",
   "execution_count": 8,
   "metadata": {},
   "outputs": [
    {
     "name": "stdout",
     "output_type": "stream",
     "text": [
      "525 1321 0.39742619227857684\n",
      "15352\n"
     ]
    }
   ],
   "source": [
    "print(len(df[df.likely_department == \"Business\"]['dblp_pubs'].dropna()), \n",
    "      len(df[df.likely_department == \"Business\"]['dblp_pubs']),\n",
    "      len(df[df.likely_department == \"Business\"]['dblp_pubs'].dropna()) / \\\n",
    "      len(df[df.likely_department == \"Business\"]['dblp_pubs']))\n",
    "pub_count = 0\n",
    "for each in df[df.likely_department == \"Business\"]['dblp_pubs'].dropna():\n",
    "    pub_count += len(each)\n",
    "print(pub_count)"
   ]
  },
  {
   "cell_type": "code",
   "execution_count": 9,
   "metadata": {},
   "outputs": [
    {
     "name": "stdout",
     "output_type": "stream",
     "text": [
      "294 992 0.2963709677419355\n",
      "6346\n"
     ]
    }
   ],
   "source": [
    "print(len(df[df.likely_department == \"History\"]['dblp_pubs'].dropna()),\n",
    "      len(df[df.likely_department == \"History\"]['dblp_pubs']),\n",
    "      len(df[df.likely_department == \"History\"]['dblp_pubs'].dropna()) / \\\n",
    "      len(df[df.likely_department == \"History\"]['dblp_pubs']))\n",
    "pub_count = 0\n",
    "for each in df[df.likely_department == \"History\"]['dblp_pubs'].dropna():\n",
    "    pub_count += len(each)\n",
    "print(pub_count)"
   ]
  },
  {
   "cell_type": "code",
   "execution_count": 10,
   "metadata": {},
   "outputs": [
    {
     "name": "stdout",
     "output_type": "stream",
     "text": [
      "1061 0.9315188762071993\n",
      "79274\n"
     ]
    }
   ],
   "source": [
    "print(len(df[df.likely_department == \"Computer Science\"]['dblp_pubs'].dropna()), \n",
    "      len(df[df.likely_department == \"Computer Science\"]['dblp_pubs'].dropna()) / \\\n",
    "      len(df[df.likely_department == \"Computer Science\"]['dblp_pubs']))\n",
    "pub_count = 0\n",
    "for each in df[df.likely_department == \"Computer Science\"]['dblp_pubs'].dropna():\n",
    "    pub_count += len(each)\n",
    "print(pub_count)"
   ]
  },
  {
   "cell_type": "markdown",
   "metadata": {},
   "source": [
    "## Mothers over time"
   ]
  },
  {
   "cell_type": "code",
   "execution_count": 11,
   "metadata": {},
   "outputs": [],
   "source": [
    "first_kid_birth = df.loc[:, ['chage1', 'chage2', 'chage3', 'chage3', 'chage4', \n",
    "                             'chage5', 'chage6', 'chage7', 'chage8', 'chage9']].min(axis=1)"
   ]
  },
  {
   "cell_type": "markdown",
   "metadata": {},
   "source": [
    "## Differences between mothers and fathers who had kids"
   ]
  },
  {
   "cell_type": "code",
   "execution_count": 12,
   "metadata": {},
   "outputs": [
    {
     "name": "stdout",
     "output_type": "stream",
     "text": [
      "378 3074\n"
     ]
    },
    {
     "data": {
      "image/png": "[encoded data removed]",
      "text/plain": [
       "<Figure size 432x288 with 2 Axes>"
      ]
     },
     "metadata": {
      "needs_background": "light"
     },
     "output_type": "display_data"
    }
   ],
   "source": [
    "fig, ax = plt.subplots(1, 2)\n",
    "(2017 - df['age_coded']).hist(color='black', grid=False, bins=25, ax=ax[0])\n",
    "(df['age_coded']).hist(color='black', grid=False, bins=25, ax=ax[1])\n",
    "print((2017 - df['age_coded']).isna().sum(), (2017 - df['age_coded']).notna().sum())"
   ]
  },
  {
   "cell_type": "code",
   "execution_count": 13,
   "metadata": {},
   "outputs": [],
   "source": [
    "completed_first_page = (df.children.isin([1.0,2.0]) & (df.gender_ans > 0) & (df.age_coded > 0) & \n",
    "                        (~df.prestige_inv.isna()))\n",
    "df['at_least_40_yo'] = ((2017 - df['age_coded']) >= 40)\n",
    "df['had_children'] = df.children.apply(lambda x: x == 2)"
   ]
  },
  {
   "cell_type": "code",
   "execution_count": 14,
   "metadata": {},
   "outputs": [
    {
     "data": {
      "text/plain": [
       "True     0.787177\n",
       "False    0.212823\n",
       "Name: had_children, dtype: float64"
      ]
     },
     "execution_count": 14,
     "metadata": {},
     "output_type": "execute_result"
    }
   ],
   "source": [
    "df[df.at_least_40_yo & completed_first_page].had_children.value_counts(normalize=True)"
   ]
  },
  {
   "cell_type": "code",
   "execution_count": 15,
   "metadata": {},
   "outputs": [
    {
     "data": {
      "text/plain": [
       "True     0.822266\n",
       "False    0.177734\n",
       "Name: had_children, dtype: float64"
      ]
     },
     "execution_count": 15,
     "metadata": {},
     "output_type": "execute_result"
    }
   ],
   "source": [
    "df[df.at_least_40_yo & (df['gender_ans'] == 2.0) & completed_first_page].had_children.value_counts(\n",
    "    normalize=True)"
   ]
  },
  {
   "cell_type": "code",
   "execution_count": 16,
   "metadata": {},
   "outputs": [
    {
     "data": {
      "text/plain": [
       "True     0.709957\n",
       "False    0.290043\n",
       "Name: had_children, dtype: float64"
      ]
     },
     "execution_count": 16,
     "metadata": {},
     "output_type": "execute_result"
    }
   ],
   "source": [
    "df[df.at_least_40_yo & (df['gender_ans'] == 1.0) & completed_first_page].had_children.value_counts(\n",
    "    normalize=True)"
   ]
  },
  {
   "cell_type": "code",
   "execution_count": 17,
   "metadata": {},
   "outputs": [
    {
     "data": {
      "text/plain": [
       "(5.9979626900882135, 1.9980841164377015e-09)"
      ]
     },
     "execution_count": 17,
     "metadata": {},
     "output_type": "execute_result"
    }
   ],
   "source": [
    "count = np.array([sum(df[df.at_least_40_yo & (df['gender_ans'] == 1.0) & \n",
    "                         completed_first_page].children == 1), \n",
    "                  sum(df[df.at_least_40_yo & (df['gender_ans'] == 2.0) & \n",
    "                         completed_first_page].children == 1)])\n",
    "nobs = np.array([sum(df[df.at_least_40_yo & (df['gender_ans'] == 1.0) & \n",
    "                        completed_first_page].children.isin([1.0, 2.0])), \n",
    "                 sum(df[df.at_least_40_yo & (df['gender_ans'] == 2.0) & \n",
    "                        completed_first_page].children.isin([1.0, 2.0]))])\n",
    "proportions_ztest(count, nobs)"
   ]
  },
  {
   "cell_type": "code",
   "execution_count": 18,
   "metadata": {},
   "outputs": [
    {
     "data": {
      "text/plain": [
       "<AxesSubplot:>"
      ]
     },
     "execution_count": 18,
     "metadata": {},
     "output_type": "execute_result"
    },
    {
     "data": {
      "image/png": "[encoded data removed]",
      "text/plain": [
       "<Figure size 432x288 with 1 Axes>"
      ]
     },
     "metadata": {
      "needs_background": "light"
     },
     "output_type": "display_data"
    }
   ],
   "source": [
    "had_kids = df[completed_first_page & (df['children_no'] > 0)]\n",
    "had_kids['children_no'].hist(density=True, color=plot_utils.ALMOST_BLACK, grid=False)"
   ]
  },
  {
   "cell_type": "code",
   "execution_count": 19,
   "metadata": {},
   "outputs": [
    {
     "name": "stdout",
     "output_type": "stream",
     "text": [
      "2.1617742987606 1.8328025477707006\n",
      "Ttest_indResult(statistic=7.172584956774222, pvalue=1.0067887882800357e-12)\n"
     ]
    }
   ],
   "source": [
    "# Statistical tests between the means & medians\n",
    "print(had_kids[had_kids.gender_ans == 2]['children_no'].mean(),\n",
    "      had_kids[had_kids.gender_ans == 1]['children_no'].mean())\n",
    "print(ttest_ind(had_kids[had_kids.gender_ans == 2]['children_no'], \n",
    "               had_kids[had_kids.gender_ans == 1]['children_no']))\n",
    "# print(ks_2samp(had_kids[had_kids.gender_ans == 2]['children_no'], \n",
    "#               had_kids[had_kids.gender_ans == 1]['children_no']))"
   ]
  },
  {
   "cell_type": "code",
   "execution_count": 20,
   "metadata": {},
   "outputs": [
    {
     "name": "stdout",
     "output_type": "stream",
     "text": [
      "2.0 2.0\n"
     ]
    }
   ],
   "source": [
    "print(had_kids[had_kids.gender_ans == 2]['children_no'].median(),\n",
    "      had_kids[had_kids.gender_ans == 1]['children_no'].median())"
   ]
  },
  {
   "cell_type": "markdown",
   "metadata": {},
   "source": [
    "Do mothers have fewer children because they can't afford more career-wise, or because they have less time to produce children compared to men (up to 40-ish vs much later for men)? Not sure what to do about this except perhaps report a test which controls for age (e.g. some regression analysis)."
   ]
  },
  {
   "cell_type": "code",
   "execution_count": 21,
   "metadata": {},
   "outputs": [
    {
     "data": {
      "text/html": [
       "<table class=\"simpletable\">\n",
       "<caption>OLS Regression Results</caption>\n",
       "<tr>\n",
       "  <th>Dep. Variable:</th>       <td>children_no</td>   <th>  R-squared:         </th> <td>   0.034</td>\n",
       "</tr>\n",
       "<tr>\n",
       "  <th>Model:</th>                   <td>OLS</td>       <th>  Adj. R-squared:    </th> <td>   0.032</td>\n",
       "</tr>\n",
       "<tr>\n",
       "  <th>Method:</th>             <td>Least Squares</td>  <th>  F-statistic:       </th> <td>   24.96</td>\n",
       "</tr>\n",
       "<tr>\n",
       "  <th>Date:</th>             <td>Tue, 26 Jan 2021</td> <th>  Prob (F-statistic):</th> <td>7.18e-16</td>\n",
       "</tr>\n",
       "<tr>\n",
       "  <th>Time:</th>                 <td>11:32:37</td>     <th>  Log-Likelihood:    </th> <td> -2983.8</td>\n",
       "</tr>\n",
       "<tr>\n",
       "  <th>No. Observations:</th>      <td>  2161</td>      <th>  AIC:               </th> <td>   5976.</td>\n",
       "</tr>\n",
       "<tr>\n",
       "  <th>Df Residuals:</th>          <td>  2157</td>      <th>  BIC:               </th> <td>   5998.</td>\n",
       "</tr>\n",
       "<tr>\n",
       "  <th>Df Model:</th>              <td>     3</td>      <th>                     </th>     <td> </td>   \n",
       "</tr>\n",
       "<tr>\n",
       "  <th>Covariance Type:</th>      <td>nonrobust</td>    <th>                     </th>     <td> </td>   \n",
       "</tr>\n",
       "</table>\n",
       "<table class=\"simpletable\">\n",
       "<tr>\n",
       "                 <td></td>                   <th>coef</th>     <th>std err</th>      <th>t</th>      <th>P>|t|</th>  <th>[0.025</th>    <th>0.975]</th>  \n",
       "</tr>\n",
       "<tr>\n",
       "  <th>Intercept</th>                      <td>   16.8353</td> <td>    3.999</td> <td>    4.210</td> <td> 0.000</td> <td>    8.992</td> <td>   24.678</td>\n",
       "</tr>\n",
       "<tr>\n",
       "  <th>C(is_female)[T.True]</th>           <td>    6.9210</td> <td>    8.173</td> <td>    0.847</td> <td> 0.397</td> <td>   -9.106</td> <td>   22.948</td>\n",
       "</tr>\n",
       "<tr>\n",
       "  <th>age_coded</th>                      <td>   -0.0075</td> <td>    0.002</td> <td>   -3.669</td> <td> 0.000</td> <td>   -0.011</td> <td>   -0.003</td>\n",
       "</tr>\n",
       "<tr>\n",
       "  <th>C(is_female)[T.True]:age_coded</th> <td>   -0.0037</td> <td>    0.004</td> <td>   -0.883</td> <td> 0.377</td> <td>   -0.012</td> <td>    0.004</td>\n",
       "</tr>\n",
       "</table>\n",
       "<table class=\"simpletable\">\n",
       "<tr>\n",
       "  <th>Omnibus:</th>       <td>981.538</td> <th>  Durbin-Watson:     </th> <td>   1.973</td>\n",
       "</tr>\n",
       "<tr>\n",
       "  <th>Prob(Omnibus):</th> <td> 0.000</td>  <th>  Jarque-Bera (JB):  </th> <td>7268.715</td>\n",
       "</tr>\n",
       "<tr>\n",
       "  <th>Skew:</th>          <td> 1.991</td>  <th>  Prob(JB):          </th> <td>    0.00</td>\n",
       "</tr>\n",
       "<tr>\n",
       "  <th>Kurtosis:</th>      <td>11.054</td>  <th>  Cond. No.          </th> <td>8.42e+05</td>\n",
       "</tr>\n",
       "</table><br/><br/>Notes:<br/>[1] Standard Errors assume that the covariance matrix of the errors is correctly specified.<br/>[2] The condition number is large, 8.42e+05. This might indicate that there are<br/>strong multicollinearity or other numerical problems."
      ],
      "text/plain": [
       "<class 'statsmodels.iolib.summary.Summary'>\n",
       "\"\"\"\n",
       "                            OLS Regression Results                            \n",
       "==============================================================================\n",
       "Dep. Variable:            children_no   R-squared:                       0.034\n",
       "Model:                            OLS   Adj. R-squared:                  0.032\n",
       "Method:                 Least Squares   F-statistic:                     24.96\n",
       "Date:                Tue, 26 Jan 2021   Prob (F-statistic):           7.18e-16\n",
       "Time:                        11:32:37   Log-Likelihood:                -2983.8\n",
       "No. Observations:                2161   AIC:                             5976.\n",
       "Df Residuals:                    2157   BIC:                             5998.\n",
       "Df Model:                           3                                         \n",
       "Covariance Type:            nonrobust                                         \n",
       "==================================================================================================\n",
       "                                     coef    std err          t      P>|t|      [0.025      0.975]\n",
       "--------------------------------------------------------------------------------------------------\n",
       "Intercept                         16.8353      3.999      4.210      0.000       8.992      24.678\n",
       "C(is_female)[T.True]               6.9210      8.173      0.847      0.397      -9.106      22.948\n",
       "age_coded                         -0.0075      0.002     -3.669      0.000      -0.011      -0.003\n",
       "C(is_female)[T.True]:age_coded    -0.0037      0.004     -0.883      0.377      -0.012       0.004\n",
       "==============================================================================\n",
       "Omnibus:                      981.538   Durbin-Watson:                   1.973\n",
       "Prob(Omnibus):                  0.000   Jarque-Bera (JB):             7268.715\n",
       "Skew:                           1.991   Prob(JB):                         0.00\n",
       "Kurtosis:                      11.054   Cond. No.                     8.42e+05\n",
       "==============================================================================\n",
       "\n",
       "Notes:\n",
       "[1] Standard Errors assume that the covariance matrix of the errors is correctly specified.\n",
       "[2] The condition number is large, 8.42e+05. This might indicate that there are\n",
       "strong multicollinearity or other numerical problems.\n",
       "\"\"\""
      ]
     },
     "execution_count": 21,
     "metadata": {},
     "output_type": "execute_result"
    }
   ],
   "source": [
    "had_kids_copy = had_kids.copy(deep=True)\n",
    "had_kids_copy = had_kids_copy[had_kids_copy.gender_ans.isin([1, 2])]\n",
    "had_kids_copy['is_female'] = had_kids_copy['gender_ans'].apply(lambda x: True if x == 1 else False)\n",
    "\n",
    "age_children_mod = smf.ols(formula = 'children_no ~ C(is_female)*age_coded', \n",
    "                           data = had_kids_copy)\n",
    "age_children_res = age_children_mod.fit()\n",
    "age_children_res.summary()"
   ]
  },
  {
   "cell_type": "code",
   "execution_count": 22,
   "metadata": {},
   "outputs": [
    {
     "data": {
      "text/plain": [
       "<matplotlib.collections.PathCollection at 0x144c26610>"
      ]
     },
     "execution_count": 22,
     "metadata": {},
     "output_type": "execute_result"
    },
    {
     "data": {
      "image/png": "[encoded data removed]",
      "text/plain": [
       "<Figure size 432x288 with 1 Axes>"
      ]
     },
     "metadata": {
      "needs_background": "light"
     },
     "output_type": "display_data"
    }
   ],
   "source": [
    "plt.scatter(had_kids[had_kids.gender_ans == 1]['age_coded'], \n",
    "            had_kids[had_kids.gender_ans == 1]['children_no'], alpha=0.5)\n",
    "plt.scatter(had_kids[had_kids.gender_ans == 2]['age_coded'], \n",
    "            had_kids[had_kids.gender_ans == 2]['children_no'], alpha=0.5)"
   ]
  },
  {
   "cell_type": "code",
   "execution_count": 23,
   "metadata": {},
   "outputs": [
    {
     "name": "stdout",
     "output_type": "stream",
     "text": [
      "(62.80812106340945, 4.140900815392734e-11, 7, array([[163.76285317, 326.36220472,  99.1885132 ,  25.01528485,\n",
      "          7.85363594,   2.03612784,   2.32700324,   1.45437703],\n",
      "       [399.23714683, 795.63779528, 241.8114868 ,  60.98471515,\n",
      "         19.14636406,   4.96387216,   5.67299676,   3.54562297]]))\n"
     ]
    }
   ],
   "source": [
    "men_kid_dist = [(df[completed_first_page & (df.gender_ans == 2)]['children_no'] == i).sum() for i in range(1, 9)]\n",
    "women_kid_dist = [(df[completed_first_page & (df.gender_ans == 1)]['children_no'] == i).sum() for i in range(1, 9)]\n",
    "\n",
    "print(chi2_contingency([women_kid_dist, men_kid_dist], correction=False))"
   ]
  },
  {
   "cell_type": "markdown",
   "metadata": {},
   "source": [
    "Essentially, there exists statistically significant differences in the means and distributions of children for men and women."
   ]
  },
  {
   "cell_type": "code",
   "execution_count": 24,
   "metadata": {},
   "outputs": [],
   "source": [
    "df['age_at_parenthood'] = df['chage1'] - df['age_coded']"
   ]
  },
  {
   "cell_type": "code",
   "execution_count": 25,
   "metadata": {},
   "outputs": [
    {
     "name": "stdout",
     "output_type": "stream",
     "text": [
      "32.75967957276369 33.035369774919616\n"
     ]
    }
   ],
   "source": [
    "print(df[completed_first_page & (df['gender_ans'] == 2)].age_at_parenthood.mean(),\n",
    "      df[completed_first_page & (df['gender_ans'] == 1)].age_at_parenthood.mean())"
   ]
  },
  {
   "cell_type": "code",
   "execution_count": 26,
   "metadata": {},
   "outputs": [
    {
     "name": "stdout",
     "output_type": "stream",
     "text": [
      "32.60725552050473 32.80392156862745\n"
     ]
    }
   ],
   "source": [
    "print(df[completed_first_page & (df.likely_department == 'Computer Science') & \n",
    "         (df['gender_ans'] == 2)].age_at_parenthood.mean(),\n",
    "      df[completed_first_page & (df.likely_department == 'Computer Science') & \n",
    "         (df['gender_ans'] == 1)].age_at_parenthood.mean())"
   ]
  },
  {
   "cell_type": "code",
   "execution_count": 27,
   "metadata": {},
   "outputs": [
    {
     "name": "stdout",
     "output_type": "stream",
     "text": [
      "32.149253731343286 31.986547085201792\n"
     ]
    }
   ],
   "source": [
    "print(df[completed_first_page & (df.likely_department == 'Business') & \n",
    "         (df['gender_ans'] == 2)].age_at_parenthood.mean(),\n",
    "      df[completed_first_page & (df.likely_department == 'Business') & \n",
    "         (df['gender_ans'] == 1)].age_at_parenthood.mean())"
   ]
  },
  {
   "cell_type": "code",
   "execution_count": 28,
   "metadata": {},
   "outputs": [
    {
     "name": "stdout",
     "output_type": "stream",
     "text": [
      "34.051829268292686 34.13008130081301\n"
     ]
    }
   ],
   "source": [
    "print(df[completed_first_page & (df.likely_department == 'History') & \n",
    "         (df['gender_ans'] == 2)].age_at_parenthood.mean(),\n",
    "      df[completed_first_page & (df.likely_department == 'History') & \n",
    "         (df['gender_ans'] == 1)].age_at_parenthood.mean())"
   ]
  },
  {
   "cell_type": "code",
   "execution_count": 29,
   "metadata": {},
   "outputs": [
    {
     "data": {
      "text/plain": [
       "Ttest_indResult(statistic=-1.0448263106453783, pvalue=0.2962224823398604)"
      ]
     },
     "execution_count": 29,
     "metadata": {},
     "output_type": "execute_result"
    }
   ],
   "source": [
    "ttest_ind(\n",
    "    df[completed_first_page & (df['gender_ans'] == 2)].age_at_parenthood.dropna(),\n",
    "    df[completed_first_page & (df['gender_ans'] == 1)].age_at_parenthood.dropna()\n",
    ")"
   ]
  },
  {
   "cell_type": "code",
   "execution_count": 30,
   "metadata": {},
   "outputs": [
    {
     "data": {
      "text/html": [
       "<table class=\"simpletable\">\n",
       "<caption>OLS Regression Results</caption>\n",
       "<tr>\n",
       "  <th>Dep. Variable:</th>           <td>age</td>       <th>  R-squared:         </th> <td>   0.003</td> \n",
       "</tr>\n",
       "<tr>\n",
       "  <th>Model:</th>                   <td>OLS</td>       <th>  Adj. R-squared:    </th> <td>   0.003</td> \n",
       "</tr>\n",
       "<tr>\n",
       "  <th>Method:</th>             <td>Least Squares</td>  <th>  F-statistic:       </th> <td>   7.451</td> \n",
       "</tr>\n",
       "<tr>\n",
       "  <th>Date:</th>             <td>Tue, 26 Jan 2021</td> <th>  Prob (F-statistic):</th>  <td>0.00639</td> \n",
       "</tr>\n",
       "<tr>\n",
       "  <th>Time:</th>                 <td>11:32:37</td>     <th>  Log-Likelihood:    </th> <td> -6721.4</td> \n",
       "</tr>\n",
       "<tr>\n",
       "  <th>No. Observations:</th>      <td>  2135</td>      <th>  AIC:               </th> <td>1.345e+04</td>\n",
       "</tr>\n",
       "<tr>\n",
       "  <th>Df Residuals:</th>          <td>  2133</td>      <th>  BIC:               </th> <td>1.346e+04</td>\n",
       "</tr>\n",
       "<tr>\n",
       "  <th>Df Model:</th>              <td>     1</td>      <th>                     </th>     <td> </td>    \n",
       "</tr>\n",
       "<tr>\n",
       "  <th>Covariance Type:</th>      <td>nonrobust</td>    <th>                     </th>     <td> </td>    \n",
       "</tr>\n",
       "</table>\n",
       "<table class=\"simpletable\">\n",
       "<tr>\n",
       "      <td></td>         <th>coef</th>     <th>std err</th>      <th>t</th>      <th>P>|t|</th>  <th>[0.025</th>    <th>0.975]</th>  \n",
       "</tr>\n",
       "<tr>\n",
       "  <th>Intercept</th> <td>   33.3804</td> <td>    0.223</td> <td>  149.365</td> <td> 0.000</td> <td>   32.942</td> <td>   33.819</td>\n",
       "</tr>\n",
       "<tr>\n",
       "  <th>pi</th>        <td>   -0.0074</td> <td>    0.003</td> <td>   -2.730</td> <td> 0.006</td> <td>   -0.013</td> <td>   -0.002</td>\n",
       "</tr>\n",
       "</table>\n",
       "<table class=\"simpletable\">\n",
       "<tr>\n",
       "  <th>Omnibus:</th>       <td>401.454</td> <th>  Durbin-Watson:     </th> <td>   1.984</td>\n",
       "</tr>\n",
       "<tr>\n",
       "  <th>Prob(Omnibus):</th> <td> 0.000</td>  <th>  Jarque-Bera (JB):  </th> <td>1946.446</td>\n",
       "</tr>\n",
       "<tr>\n",
       "  <th>Skew:</th>          <td> 0.810</td>  <th>  Prob(JB):          </th> <td>    0.00</td>\n",
       "</tr>\n",
       "<tr>\n",
       "  <th>Kurtosis:</th>      <td> 7.388</td>  <th>  Cond. No.          </th> <td>    151.</td>\n",
       "</tr>\n",
       "</table><br/><br/>Notes:<br/>[1] Standard Errors assume that the covariance matrix of the errors is correctly specified."
      ],
      "text/plain": [
       "<class 'statsmodels.iolib.summary.Summary'>\n",
       "\"\"\"\n",
       "                            OLS Regression Results                            \n",
       "==============================================================================\n",
       "Dep. Variable:                    age   R-squared:                       0.003\n",
       "Model:                            OLS   Adj. R-squared:                  0.003\n",
       "Method:                 Least Squares   F-statistic:                     7.451\n",
       "Date:                Tue, 26 Jan 2021   Prob (F-statistic):            0.00639\n",
       "Time:                        11:32:37   Log-Likelihood:                -6721.4\n",
       "No. Observations:                2135   AIC:                         1.345e+04\n",
       "Df Residuals:                    2133   BIC:                         1.346e+04\n",
       "Df Model:                           1                                         \n",
       "Covariance Type:            nonrobust                                         \n",
       "==============================================================================\n",
       "                 coef    std err          t      P>|t|      [0.025      0.975]\n",
       "------------------------------------------------------------------------------\n",
       "Intercept     33.3804      0.223    149.365      0.000      32.942      33.819\n",
       "pi            -0.0074      0.003     -2.730      0.006      -0.013      -0.002\n",
       "==============================================================================\n",
       "Omnibus:                      401.454   Durbin-Watson:                   1.984\n",
       "Prob(Omnibus):                  0.000   Jarque-Bera (JB):             1946.446\n",
       "Skew:                           0.810   Prob(JB):                         0.00\n",
       "Kurtosis:                       7.388   Cond. No.                         151.\n",
       "==============================================================================\n",
       "\n",
       "Notes:\n",
       "[1] Standard Errors assume that the covariance matrix of the errors is correctly specified.\n",
       "\"\"\""
      ]
     },
     "execution_count": 30,
     "metadata": {},
     "output_type": "execute_result"
    }
   ],
   "source": [
    "pi_mod = smf.ols(data = pd.DataFrame({'age': (df[completed_first_page]['age_at_parenthood']), \n",
    "                                      'pi':   df[completed_first_page]['prestige_inv']}),\n",
    "                 formula = 'age ~ pi')\n",
    "pi_res = pi_mod.fit()\n",
    "\n",
    "pi_res.summary()"
   ]
  },
  {
   "cell_type": "code",
   "execution_count": 31,
   "metadata": {},
   "outputs": [
    {
     "name": "stdout",
     "output_type": "stream",
     "text": [
      "68.876796875 68.10647058823528 KstestResult(statistic=0.03478506787330317, pvalue=0.42120689634871333)\n"
     ]
    }
   ],
   "source": [
    "parents = df[completed_first_page & df['had_children']]\n",
    "not_parents = df[completed_first_page & ~df['had_children']]\n",
    "\n",
    "print(parents.prestige_inv.mean(), not_parents.prestige_inv.mean(), \n",
    "      ks_2samp(parents.prestige_inv, not_parents.prestige_inv))"
   ]
  },
  {
   "cell_type": "code",
   "execution_count": 32,
   "metadata": {},
   "outputs": [
    {
     "data": {
      "text/plain": [
       "<AxesSubplot:>"
      ]
     },
     "execution_count": 32,
     "metadata": {},
     "output_type": "execute_result"
    },
    {
     "data": {
      "image/png": "[encoded data removed]",
      "text/plain": [
       "<Figure size 432x288 with 1 Axes>"
      ]
     },
     "metadata": {
      "needs_background": "light"
     },
     "output_type": "display_data"
    }
   ],
   "source": [
    "parents.prestige_inv.hist()\n",
    "not_parents.prestige_inv.hist()"
   ]
  },
  {
   "cell_type": "code",
   "execution_count": 33,
   "metadata": {},
   "outputs": [],
   "source": [
    "df['prestige_decile'] = pd.qcut(df.prestige_inv, 10, labels=range(1, 11))"
   ]
  },
  {
   "cell_type": "code",
   "execution_count": 34,
   "metadata": {},
   "outputs": [
    {
     "name": "stdout",
     "output_type": "stream",
     "text": [
      "5.561580882352941 5.501131221719457 KstestResult(statistic=0.030542986425339366, pvalue=0.5879182456530134)\n"
     ]
    }
   ],
   "source": [
    "parents = df[completed_first_page & df['had_children']].prestige_decile.astype(float)\n",
    "not_parents = df[completed_first_page & ~df['had_children']].prestige_decile.astype(float)\n",
    "\n",
    "print(parents.mean(), not_parents.mean(), ks_2samp(parents, not_parents))"
   ]
  },
  {
   "cell_type": "code",
   "execution_count": 35,
   "metadata": {},
   "outputs": [
    {
     "data": {
      "text/plain": [
       "False    0.605239\n",
       "True     0.394761\n",
       "Name: child_before_tt, dtype: float64"
      ]
     },
     "execution_count": 35,
     "metadata": {},
     "output_type": "execute_result"
    }
   ],
   "source": [
    "def child_before_tt(row):\n",
    "    if row.had_children:\n",
    "        return row.chage1 < row.first_asst_job_year\n",
    "    return False\n",
    "\n",
    "df['child_before_tt'] = df.apply(child_before_tt, axis=1)\n",
    "df[completed_first_page & df.had_children]['child_before_tt'].value_counts(normalize=True)"
   ]
  },
  {
   "cell_type": "code",
   "execution_count": 36,
   "metadata": {},
   "outputs": [],
   "source": [
    "mapping = {2: 'M', 1: 'F', 3: 'NB', 4: 'NA', 0: 'NA', -77: 'NA'}\n",
    "df['resp_gender'] = df['gender_ans'].apply(lambda x: mapping[x])\n",
    "columns_to_include = ['resp_gender', 'had_children', 'prestige_decile', 'child_before_tt', 'at_least_40_yo']\n",
    "df[completed_first_page & \n",
    "   df.resp_gender.isin(['M', 'F'])][columns_to_include].to_csv('../data/general_parenthood_demographics.tsv', \n",
    "                                                               index=False, sep='\\t')"
   ]
  },
  {
   "cell_type": "markdown",
   "metadata": {},
   "source": [
    "## How important do people think parental leave is?"
   ]
  },
  {
   "cell_type": "code",
   "execution_count": 37,
   "metadata": {},
   "outputs": [
    {
     "data": {
      "text/plain": [
       "<AxesSubplot:title={'center':'Imp. of Parental Leave'}>"
      ]
     },
     "execution_count": 37,
     "metadata": {},
     "output_type": "execute_result"
    },
    {
     "data": {
      "image/png": "[encoded data removed]",
      "text/plain": [
       "<Figure size 432x288 with 2 Axes>"
      ]
     },
     "metadata": {
      "needs_background": "light"
     },
     "output_type": "display_data"
    }
   ],
   "source": [
    "fig, ax = plt.subplots(1, 2)\n",
    "df.gender_ans.value_counts().plot(kind='barh', ax=ax[0], title='Gender', color='black')\n",
    "df.current_parleave.value_counts().plot(kind='barh', ax=ax[1], title='Imp. of Parental Leave', color='black')"
   ]
  },
  {
   "cell_type": "code",
   "execution_count": 38,
   "metadata": {},
   "outputs": [
    {
     "name": "stdout",
     "output_type": "stream",
     "text": [
      "\n",
      "Importance in choosing current academic position: `current_parleave`\n",
      "Are the two different? pval = (141.8132183005639, 1.6056501180343274e-31, 2, array([[423.65903308, 987.34096692],\n",
      "       [128.2086514 , 298.7913486 ],\n",
      "       [ 38.13231552,  88.86768448]]))\n",
      "gender_ans               1         2    3         4\n",
      "current_parleave                                   \n",
      "1.0               0.540678  0.794182  1.0  0.750000\n",
      "2.0               0.328814  0.169455  NaN  0.166667\n",
      "3.0               0.130508  0.036364  NaN  0.083333\n",
      "women: 0.4593 men: 0.2058\n",
      "\n",
      "Importance in choosing current academic position: `current_rank`\n",
      "Are the two different? pval = (0.7660474480780001, 0.681796724122048, 2, array([[ 90.82988333, 188.17011667],\n",
      "       [423.87278886, 878.12721114],\n",
      "       [350.29732781, 725.70267219]]))\n",
      "gender_ans           1         2         3         4\n",
      "current_rank                                        \n",
      "1.0           0.100578  0.107143  0.333333  0.076923\n",
      "2.0           0.501734  0.484375  0.333333  0.384615\n",
      "3.0           0.397688  0.408482  0.333333  0.538462\n",
      "women: 0.8994 men: 0.8929\n",
      "\n",
      "Importance in choosing current academic position: `current_partner`\n",
      "Are the two different? pval = (39.68113015612546, 2.417419765807975e-09, 2, array([[167.09589041, 402.90410959],\n",
      "       [ 83.84109589, 202.15890411],\n",
      "       [177.0630137 , 426.9369863 ]]))\n",
      "gender_ans              1         2    3         4\n",
      "current_partner                                   \n",
      "1.0              0.303738  0.426357  1.0  0.444444\n",
      "2.0              0.156542  0.212209  NaN  0.444444\n",
      "3.0              0.539720  0.361434  NaN  0.111111\n",
      "women: 0.6963 men: 0.5736\n"
     ]
    }
   ],
   "source": [
    "covars = ['current_parleave', 'current_rank', 'current_partner'] #'current_geo','current_money']\n",
    "title = 'Importance in choosing current academic position: `%s`' \n",
    "\n",
    "for var in covars:\n",
    "    temp = df[['gender_ans',var]].dropna()\n",
    "    temp = temp[(temp[var] < 4) &  (temp[var] > 0)] # -77 is missing. #1 not, 2 somewhat, 3 veryimp, 4 na\n",
    "    temp = temp.groupby(['gender_ans', var]).size().unstack().T\n",
    "\n",
    "    print()\n",
    "    print(title % var)\n",
    "    print('Are the two different? pval =', stats.chi2_contingency(temp.values[:,0:2], correction=False))\n",
    "    normed = temp.div(temp.sum(axis=0), axis=1)\n",
    "    print(normed)\n",
    "    print('women: %.4f' % normed[1][normed[1].index.isin([2, 3])].sum(), \n",
    "          'men: %.4f' % normed[2][normed[2].index.isin([2, 3])].sum(), \n",
    "         )"
   ]
  },
  {
   "cell_type": "code",
   "execution_count": 39,
   "metadata": {},
   "outputs": [
    {
     "name": "stdout",
     "output_type": "stream",
     "text": [
      "\n",
      "Importance in choosing future academic position: `other_parleave`\n",
      "Are the two different? pval = (76.47644944570258, 2.473716951199911e-17, 2, array([[ 619.919939  , 1293.080061  ],\n",
      "       [ 159.11170416,  331.88829584],\n",
      "       [  70.96835684,  148.03164316]]))\n",
      "gender_ans             1         2    3         4\n",
      "other_parleave                                   \n",
      "1.0             0.641176  0.771574  0.5  0.857143\n",
      "2.0             0.212941  0.174845  0.5  0.071429\n",
      "3.0             0.145882  0.053582  NaN  0.071429\n",
      "women: 0.3588 men: 0.2284\n",
      "\n",
      "Importance in choosing future academic position: `other_rank`\n",
      "Are the two different? pval = (0.3478384068909802, 0.8403647934953655, 2, array([[360.39137075, 756.60862925],\n",
      "       [305.86483391, 642.13516609],\n",
      "       [178.74379534, 375.25620466]]))\n",
      "gender_ans         1         2    3         4\n",
      "other_rank                                   \n",
      "1.0         0.430769  0.424464  0.5  0.428571\n",
      "2.0         0.364497  0.360767  0.5  0.500000\n",
      "3.0         0.204734  0.214769  NaN  0.071429\n",
      "women: 0.5692 men: 0.5755\n"
     ]
    }
   ],
   "source": [
    "covars = ['other_parleave', 'other_rank'] #'other_geo', 'other_money', 'other_partner']\n",
    "title = 'Importance in choosing future academic position: `%s`' \n",
    "\n",
    "for var in covars:\n",
    "    temp = df[['gender_ans',var]].dropna()\n",
    "    temp = temp[(temp[var] < 4) &  (temp[var] > 0)]\n",
    "    temp = temp.groupby(['gender_ans', var]).size().unstack().T\n",
    "\n",
    "    print()\n",
    "    print(title % var)\n",
    "    print('Are the two different? pval =', stats.chi2_contingency(temp.values[:,0:2], correction=False))\n",
    "    normed = temp.div(temp.sum(axis=0), axis=1)\n",
    "    print(normed)\n",
    "    print('women: %.4f' % normed[1][normed[1].index.isin([2, 3])].sum(), \n",
    "          'men: %.4f' % normed[2][normed[2].index.isin([2, 3])].sum(), \n",
    "         )"
   ]
  },
  {
   "cell_type": "code",
   "execution_count": 40,
   "metadata": {},
   "outputs": [
    {
     "name": "stdout",
     "output_type": "stream",
     "text": [
      "\n",
      "[[3.190e+02 1.092e+03 2.000e+00 9.000e+00]\n",
      " [1.940e+02 2.330e+02       nan 2.000e+00]\n",
      " [7.700e+01 5.000e+01       nan 1.000e+00]]\n",
      "Importance in choosing current academic position\n",
      "Are the two different? pval = (141.8132183005639, 1.6056501180343274e-31, 2, array([[423.65903308, 987.34096692],\n",
      "       [128.2086514 , 298.7913486 ],\n",
      "       [ 38.13231552,  88.86768448]]))\n",
      "gender_ans               1         2    3         4\n",
      "current_parleave                                   \n",
      "1.0               0.540678  0.794182  1.0  0.750000\n",
      "2.0               0.328814  0.169455  NaN  0.166667\n",
      "3.0               0.130508  0.036364  NaN  0.083333\n",
      "women: 0.4593 men: 0.2058\n",
      "\n",
      "[[5.450e+02 1.368e+03 1.000e+00 1.200e+01]\n",
      " [1.810e+02 3.100e+02 1.000e+00 1.000e+00]\n",
      " [1.240e+02 9.500e+01       nan 1.000e+00]]\n",
      "Importance in choosing another academic position\n",
      "Are the two different? pval = (76.47644944570258, 2.473716951199911e-17, 2, array([[ 619.919939  , 1293.080061  ],\n",
      "       [ 159.11170416,  331.88829584],\n",
      "       [  70.96835684,  148.03164316]]))\n",
      "gender_ans             1         2    3         4\n",
      "other_parleave                                   \n",
      "1.0             0.641176  0.771574  0.5  0.857143\n",
      "2.0             0.212941  0.174845  0.5  0.071429\n",
      "3.0             0.145882  0.053582  NaN  0.071429\n",
      "women: 0.3588 men: 0.2284\n"
     ]
    },
    {
     "data": {
      "image/png": "[encoded data removed]",
      "text/plain": [
       "<Figure size 1080x288 with 2 Axes>"
      ]
     },
     "metadata": {
      "needs_background": "light"
     },
     "output_type": "display_data"
    }
   ],
   "source": [
    "fig,axs = plt.subplots(1,2,figsize=(15,4))\n",
    "\n",
    "covars = ['current_parleave', 'other_parleave']\n",
    "titles = ['Importance in choosing current academic position',\n",
    "         'Importance in choosing another academic position']\n",
    "\n",
    "for var, title, ax in zip(covars, titles, axs):\n",
    "    temp = df[['gender_ans', var]].dropna()\n",
    "    temp = temp[(temp[var] < 4) &  (temp[var] > 0)]\n",
    "    temp = temp.groupby(['gender_ans', var]).size().unstack().T\n",
    "    b = temp.div(temp.sum(axis=0), axis=1).plot.bar(ax=ax)\n",
    "\n",
    "    ax.set_title(title)\n",
    "    ax.set_xticklabels(['Not', 'Somewhat', 'Very'], rotation=0)\n",
    "    ax.set_xlabel(\"\")\n",
    "    ax.legend()\n",
    "    ax.set_ylim(0,1)\n",
    "\n",
    "    print()\n",
    "    print(temp.values)\n",
    "    print(title)\n",
    "    print('Are the two different? pval =', stats.chi2_contingency(temp.values[:,0:2], correction=False))\n",
    "    normed = temp.div(temp.sum(axis=0), axis=1)\n",
    "    print(normed)\n",
    "    print('women: %.4f' % normed[1][normed[1].index.isin([2, 3])].sum(), \n",
    "          'men: %.4f' % normed[2][normed[2].index.isin([2, 3])].sum(), \n",
    "         )\n",
    "\n",
    "plt.show()"
   ]
  },
  {
   "cell_type": "markdown",
   "metadata": {},
   "source": [
    "#### Takeaways:\n",
    "* Women indicate higher importance for parental support than men\n",
    "    * Half of women indicate it was an important factor in choosing their current position (compared to a quarter of men; important = somwhat or very important)\n",
    "* Importance goes down for both genders when considering next position (reasonable: more relevant for younger faculty)\n",
    "* Women and men see institution rank as equally important for choosing their current or another academic position.\n",
    "\n",
    "### How does parental leave compare to other job attributes, like rank?"
   ]
  },
  {
   "cell_type": "code",
   "execution_count": 41,
   "metadata": {},
   "outputs": [
    {
     "name": "stdout",
     "output_type": "stream",
     "text": [
      "[[ 355 1059]\n",
      " [ 309  460]]\n",
      "pval 2.598846041456246e-13\n"
     ]
    },
    {
     "data": {
      "text/html": [
       "<div>\n",
       "<style scoped>\n",
       "    .dataframe tbody tr th:only-of-type {\n",
       "        vertical-align: middle;\n",
       "    }\n",
       "\n",
       "    .dataframe tbody tr th {\n",
       "        vertical-align: top;\n",
       "    }\n",
       "\n",
       "    .dataframe thead th {\n",
       "        text-align: right;\n",
       "    }\n",
       "</style>\n",
       "<table border=\"1\" class=\"dataframe\">\n",
       "  <thead>\n",
       "    <tr style=\"text-align: right;\">\n",
       "      <th>gender_ans</th>\n",
       "      <th>1</th>\n",
       "      <th>2</th>\n",
       "    </tr>\n",
       "    <tr>\n",
       "      <th>parleave-vs-rank</th>\n",
       "      <th></th>\n",
       "      <th></th>\n",
       "    </tr>\n",
       "  </thead>\n",
       "  <tbody>\n",
       "    <tr>\n",
       "      <th>False</th>\n",
       "      <td>0.534639</td>\n",
       "      <td>0.697169</td>\n",
       "    </tr>\n",
       "    <tr>\n",
       "      <th>True</th>\n",
       "      <td>0.465361</td>\n",
       "      <td>0.302831</td>\n",
       "    </tr>\n",
       "  </tbody>\n",
       "</table>\n",
       "</div>"
      ],
      "text/plain": [
       "gender_ans               1         2\n",
       "parleave-vs-rank                    \n",
       "False             0.534639  0.697169\n",
       "True              0.465361  0.302831"
      ]
     },
     "execution_count": 41,
     "metadata": {},
     "output_type": "execute_result"
    }
   ],
   "source": [
    "temp = df[df['gender_ans'].isin([1, 2])][['gender_ans','current_parleave','current_rank']].dropna()\n",
    "temp = temp[(temp['current_parleave'] < 4) & (temp['current_rank'] < 4)]\n",
    "temp['parleave-vs-rank'] = temp.current_parleave >= temp.current_rank\n",
    "\n",
    "\"\"\"Fraction of Men and Women who report parental leave as being at least as important as\n",
    "   the rank of the university.\"\"\"\n",
    "temp = temp.groupby(['gender_ans', 'parleave-vs-rank']).size().unstack().T\n",
    "print(temp.values)\n",
    "print('pval', stats.chi2_contingency(temp.values, correction=False)[1])\n",
    "temp.div(temp.sum(axis=0), axis=1)"
   ]
  },
  {
   "cell_type": "markdown",
   "metadata": {},
   "source": [
    "Takeaways: 46% of women indicate parental support was (at least) __as important as rank__ for choosing their current posotion (compared to 31% of men)"
   ]
  },
  {
   "cell_type": "markdown",
   "metadata": {},
   "source": [
    "## How many men and women are taking leave?"
   ]
  },
  {
   "cell_type": "code",
   "execution_count": 42,
   "metadata": {},
   "outputs": [],
   "source": [
    "parleave_elig = ['parleave_elig_child1','parleave_elig_child2','parleave_elig_child3','parleave_elig_child4']\n",
    "df['count_eligible'] = df[parleave_elig].apply(lambda x: x == 2, axis=1).sum(axis=1)"
   ]
  },
  {
   "cell_type": "code",
   "execution_count": 43,
   "metadata": {},
   "outputs": [],
   "source": [
    "parleave_taken = ['parleave_taken_child1','parleave_taken_child2','parleave_taken_child3',\n",
    "                  'parleave_taken_child4']\n",
    "df['count_took_some_leave'] = df[parleave_taken].apply(lambda x: x >= 2, axis=1).sum(axis=1)"
   ]
  },
  {
   "cell_type": "code",
   "execution_count": 44,
   "metadata": {},
   "outputs": [],
   "source": [
    "# Must be the case that you were eligible for more (or equal) leave than you took\n",
    "assert (df['count_eligible'] >= df['count_took_some_leave']).all()"
   ]
  },
  {
   "cell_type": "code",
   "execution_count": 45,
   "metadata": {},
   "outputs": [],
   "source": [
    "df['frac_took_leave'] = df['count_took_some_leave']/df['count_eligible']"
   ]
  },
  {
   "cell_type": "code",
   "execution_count": 46,
   "metadata": {},
   "outputs": [
    {
     "name": "stdout",
     "output_type": "stream",
     "text": [
      "246 150 396 0.6212121212121212\n"
     ]
    }
   ],
   "source": [
    "# How many men / women took leave at least once (if they were eligible)?\n",
    "men_offered_leave = df[(df.gender_ans == 2) & (df.count_eligible > 0)]\n",
    "print((men_offered_leave.count_took_some_leave > 0).sum(), \n",
    "      (men_offered_leave.count_took_some_leave == 0).sum(),\n",
    "      len(men_offered_leave), \n",
    "      (men_offered_leave.count_took_some_leave > 0).sum()/len(men_offered_leave)\n",
    "     )"
   ]
  },
  {
   "cell_type": "code",
   "execution_count": 47,
   "metadata": {},
   "outputs": [
    {
     "data": {
      "text/plain": [
       "2.0    396\n",
       "Name: children, dtype: int64"
      ]
     },
     "execution_count": 47,
     "metadata": {},
     "output_type": "execute_result"
    }
   ],
   "source": [
    "men_offered_leave.children.value_counts()"
   ]
  },
  {
   "cell_type": "code",
   "execution_count": 48,
   "metadata": {},
   "outputs": [
    {
     "name": "stdout",
     "output_type": "stream",
     "text": [
      "301 27 328 0.9176829268292683\n"
     ]
    }
   ],
   "source": [
    "women_offered_leave = df[(df.gender_ans == 1) & (df.count_eligible > 0)]\n",
    "print((women_offered_leave.count_took_some_leave > 0).sum(), \n",
    "      (women_offered_leave.count_took_some_leave == 0).sum(),\n",
    "      len(women_offered_leave),\n",
    "      (women_offered_leave.count_took_some_leave > 0).sum()/len(women_offered_leave)\n",
    "     )"
   ]
  },
  {
   "cell_type": "code",
   "execution_count": 49,
   "metadata": {},
   "outputs": [
    {
     "data": {
      "text/plain": [
       "2.0    328\n",
       "Name: children, dtype: int64"
      ]
     },
     "execution_count": 49,
     "metadata": {},
     "output_type": "execute_result"
    }
   ],
   "source": [
    "women_offered_leave.children.value_counts()"
   ]
  },
  {
   "cell_type": "code",
   "execution_count": 50,
   "metadata": {},
   "outputs": [
    {
     "data": {
      "text/plain": [
       "(9.23964818556579, 1.2365451892921541e-20)"
      ]
     },
     "execution_count": 50,
     "metadata": {},
     "output_type": "execute_result"
    }
   ],
   "source": [
    "count = np.array([(women_offered_leave.count_took_some_leave > 0).sum(), \n",
    "                  (men_offered_leave.count_took_some_leave > 0).sum()])\n",
    "nobs = np.array([len(women_offered_leave), len(men_offered_leave)])\n",
    "\n",
    "proportions_ztest(count, nobs, alternative='larger')"
   ]
  },
  {
   "cell_type": "code",
   "execution_count": 51,
   "metadata": {},
   "outputs": [
    {
     "name": "stdout",
     "output_type": "stream",
     "text": [
      "29 46 75 0.38666666666666666\n",
      "213 102 315 0.6761904761904762\n"
     ]
    },
    {
     "data": {
      "text/plain": [
       "(4.643697872123712, 1.7111395759808787e-06)"
      ]
     },
     "execution_count": 51,
     "metadata": {},
     "output_type": "execute_result"
    }
   ],
   "source": [
    "# How many men took leave at least once (if they were eligible) before / after 2000?\n",
    "men_offered_leave_pre_2000 = men_offered_leave[men_offered_leave.chage1 < 2000]\n",
    "print((men_offered_leave_pre_2000.count_took_some_leave > 0).sum(), \n",
    "      (men_offered_leave_pre_2000.count_took_some_leave == 0).sum(),\n",
    "      len(men_offered_leave_pre_2000), \n",
    "      (men_offered_leave_pre_2000.count_took_some_leave > 0).sum()/len(men_offered_leave_pre_2000)\n",
    "     )\n",
    "\n",
    "men_offered_leave_post_2000 = men_offered_leave[men_offered_leave.chage1 >= 2000]\n",
    "print((men_offered_leave_post_2000.count_took_some_leave > 0).sum(), \n",
    "      (men_offered_leave_post_2000.count_took_some_leave == 0).sum(),\n",
    "      len(men_offered_leave_post_2000),\n",
    "      (men_offered_leave_post_2000.count_took_some_leave > 0).sum()/len(men_offered_leave_post_2000)\n",
    "     )\n",
    "\n",
    "count = np.array([(men_offered_leave_post_2000.count_took_some_leave > 0).sum(), \n",
    "                  (men_offered_leave_pre_2000.count_took_some_leave > 0).sum()])\n",
    "nobs = np.array([len(men_offered_leave_post_2000), len(men_offered_leave_pre_2000)])\n",
    "\n",
    "proportions_ztest(count, nobs, alternative='larger')"
   ]
  },
  {
   "cell_type": "code",
   "execution_count": 52,
   "metadata": {},
   "outputs": [
    {
     "name": "stdout",
     "output_type": "stream",
     "text": [
      "230 130 360 0.6388888888888888\n",
      "16 20 36 0.4444444444444444\n"
     ]
    },
    {
     "data": {
      "text/plain": [
       "(2.2931499264910378, 0.021839374841819702)"
      ]
     },
     "execution_count": 52,
     "metadata": {},
     "output_type": "execute_result"
    }
   ],
   "source": [
    "# How many men took leave at least once (if they were eligible): Canada vs US\n",
    "men_offered_leave_us = df[(df.gender_ans == 2) & (df.count_eligible > 0) & \n",
    "                          (~df.university_name_standard.isin(canadian_universities))]\n",
    "print((men_offered_leave_us.count_took_some_leave > 0).sum(), \n",
    "      (men_offered_leave_us.count_took_some_leave == 0).sum(),\n",
    "      len(men_offered_leave_us), \n",
    "      (men_offered_leave_us.count_took_some_leave > 0).sum()/len(men_offered_leave_us)\n",
    "     )\n",
    "\n",
    "men_offered_leave_can = df[(df.gender_ans == 2) & (df.count_eligible > 0) & \n",
    "                           (df.university_name_standard.isin(canadian_universities))]\n",
    "print((men_offered_leave_can.count_took_some_leave > 0).sum(), \n",
    "      (men_offered_leave_can.count_took_some_leave == 0).sum(),\n",
    "      len(men_offered_leave_can),\n",
    "      (men_offered_leave_can.count_took_some_leave > 0).sum()/len(men_offered_leave_can)\n",
    "     )\n",
    "\n",
    "count = np.array([(men_offered_leave_us.count_took_some_leave > 0).sum(), \n",
    "                  (men_offered_leave_can.count_took_some_leave > 0).sum()])\n",
    "nobs = np.array([len(men_offered_leave_us), len(men_offered_leave_can)])\n",
    "\n",
    "proportions_ztest(count, nobs, alternative='two-sided')"
   ]
  },
  {
   "cell_type": "code",
   "execution_count": 53,
   "metadata": {},
   "outputs": [
    {
     "name": "stdout",
     "output_type": "stream",
     "text": [
      "286 27 313 0.9137380191693291\n",
      "15 0 15 1.0\n"
     ]
    },
    {
     "data": {
      "text/plain": [
       "(-1.187432733799551, 0.11752848735422983)"
      ]
     },
     "execution_count": 53,
     "metadata": {},
     "output_type": "execute_result"
    }
   ],
   "source": [
    "# How many men took leave at least once (if they were eligible): Canada vs US\n",
    "women_offered_leave_us = df[(df.gender_ans == 1) & (df.count_eligible > 0) & \n",
    "                           (~df.university_name_standard.isin(canadian_universities))]\n",
    "print((women_offered_leave_us.count_took_some_leave > 0).sum(), \n",
    "      (women_offered_leave_us.count_took_some_leave == 0).sum(),\n",
    "      len(women_offered_leave_us), \n",
    "      (women_offered_leave_us.count_took_some_leave > 0).sum()/len(women_offered_leave_us)\n",
    "     )\n",
    "\n",
    "women_offered_leave_can = df[(df.gender_ans == 1) & (df.count_eligible > 0) & \n",
    "                             (df.university_name_standard.isin(canadian_universities))]\n",
    "print((women_offered_leave_can.count_took_some_leave > 0).sum(), \n",
    "      (women_offered_leave_can.count_took_some_leave == 0).sum(),\n",
    "      len(women_offered_leave_can),\n",
    "      (women_offered_leave_can.count_took_some_leave > 0).sum()/len(women_offered_leave_can)\n",
    "     )\n",
    "\n",
    "count = np.array([(women_offered_leave_us.count_took_some_leave > 0).sum(), \n",
    "                  (women_offered_leave_can.count_took_some_leave > 0).sum()])\n",
    "nobs = np.array([len(women_offered_leave_us), len(women_offered_leave_can)])\n",
    "\n",
    "proportions_ztest(count, nobs, alternative='smaller')"
   ]
  },
  {
   "cell_type": "markdown",
   "metadata": {},
   "source": [
    "## How does parenthood relate to satisfaction?"
   ]
  },
  {
   "cell_type": "code",
   "execution_count": 54,
   "metadata": {},
   "outputs": [
    {
     "name": "stdout",
     "output_type": "stream",
     "text": [
      "Women (ALL FIELDS, Non-early career):\n",
      "y: 0.7323651452282157\n",
      "n: 0.7222222222222222\n",
      "pval: 0.7867963708585599\n",
      "ttest: Ttest_indResult(statistic=1.9696408121914215, pvalue=0.04928622788738063)\n",
      "[[353 129]\n",
      " [143  55]]\n",
      "\n",
      "Women (CS, Non-early career):\n",
      "y: 0.8103448275862069\n",
      "n: 0.9\n",
      "pval: 0.24526526344154517\n",
      "ttest: Ttest_indResult(statistic=-0.7425331988159704, pvalue=0.458973882146673)\n",
      "[[94 22]\n",
      " [27  3]]\n",
      "\n",
      "Mothers (INST W/ & W/O PARENTAL LEAVE):\n",
      "y: 0.720754716981132\n",
      "n: 0.7099236641221374\n",
      "pval: 0.7829264449313703\n",
      "ttest: Ttest_indResult(statistic=-1.2022065751917737, pvalue=0.22982546140671115)\n",
      "[[191  74]\n",
      " [186  76]]\n"
     ]
    }
   ],
   "source": [
    "# Overall satisfaction: Women and Men, by whether they have kids [Non-early career]\n",
    "thrs = 4 #1verynot,2somewhatnot,3eh,4somewhatyeh,5verywoo\n",
    "\n",
    "print('Women (ALL FIELDS, Non-early career):')\n",
    "temp = df\n",
    "yes_kids = temp[(temp.children == 2.) & (temp.gender_ans == 1) & (~temp.isyoung)].sat_overall.dropna().values\n",
    "no_kids = temp[(temp.children == 1.) & (temp.gender_ans == 1) & (~temp.isyoung)].sat_overall.dropna().values\n",
    "print('y:', np.sum(yes_kids >= thrs)/len(yes_kids))\n",
    "print('n:', np.sum(no_kids >= thrs)/len(no_kids))\n",
    "table = np.array([[np.sum(yes_kids >= thrs), np.sum(yes_kids < thrs)],\n",
    "                  [np.sum(no_kids >= thrs), np.sum(no_kids < thrs)]])\n",
    "print('pval:', stats.chi2_contingency(table, correction=False)[1])\n",
    "print('ttest:', stats.ttest_ind(yes_kids, no_kids))\n",
    "print(table)\n",
    "\n",
    "print('\\nWomen (CS, Non-early career):')\n",
    "temp = df\n",
    "yes_kids = temp[(temp.children == 2.) & (temp.gender_ans == 1) & (~temp.isyoung) & \\\n",
    "                (temp.likely_department == 'Computer Science')].sat_overall.dropna().values\n",
    "no_kids = temp[(temp.children == 1.) & (temp.gender_ans == 1) & (~temp.isyoung) & \\\n",
    "               (temp.likely_department == 'Computer Science')].sat_overall.dropna().values\n",
    "print('y:', np.sum(yes_kids >= thrs)/len(yes_kids))\n",
    "print('n:', np.sum(no_kids >= thrs)/len(no_kids))\n",
    "table = np.array([[np.sum(yes_kids >= thrs), np.sum(yes_kids < thrs)],\n",
    "                  [np.sum(no_kids >= thrs), np.sum(no_kids < thrs)]])\n",
    "print('pval:', stats.chi2_contingency(table, correction=False)[1])\n",
    "print('ttest:', stats.ttest_ind(yes_kids, no_kids))\n",
    "print(table)\n",
    "\n",
    "print('\\nMothers (INST W/ & W/O PARENTAL LEAVE):')\n",
    "temp = df\n",
    "yes_leave = temp[(temp.children == 2.) & (temp.gender_ans == 1) & \\\n",
    "                 (temp.parleave_objective_length_women_inv >= 10)].sat_overall.dropna().values\n",
    "no_leave = temp[(temp.children == 2.) & (temp.gender_ans == 1) & \\\n",
    "                (temp.parleave_objective_length_women_inv < 10)\n",
    "               ].sat_overall.dropna().values\n",
    "print('y:', np.sum(yes_leave >= thrs)/len(yes_leave))\n",
    "print('n:', np.sum(no_leave >= thrs)/len(no_leave))\n",
    "table = np.array([[np.sum(yes_leave >= thrs), np.sum(yes_leave < thrs)],\n",
    "                  [np.sum(no_leave >= thrs), np.sum(no_leave < thrs)]])\n",
    "print('pval:', stats.chi2_contingency(table, correction=False)[1])\n",
    "print('ttest:', stats.ttest_ind(yes_leave, no_leave))\n",
    "print(table)\n",
    "\n"
   ]
  },
  {
   "cell_type": "code",
   "execution_count": 55,
   "metadata": {},
   "outputs": [
    {
     "data": {
      "text/plain": [
       "(<AxesSubplot:>, 9.300595238095237)"
      ]
     },
     "execution_count": 55,
     "metadata": {},
     "output_type": "execute_result"
    },
    {
     "data": {
      "image/png": "[encoded data removed]",
      "text/plain": [
       "<Figure size 432x288 with 1 Axes>"
      ]
     },
     "metadata": {
      "needs_background": "light"
     },
     "output_type": "display_data"
    }
   ],
   "source": [
    "df['parleave_objective_length_women_inv'].hist(color='black'), df['parleave_objective_length_women_inv'].mean()"
   ]
  },
  {
   "cell_type": "code",
   "execution_count": 56,
   "metadata": {},
   "outputs": [
    {
     "name": "stdout",
     "output_type": "stream",
     "text": [
      "Women:\n",
      "y: 0.6716417910447762\n",
      "n: 0.7266666666666667\n",
      "pval: 0.3120954124832304\n",
      "ttest: Ttest_indResult(statistic=-0.8632471434261657, pvalue=0.3887351794166638)\n",
      "[[ 90  44]\n",
      " [109  41]]\n",
      "\n",
      "Men:\n",
      "y: 0.7799227799227799\n",
      "n: 0.7899159663865546\n",
      "pval: 0.7865699447017274\n",
      "ttest: Ttest_indResult(statistic=-0.2193333814843534, pvalue=0.8264807720425502)\n",
      "[[202  57]\n",
      " [188  50]]\n"
     ]
    }
   ],
   "source": [
    "# Overall satisfaction: Women and Men, by whether they have kids\n",
    "thrs = 4 #1verynot,2somewhatnot,3eh,4somewhatyeh,5verywoo\n",
    "\n",
    "print('Women:')\n",
    "temp = df\n",
    "yes_kids = temp[(temp.children == 2.) & (temp.gender_ans == 1) & (temp.isyoung)].sat_overall.dropna().values\n",
    "no_kids = temp[(temp.children == 1.) & (temp.gender_ans == 1) & (temp.isyoung)].sat_overall.dropna().values\n",
    "print('y:', np.sum(yes_kids >= thrs)/len(yes_kids))\n",
    "print('n:', np.sum(no_kids >= thrs)/len(no_kids))\n",
    "table = np.array([[np.sum(yes_kids >= thrs), np.sum(yes_kids < thrs)],\n",
    "                  [np.sum(no_kids >= thrs), np.sum(no_kids < thrs)]])\n",
    "print('pval:', stats.chi2_contingency(table, correction=False)[1])\n",
    "print('ttest:', stats.ttest_ind(yes_kids, no_kids))\n",
    "print(table)\n",
    "\n",
    "print('\\nMen:')\n",
    "yes_kids = temp[(temp.children == 2.) & (temp.gender_ans == 2) & (temp.isyoung)].sat_overall.dropna().values\n",
    "no_kids = temp[(temp.children == 1.) & (temp.gender_ans == 2) & (temp.isyoung)].sat_overall.dropna().values\n",
    "print('y:', np.sum(yes_kids >= thrs)/len(yes_kids))\n",
    "print('n:', np.sum(no_kids >= thrs)/len(no_kids))\n",
    "table = np.array([[np.sum(yes_kids >= thrs), np.sum(yes_kids < thrs)],\n",
    "                  [np.sum(no_kids >= thrs), np.sum(no_kids < thrs)]])\n",
    "print('pval:', stats.chi2_contingency(table, correction=False)[1])\n",
    "print('ttest:', stats.ttest_ind(yes_kids, no_kids))\n",
    "print(table)"
   ]
  },
  {
   "cell_type": "code",
   "execution_count": 57,
   "metadata": {},
   "outputs": [
    {
     "name": "stdout",
     "output_type": "stream",
     "text": [
      "\n",
      " COMPUTER SCIENCE\n",
      "Women:\n",
      "y: 0.5833333333333334 24\n",
      "n: 0.7 40\n",
      "pval: 0.34143108509724895\n",
      "ttest: Ttest_indResult(statistic=-2.044992889903334, pvalue=0.04510616168303179)\n",
      "[[14 10]\n",
      " [28 12]]\n",
      "\n",
      "Men:\n",
      "y: 0.7837837837837838 111\n",
      "n: 0.816 125\n",
      "pval: 0.5362199948669628\n",
      "ttest: Ttest_indResult(statistic=-0.6323350544208087, pvalue=0.527785321543158)\n",
      "[[ 87  24]\n",
      " [102  23]]\n",
      "\n",
      " BUSINESS\n",
      "Women:\n",
      "y: 0.68 75\n",
      "n: 0.7205882352941176 68\n",
      "pval: 0.5970898096571966\n",
      "ttest: Ttest_indResult(statistic=-1.0548040852866485, pvalue=0.2933190118330859)\n",
      "[[51 24]\n",
      " [49 19]]\n",
      "\n",
      "Men:\n",
      "y: 0.7758620689655172 116\n",
      "n: 0.7866666666666666 75\n",
      "pval: 0.8602447562405283\n",
      "ttest: Ttest_indResult(statistic=-0.04599663064714112, pvalue=0.9633614992722856)\n",
      "[[90 26]\n",
      " [59 16]]\n",
      "\n",
      " HISTORY\n",
      "Women:\n",
      "y: 0.7142857142857143 35\n",
      "n: 0.7619047619047619 42\n",
      "pval: 0.6351464414161203\n",
      "ttest: Ttest_indResult(statistic=0.7413989184462783, pvalue=0.46076683793101214)\n",
      "[[25 10]\n",
      " [32 10]]\n",
      "\n",
      "Men:\n",
      "y: 0.78125 32\n",
      "n: 0.7105263157894737 38\n",
      "pval: 0.5000321724560941\n",
      "ttest: Ttest_indResult(statistic=0.6425134387701821, pvalue=0.5227003326378443)\n",
      "[[25  7]\n",
      " [27 11]]\n"
     ]
    }
   ],
   "source": [
    "# Overall satisfaction: Women and Men, by whether they have kids\n",
    "thrs = 4 #1verynot,2somewhatnot,3eh,4somewhatyeh,5verywoo\n",
    "for field in ['Computer Science', 'Business', 'History']:\n",
    "    print('\\n', field.upper())\n",
    "    print('Women:')\n",
    "    temp = df[df.likely_department == field]\n",
    "    yes_kids = temp[(temp.children == 2.) & (temp.gender_ans == 1) & (temp.isyoung)].sat_overall.dropna().values\n",
    "    no_kids = temp[(temp.children == 1.) & (temp.gender_ans == 1) & (temp.isyoung)].sat_overall.dropna().values\n",
    "    print('y:', np.sum(yes_kids >= thrs)/len(yes_kids), len(yes_kids))\n",
    "    print('n:', np.sum(no_kids >= thrs)/len(no_kids), len(no_kids))\n",
    "    table = np.array([[np.sum(yes_kids >= thrs), np.sum(yes_kids < thrs)],\n",
    "                      [np.sum(no_kids >= thrs), np.sum(no_kids < thrs)]])\n",
    "    print('pval:', stats.chi2_contingency(table, correction=False)[1])\n",
    "    print('ttest:', stats.ttest_ind(yes_kids, no_kids))\n",
    "    print(table)\n",
    "\n",
    "    print('\\nMen:')\n",
    "    yes_kids = temp[(temp.children == 2.) & (temp.gender_ans == 2) & (temp.isyoung)].sat_overall.dropna().values\n",
    "    no_kids = temp[(temp.children == 1.) & (temp.gender_ans == 2) & (temp.isyoung)].sat_overall.dropna().values\n",
    "    print('y:', np.sum(yes_kids >= thrs)/len(yes_kids), len(yes_kids))\n",
    "    print('n:', np.sum(no_kids >= thrs)/len(no_kids), len(no_kids))\n",
    "    table = np.array([[np.sum(yes_kids >= thrs), np.sum(yes_kids < thrs)],\n",
    "                      [np.sum(no_kids >= thrs), np.sum(no_kids < thrs)]])\n",
    "    print('pval:', stats.chi2_contingency(table, correction=False)[1])\n",
    "    print('ttest:', stats.ttest_ind(yes_kids, no_kids))\n",
    "    print(table)"
   ]
  },
  {
   "cell_type": "markdown",
   "metadata": {},
   "source": [
    "## Does parenthood relate to productivity goal setting?"
   ]
  },
  {
   "cell_type": "code",
   "execution_count": 58,
   "metadata": {},
   "outputs": [
    {
     "name": "stdout",
     "output_type": "stream",
     "text": [
      "Women\n",
      "\n",
      " COMPUTER SCIENCE\n",
      "w/ kids (N = 25): 8.180000 \tw/o kids (N = 38): 9.210526\n",
      "Ttest_indResult(statistic=-0.9509867342443643, pvalue=0.3455427215823108)\n",
      "\n",
      " BUSINESS\n",
      "w/ kids (N = 61): 3.508197 \tw/o kids (N = 65): 3.623077\n",
      "Ttest_indResult(statistic=-0.37458631153602406, pvalue=0.708616785393728)\n",
      "\n",
      " HISTORY\n",
      "w/ kids (N = 33): 2.803030 \tw/o kids (N = 39): 3.051282\n",
      "Ttest_indResult(statistic=-0.8249430036962716, pvalue=0.4122101314060499)\n"
     ]
    }
   ],
   "source": [
    "print('Women')\n",
    "for field in ['Computer Science', 'Business', 'History']:\n",
    "    print('\\n', field.upper())\n",
    "    \n",
    "    temp = df[df.likely_department == field]\n",
    "    print('w/ kids (N = %d): %f' %\n",
    "           (len(temp[(temp.gender_ans == 1) & (temp.hasunder10) & temp.isyoung].aim_avg.dropna()),\n",
    "            temp[(temp.gender_ans == 1) & (temp.hasunder10) & temp.isyoung].aim_avg.dropna().mean()),\n",
    "          '\\tw/o kids (N = %d): %f' % \n",
    "           (len(temp[(temp.gender_ans == 1) & ~(temp.hasunder10) & temp.isyoung].aim_avg.dropna()),\n",
    "            temp[(temp.gender_ans == 1) & ~(temp.hasunder10) & temp.isyoung].aim_avg.dropna().mean()))\n",
    "\n",
    "    print(ttest_ind(temp[(temp.gender_ans == 1) & (temp.hasunder10) & temp.isyoung].aim_avg.dropna(),\n",
    "                    temp[(temp.gender_ans == 1) & ~(temp.hasunder10) & temp.isyoung].aim_avg.dropna(), \n",
    "                    equal_var=False))"
   ]
  },
  {
   "cell_type": "code",
   "execution_count": 59,
   "metadata": {},
   "outputs": [
    {
     "name": "stdout",
     "output_type": "stream",
     "text": [
      "Men\n",
      "\n",
      " COMPUTER SCIENCE\n",
      "w/ kids (N = 112): 9.450893 \tw/o kids (N = 124): 8.451613\n",
      "Ttest_indResult(statistic=1.7873539156380835, pvalue=0.07520453460409453)\n",
      "\n",
      " BUSINESS\n",
      "w/ kids (N = 101): 3.905941 \tw/o kids (N = 69): 3.739130\n",
      "Ttest_indResult(statistic=0.45364922392864254, pvalue=0.6506856706290274)\n",
      "\n",
      " HISTORY\n",
      "w/ kids (N = 27): 3.092593 \tw/o kids (N = 33): 3.272727\n",
      "Ttest_indResult(statistic=-0.5548796043187793, pvalue=0.5816112752592251)\n"
     ]
    }
   ],
   "source": [
    "print('Men')\n",
    "for field in ['Computer Science', 'Business', 'History']:\n",
    "    print('\\n', field.upper())\n",
    "    \n",
    "    temp = df[df.likely_department == field]\n",
    "    print('w/ kids (N = %d): %f' %\n",
    "           (len(temp[(temp.gender_ans == 2) & (temp.hasunder10) & temp.isyoung].aim_avg.dropna()),\n",
    "            temp[(temp.gender_ans == 2) & (temp.hasunder10) & temp.isyoung].aim_avg.dropna().mean()),\n",
    "          '\\tw/o kids (N = %d): %f' % \n",
    "           (len(temp[(temp.gender_ans == 2) & ~(temp.hasunder10) & temp.isyoung].aim_avg.dropna()),\n",
    "            temp[(temp.gender_ans == 2) & ~(temp.hasunder10) & temp.isyoung].aim_avg.dropna().mean()))\n",
    "\n",
    "    print(ttest_ind(temp[(temp.gender_ans == 2) & (temp.hasunder10) & temp.isyoung].aim_avg.dropna(),\n",
    "                    temp[(temp.gender_ans == 2) & ~(temp.hasunder10) & temp.isyoung].aim_avg.dropna(), \n",
    "                    equal_var=False))"
   ]
  },
  {
   "cell_type": "code",
   "execution_count": 60,
   "metadata": {
    "scrolled": true
   },
   "outputs": [
    {
     "name": "stdout",
     "output_type": "stream",
     "text": [
      "\n",
      " COMPUTER SCIENCE\n",
      "Expected parenthood disadvantage\n",
      "1.1456736035049289 0.7130339539978094\n",
      "Ttest_1sampResult(statistic=21.308081840850683, pvalue=4.438211815375564e-82)\n",
      "Ttest_1sampResult(statistic=12.714246223208203, pvalue=3.267283197107418e-34) \n",
      "\n",
      "Expected motherhood penalty by respondent gender\n",
      "1.706989247311828 0.9993084370677732\n",
      "Ttest_indResult(statistic=5.380189080167122, pvalue=9.474647502517691e-08) \n",
      "\n",
      "Expected fatherhood penalty by respondent gender\n",
      "0.8279569892473119 0.6957123098201936\n",
      "Ttest_indResult(statistic=0.9556456380736031, pvalue=0.3395059295235192) \n",
      "\n",
      "Expected vs. likely for mothers\n",
      "frac of women who think expected exceeds likely: 0.4632\n",
      "frac of men who think expected exceeds likely: 0.3345\n",
      "pval: 0.00038186283903742326 \n",
      "\n",
      "Expected vs. likely for fathers\n",
      "frac of women who think expected exceeds likely: 0.1732\n",
      "frac of men who think expected exceeds likely: 0.2489\n",
      "pval: 0.0194545004911891 \n",
      "\n",
      "\\begin{tabular}{lrrr}\n",
      "\\toprule\n",
      "{} &  likely &  expected &  aim\\_avg \\\\\n",
      "\\midrule\n",
      "wchild   &    5.72 &      6.53 &     8.18 \\\\\n",
      "wnochild &    7.05 &      7.10 &     9.21 \\\\\n",
      "mchild   &    6.81 &      7.01 &     9.45 \\\\\n",
      "mnochild &    7.78 &      7.54 &     8.45 \\\\\n",
      "\\bottomrule\n",
      "\\end{tabular}\n",
      "\n",
      "\n",
      " BUSINESS\n",
      "Expected parenthood disadvantage\n",
      "0.4331566548881037 0.1884705882352941\n",
      "Ttest_1sampResult(statistic=18.457151819455763, pvalue=3.327480208071735e-64)\n",
      "Ttest_1sampResult(statistic=11.816902720400996, pvalue=6.124677964331273e-30) \n",
      "\n",
      "Expected motherhood penalty by respondent gender\n",
      "0.717032967032967 0.3022847100175747\n",
      "Ttest_indResult(statistic=8.564009045461315, pvalue=5.16180155588066e-17) \n",
      "\n",
      "Expected fatherhood penalty by respondent gender\n",
      "0.26350364963503653 0.1546572934973638\n",
      "Ttest_indResult(statistic=3.189584358793823, pvalue=0.0014775510392048845) \n",
      "\n",
      "Expected vs. likely for mothers\n",
      "frac of women who think expected exceeds likely: 0.5697\n",
      "frac of men who think expected exceeds likely: 0.4040\n",
      "pval: 7.238692468358223e-07 \n",
      "\n",
      "Expected vs. likely for fathers\n",
      "frac of women who think expected exceeds likely: 0.2374\n",
      "frac of men who think expected exceeds likely: 0.3314\n",
      "pval: 0.002507120978432718 \n",
      "\n",
      "\\begin{tabular}{lrrr}\n",
      "\\toprule\n",
      "{} &  likely &  expected &  aim\\_avg \\\\\n",
      "\\midrule\n",
      "wchild   &    1.60 &      2.40 &     3.51 \\\\\n",
      "wnochild &    2.13 &      2.58 &     3.62 \\\\\n",
      "mchild   &    2.15 &      2.53 &     3.91 \\\\\n",
      "mnochild &    2.40 &      2.63 &     3.74 \\\\\n",
      "\\bottomrule\n",
      "\\end{tabular}\n",
      "\n",
      "\n",
      " HISTORY\n",
      "Expected parenthood disadvantage\n",
      "0.6976648351648351 0.41387755102040813\n",
      "Ttest_1sampResult(statistic=23.70166135447284, pvalue=1.8608507251941503e-92)\n",
      "Ttest_1sampResult(statistic=16.041043582535153, pvalue=7.259481911495794e-50) \n",
      "\n",
      "Expected motherhood penalty by respondent gender\n",
      "0.8176470588235294 0.5934895833333333\n",
      "Ttest_indResult(statistic=3.8198830927414114, pvalue=0.00014500113228397361) \n",
      "\n",
      "Expected fatherhood penalty by respondent gender\n",
      "0.41763005780346824 0.4122077922077922\n",
      "Ttest_indResult(statistic=0.10441093275528152, pvalue=0.9168719657350117) \n",
      "\n",
      "Expected vs. likely for mothers\n",
      "frac of women who think expected exceeds likely: 0.5622\n",
      "frac of men who think expected exceeds likely: 0.3950\n",
      "pval: 8.219503169767923e-07 \n",
      "\n",
      "Expected vs. likely for fathers\n",
      "frac of women who think expected exceeds likely: 0.2321\n",
      "frac of men who think expected exceeds likely: 0.2794\n",
      "pval: 0.1236961585745295 \n",
      "\n",
      "\\begin{tabular}{lrrr}\n",
      "\\toprule\n",
      "{} &  likely &  expected &  aim\\_avg \\\\\n",
      "\\midrule\n",
      "wchild   &    1.28 &      2.08 &     2.80 \\\\\n",
      "wnochild &    2.00 &      2.44 &     3.05 \\\\\n",
      "mchild   &    2.00 &      2.30 &     3.09 \\\\\n",
      "mnochild &    2.40 &      2.54 &     3.27 \\\\\n",
      "\\bottomrule\n",
      "\\end{tabular}\n",
      "\n"
     ]
    }
   ],
   "source": [
    "for field in ['Computer Science', 'Business', 'History']:\n",
    "    print('\\n', field.upper())\n",
    "    temp = df[df.likely_department == field]\n",
    "\n",
    "    expectations = pd.DataFrame([], columns = ['likely', 'expected', 'aim_avg'], \n",
    "                                index = ['wchild', 'wnochild', 'mchild', 'mnochild'])\n",
    "\n",
    "    for prefix, aka in [('des', 'likely'), ('inj', 'expected')]: # likely, expected\n",
    "        labels = ['%snorm_wchild', '%snorm_wnochild', '%snorm_mchild', '%snorm_mnochild']\n",
    "        expectations[aka] = [np.round(temp[(temp.isyoung)][label % prefix].mean(), decimals=2) for \\\n",
    "                             label in labels]\n",
    "    \n",
    "    print('Expected parenthood disadvantage')\n",
    "    print((temp['desnorm_wnochild'] - temp['desnorm_wchild']).mean(),\n",
    "          (temp['desnorm_mnochild'] - temp['desnorm_mchild']).mean())\n",
    "    print(stats.ttest_1samp((temp['desnorm_wnochild'] - temp['desnorm_wchild']).dropna(), popmean=0))\n",
    "    print(stats.ttest_1samp((temp['desnorm_mnochild'] - temp['desnorm_mchild']).dropna(), popmean=0), '\\n')\n",
    "    \n",
    "    print('Expected motherhood penalty by respondent gender')\n",
    "    print((temp[temp.gender_ans == 1]['desnorm_wnochild'] - temp[temp.gender_ans == 1]['desnorm_wchild']).mean(),\n",
    "      (temp[temp.gender_ans == 2]['desnorm_wnochild'] - temp[temp.gender_ans == 2]['desnorm_wchild']).mean())\n",
    "    print(stats.ttest_ind(\n",
    "    (temp[temp.gender_ans == 1]['desnorm_wnochild'] - temp[temp.gender_ans == 1]['desnorm_wchild']).dropna(),\n",
    "    (temp[temp.gender_ans == 2]['desnorm_wnochild'] - temp[temp.gender_ans == 2]['desnorm_wchild']).dropna()), '\\n')\n",
    "    \n",
    "    print('Expected fatherhood penalty by respondent gender')\n",
    "    print((temp[temp.gender_ans == 1]['desnorm_mnochild'] - temp[temp.gender_ans == 1]['desnorm_mchild']).mean(),\n",
    "      (temp[temp.gender_ans == 2]['desnorm_mnochild'] - temp[temp.gender_ans == 2]['desnorm_mchild']).mean())\n",
    "    print(stats.ttest_ind(\n",
    "    (temp[temp.gender_ans == 1]['desnorm_mnochild'] - temp[temp.gender_ans == 1]['desnorm_mchild']).dropna(),\n",
    "    (temp[temp.gender_ans == 2]['desnorm_mnochild'] - temp[temp.gender_ans == 2]['desnorm_mchild']).dropna()), '\\n')\n",
    "        \n",
    "    print('Expected vs. likely for mothers')\n",
    "    y = temp[(temp.gender_ans == 1)]\n",
    "    #print(y.injnorm_wchild.dropna().mean(), y.desnorm_wchild.dropna().mean())\n",
    "    y = y.desnorm_wchild < y.injnorm_wchild\n",
    "    y = y.dropna().values\n",
    "\n",
    "    n = temp[(temp.gender_ans == 2)]\n",
    "    #print(n.injnorm_wchild.dropna().mean(), n.desnorm_wchild.dropna().mean())\n",
    "    n = n.desnorm_wchild < n.injnorm_wchild\n",
    "    n = n.dropna().values\n",
    "\n",
    "    cont_tab = np.array([[np.sum(n == 0), np.sum(n == 1)],\n",
    "                         [np.sum(y == 0), np.sum(y == 1)]])\n",
    "\n",
    "    print('frac of women who think expected exceeds likely: %.4f' % y.mean())\n",
    "    print('frac of men who think expected exceeds likely: %.4f' % n.mean())\n",
    "    print('pval:', stats.chi2_contingency(cont_tab)[1], '\\n')\n",
    "    \n",
    "    print('Expected vs. likely for fathers')\n",
    "    y = temp[(temp.gender_ans == 1)]\n",
    "    #print(y.injnorm_wchild.dropna().mean(), y.desnorm_wchild.dropna().mean())\n",
    "    y = y.desnorm_mchild < y.injnorm_mchild\n",
    "    y = y.dropna().values\n",
    "\n",
    "    n = temp[(temp.gender_ans == 2)]\n",
    "    #print(n.injnorm_wchild.dropna().mean(), n.desnorm_wchild.dropna().mean())\n",
    "    n = n.desnorm_mchild < n.injnorm_mchild\n",
    "    n = n.dropna().values\n",
    "\n",
    "    cont_tab = np.array([[np.sum(n == 0), np.sum(n == 1)],\n",
    "                         [np.sum(y == 0), np.sum(y == 1)]])\n",
    "\n",
    "    print('frac of women who think expected exceeds likely: %.4f' % y.mean())\n",
    "    print('frac of men who think expected exceeds likely: %.4f' % n.mean())\n",
    "    print('pval:', stats.chi2_contingency(cont_tab)[1], '\\n')\n",
    "    \n",
    "    goals = [];\n",
    "    for g, has in [(1, True), (1, False), (2, True), (2, False)]:\n",
    "        goals.append(np.round(temp[(temp.gender_ans == g) & (temp.hasunder10 == has) & \\\n",
    "                                   (temp.isyoung)].aim_avg.mean(), decimals=2))\n",
    "\n",
    "#     reality = []\n",
    "#     for g, has in [(1, True), (1, False), (2, True), (2, False)]:\n",
    "#         group = temp[(temp.gender_ans == g) & (temp.hasunder10 == has) & \\\n",
    "#                    (temp.isyoung) & (len(temp.dblp_pubs) > 0)].dblp_pubs.dropna()\n",
    "\n",
    "#         count_pubs = []\n",
    "#         for row in group:\n",
    "#             count_pubs.append((sum([(each[0] == 2018) or (each[0] == 2019) for each in row \\\n",
    "#                                     if (len(each) > 0) & (type(each[0]) is int)])))\n",
    "\n",
    "#         reality.append(np.round(np.mean(count_pubs), decimals=2))\n",
    "\n",
    "    expectations['aim_avg'] = goals\n",
    "#     expectations['reality'] = reality\n",
    "\n",
    "    print(expectations.to_latex())"
   ]
  },
  {
   "cell_type": "code",
   "execution_count": 61,
   "metadata": {},
   "outputs": [],
   "source": [
    "df['discipline'] = df.likely_department\n",
    "expectations_export = df[df.isyoung & df.resp_gender.isin(['M', 'F'])][['discipline', 'desnorm_wchild', \n",
    "    'desnorm_wnochild', 'desnorm_mchild', 'desnorm_mnochild', 'injnorm_wchild', 'injnorm_wnochild', \n",
    "    'injnorm_mchild', 'injnorm_mnochild', 'aim_avg', 'resp_gender', 'hasunder10']]\n",
    "expectations_export.to_csv('../data/research_expectations_young_faculty.tsv', index=False, sep='\\t')\n",
    "# expectations_export.groupby(['discipline'])[['desnorm_wchild', 'desnorm_wnochild', 'desnorm_mchild', \n",
    "#                                              'desnorm_mnochild', 'injnorm_wchild', 'injnorm_wnochild', \n",
    "#                                              'injnorm_mchild', 'injnorm_mnochild']].mean()\n",
    "# expectations_export.groupby(['discipline', 'resp_gender', 'hasunder10']).aim_avg.mean()"
   ]
  },
  {
   "cell_type": "code",
   "execution_count": 62,
   "metadata": {},
   "outputs": [
    {
     "name": "stdout",
     "output_type": "stream",
     "text": [
      "Expected vs. likely for mothers\n",
      "frac of women who think expected exceeds likely: 0.5416\n",
      "frac of men who think expected exceeds likely: 0.3720\n",
      "pval: (77.74778397448759, 1.1707454836330448e-18, 1, array([[1184.8182116,  882.1817884],\n",
      "       [ 565.1817884,  420.8182116]])) \n",
      "\n",
      "Expected vs. likely for fathers\n",
      "frac of women who think expected exceeds likely: 0.2201\n",
      "frac of men who think expected exceeds likely: 0.2840\n",
      "pval: (13.72563206324232, 0.00021154756297205266, 1, array([[1522.66066164,  544.33933836],\n",
      "       [ 726.33933836,  259.66066164]])) \n",
      "\n"
     ]
    }
   ],
   "source": [
    "temp = df\n",
    "       \n",
    "print('Expected vs. likely for mothers')\n",
    "y = temp[(temp.gender_ans == 1)]\n",
    "#print(y.injnorm_wchild.dropna().mean(), y.desnorm_wchild.dropna().mean())\n",
    "y = y.desnorm_wchild < y.injnorm_wchild\n",
    "y = y.dropna().values\n",
    "\n",
    "n = temp[(temp.gender_ans == 2)]\n",
    "#print(n.injnorm_wchild.dropna().mean(), n.desnorm_wchild.dropna().mean())\n",
    "n = n.desnorm_wchild < n.injnorm_wchild\n",
    "n = n.dropna().values\n",
    "\n",
    "cont_tab = np.array([[np.sum(n == 0), np.sum(n == 1)],\n",
    "                         [np.sum(y == 0), np.sum(y == 1)]])\n",
    "\n",
    "print('frac of women who think expected exceeds likely: %.4f' % y.mean())\n",
    "print('frac of men who think expected exceeds likely: %.4f' % n.mean())\n",
    "print('pval:', stats.chi2_contingency(cont_tab), '\\n')\n",
    "    \n",
    "print('Expected vs. likely for fathers')\n",
    "y = temp[(temp.gender_ans == 1)]\n",
    "#print(y.injnorm_wchild.dropna().mean(), y.desnorm_wchild.dropna().mean())\n",
    "y = y.desnorm_mchild < y.injnorm_mchild\n",
    "y = y.dropna().values\n",
    "\n",
    "n = temp[(temp.gender_ans == 2)]\n",
    "#print(n.injnorm_wchild.dropna().mean(), n.desnorm_wchild.dropna().mean())\n",
    "n = n.desnorm_mchild < n.injnorm_mchild\n",
    "n = n.dropna().values\n",
    "\n",
    "cont_tab = np.array([[np.sum(n == 0), np.sum(n == 1)],\n",
    "                         [np.sum(y == 0), np.sum(y == 1)]])\n",
    "\n",
    "print('frac of women who think expected exceeds likely: %.4f' % y.mean())\n",
    "print('frac of men who think expected exceeds likely: %.4f' % n.mean())\n",
    "print('pval:', stats.chi2_contingency(cont_tab), '\\n')"
   ]
  },
  {
   "cell_type": "markdown",
   "metadata": {},
   "source": [
    "### Relationship between expectations and parental leave policies"
   ]
  },
  {
   "cell_type": "code",
   "execution_count": 63,
   "metadata": {},
   "outputs": [
    {
     "name": "stdout",
     "output_type": "stream",
     "text": [
      "\n",
      ">>> COMPUTER SCIENCE\n",
      "w/ leave (N = 155): \n",
      "          likely\n",
      "wchild      5.97\n",
      "wnochild    7.34\n",
      "mchild      7.30\n",
      "mnochild    8.25\n",
      "\n",
      "w/o leave (N = 167): \n",
      "          likely\n",
      "wchild      5.47\n",
      "wnochild    6.73\n",
      "mchild      6.30\n",
      "mnochild    7.25\n",
      "(1.368421052631579, 1.2605633802816902) Ttest_indResult(statistic=0.4711497941021436, pvalue=0.6379556267279307)\n",
      "(0.9473684210526315, 0.9436619718309859) Ttest_indResult(statistic=0.012963011423340545, pvalue=0.98967123510984)\n",
      "\n",
      ">>> BUSINESS\n",
      "w/ leave (N = 137): \n",
      "          likely\n",
      "wchild      1.67\n",
      "wnochild    2.27\n",
      "mchild      2.22\n",
      "mnochild    2.49\n",
      "\n",
      "w/o leave (N = 152): \n",
      "          likely\n",
      "wchild      1.53\n",
      "wnochild    2.00\n",
      "mchild      2.12\n",
      "mnochild    2.36\n",
      "(0.5995762711864406, 0.47674418604651164) Ttest_indResult(statistic=1.3136952501254233, pvalue=0.19018235361527663)\n",
      "(0.2690677966101695, 0.24031007751937986) Ttest_indResult(statistic=0.41944341449696315, pvalue=0.6752607494844998)\n",
      "\n",
      ">>> HISTORY\n",
      "w/ leave (N = 61): \n",
      "          likely\n",
      "wchild      1.26\n",
      "wnochild    1.90\n",
      "mchild      1.89\n",
      "mnochild    2.19\n",
      "\n",
      "w/o leave (N = 65): \n",
      "          likely\n",
      "wchild      1.28\n",
      "wnochild    2.09\n",
      "mchild      2.11\n",
      "mnochild    2.62\n",
      "(0.6519230769230769, 0.8017241379310345) Ttest_indResult(statistic=-1.1259256787413214, pvalue=0.26273746923404073)\n",
      "(0.30925925925925923, 0.5086206896551724) Ttest_indResult(statistic=-1.727543311740579, pvalue=0.08688861514597424)\n"
     ]
    }
   ],
   "source": [
    "# If you’ve got a generous leave policy, faculty will estimate that the productivity differences \n",
    "# between parents and faculty without children will be greater, than estimates at universities \n",
    "# without generous leave? [Dig a little deeper here.]\n",
    "prefix, aka = ('des', 'likely') # likely\n",
    "labels = ['%snorm_wchild', '%snorm_wnochild', '%snorm_mchild', '%snorm_mnochild']\n",
    "\n",
    "for field in ['Computer Science', 'Business', 'History']:\n",
    "    print('\\n>>>', field.upper())\n",
    "    \n",
    "    temp = df[(df.likely_department == field) & (df.parleave_objective_length_women_inv >= 10) & \n",
    "              (df.isyoung)]\n",
    "    expectations_wleave = pd.DataFrame([], columns = ['likely'], \n",
    "                                       index = ['wchild', 'wnochild', 'mchild', 'mnochild'])\n",
    "    expectations_wleave[aka] = [np.round(temp[label % prefix].mean(), decimals=2) for label in labels]\n",
    "    mothers_wleave = (temp['desnorm_wnochild'] - temp['desnorm_wchild']).dropna()\n",
    "    fathers_wleave = (temp['desnorm_mnochild'] - temp['desnorm_mchild']).dropna()\n",
    "    \n",
    "    print('w/ leave (N = %d): ' % len(temp))\n",
    "    print(expectations_wleave)\n",
    " \n",
    "\n",
    "    temp = df[(df.likely_department == field) & (df.parleave_objective_length_women_inv < 10) & (df.isyoung)]\n",
    "    expectations_woleave = pd.DataFrame([], columns = ['likely'], \n",
    "                                        index = ['wchild', 'wnochild', 'mchild', 'mnochild'])\n",
    "\n",
    "    expectations_woleave[aka] = [np.round(temp[label % prefix].mean(), decimals=2) for label in labels]\n",
    "    mothers_woleave = (temp['desnorm_wnochild'] - temp['desnorm_wchild']).dropna()\n",
    "    fathers_woleave = (temp['desnorm_mnochild'] - temp['desnorm_mchild']).dropna()\n",
    "    \n",
    "    print('\\nw/o leave (N = %d): ' % len(temp))\n",
    "    print(expectations_woleave)\n",
    "    \n",
    "    print((mothers_wleave.mean(), mothers_woleave.mean()), \n",
    "          ttest_ind(mothers_wleave, mothers_woleave, equal_var=False))\n",
    "    print((fathers_wleave.mean(), fathers_woleave.mean()), \n",
    "          ttest_ind(fathers_wleave, fathers_woleave, equal_var=False))"
   ]
  },
  {
   "cell_type": "code",
   "execution_count": 64,
   "metadata": {},
   "outputs": [
    {
     "name": "stdout",
     "output_type": "stream",
     "text": [
      "\n",
      ">>> COMPUTER SCIENCE\n",
      "w/ leave (N = 155): \n",
      "          expected\n",
      "wchild        6.82\n",
      "wnochild      7.39\n",
      "mchild        7.36\n",
      "mnochild      7.84\n",
      "\n",
      "w/o leave (N = 167): \n",
      "          expected\n",
      "wchild        6.21\n",
      "wnochild      6.76\n",
      "mchild        6.63\n",
      "mnochild      7.18\n",
      "(6.822222222222222, 6.20979020979021) Ttest_indResult(statistic=1.4869821564567445, pvalue=0.1382252220936917)\n",
      "(7.355555555555555, 6.629370629370629) Ttest_indResult(statistic=1.6282278670655668, pvalue=0.10477104469382925)\n",
      "\n",
      ">>> BUSINESS\n",
      "w/ leave (N = 137): \n",
      "          expected\n",
      "wchild        2.38\n",
      "wnochild      2.64\n",
      "mchild        2.58\n",
      "mnochild      2.76\n",
      "\n",
      "w/o leave (N = 152): \n",
      "          expected\n",
      "wchild        2.43\n",
      "wnochild      2.54\n",
      "mchild        2.49\n",
      "mnochild      2.53\n",
      "(2.375, 2.4263565891472867) Ttest_indResult(statistic=-0.32860025267159987, pvalue=0.7427609694959028)\n",
      "(2.5833333333333335, 2.488372093023256) Ttest_indResult(statistic=0.6098145487994073, pvalue=0.5425454968914694)\n",
      "\n",
      ">>> HISTORY\n",
      "w/ leave (N = 61): \n",
      "          expected\n",
      "wchild        2.10\n",
      "wnochild      2.36\n",
      "mchild        2.19\n",
      "mnochild      2.38\n",
      "\n",
      "w/o leave (N = 65): \n",
      "          expected\n",
      "wchild        2.15\n",
      "wnochild      2.53\n",
      "mchild        2.48\n",
      "mnochild      2.74\n",
      "(2.1018518518518516, 2.146551724137931) Ttest_indResult(statistic=-0.2514333578795341, pvalue=0.8019875937604733)\n",
      "(2.1944444444444446, 2.4827586206896552) Ttest_indResult(statistic=-1.3492207680604253, pvalue=0.1800435109547649)\n"
     ]
    }
   ],
   "source": [
    "# If you’ve got a generous leave policy, expectations of productivity for parents with young children \n",
    "# will be lower than comparable estimates at universities without generous leave. [Nope]\n",
    "prefix, aka = ('inj', 'expected') # expected\n",
    "labels = ['%snorm_wchild', '%snorm_wnochild', '%snorm_mchild', '%snorm_mnochild']\n",
    "\n",
    "for field in ['Computer Science', 'Business', 'History']:\n",
    "    print('\\n>>>', field.upper())\n",
    "    \n",
    "    temp = df[(df.likely_department == field) & (df.parleave_objective_length_women_inv >= 10) & \n",
    "              (df.isyoung)]\n",
    "    expectations_wleave = pd.DataFrame([], columns = ['expected'], \n",
    "                                       index = ['wchild', 'wnochild', 'mchild', 'mnochild'])\n",
    "    expectations_wleave[aka] = [np.round(temp[label % prefix].mean(), decimals=2) for label in labels]\n",
    "    mothers_wleave = temp['injnorm_wchild'].dropna(); fathers_wleave = temp['injnorm_mchild'].dropna();\n",
    "    \n",
    "    print('w/ leave (N = %d): ' % len(temp))\n",
    "    print(expectations_wleave)\n",
    " \n",
    "\n",
    "    temp = df[(df.likely_department == field) & (df.parleave_objective_length_women_inv < 10) & (df.isyoung)]\n",
    "    expectations_woleave = pd.DataFrame([], columns = ['expected'], \n",
    "                                        index = ['wchild', 'wnochild', 'mchild', 'mnochild'])\n",
    "\n",
    "    expectations_woleave[aka] = [np.round(temp[label % prefix].mean(), decimals=2) for label in labels]\n",
    "    mothers_woleave = temp['injnorm_wchild'].dropna(); fathers_woleave = temp['injnorm_mchild'].dropna();\n",
    "    \n",
    "    print('\\nw/o leave (N = %d): ' % len(temp))\n",
    "    print(expectations_woleave)\n",
    "    \n",
    "    print((mothers_wleave.mean(), mothers_woleave.mean()), \n",
    "          ttest_ind(mothers_wleave, mothers_woleave, equal_var=False))\n",
    "    print((fathers_wleave.mean(), fathers_woleave.mean()), \n",
    "          ttest_ind(fathers_wleave, fathers_woleave, equal_var=False))"
   ]
  },
  {
   "cell_type": "code",
   "execution_count": 65,
   "metadata": {},
   "outputs": [
    {
     "name": "stdout",
     "output_type": "stream",
     "text": [
      "\n",
      ">>> COMPUTER SCIENCE\n",
      "WOMEN with children, early-career\n",
      "w/ leave (N = 14): 8.071429 \tw/o leave (N = 11): 8.318182\n",
      "Ttest_indResult(statistic=-0.2054526036257725, pvalue=0.8391952969311233)\n",
      "\n",
      "MEN with children, early-career\n",
      "w/ leave (N = 56): 9.526786 \tw/o leave (N = 50): 9.520000\n",
      "Ttest_indResult(statistic=0.008087018885064287, pvalue=0.9935631964627281)\n",
      "\n",
      ">>> BUSINESS\n",
      "WOMEN with children, early-career\n",
      "w/ leave (N = 22): 3.636364 \tw/o leave (N = 29): 3.551724\n",
      "Ttest_indResult(statistic=0.15677243112108427, pvalue=0.8761344703397493)\n",
      "\n",
      "MEN with children, early-career\n",
      "w/ leave (N = 35): 3.971429 \tw/o leave (N = 51): 3.470588\n",
      "Ttest_indResult(statistic=1.3035480972239368, pvalue=0.19611020877575025)\n",
      "\n",
      ">>> HISTORY\n",
      "WOMEN with children, early-career\n",
      "w/ leave (N = 14): 2.500000 \tw/o leave (N = 16): 2.843750\n",
      "Ttest_indResult(statistic=-0.8377418540790148, pvalue=0.4104367992017123)\n",
      "\n",
      "MEN with children, early-career\n",
      "w/ leave (N = 9): 3.000000 \tw/o leave (N = 14): 3.035714\n",
      "Ttest_indResult(statistic=-0.053267207703380476, pvalue=0.9581743205304796)\n"
     ]
    }
   ],
   "source": [
    "# If you’ve got a generous leave policy, parents will set lower goals for their productivity \n",
    "# in the next two years? [Nope]\n",
    "for field in ['Computer Science', 'Business', 'History']:\n",
    "    print('\\n>>>', field.upper())\n",
    "    print('WOMEN with children, early-career')\n",
    "    \n",
    "    temp = df[df.likely_department == field]\n",
    "    print('w/ leave (N = %d): %f' %\n",
    "           (len(temp[(temp.gender_ans == 1) & (temp.parleave_objective_length_women_inv >= 10) & \n",
    "                     temp.isyoung & temp.hasunder10].aim_avg.dropna()),\n",
    "            temp[(temp.gender_ans == 1) & (temp.parleave_objective_length_women_inv >= 10) & \n",
    "                 temp.isyoung & temp.hasunder10].aim_avg.dropna().mean()),\n",
    "          '\\tw/o leave (N = %d): %f' % \n",
    "           (len(temp[(temp.gender_ans == 1) & (temp.parleave_objective_length_women_inv < 10) \n",
    "                     & temp.isyoung & temp.hasunder10].aim_avg.dropna()),\n",
    "            temp[(temp.gender_ans == 1) & (temp.parleave_objective_length_women_inv < 10) \n",
    "                 & temp.isyoung & temp.hasunder10].aim_avg.dropna().mean()))\n",
    "\n",
    "    print(ttest_ind(temp[(temp.gender_ans == 1) & (temp.parleave_objective_length_women_inv >= 10) & \n",
    "                         temp.isyoung & temp.hasunder10].aim_avg.dropna(),\n",
    "                    temp[(temp.gender_ans == 1) & (temp.parleave_objective_length_women_inv < 10) & \n",
    "                         temp.isyoung & temp.hasunder10].aim_avg.dropna(), \n",
    "                    equal_var=False))\n",
    "    \n",
    "    print('\\nMEN with children, early-career')\n",
    "    print('w/ leave (N = %d): %f' %\n",
    "           (len(temp[(temp.gender_ans == 2) & (temp.parleave_objective_length_women_inv >= 10) & \n",
    "                     temp.isyoung & temp.hasunder10].aim_avg.dropna()),\n",
    "            temp[(temp.gender_ans == 2) & (temp.parleave_objective_length_women_inv >= 10) & \n",
    "                 temp.isyoung & temp.hasunder10].aim_avg.dropna().mean()),\n",
    "          '\\tw/o leave (N = %d): %f' % \n",
    "           (len(temp[(temp.gender_ans == 2) & (temp.parleave_objective_length_women_inv < 10) \n",
    "                     & temp.isyoung & temp.hasunder10].aim_avg.dropna()),\n",
    "            temp[(temp.gender_ans == 2) & (temp.parleave_objective_length_women_inv < 10) \n",
    "                 & temp.isyoung & temp.hasunder10].aim_avg.dropna().mean()))\n",
    "\n",
    "    print(ttest_ind(temp[(temp.gender_ans == 2) & (temp.parleave_objective_length_women_inv >= 10) & \n",
    "                         temp.isyoung & temp.hasunder10].aim_avg.dropna(),\n",
    "                    temp[(temp.gender_ans == 2) & (temp.parleave_objective_length_women_inv < 10) & \n",
    "                         temp.isyoung & temp.hasunder10].aim_avg.dropna(), \n",
    "                    equal_var=False))"
   ]
  },
  {
   "cell_type": "markdown",
   "metadata": {},
   "source": [
    "Local parental leave policies don’t impact expectations of others productivity or their own productivity, or we haven’t measured it. Norms are shaped by larger cultural forces, rather than local policy environments."
   ]
  },
  {
   "cell_type": "markdown",
   "metadata": {},
   "source": [
    "## What is the desired parental leave policy?"
   ]
  },
  {
   "cell_type": "code",
   "execution_count": 66,
   "metadata": {},
   "outputs": [
    {
     "data": {
      "text/plain": [
       "0.17206982543640897"
      ]
     },
     "execution_count": 66,
     "metadata": {},
     "output_type": "execute_result"
    }
   ],
   "source": [
    "df[df.isyoung & df.gender_ans.isin([1, 2]) & \\\n",
    "   (df.children == 2)].parleave_elig_child1.value_counts(normalize=True)[0.0]"
   ]
  },
  {
   "cell_type": "code",
   "execution_count": 67,
   "metadata": {},
   "outputs": [
    {
     "data": {
      "text/plain": [
       "0.1760204081632653"
      ]
     },
     "execution_count": 67,
     "metadata": {},
     "output_type": "execute_result"
    }
   ],
   "source": [
    "df[df.isyoung & df.gender_ans.isin([1, 2]) & \\\n",
    "   (df.children == 2) & (df.parleave_elig_child1 >= 0)].parleave_elig_child1.value_counts(normalize=True)[0.0]"
   ]
  },
  {
   "cell_type": "code",
   "execution_count": 68,
   "metadata": {},
   "outputs": [
    {
     "name": "stdout",
     "output_type": "stream",
     "text": [
      "0.27972027972027974 0.06153846153846154 0.1358695652173913\n"
     ]
    }
   ],
   "source": [
    "#0: Don't know, 1 No, 2 Yes\n",
    "print(df[df.isyoung & df.gender_ans.isin([1, 2]) & (df.children == 2) & (df.parleave_elig_child1 >= 0) &\n",
    "     (df.likely_department == 'Computer Science') ].parleave_elig_child1.value_counts(normalize=True)[0.0],\n",
    "      df[df.isyoung & df.gender_ans.isin([1, 2]) & (df.children == 2) & (df.parleave_elig_child1 >= 0) &\n",
    "     (df.likely_department == 'History')].parleave_elig_child1.value_counts(normalize=True)[0.0],\n",
    "      df[df.isyoung & df.gender_ans.isin([1, 2]) & (df.children == 2) & (df.parleave_elig_child1 >= 0) &\n",
    "     (df.likely_department == 'Business')].parleave_elig_child1.value_counts(normalize=True)[0.0])"
   ]
  },
  {
   "cell_type": "code",
   "execution_count": 69,
   "metadata": {},
   "outputs": [
    {
     "data": {
      "text/plain": [
       "1.0    0.480551\n",
       "2.0    0.248881\n",
       "4.0    0.151119\n",
       "5.0    0.093976\n",
       "6.0    0.025473\n",
       "Name: parleave_neutral, dtype: float64"
      ]
     },
     "execution_count": 69,
     "metadata": {},
     "output_type": "execute_result"
    }
   ],
   "source": [
    "# Do you think mean and women faculty should be offered equal parental leave?\n",
    "#1: Men and women should be offered the same parental leave\n",
    "df[df.parleave_neutral > 0].parleave_neutral.value_counts(normalize=True) "
   ]
  },
  {
   "cell_type": "code",
   "execution_count": 70,
   "metadata": {},
   "outputs": [
    {
     "name": "stdout",
     "output_type": "stream",
     "text": [
      "0.39135021097046413 0.522703818369453\n"
     ]
    }
   ],
   "source": [
    "print(df[(df.parleave_neutral > 0) & (df['gender_ans'] == 1)].parleave_neutral.value_counts(normalize=True)[1.0], \n",
    "      df[(df.parleave_neutral > 0) & (df['gender_ans'] == 2)].parleave_neutral.value_counts(normalize=True)[1.0])"
   ]
  },
  {
   "cell_type": "code",
   "execution_count": 71,
   "metadata": {},
   "outputs": [
    {
     "data": {
      "text/plain": [
       "4.0    0.683505\n",
       "3.0    0.181443\n",
       "5.0    0.052921\n",
       "2.0    0.045017\n",
       "1.0    0.023024\n",
       "6.0    0.014089\n",
       "Name: parleave_ideal, dtype: float64"
      ]
     },
     "execution_count": 71,
     "metadata": {},
     "output_type": "execute_result"
    }
   ],
   "source": [
    "# What do you think would be the ideal type of paid parental leave at your institution, if any?\n",
    "#4: Full relief of duties, for %sweeks\n",
    "df[df.parleave_ideal > 0].parleave_ideal.value_counts(normalize=True) "
   ]
  },
  {
   "cell_type": "code",
   "execution_count": 72,
   "metadata": {},
   "outputs": [
    {
     "name": "stdout",
     "output_type": "stream",
     "text": [
      "0.7523709167544784 0.6512107161257084\n"
     ]
    }
   ],
   "source": [
    "print(df[(df.parleave_ideal > 0) & (df['gender_ans'] == 1)].parleave_ideal.value_counts(normalize=True)[4.0], \n",
    "      df[(df.parleave_ideal > 0) & (df['gender_ans'] == 2)].parleave_ideal.value_counts(normalize=True)[4.0])"
   ]
  },
  {
   "cell_type": "markdown",
   "metadata": {},
   "source": [
    "## Overall parental leave figure"
   ]
  },
  {
   "cell_type": "code",
   "execution_count": 73,
   "metadata": {},
   "outputs": [
    {
     "name": "stdout",
     "output_type": "stream",
     "text": [
      "(205, 18)\n",
      "205 200 199 0.9707317073170731\n",
      "(199, 18) (1139, 442)\n",
      "[0.7692307692307692, 0.7094017094017093]\n",
      "(0.6147679156197993, 0.26935400038178814)\n",
      "[0.5167785234899329, 0.253125]\n",
      "(50.35842140186056, 1.1609345438391589e-11, 2, array([[103.86565272, 446.13434728],\n",
      "       [ 34.747782  , 149.252218  ],\n",
      "       [ 10.38656527,  44.61343473]]))\n",
      "(4.873343821939827, 5.486250807362819e-07)\n"
     ]
    },
    {
     "data": {
      "image/png": "[encoded data removed]",
      "text/plain": [
       "<Figure size 432x432 with 4 Axes>"
      ]
     },
     "metadata": {
      "needs_background": "light"
     },
     "output_type": "display_data"
    }
   ],
   "source": [
    "subset = df[df.likely_department == 'Computer Science']\n",
    "plot_utils.ACCENT_COLOR, plot_utils.ALMOST_BLACK = color_mapping['CS']\n",
    "\n",
    "policies = pd.read_csv('../data/survey_data/parental_leave/parental_leave_policies_apr_2018.tsv', sep='\\t')\n",
    "policies = policies.sort_values(inplace=False, by=\"rank\", ascending=True)\n",
    "\n",
    "# Restrict to the institutions we surveyed\n",
    "policies = policies[policies.university_name != 'University of Massachusetts Dartmouth'] \n",
    "print(policies.shape)\n",
    "\n",
    "universities = subset.university_name_standard.unique()\n",
    "print(len(policies.university_name), len(universities), \n",
    "      len(set(universities).intersection(set(policies.university_name))), \n",
    "      len(set(universities).intersection(set(policies.university_name)))/205)\n",
    "\n",
    "policies = policies[policies.university_name.isin(universities)]\n",
    "print(policies.shape, subset.shape)\n",
    "\n",
    "fig, ax = plt.subplots(nrows=2, ncols=2, figsize=(6,6), sharey=True, sharex=True)\n",
    "\n",
    "prop_man_term = sum([policy >= 10 for policy in policies.paid_leave_weeks_man])/len(policies.paid_leave_weeks_man)\n",
    "prop_woman_term = sum([policy >= 10 for policy in policies.paid_leave_weeks_woman])/len(policies.paid_leave_weeks_woman)\n",
    "ax[0][0].bar([0, 1], [prop_woman_term, prop_man_term], \n",
    "          edgecolor = [plot_utils.ACCENT_COLOR, plot_utils.ALMOST_BLACK],\n",
    "          color = [plot_utils.ACCENT_COLOR, plot_utils.ALMOST_BLACK])\n",
    "\n",
    "prop_man_less_than_term = sum([(policy < 10) & (policy > 0) for policy in policies.paid_leave_weeks_man])/len(policies.paid_leave_weeks_man)\n",
    "prop_woman_less_than_term = sum([(policy < 10) & (policy > 0) for policy in policies.paid_leave_weeks_woman])/len(policies.paid_leave_weeks_woman)\n",
    "ax[0][0].bar([0, 1], [prop_woman_less_than_term, prop_man_less_than_term],\n",
    "          edgecolor = [plot_utils.ACCENT_COLOR, plot_utils.ALMOST_BLACK],\n",
    "          color = [plot_utils.ACCENT_COLOR, plot_utils.ALMOST_BLACK], alpha=0.3,\n",
    "          bottom = [prop_woman_term, prop_man_term])\n",
    "\n",
    "prop_man_na = sum([np.isnan(policy) for policy in policies.paid_leave_weeks_man])/len(policies.paid_leave_weeks_man)\n",
    "prop_woman_na = sum([np.isnan(policy) for policy in policies.paid_leave_weeks_woman])/len(policies.paid_leave_weeks_woman)\n",
    "ax[0][0].bar([0, 1], [prop_woman_na, prop_man_na], \n",
    "          color=[plot_utils.ACCENT_COLOR, plot_utils.ALMOST_BLACK],\n",
    "          edgecolor = [plot_utils.ACCENT_COLOR, plot_utils.ALMOST_BLACK], alpha=0.1,\n",
    "          bottom = [prop_woman_less_than_term+prop_woman_term, prop_man_less_than_term+prop_man_term])\n",
    "\n",
    "prop_man_zero = sum([(policy == 0) for policy in policies.paid_leave_weeks_man])/len(policies.paid_leave_weeks_man)\n",
    "prop_woman_zero = sum([(policy == 0) for policy in policies.paid_leave_weeks_woman])/len(policies.paid_leave_weeks_woman)\n",
    "ax[0][0].bar([0, 1], [prop_woman_zero, prop_man_zero], color=['white', 'white'],\n",
    "          linestyle = '--',\n",
    "          edgecolor = [plot_utils.ACCENT_COLOR, plot_utils.ALMOST_BLACK], alpha=0.3,\n",
    "          bottom = [prop_woman_less_than_term+prop_woman_term+prop_woman_na, \n",
    "                    prop_man_less_than_term+prop_man_term+prop_man_na])\n",
    "\n",
    "ax[0][0].set_xticks([0, 1])\n",
    "ax[0][0].set_title('(A) Universities with\\npaid parental leave', fontsize=plot_utils.TITLE_SIZE)\n",
    "ax[0][0].set_xticklabels(['Women', 'Men'])\n",
    "ax[0][0].set_ylim(0, 1)\n",
    "plot_utils.finalize(ax[0][0])\n",
    "\n",
    "heights = [\n",
    "    1-subset[(subset['gender_ans'] == 1) & subset.isyoung & \\\n",
    "             (subset.children == 2)].parleave_elig_child1.value_counts(normalize=True)[0.0], \n",
    "    1-subset[(subset['gender_ans'] == 2) & subset.isyoung & \\\n",
    "             (subset.children == 2)].parleave_elig_child1.value_counts(normalize=True)[0.0]\n",
    "]\n",
    "bars = ax[0][1].bar([0, 1], heights, color = [plot_utils.ACCENT_COLOR, plot_utils.ALMOST_BLACK])\n",
    "print(heights)\n",
    "print(proportions_ztest(\n",
    "    [\n",
    "        len(subset[(subset['gender_ans'] == 1) & subset.isyoung & \\\n",
    "                   (subset.children == 2)].parleave_elig_child1.dropna()) - \\\n",
    "        subset[(subset['gender_ans'] == 1) & subset.isyoung & \\\n",
    "               (subset.children == 2)].parleave_elig_child1.value_counts()[0.0],\n",
    "        len(subset[(subset['gender_ans'] == 2) & subset.isyoung & \\\n",
    "                   (subset.children == 2)].parleave_elig_child1.dropna()) - \\\n",
    "        subset[(subset['gender_ans'] == 2) & subset.isyoung & \\\n",
    "               (subset.children == 2)].parleave_elig_child1.value_counts()[0.0]\n",
    "    ], \n",
    "    [\n",
    "        len(subset[(subset['gender_ans'] == 1) & subset.isyoung & \\\n",
    "                   (subset.children == 2)].parleave_elig_child1.dropna()),\n",
    "        len(subset[(subset['gender_ans'] == 2) & subset.isyoung & \\\n",
    "                   (subset.children == 2)].parleave_elig_child1.dropna())\n",
    "    ], alternative='larger'))\n",
    "# plot_utils.label_diff(ax[0][1], 0, 1, '*', [0, 1], heights)\n",
    "\n",
    "ax[0][1].set_xticks([0, 1])\n",
    "ax[0][1].set_title('(B) Knowing policy among\\nearly-career parents ', fontsize=plot_utils.TITLE_SIZE)\n",
    "ax[0][1].set_xticklabels(['Women', 'Men'])\n",
    "ax[0][1].set_ylim(0, 1)\n",
    "plot_utils.finalize(ax[0][1])\n",
    "\n",
    "temp = subset[subset.gender_ans.isin([1, 2]) & (subset.current_parleave > 0) &\n",
    "              (subset.current_parleave < 4)][['gender_ans', 'current_parleave']].dropna()\n",
    "temp = temp.groupby(['gender_ans', 'current_parleave']).size().unstack().T\n",
    "normed = temp.div(temp.sum(axis=0), axis=1)\n",
    "\n",
    "heights = [normed[1][normed[1].index.isin([2, 3])].sum(),\n",
    "           normed[2][normed[2].index.isin([2, 3])].sum()]\n",
    "bars = ax[1][0].bar([0, 1], heights, color = [plot_utils.ACCENT_COLOR, plot_utils.ALMOST_BLACK])\n",
    "print(heights)\n",
    "print(stats.chi2_contingency(temp.values, correction=False))\n",
    "plot_utils.label_diff(ax[1][0], 0, 1, '***', [0, 1], heights)\n",
    "\n",
    "ax[1][0].set_xticks([0, 1])\n",
    "ax[1][0].set_title('(C) Parental leave important in\\nchoosing current position', \n",
    "                   fontsize=plot_utils.TITLE_SIZE)\n",
    "ax[1][0].set_xticklabels(['Women', 'Men'])\n",
    "ax[1][0].set_ylim(0, 1)\n",
    "plot_utils.finalize(ax[1][0])\n",
    "\n",
    "women_offered_leave = subset[(subset.gender_ans == 1) & (subset.count_eligible > 0)]\n",
    "men_offered_leave = subset[(subset.gender_ans == 2) & (subset.count_eligible > 0)]\n",
    "\n",
    "heights = [sum(women_offered_leave.count_took_some_leave > 0)/len(women_offered_leave),\n",
    "           sum(men_offered_leave.count_took_some_leave > 0)/len(men_offered_leave)]\n",
    "bars = ax[1][1].bar([0, 1], heights, color = [plot_utils.ACCENT_COLOR, plot_utils.ALMOST_BLACK])\n",
    "print(proportions_ztest(\n",
    "    [sum(women_offered_leave.count_took_some_leave > 0), sum(men_offered_leave.count_took_some_leave > 0)], \n",
    "    [len(women_offered_leave), len(men_offered_leave)], alternative='larger'))\n",
    "plot_utils.label_diff(ax[1][1], 0, 1, '***', [0, 1], heights)\n",
    "\n",
    "\n",
    "ax[1][1].set_xticks([0, 1])\n",
    "ax[1][1].set_title('(D) Using leave among\\neligible parents', fontsize=plot_utils.TITLE_SIZE)\n",
    "ax[1][1].set_xticklabels(['Women', 'Men'])\n",
    "ax[1][1].set_ylim(0, 1)\n",
    "plot_utils.finalize(ax[1][1])\n",
    "\n",
    "plt.tight_layout()\n",
    "plt.savefig('../plots/descriptive/parental_leave_policy_cs.pdf', dpi=1000)"
   ]
  },
  {
   "cell_type": "code",
   "execution_count": 74,
   "metadata": {},
   "outputs": [
    {
     "name": "stdout",
     "output_type": "stream",
     "text": [
      "(205, 18)\n",
      "205 113 93 0.8303571428571429\n",
      "(93, 18) (1321, 442)\n",
      "[0.8933333333333333, 0.853448275862069]\n",
      "(0.7981095063347666, 0.2124034726501723)\n",
      "[0.45933014354066987, 0.1282608695652174]\n",
      "(88.56901156822528, 5.854414990125323e-20, 2, array([[160.57698057, 353.42301943],\n",
      "       [ 37.17638266,  81.82361734],\n",
      "       [ 11.24663677,  24.75336323]]))\n",
      "(5.835698636198371, 2.6782819109372345e-09)\n"
     ]
    },
    {
     "data": {
      "image/png": "[encoded data removed]",
      "text/plain": [
       "<Figure size 432x432 with 4 Axes>"
      ]
     },
     "metadata": {
      "needs_background": "light"
     },
     "output_type": "display_data"
    }
   ],
   "source": [
    "subset = df[df.likely_department == 'Business']\n",
    "plot_utils.ACCENT_COLOR, plot_utils.ALMOST_BLACK = color_mapping['Business']\n",
    "\n",
    "policies = pd.read_csv('../data/survey_data/parental_leave/parental_leave_policies_apr_2018.tsv', sep='\\t')\n",
    "policies = policies.sort_values(inplace=False, by=\"rank\", ascending=True)\n",
    "\n",
    "# Restrict to the institutions we surveyed\n",
    "policies = policies[policies.university_name != 'University of Massachusetts Dartmouth'] \n",
    "print(policies.shape)\n",
    "\n",
    "universities = subset.university_name_standard.unique()\n",
    "print(len(policies.university_name), len(universities), \n",
    "      len(set(universities).intersection(set(policies.university_name))), \n",
    "      len(set(universities).intersection(set(policies.university_name)))/112)\n",
    "\n",
    "policies = policies[policies.university_name.isin(universities)]\n",
    "print(policies.shape, subset.shape)\n",
    "\n",
    "fig, ax = plt.subplots(nrows=2, ncols=2, figsize=(6,6), sharey=True, sharex=True)\n",
    "\n",
    "prop_man_term = sum([policy >= 10 for policy in policies.paid_leave_weeks_man])/len(policies.paid_leave_weeks_man)\n",
    "prop_woman_term = sum([policy >= 10 for policy in policies.paid_leave_weeks_woman])/len(policies.paid_leave_weeks_woman)\n",
    "ax[0][0].bar([0, 1], [prop_woman_term, prop_man_term], \n",
    "          edgecolor = [plot_utils.ACCENT_COLOR, plot_utils.ALMOST_BLACK],\n",
    "          color = [plot_utils.ACCENT_COLOR, plot_utils.ALMOST_BLACK])\n",
    "\n",
    "prop_man_less_than_term = sum([(policy < 10) & (policy > 0) for policy in policies.paid_leave_weeks_man])/len(policies.paid_leave_weeks_man)\n",
    "prop_woman_less_than_term = sum([(policy < 10) & (policy > 0) for policy in policies.paid_leave_weeks_woman])/len(policies.paid_leave_weeks_woman)\n",
    "ax[0][0].bar([0, 1], [prop_woman_less_than_term, prop_man_less_than_term],\n",
    "          edgecolor = [plot_utils.ACCENT_COLOR, plot_utils.ALMOST_BLACK],\n",
    "          color = [plot_utils.ACCENT_COLOR, plot_utils.ALMOST_BLACK], alpha=0.3,\n",
    "          bottom = [prop_woman_term, prop_man_term])\n",
    "\n",
    "prop_man_na = sum([np.isnan(policy) for policy in policies.paid_leave_weeks_man])/len(policies.paid_leave_weeks_man)\n",
    "prop_woman_na = sum([np.isnan(policy) for policy in policies.paid_leave_weeks_woman])/len(policies.paid_leave_weeks_woman)\n",
    "ax[0][0].bar([0, 1], [prop_woman_na, prop_man_na], \n",
    "          color=[plot_utils.ACCENT_COLOR, plot_utils.ALMOST_BLACK],\n",
    "          edgecolor = [plot_utils.ACCENT_COLOR, plot_utils.ALMOST_BLACK], alpha=0.1,\n",
    "          bottom = [prop_woman_less_than_term+prop_woman_term, prop_man_less_than_term+prop_man_term])\n",
    "\n",
    "prop_man_zero = sum([(policy == 0) for policy in policies.paid_leave_weeks_man])/len(policies.paid_leave_weeks_man)\n",
    "prop_woman_zero = sum([(policy == 0) for policy in policies.paid_leave_weeks_woman])/len(policies.paid_leave_weeks_woman)\n",
    "ax[0][0].bar([0, 1], [prop_woman_zero, prop_man_zero], color=['white', 'white'],\n",
    "          linestyle = '--',\n",
    "          edgecolor = [plot_utils.ACCENT_COLOR, plot_utils.ALMOST_BLACK], alpha=0.3,\n",
    "          bottom = [prop_woman_less_than_term+prop_woman_term+prop_woman_na, \n",
    "                    prop_man_less_than_term+prop_man_term+prop_man_na])\n",
    "\n",
    "ax[0][0].set_xticks([0, 1])\n",
    "ax[0][0].set_title('(A) Universities with\\npaid parental leave', fontsize=plot_utils.TITLE_SIZE)\n",
    "ax[0][0].set_xticklabels(['Women', 'Men'])\n",
    "ax[0][0].set_ylim(0, 1)\n",
    "plot_utils.finalize(ax[0][0])\n",
    "\n",
    "heights = [\n",
    "    1-subset[(subset['gender_ans'] == 1) & subset.isyoung & \\\n",
    "             (subset.children == 2)].parleave_elig_child1.value_counts(normalize=True)[0.0], \n",
    "    1-subset[(subset['gender_ans'] == 2) & subset.isyoung & \\\n",
    "             (subset.children == 2)].parleave_elig_child1.value_counts(normalize=True)[0.0]\n",
    "]\n",
    "bars = ax[0][1].bar([0, 1], heights, color = [plot_utils.ACCENT_COLOR, plot_utils.ALMOST_BLACK])\n",
    "print(heights)\n",
    "print(proportions_ztest(\n",
    "    [\n",
    "        len(subset[(subset['gender_ans'] == 1) & subset.isyoung & \\\n",
    "                   (subset.children == 2)].parleave_elig_child1.dropna()) - \\\n",
    "        subset[(subset['gender_ans'] == 1) & subset.isyoung & \\\n",
    "               (subset.children == 2)].parleave_elig_child1.value_counts()[0.0],\n",
    "        len(subset[(subset['gender_ans'] == 2) & subset.isyoung & \\\n",
    "                   (subset.children == 2)].parleave_elig_child1.dropna()) - \\\n",
    "        subset[(subset['gender_ans'] == 2) & subset.isyoung & \\\n",
    "               (subset.children == 2)].parleave_elig_child1.value_counts()[0.0]\n",
    "    ], \n",
    "    [\n",
    "        len(subset[(subset['gender_ans'] == 1) & subset.isyoung & \\\n",
    "                   (subset.children == 2)].parleave_elig_child1.dropna()),\n",
    "        len(subset[(subset['gender_ans'] == 2) & subset.isyoung & \\\n",
    "                   (subset.children == 2)].parleave_elig_child1.dropna())\n",
    "    ], alternative='larger'))\n",
    "# plot_utils.label_diff(ax[0][1], 0, 1, '*', [0, 1], heights)\n",
    "\n",
    "ax[0][1].set_xticks([0, 1])\n",
    "ax[0][1].set_title('(B) Knowing policy among\\nearly-career parents ', fontsize=plot_utils.TITLE_SIZE)\n",
    "ax[0][1].set_xticklabels(['Women', 'Men'])\n",
    "ax[0][1].set_ylim(0, 1)\n",
    "plot_utils.finalize(ax[0][1])\n",
    "\n",
    "temp = subset[subset.gender_ans.isin([1, 2]) & (subset.current_parleave > 0) &\n",
    "              (subset.current_parleave < 4)][['gender_ans', 'current_parleave']].dropna()\n",
    "temp = temp.groupby(['gender_ans', 'current_parleave']).size().unstack().T\n",
    "normed = temp.div(temp.sum(axis=0), axis=1)\n",
    "\n",
    "heights = [normed[1][normed[1].index.isin([2, 3])].sum(),\n",
    "           normed[2][normed[2].index.isin([2, 3])].sum()]\n",
    "bars = ax[1][0].bar([0, 1], heights, color = [plot_utils.ACCENT_COLOR, plot_utils.ALMOST_BLACK])\n",
    "print(heights)\n",
    "print(stats.chi2_contingency(temp.values, correction=False))\n",
    "plot_utils.label_diff(ax[1][0], 0, 1, '***', [0, 1], heights)\n",
    "\n",
    "ax[1][0].set_xticks([0, 1])\n",
    "ax[1][0].set_title('(C) Parental leave important in\\nchoosing current position', \n",
    "                   fontsize=plot_utils.TITLE_SIZE)\n",
    "ax[1][0].set_xticklabels(['Women', 'Men'])\n",
    "ax[1][0].set_ylim(0, 1)\n",
    "plot_utils.finalize(ax[1][0])\n",
    "\n",
    "women_offered_leave = subset[(subset.gender_ans == 1) & (subset.count_eligible > 0)]\n",
    "men_offered_leave = subset[(subset.gender_ans == 2) & (subset.count_eligible > 0)]\n",
    "\n",
    "heights = [sum(women_offered_leave.count_took_some_leave > 0)/len(women_offered_leave),\n",
    "           sum(men_offered_leave.count_took_some_leave > 0)/len(men_offered_leave)]\n",
    "bars = ax[1][1].bar([0, 1], heights, color = [plot_utils.ACCENT_COLOR, plot_utils.ALMOST_BLACK])\n",
    "print(proportions_ztest(\n",
    "    [sum(women_offered_leave.count_took_some_leave > 0), sum(men_offered_leave.count_took_some_leave > 0)], \n",
    "    [len(women_offered_leave), len(men_offered_leave)], alternative='larger'))\n",
    "plot_utils.label_diff(ax[1][1], 0, 1, '***', [0, 1], heights)\n",
    "\n",
    "\n",
    "ax[1][1].set_xticks([0, 1])\n",
    "ax[1][1].set_title('(D) Using leave among\\neligible parents', fontsize=plot_utils.TITLE_SIZE)\n",
    "ax[1][1].set_xticklabels(['Women', 'Men'])\n",
    "ax[1][1].set_ylim(0, 1)\n",
    "plot_utils.finalize(ax[1][1])\n",
    "\n",
    "plt.tight_layout()\n",
    "plt.savefig('../plots/descriptive/parental_leave_policy_business.pdf', dpi=1000)"
   ]
  },
  {
   "cell_type": "code",
   "execution_count": 75,
   "metadata": {},
   "outputs": [
    {
     "name": "stdout",
     "output_type": "stream",
     "text": [
      "(205, 18)\n",
      "205 140 115 0.7986111111111112\n",
      "(115, 18) (992, 442)\n",
      "[1, 0.875]\n",
      "(2.1570298509241317, 0.015501669317670374)\n",
      "gender_ans               1         2\n",
      "current_parleave                    \n",
      "1.0               0.577586  0.774545\n",
      "2.0               0.301724  0.196364\n",
      "3.0               0.120690  0.029091\n",
      "[0.4224137931034483, 0.22545454545454544]\n",
      "(27.71362433530925, 9.595396798337976e-07, 2, array([[158.78500986, 188.21499014],\n",
      "       [ 56.74161736,  67.25838264],\n",
      "       [ 16.47337278,  19.52662722]]))\n",
      "[0.9274193548387096, 0.68]\n",
      "(4.547688072596773, 2.7119222113880716e-06)\n"
     ]
    },
    {
     "data": {
      "image/png": "[encoded data removed]",
      "text/plain": [
       "<Figure size 432x432 with 4 Axes>"
      ]
     },
     "metadata": {
      "needs_background": "light"
     },
     "output_type": "display_data"
    }
   ],
   "source": [
    "subset = df[df.likely_department == 'History']\n",
    "plot_utils.ACCENT_COLOR, plot_utils.ALMOST_BLACK = color_mapping['History']\n",
    "\n",
    "policies = pd.read_csv('../data/survey_data/parental_leave/parental_leave_policies_apr_2018.tsv', sep='\\t')\n",
    "policies = policies.sort_values(inplace=False, by=\"rank\", ascending=True)\n",
    "\n",
    "# Restrict to the institutions we surveyed\n",
    "policies = policies[policies.university_name != 'University of Massachusetts Dartmouth'] \n",
    "print(policies.shape)\n",
    "\n",
    "universities = subset.university_name_standard.unique()\n",
    "print(len(policies.university_name), len(universities), \n",
    "      len(set(universities).intersection(set(policies.university_name))), \n",
    "      len(set(universities).intersection(set(policies.university_name)))/144)\n",
    "\n",
    "policies = policies[policies.university_name.isin(universities)]\n",
    "print(policies.shape, subset.shape)\n",
    "\n",
    "fig, ax = plt.subplots(nrows=2, ncols=2, figsize=(6,6), sharey=True, sharex=True)\n",
    "\n",
    "prop_man_term = sum([policy >= 10 for policy in policies.paid_leave_weeks_man])/len(policies.paid_leave_weeks_man)\n",
    "prop_woman_term = sum([policy >= 10 for policy in policies.paid_leave_weeks_woman])/len(policies.paid_leave_weeks_woman)\n",
    "ax[0][0].bar([0, 1], [prop_woman_term, prop_man_term], \n",
    "          edgecolor = [plot_utils.ACCENT_COLOR, plot_utils.ALMOST_BLACK],\n",
    "          color = [plot_utils.ACCENT_COLOR, plot_utils.ALMOST_BLACK])\n",
    "\n",
    "prop_man_less_than_term = sum([(policy < 10) & (policy > 0) for policy in policies.paid_leave_weeks_man])/len(policies.paid_leave_weeks_man)\n",
    "prop_woman_less_than_term = sum([(policy < 10) & (policy > 0) for policy in policies.paid_leave_weeks_woman])/len(policies.paid_leave_weeks_woman)\n",
    "ax[0][0].bar([0, 1], [prop_woman_less_than_term, prop_man_less_than_term],\n",
    "          edgecolor = [plot_utils.ACCENT_COLOR, plot_utils.ALMOST_BLACK],\n",
    "          color = [plot_utils.ACCENT_COLOR, plot_utils.ALMOST_BLACK], alpha=0.3,\n",
    "          bottom = [prop_woman_term, prop_man_term])\n",
    "\n",
    "prop_man_na = sum([np.isnan(policy) for policy in policies.paid_leave_weeks_man])/len(policies.paid_leave_weeks_man)\n",
    "prop_woman_na = sum([np.isnan(policy) for policy in policies.paid_leave_weeks_woman])/len(policies.paid_leave_weeks_woman)\n",
    "ax[0][0].bar([0, 1], [prop_woman_na, prop_man_na], \n",
    "          color=[plot_utils.ACCENT_COLOR, plot_utils.ALMOST_BLACK],\n",
    "          edgecolor = [plot_utils.ACCENT_COLOR, plot_utils.ALMOST_BLACK], alpha=0.1,\n",
    "          bottom = [prop_woman_less_than_term+prop_woman_term, prop_man_less_than_term+prop_man_term])\n",
    "\n",
    "prop_man_zero = sum([(policy == 0) for policy in policies.paid_leave_weeks_man])/len(policies.paid_leave_weeks_man)\n",
    "prop_woman_zero = sum([(policy == 0) for policy in policies.paid_leave_weeks_woman])/len(policies.paid_leave_weeks_woman)\n",
    "ax[0][0].bar([0, 1], [prop_woman_zero, prop_man_zero], color=['white', 'white'],\n",
    "          linestyle = '--',\n",
    "          edgecolor = [plot_utils.ACCENT_COLOR, plot_utils.ALMOST_BLACK], alpha=0.3,\n",
    "          bottom = [prop_woman_less_than_term+prop_woman_term+prop_woman_na, \n",
    "                    prop_man_less_than_term+prop_man_term+prop_man_na])\n",
    "\n",
    "ax[0][0].set_xticks([0, 1])\n",
    "ax[0][0].set_title('(A) Universities with\\npaid parental leave', fontsize=plot_utils.TITLE_SIZE)\n",
    "ax[0][0].set_xticklabels(['Women', 'Men'])\n",
    "ax[0][0].set_ylim(0, 1)\n",
    "plot_utils.finalize(ax[0][0])\n",
    "\n",
    "heights = [\n",
    "    1-0, \n",
    "    1-subset[(subset['gender_ans'] == 2) & subset.isyoung & \\\n",
    "             (subset.children == 2)].parleave_elig_child1.value_counts(normalize=True)[0.0]\n",
    "]\n",
    "print(heights)\n",
    "bars = ax[0][1].bar([0, 1], heights, color = [plot_utils.ACCENT_COLOR, plot_utils.ALMOST_BLACK])\n",
    "print(proportions_ztest(\n",
    "    [\n",
    "        len(subset[(subset['gender_ans'] == 1) & subset.isyoung & \\\n",
    "                   (subset.children == 2)].parleave_elig_child1.dropna()) - 0,\n",
    "        len(subset[(subset['gender_ans'] == 2) & subset.isyoung & \\\n",
    "                   (subset.children == 2)].parleave_elig_child1.dropna()) - \\\n",
    "        subset[(subset['gender_ans'] == 2) & subset.isyoung & \\\n",
    "               (subset.children == 2)].parleave_elig_child1.value_counts()[0.0]\n",
    "    ], \n",
    "    [\n",
    "        len(subset[(subset['gender_ans'] == 1) & subset.isyoung & \\\n",
    "                   (subset.children == 2)].parleave_elig_child1.dropna()),\n",
    "        len(subset[(subset['gender_ans'] == 2) & subset.isyoung & \\\n",
    "                   (subset.children == 2)].parleave_elig_child1.dropna())\n",
    "    ], alternative='larger'))\n",
    "# plot_utils.label_diff(ax[0][1], 0, 1, '*', [0, 1], heights)\n",
    "\n",
    "ax[0][1].set_xticks([0, 1])\n",
    "ax[0][1].set_title('(B) Knowing policy among\\nearly-career parents ', fontsize=plot_utils.TITLE_SIZE)\n",
    "ax[0][1].set_xticklabels(['Women', 'Men'])\n",
    "ax[0][1].set_ylim(0, 1)\n",
    "plot_utils.finalize(ax[0][1])\n",
    "\n",
    "temp = subset[subset.gender_ans.isin([1,2]) & (subset.current_parleave > 0) &\n",
    "              (subset.current_parleave < 4)][['gender_ans', 'current_parleave']].dropna()\n",
    "temp = temp.groupby(['gender_ans', 'current_parleave']).size().unstack().T\n",
    "normed = temp.div(temp.sum(axis=0), axis=1)\n",
    "print(normed)\n",
    "\n",
    "heights = [normed[1][normed[1].index.isin([2, 3])].sum(),\n",
    "           normed[2][normed[2].index.isin([2, 3])].sum()]\n",
    "bars = ax[1][0].bar([0, 1], heights, color = [plot_utils.ACCENT_COLOR, plot_utils.ALMOST_BLACK])\n",
    "print(heights)\n",
    "print(stats.chi2_contingency(temp.values, correction=False))\n",
    "plot_utils.label_diff(ax[1][0], 0, 1, '***', [0, 1], heights)\n",
    "\n",
    "ax[1][0].set_xticks([0, 1])\n",
    "ax[1][0].set_title('(C) Parental leave important in\\nchoosing current position', \n",
    "                   fontsize=plot_utils.TITLE_SIZE)\n",
    "ax[1][0].set_xticklabels(['Women', 'Men'])\n",
    "ax[1][0].set_ylim(0, 1)\n",
    "plot_utils.finalize(ax[1][0])\n",
    "\n",
    "women_offered_leave = subset[(subset.gender_ans == 1) & (subset.count_eligible > 0)]\n",
    "men_offered_leave = subset[(subset.gender_ans == 2) & (subset.count_eligible > 0)]\n",
    "\n",
    "heights = [sum(women_offered_leave.count_took_some_leave > 0)/len(women_offered_leave),\n",
    "           sum(men_offered_leave.count_took_some_leave > 0)/len(men_offered_leave)]\n",
    "bars = ax[1][1].bar([0, 1], heights, color = [plot_utils.ACCENT_COLOR, plot_utils.ALMOST_BLACK])\n",
    "print(heights)\n",
    "print(proportions_ztest(\n",
    "    [sum(women_offered_leave.count_took_some_leave > 0), sum(men_offered_leave.count_took_some_leave > 0)], \n",
    "    [len(women_offered_leave), len(men_offered_leave)], alternative='larger'))\n",
    "plot_utils.label_diff(ax[1][1], 0, 1, '***', [0, 1], heights)\n",
    "\n",
    "\n",
    "ax[1][1].set_xticks([0, 1])\n",
    "ax[1][1].set_title('(D) Using leave among\\neligible parents', fontsize=plot_utils.TITLE_SIZE)\n",
    "ax[1][1].set_xticklabels(['Women', 'Men'])\n",
    "ax[1][1].set_ylim(0, 1)\n",
    "plot_utils.finalize(ax[1][1])\n",
    "\n",
    "plt.tight_layout()\n",
    "plt.savefig('../plots/descriptive/parental_leave_policy_history.pdf', dpi=1000)"
   ]
  },
  {
   "cell_type": "code",
   "execution_count": 76,
   "metadata": {},
   "outputs": [],
   "source": [
    "df['took_some_leave'] = df.count_took_some_leave > 0\n",
    "df['parleave_elig_first_child'] = df.parleave_elig_child1\n",
    "df['younger_than_40'] = df.isyoung\n",
    "parental_leave_summary = df[df.gender_ans.isin([1,2])][['discipline', 'resp_gender', 'younger_than_40', \n",
    "    'count_eligible', 'took_some_leave', 'current_parleave', 'parleave_elig_first_child', 'had_children']]\n",
    "\n",
    "# parental_leave_summary[\n",
    "#     parental_leave_summary.younger_than_40 & parental_leave_summary.had_children & \n",
    "#     (parental_leave_summary.parleave_elig_child1 >= 0)].groupby(\n",
    "#     ['discipline', 'resp_gender']).parleave_elig_child1.value_counts(normalize=True)\n",
    "\n",
    "# parental_leave_summary[(parental_leave_summary.current_parleave < 4) & \n",
    "#     (parental_leave_summary.current_parleave > 0)].groupby(\n",
    "#     ['discipline', 'resp_gender']).current_parleave.value_counts(normalize=True)\n",
    "\n",
    "# parental_leave_summary[(parental_leave_summary.count_eligible > 0)].groupby(\n",
    "#     ['discipline', 'resp_gender']).took_some_leave.value_counts(normalize=True)\n",
    "\n",
    "parental_leave_summary.to_csv('../data/overall_parental_leave.tsv', sep='\\t', index=False)"
   ]
  },
  {
   "cell_type": "markdown",
   "metadata": {},
   "source": [
    "## Basic summary of parental leave policies"
   ]
  },
  {
   "cell_type": "code",
   "execution_count": 77,
   "metadata": {},
   "outputs": [
    {
     "name": "stdout",
     "output_type": "stream",
     "text": [
      "(205, 19)\n"
     ]
    }
   ],
   "source": [
    "policies = pd.read_csv('../data/survey_data/parental_leave/parental_leave_policies_apr_2018.tsv', sep='\\t')\n",
    "policies = policies.sort_values(inplace=False, by=\"rank\", ascending=True)\n",
    "policies = policies.reset_index(drop=True)\n",
    "policies = policies.reset_index()\n",
    "\n",
    "# Restrict to the institutions we surveyed\n",
    "policies = policies[policies.university_name != 'University of Massachusetts Dartmouth'] \n",
    "print(policies.shape)"
   ]
  },
  {
   "cell_type": "code",
   "execution_count": 78,
   "metadata": {},
   "outputs": [
    {
     "name": "stdout",
     "output_type": "stream",
     "text": [
      "198 205 0.034146341463414664\n"
     ]
    }
   ],
   "source": [
    "# Consider only observed policies\n",
    "obs = policies[policies.missing == 0]\n",
    "print(len(obs), len(policies), 1. - (len(obs) / len(policies)))"
   ]
  },
  {
   "cell_type": "code",
   "execution_count": 79,
   "metadata": {},
   "outputs": [
    {
     "name": "stdout",
     "output_type": "stream",
     "text": [
      "126 0.6363636363636364\n",
      "118 0.5959595959595959\n"
     ]
    }
   ],
   "source": [
    "# What fraction of institutions have paid leave policies for women? For men?\n",
    "print(np.sum(obs[\"paid_leave_weeks_woman\"] > 0), 1. * np.sum(obs[\"paid_leave_weeks_woman\"] > 0) / len(obs))\n",
    "print(np.sum(obs[\"paid_leave_weeks_man\"] > 0), 1. * np.sum(obs[\"paid_leave_weeks_man\"] > 0) / len(obs))"
   ]
  },
  {
   "cell_type": "code",
   "execution_count": 80,
   "metadata": {},
   "outputs": [
    {
     "name": "stdout",
     "output_type": "stream",
     "text": [
      "72 0.36363636363636365\n",
      "80 0.40404040404040403\n"
     ]
    }
   ],
   "source": [
    "# What fraction of instutions have *no* paid leave for women? For men?\n",
    "print(np.sum(obs[\"paid_leave_weeks_woman\"] == 0.), 1.*np.sum(obs[\"paid_leave_weeks_woman\"] == 0.) / len(obs))\n",
    "print(np.sum(obs[\"paid_leave_weeks_man\"] == 0.), 1.*np.sum(obs[\"paid_leave_weeks_man\"] == 0.) / len(obs))"
   ]
  },
  {
   "cell_type": "code",
   "execution_count": 81,
   "metadata": {},
   "outputs": [
    {
     "name": "stdout",
     "output_type": "stream",
     "text": [
      "14.682539682539682 12.23728813559322\n",
      "15.0 12.0\n"
     ]
    },
    {
     "data": {
      "text/plain": [
       "MannwhitneyuResult(statistic=6179.5, pvalue=0.010944678557877546)"
      ]
     },
     "execution_count": 81,
     "metadata": {},
     "output_type": "execute_result"
    }
   ],
   "source": [
    "# Conditioned on having paid leave, what's the average duration for women? For men?\n",
    "for_w = obs[obs.paid_leave_weeks_woman > 0][\"paid_leave_weeks_woman\"]\n",
    "for_m = obs[obs.paid_leave_weeks_man > 0][\"paid_leave_weeks_man\"]\n",
    "\n",
    "print(np.mean(for_w), np.mean(for_m))\n",
    "print(np.median(for_w), np.median(for_m))\n",
    "stats.mannwhitneyu(for_w, for_m)"
   ]
  },
  {
   "cell_type": "code",
   "execution_count": 82,
   "metadata": {},
   "outputs": [
    {
     "name": "stdout",
     "output_type": "stream",
     "text": [
      "85 0.4292929292929293\n"
     ]
    }
   ],
   "source": [
    "# How many (and what fraction of) institutions have gender neutral policies?\n",
    "offered_leave = obs[(obs.paid_leave_weeks_woman > 0) | (obs.paid_leave_weeks_man > 0)]\n",
    "sames = np.sum(offered_leave[\"paid_leave_weeks_woman\"].values == offered_leave[\"paid_leave_weeks_man\"].values)\n",
    "print(np.sum(sames), np.sum(sames) / len(obs))"
   ]
  },
  {
   "cell_type": "code",
   "execution_count": 83,
   "metadata": {},
   "outputs": [
    {
     "name": "stdout",
     "output_type": "stream",
     "text": [
      "85 0.4146341463414634 0.6746031746031746\n"
     ]
    }
   ],
   "source": [
    "# Conditioned on having paid leave, how many institutions have gender neutral policies?\n",
    "sames = np.sum(offered_leave[\"paid_leave_weeks_woman\"].values == \\\n",
    "               offered_leave[\"paid_leave_weeks_man\"].values)\n",
    "print(np.sum(sames), np.sum(sames) / len(policies), np.sum(sames) / len(offered_leave))"
   ]
  },
  {
   "cell_type": "code",
   "execution_count": 84,
   "metadata": {},
   "outputs": [
    {
     "data": {
      "text/plain": [
       "0.5476190476190477"
      ]
     },
     "execution_count": 84,
     "metadata": {},
     "output_type": "execute_result"
    }
   ],
   "source": [
    "# Conditioned on having paid leave, how many institutions have gender neutral policies?\n",
    "1.*len(offered_leave[(offered_leave.relief_man == 'Not specified') | \n",
    "                     (offered_leave.relief_woman == 'Not specified')]) / len(offered_leave)"
   ]
  },
  {
   "cell_type": "markdown",
   "metadata": {},
   "source": [
    "## Instrumental variable"
   ]
  },
  {
   "cell_type": "code",
   "execution_count": 85,
   "metadata": {},
   "outputs": [],
   "source": [
    "feature_set = ['gender_ans', 'chage1', 'chage2', 'chage3', 'prestige_frame']\n",
    "\n",
    "# Parents who had at least one, and did not have more than three children\n",
    "had_at_two_or_three_kids = df[~df.chage1.isna() & ~df.chage2.isna() & df.chage4.isna()].copy(deep=True)\n",
    "mapping = {'prestige_inv': 'prestige_frame'}\n",
    "had_at_two_or_three_kids.rename(columns=mapping, inplace=True)\n",
    "yob = had_at_two_or_three_kids[feature_set].apply(pd.Series.value_counts, axis=1).fillna(0)\n",
    "\n",
    "# Add indicator for observations which had children\n",
    "had_twins_indicator = yob.apply(lambda x: x == 2, axis=1).any(1)\n",
    "had_at_two_or_three_kids['had_twins'] = had_twins_indicator\n",
    "had_at_two_or_three_kids['had_third_kid'] = 1.0*(~had_at_two_or_three_kids.chage3.isna())\n",
    "\n",
    "# Remove \n",
    "had_at_two_or_three_kids = had_at_two_or_three_kids[(had_at_two_or_three_kids.had_twins | \\\n",
    "                                                     had_at_two_or_three_kids.chage3.isna())]"
   ]
  },
  {
   "cell_type": "code",
   "execution_count": 86,
   "metadata": {},
   "outputs": [],
   "source": [
    "first_child_age = [];\n",
    "chages = ['chage1', 'chage2', 'chage3', 'chage4', 'chage5', 'chage6', 'chage7', 'chage8', 'chage9'];\n",
    "for i, row in had_at_two_or_three_kids.iterrows():\n",
    "    first_child_age.append(np.min(row[chages]))\n",
    "had_at_two_or_three_kids['first_child_birth'] = first_child_age "
   ]
  },
  {
   "cell_type": "code",
   "execution_count": 87,
   "metadata": {},
   "outputs": [],
   "source": [
    "women = had_at_two_or_three_kids[had_at_two_or_three_kids.gender_ans == 1]\n",
    "df_w_had_twins = cohort_utils.compute_publication_trend(women[women.had_twins], -5, 10, adjusted=False)\n",
    "df_w_had_not_twins = cohort_utils.compute_publication_trend(women[~women.had_twins], -5, 10, adjusted=False)\n",
    "\n",
    "df_w_had_twins['had_twins'] = True\n",
    "df_w_had_not_twins['had_twins'] = False\n",
    "\n",
    "df_w_had_twins['cumulative'] = df_w_had_twins.groupby(['i'])['y'].cumsum()\n",
    "df_w_had_not_twins['cumulative'] = df_w_had_not_twins.groupby(['i'])['y'].cumsum()"
   ]
  },
  {
   "cell_type": "code",
   "execution_count": 88,
   "metadata": {},
   "outputs": [],
   "source": [
    "men = had_at_two_or_three_kids[had_at_two_or_three_kids.gender_ans == 2]\n",
    "df_m_had_twins = cohort_utils.compute_publication_trend(men[men.had_twins], -5, 10, adjusted=False)\n",
    "df_m_had_not_twins = cohort_utils.compute_publication_trend(men[~men.had_twins], -5, 10, adjusted=False)\n",
    "\n",
    "df_m_had_twins['had_twins'] = True\n",
    "df_m_had_not_twins['had_twins'] = False\n",
    "\n",
    "df_m_had_twins['cumulative'] = df_m_had_twins.groupby(['i'])['y'].cumsum()\n",
    "df_m_had_not_twins['cumulative'] = df_m_had_not_twins.groupby(['i'])['y'].cumsum()"
   ]
  },
  {
   "cell_type": "code",
   "execution_count": 89,
   "metadata": {},
   "outputs": [
    {
     "name": "stdout",
     "output_type": "stream",
     "text": [
      "('WOMEN', 4, 36.0, 60, 32.65) ('MEN', 16, 34.1875, 291, 32.63230240549828)\n"
     ]
    }
   ],
   "source": [
    "print(\n",
    "    ('WOMEN', len(df_w_had_twins['i'].unique()), df_w_had_twins[df_w_had_twins['t'] == 0]['age'].mean(), \n",
    "       len(df_w_had_not_twins['i'].unique()), df_w_had_not_twins[df_w_had_not_twins['t'] == 0]['age'].mean()), \n",
    "    ('MEN', len(df_m_had_twins['i'].unique()), df_m_had_twins[df_m_had_twins['t'] == 0]['age'].mean(),\n",
    "       len(df_m_had_not_twins['i'].unique()), df_m_had_not_twins[df_m_had_not_twins['t'] == 0]['age'].mean())\n",
    ")"
   ]
  },
  {
   "cell_type": "code",
   "execution_count": 90,
   "metadata": {},
   "outputs": [
    {
     "data": {
      "text/plain": [
       "34.55"
      ]
     },
     "execution_count": 90,
     "metadata": {},
     "output_type": "execute_result"
    }
   ],
   "source": [
    "ages = []\n",
    "ages.extend(df_w_had_twins[df_w_had_twins['t'] == 0]['age'].values)\n",
    "ages.extend(df_m_had_twins[df_m_had_twins['t'] == 0]['age'].values)\n",
    "np.mean(ages)"
   ]
  },
  {
   "cell_type": "code",
   "execution_count": 91,
   "metadata": {},
   "outputs": [
    {
     "data": {
      "text/plain": [
       "32.65"
      ]
     },
     "execution_count": 91,
     "metadata": {},
     "output_type": "execute_result"
    }
   ],
   "source": [
    "ages = []\n",
    "ages.extend(df_w_had_not_twins[df_w_had_not_twins['t'] == 0]['age'].values)\n",
    "ages.extend(df_w_had_not_twins[df_w_had_not_twins['t'] == 0]['age'].values)\n",
    "np.mean(ages)"
   ]
  },
  {
   "cell_type": "markdown",
   "metadata": {},
   "source": [
    "## House versus work hours"
   ]
  },
  {
   "cell_type": "code",
   "execution_count": 92,
   "metadata": {},
   "outputs": [],
   "source": [
    "df['house_hours_parsed'] = pd.to_numeric(df.househours, errors='coerce')"
   ]
  },
  {
   "cell_type": "code",
   "execution_count": 93,
   "metadata": {},
   "outputs": [
    {
     "name": "stdout",
     "output_type": "stream",
     "text": [
      "22.53244078269825 18.10919940328195\n"
     ]
    }
   ],
   "source": [
    "print(\n",
    "    df[(df.gender_ans == 1) & (df.house_hours_parsed > 0)].house_hours_parsed.mean(), \n",
    "    df[(df.gender_ans == 2) & (df.house_hours_parsed > 0)].house_hours_parsed.mean())"
   ]
  },
  {
   "cell_type": "code",
   "execution_count": 94,
   "metadata": {},
   "outputs": [
    {
     "name": "stdout",
     "output_type": "stream",
     "text": [
      "27.81159420289855 20.388\n"
     ]
    }
   ],
   "source": [
    "print(\n",
    "    df[(df.gender_ans == 1) & (df.house_hours_parsed > 0) & (df.children == 2)].house_hours_parsed.mean(), \n",
    "    df[(df.gender_ans == 2) & (df.house_hours_parsed > 0) & (df.children == 2)].house_hours_parsed.mean())"
   ]
  },
  {
   "cell_type": "code",
   "execution_count": 95,
   "metadata": {},
   "outputs": [
    {
     "data": {
      "text/plain": [
       "Ttest_indResult(statistic=10.671808567644215, pvalue=3.191716981056978e-25)"
      ]
     },
     "execution_count": 95,
     "metadata": {},
     "output_type": "execute_result"
    }
   ],
   "source": [
    "ttest_ind(\n",
    "    df[(df.gender_ans == 1) & (df.house_hours_parsed > 0) & (df.children == 2)].house_hours_parsed,\n",
    "    df[(df.gender_ans == 2) & (df.house_hours_parsed > 0) & (df.children == 2)].house_hours_parsed,\n",
    "    equal_var=False\n",
    ")"
   ]
  },
  {
   "cell_type": "code",
   "execution_count": 96,
   "metadata": {},
   "outputs": [],
   "source": [
    "df['work_hours_parsed'] = pd.to_numeric(df.workhours, errors='coerce')"
   ]
  },
  {
   "cell_type": "code",
   "execution_count": 97,
   "metadata": {},
   "outputs": [
    {
     "name": "stdout",
     "output_type": "stream",
     "text": [
      "51.34886128364389 51.33138116154222\n"
     ]
    }
   ],
   "source": [
    "print(\n",
    "    df[(df.gender_ans == 1) & (df.work_hours_parsed > 0)].work_hours_parsed.mean(),\n",
    "    df[(df.gender_ans == 2) & (df.work_hours_parsed > 0)].work_hours_parsed.mean())"
   ]
  },
  {
   "cell_type": "code",
   "execution_count": 98,
   "metadata": {},
   "outputs": [
    {
     "name": "stdout",
     "output_type": "stream",
     "text": [
      "49.13636363636363 50.318897637795274\n"
     ]
    }
   ],
   "source": [
    "print(\n",
    "    df[(df.gender_ans == 1) & (df.work_hours_parsed > 0) & (df.children == 2)].work_hours_parsed.mean(),\n",
    "    df[(df.gender_ans == 2) & (df.work_hours_parsed > 0) & (df.children == 2)].work_hours_parsed.mean())"
   ]
  },
  {
   "cell_type": "code",
   "execution_count": null,
   "metadata": {},
   "outputs": [],
   "source": []
  }
 ],
 "metadata": {
  "kernelspec": {
   "display_name": "Python 3",
   "language": "python",
   "name": "python3"
  },
  "language_info": {
   "codemirror_mode": {
    "name": "ipython",
    "version": 3
   },
   "file_extension": ".py",
   "mimetype": "text/x-python",
   "name": "python",
   "nbconvert_exporter": "python",
   "pygments_lexer": "ipython3",
   "version": "3.9.1"
  }
 },
 "nbformat": 4,
 "nbformat_minor": 2
}
