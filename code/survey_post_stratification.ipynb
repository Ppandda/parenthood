{
 "cells": [
  {
   "cell_type": "code",
   "execution_count": 1,
   "metadata": {},
   "outputs": [],
   "source": [
    "import matplotlib.pyplot as plt\n",
    "import pandas as pd\n",
    "import numpy as np\n",
    "import scipy.stats\n",
    "import csv\n",
    "\n",
    "from scipy import stats\n",
    "from collections import Counter\n",
    "from scripts import regression, plot_utils, cohort_utils\n",
    "from scripts.parse.institution_parser import INST_NAME_ALIASES\n",
    "from scipy.stats import mannwhitneyu, ks_2samp, chisquare, chi2_contingency, ttest_ind, ranksums\n",
    "from statsmodels.stats.proportion import proportions_ztest\n",
    "from scripts.load_data import load_all_faculty\n",
    "import statsmodels.formula.api as smf\n",
    "\n",
    "from matplotlib import rcParams\n",
    "rcParams['font.family'] = 'sans-serif'\n",
    "rcParams['font.sans-serif'] = ['Helvetica']\n",
    "\n",
    "color_mapping = {'CS': ('#5777D9', '#293866'), \n",
    "                 'Business': ('#CC3A35', '#661D1B'), \n",
    "                 'History': ('#8BCC60', '#466630')}\n",
    "\n",
    "%matplotlib inline"
   ]
  },
  {
   "cell_type": "code",
   "execution_count": 2,
   "metadata": {},
   "outputs": [
    {
     "name": "stdout",
     "output_type": "stream",
     "text": [
      "WARNING *** file size (1595918) not 512 + multiple of sector size (512)\n",
      "WARNING *** OLE2 inconsistency: SSCS size is 0 but SSAT size is non-zero\n"
     ]
    }
   ],
   "source": [
    "# Read in history, business and computer science survey frame files\n",
    "his_ids = pd.read_excel('../data/survey_data/his_busi_survey/HIS_intro_2018_10_22b_unlocked.xlsx')\n",
    "his_ids_more = pd.read_excel('../data/survey_data/his_busi_survey/HIS_allinvited_exceptheads.xls')\n",
    "\n",
    "his_frame = pd.concat([his_ids, his_ids_more], sort=False)"
   ]
  },
  {
   "cell_type": "code",
   "execution_count": 3,
   "metadata": {},
   "outputs": [
    {
     "name": "stdout",
     "output_type": "stream",
     "text": [
      "WARNING *** file size (3460610) not 512 + multiple of sector size (512)\n",
      "WARNING *** OLE2 inconsistency: SSCS size is 0 but SSAT size is non-zero\n"
     ]
    }
   ],
   "source": [
    "busi_ids = pd.read_excel('../data/survey_data/his_busi_survey/intro_sep2019_unlocked.xlsx')\n",
    "busi_ids_more = pd.read_excel('../data/survey_data/his_busi_survey/BUSI_participant_codes_send1.xls')\n",
    "\n",
    "bus_frame = pd.concat([busi_ids, busi_ids_more], sort=False)"
   ]
  },
  {
   "cell_type": "code",
   "execution_count": 4,
   "metadata": {},
   "outputs": [],
   "source": [
    "cs_frame = pd.read_csv(\"../data/survey_data/cs_survey/frame_feb5_2020.tsv\", sep='\\t', header=0)"
   ]
  },
  {
   "cell_type": "code",
   "execution_count": 5,
   "metadata": {},
   "outputs": [],
   "source": [
    "# Merge on departmental prestige. First, standardize university names\n",
    "his_frame['university_name_standard'] = his_frame['u_university'].apply(\n",
    "        lambda x: INST_NAME_ALIASES[x] if x in INST_NAME_ALIASES else x)\n",
    "bus_frame['university_name_standard'] = bus_frame['u_university'].apply(\n",
    "        lambda x: INST_NAME_ALIASES[x] if x in INST_NAME_ALIASES else x)\n",
    "cs_frame['university_name_standard'] = cs_frame['university'].apply(\n",
    "        lambda x: INST_NAME_ALIASES[x] if x in INST_NAME_ALIASES else x)"
   ]
  },
  {
   "cell_type": "code",
   "execution_count": 6,
   "metadata": {},
   "outputs": [],
   "source": [
    "# Extract prestige / ranking data\n",
    "PRESTIGE = '../data/survey_data/faculty_2011/%s_vertexlist.txt'\n",
    "for field, field_data in [('History', his_frame), ('Business', bus_frame), ('CS', cs_frame)]:\n",
    "    pi_rank_mapping = {}\n",
    "\n",
    "    with open(PRESTIGE % field) as rankings:\n",
    "\n",
    "        pi_reader = csv.DictReader(rankings, dialect='excel-tab')\n",
    "        for row in pi_reader:\n",
    "            pi_rank_mapping[row['institution']] = row\n",
    "\n",
    "\n",
    "        field_data['prestige_inv'] = field_data['university_name_standard'].apply(\n",
    "            lambda x: pi_rank_mapping[x]['pi'] if x in pi_rank_mapping else np.nan)\n",
    "        field_data['prestige_rank_inv'] = field_data['university_name_standard'].apply(\n",
    "            lambda x: pi_rank_mapping[x]['# u'] if x in pi_rank_mapping else np.nan)\n",
    "\n",
    "        field_data['prestige_inv'] = pd.to_numeric(field_data['prestige_inv'])\n",
    "        field_data['prestige_rank_inv'] = pd.to_numeric(field_data['prestige_rank_inv'])"
   ]
  },
  {
   "cell_type": "code",
   "execution_count": 7,
   "metadata": {},
   "outputs": [
    {
     "name": "stdout",
     "output_type": "stream",
     "text": [
      "WARNING *** file size (1595918) not 512 + multiple of sector size (512)\n",
      "WARNING *** OLE2 inconsistency: SSCS size is 0 but SSAT size is non-zero\n",
      "WARNING *** file size (3460610) not 512 + multiple of sector size (512)\n",
      "WARNING *** OLE2 inconsistency: SSCS size is 0 but SSAT size is non-zero\n"
     ]
    }
   ],
   "source": [
    "# Read in responses\n",
    "df = load_all_faculty()"
   ]
  },
  {
   "cell_type": "markdown",
   "metadata": {},
   "source": [
    "## Response rate"
   ]
  },
  {
   "cell_type": "code",
   "execution_count": 8,
   "metadata": {},
   "outputs": [
    {
     "data": {
      "text/plain": [
       "(1139, 1321, 992, 3452)"
      ]
     },
     "execution_count": 8,
     "metadata": {},
     "output_type": "execute_result"
    }
   ],
   "source": [
    "df[df.likely_department == 'Computer Science'].shape[0], \\\n",
    "df[df.likely_department == 'Business'].shape[0], \\\n",
    "df[df.likely_department == 'History'].shape[0], \\\n",
    "df.shape[0] # Total number of responses"
   ]
  },
  {
   "cell_type": "code",
   "execution_count": 9,
   "metadata": {},
   "outputs": [
    {
     "name": "stdout",
     "output_type": "stream",
     "text": [
      "5792 9573 4336\n"
     ]
    }
   ],
   "source": [
    "print(cs_frame.shape[0], bus_frame.shape[0], his_frame.shape[0])\n",
    "# print(len(cs_inv), len(busi_ids) + len(busi_ids_more), len(his_ids) + len(his_ids_more))"
   ]
  },
  {
   "cell_type": "code",
   "execution_count": 10,
   "metadata": {},
   "outputs": [
    {
     "data": {
      "text/plain": [
       "(200, 113, 140, 453)"
      ]
     },
     "execution_count": 10,
     "metadata": {},
     "output_type": "execute_result"
    }
   ],
   "source": [
    "# Total number of departments across the three fields\n",
    "len(df[df.likely_department == \"Computer Science\"].university_name_standard.dropna().unique()), \\\n",
    "len(df[df.likely_department == \"Business\"].university_name_standard.dropna().unique()), \\\n",
    "len(df[df.likely_department == \"History\"].university_name_standard.dropna().unique()), \\\n",
    "(200+113+140)"
   ]
  },
  {
   "cell_type": "code",
   "execution_count": 11,
   "metadata": {},
   "outputs": [
    {
     "data": {
      "text/plain": [
       "(200, 112, 138, 450)"
      ]
     },
     "execution_count": 11,
     "metadata": {},
     "output_type": "execute_result"
    }
   ],
   "source": [
    "# Among those who completed first page, total number of departments across the three fields\n",
    "completed_first_part = (df.children.isin([1.0,2.0]) & (df.gender_ans > 0) & (df.age_coded > 0))\n",
    "len(df[completed_first_part & (df.likely_department == \"Computer Science\")].university_name_standard.dropna().unique()), \\\n",
    "len(df[completed_first_part & (df.likely_department == \"Business\")].university_name_standard.dropna().unique()), \\\n",
    "len(df[completed_first_part & (df.likely_department == \"History\")].university_name_standard.dropna().unique()), \\\n",
    "(200+112+138)"
   ]
  },
  {
   "cell_type": "code",
   "execution_count": 12,
   "metadata": {},
   "outputs": [
    {
     "data": {
      "text/plain": [
       "0.1752195320034516"
      ]
     },
     "execution_count": 12,
     "metadata": {},
     "output_type": "execute_result"
    }
   ],
   "source": [
    "# Overall response rate (most generous interpretation)\n",
    "df.shape[0] / (len(cs_frame) + len(bus_frame) + len(his_frame))"
   ]
  },
  {
   "cell_type": "code",
   "execution_count": 13,
   "metadata": {},
   "outputs": [
    {
     "name": "stdout",
     "output_type": "stream",
     "text": [
      "CS: 19.6651 BUS: 13.7992 HIS: 22.8782\n"
     ]
    }
   ],
   "source": [
    "# Field response rate\n",
    "print(\n",
    "    'CS: %.4f' %  (100.0*df[df.likely_department == \"Computer Science\"].shape[0] / (len(cs_frame))),\n",
    "    'BUS: %.4f' % (100.0*df[df.likely_department == \"Business\"].shape[0] / (len(bus_frame))),\n",
    "    'HIS: %.4f' % (100.0*df[df.likely_department == \"History\"].shape[0] / (len(his_frame))),\n",
    ")"
   ]
  },
  {
   "cell_type": "code",
   "execution_count": 14,
   "metadata": {},
   "outputs": [
    {
     "data": {
      "text/plain": [
       "0.15552510024871835"
      ]
     },
     "execution_count": 14,
     "metadata": {},
     "output_type": "execute_result"
    }
   ],
   "source": [
    "# Overall response rate (stricer definition)\n",
    "df[df.children.isin([1.0,2.0]) & (df.gender_ans > 0) & (df.age_coded > 0)].shape[0] / \\\n",
    "(len(cs_frame) + len(bus_frame) + len(his_frame))"
   ]
  },
  {
   "cell_type": "code",
   "execution_count": 15,
   "metadata": {},
   "outputs": [
    {
     "name": "stdout",
     "output_type": "stream",
     "text": [
      "CS: 19.4406 BUS: 10.8639 HIS: 20.7103\n"
     ]
    }
   ],
   "source": [
    "# Field response rate\n",
    "print(\n",
    "    'CS: %.4f' %  (100.0*df[(df.likely_department == \"Computer Science\") &\n",
    "                      (df.children.isin([1.0,2.0]) & (df.gender_ans > 0) & (df.age_coded > 0))].shape[0] / \\\n",
    "                   (len(cs_frame))),\n",
    "    'BUS: %.4f' % (100.0*df[(df.likely_department == \"Business\") &\n",
    "                      (df.children.isin([1.0,2.0]) & (df.gender_ans > 0) & (df.age_coded > 0))].shape[0] / \\\n",
    "                   (len(bus_frame))),\n",
    "    'HIS: %.4f' % (100.0*df[(df.likely_department == \"History\")  &\n",
    "                      (df.children.isin([1.0,2.0]) & (df.gender_ans > 0) & (df.age_coded > 0))].shape[0] / \\\n",
    "                   (len(his_frame))),\n",
    ")"
   ]
  },
  {
   "cell_type": "code",
   "execution_count": 16,
   "metadata": {},
   "outputs": [
    {
     "name": "stdout",
     "output_type": "stream",
     "text": [
      "1139 1321 992\n"
     ]
    }
   ],
   "source": [
    "print(\n",
    "    df[df.likely_department == \"Computer Science\"].shape[0], \n",
    "    df[df.likely_department == \"Business\"].shape[0],\n",
    "    df[df.likely_department == \"History\"].shape[0])"
   ]
  },
  {
   "cell_type": "code",
   "execution_count": 17,
   "metadata": {},
   "outputs": [
    {
     "name": "stdout",
     "output_type": "stream",
     "text": [
      "1129 1050 898\n"
     ]
    }
   ],
   "source": [
    "print(\n",
    "    df[(df.likely_department == \"Computer Science\") & (df.gender_ans > 0)].shape[0], \n",
    "    df[(df.likely_department == \"Business\") & (df.gender_ans > 0)].shape[0],\n",
    "    df[(df.likely_department == \"History\") & (df.gender_ans > 0)].shape[0])"
   ]
  },
  {
   "cell_type": "markdown",
   "metadata": {},
   "source": [
    "### Response rate on year of selected questions"
   ]
  },
  {
   "cell_type": "code",
   "execution_count": 18,
   "metadata": {},
   "outputs": [
    {
     "name": "stdout",
     "output_type": "stream",
     "text": [
      "3452 1.0\n",
      "3444 0.9976825028968713\n"
     ]
    }
   ],
   "source": [
    "print(sum(df.consent == 1), sum(df.consent == 1)/len(df.consent))\n",
    "print(sum(df.tenured == 1), sum(df.tenured == 1)/len(df.tenured))"
   ]
  },
  {
   "cell_type": "code",
   "execution_count": 19,
   "metadata": {},
   "outputs": [
    {
     "name": "stdout",
     "output_type": "stream",
     "text": [
      "3074 0.8904982618771726\n"
     ]
    }
   ],
   "source": [
    "print(sum(df.age_coded > 0), sum(df.age_coded > 0)/len(df.age_coded)) # First page"
   ]
  },
  {
   "cell_type": "code",
   "execution_count": 20,
   "metadata": {},
   "outputs": [
    {
     "name": "stdout",
     "output_type": "stream",
     "text": [
      "3077 0.8913673232908459\n"
     ]
    }
   ],
   "source": [
    "print(sum(df.gender_ans > 0), sum(df.gender_ans > 0)/len(df.gender_ans)) # First page"
   ]
  },
  {
   "cell_type": "code",
   "execution_count": 21,
   "metadata": {},
   "outputs": [
    {
     "name": "stdout",
     "output_type": "stream",
     "text": [
      "3075 0.8907879490150638\n"
     ]
    }
   ],
   "source": [
    "print(sum(df.children.isin([1.0,2.0])), sum(df.children.isin([1.0,2.0]))/len(df.children)) # First page"
   ]
  },
  {
   "cell_type": "code",
   "execution_count": 22,
   "metadata": {},
   "outputs": [
    {
     "name": "stdout",
     "output_type": "stream",
     "text": [
      "3085 0.8936848203939745\n"
     ]
    }
   ],
   "source": [
    "# Completed any of the first page questions\n",
    "print(sum((df.children.isin([1.0,2.0]) | (df.gender_ans > 0) | (df.age_coded > 0))), # First page\n",
    "      sum((df.children.isin([1.0,2.0]) | (df.gender_ans > 0) | (df.age_coded > 0))) / len(df.consent)) "
   ]
  },
  {
   "cell_type": "code",
   "execution_count": 23,
   "metadata": {},
   "outputs": [
    {
     "name": "stdout",
     "output_type": "stream",
     "text": [
      "3064 0.8876013904982619\n"
     ]
    }
   ],
   "source": [
    "# Completed all of the first page questions\n",
    "print(sum((df.children.isin([1.0,2.0]) & (df.gender_ans > 0) & (df.age_coded > 0))), # First page\n",
    "      sum((df.children.isin([1.0,2.0]) & (df.gender_ans > 0) & (df.age_coded > 0))) / len(df.consent)) "
   ]
  },
  {
   "cell_type": "code",
   "execution_count": 24,
   "metadata": {},
   "outputs": [
    {
     "name": "stdout",
     "output_type": "stream",
     "text": [
      "2919 0.8455967555040557 0.9526762402088773\n"
     ]
    }
   ],
   "source": [
    "# Completed any of the second page\n",
    "print(sum((df.tenstop > 0) | (df.parleave_ideal > 0) | (df.parleave_neutral > 0)), \n",
    "      sum((df.tenstop > 0) | (df.parleave_ideal > 0) | (df.parleave_neutral > 0)) / len(df), \n",
    "      sum((df.tenstop > 0) | (df.parleave_ideal > 0) | (df.parleave_neutral > 0)) / \\\n",
    "      len(df[(df.children.isin([1.0,2.0]) & (df.gender_ans > 0) & (df.age_coded > 0))]))"
   ]
  },
  {
   "cell_type": "code",
   "execution_count": 25,
   "metadata": {},
   "outputs": [
    {
     "name": "stdout",
     "output_type": "stream",
     "text": [
      "0.49710312862108924 0.7853546910755149 1716 2185\n"
     ]
    }
   ],
   "source": [
    "print(sum(df.parleave_elig_child1 > 0) / len(df.parleave_elig_child1), # Second page\n",
    "      sum(df.parleave_elig_child1 > 0) / sum(df.children == 2.0), \n",
    "      sum(df.parleave_elig_child1 > 0), sum(df.children == 2.0))"
   ]
  },
  {
   "cell_type": "code",
   "execution_count": 26,
   "metadata": {},
   "outputs": [
    {
     "name": "stdout",
     "output_type": "stream",
     "text": [
      "0.7885283893395133 0.7885283893395133 0.8883812010443864 2722 3452\n"
     ]
    }
   ],
   "source": [
    "print(sum(df.aim_min >= 0) / len(df.aim_min), # Middle\n",
    "      sum(df.aim_min >= 0) / len(df.aim_min),\n",
    "      sum(df.aim_min >= 0) / len(df[(df.children.isin([1.0,2.0]) & (df.gender_ans > 0) & (df.age_coded > 0))]),\n",
    "      sum(df.aim_min >= 0), len(df.aim_min))"
   ]
  },
  {
   "cell_type": "code",
   "execution_count": 27,
   "metadata": {},
   "outputs": [
    {
     "name": "stdout",
     "output_type": "stream",
     "text": [
      "0.7320393974507532 0.8247389033942559 2527 3452\n"
     ]
    }
   ],
   "source": [
    "print(sum(df.injnorm_wchild >= 0) / len(df.injnorm_wchild), # Middle\n",
    "      sum(df.injnorm_wchild >= 0) / len(df[(df.children.isin([1.0,2.0]) & (df.gender_ans > 0) & (df.age_coded > 0))]),\n",
    "      sum(df.injnorm_wchild >= 0), len(df.injnorm_wchild))"
   ]
  },
  {
   "cell_type": "code",
   "execution_count": 28,
   "metadata": {},
   "outputs": [
    {
     "name": "stdout",
     "output_type": "stream",
     "text": [
      "0.7242178447276941 0.8159268929503917 2500 3452\n"
     ]
    }
   ],
   "source": [
    "print(sum(df.desnorm_wchild >= 0) / len(df.desnorm_wchild), # Middle\n",
    "      sum(df.desnorm_wchild >= 0) / len(df[(df.children.isin([1.0,2.0]) & (df.gender_ans > 0) & (df.age_coded > 0))]),\n",
    "      sum(df.desnorm_wchild >= 0), len(df.desnorm_wchild))"
   ]
  },
  {
   "cell_type": "code",
   "execution_count": 29,
   "metadata": {},
   "outputs": [
    {
     "name": "stdout",
     "output_type": "stream",
     "text": [
      "0.7891077636152954 0.8890339425587467 2724 3452\n"
     ]
    }
   ],
   "source": [
    "print(sum(df.current_parleave > 0) / len(df.current_parleave), # Last page\n",
    "      sum(df.current_parleave > 0) / len(df[(df.children.isin([1.0,2.0]) & (df.gender_ans > 0) & (df.age_coded > 0))]),\n",
    "      sum(df.current_parleave > 0), \n",
    "      len(df.current_parleave)\n",
    "     )"
   ]
  },
  {
   "cell_type": "markdown",
   "metadata": {},
   "source": [
    "## Total publications"
   ]
  },
  {
   "cell_type": "code",
   "execution_count": 30,
   "metadata": {},
   "outputs": [
    {
     "name": "stdout",
     "output_type": "stream",
     "text": [
      "100972\n"
     ]
    }
   ],
   "source": [
    "pub_count = 0\n",
    "for each in df['dblp_pubs'].dropna():\n",
    "    pub_count += len(each)\n",
    "print(pub_count)"
   ]
  },
  {
   "cell_type": "code",
   "execution_count": 31,
   "metadata": {},
   "outputs": [
    {
     "name": "stdout",
     "output_type": "stream",
     "text": [
      "525 1321 0.39742619227857684\n",
      "15352\n"
     ]
    }
   ],
   "source": [
    "print(len(df[df.likely_department == \"Business\"]['dblp_pubs'].dropna()), \n",
    "      len(df[df.likely_department == \"Business\"]['dblp_pubs']),\n",
    "      len(df[df.likely_department == \"Business\"]['dblp_pubs'].dropna()) / \\\n",
    "      len(df[df.likely_department == \"Business\"]['dblp_pubs']))\n",
    "pub_count = 0\n",
    "for each in df[df.likely_department == \"Business\"]['dblp_pubs'].dropna():\n",
    "    pub_count += len(each)\n",
    "print(pub_count)"
   ]
  },
  {
   "cell_type": "code",
   "execution_count": 32,
   "metadata": {},
   "outputs": [
    {
     "name": "stdout",
     "output_type": "stream",
     "text": [
      "294 992 0.2963709677419355\n",
      "6346\n"
     ]
    }
   ],
   "source": [
    "print(len(df[df.likely_department == \"History\"]['dblp_pubs'].dropna()),\n",
    "      len(df[df.likely_department == \"History\"]['dblp_pubs']),\n",
    "      len(df[df.likely_department == \"History\"]['dblp_pubs'].dropna()) / \\\n",
    "      len(df[df.likely_department == \"History\"]['dblp_pubs']))\n",
    "pub_count = 0\n",
    "for each in df[df.likely_department == \"History\"]['dblp_pubs'].dropna():\n",
    "    pub_count += len(each)\n",
    "print(pub_count)"
   ]
  },
  {
   "cell_type": "code",
   "execution_count": 33,
   "metadata": {},
   "outputs": [
    {
     "name": "stdout",
     "output_type": "stream",
     "text": [
      "1061 1139 0.9315188762071993\n",
      "79274\n"
     ]
    }
   ],
   "source": [
    "print(len(df[df.likely_department == \"Computer Science\"]['dblp_pubs'].dropna()),\n",
    "      len(df[df.likely_department == \"Computer Science\"]['dblp_pubs']),\n",
    "      len(df[df.likely_department == \"Computer Science\"]['dblp_pubs'].dropna()) / \\\n",
    "      len(df[df.likely_department == \"Computer Science\"]['dblp_pubs']))\n",
    "pub_count = 0\n",
    "for each in df[df.likely_department == \"Computer Science\"]['dblp_pubs'].dropna():\n",
    "    pub_count += len(each)\n",
    "print(pub_count)"
   ]
  },
  {
   "cell_type": "markdown",
   "metadata": {},
   "source": [
    "### Sample publications by gender and parenthood status"
   ]
  },
  {
   "cell_type": "code",
   "execution_count": 34,
   "metadata": {},
   "outputs": [],
   "source": [
    "# Record information about publication type and authorship position for random samples by field"
   ]
  },
  {
   "cell_type": "code",
   "execution_count": 35,
   "metadata": {},
   "outputs": [],
   "source": [
    "# women_in_cs_pubs = df[(df.likely_department == \"Computer Science\") & (df.gender_ans == 1) &\n",
    "#                       (df.dblp_pubs.notna())][['dblp_pubs', 'sid', 'likely_department', 'name', \n",
    "#                                                'gender_ans']].sample(10)\n",
    "# men_in_cs_pubs = df[(df.likely_department == \"Computer Science\") & (df.gender_ans == 2) &\n",
    "#                     (df.dblp_pubs.notna())][['dblp_pubs', 'sid', 'likely_department', 'name',\n",
    "#                                              'gender_ans']].sample(10)\n",
    "\n",
    "# women_in_bus_pubs = df[(df.likely_department == \"Business\") & (df.gender_ans == 1) &\n",
    "#                        (df.dblp_pubs.notna())][['dblp_pubs', 'sid', 'likely_department', 'name',\n",
    "#                                                 'gender_ans']].sample(10)\n",
    "# men_in_bus_pubs = df[(df.likely_department == \"Business\") & (df.gender_ans == 2) &\n",
    "#                      (df.dblp_pubs.notna())][['dblp_pubs', 'sid', 'likely_department', 'name',\n",
    "#                                               'gender_ans']].sample(10)\n",
    "\n",
    "# women_in_his_pubs = df[(df.likely_department == \"History\") & (df.gender_ans == 1) &\n",
    "#                        (df.dblp_pubs.notna())][['dblp_pubs', 'sid', 'likely_department', 'name',\n",
    "#                                                 'gender_ans']].sample(10)\n",
    "# men_in_his_pubs = df[(df.likely_department == \"History\") & (df.gender_ans == 2) &\n",
    "#                      (df.dblp_pubs.notna())][['dblp_pubs', 'sid', 'likely_department', 'name',\n",
    "#                                               'gender_ans']].sample(10)\n",
    "\n",
    "# pd.concat([women_in_cs_pubs, men_in_cs_pubs, women_in_bus_pubs, men_in_bus_pubs, women_in_his_pubs, \n",
    "#            men_in_his_pubs], sort=False, axis=0).to_csv('../data/survey_data/pub_validation/pub_sample.csv')"
   ]
  },
  {
   "cell_type": "code",
   "execution_count": 36,
   "metadata": {},
   "outputs": [
    {
     "data": {
      "text/plain": [
       "likely_department  gender_ans\n",
       "Business           1             10\n",
       "                   2             10\n",
       "Computer Science   1             10\n",
       "                   2             10\n",
       "History            1             10\n",
       "                   2             10\n",
       "Name: gender_ans, dtype: int64"
      ]
     },
     "execution_count": 36,
     "metadata": {},
     "output_type": "execute_result"
    }
   ],
   "source": [
    "pub_validation = pd.read_csv('../data/survey_data/pub_validation/pub_sample_annotated.csv')\n",
    "pub_validation.groupby(['likely_department', 'gender_ans'])['gender_ans'].count()"
   ]
  },
  {
   "cell_type": "code",
   "execution_count": 37,
   "metadata": {},
   "outputs": [],
   "source": [
    "pub_validation_props = pub_validation.copy()\n",
    "\n",
    "gender_ans_mapping = {2: 'Men', 1: 'Women'}\n",
    "pub_validation_props['gender_ans'] = pub_validation_props['gender_ans'].apply(lambda x: gender_ans_mapping[x])\n",
    "pub_validation_props[['book_prop', 'proceedings_prop', 'chapters_prop', 'journal_prop']] = \\\n",
    "pub_validation_props[['book_count', 'proceedings_count', \n",
    "                      'chapters_count', 'journal_count']].divide(pub_validation_props['total_pub_count'], \n",
    "                                                                 axis=0)"
   ]
  },
  {
   "cell_type": "code",
   "execution_count": 38,
   "metadata": {},
   "outputs": [
    {
     "data": {
      "text/plain": [
       "likely_department  gender_ans\n",
       "Business           Men           263\n",
       "                   Women         158\n",
       "Computer Science   Men           685\n",
       "                   Women         662\n",
       "History            Men           223\n",
       "                   Women         408\n",
       "Name: total_pub_count, dtype: int64"
      ]
     },
     "execution_count": 38,
     "metadata": {},
     "output_type": "execute_result"
    }
   ],
   "source": [
    "pub_validation_props.groupby(['likely_department', 'gender_ans'])['total_pub_count'].sum()"
   ]
  },
  {
   "cell_type": "code",
   "execution_count": 39,
   "metadata": {},
   "outputs": [
    {
     "data": {
      "text/plain": [
       "2399"
      ]
     },
     "execution_count": 39,
     "metadata": {},
     "output_type": "execute_result"
    }
   ],
   "source": [
    "pub_validation_props.groupby(['likely_department', 'gender_ans'])['total_pub_count'].sum().sum()"
   ]
  },
  {
   "cell_type": "code",
   "execution_count": 40,
   "metadata": {},
   "outputs": [
    {
     "data": {
      "text/html": [
       "<div>\n",
       "<style scoped>\n",
       "    .dataframe tbody tr th:only-of-type {\n",
       "        vertical-align: middle;\n",
       "    }\n",
       "\n",
       "    .dataframe tbody tr th {\n",
       "        vertical-align: top;\n",
       "    }\n",
       "\n",
       "    .dataframe thead th {\n",
       "        text-align: right;\n",
       "    }\n",
       "</style>\n",
       "<table border=\"1\" class=\"dataframe\">\n",
       "  <thead>\n",
       "    <tr style=\"text-align: right;\">\n",
       "      <th></th>\n",
       "      <th></th>\n",
       "      <th>book_prop</th>\n",
       "      <th>proceedings_prop</th>\n",
       "      <th>chapters_prop</th>\n",
       "      <th>journal_prop</th>\n",
       "    </tr>\n",
       "    <tr>\n",
       "      <th>likely_department</th>\n",
       "      <th>gender_ans</th>\n",
       "      <th></th>\n",
       "      <th></th>\n",
       "      <th></th>\n",
       "      <th></th>\n",
       "    </tr>\n",
       "  </thead>\n",
       "  <tbody>\n",
       "    <tr>\n",
       "      <th rowspan=\"2\" valign=\"top\">Business</th>\n",
       "      <th>Men</th>\n",
       "      <td>0.645161</td>\n",
       "      <td>0.000000</td>\n",
       "      <td>6.894935</td>\n",
       "      <td>92.459904</td>\n",
       "    </tr>\n",
       "    <tr>\n",
       "      <th>Women</th>\n",
       "      <td>0.333333</td>\n",
       "      <td>0.000000</td>\n",
       "      <td>7.972222</td>\n",
       "      <td>91.694444</td>\n",
       "    </tr>\n",
       "    <tr>\n",
       "      <th rowspan=\"2\" valign=\"top\">Computer Science</th>\n",
       "      <th>Men</th>\n",
       "      <td>0.000000</td>\n",
       "      <td>68.112042</td>\n",
       "      <td>0.000000</td>\n",
       "      <td>31.887958</td>\n",
       "    </tr>\n",
       "    <tr>\n",
       "      <th>Women</th>\n",
       "      <td>0.000000</td>\n",
       "      <td>73.318833</td>\n",
       "      <td>0.000000</td>\n",
       "      <td>26.681167</td>\n",
       "    </tr>\n",
       "    <tr>\n",
       "      <th rowspan=\"2\" valign=\"top\">History</th>\n",
       "      <th>Men</th>\n",
       "      <td>17.563973</td>\n",
       "      <td>0.000000</td>\n",
       "      <td>38.793732</td>\n",
       "      <td>43.642295</td>\n",
       "    </tr>\n",
       "    <tr>\n",
       "      <th>Women</th>\n",
       "      <td>12.053450</td>\n",
       "      <td>0.000000</td>\n",
       "      <td>37.373153</td>\n",
       "      <td>50.573396</td>\n",
       "    </tr>\n",
       "  </tbody>\n",
       "</table>\n",
       "</div>"
      ],
      "text/plain": [
       "                              book_prop  proceedings_prop  chapters_prop  \\\n",
       "likely_department gender_ans                                               \n",
       "Business          Men          0.645161          0.000000       6.894935   \n",
       "                  Women        0.333333          0.000000       7.972222   \n",
       "Computer Science  Men          0.000000         68.112042       0.000000   \n",
       "                  Women        0.000000         73.318833       0.000000   \n",
       "History           Men         17.563973          0.000000      38.793732   \n",
       "                  Women       12.053450          0.000000      37.373153   \n",
       "\n",
       "                              journal_prop  \n",
       "likely_department gender_ans                \n",
       "Business          Men            92.459904  \n",
       "                  Women          91.694444  \n",
       "Computer Science  Men            31.887958  \n",
       "                  Women          26.681167  \n",
       "History           Men            43.642295  \n",
       "                  Women          50.573396  "
      ]
     },
     "execution_count": 40,
     "metadata": {},
     "output_type": "execute_result"
    }
   ],
   "source": [
    "pub_validation_props[['likely_department', 'gender_ans', 'book_prop', 'proceedings_prop', 'chapters_prop',\n",
    "                       'journal_prop']].groupby(['likely_department', 'gender_ans']).mean()*100"
   ]
  },
  {
   "cell_type": "code",
   "execution_count": 41,
   "metadata": {},
   "outputs": [
    {
     "name": "stdout",
     "output_type": "stream",
     "text": [
      "0.0018061667050095344 0.9990973243045407 2 [[0.00489247 0.07433579 0.92077174]\n",
      " [0.00489247 0.07433579 0.92077174]]\n",
      "0.015616605602199197 0.9922221028050227 2 [[0.14808711 0.38083443 0.47107846]\n",
      " [0.14808711 0.38083443 0.47107846]]\n",
      "0.00654571949403767 0.9355170097868151 1 [[0.70715437 0.29284563]\n",
      " [0.70715437 0.29284563]]\n"
     ]
    }
   ],
   "source": [
    "temp = pub_validation_props[['likely_department', 'gender_ans', 'book_prop', \n",
    "                             'proceedings_prop', 'chapters_prop', \n",
    "                             'journal_prop']].groupby(['likely_department', 'gender_ans']).mean()\n",
    "\n",
    "# Business\n",
    "bus_men = temp.loc[('Business', 'Men')]; bus_women = temp.loc[('Business', 'Women')]\n",
    "obs = np.array([\n",
    "    [bus_men['book_prop'], bus_men['chapters_prop'], bus_men['journal_prop']],\n",
    "    [bus_women['book_prop'], bus_women['chapters_prop'], bus_women['journal_prop']]])\n",
    "\n",
    "chi2, p, dof, expected = chi2_contingency(obs, correction = False)\n",
    "print(chi2, p, dof, expected)\n",
    "\n",
    "# History\n",
    "bus_men = temp.loc[('History', 'Men')]; bus_women = temp.loc[('History', 'Women')]\n",
    "obs = np.array([\n",
    "    [bus_men['book_prop'], bus_men['chapters_prop'], bus_men['journal_prop']],\n",
    "    [bus_women['book_prop'], bus_women['chapters_prop'], bus_women['journal_prop']]])\n",
    "\n",
    "chi2, p, dof, expected = chi2_contingency(obs, correction = False)\n",
    "print(chi2, p, dof, expected)\n",
    "\n",
    "# CS\n",
    "bus_men = temp.loc[('Computer Science', 'Men')]; bus_women = temp.loc[('Computer Science', 'Women')]\n",
    "obs = np.array([\n",
    "    [bus_men['proceedings_prop'], bus_men['journal_prop']],\n",
    "    [bus_women['proceedings_prop'], bus_women['journal_prop']]])\n",
    "\n",
    "chi2, p, dof, expected = chi2_contingency(obs, correction = False)\n",
    "print(chi2, p, dof, expected)"
   ]
  },
  {
   "cell_type": "code",
   "execution_count": 42,
   "metadata": {},
   "outputs": [
    {
     "data": {
      "text/html": [
       "<div>\n",
       "<style scoped>\n",
       "    .dataframe tbody tr th:only-of-type {\n",
       "        vertical-align: middle;\n",
       "    }\n",
       "\n",
       "    .dataframe tbody tr th {\n",
       "        vertical-align: top;\n",
       "    }\n",
       "\n",
       "    .dataframe thead th {\n",
       "        text-align: right;\n",
       "    }\n",
       "</style>\n",
       "<table border=\"1\" class=\"dataframe\">\n",
       "  <thead>\n",
       "    <tr style=\"text-align: right;\">\n",
       "      <th></th>\n",
       "      <th></th>\n",
       "      <th>avg_num_authors</th>\n",
       "    </tr>\n",
       "    <tr>\n",
       "      <th>likely_department</th>\n",
       "      <th>gender_ans</th>\n",
       "      <th></th>\n",
       "    </tr>\n",
       "  </thead>\n",
       "  <tbody>\n",
       "    <tr>\n",
       "      <th rowspan=\"2\" valign=\"top\">Business</th>\n",
       "      <th>Men</th>\n",
       "      <td>2.516762</td>\n",
       "    </tr>\n",
       "    <tr>\n",
       "      <th>Women</th>\n",
       "      <td>3.089461</td>\n",
       "    </tr>\n",
       "    <tr>\n",
       "      <th rowspan=\"2\" valign=\"top\">Computer Science</th>\n",
       "      <th>Men</th>\n",
       "      <td>3.672987</td>\n",
       "    </tr>\n",
       "    <tr>\n",
       "      <th>Women</th>\n",
       "      <td>4.257894</td>\n",
       "    </tr>\n",
       "    <tr>\n",
       "      <th rowspan=\"2\" valign=\"top\">History</th>\n",
       "      <th>Men</th>\n",
       "      <td>1.103673</td>\n",
       "    </tr>\n",
       "    <tr>\n",
       "      <th>Women</th>\n",
       "      <td>1.304378</td>\n",
       "    </tr>\n",
       "  </tbody>\n",
       "</table>\n",
       "</div>"
      ],
      "text/plain": [
       "                              avg_num_authors\n",
       "likely_department gender_ans                 \n",
       "Business          Men                2.516762\n",
       "                  Women              3.089461\n",
       "Computer Science  Men                3.672987\n",
       "                  Women              4.257894\n",
       "History           Men                1.103673\n",
       "                  Women              1.304378"
      ]
     },
     "execution_count": 42,
     "metadata": {},
     "output_type": "execute_result"
    }
   ],
   "source": [
    "pub_validation_props[['likely_department', 'gender_ans', \n",
    "                      'avg_num_authors']].groupby(['likely_department', 'gender_ans']).mean()"
   ]
  },
  {
   "cell_type": "code",
   "execution_count": 43,
   "metadata": {},
   "outputs": [
    {
     "data": {
      "text/html": [
       "<div>\n",
       "<style scoped>\n",
       "    .dataframe tbody tr th:only-of-type {\n",
       "        vertical-align: middle;\n",
       "    }\n",
       "\n",
       "    .dataframe tbody tr th {\n",
       "        vertical-align: top;\n",
       "    }\n",
       "\n",
       "    .dataframe thead th {\n",
       "        text-align: right;\n",
       "    }\n",
       "</style>\n",
       "<table border=\"1\" class=\"dataframe\">\n",
       "  <thead>\n",
       "    <tr style=\"text-align: right;\">\n",
       "      <th></th>\n",
       "      <th></th>\n",
       "      <th>avg_num_authors</th>\n",
       "    </tr>\n",
       "    <tr>\n",
       "      <th>likely_department</th>\n",
       "      <th>gender_ans</th>\n",
       "      <th></th>\n",
       "    </tr>\n",
       "  </thead>\n",
       "  <tbody>\n",
       "    <tr>\n",
       "      <th rowspan=\"2\" valign=\"top\">Business</th>\n",
       "      <th>Men</th>\n",
       "      <td>0.610909</td>\n",
       "    </tr>\n",
       "    <tr>\n",
       "      <th>Women</th>\n",
       "      <td>1.401910</td>\n",
       "    </tr>\n",
       "    <tr>\n",
       "      <th rowspan=\"2\" valign=\"top\">Computer Science</th>\n",
       "      <th>Men</th>\n",
       "      <td>0.865370</td>\n",
       "    </tr>\n",
       "    <tr>\n",
       "      <th>Women</th>\n",
       "      <td>1.339294</td>\n",
       "    </tr>\n",
       "    <tr>\n",
       "      <th rowspan=\"2\" valign=\"top\">History</th>\n",
       "      <th>Men</th>\n",
       "      <td>0.188325</td>\n",
       "    </tr>\n",
       "    <tr>\n",
       "      <th>Women</th>\n",
       "      <td>0.547665</td>\n",
       "    </tr>\n",
       "  </tbody>\n",
       "</table>\n",
       "</div>"
      ],
      "text/plain": [
       "                              avg_num_authors\n",
       "likely_department gender_ans                 \n",
       "Business          Men                0.610909\n",
       "                  Women              1.401910\n",
       "Computer Science  Men                0.865370\n",
       "                  Women              1.339294\n",
       "History           Men                0.188325\n",
       "                  Women              0.547665"
      ]
     },
     "execution_count": 43,
     "metadata": {},
     "output_type": "execute_result"
    }
   ],
   "source": [
    "pub_validation_props[['likely_department', 'gender_ans', \n",
    "                      'avg_num_authors']].groupby(['likely_department', 'gender_ans']).std()"
   ]
  },
  {
   "cell_type": "code",
   "execution_count": 44,
   "metadata": {},
   "outputs": [],
   "source": [
    "# pub_validation.groupby(['likely_department', 'gender_ans'])[['book_count', 'proceedings_count', \n",
    "#    'chapters_count', 'journal_count', 'avg_num_authors']].mean()"
   ]
  },
  {
   "cell_type": "markdown",
   "metadata": {},
   "source": [
    "## Use Genderize.io to classify the genders of survey frame"
   ]
  },
  {
   "cell_type": "code",
   "execution_count": 45,
   "metadata": {},
   "outputs": [],
   "source": [
    "# cs_frame[['name']].to_csv('cs_frame_names.tsv', index=False)\n",
    "# his_frame[['u_name', 'firstname', 'lastname']].to_csv('his_frame_names.tsv', index=False)\n",
    "# bus_frame[['u_name', 'firstname', 'lastname']].to_csv('bus_frame_names.tsv', index=False)"
   ]
  },
  {
   "cell_type": "code",
   "execution_count": 46,
   "metadata": {},
   "outputs": [],
   "source": [
    "cs_frame['genderize'] = pd.read_csv('../data/survey_data/gender_frame/cs_frame_name_genderize.tsv').values"
   ]
  },
  {
   "cell_type": "code",
   "execution_count": 47,
   "metadata": {},
   "outputs": [
    {
     "name": "stdout",
     "output_type": "stream",
     "text": [
      "(1139, 466)\n",
      "gender_ans    1    2\n",
      "genderize           \n",
      "female      156    2\n",
      "male          9  716\n",
      "0.9875424688561721 0.9454545454545454 0.9972144846796658\n"
     ]
    }
   ],
   "source": [
    "temp = df[df.likely_department == 'Computer Science'].merge(\n",
    "    cs_frame, left_on='sid', right_on='survey sid', suffixes=('_ans', '_inv'))\n",
    "print(temp.shape)\n",
    "print(pd.crosstab(temp[temp.gender_ans.isin([1,2]) & (temp.genderize != 'unclear')]['genderize'], \n",
    "                  temp[(temp.gender_ans.isin([1,2])) & (temp.genderize != 'unclear')]['gender_ans']))\n",
    "print((156+716)/(156+716+9+2), (156)/(156+9), (716)/(716+2))"
   ]
  },
  {
   "cell_type": "code",
   "execution_count": 48,
   "metadata": {},
   "outputs": [],
   "source": [
    "his_frame['genderize'] = pd.read_csv('../data/survey_data/gender_frame/his_frame_name_genderize.tsv').values"
   ]
  },
  {
   "cell_type": "code",
   "execution_count": 49,
   "metadata": {},
   "outputs": [
    {
     "name": "stdout",
     "output_type": "stream",
     "text": [
      "(992, 502)\n",
      "gender_ans    1    2\n",
      "genderize           \n",
      "female      324    3\n",
      "male          5  411\n",
      "0.9892328398384926 0.9848024316109423 0.9927536231884058\n"
     ]
    }
   ],
   "source": [
    "temp = pd.concat([\n",
    "    df[df.likely_department == 'History'].merge(\n",
    "        his_frame, left_on='pid', right_on='code', how='inner'),\n",
    "    df[df.likely_department == 'History'].merge(\n",
    "        his_frame, left_on='pid', right_on='session_id', how='inner')]).copy(deep=True).reset_index()\n",
    "print(temp.shape)\n",
    "print(pd.crosstab(temp[temp.gender_ans.isin([1,2]) & (temp.genderize != 'unclear')]['genderize'], \n",
    "                  temp[temp.gender_ans.isin([1,2]) & (temp.genderize != 'unclear')]['gender_ans']))\n",
    "print((324+411)/(324+411+3+5), (324)/(324+5), (411)/(411+3))"
   ]
  },
  {
   "cell_type": "code",
   "execution_count": 50,
   "metadata": {},
   "outputs": [],
   "source": [
    "bus_frame['genderize'] = pd.read_csv('../data/survey_data/gender_frame/bus_frame_name_genderize.tsv').values"
   ]
  },
  {
   "cell_type": "code",
   "execution_count": 51,
   "metadata": {},
   "outputs": [
    {
     "name": "stdout",
     "output_type": "stream",
     "text": [
      "(1321, 502)\n",
      "gender_ans    1    2\n",
      "genderize           \n",
      "female      230    2\n",
      "male         11  589\n",
      "0.984375 0.9543568464730291 0.9966159052453468\n"
     ]
    }
   ],
   "source": [
    "temp = pd.concat([\n",
    "    df[df.likely_department == 'Business'].merge(\n",
    "        bus_frame, left_on='pid', right_on='code', how='inner'),\n",
    "    df[df.likely_department == 'Business'].merge(\n",
    "        bus_frame, left_on='pid', right_on='session_id', how='inner')]).copy(deep=True).reset_index()\n",
    "print(temp.shape)\n",
    "print(pd.crosstab(temp[(temp.gender_ans.isin([1,2])) & (temp.genderize != 'unclear')]['genderize'], \n",
    "                  temp[(temp.gender_ans.isin([1,2])) & (temp.genderize != 'unclear')]['gender_ans']))\n",
    "print((230+589)/(230+589+11+2), (230)/(230+11), (589)/(589+2))"
   ]
  },
  {
   "cell_type": "code",
   "execution_count": 52,
   "metadata": {},
   "outputs": [
    {
     "name": "stdout",
     "output_type": "stream",
     "text": [
      "(3452, 3)\n",
      "gender_ans    1     2\n",
      "genderize            \n",
      "female      710     7\n",
      "male         25  1716\n",
      "0.9869812855980472 0.9659863945578231 0.995937318630296\n"
     ]
    }
   ],
   "source": [
    "# Overall accuracy\n",
    "temp = pd.concat([\n",
    "    df[df.likely_department == 'Computer Science'].merge(\n",
    "        cs_frame, left_on='sid', right_on='survey sid', \n",
    "        suffixes=('_ans', '_inv'), \n",
    "        how='inner')[['gender_ans', 'genderize']],\n",
    "    df[df.likely_department == 'History'].merge(\n",
    "        his_frame, left_on='pid', right_on='code', \n",
    "        how='inner')[['gender_ans', 'genderize']],\n",
    "    df[df.likely_department == 'History'].merge(\n",
    "        his_frame, left_on='pid', right_on='session_id', \n",
    "        how='inner')[['gender_ans', 'genderize']],\n",
    "    df[df.likely_department == 'Business'].merge(\n",
    "        bus_frame, left_on='pid', right_on='code', \n",
    "        how='inner')[['gender_ans', 'genderize']],\n",
    "    df[df.likely_department == 'Business'].merge(\n",
    "        bus_frame, left_on='pid', right_on='session_id', \n",
    "        how='inner')[['gender_ans', 'genderize']]], axis=0).copy(deep=True).reset_index()\n",
    "\n",
    "print(temp.shape)\n",
    "print(pd.crosstab(temp[(temp.gender_ans.isin([1,2])) & (temp.genderize != 'unclear')]['genderize'], \n",
    "                  temp[(temp.gender_ans.isin([1,2])) & (temp.genderize != 'unclear')]['gender_ans']))\n",
    "print((710+1716)/(1716+710+7+25), (710)/(710+25), (1716)/(1716+7))"
   ]
  },
  {
   "cell_type": "code",
   "execution_count": 53,
   "metadata": {},
   "outputs": [
    {
     "data": {
      "text/plain": [
       "male       0.567788\n",
       "unclear    0.249835\n",
       "female     0.182377\n",
       "Name: genderize, dtype: float64"
      ]
     },
     "execution_count": 53,
     "metadata": {},
     "output_type": "execute_result"
    }
   ],
   "source": [
    "pd.concat([cs_frame['genderize'], his_frame['genderize'], bus_frame['genderize']]).value_counts(normalize=True)"
   ]
  },
  {
   "cell_type": "markdown",
   "metadata": {},
   "source": [
    "## Representativeness among survey respondents"
   ]
  },
  {
   "cell_type": "code",
   "execution_count": 54,
   "metadata": {},
   "outputs": [],
   "source": [
    "completed_first_part = (df.children.isin([1.0,2.0]) & (df.gender_ans > 0) & (df.age_coded > 0))"
   ]
  },
  {
   "cell_type": "markdown",
   "metadata": {},
   "source": [
    "#### Computer Science"
   ]
  },
  {
   "cell_type": "code",
   "execution_count": 55,
   "metadata": {},
   "outputs": [],
   "source": [
    "cs_faculty = (df.likely_department == \"Computer Science\")"
   ]
  },
  {
   "cell_type": "code",
   "execution_count": 56,
   "metadata": {},
   "outputs": [
    {
     "name": "stdout",
     "output_type": "stream",
     "text": [
      "{'male': 0.8545497969906855, 'female': 0.14545020300931455}\n",
      "{2: 0.7868561278863233, 1: 0.20515097690941386, 4: 0.007104795737122558, 3: 0.0008880994671403197}\n",
      "(24.902228024976882, 6.031267966832184e-07, 1, array([[3523.90045249,  663.09954751],\n",
      "       [ 940.09954751,  176.90045249]]))\n"
     ]
    }
   ],
   "source": [
    "# Gender -- M (2) / F (1)\n",
    "frame_dist = dict(cs_frame[cs_frame.genderize.isin(['male', 'female'])].genderize.value_counts(normalize=True))\n",
    "resp_dist = dict(df[completed_first_part & cs_faculty].gender_ans.value_counts(normalize=True))                \n",
    "                  \n",
    "print(frame_dist) # Frame            \n",
    "print(resp_dist)  # Responses\n",
    "\n",
    "obs = np.array([[len(cs_frame[cs_frame.genderize == 'male']), \n",
    "                 len(cs_frame[cs_frame.genderize == 'female'])], \n",
    "                [len(df[completed_first_part & cs_faculty & (df.gender_ans == 2)]), \n",
    "                 len(df[completed_first_part & cs_faculty & (df.gender_ans == 1)])]])\n",
    "\n",
    "print(stats.chi2_contingency(obs, correction=False))"
   ]
  },
  {
   "cell_type": "code",
   "execution_count": 57,
   "metadata": {},
   "outputs": [
    {
     "name": "stdout",
     "output_type": "stream",
     "text": [
      "{3: 0.5029887482419128, 2: 0.26828410689170185, 1: 0.22872714486638537}\n",
      "{3.0: 0.4715808170515098, 1.0: 0.2921847246891652, 2.0: 0.23623445825932504}\n",
      "21.356375260874213 2.304209884834833e-05 2 [[2831.47872028 1495.87555034 1360.64572938]\n",
      " [ 560.52127972  296.12444966  269.35427062]]\n"
     ]
    }
   ],
   "source": [
    "# Rank -- 3: full professor, 2: associate professor, 1: full professor\n",
    "frame_dist = dict(cs_frame[cs_frame.factitle.isin([1, 2, 3])].factitle.value_counts(normalize=False))\n",
    "resp_dist = dict(df[completed_first_part & cs_faculty].factitle.value_counts(normalize=False))\n",
    "\n",
    "print(dict(cs_frame[cs_frame.factitle.isin([1, 2, 3])].factitle.value_counts(normalize=True))) # Frame\n",
    "print(dict(df[completed_first_part & cs_faculty].factitle.value_counts(normalize=True))) # Responses\n",
    "\n",
    "obs = np.array([[frame_dist[3], frame_dist[2], frame_dist[1]],\n",
    "                [resp_dist[3],  resp_dist[2],  resp_dist[1]]])\n",
    "\n",
    "chi2, p, dof, expected = chi2_contingency(obs, correction = False)\n",
    "print(chi2, p, dof, expected)"
   ]
  },
  {
   "cell_type": "code",
   "execution_count": 58,
   "metadata": {},
   "outputs": [
    {
     "name": "stdout",
     "output_type": "stream",
     "text": [
      "86.52224352331606 54.10902176186857\n",
      "86.14853333333333 53.970120228449645\n",
      "KstestResult(statistic=0.02373747841105354, pvalue=0.6530227179334973)\n"
     ]
    }
   ],
   "source": [
    "print(cs_frame.prestige.mean(), cs_frame.prestige.std())\n",
    "print(df[completed_first_part & cs_faculty].prestige_inv.mean(), \n",
    "      df[completed_first_part & cs_faculty].prestige_inv.std())\n",
    "\n",
    "print(ks_2samp(cs_frame.prestige.dropna(), \n",
    "               df[completed_first_part & cs_faculty].prestige_inv.dropna()))"
   ]
  },
  {
   "cell_type": "markdown",
   "metadata": {},
   "source": [
    "#### Business"
   ]
  },
  {
   "cell_type": "code",
   "execution_count": 59,
   "metadata": {},
   "outputs": [],
   "source": [
    "business_faculty = (df.likely_department == \"Business\")"
   ]
  },
  {
   "cell_type": "code",
   "execution_count": 60,
   "metadata": {},
   "outputs": [
    {
     "name": "stdout",
     "output_type": "stream",
     "text": [
      "{'male': 0.7645220849311177, 'female': 0.23547791506888227}\n",
      "{2: 0.6701923076923076, 1: 0.3211538461538462, 4: 0.007692307692307693, 3: 0.0009615384615384616}\n",
      "(37.87613580408626, 7.538171202230037e-10, 1, array([[5303.42913776, 1737.57086224],\n",
      "       [ 776.57086224,  254.42913776]]))\n"
     ]
    }
   ],
   "source": [
    "# Gender -- M (2) / F (1)\n",
    "frame_dist = dict(bus_frame[bus_frame.genderize.isin(['male', 'female'])].genderize.value_counts(normalize=True))\n",
    "resp_dist = dict(df[completed_first_part & business_faculty].gender_ans.value_counts(normalize=True))                \n",
    "\n",
    "print(frame_dist)\n",
    "print(resp_dist)\n",
    "\n",
    "obs = np.array([[len(bus_frame[bus_frame.genderize == 'male']), \n",
    "                 len(bus_frame[bus_frame.genderize == 'female'])], \n",
    "                [len(df[completed_first_part & business_faculty & (df.gender_ans == 2)]), \n",
    "                 len(df[completed_first_part & business_faculty & (df.gender_ans == 1)])]])\n",
    "\n",
    "print(stats.chi2_contingency(obs, correction=False))"
   ]
  },
  {
   "cell_type": "code",
   "execution_count": 61,
   "metadata": {},
   "outputs": [
    {
     "name": "stdout",
     "output_type": "stream",
     "text": [
      "{'Full Professor': 0.41697747277338504, 'Assistant Professor': 0.3044905266298672, 'Associate Professor': 0.2785320005967477}\n",
      "{3.0: 0.4173076923076923, 1.0: 0.2971153846153846, 2.0: 0.25769230769230766, 4.0: 0.027884615384615386}\n",
      "0.8953628805989438 0.6391082457382842 2 [[2805.80593726 1855.18602541 2042.00803733]\n",
      " [ 423.19406274  279.81397459  307.99196267]]\n"
     ]
    }
   ],
   "source": [
    "# Rank -- 3: full professor, 2: associate professor, 1: full professor\n",
    "tt_keys = ['Full Professor', 'Associate Professor', 'Assistant Professor']\n",
    "\n",
    "frame_dist = dict(bus_frame[bus_frame.u_factitle.isin(tt_keys)].u_factitle.value_counts(normalize=False))\n",
    "resp_dist = dict(df[completed_first_part & business_faculty].curtitle.value_counts(normalize=False))\n",
    "\n",
    "print(dict(bus_frame[bus_frame.u_factitle.isin(tt_keys)].u_factitle.value_counts(normalize=True))) # Frame\n",
    "print(dict(df[completed_first_part & business_faculty].curtitle.value_counts(normalize=True))) # Responses\n",
    "\n",
    "obs = np.array([[frame_dist['Full Professor'], \n",
    "                 frame_dist['Associate Professor'], \n",
    "                 frame_dist['Assistant Professor']],\n",
    "                  [resp_dist[3.0],  resp_dist[2.0],  resp_dist[1.0]]])\n",
    "\n",
    "chi2, p, dof, expected = chi2_contingency(obs, correction = False)\n",
    "print(chi2, p, dof, expected)"
   ]
  },
  {
   "cell_type": "code",
   "execution_count": 62,
   "metadata": {},
   "outputs": [
    {
     "name": "stdout",
     "output_type": "stream",
     "text": [
      "51.893656749555944 31.543476752759847\n",
      "51.35623915139826 31.256111132699516\n",
      "KstestResult(statistic=0.026035145444486502, pvalue=0.5443662725284539)\n"
     ]
    }
   ],
   "source": [
    "print(bus_frame.prestige_inv.mean(), bus_frame.prestige_inv.std())\n",
    "print(df[completed_first_part & business_faculty].prestige_inv.mean(), \n",
    "      df[completed_first_part & business_faculty].prestige_inv.std())\n",
    "\n",
    "print(ks_2samp(bus_frame.prestige_inv.dropna(), \n",
    "               df[completed_first_part & business_faculty].prestige_inv.dropna()))"
   ]
  },
  {
   "cell_type": "markdown",
   "metadata": {},
   "source": [
    "#### History"
   ]
  },
  {
   "cell_type": "code",
   "execution_count": 63,
   "metadata": {},
   "outputs": [],
   "source": [
    "history_faculty = (df.likely_department == \"History\")"
   ]
  },
  {
   "cell_type": "code",
   "execution_count": 64,
   "metadata": {},
   "outputs": [
    {
     "name": "stdout",
     "output_type": "stream",
     "text": [
      "{'male': 0.6265840608279358, 'female': 0.3734159391720642}\n",
      "{2: 0.5300668151447662, 1: 0.46547884187082406, 3: 0.0022271714922048997, 4: 0.0022271714922048997}\n",
      "(26.551482902219266, 2.5660767394421224e-07, 1, array([[2157.76175478, 1393.23824522],\n",
      "       [ 543.23824522,  350.76175478]]))\n"
     ]
    }
   ],
   "source": [
    "# Gender -- M (2) / F (1)\n",
    "frame_dist = dict(his_frame[his_frame.genderize.isin(['male', 'female'])].genderize.value_counts(normalize=True))\n",
    "resp_dist = dict(df[completed_first_part & history_faculty].gender_ans.value_counts(normalize=True))                \n",
    "\n",
    "print(frame_dist)\n",
    "print(resp_dist)\n",
    "\n",
    "obs = np.array([[len(his_frame[his_frame.genderize == 'male']), \n",
    "                 len(his_frame[his_frame.genderize == 'female'])], \n",
    "                [len(df[completed_first_part & history_faculty & (df.gender_ans == 2)]), \n",
    "                 len(df[completed_first_part & history_faculty & (df.gender_ans == 1)])]])\n",
    "\n",
    "print(stats.chi2_contingency(obs, correction=False))"
   ]
  },
  {
   "cell_type": "code",
   "execution_count": 65,
   "metadata": {},
   "outputs": [
    {
     "name": "stdout",
     "output_type": "stream",
     "text": [
      "{'Full Professor': 0.4530141843971631, 'Associate Professor': 0.383274231678487, 'Assistant Professor': 0.16371158392434987}\n",
      "{3.0: 0.42761692650334077, 2.0: 0.3841870824053452, 1.0: 0.16369710467706014, 4.0: 0.024498886414253896}\n",
      "0.6045916712909183 0.7391193746856666 2 [[1522.8        1304.34929577  556.85070423]\n",
      " [ 394.2         337.65070423  144.14929577]]\n"
     ]
    }
   ],
   "source": [
    "# Rank -- 3: full professor, 2: associate professor, 1: full professor\n",
    "tt_keys = ['Full Professor', 'Associate Professor', 'Assistant Professor']\n",
    "\n",
    "frame_dist = dict(his_frame[his_frame.u_factitle.isin(tt_keys)].u_factitle.value_counts(normalize=False))\n",
    "resp_dist = dict(df[completed_first_part & history_faculty].curtitle.value_counts(normalize=False))\n",
    "\n",
    "print(dict(his_frame[his_frame.u_factitle.isin(tt_keys)].u_factitle.value_counts(normalize=True))) # Frame\n",
    "print(dict(df[completed_first_part & history_faculty].curtitle.value_counts(normalize=True))) # Responses\n",
    "\n",
    "obs = np.array([[frame_dist['Full Professor'], frame_dist['Associate Professor'], frame_dist['Assistant Professor']],\n",
    "                  [resp_dist[3.0],  resp_dist[2.0],  resp_dist[1.0]]])\n",
    "\n",
    "chi2, p, dof, expected = chi2_contingency(obs, correction = False)\n",
    "print(chi2, p, dof, expected)"
   ]
  },
  {
   "cell_type": "code",
   "execution_count": 66,
   "metadata": {},
   "outputs": [
    {
     "name": "stdout",
     "output_type": "stream",
     "text": [
      "62.31507204610951 39.16652779558621\n",
      "66.71326280623609 38.45489621286801\n",
      "KstestResult(statistic=0.07017194790857685, pvalue=0.0013065833618075562)\n"
     ]
    }
   ],
   "source": [
    "print(his_frame.prestige_inv.mean(), his_frame.prestige_inv.std())\n",
    "print(df[completed_first_part & history_faculty].prestige_inv.mean(), \n",
    "      df[completed_first_part & history_faculty].prestige_inv.std())\n",
    "\n",
    "print(ks_2samp(his_frame.prestige_inv.dropna(), \n",
    "               df[completed_first_part & history_faculty].prestige_inv.dropna()))"
   ]
  },
  {
   "cell_type": "markdown",
   "metadata": {},
   "source": [
    "## Racial demographics"
   ]
  },
  {
   "cell_type": "code",
   "execution_count": 67,
   "metadata": {},
   "outputs": [
    {
     "data": {
      "text/html": [
       "<div>\n",
       "<style scoped>\n",
       "    .dataframe tbody tr th:only-of-type {\n",
       "        vertical-align: middle;\n",
       "    }\n",
       "\n",
       "    .dataframe tbody tr th {\n",
       "        vertical-align: top;\n",
       "    }\n",
       "\n",
       "    .dataframe thead th {\n",
       "        text-align: right;\n",
       "    }\n",
       "</style>\n",
       "<table border=\"1\" class=\"dataframe\">\n",
       "  <thead>\n",
       "    <tr style=\"text-align: right;\">\n",
       "      <th></th>\n",
       "      <th>white</th>\n",
       "      <th>hisp</th>\n",
       "      <th>black</th>\n",
       "      <th>asian</th>\n",
       "      <th>native</th>\n",
       "      <th>hawaii</th>\n",
       "      <th>otherace</th>\n",
       "      <th>narace</th>\n",
       "    </tr>\n",
       "  </thead>\n",
       "  <tbody>\n",
       "    <tr>\n",
       "      <th>count</th>\n",
       "      <td>1139.000000</td>\n",
       "      <td>1139.000000</td>\n",
       "      <td>1139.000000</td>\n",
       "      <td>1139.000000</td>\n",
       "      <td>1139.000000</td>\n",
       "      <td>1139.000000</td>\n",
       "      <td>1139.000000</td>\n",
       "      <td>1139.000000</td>\n",
       "    </tr>\n",
       "    <tr>\n",
       "      <th>mean</th>\n",
       "      <td>0.716418</td>\n",
       "      <td>0.022827</td>\n",
       "      <td>0.015803</td>\n",
       "      <td>0.204565</td>\n",
       "      <td>0.004390</td>\n",
       "      <td>0.000878</td>\n",
       "      <td>0.023705</td>\n",
       "      <td>0.040386</td>\n",
       "    </tr>\n",
       "    <tr>\n",
       "      <th>std</th>\n",
       "      <td>0.450934</td>\n",
       "      <td>0.149417</td>\n",
       "      <td>0.124769</td>\n",
       "      <td>0.403561</td>\n",
       "      <td>0.066139</td>\n",
       "      <td>0.029630</td>\n",
       "      <td>0.152195</td>\n",
       "      <td>0.196950</td>\n",
       "    </tr>\n",
       "    <tr>\n",
       "      <th>min</th>\n",
       "      <td>0.000000</td>\n",
       "      <td>0.000000</td>\n",
       "      <td>0.000000</td>\n",
       "      <td>0.000000</td>\n",
       "      <td>0.000000</td>\n",
       "      <td>0.000000</td>\n",
       "      <td>0.000000</td>\n",
       "      <td>0.000000</td>\n",
       "    </tr>\n",
       "    <tr>\n",
       "      <th>25%</th>\n",
       "      <td>0.000000</td>\n",
       "      <td>0.000000</td>\n",
       "      <td>0.000000</td>\n",
       "      <td>0.000000</td>\n",
       "      <td>0.000000</td>\n",
       "      <td>0.000000</td>\n",
       "      <td>0.000000</td>\n",
       "      <td>0.000000</td>\n",
       "    </tr>\n",
       "    <tr>\n",
       "      <th>50%</th>\n",
       "      <td>1.000000</td>\n",
       "      <td>0.000000</td>\n",
       "      <td>0.000000</td>\n",
       "      <td>0.000000</td>\n",
       "      <td>0.000000</td>\n",
       "      <td>0.000000</td>\n",
       "      <td>0.000000</td>\n",
       "      <td>0.000000</td>\n",
       "    </tr>\n",
       "    <tr>\n",
       "      <th>75%</th>\n",
       "      <td>1.000000</td>\n",
       "      <td>0.000000</td>\n",
       "      <td>0.000000</td>\n",
       "      <td>0.000000</td>\n",
       "      <td>0.000000</td>\n",
       "      <td>0.000000</td>\n",
       "      <td>0.000000</td>\n",
       "      <td>0.000000</td>\n",
       "    </tr>\n",
       "    <tr>\n",
       "      <th>max</th>\n",
       "      <td>1.000000</td>\n",
       "      <td>1.000000</td>\n",
       "      <td>1.000000</td>\n",
       "      <td>1.000000</td>\n",
       "      <td>1.000000</td>\n",
       "      <td>1.000000</td>\n",
       "      <td>1.000000</td>\n",
       "      <td>1.000000</td>\n",
       "    </tr>\n",
       "  </tbody>\n",
       "</table>\n",
       "</div>"
      ],
      "text/plain": [
       "             white         hisp        black        asian       native  \\\n",
       "count  1139.000000  1139.000000  1139.000000  1139.000000  1139.000000   \n",
       "mean      0.716418     0.022827     0.015803     0.204565     0.004390   \n",
       "std       0.450934     0.149417     0.124769     0.403561     0.066139   \n",
       "min       0.000000     0.000000     0.000000     0.000000     0.000000   \n",
       "25%       0.000000     0.000000     0.000000     0.000000     0.000000   \n",
       "50%       1.000000     0.000000     0.000000     0.000000     0.000000   \n",
       "75%       1.000000     0.000000     0.000000     0.000000     0.000000   \n",
       "max       1.000000     1.000000     1.000000     1.000000     1.000000   \n",
       "\n",
       "            hawaii     otherace       narace  \n",
       "count  1139.000000  1139.000000  1139.000000  \n",
       "mean      0.000878     0.023705     0.040386  \n",
       "std       0.029630     0.152195     0.196950  \n",
       "min       0.000000     0.000000     0.000000  \n",
       "25%       0.000000     0.000000     0.000000  \n",
       "50%       0.000000     0.000000     0.000000  \n",
       "75%       0.000000     0.000000     0.000000  \n",
       "max       1.000000     1.000000     1.000000  "
      ]
     },
     "execution_count": 67,
     "metadata": {},
     "output_type": "execute_result"
    }
   ],
   "source": [
    "cs_racial_demographics = df[df.likely_department == \"Computer Science\"][['white', 'hisp', 'black', 'asian', 'native', \n",
    "                          'hawaii', 'otherace', 'narace']].replace(-77, np.nan)\n",
    "cs_racial_demographics.describe()"
   ]
  },
  {
   "cell_type": "code",
   "execution_count": 68,
   "metadata": {},
   "outputs": [
    {
     "data": {
      "text/html": [
       "<div>\n",
       "<style scoped>\n",
       "    .dataframe tbody tr th:only-of-type {\n",
       "        vertical-align: middle;\n",
       "    }\n",
       "\n",
       "    .dataframe tbody tr th {\n",
       "        vertical-align: top;\n",
       "    }\n",
       "\n",
       "    .dataframe thead th {\n",
       "        text-align: right;\n",
       "    }\n",
       "</style>\n",
       "<table border=\"1\" class=\"dataframe\">\n",
       "  <thead>\n",
       "    <tr style=\"text-align: right;\">\n",
       "      <th></th>\n",
       "      <th>white</th>\n",
       "      <th>hisp</th>\n",
       "      <th>black</th>\n",
       "      <th>asian</th>\n",
       "      <th>native</th>\n",
       "      <th>hawaii</th>\n",
       "      <th>otherace</th>\n",
       "      <th>narace</th>\n",
       "    </tr>\n",
       "  </thead>\n",
       "  <tbody>\n",
       "    <tr>\n",
       "      <th>count</th>\n",
       "      <td>1068.000000</td>\n",
       "      <td>1068.000000</td>\n",
       "      <td>1068.000000</td>\n",
       "      <td>1068.000000</td>\n",
       "      <td>1068.000000</td>\n",
       "      <td>1068.000000</td>\n",
       "      <td>1068.000000</td>\n",
       "      <td>1068.000000</td>\n",
       "    </tr>\n",
       "    <tr>\n",
       "      <th>mean</th>\n",
       "      <td>0.794007</td>\n",
       "      <td>0.034644</td>\n",
       "      <td>0.029026</td>\n",
       "      <td>0.117978</td>\n",
       "      <td>0.003745</td>\n",
       "      <td>0.000936</td>\n",
       "      <td>0.012172</td>\n",
       "      <td>0.020599</td>\n",
       "    </tr>\n",
       "    <tr>\n",
       "      <th>std</th>\n",
       "      <td>0.404614</td>\n",
       "      <td>0.182963</td>\n",
       "      <td>0.167959</td>\n",
       "      <td>0.322733</td>\n",
       "      <td>0.061113</td>\n",
       "      <td>0.030600</td>\n",
       "      <td>0.109706</td>\n",
       "      <td>0.142105</td>\n",
       "    </tr>\n",
       "    <tr>\n",
       "      <th>min</th>\n",
       "      <td>0.000000</td>\n",
       "      <td>0.000000</td>\n",
       "      <td>0.000000</td>\n",
       "      <td>0.000000</td>\n",
       "      <td>0.000000</td>\n",
       "      <td>0.000000</td>\n",
       "      <td>0.000000</td>\n",
       "      <td>0.000000</td>\n",
       "    </tr>\n",
       "    <tr>\n",
       "      <th>25%</th>\n",
       "      <td>1.000000</td>\n",
       "      <td>0.000000</td>\n",
       "      <td>0.000000</td>\n",
       "      <td>0.000000</td>\n",
       "      <td>0.000000</td>\n",
       "      <td>0.000000</td>\n",
       "      <td>0.000000</td>\n",
       "      <td>0.000000</td>\n",
       "    </tr>\n",
       "    <tr>\n",
       "      <th>50%</th>\n",
       "      <td>1.000000</td>\n",
       "      <td>0.000000</td>\n",
       "      <td>0.000000</td>\n",
       "      <td>0.000000</td>\n",
       "      <td>0.000000</td>\n",
       "      <td>0.000000</td>\n",
       "      <td>0.000000</td>\n",
       "      <td>0.000000</td>\n",
       "    </tr>\n",
       "    <tr>\n",
       "      <th>75%</th>\n",
       "      <td>1.000000</td>\n",
       "      <td>0.000000</td>\n",
       "      <td>0.000000</td>\n",
       "      <td>0.000000</td>\n",
       "      <td>0.000000</td>\n",
       "      <td>0.000000</td>\n",
       "      <td>0.000000</td>\n",
       "      <td>0.000000</td>\n",
       "    </tr>\n",
       "    <tr>\n",
       "      <th>max</th>\n",
       "      <td>1.000000</td>\n",
       "      <td>1.000000</td>\n",
       "      <td>1.000000</td>\n",
       "      <td>1.000000</td>\n",
       "      <td>1.000000</td>\n",
       "      <td>1.000000</td>\n",
       "      <td>1.000000</td>\n",
       "      <td>1.000000</td>\n",
       "    </tr>\n",
       "  </tbody>\n",
       "</table>\n",
       "</div>"
      ],
      "text/plain": [
       "             white         hisp        black        asian       native  \\\n",
       "count  1068.000000  1068.000000  1068.000000  1068.000000  1068.000000   \n",
       "mean      0.794007     0.034644     0.029026     0.117978     0.003745   \n",
       "std       0.404614     0.182963     0.167959     0.322733     0.061113   \n",
       "min       0.000000     0.000000     0.000000     0.000000     0.000000   \n",
       "25%       1.000000     0.000000     0.000000     0.000000     0.000000   \n",
       "50%       1.000000     0.000000     0.000000     0.000000     0.000000   \n",
       "75%       1.000000     0.000000     0.000000     0.000000     0.000000   \n",
       "max       1.000000     1.000000     1.000000     1.000000     1.000000   \n",
       "\n",
       "            hawaii     otherace       narace  \n",
       "count  1068.000000  1068.000000  1068.000000  \n",
       "mean      0.000936     0.012172     0.020599  \n",
       "std       0.030600     0.109706     0.142105  \n",
       "min       0.000000     0.000000     0.000000  \n",
       "25%       0.000000     0.000000     0.000000  \n",
       "50%       0.000000     0.000000     0.000000  \n",
       "75%       0.000000     0.000000     0.000000  \n",
       "max       1.000000     1.000000     1.000000  "
      ]
     },
     "execution_count": 68,
     "metadata": {},
     "output_type": "execute_result"
    }
   ],
   "source": [
    "bus_racial_demographics = df[df.likely_department == \"Business\"][['white', 'hisp', 'black', 'asian', 'native', \n",
    "                          'hawaii', 'otherace', 'narace']].replace(-77, np.nan)\n",
    "bus_racial_demographics.describe()"
   ]
  },
  {
   "cell_type": "code",
   "execution_count": 69,
   "metadata": {},
   "outputs": [
    {
     "data": {
      "text/html": [
       "<div>\n",
       "<style scoped>\n",
       "    .dataframe tbody tr th:only-of-type {\n",
       "        vertical-align: middle;\n",
       "    }\n",
       "\n",
       "    .dataframe tbody tr th {\n",
       "        vertical-align: top;\n",
       "    }\n",
       "\n",
       "    .dataframe thead th {\n",
       "        text-align: right;\n",
       "    }\n",
       "</style>\n",
       "<table border=\"1\" class=\"dataframe\">\n",
       "  <thead>\n",
       "    <tr style=\"text-align: right;\">\n",
       "      <th></th>\n",
       "      <th>white</th>\n",
       "      <th>hisp</th>\n",
       "      <th>black</th>\n",
       "      <th>asian</th>\n",
       "      <th>native</th>\n",
       "      <th>hawaii</th>\n",
       "      <th>otherace</th>\n",
       "      <th>narace</th>\n",
       "    </tr>\n",
       "  </thead>\n",
       "  <tbody>\n",
       "    <tr>\n",
       "      <th>count</th>\n",
       "      <td>900.000000</td>\n",
       "      <td>900.000000</td>\n",
       "      <td>900.000000</td>\n",
       "      <td>900.000000</td>\n",
       "      <td>900.000000</td>\n",
       "      <td>900.000000</td>\n",
       "      <td>900.000000</td>\n",
       "      <td>900.000000</td>\n",
       "    </tr>\n",
       "    <tr>\n",
       "      <th>mean</th>\n",
       "      <td>0.842222</td>\n",
       "      <td>0.055556</td>\n",
       "      <td>0.037778</td>\n",
       "      <td>0.050000</td>\n",
       "      <td>0.007778</td>\n",
       "      <td>0.002222</td>\n",
       "      <td>0.016667</td>\n",
       "      <td>0.030000</td>\n",
       "    </tr>\n",
       "    <tr>\n",
       "      <th>std</th>\n",
       "      <td>0.364735</td>\n",
       "      <td>0.229189</td>\n",
       "      <td>0.190764</td>\n",
       "      <td>0.218066</td>\n",
       "      <td>0.087897</td>\n",
       "      <td>0.047114</td>\n",
       "      <td>0.128090</td>\n",
       "      <td>0.170682</td>\n",
       "    </tr>\n",
       "    <tr>\n",
       "      <th>min</th>\n",
       "      <td>0.000000</td>\n",
       "      <td>0.000000</td>\n",
       "      <td>0.000000</td>\n",
       "      <td>0.000000</td>\n",
       "      <td>0.000000</td>\n",
       "      <td>0.000000</td>\n",
       "      <td>0.000000</td>\n",
       "      <td>0.000000</td>\n",
       "    </tr>\n",
       "    <tr>\n",
       "      <th>25%</th>\n",
       "      <td>1.000000</td>\n",
       "      <td>0.000000</td>\n",
       "      <td>0.000000</td>\n",
       "      <td>0.000000</td>\n",
       "      <td>0.000000</td>\n",
       "      <td>0.000000</td>\n",
       "      <td>0.000000</td>\n",
       "      <td>0.000000</td>\n",
       "    </tr>\n",
       "    <tr>\n",
       "      <th>50%</th>\n",
       "      <td>1.000000</td>\n",
       "      <td>0.000000</td>\n",
       "      <td>0.000000</td>\n",
       "      <td>0.000000</td>\n",
       "      <td>0.000000</td>\n",
       "      <td>0.000000</td>\n",
       "      <td>0.000000</td>\n",
       "      <td>0.000000</td>\n",
       "    </tr>\n",
       "    <tr>\n",
       "      <th>75%</th>\n",
       "      <td>1.000000</td>\n",
       "      <td>0.000000</td>\n",
       "      <td>0.000000</td>\n",
       "      <td>0.000000</td>\n",
       "      <td>0.000000</td>\n",
       "      <td>0.000000</td>\n",
       "      <td>0.000000</td>\n",
       "      <td>0.000000</td>\n",
       "    </tr>\n",
       "    <tr>\n",
       "      <th>max</th>\n",
       "      <td>1.000000</td>\n",
       "      <td>1.000000</td>\n",
       "      <td>1.000000</td>\n",
       "      <td>1.000000</td>\n",
       "      <td>1.000000</td>\n",
       "      <td>1.000000</td>\n",
       "      <td>1.000000</td>\n",
       "      <td>1.000000</td>\n",
       "    </tr>\n",
       "  </tbody>\n",
       "</table>\n",
       "</div>"
      ],
      "text/plain": [
       "            white        hisp       black       asian      native      hawaii  \\\n",
       "count  900.000000  900.000000  900.000000  900.000000  900.000000  900.000000   \n",
       "mean     0.842222    0.055556    0.037778    0.050000    0.007778    0.002222   \n",
       "std      0.364735    0.229189    0.190764    0.218066    0.087897    0.047114   \n",
       "min      0.000000    0.000000    0.000000    0.000000    0.000000    0.000000   \n",
       "25%      1.000000    0.000000    0.000000    0.000000    0.000000    0.000000   \n",
       "50%      1.000000    0.000000    0.000000    0.000000    0.000000    0.000000   \n",
       "75%      1.000000    0.000000    0.000000    0.000000    0.000000    0.000000   \n",
       "max      1.000000    1.000000    1.000000    1.000000    1.000000    1.000000   \n",
       "\n",
       "         otherace      narace  \n",
       "count  900.000000  900.000000  \n",
       "mean     0.016667    0.030000  \n",
       "std      0.128090    0.170682  \n",
       "min      0.000000    0.000000  \n",
       "25%      0.000000    0.000000  \n",
       "50%      0.000000    0.000000  \n",
       "75%      0.000000    0.000000  \n",
       "max      1.000000    1.000000  "
      ]
     },
     "execution_count": 69,
     "metadata": {},
     "output_type": "execute_result"
    }
   ],
   "source": [
    "his_racial_demographics = df[df.likely_department == \"History\"][['white', 'hisp', 'black', 'asian', 'native', \n",
    "                          'hawaii', 'otherace', 'narace']].replace(-77, np.nan)\n",
    "his_racial_demographics.describe()"
   ]
  },
  {
   "cell_type": "code",
   "execution_count": 70,
   "metadata": {},
   "outputs": [
    {
     "data": {
      "text/html": [
       "<div>\n",
       "<style scoped>\n",
       "    .dataframe tbody tr th:only-of-type {\n",
       "        vertical-align: middle;\n",
       "    }\n",
       "\n",
       "    .dataframe tbody tr th {\n",
       "        vertical-align: top;\n",
       "    }\n",
       "\n",
       "    .dataframe thead th {\n",
       "        text-align: right;\n",
       "    }\n",
       "</style>\n",
       "<table border=\"1\" class=\"dataframe\">\n",
       "  <thead>\n",
       "    <tr style=\"text-align: right;\">\n",
       "      <th></th>\n",
       "      <th>white</th>\n",
       "      <th>hisp</th>\n",
       "      <th>black</th>\n",
       "      <th>asian</th>\n",
       "      <th>native</th>\n",
       "      <th>hawaii</th>\n",
       "      <th>otherace</th>\n",
       "      <th>narace</th>\n",
       "    </tr>\n",
       "  </thead>\n",
       "  <tbody>\n",
       "    <tr>\n",
       "      <th>count</th>\n",
       "      <td>3107.00000</td>\n",
       "      <td>3107.000000</td>\n",
       "      <td>3107.000000</td>\n",
       "      <td>3107.000000</td>\n",
       "      <td>3107.000000</td>\n",
       "      <td>3107.000000</td>\n",
       "      <td>3107.000000</td>\n",
       "      <td>3107.000000</td>\n",
       "    </tr>\n",
       "    <tr>\n",
       "      <th>mean</th>\n",
       "      <td>0.77953</td>\n",
       "      <td>0.036369</td>\n",
       "      <td>0.026714</td>\n",
       "      <td>0.130029</td>\n",
       "      <td>0.005150</td>\n",
       "      <td>0.001287</td>\n",
       "      <td>0.017702</td>\n",
       "      <td>0.030576</td>\n",
       "    </tr>\n",
       "    <tr>\n",
       "      <th>std</th>\n",
       "      <td>0.41463</td>\n",
       "      <td>0.187238</td>\n",
       "      <td>0.161272</td>\n",
       "      <td>0.336389</td>\n",
       "      <td>0.071588</td>\n",
       "      <td>0.035863</td>\n",
       "      <td>0.131887</td>\n",
       "      <td>0.172194</td>\n",
       "    </tr>\n",
       "    <tr>\n",
       "      <th>min</th>\n",
       "      <td>0.00000</td>\n",
       "      <td>0.000000</td>\n",
       "      <td>0.000000</td>\n",
       "      <td>0.000000</td>\n",
       "      <td>0.000000</td>\n",
       "      <td>0.000000</td>\n",
       "      <td>0.000000</td>\n",
       "      <td>0.000000</td>\n",
       "    </tr>\n",
       "    <tr>\n",
       "      <th>25%</th>\n",
       "      <td>1.00000</td>\n",
       "      <td>0.000000</td>\n",
       "      <td>0.000000</td>\n",
       "      <td>0.000000</td>\n",
       "      <td>0.000000</td>\n",
       "      <td>0.000000</td>\n",
       "      <td>0.000000</td>\n",
       "      <td>0.000000</td>\n",
       "    </tr>\n",
       "    <tr>\n",
       "      <th>50%</th>\n",
       "      <td>1.00000</td>\n",
       "      <td>0.000000</td>\n",
       "      <td>0.000000</td>\n",
       "      <td>0.000000</td>\n",
       "      <td>0.000000</td>\n",
       "      <td>0.000000</td>\n",
       "      <td>0.000000</td>\n",
       "      <td>0.000000</td>\n",
       "    </tr>\n",
       "    <tr>\n",
       "      <th>75%</th>\n",
       "      <td>1.00000</td>\n",
       "      <td>0.000000</td>\n",
       "      <td>0.000000</td>\n",
       "      <td>0.000000</td>\n",
       "      <td>0.000000</td>\n",
       "      <td>0.000000</td>\n",
       "      <td>0.000000</td>\n",
       "      <td>0.000000</td>\n",
       "    </tr>\n",
       "    <tr>\n",
       "      <th>max</th>\n",
       "      <td>1.00000</td>\n",
       "      <td>1.000000</td>\n",
       "      <td>1.000000</td>\n",
       "      <td>1.000000</td>\n",
       "      <td>1.000000</td>\n",
       "      <td>1.000000</td>\n",
       "      <td>1.000000</td>\n",
       "      <td>1.000000</td>\n",
       "    </tr>\n",
       "  </tbody>\n",
       "</table>\n",
       "</div>"
      ],
      "text/plain": [
       "            white         hisp        black        asian       native  \\\n",
       "count  3107.00000  3107.000000  3107.000000  3107.000000  3107.000000   \n",
       "mean      0.77953     0.036369     0.026714     0.130029     0.005150   \n",
       "std       0.41463     0.187238     0.161272     0.336389     0.071588   \n",
       "min       0.00000     0.000000     0.000000     0.000000     0.000000   \n",
       "25%       1.00000     0.000000     0.000000     0.000000     0.000000   \n",
       "50%       1.00000     0.000000     0.000000     0.000000     0.000000   \n",
       "75%       1.00000     0.000000     0.000000     0.000000     0.000000   \n",
       "max       1.00000     1.000000     1.000000     1.000000     1.000000   \n",
       "\n",
       "            hawaii     otherace       narace  \n",
       "count  3107.000000  3107.000000  3107.000000  \n",
       "mean      0.001287     0.017702     0.030576  \n",
       "std       0.035863     0.131887     0.172194  \n",
       "min       0.000000     0.000000     0.000000  \n",
       "25%       0.000000     0.000000     0.000000  \n",
       "50%       0.000000     0.000000     0.000000  \n",
       "75%       0.000000     0.000000     0.000000  \n",
       "max       1.000000     1.000000     1.000000  "
      ]
     },
     "execution_count": 70,
     "metadata": {},
     "output_type": "execute_result"
    }
   ],
   "source": [
    "df[['white', 'hisp', 'black', 'asian', 'native', 'hawaii', \n",
    "    'otherace', 'narace']].replace(-77, np.nan).describe()"
   ]
  },
  {
   "cell_type": "markdown",
   "metadata": {},
   "source": [
    "## Representativeness among those that had publications"
   ]
  },
  {
   "cell_type": "code",
   "execution_count": 71,
   "metadata": {},
   "outputs": [
    {
     "name": "stdout",
     "output_type": "stream",
     "text": [
      "Computer Science\n",
      "Gender:\n",
      "{'male': 0.8545497969906855, 'female': 0.14545020300931455}\n",
      "{2: 0.7874165872259294, 1: 0.2049571020019066, 4: 0.00667302192564347, 3: 0.0009532888465204957}\n",
      "(23.168262192437027, 1.4842688215887199e-06, 1, array([[3527.32734226,  659.67265774],\n",
      "       [ 878.67265774,  164.32734226]]))\n",
      "\n",
      "Rank:\n",
      "{3: 0.5029887482419128, 2: 0.26828410689170185, 1: 0.22872714486638537}\n",
      "{3.0: 0.45948522402287895, 1.0: 0.30409914204003813, 2.0: 0.23641563393708293}\n",
      "27.717575077545355 9.576461037371376e-07 2 [[2822.47053585 1497.77527089 1367.75419326]\n",
      " [ 520.52946415  276.22472911  252.24580674]]\n",
      "\n",
      "Prestige:\n",
      "86.52224352331606 54.10902176186857\n",
      "86.33170801526718 53.49335824345852\n",
      "KstestResult(statistic=0.026208775588345008, pvalue=0.5638399100372817)\n"
     ]
    }
   ],
   "source": [
    "print('Computer Science')\n",
    "frame_dist = dict(cs_frame[cs_frame.genderize.isin(['male', 'female'])].genderize.value_counts(normalize=True))\n",
    "resp_dist = dict(df[(df.likely_department == \"Computer Science\") & completed_first_part & \n",
    "                    (df.dblp_pubs.notna())].gender_ans.value_counts(normalize=True))                \n",
    "print('Gender:')\n",
    "print(frame_dist)\n",
    "print(resp_dist)\n",
    "\n",
    "# \n",
    "obs = np.array([[len(cs_frame[cs_frame.genderize == 'male']), \n",
    "                 len(cs_frame[cs_frame.genderize == 'female'])], \n",
    "                [len(df[(df.likely_department == \"Computer Science\") & \n",
    "                    (df.dblp_pubs.notna()) & (df.gender_ans == 2)]), \n",
    "                 len(df[(df.likely_department == \"Computer Science\") & \n",
    "                    (df.dblp_pubs.notna()) & (df.gender_ans == 1)])]])\n",
    "\n",
    "print(stats.chi2_contingency(obs, correction=False))\n",
    "\n",
    "print('\\nRank:')\n",
    "# Rank -- 3: full professor, 2: associate professor, 1: full professor\n",
    "frame_dist = dict(cs_frame[cs_frame.factitle.isin([1, 2, 3])].factitle.value_counts(normalize=False))\n",
    "resp_dist = dict(df[(df.likely_department == \"Computer Science\") & completed_first_part &\n",
    "                    (df.dblp_pubs.notna())].factitle.value_counts(normalize=False))\n",
    "\n",
    "print(dict(cs_frame[cs_frame.factitle.isin([1, 2, 3])].factitle.value_counts(normalize=True))) # Frame\n",
    "print(dict(df[(df.likely_department == \"Computer Science\") & completed_first_part &\n",
    "                    (df.dblp_pubs.notna())].factitle.value_counts(normalize=True))) # Responses\n",
    "\n",
    "obs = np.array([[frame_dist[3], frame_dist[2], frame_dist[1]],\n",
    "                [resp_dist[3],  resp_dist[2],  resp_dist[1]]])\n",
    "\n",
    "chi2, p, dof, expected = chi2_contingency(obs, correction = False)\n",
    "print(chi2, p, dof, expected)\n",
    "\n",
    "print('\\nPrestige:')\n",
    "print(cs_frame.prestige.mean(), cs_frame.prestige.std())\n",
    "print(df[(df.likely_department == \"Computer Science\") & (df.dblp_pubs.notna()) \n",
    "         & completed_first_part].prestige_inv.mean(), \n",
    "      df[(df.likely_department == \"Computer Science\") & (df.dblp_pubs.notna()) \n",
    "         & completed_first_part].prestige_inv.std())\n",
    "\n",
    "print(ks_2samp(cs_frame.prestige.dropna(), \n",
    "               df[(df.likely_department == \"Computer Science\") &\n",
    "                  (df.dblp_pubs.notna()) & (df.gender_ans > 0)].prestige_inv.dropna()))"
   ]
  },
  {
   "cell_type": "code",
   "execution_count": 72,
   "metadata": {},
   "outputs": [
    {
     "name": "stdout",
     "output_type": "stream",
     "text": [
      "Business\n",
      "Gender:\n",
      "{'male': 0.7645220849311177, 'female': 0.23547791506888227}\n",
      "{2: 0.6724137931034483, 1: 0.3275862068965517}\n",
      "(22.223429568888612, 2.4269409016904657e-06, 1, array([[5338.46311475, 1702.53688525],\n",
      "       [ 396.53688525,  126.46311475]]))\n",
      "\n",
      "Rank:\n",
      "{'Full Professor': 0.41697747277338504, 'Assistant Professor': 0.3044905266298672, 'Associate Professor': 0.2785320005967477}\n",
      "{3.0: 0.4042145593869732, 1.0: 0.31992337164750956, 2.0: 0.25862068965517243, 4.0: 0.017241379310344827}\n",
      "1.132547308032424 0.5676367133736813 2 [[2792.29739468 1859.67378049 2051.02882483]\n",
      " [ 213.70260532  142.32621951  156.97117517]]\n",
      "\n",
      "Prestige:\n",
      "51.893656749555944 31.543476752759847\n",
      "45.003486590038314 29.49380223304564\n",
      "KstestResult(statistic=0.12250455959113397, pvalue=6.521539837045509e-07)\n"
     ]
    }
   ],
   "source": [
    "print('Business')\n",
    "frame_dist = dict(bus_frame[bus_frame.genderize.isin(['male', 'female'])].genderize.value_counts(normalize=True))\n",
    "resp_dist = dict(df[(df.likely_department == \"Business\") & \n",
    "                    completed_first_part & \n",
    "                    (df.dblp_pubs.notna())].gender_ans.value_counts(normalize=True))                \n",
    "print('Gender:')\n",
    "print(frame_dist)\n",
    "print(resp_dist)\n",
    "\n",
    "# \n",
    "obs = np.array([[len(bus_frame[bus_frame.genderize == 'male']), \n",
    "                 len(bus_frame[bus_frame.genderize == 'female'])], \n",
    "                [len(df[(df.likely_department == \"Business\") & \n",
    "                    (df.dblp_pubs.notna()) & (df.gender_ans == 2)]), \n",
    "                 len(df[(df.likely_department == \"Business\") & \n",
    "                    (df.dblp_pubs.notna()) & (df.gender_ans == 1)])]])\n",
    "\n",
    "print(stats.chi2_contingency(obs, correction=False))\n",
    "\n",
    "print('\\nRank:')\n",
    "# Rank -- 3: full professor, 2: associate professor, 1: full professor\n",
    "tt_keys = ['Full Professor', 'Associate Professor', 'Assistant Professor']\n",
    "frame_dist = dict(bus_frame[bus_frame.u_factitle.isin(tt_keys)].u_factitle.value_counts(normalize=False))\n",
    "resp_dist = dict(df[(df.likely_department == \"Business\") & completed_first_part &\n",
    "                    (df.dblp_pubs.notna())].curtitle.value_counts(normalize=False))\n",
    "\n",
    "print(dict(bus_frame[bus_frame.u_factitle.isin(tt_keys)].u_factitle.value_counts(normalize=True))) # Frame\n",
    "print(dict(df[(df.likely_department == \"Business\") & completed_first_part &\n",
    "                    (df.dblp_pubs.notna())].curtitle.value_counts(normalize=True))) # Responses\n",
    "\n",
    "obs = np.array([[frame_dist['Full Professor'], frame_dist['Associate Professor'], frame_dist['Assistant Professor']],\n",
    "                  [resp_dist[3.0],  resp_dist[2.0], resp_dist[1.0]]])\n",
    "\n",
    "chi2, p, dof, expected = chi2_contingency(obs, correction = False)\n",
    "print(chi2, p, dof, expected)\n",
    "\n",
    "print('\\nPrestige:')\n",
    "print(bus_frame.prestige_inv.mean(), bus_frame.prestige_inv.std())\n",
    "print(df[(df.likely_department == \"Business\") & (df.dblp_pubs.notna()) \n",
    "         & completed_first_part].prestige_inv.mean(), \n",
    "      df[(df.likely_department == \"Business\") & (df.dblp_pubs.notna()) \n",
    "         & completed_first_part].prestige_inv.std())\n",
    "\n",
    "print(ks_2samp(bus_frame.prestige_inv.dropna(), \n",
    "               df[(df.likely_department == \"Business\") & (df.dblp_pubs.notna()) \n",
    "                  & completed_first_part].prestige_inv.dropna()))"
   ]
  },
  {
   "cell_type": "code",
   "execution_count": 73,
   "metadata": {},
   "outputs": [
    {
     "name": "stdout",
     "output_type": "stream",
     "text": [
      "History\n",
      "Gender:\n",
      "{'male': 0.6265840608279358, 'female': 0.3734159391720642}\n",
      "{2: 0.5597269624573379, 1: 0.4402730375426621}\n",
      "(5.143012463005998, 0.02334011387943421, 1, array([[2206.90400624, 1344.09599376],\n",
      "       [ 182.09599376,  110.90400624]]))\n",
      "\n",
      "Rank:\n",
      "{'Full Professor': 0.4530141843971631, 'Associate Professor': 0.383274231678487, 'Assistant Professor': 0.16371158392434987}\n",
      "{3.0: 0.45733788395904434, 2.0: 0.3651877133105802, 1.0: 0.15017064846416384, 4.0: 0.027303754266211604}\n",
      "0.352821169940445 0.8382737300748013 2 [[1537.51103843 1294.94031071  551.54865086]\n",
      " [ 129.48896157  109.05968929   46.45134914]]\n",
      "\n",
      "Prestige:\n",
      "62.31507204610951 39.16652779558621\n",
      "62.146382252559725 37.99293120829963\n",
      "KstestResult(statistic=0.051096182785651756, pvalue=0.4563973254408068)\n"
     ]
    }
   ],
   "source": [
    "print('History')\n",
    "frame_dist = dict(his_frame[his_frame.genderize.isin(['male', 'female'])].genderize.value_counts(normalize=True))\n",
    "resp_dist = dict(df[(df.likely_department == \"History\") & \n",
    "                    completed_first_part & \n",
    "                    (df.dblp_pubs.notna())].gender_ans.value_counts(normalize=True))                \n",
    "print('Gender:')\n",
    "print(frame_dist)\n",
    "print(resp_dist)\n",
    "\n",
    "# \n",
    "obs = np.array([[len(his_frame[his_frame.genderize == 'male']), \n",
    "                 len(his_frame[his_frame.genderize == 'female'])], \n",
    "                [len(df[(df.likely_department == \"History\") & \n",
    "                    (df.dblp_pubs.notna()) & (df.gender_ans == 2)]), \n",
    "                 len(df[(df.likely_department == \"History\") & \n",
    "                    (df.dblp_pubs.notna()) & (df.gender_ans == 1)])]])\n",
    "\n",
    "print(stats.chi2_contingency(obs, correction=False))\n",
    "\n",
    "print('\\nRank:')\n",
    "# Rank -- 3: full professor, 2: associate professor, 1: full professor\n",
    "tt_keys = ['Full Professor', 'Associate Professor', 'Assistant Professor']\n",
    "frame_dist = dict(his_frame[his_frame.u_factitle.isin(tt_keys)].u_factitle.value_counts(normalize=False))\n",
    "resp_dist = dict(df[(df.likely_department == \"History\") & \n",
    "                    (df.dblp_pubs.notna()) & completed_first_part].curtitle.value_counts(normalize=False))\n",
    "\n",
    "print(dict(his_frame[his_frame.u_factitle.isin(tt_keys)].u_factitle.value_counts(normalize=True))) # Frame\n",
    "print(dict(df[(df.likely_department == \"History\") & \n",
    "              (df.dblp_pubs.notna()) & completed_first_part].curtitle.value_counts(normalize=True))) # Responses\n",
    "\n",
    "obs = np.array([[frame_dist['Full Professor'], frame_dist['Associate Professor'], frame_dist['Assistant Professor']],\n",
    "                  [resp_dist[3.0],  resp_dist[2.0], resp_dist[1.0]]])\n",
    "\n",
    "chi2, p, dof, expected = chi2_contingency(obs, correction = False)\n",
    "print(chi2, p, dof, expected)\n",
    "\n",
    "print('\\nPrestige:')\n",
    "print(his_frame.prestige_inv.mean(), his_frame.prestige_inv.std())\n",
    "print(df[(df.likely_department == \"History\") & (df.dblp_pubs.notna()) \n",
    "         & completed_first_part].prestige_inv.mean(), \n",
    "      df[(df.likely_department == \"History\") & (df.dblp_pubs.notna()) \n",
    "         & completed_first_part].prestige_inv.std())\n",
    "\n",
    "print(ks_2samp(his_frame.prestige_inv.dropna(), \n",
    "               df[(df.likely_department == \"History\") &\n",
    "                  (df.dblp_pubs.notna()) & completed_first_part].prestige_inv.dropna()))"
   ]
  },
  {
   "cell_type": "code",
   "execution_count": null,
   "metadata": {},
   "outputs": [],
   "source": []
  }
 ],
 "metadata": {
  "kernelspec": {
   "display_name": "Python 3",
   "language": "python",
   "name": "python3"
  },
  "language_info": {
   "codemirror_mode": {
    "name": "ipython",
    "version": 3
   },
   "file_extension": ".py",
   "mimetype": "text/x-python",
   "name": "python",
   "nbconvert_exporter": "python",
   "pygments_lexer": "ipython3",
   "version": "3.9.1"
  }
 },
 "nbformat": 4,
 "nbformat_minor": 2
}
